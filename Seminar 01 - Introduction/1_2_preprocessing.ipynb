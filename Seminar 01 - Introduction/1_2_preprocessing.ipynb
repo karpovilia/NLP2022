{
  "nbformat": 4,
  "nbformat_minor": 0,
  "metadata": {
    "colab": {
      "provenance": []
    },
    "kernelspec": {
      "display_name": "Python 3 (ipykernel)",
      "language": "python",
      "name": "python3"
    },
    "language_info": {
      "codemirror_mode": {
        "name": "ipython",
        "version": 3
      },
      "file_extension": ".py",
      "mimetype": "text/x-python",
      "name": "python",
      "nbconvert_exporter": "python",
      "pygments_lexer": "ipython3",
      "version": "3.8.6"
    },
    "widgets": {
      "application/vnd.jupyter.widget-state+json": {
        "7074d2d5d43a48dbaab5e7254f02c54d": {
          "model_module": "@jupyter-widgets/controls",
          "model_name": "HBoxModel",
          "model_module_version": "1.5.0",
          "state": {
            "_view_name": "HBoxView",
            "_dom_classes": [],
            "_model_name": "HBoxModel",
            "_view_module": "@jupyter-widgets/controls",
            "_model_module_version": "1.5.0",
            "_view_count": null,
            "_view_module_version": "1.5.0",
            "box_style": "",
            "layout": "IPY_MODEL_6bdfbcf3cd52425182476a25ff493ba0",
            "_model_module": "@jupyter-widgets/controls",
            "children": [
              "IPY_MODEL_bd652610a51a4737a5f412f113967716",
              "IPY_MODEL_857af05e786d465a863249578f902cf3",
              "IPY_MODEL_0aa562edbcfe49f38c44fe6713580a6c"
            ]
          }
        },
        "6bdfbcf3cd52425182476a25ff493ba0": {
          "model_module": "@jupyter-widgets/base",
          "model_name": "LayoutModel",
          "model_module_version": "1.2.0",
          "state": {
            "_view_name": "LayoutView",
            "grid_template_rows": null,
            "right": null,
            "justify_content": null,
            "_view_module": "@jupyter-widgets/base",
            "overflow": null,
            "_model_module_version": "1.2.0",
            "_view_count": null,
            "flex_flow": null,
            "width": null,
            "min_width": null,
            "border": null,
            "align_items": null,
            "bottom": null,
            "_model_module": "@jupyter-widgets/base",
            "top": null,
            "grid_column": null,
            "overflow_y": null,
            "overflow_x": null,
            "grid_auto_flow": null,
            "grid_area": null,
            "grid_template_columns": null,
            "flex": null,
            "_model_name": "LayoutModel",
            "justify_items": null,
            "grid_row": null,
            "max_height": null,
            "align_content": null,
            "visibility": null,
            "align_self": null,
            "height": null,
            "min_height": null,
            "padding": null,
            "grid_auto_rows": null,
            "grid_gap": null,
            "max_width": null,
            "order": null,
            "_view_module_version": "1.2.0",
            "grid_template_areas": null,
            "object_position": null,
            "object_fit": null,
            "grid_auto_columns": null,
            "margin": null,
            "display": null,
            "left": null
          }
        },
        "bd652610a51a4737a5f412f113967716": {
          "model_module": "@jupyter-widgets/controls",
          "model_name": "HTMLModel",
          "model_module_version": "1.5.0",
          "state": {
            "_view_name": "HTMLView",
            "style": "IPY_MODEL_b7eb54ccd06b46dd82f24014711b5f35",
            "_dom_classes": [],
            "description": "",
            "_model_name": "HTMLModel",
            "placeholder": "​",
            "_view_module": "@jupyter-widgets/controls",
            "_model_module_version": "1.5.0",
            "value": "100%",
            "_view_count": null,
            "_view_module_version": "1.5.0",
            "description_tooltip": null,
            "_model_module": "@jupyter-widgets/controls",
            "layout": "IPY_MODEL_02f0d0651ad14cd5a4789930250a6bc7"
          }
        },
        "857af05e786d465a863249578f902cf3": {
          "model_module": "@jupyter-widgets/controls",
          "model_name": "FloatProgressModel",
          "model_module_version": "1.5.0",
          "state": {
            "_view_name": "ProgressView",
            "style": "IPY_MODEL_406fb66ca477446584c8e2ab6734ab0a",
            "_dom_classes": [],
            "description": "",
            "_model_name": "FloatProgressModel",
            "bar_style": "success",
            "max": 200,
            "_view_module": "@jupyter-widgets/controls",
            "_model_module_version": "1.5.0",
            "value": 200,
            "_view_count": null,
            "_view_module_version": "1.5.0",
            "orientation": "horizontal",
            "min": 0,
            "description_tooltip": null,
            "_model_module": "@jupyter-widgets/controls",
            "layout": "IPY_MODEL_709bbd8b815841dcb51071c67f1b94ff"
          }
        },
        "0aa562edbcfe49f38c44fe6713580a6c": {
          "model_module": "@jupyter-widgets/controls",
          "model_name": "HTMLModel",
          "model_module_version": "1.5.0",
          "state": {
            "_view_name": "HTMLView",
            "style": "IPY_MODEL_53d2fe3d7e454cfb86de21c59521debe",
            "_dom_classes": [],
            "description": "",
            "_model_name": "HTMLModel",
            "placeholder": "​",
            "_view_module": "@jupyter-widgets/controls",
            "_model_module_version": "1.5.0",
            "value": " 200/200 [00:06&lt;00:00, 30.18it/s]",
            "_view_count": null,
            "_view_module_version": "1.5.0",
            "description_tooltip": null,
            "_model_module": "@jupyter-widgets/controls",
            "layout": "IPY_MODEL_92c542d8169b46439a6fb174e30122c8"
          }
        },
        "b7eb54ccd06b46dd82f24014711b5f35": {
          "model_module": "@jupyter-widgets/controls",
          "model_name": "DescriptionStyleModel",
          "model_module_version": "1.5.0",
          "state": {
            "_view_name": "StyleView",
            "_model_name": "DescriptionStyleModel",
            "description_width": "",
            "_view_module": "@jupyter-widgets/base",
            "_model_module_version": "1.5.0",
            "_view_count": null,
            "_view_module_version": "1.2.0",
            "_model_module": "@jupyter-widgets/controls"
          }
        },
        "02f0d0651ad14cd5a4789930250a6bc7": {
          "model_module": "@jupyter-widgets/base",
          "model_name": "LayoutModel",
          "model_module_version": "1.2.0",
          "state": {
            "_view_name": "LayoutView",
            "grid_template_rows": null,
            "right": null,
            "justify_content": null,
            "_view_module": "@jupyter-widgets/base",
            "overflow": null,
            "_model_module_version": "1.2.0",
            "_view_count": null,
            "flex_flow": null,
            "width": null,
            "min_width": null,
            "border": null,
            "align_items": null,
            "bottom": null,
            "_model_module": "@jupyter-widgets/base",
            "top": null,
            "grid_column": null,
            "overflow_y": null,
            "overflow_x": null,
            "grid_auto_flow": null,
            "grid_area": null,
            "grid_template_columns": null,
            "flex": null,
            "_model_name": "LayoutModel",
            "justify_items": null,
            "grid_row": null,
            "max_height": null,
            "align_content": null,
            "visibility": null,
            "align_self": null,
            "height": null,
            "min_height": null,
            "padding": null,
            "grid_auto_rows": null,
            "grid_gap": null,
            "max_width": null,
            "order": null,
            "_view_module_version": "1.2.0",
            "grid_template_areas": null,
            "object_position": null,
            "object_fit": null,
            "grid_auto_columns": null,
            "margin": null,
            "display": null,
            "left": null
          }
        },
        "406fb66ca477446584c8e2ab6734ab0a": {
          "model_module": "@jupyter-widgets/controls",
          "model_name": "ProgressStyleModel",
          "model_module_version": "1.5.0",
          "state": {
            "_view_name": "StyleView",
            "_model_name": "ProgressStyleModel",
            "description_width": "",
            "_view_module": "@jupyter-widgets/base",
            "_model_module_version": "1.5.0",
            "_view_count": null,
            "_view_module_version": "1.2.0",
            "bar_color": null,
            "_model_module": "@jupyter-widgets/controls"
          }
        },
        "709bbd8b815841dcb51071c67f1b94ff": {
          "model_module": "@jupyter-widgets/base",
          "model_name": "LayoutModel",
          "model_module_version": "1.2.0",
          "state": {
            "_view_name": "LayoutView",
            "grid_template_rows": null,
            "right": null,
            "justify_content": null,
            "_view_module": "@jupyter-widgets/base",
            "overflow": null,
            "_model_module_version": "1.2.0",
            "_view_count": null,
            "flex_flow": null,
            "width": null,
            "min_width": null,
            "border": null,
            "align_items": null,
            "bottom": null,
            "_model_module": "@jupyter-widgets/base",
            "top": null,
            "grid_column": null,
            "overflow_y": null,
            "overflow_x": null,
            "grid_auto_flow": null,
            "grid_area": null,
            "grid_template_columns": null,
            "flex": null,
            "_model_name": "LayoutModel",
            "justify_items": null,
            "grid_row": null,
            "max_height": null,
            "align_content": null,
            "visibility": null,
            "align_self": null,
            "height": null,
            "min_height": null,
            "padding": null,
            "grid_auto_rows": null,
            "grid_gap": null,
            "max_width": null,
            "order": null,
            "_view_module_version": "1.2.0",
            "grid_template_areas": null,
            "object_position": null,
            "object_fit": null,
            "grid_auto_columns": null,
            "margin": null,
            "display": null,
            "left": null
          }
        },
        "53d2fe3d7e454cfb86de21c59521debe": {
          "model_module": "@jupyter-widgets/controls",
          "model_name": "DescriptionStyleModel",
          "model_module_version": "1.5.0",
          "state": {
            "_view_name": "StyleView",
            "_model_name": "DescriptionStyleModel",
            "description_width": "",
            "_view_module": "@jupyter-widgets/base",
            "_model_module_version": "1.5.0",
            "_view_count": null,
            "_view_module_version": "1.2.0",
            "_model_module": "@jupyter-widgets/controls"
          }
        },
        "92c542d8169b46439a6fb174e30122c8": {
          "model_module": "@jupyter-widgets/base",
          "model_name": "LayoutModel",
          "model_module_version": "1.2.0",
          "state": {
            "_view_name": "LayoutView",
            "grid_template_rows": null,
            "right": null,
            "justify_content": null,
            "_view_module": "@jupyter-widgets/base",
            "overflow": null,
            "_model_module_version": "1.2.0",
            "_view_count": null,
            "flex_flow": null,
            "width": null,
            "min_width": null,
            "border": null,
            "align_items": null,
            "bottom": null,
            "_model_module": "@jupyter-widgets/base",
            "top": null,
            "grid_column": null,
            "overflow_y": null,
            "overflow_x": null,
            "grid_auto_flow": null,
            "grid_area": null,
            "grid_template_columns": null,
            "flex": null,
            "_model_name": "LayoutModel",
            "justify_items": null,
            "grid_row": null,
            "max_height": null,
            "align_content": null,
            "visibility": null,
            "align_self": null,
            "height": null,
            "min_height": null,
            "padding": null,
            "grid_auto_rows": null,
            "grid_gap": null,
            "max_width": null,
            "order": null,
            "_view_module_version": "1.2.0",
            "grid_template_areas": null,
            "object_position": null,
            "object_fit": null,
            "grid_auto_columns": null,
            "margin": null,
            "display": null,
            "left": null
          }
        }
      }
    }
  },
  "cells": [
    {
      "cell_type": "markdown",
      "metadata": {
        "id": "qJToNZny8wiJ"
      },
      "source": [
        "<h1><center>Text preprocessing</center></h1>"
      ]
    },
    {
      "cell_type": "markdown",
      "metadata": {
        "id": "XIV26DDa8wiK"
      },
      "source": [
        "## Main pipeline\n",
        "* Character level:\n",
        "    * Tokenization: splitting text into words\n",
        "    * Splitting the text into sentences\n",
        "* Word level (morphology):\n",
        "    * Part-of-speech tagging\n",
        "    * Resolving morphological ambiguity\n",
        "    * Normalization (stemming or lemmatization)\n",
        "* Sentence level (syntax):\n",
        "    * Nominal and verb groups recognition\n",
        "    * Semantic roles detection\n",
        "    * Constituency and dependency trees\n",
        "* Semantic level (semantics and discourse):\n",
        "    * Coreference resolution\n",
        "    * Finding synonyms and antonyms\n",
        "    * Analysis of the argument-based relations"
      ]
    },
    {
      "cell_type": "markdown",
      "metadata": {
        "id": "_mTIZxh28wiL"
      },
      "source": [
        "## Main problems\n",
        "* Ambiguity\n",
        "    * Lexical ambiguity: *орган, парить, рожки, атлас*\n",
        "    * Morphological ambiguity: *Хранение денег в банке. Что делают белки в клетке?*\n",
        "    * Syntactic ambiguity: *Мужу изменять нельзя. Его удивил простой солдат. Эти типы стали есть в цехе.*\n",
        "* Neologisms: *печеньки, заинстаграммить, репостнуть, расшарить, биткоины*\n",
        "* Different : *Россия, Российская Федерация, РФ*\n",
        "* Non-standard spelling (including spelling errors and typos)"
      ]
    },
    {
      "cell_type": "markdown",
      "metadata": {
        "id": "CrohBUy2_DQK"
      },
      "source": [
        "<img src=\"https://i.postimg.cc/pTzqjFkL/pipeline.png\" alt=\"pipeline.png\" style=\"width: 400px;\"/>"
      ]
    },
    {
      "cell_type": "markdown",
      "metadata": {
        "id": "rrMWEuaj8wiM"
      },
      "source": [
        "### NLP-libraries\n",
        "\n",
        "NLP Python libraries:\n",
        "* Natural Language Toolkit (NLTK)\n",
        "* Apache OpenNLP\n",
        "* Stanford NLP suite\n",
        "* Gate NLP library\n",
        "* Spacy\n",
        "* Yargy\n",
        "* DeepPavlov\n",
        "* CLTK (for ancient languages)\n",
        "* and many others\n",
        "\n",
        "The oldest and most famous is NLTK. NLTK does not have only various tools for text processing, but also various data — text corpora, pre-trained sentiment models and POS tagging models, stopwords lists for different languages, etc.\n",
        "\n",
        "* [Book on NLTK](https://www.nltk.org/book/) from the authors of the library and [tutorials](https://github.com/hb20007/hands-on-nltk-tutorial) on solving NLP task using NLTK.\n",
        "* [Spacy documnetation](https://spacy.io/)\n",
        "* [Yargy documentation](https://yargy.readthedocs.io/)\n",
        "* [DeepPavlop documentation](http://docs.deeppavlov.ai/)"
      ]
    },
    {
      "cell_type": "markdown",
      "metadata": {
        "id": "gJIhRR2V8wiN"
      },
      "source": [
        "## Text preprocessing\n",
        "\n",
        "1. **Tokenization** is the very first step in text processing.\n",
        "2. **Normalization** — mapping to the same lowercase form, removing punctuation, correcting typos, etc.\n",
        "3.\n",
        "    * **Stemming** — reducing the words to their word stem or root form. The objective of stemming is to reduce related words to the same stem even if the stem is not a dictionary word. For example, connection, connected, connecting word reduce to a common word “connect”.\n",
        "    * **Lemmatization** — unlike stemming, lemmatization reduces words to their base (dictionary) form, reducing the inflected words properly and ensuring that the root word belongs to the language.\n",
        "4. **Deleting stopwords** — the most common words in any language (like articles, prepositions, pronouns, conjunctions, etc) and does not add much information to the text. The list depends on the task!\n",
        "\n",
        "**Important!** You don't always need all the stages, it all depends on the task!"
      ]
    },
    {
      "cell_type": "markdown",
      "metadata": {
        "id": "1uZhZrWq8wiN"
      },
      "source": [
        "## Tokenization\n",
        "\n",
        "#### How many words are there in the following sentence?\n",
        "\n",
        "*На дворе трава, на траве дрова, не руби дрова на траве двора.*\n",
        "\n",
        "* 12 tokens: На, дворе, трава, на, траве, дрова, не, руби, дрова, на, траве, двора\n",
        "* 8-9 word forms: На/на, дворе, трава, траве, дрова, не, руби, двора\n",
        "* 6 lemmas: на, не, двор, трава, дрова, рубить\n",
        "\n",
        "\n",
        "### Tokens and word forms\n",
        "\n",
        "**Word form** – a unique word from the text\n",
        "\n",
        "**Token** – a word form and its position in the text\n",
        "\n",
        "The volume of the corpus is measured in tokens, the volume of the dictionary is measured in word forms or lexemes.\n",
        "\n",
        "\n",
        "### Notation\n",
        "$N$ = number of tokens\n",
        "\n",
        "$V$ = dictionary (all wordforms)\n",
        "\n",
        "$|V|$ = number of wordforms in the dictionary"
      ]
    },
    {
      "cell_type": "markdown",
      "metadata": {
        "id": "8I2LG_Bn8wiO"
      },
      "source": [
        "### Token ≠ word"
      ]
    },
    {
      "cell_type": "code",
      "metadata": {
        "colab": {
          "base_uri": "https://localhost:8080/"
        },
        "id": "4tMvWqXi8wiO",
        "outputId": "9ad05516-56b3-4542-e05a-7a4f9ab3070e"
      },
      "source": [
        "# the most obvious tokenization approach: split text by space\n",
        "\n",
        "text = '''\n",
        "Продаётся LADA 4x4. ПТС 01.12.2018, куплена 20 января 19 года, 10 000 км пробега. \n",
        "Комплектация полная. Новая в салоне 750 000, отдам за 650 000. \n",
        "Возможен обмен на ВАЗ-2110 или ВАЗ 2109 с вашей доплатой. \n",
        "Краснодар, ул. Миклухо-Маклая, д. 4/5, подьезд 1 \n",
        "Тел. 8(999)1234567, 8 903 987-65-43, +7 (351) 111 22 33 \n",
        "И.И. Иванов (Иван Иванович) \n",
        "'''\n",
        "\n",
        "tokens = text.split()\n",
        "print(tokens)\n",
        "len(tokens)"
      ],
      "execution_count": null,
      "outputs": [
        {
          "output_type": "stream",
          "name": "stdout",
          "text": [
            "['Продаётся', 'LADA', '4x4.', 'ПТС', '01.12.2018,', 'куплена', '20', 'января', '19', 'года,', '10', '000', 'км', 'пробега.', 'Комплектация', 'полная.', 'Новая', 'в', 'салоне', '750', '000,', 'отдам', 'за', '650', '000.', 'Возможен', 'обмен', 'на', 'ВАЗ-2110', 'или', 'ВАЗ', '2109', 'с', 'вашей', 'доплатой.', 'Краснодар,', 'ул.', 'Миклухо-Маклая,', 'д.', '4/5,', 'подьезд', '1', 'Тел.', '8(999)1234567,', '8', '903', '987-65-43,', '+7', '(351)', '111', '22', '33', 'И.И.', 'Иванов', '(Иван', 'Иванович)']\n"
          ]
        },
        {
          "output_type": "execute_result",
          "data": {
            "text/plain": [
              "56"
            ]
          },
          "metadata": {},
          "execution_count": 1
        }
      ]
    },
    {
      "cell_type": "code",
      "metadata": {
        "colab": {
          "base_uri": "https://localhost:8080/"
        },
        "id": "jDu_7Kp8_DQP",
        "outputId": "68a8b96a-4b12-41da-f6bf-f7d844e2fe91"
      },
      "source": [
        "text_en = '''\n",
        "328i trim. FUEL EFFICIENT 28 MPG Hwy/18 MPG City!, \n",
        "PRICED TO MOVE $600 below Kelley Blue Book! Moonroof, Leather, Dual Zone A/C, CD Player, Rear Air, \n",
        "6-SPEED STEPTRONIC AUTOMATIC TRANSMIS... PREMIUM PKG, VALUE PKG. \n",
        "======KEY FEATURES INCLUDE: Rear Air, CD Player, Dual Zone A/C. BMW 328i with Crimson Red exterior and Oyster/Black Dakota Leather interior features a Straight 6 Cylinder Engine with 230 HP at 6500 RPM*. \n",
        "======OPTION PACKAGES: PREMIUM PKG Dakota leather seat trim, universal garage door opener, auto-dimming pwr folding exterior mirrors w/2-position memory, auto-dimming rearview mirror w/compass, pwr front seats w/4-way pwr lumbar, 2-position driver seat memory, BMW Assist, Bluetooth interface, pwr tilt/slide glass moonroof, VALUE PKG iPod & USB adapter, Dakota leather seat trim, 17' x 8.0 V-spoke alloy wheels (style 285), P225/45R17 run-flat performance tires, 6-SPEED STEPTRONIC AUTOMATIC TRANSMISSION normal, sport & manual shift modes. Remote Trunk Release, Keyless Entry, Steering Wheel Controls, Child Safety Locks, Electronic Stability Control. \n",
        "======AFFORDABILITY: This 328i is priced $600 below Kelley Blue Book. \n",
        "======OUR OFFERINGS: Here at DCH Subaru of Riverside, everything we do revolves around you. \n",
        "Our various teams are trained to address your needs from the moment you walk through the door, whether you're in the market for your next vehicle or tuning up your current one. Our Riverside showroom is the place to be if you're in the market for a new Subaru or quality pre-owned vehicle from today's top automakers. \n",
        "No matter what you are in search of, we deliver customer happiness! Pricing analysis performed on 8/22/2021. \n",
        "Horsepower calculations based on trim engine configuration. \n",
        "Fuel economy calculations based on original manufacturer data for trim engine configuration. \n",
        "Please confirm the accuracy of the included equipment by calling us prior to purchase.\n",
        "\n",
        "DCH Subaru of Riverside\n",
        "| 862 Lifetime Reviews\n",
        "8043 Indiana Avenue\n",
        "\n",
        "Riverside, California 92504\n",
        "\n",
        "(951) 428-2314\n",
        "'''\n",
        "\n",
        "tokens = text_en.split()\n",
        "print(tokens)\n",
        "len(tokens)"
      ],
      "execution_count": null,
      "outputs": [
        {
          "output_type": "stream",
          "name": "stdout",
          "text": [
            "['328i', 'trim.', 'FUEL', 'EFFICIENT', '28', 'MPG', 'Hwy/18', 'MPG', 'City!,', 'PRICED', 'TO', 'MOVE', '$600', 'below', 'Kelley', 'Blue', 'Book!', 'Moonroof,', 'Leather,', 'Dual', 'Zone', 'A/C,', 'CD', 'Player,', 'Rear', 'Air,', '6-SPEED', 'STEPTRONIC', 'AUTOMATIC', 'TRANSMIS...', 'PREMIUM', 'PKG,', 'VALUE', 'PKG.', '======KEY', 'FEATURES', 'INCLUDE:', 'Rear', 'Air,', 'CD', 'Player,', 'Dual', 'Zone', 'A/C.', 'BMW', '328i', 'with', 'Crimson', 'Red', 'exterior', 'and', 'Oyster/Black', 'Dakota', 'Leather', 'interior', 'features', 'a', 'Straight', '6', 'Cylinder', 'Engine', 'with', '230', 'HP', 'at', '6500', 'RPM*.', '======OPTION', 'PACKAGES:', 'PREMIUM', 'PKG', 'Dakota', 'leather', 'seat', 'trim,', 'universal', 'garage', 'door', 'opener,', 'auto-dimming', 'pwr', 'folding', 'exterior', 'mirrors', 'w/2-position', 'memory,', 'auto-dimming', 'rearview', 'mirror', 'w/compass,', 'pwr', 'front', 'seats', 'w/4-way', 'pwr', 'lumbar,', '2-position', 'driver', 'seat', 'memory,', 'BMW', 'Assist,', 'Bluetooth', 'interface,', 'pwr', 'tilt/slide', 'glass', 'moonroof,', 'VALUE', 'PKG', 'iPod', '&', 'USB', 'adapter,', 'Dakota', 'leather', 'seat', 'trim,', \"17'\", 'x', '8.0', 'V-spoke', 'alloy', 'wheels', '(style', '285),', 'P225/45R17', 'run-flat', 'performance', 'tires,', '6-SPEED', 'STEPTRONIC', 'AUTOMATIC', 'TRANSMISSION', 'normal,', 'sport', '&', 'manual', 'shift', 'modes.', 'Remote', 'Trunk', 'Release,', 'Keyless', 'Entry,', 'Steering', 'Wheel', 'Controls,', 'Child', 'Safety', 'Locks,', 'Electronic', 'Stability', 'Control.', '======AFFORDABILITY:', 'This', '328i', 'is', 'priced', '$600', 'below', 'Kelley', 'Blue', 'Book.', '======OUR', 'OFFERINGS:', 'Here', 'at', 'DCH', 'Subaru', 'of', 'Riverside,', 'everything', 'we', 'do', 'revolves', 'around', 'you.', 'Our', 'various', 'teams', 'are', 'trained', 'to', 'address', 'your', 'needs', 'from', 'the', 'moment', 'you', 'walk', 'through', 'the', 'door,', 'whether', \"you're\", 'in', 'the', 'market', 'for', 'your', 'next', 'vehicle', 'or', 'tuning', 'up', 'your', 'current', 'one.', 'Our', 'Riverside', 'showroom', 'is', 'the', 'place', 'to', 'be', 'if', \"you're\", 'in', 'the', 'market', 'for', 'a', 'new', 'Subaru', 'or', 'quality', 'pre-owned', 'vehicle', 'from', \"today's\", 'top', 'automakers.', 'No', 'matter', 'what', 'you', 'are', 'in', 'search', 'of,', 'we', 'deliver', 'customer', 'happiness!', 'Pricing', 'analysis', 'performed', 'on', '8/22/2021.', 'Horsepower', 'calculations', 'based', 'on', 'trim', 'engine', 'configuration.', 'Fuel', 'economy', 'calculations', 'based', 'on', 'original', 'manufacturer', 'data', 'for', 'trim', 'engine', 'configuration.', 'Please', 'confirm', 'the', 'accuracy', 'of', 'the', 'included', 'equipment', 'by', 'calling', 'us', 'prior', 'to', 'purchase.', 'DCH', 'Subaru', 'of', 'Riverside', '|', '862', 'Lifetime', 'Reviews', '8043', 'Indiana', 'Avenue', 'Riverside,', 'California', '92504', '(951)', '428-2314']\n"
          ]
        },
        {
          "output_type": "execute_result",
          "data": {
            "text/plain": [
              "301"
            ]
          },
          "metadata": {},
          "execution_count": 2
        }
      ]
    },
    {
      "cell_type": "code",
      "metadata": {
        "colab": {
          "base_uri": "https://localhost:8080/"
        },
        "id": "5s60aVHo8wiU",
        "outputId": "f2e08d0c-6ef6-44dc-ed24-d9453731943a"
      },
      "source": [
        "!pip install yargy"
      ],
      "execution_count": null,
      "outputs": [
        {
          "output_type": "stream",
          "name": "stdout",
          "text": [
            "Looking in indexes: https://pypi.org/simple, https://us-python.pkg.dev/colab-wheels/public/simple/\n",
            "Collecting yargy\n",
            "  Downloading yargy-0.15.0-py3-none-any.whl (41 kB)\n",
            "\u001b[K     |████████████████████████████████| 41 kB 109 kB/s \n",
            "\u001b[?25hCollecting pymorphy2\n",
            "  Downloading pymorphy2-0.9.1-py3-none-any.whl (55 kB)\n",
            "\u001b[K     |████████████████████████████████| 55 kB 3.5 MB/s \n",
            "\u001b[?25hCollecting dawg-python>=0.7.1\n",
            "  Downloading DAWG_Python-0.7.2-py2.py3-none-any.whl (11 kB)\n",
            "Collecting docopt>=0.6\n",
            "  Downloading docopt-0.6.2.tar.gz (25 kB)\n",
            "Collecting pymorphy2-dicts-ru<3.0,>=2.4\n",
            "  Downloading pymorphy2_dicts_ru-2.4.417127.4579844-py2.py3-none-any.whl (8.2 MB)\n",
            "\u001b[K     |████████████████████████████████| 8.2 MB 42.2 MB/s \n",
            "\u001b[?25hBuilding wheels for collected packages: docopt\n",
            "  Building wheel for docopt (setup.py) ... \u001b[?25l\u001b[?25hdone\n",
            "  Created wheel for docopt: filename=docopt-0.6.2-py2.py3-none-any.whl size=13723 sha256=c9bf68fad8be34eea11468a596666f075ca4cf9f4a94bb8ea986fd27d895bdad\n",
            "  Stored in directory: /root/.cache/pip/wheels/72/b0/3f/1d95f96ff986c7dfffe46ce2be4062f38ebd04b506c77c81b9\n",
            "Successfully built docopt\n",
            "Installing collected packages: pymorphy2-dicts-ru, docopt, dawg-python, pymorphy2, yargy\n",
            "Successfully installed dawg-python-0.7.2 docopt-0.6.2 pymorphy2-0.9.1 pymorphy2-dicts-ru-2.4.417127.4579844 yargy-0.15.0\n"
          ]
        }
      ]
    },
    {
      "cell_type": "code",
      "metadata": {
        "colab": {
          "base_uri": "https://localhost:8080/"
        },
        "id": "pTXhiLHv8wiW",
        "outputId": "d9f6d3e3-1a38-4578-ecfd-b39304019c92"
      },
      "source": [
        "# the most detailed tokenization\n",
        "from yargy.tokenizer import MorphTokenizer\n",
        "\n",
        "tknzr = MorphTokenizer()\n",
        "tokens = [_.value for _ in tknzr(text)]\n",
        "print(tokens)\n",
        "len(tokens)"
      ],
      "execution_count": null,
      "outputs": [
        {
          "output_type": "stream",
          "name": "stdout",
          "text": [
            "['\\n', 'Продаётся', 'LADA', '4', 'x', '4', '.', 'ПТС', '01', '.', '12', '.', '2018', ',', 'куплена', '20', 'января', '19', 'года', ',', '10', '000', 'км', 'пробега', '.', '\\n', 'Комплектация', 'полная', '.', 'Новая', 'в', 'салоне', '750', '000', ',', 'отдам', 'за', '650', '000', '.', '\\n', 'Возможен', 'обмен', 'на', 'ВАЗ', '-', '2110', 'или', 'ВАЗ', '2109', 'с', 'вашей', 'доплатой', '.', '\\n', 'Краснодар', ',', 'ул', '.', 'Миклухо', '-', 'Маклая', ',', 'д', '.', '4', '/', '5', ',', 'подьезд', '1', '\\n', 'Тел', '.', '8', '(', '999', ')', '1234567', ',', '8', '903', '987', '-', '65', '-', '43', ',', '+', '7', '(', '351', ')', '111', '22', '33', '\\n', 'И', '.', 'И', '.', 'Иванов', '(', 'Иван', 'Иванович', ')', '\\n']\n"
          ]
        },
        {
          "output_type": "execute_result",
          "data": {
            "text/plain": [
              "107"
            ]
          },
          "metadata": {},
          "execution_count": 4
        }
      ]
    },
    {
      "cell_type": "code",
      "metadata": {
        "colab": {
          "base_uri": "https://localhost:8080/"
        },
        "id": "EEXlarKH_DQR",
        "outputId": "ce38f7cd-5d54-433a-c407-b61cb327664e"
      },
      "source": [
        "!pip install --user spacy"
      ],
      "execution_count": null,
      "outputs": [
        {
          "output_type": "stream",
          "name": "stdout",
          "text": [
            "Looking in indexes: https://pypi.org/simple, https://us-python.pkg.dev/colab-wheels/public/simple/\n",
            "Requirement already satisfied: spacy in /usr/local/lib/python3.7/dist-packages (3.4.1)\n",
            "Requirement already satisfied: setuptools in /usr/local/lib/python3.7/dist-packages (from spacy) (57.4.0)\n",
            "Requirement already satisfied: murmurhash<1.1.0,>=0.28.0 in /usr/local/lib/python3.7/dist-packages (from spacy) (1.0.8)\n",
            "Requirement already satisfied: wasabi<1.1.0,>=0.9.1 in /usr/local/lib/python3.7/dist-packages (from spacy) (0.10.1)\n",
            "Requirement already satisfied: preshed<3.1.0,>=3.0.2 in /usr/local/lib/python3.7/dist-packages (from spacy) (3.0.7)\n",
            "Requirement already satisfied: numpy>=1.15.0 in /usr/local/lib/python3.7/dist-packages (from spacy) (1.21.6)\n",
            "Requirement already satisfied: pathy>=0.3.5 in /usr/local/lib/python3.7/dist-packages (from spacy) (0.6.2)\n",
            "Requirement already satisfied: catalogue<2.1.0,>=2.0.6 in /usr/local/lib/python3.7/dist-packages (from spacy) (2.0.8)\n",
            "Requirement already satisfied: pydantic!=1.8,!=1.8.1,<1.10.0,>=1.7.4 in /usr/local/lib/python3.7/dist-packages (from spacy) (1.9.2)\n",
            "Requirement already satisfied: packaging>=20.0 in /usr/local/lib/python3.7/dist-packages (from spacy) (21.3)\n",
            "Requirement already satisfied: tqdm<5.0.0,>=4.38.0 in /usr/local/lib/python3.7/dist-packages (from spacy) (4.64.0)\n",
            "Requirement already satisfied: requests<3.0.0,>=2.13.0 in /usr/local/lib/python3.7/dist-packages (from spacy) (2.23.0)\n",
            "Requirement already satisfied: cymem<2.1.0,>=2.0.2 in /usr/local/lib/python3.7/dist-packages (from spacy) (2.0.6)\n",
            "Requirement already satisfied: spacy-loggers<2.0.0,>=1.0.0 in /usr/local/lib/python3.7/dist-packages (from spacy) (1.0.3)\n",
            "Requirement already satisfied: langcodes<4.0.0,>=3.2.0 in /usr/local/lib/python3.7/dist-packages (from spacy) (3.3.0)\n",
            "Requirement already satisfied: jinja2 in /usr/local/lib/python3.7/dist-packages (from spacy) (2.11.3)\n",
            "Requirement already satisfied: spacy-legacy<3.1.0,>=3.0.9 in /usr/local/lib/python3.7/dist-packages (from spacy) (3.0.10)\n",
            "Requirement already satisfied: thinc<8.2.0,>=8.1.0 in /usr/local/lib/python3.7/dist-packages (from spacy) (8.1.0)\n",
            "Requirement already satisfied: typing-extensions<4.2.0,>=3.7.4 in /usr/local/lib/python3.7/dist-packages (from spacy) (4.1.1)\n",
            "Requirement already satisfied: typer<0.5.0,>=0.3.0 in /usr/local/lib/python3.7/dist-packages (from spacy) (0.4.2)\n",
            "Requirement already satisfied: srsly<3.0.0,>=2.4.3 in /usr/local/lib/python3.7/dist-packages (from spacy) (2.4.4)\n",
            "Requirement already satisfied: zipp>=0.5 in /usr/local/lib/python3.7/dist-packages (from catalogue<2.1.0,>=2.0.6->spacy) (3.8.1)\n",
            "Requirement already satisfied: pyparsing!=3.0.5,>=2.0.2 in /usr/local/lib/python3.7/dist-packages (from packaging>=20.0->spacy) (3.0.9)\n",
            "Requirement already satisfied: smart-open<6.0.0,>=5.2.1 in /usr/local/lib/python3.7/dist-packages (from pathy>=0.3.5->spacy) (5.2.1)\n",
            "Requirement already satisfied: idna<3,>=2.5 in /usr/local/lib/python3.7/dist-packages (from requests<3.0.0,>=2.13.0->spacy) (2.10)\n",
            "Requirement already satisfied: certifi>=2017.4.17 in /usr/local/lib/python3.7/dist-packages (from requests<3.0.0,>=2.13.0->spacy) (2022.6.15)\n",
            "Requirement already satisfied: chardet<4,>=3.0.2 in /usr/local/lib/python3.7/dist-packages (from requests<3.0.0,>=2.13.0->spacy) (3.0.4)\n",
            "Requirement already satisfied: urllib3!=1.25.0,!=1.25.1,<1.26,>=1.21.1 in /usr/local/lib/python3.7/dist-packages (from requests<3.0.0,>=2.13.0->spacy) (1.24.3)\n",
            "Requirement already satisfied: blis<0.8.0,>=0.7.8 in /usr/local/lib/python3.7/dist-packages (from thinc<8.2.0,>=8.1.0->spacy) (0.7.8)\n",
            "Requirement already satisfied: click<9.0.0,>=7.1.1 in /usr/local/lib/python3.7/dist-packages (from typer<0.5.0,>=0.3.0->spacy) (7.1.2)\n",
            "Requirement already satisfied: MarkupSafe>=0.23 in /usr/local/lib/python3.7/dist-packages (from jinja2->spacy) (2.0.1)\n"
          ]
        }
      ]
    },
    {
      "cell_type": "code",
      "metadata": {
        "id": "I8XHId7i_DQS"
      },
      "source": [
        "import spacy\n",
        "nlp = spacy.load(\"en_core_web_sm\")"
      ],
      "execution_count": null,
      "outputs": []
    },
    {
      "cell_type": "code",
      "metadata": {
        "colab": {
          "base_uri": "https://localhost:8080/"
        },
        "id": "RoS2wlzZ_DQT",
        "outputId": "02073683-1612-4c99-b6d3-66c9c9f8518f"
      },
      "source": [
        "doc = nlp(text_en)\n",
        "tokens = [token.text for token in doc]\n",
        "print(tokens)\n",
        "len(tokens)"
      ],
      "execution_count": null,
      "outputs": [
        {
          "output_type": "stream",
          "name": "stdout",
          "text": [
            "['\\n', '328i', 'trim', '.', 'FUEL', 'EFFICIENT', '28', 'MPG', 'Hwy/18', 'MPG', 'City', '!', ',', '\\n', 'PRICED', 'TO', 'MOVE', '$', '600', 'below', 'Kelley', 'Blue', 'Book', '!', 'Moonroof', ',', 'Leather', ',', 'Dual', 'Zone', 'A', '/', 'C', ',', 'CD', 'Player', ',', 'Rear', 'Air', ',', '\\n', '6', '-', 'SPEED', 'STEPTRONIC', 'AUTOMATIC', 'TRANSMIS', '...', 'PREMIUM', 'PKG', ',', 'VALUE', 'PKG', '.', '\\n', '=', '=', '=', '=', '=', '=', 'KEY', 'FEATURES', 'INCLUDE', ':', 'Rear', 'Air', ',', 'CD', 'Player', ',', 'Dual', 'Zone', 'A', '/', 'C.', 'BMW', '328i', 'with', 'Crimson', 'Red', 'exterior', 'and', 'Oyster', '/', 'Black', 'Dakota', 'Leather', 'interior', 'features', 'a', 'Straight', '6', 'Cylinder', 'Engine', 'with', '230', 'HP', 'at', '6500', 'RPM', '*', '.', '\\n', '=', '=', '=', '=', '=', '=', 'OPTION', 'PACKAGES', ':', 'PREMIUM', 'PKG', 'Dakota', 'leather', 'seat', 'trim', ',', 'universal', 'garage', 'door', 'opener', ',', 'auto', '-', 'dimming', 'pwr', 'folding', 'exterior', 'mirrors', 'w/2', '-', 'position', 'memory', ',', 'auto', '-', 'dimming', 'rearview', 'mirror', 'w', '/', 'compass', ',', 'pwr', 'front', 'seats', 'w/4', '-', 'way', 'pwr', 'lumbar', ',', '2', '-', 'position', 'driver', 'seat', 'memory', ',', 'BMW', 'Assist', ',', 'Bluetooth', 'interface', ',', 'pwr', 'tilt', '/', 'slide', 'glass', 'moonroof', ',', 'VALUE', 'PKG', 'iPod', '&', 'USB', 'adapter', ',', 'Dakota', 'leather', 'seat', 'trim', ',', '17', \"'\", 'x', '8.0', 'V', '-', 'spoke', 'alloy', 'wheels', '(', 'style', '285', ')', ',', 'P225/45R17', 'run', '-', 'flat', 'performance', 'tires', ',', '6', '-', 'SPEED', 'STEPTRONIC', 'AUTOMATIC', 'TRANSMISSION', 'normal', ',', 'sport', '&', 'manual', 'shift', 'modes', '.', 'Remote', 'Trunk', 'Release', ',', 'Keyless', 'Entry', ',', 'Steering', 'Wheel', 'Controls', ',', 'Child', 'Safety', 'Locks', ',', 'Electronic', 'Stability', 'Control', '.', '\\n', '=', '=', '=', '=', '=', '=', 'AFFORDABILITY', ':', 'This', '328i', 'is', 'priced', '$', '600', 'below', 'Kelley', 'Blue', 'Book', '.', '\\n', '=', '=', '=', '=', '=', '=', 'OUR', 'OFFERINGS', ':', 'Here', 'at', 'DCH', 'Subaru', 'of', 'Riverside', ',', 'everything', 'we', 'do', 'revolves', 'around', 'you', '.', '\\n', 'Our', 'various', 'teams', 'are', 'trained', 'to', 'address', 'your', 'needs', 'from', 'the', 'moment', 'you', 'walk', 'through', 'the', 'door', ',', 'whether', 'you', \"'re\", 'in', 'the', 'market', 'for', 'your', 'next', 'vehicle', 'or', 'tuning', 'up', 'your', 'current', 'one', '.', 'Our', 'Riverside', 'showroom', 'is', 'the', 'place', 'to', 'be', 'if', 'you', \"'re\", 'in', 'the', 'market', 'for', 'a', 'new', 'Subaru', 'or', 'quality', 'pre', '-', 'owned', 'vehicle', 'from', 'today', \"'s\", 'top', 'automakers', '.', '\\n', 'No', 'matter', 'what', 'you', 'are', 'in', 'search', 'of', ',', 'we', 'deliver', 'customer', 'happiness', '!', 'Pricing', 'analysis', 'performed', 'on', '8/22/2021', '.', '\\n', 'Horsepower', 'calculations', 'based', 'on', 'trim', 'engine', 'configuration', '.', '\\n', 'Fuel', 'economy', 'calculations', 'based', 'on', 'original', 'manufacturer', 'data', 'for', 'trim', 'engine', 'configuration', '.', '\\n', 'Please', 'confirm', 'the', 'accuracy', 'of', 'the', 'included', 'equipment', 'by', 'calling', 'us', 'prior', 'to', 'purchase', '.', '\\n\\n', 'DCH', 'Subaru', 'of', 'Riverside', '\\n', '|', '862', 'Lifetime', 'Reviews', '\\n', '8043', 'Indiana', 'Avenue', '\\n\\n', 'Riverside', ',', 'California', '92504', '\\n\\n', '(', '951', ')', '428', '-', '2314', '\\n']\n"
          ]
        },
        {
          "output_type": "execute_result",
          "data": {
            "text/plain": [
              "438"
            ]
          },
          "metadata": {},
          "execution_count": 7
        }
      ]
    },
    {
      "cell_type": "code",
      "metadata": {
        "id": "EkpDhS6h8wiZ",
        "colab": {
          "base_uri": "https://localhost:8080/"
        },
        "outputId": "a9849a2c-09cb-45ea-f7cc-94d7180d9d06"
      },
      "source": [
        "!pip install --user nltk"
      ],
      "execution_count": null,
      "outputs": [
        {
          "output_type": "stream",
          "name": "stdout",
          "text": [
            "Requirement already satisfied: nltk in /usr/local/lib/python3.7/dist-packages (3.2.5)\n",
            "Requirement already satisfied: six in /usr/local/lib/python3.7/dist-packages (from nltk) (1.15.0)\n"
          ]
        }
      ]
    },
    {
      "cell_type": "code",
      "metadata": {
        "colab": {
          "base_uri": "https://localhost:8080/"
        },
        "id": "4ACxgq8B8wib",
        "outputId": "4975b119-2e5c-45ea-e4ea-8e6e18711ccd"
      },
      "source": [
        "import nltk\n",
        "nltk.download('stopwords')\n",
        "nltk.download('punkt')\n",
        "nltk.download('snowball_data')\n",
        "nltk.download('perluniprops')\n",
        "nltk.download('universal_tagset')\n",
        "nltk.download('stopwords')\n",
        "nltk.download('nonbreaking_prefixes')\n",
        "nltk.download('wordnet')"
      ],
      "execution_count": null,
      "outputs": [
        {
          "output_type": "stream",
          "name": "stdout",
          "text": [
            "[nltk_data] Downloading package stopwords to /root/nltk_data...\n",
            "[nltk_data]   Package stopwords is already up-to-date!\n",
            "[nltk_data] Downloading package punkt to /root/nltk_data...\n",
            "[nltk_data]   Package punkt is already up-to-date!\n",
            "[nltk_data] Downloading package snowball_data to /root/nltk_data...\n",
            "[nltk_data]   Package snowball_data is already up-to-date!\n",
            "[nltk_data] Downloading package perluniprops to /root/nltk_data...\n",
            "[nltk_data]   Package perluniprops is already up-to-date!\n",
            "[nltk_data] Downloading package universal_tagset to /root/nltk_data...\n",
            "[nltk_data]   Package universal_tagset is already up-to-date!\n",
            "[nltk_data] Downloading package stopwords to /root/nltk_data...\n",
            "[nltk_data]   Package stopwords is already up-to-date!\n",
            "[nltk_data] Downloading package nonbreaking_prefixes to\n",
            "[nltk_data]     /root/nltk_data...\n",
            "[nltk_data]   Package nonbreaking_prefixes is already up-to-date!\n",
            "[nltk_data] Downloading package wordnet to /root/nltk_data...\n",
            "[nltk_data]   Package wordnet is already up-to-date!\n"
          ]
        },
        {
          "output_type": "execute_result",
          "data": {
            "text/plain": [
              "True"
            ]
          },
          "metadata": {},
          "execution_count": 21
        }
      ]
    },
    {
      "cell_type": "code",
      "metadata": {
        "colab": {
          "base_uri": "https://localhost:8080/"
        },
        "id": "nIEMbLSA8wig",
        "outputId": "f55b09a2-5c59-415d-a992-509ae276fa67"
      },
      "source": [
        "from nltk.tokenize import word_tokenize, ToktokTokenizer\n",
        "\n",
        "tokens = word_tokenize(text)\n",
        "print(tokens)\n",
        "len(tokens)"
      ],
      "execution_count": null,
      "outputs": [
        {
          "output_type": "stream",
          "name": "stdout",
          "text": [
            "['Продаётся', 'LADA', '4x4', '.', 'ПТС', '01.12.2018', ',', 'куплена', '20', 'января', '19', 'года', ',', '10', '000', 'км', 'пробега', '.', 'Комплектация', 'полная', '.', 'Новая', 'в', 'салоне', '750', '000', ',', 'отдам', 'за', '650', '000', '.', 'Возможен', 'обмен', 'на', 'ВАЗ-2110', 'или', 'ВАЗ', '2109', 'с', 'вашей', 'доплатой', '.', 'Краснодар', ',', 'ул', '.', 'Миклухо-Маклая', ',', 'д', '.', '4/5', ',', 'подьезд', '1', 'Тел', '.', '8', '(', '999', ')', '1234567', ',', '8', '903', '987-65-43', ',', '+7', '(', '351', ')', '111', '22', '33', 'И.И', '.', 'Иванов', '(', 'Иван', 'Иванович', ')']\n"
          ]
        },
        {
          "output_type": "execute_result",
          "data": {
            "text/plain": [
              "81"
            ]
          },
          "metadata": {},
          "execution_count": 22
        }
      ]
    },
    {
      "cell_type": "code",
      "metadata": {
        "colab": {
          "base_uri": "https://localhost:8080/"
        },
        "id": "ZSCOnOib_DQU",
        "outputId": "71121b98-96c0-4baa-ed09-69423ab2001d"
      },
      "source": [
        "tokens = word_tokenize(text_en)\n",
        "print(tokens)\n",
        "len(tokens)"
      ],
      "execution_count": null,
      "outputs": [
        {
          "output_type": "stream",
          "name": "stdout",
          "text": [
            "['328i', 'trim', '.', 'FUEL', 'EFFICIENT', '28', 'MPG', 'Hwy/18', 'MPG', 'City', '!', ',', 'PRICED', 'TO', 'MOVE', '$', '600', 'below', 'Kelley', 'Blue', 'Book', '!', 'Moonroof', ',', 'Leather', ',', 'Dual', 'Zone', 'A/C', ',', 'CD', 'Player', ',', 'Rear', 'Air', ',', '6-SPEED', 'STEPTRONIC', 'AUTOMATIC', 'TRANSMIS', '...', 'PREMIUM', 'PKG', ',', 'VALUE', 'PKG', '.', '======KEY', 'FEATURES', 'INCLUDE', ':', 'Rear', 'Air', ',', 'CD', 'Player', ',', 'Dual', 'Zone', 'A/C', '.', 'BMW', '328i', 'with', 'Crimson', 'Red', 'exterior', 'and', 'Oyster/Black', 'Dakota', 'Leather', 'interior', 'features', 'a', 'Straight', '6', 'Cylinder', 'Engine', 'with', '230', 'HP', 'at', '6500', 'RPM*', '.', '======OPTION', 'PACKAGES', ':', 'PREMIUM', 'PKG', 'Dakota', 'leather', 'seat', 'trim', ',', 'universal', 'garage', 'door', 'opener', ',', 'auto-dimming', 'pwr', 'folding', 'exterior', 'mirrors', 'w/2-position', 'memory', ',', 'auto-dimming', 'rearview', 'mirror', 'w/compass', ',', 'pwr', 'front', 'seats', 'w/4-way', 'pwr', 'lumbar', ',', '2-position', 'driver', 'seat', 'memory', ',', 'BMW', 'Assist', ',', 'Bluetooth', 'interface', ',', 'pwr', 'tilt/slide', 'glass', 'moonroof', ',', 'VALUE', 'PKG', 'iPod', '&', 'USB', 'adapter', ',', 'Dakota', 'leather', 'seat', 'trim', ',', '17', \"'\", 'x', '8.0', 'V-spoke', 'alloy', 'wheels', '(', 'style', '285', ')', ',', 'P225/45R17', 'run-flat', 'performance', 'tires', ',', '6-SPEED', 'STEPTRONIC', 'AUTOMATIC', 'TRANSMISSION', 'normal', ',', 'sport', '&', 'manual', 'shift', 'modes', '.', 'Remote', 'Trunk', 'Release', ',', 'Keyless', 'Entry', ',', 'Steering', 'Wheel', 'Controls', ',', 'Child', 'Safety', 'Locks', ',', 'Electronic', 'Stability', 'Control', '.', '======AFFORDABILITY', ':', 'This', '328i', 'is', 'priced', '$', '600', 'below', 'Kelley', 'Blue', 'Book', '.', '======OUR', 'OFFERINGS', ':', 'Here', 'at', 'DCH', 'Subaru', 'of', 'Riverside', ',', 'everything', 'we', 'do', 'revolves', 'around', 'you', '.', 'Our', 'various', 'teams', 'are', 'trained', 'to', 'address', 'your', 'needs', 'from', 'the', 'moment', 'you', 'walk', 'through', 'the', 'door', ',', 'whether', 'you', \"'re\", 'in', 'the', 'market', 'for', 'your', 'next', 'vehicle', 'or', 'tuning', 'up', 'your', 'current', 'one', '.', 'Our', 'Riverside', 'showroom', 'is', 'the', 'place', 'to', 'be', 'if', 'you', \"'re\", 'in', 'the', 'market', 'for', 'a', 'new', 'Subaru', 'or', 'quality', 'pre-owned', 'vehicle', 'from', 'today', \"'s\", 'top', 'automakers', '.', 'No', 'matter', 'what', 'you', 'are', 'in', 'search', 'of', ',', 'we', 'deliver', 'customer', 'happiness', '!', 'Pricing', 'analysis', 'performed', 'on', '8/22/2021', '.', 'Horsepower', 'calculations', 'based', 'on', 'trim', 'engine', 'configuration', '.', 'Fuel', 'economy', 'calculations', 'based', 'on', 'original', 'manufacturer', 'data', 'for', 'trim', 'engine', 'configuration', '.', 'Please', 'confirm', 'the', 'accuracy', 'of', 'the', 'included', 'equipment', 'by', 'calling', 'us', 'prior', 'to', 'purchase', '.', 'DCH', 'Subaru', 'of', 'Riverside', '|', '862', 'Lifetime', 'Reviews', '8043', 'Indiana', 'Avenue', 'Riverside', ',', 'California', '92504', '(', '951', ')', '428-2314']\n"
          ]
        },
        {
          "output_type": "execute_result",
          "data": {
            "text/plain": [
              "364"
            ]
          },
          "metadata": {},
          "execution_count": 23
        }
      ]
    },
    {
      "cell_type": "code",
      "metadata": {
        "id": "GxaK7tB_8wii",
        "colab": {
          "base_uri": "https://localhost:8080/"
        },
        "outputId": "911a409d-a930-48b6-9c68-0bc76d25f734"
      },
      "source": [
        "tknzr = ToktokTokenizer()\n",
        "tokens = tknzr.tokenize(text)\n",
        "print(tokens)\n",
        "len(tokens)"
      ],
      "execution_count": null,
      "outputs": [
        {
          "output_type": "stream",
          "name": "stdout",
          "text": [
            "['Продаётся', 'LADA', '4x4.', 'ПТС', '01.12.2018', ',', 'куплена', '20', 'января', '19', 'года', ',', '10', '000', 'км', 'пробега.', 'Комплектация', 'полная.', 'Новая', 'в', 'салоне', '750', '000', ',', 'отдам', 'за', '650', '000.', 'Возможен', 'обмен', 'на', 'ВАЗ-2110', 'или', 'ВАЗ', '2109', 'с', 'вашей', 'доплатой.', 'Краснодар', ',', 'ул.', 'Миклухо-Маклая', ',', 'д.', '4/5', ',', 'подьезд', '1', 'Тел.', '8(', '999', ')', '1234567', ',', '8', '903', '987-65-43', ',', '+7', '(', '351', ')', '111', '22', '33', 'И.И.', 'Иванов', '(', 'Иван', 'Иванович', ')']\n"
          ]
        },
        {
          "output_type": "execute_result",
          "data": {
            "text/plain": [
              "71"
            ]
          },
          "metadata": {},
          "execution_count": 24
        }
      ]
    },
    {
      "cell_type": "code",
      "metadata": {
        "id": "hhL2xUTo_DQV",
        "colab": {
          "base_uri": "https://localhost:8080/"
        },
        "outputId": "d00ecb22-a4d2-4cdd-a93d-6d3a92b0050b"
      },
      "source": [
        "tknzr = ToktokTokenizer()\n",
        "tokens = tknzr.tokenize(text_en)\n",
        "print(tokens)\n",
        "len(tokens)"
      ],
      "execution_count": null,
      "outputs": [
        {
          "output_type": "stream",
          "name": "stdout",
          "text": [
            "['328i', 'trim.', 'FUEL', 'EFFICIENT', '28', 'MPG', 'Hwy/18', 'MPG', 'City', '!', ',', 'PRICED', 'TO', 'MOVE', '$', '600', 'below', 'Kelley', 'Blue', 'Book', '!', 'Moonroof', ',', 'Leather', ',', 'Dual', 'Zone', 'A/C', ',', 'CD', 'Player', ',', 'Rear', 'Air', ',', '6-SPEED', 'STEPTRONIC', 'AUTOMATIC', 'TRANSMIS', '...', 'PREMIUM', 'PKG', ',', 'VALUE', 'PKG.', '======KEY', 'FEATURES', 'INCLUDE', ':', 'Rear', 'Air', ',', 'CD', 'Player', ',', 'Dual', 'Zone', 'A/C.', 'BMW', '328i', 'with', 'Crimson', 'Red', 'exterior', 'and', 'Oyster/Black', 'Dakota', 'Leather', 'interior', 'features', 'a', 'Straight', '6', 'Cylinder', 'Engine', 'with', '230', 'HP', 'at', '6500', 'RPM*.', '======OPTION', 'PACKAGES', ':', 'PREMIUM', 'PKG', 'Dakota', 'leather', 'seat', 'trim', ',', 'universal', 'garage', 'door', 'opener', ',', 'auto-dimming', 'pwr', 'folding', 'exterior', 'mirrors', 'w/2-position', 'memory', ',', 'auto-dimming', 'rearview', 'mirror', 'w/compass', ',', 'pwr', 'front', 'seats', 'w/4-way', 'pwr', 'lumbar', ',', '2-position', 'driver', 'seat', 'memory', ',', 'BMW', 'Assist', ',', 'Bluetooth', 'interface', ',', 'pwr', 'tilt/slide', 'glass', 'moonroof', ',', 'VALUE', 'PKG', 'iPod', '&amp;', 'USB', 'adapter', ',', 'Dakota', 'leather', 'seat', 'trim', ',', '17', \"'\", 'x', '8.0', 'V-spoke', 'alloy', 'wheels', '(', 'style', '285', ')', ',', 'P225/45R17', 'run-flat', 'performance', 'tires', ',', '6-SPEED', 'STEPTRONIC', 'AUTOMATIC', 'TRANSMISSION', 'normal', ',', 'sport', '&amp;', 'manual', 'shift', 'modes.', 'Remote', 'Trunk', 'Release', ',', 'Keyless', 'Entry', ',', 'Steering', 'Wheel', 'Controls', ',', 'Child', 'Safety', 'Locks', ',', 'Electronic', 'Stability', 'Control.', '======AFFORDABILITY', ':', 'This', '328i', 'is', 'priced', '$', '600', 'below', 'Kelley', 'Blue', 'Book.', '======OUR', 'OFFERINGS', ':', 'Here', 'at', 'DCH', 'Subaru', 'of', 'Riverside', ',', 'everything', 'we', 'do', 'revolves', 'around', 'you.', 'Our', 'various', 'teams', 'are', 'trained', 'to', 'address', 'your', 'needs', 'from', 'the', 'moment', 'you', 'walk', 'through', 'the', 'door', ',', 'whether', 'you', \"'\", 're', 'in', 'the', 'market', 'for', 'your', 'next', 'vehicle', 'or', 'tuning', 'up', 'your', 'current', 'one.', 'Our', 'Riverside', 'showroom', 'is', 'the', 'place', 'to', 'be', 'if', 'you', \"'\", 're', 'in', 'the', 'market', 'for', 'a', 'new', 'Subaru', 'or', 'quality', 'pre-owned', 'vehicle', 'from', 'today', \"'\", 's', 'top', 'automakers.', 'No', 'matter', 'what', 'you', 'are', 'in', 'search', 'of', ',', 'we', 'deliver', 'customer', 'happiness', '!', 'Pricing', 'analysis', 'performed', 'on', '8/22/2021.', 'Horsepower', 'calculations', 'based', 'on', 'trim', 'engine', 'configuration.', 'Fuel', 'economy', 'calculations', 'based', 'on', 'original', 'manufacturer', 'data', 'for', 'trim', 'engine', 'configuration.', 'Please', 'confirm', 'the', 'accuracy', 'of', 'the', 'included', 'equipment', 'by', 'calling', 'us', 'prior', 'to', 'purchase.', 'DCH', 'Subaru', 'of', 'Riverside', '&#124;', '862', 'Lifetime', 'Reviews', '8043', 'Indiana', 'Avenue', 'Riverside', ',', 'California', '92504', '(', '951', ')', '428-2314']\n"
          ]
        },
        {
          "output_type": "execute_result",
          "data": {
            "text/plain": [
              "353"
            ]
          },
          "metadata": {},
          "execution_count": 25
        }
      ]
    },
    {
      "cell_type": "code",
      "metadata": {
        "id": "Ghlw0kpe8wil",
        "colab": {
          "base_uri": "https://localhost:8080/"
        },
        "outputId": "6ab54b04-e603-4c45-f382-df37ac6dfa1f"
      },
      "source": [
        "# tokenizer that specifies on tweets\n",
        "from nltk.tokenize import TweetTokenizer\n",
        "\n",
        "tknzr = TweetTokenizer()\n",
        "tweet = \"@remy This is a cooool #dummysmiley: :-) :-P <3 and some arrows < > -> <--\"\n",
        "tknzr.tokenize(tweet)"
      ],
      "execution_count": null,
      "outputs": [
        {
          "output_type": "execute_result",
          "data": {
            "text/plain": [
              "['@remy',\n",
              " 'This',\n",
              " 'is',\n",
              " 'a',\n",
              " 'cooool',\n",
              " '#dummysmiley',\n",
              " ':',\n",
              " ':-)',\n",
              " ':-P',\n",
              " '<3',\n",
              " 'and',\n",
              " 'some',\n",
              " 'arrows',\n",
              " '<',\n",
              " '>',\n",
              " '->',\n",
              " '<--']"
            ]
          },
          "metadata": {},
          "execution_count": 26
        }
      ]
    },
    {
      "cell_type": "code",
      "metadata": {
        "colab": {
          "base_uri": "https://localhost:8080/"
        },
        "id": "wK-oBCsm47d5",
        "outputId": "bbe8941e-64d1-40f8-e325-ec63d7c78845"
      },
      "source": [
        "word_tokenize(tweet)"
      ],
      "execution_count": null,
      "outputs": [
        {
          "output_type": "execute_result",
          "data": {
            "text/plain": [
              "['@',\n",
              " 'remy',\n",
              " 'This',\n",
              " 'is',\n",
              " 'a',\n",
              " 'cooool',\n",
              " '#',\n",
              " 'dummysmiley',\n",
              " ':',\n",
              " ':',\n",
              " '-',\n",
              " ')',\n",
              " ':',\n",
              " '-P',\n",
              " '<',\n",
              " '3',\n",
              " 'and',\n",
              " 'some',\n",
              " 'arrows',\n",
              " '<',\n",
              " '>',\n",
              " '-',\n",
              " '>',\n",
              " '<',\n",
              " '--']"
            ]
          },
          "metadata": {},
          "execution_count": 27
        }
      ]
    },
    {
      "cell_type": "code",
      "metadata": {
        "id": "I5CcKw7s8win",
        "outputId": "d46e9ad2-2341-4135-ac0e-247f66bf22b7"
      },
      "source": [
        "# tokenizer based on regexp\n",
        "from nltk.tokenize import RegexpTokenizer\n",
        "\n",
        "s = \"Good muffins cost $3.88 in New York.  Please buy me two of them. \\n\\nThanks.\"\n",
        "tknzr = RegexpTokenizer('\\w+|\\$[\\d\\.]+|\\S+')\n",
        "tknzr.tokenize(s)"
      ],
      "execution_count": null,
      "outputs": [
        {
          "data": {
            "text/plain": [
              "['Good',\n",
              " 'muffins',\n",
              " 'cost',\n",
              " '$3.88',\n",
              " 'in',\n",
              " 'New',\n",
              " 'York',\n",
              " '.',\n",
              " 'Please',\n",
              " 'buy',\n",
              " 'me',\n",
              " 'two',\n",
              " 'of',\n",
              " 'them',\n",
              " '.',\n",
              " 'Thanks',\n",
              " '.']"
            ]
          },
          "execution_count": 12,
          "metadata": {
            "tags": []
          },
          "output_type": "execute_result"
        }
      ]
    },
    {
      "cell_type": "code",
      "metadata": {
        "id": "ykHSFbIw5U_1"
      },
      "source": [],
      "execution_count": null,
      "outputs": []
    },
    {
      "cell_type": "markdown",
      "metadata": {
        "id": "Vp3dioNG5V6L"
      },
      "source": [
        "[A-zА-я0-9-] = \\w\n",
        "\n",
        "\\S+"
      ]
    },
    {
      "cell_type": "markdown",
      "metadata": {
        "id": "A5FKqaxu8wiq"
      },
      "source": [
        "Actually, `nltk` possesses a wide range of tokenizers:"
      ]
    },
    {
      "cell_type": "code",
      "metadata": {
        "id": "jlYxv5xy8wir",
        "colab": {
          "base_uri": "https://localhost:8080/"
        },
        "outputId": "5443ec93-94be-4bdd-b1ec-d8ddcdbba6b0"
      },
      "source": [
        "from nltk import tokenize\n",
        "dir(tokenize)[:16]"
      ],
      "execution_count": null,
      "outputs": [
        {
          "output_type": "execute_result",
          "data": {
            "text/plain": [
              "['BlanklineTokenizer',\n",
              " 'LineTokenizer',\n",
              " 'MWETokenizer',\n",
              " 'PunktSentenceTokenizer',\n",
              " 'RegexpTokenizer',\n",
              " 'ReppTokenizer',\n",
              " 'SExprTokenizer',\n",
              " 'SpaceTokenizer',\n",
              " 'StanfordSegmenter',\n",
              " 'TabTokenizer',\n",
              " 'TextTilingTokenizer',\n",
              " 'ToktokTokenizer',\n",
              " 'TreebankWordTokenizer',\n",
              " 'TweetTokenizer',\n",
              " 'WhitespaceTokenizer',\n",
              " 'WordPunctTokenizer']"
            ]
          },
          "metadata": {},
          "execution_count": 28
        }
      ]
    },
    {
      "cell_type": "markdown",
      "metadata": {
        "id": "NZ_3LRZ-8wiw"
      },
      "source": [
        "They are able to provide the beginning and the end indices of each token:"
      ]
    },
    {
      "cell_type": "code",
      "metadata": {
        "id": "S-Xsd5tN8wix",
        "colab": {
          "base_uri": "https://localhost:8080/"
        },
        "outputId": "4a7223a2-f34a-409e-bf6d-1ad2d8dcb739"
      },
      "source": [
        "wh_tok = tokenize.WhitespaceTokenizer()\n",
        "list(wh_tok.span_tokenize(\"don't stop me\"))"
      ],
      "execution_count": null,
      "outputs": [
        {
          "output_type": "execute_result",
          "data": {
            "text/plain": [
              "[(0, 5), (6, 10), (11, 13)]"
            ]
          },
          "metadata": {},
          "execution_count": 29
        }
      ]
    },
    {
      "cell_type": "markdown",
      "metadata": {
        "id": "6VxmL3st8wiz"
      },
      "source": [
        "Some tokenizers are very specific:"
      ]
    },
    {
      "cell_type": "code",
      "metadata": {
        "id": "DbbJHhuT8wi0",
        "outputId": "2e69572a-8b16-4a90-f47d-78b5734f3c76"
      },
      "source": [
        "tokenize.TreebankWordTokenizer().tokenize(\"don't stop me\")"
      ],
      "execution_count": null,
      "outputs": [
        {
          "data": {
            "text/plain": [
              "['do', \"n't\", 'stop', 'me']"
            ]
          },
          "execution_count": 16,
          "metadata": {
            "tags": []
          },
          "output_type": "execute_result"
        }
      ]
    },
    {
      "cell_type": "markdown",
      "metadata": {
        "id": "X0qzdWqY8wi2"
      },
      "source": [
        "## Sentence splitting\n",
        "\n",
        "Sentence splitting mostly relies on punctuation marks. \"? \", \"! \"are usually unambiguous, thea problems arise with \". \" Possible solution: develop a binary classifier for sentence segmentation. For each dot \".\" task is to fefine whether it is the end of the sentence or not."
      ]
    },
    {
      "cell_type": "code",
      "metadata": {
        "id": "RX2VhQT78wi2",
        "outputId": "3da92d9d-6bec-4eb8-f4c8-19520d1932e4"
      },
      "source": [
        "from nltk.tokenize import sent_tokenize\n",
        "\n",
        "sents = sent_tokenize(text)\n",
        "print(len(sents))\n",
        "sents"
      ],
      "execution_count": null,
      "outputs": [
        {
          "name": "stdout",
          "output_type": "stream",
          "text": [
            "10\n"
          ]
        },
        {
          "data": {
            "text/plain": [
              "['\\nПродаётся LADA 4x4.',\n",
              " 'ПТС 01.12.2018, куплена 20 января 19 года, 10 000 км пробега.',\n",
              " 'Комплектация полная.',\n",
              " 'Новая в салоне 750 000, отдам за 650 000.',\n",
              " 'Возможен обмен на ВАЗ-2110 или ВАЗ 2109 с вашей доплатой.',\n",
              " 'Краснодар, ул.',\n",
              " 'Миклухо-Маклая, д.',\n",
              " '4/5, подьезд 1 \\nТел.',\n",
              " '8(999)1234567, 8 903 987-65-43, +7 (351) 111 22 33 \\nИ.И.',\n",
              " 'Иванов (Иван Иванович)']"
            ]
          },
          "execution_count": 35,
          "metadata": {},
          "output_type": "execute_result"
        }
      ]
    },
    {
      "cell_type": "code",
      "metadata": {
        "id": "OKOrla-2_DQY",
        "outputId": "ae6212a5-1fae-40d4-e3e2-05a0f7052827"
      },
      "source": [
        "sents = sent_tokenize(text_en)\n",
        "print(len(sents))\n",
        "sents"
      ],
      "execution_count": null,
      "outputs": [
        {
          "name": "stdout",
          "output_type": "stream",
          "text": [
            "18\n"
          ]
        },
        {
          "data": {
            "text/plain": [
              "['\\n328i trim.',\n",
              " 'FUEL EFFICIENT 28 MPG Hwy/18 MPG City!, \\nPRICED TO MOVE $600 below Kelley Blue Book!',\n",
              " 'Moonroof, Leather, Dual Zone A/C, CD Player, Rear Air, \\n6-SPEED STEPTRONIC AUTOMATIC TRANSMIS...',\n",
              " 'PREMIUM PKG, VALUE PKG.',\n",
              " '======KEY FEATURES INCLUDE: Rear Air, CD Player, Dual Zone A/C.',\n",
              " 'BMW 328i with Crimson Red exterior and Oyster/Black Dakota Leather interior features a Straight 6 Cylinder Engine with 230 HP at 6500 RPM*.',\n",
              " \"======OPTION PACKAGES: PREMIUM PKG Dakota leather seat trim, universal garage door opener, auto-dimming pwr folding exterior mirrors w/2-position memory, auto-dimming rearview mirror w/compass, pwr front seats w/4-way pwr lumbar, 2-position driver seat memory, BMW Assist, Bluetooth interface, pwr tilt/slide glass moonroof, VALUE PKG iPod & USB adapter, Dakota leather seat trim, 17' x 8.0 V-spoke alloy wheels (style 285), P225/45R17 run-flat performance tires, 6-SPEED STEPTRONIC AUTOMATIC TRANSMISSION normal, sport & manual shift modes.\",\n",
              " 'Remote Trunk Release, Keyless Entry, Steering Wheel Controls, Child Safety Locks, Electronic Stability Control.',\n",
              " '======AFFORDABILITY: This 328i is priced $600 below Kelley Blue Book.',\n",
              " '======OUR OFFERINGS: Here at DCH Subaru of Riverside, everything we do revolves around you.',\n",
              " \"Our various teams are trained to address your needs from the moment you walk through the door, whether you're in the market for your next vehicle or tuning up your current one.\",\n",
              " \"Our Riverside showroom is the place to be if you're in the market for a new Subaru or quality pre-owned vehicle from today's top automakers.\",\n",
              " 'No matter what you are in search of, we deliver customer happiness!',\n",
              " 'Pricing analysis performed on 8/22/2021.',\n",
              " 'Horsepower calculations based on trim engine configuration.',\n",
              " 'Fuel economy calculations based on original manufacturer data for trim engine configuration.',\n",
              " 'Please confirm the accuracy of the included equipment by calling us prior to purchase.',\n",
              " 'DCH Subaru of Riverside\\n| 862 Lifetime Reviews\\n8043 Indiana Avenue\\n\\nRiverside, California 92504\\n\\n(951) 428-2314']"
            ]
          },
          "execution_count": 36,
          "metadata": {},
          "output_type": "execute_result"
        }
      ]
    },
    {
      "cell_type": "code",
      "metadata": {
        "id": "XSJTZsd-8wi4",
        "colab": {
          "base_uri": "https://localhost:8080/"
        },
        "outputId": "f898e65f-1f66-44f2-a74c-d21457b31507"
      },
      "source": [
        "!pip install rusenttokenize"
      ],
      "execution_count": null,
      "outputs": [
        {
          "output_type": "stream",
          "name": "stdout",
          "text": [
            "Requirement already satisfied: rusenttokenize in /root/.local/lib/python3.7/site-packages (0.0.5)\n"
          ]
        }
      ]
    },
    {
      "cell_type": "code",
      "metadata": {
        "id": "ZARTC-iN8wi7"
      },
      "source": [
        "from ru_sent_tokenize import ru_sent_tokenize\n",
        "sents = ru_sent_tokenize(text)\n",
        "\n",
        "print(len(sents))\n",
        "sents"
      ],
      "execution_count": null,
      "outputs": []
    },
    {
      "cell_type": "code",
      "metadata": {
        "id": "Xdo4w1Go6-Oj"
      },
      "source": [],
      "execution_count": null,
      "outputs": []
    },
    {
      "cell_type": "markdown",
      "metadata": {
        "id": "ixKIivkm8wi-"
      },
      "source": [
        "## Normalization\n",
        "\n",
        "### Delete punctuation"
      ]
    },
    {
      "cell_type": "code",
      "metadata": {
        "colab": {
          "base_uri": "https://localhost:8080/",
          "height": 54
        },
        "id": "87F-Chrk7MHr",
        "outputId": "97ba8b4c-b0e7-48e5-c6b7-8e9740ef4a6e"
      },
      "source": [
        "text"
      ],
      "execution_count": null,
      "outputs": [
        {
          "output_type": "execute_result",
          "data": {
            "application/vnd.google.colaboratory.intrinsic+json": {
              "type": "string"
            },
            "text/plain": [
              "'\\nПродаётся LADA 4x4. ПТС 01.12.2018, куплена 20 января 19 года, 10 000 км пробега. \\nКомплектация полная. Новая в салоне 750 000, отдам за 650 000. \\nВозможен обмен на ВАЗ-2110 или ВАЗ 2109 с вашей доплатой. \\nКраснодар, ул. Миклухо-Маклая, д. 4/5, подьезд 1 \\nТел. 8(999)1234567, 8 903 987-65-43, +7 (351) 111 22 33 \\nИ.И. Иванов (Иван Иванович) \\n'"
            ]
          },
          "metadata": {},
          "execution_count": 37
        }
      ]
    },
    {
      "cell_type": "code",
      "metadata": {
        "id": "h6E8o9W_8wi_",
        "colab": {
          "base_uri": "https://localhost:8080/"
        },
        "outputId": "7adccf20-d2d9-4d8d-caba-68ddfe7c1e07"
      },
      "source": [
        "# First option\n",
        "import re\n",
        "\n",
        "# set of punctuation marks which depends on the task and texts\n",
        "punct = '[!\"#$%&()*\\+,-\\./:;<=>?@\\[\\]^_`{|}~„“«»†*\\—/\\-‘’]'\n",
        "clean_text = re.sub(punct, r' ', text)\n",
        "print(clean_text.split())\n",
        "\n",
        "# Another point\n",
        "clean_words = [w.strip(punct) for w in word_tokenize(text)]\n",
        "print(clean_words)\n",
        "\n",
        "clean_words == clean_text"
      ],
      "execution_count": null,
      "outputs": [
        {
          "output_type": "stream",
          "name": "stdout",
          "text": [
            "['Продаётся', 'LADA', '4x4', 'ПТС', '01', '12', '2018', 'куплена', '20', 'января', '19', 'года', '10', '000', 'км', 'пробега', 'Комплектация', 'полная', 'Новая', 'в', 'салоне', '750', '000', 'отдам', 'за', '650', '000', 'Возможен', 'обмен', 'на', 'ВАЗ', '2110', 'или', 'ВАЗ', '2109', 'с', 'вашей', 'доплатой', 'Краснодар', 'ул', 'Миклухо', 'Маклая', 'д', '4', '5', 'подьезд', '1', 'Тел', '8', '999', '1234567', '8', '903', '987', '65', '43', '7', '351', '111', '22', '33', 'И', 'И', 'Иванов', 'Иван', 'Иванович']\n",
            "['Продаётся', 'LADA', '4x4', '', 'ПТС', '01.12.2018', '', 'куплена', '20', 'января', '19', 'года', '', '10', '000', 'км', 'пробега', '', 'Комплектация', 'полная', '', 'Новая', 'в', 'салоне', '750', '000', '', 'отдам', 'за', '650', '000', '', 'Возможен', 'обмен', 'на', 'ВАЗ-2110', 'или', 'ВАЗ', '2109', 'с', 'вашей', 'доплатой', '', 'Краснодар', '', 'ул', '', 'Миклухо-Маклая', '', 'д', '', '4/5', '', 'подьезд', '1', 'Тел', '', '8', '', '999', '', '1234567', '', '8', '903', '987-65-43', '', '7', '', '351', '', '111', '22', '33', 'И.И', '', 'Иванов', '', 'Иван', 'Иванович', '']\n"
          ]
        },
        {
          "output_type": "execute_result",
          "data": {
            "text/plain": [
              "False"
            ]
          },
          "metadata": {},
          "execution_count": 48
        }
      ]
    },
    {
      "cell_type": "code",
      "metadata": {
        "colab": {
          "base_uri": "https://localhost:8080/",
          "height": 37
        },
        "id": "joUeTwO17bto",
        "outputId": "04913543-3e44-4726-c8eb-daf76bccb26e"
      },
      "source": [
        "'____jlgherg.'.strip(punctuation)"
      ],
      "execution_count": null,
      "outputs": [
        {
          "output_type": "execute_result",
          "data": {
            "application/vnd.google.colaboratory.intrinsic+json": {
              "type": "string"
            },
            "text/plain": [
              "'jlgherg'"
            ]
          },
          "metadata": {},
          "execution_count": 42
        }
      ]
    },
    {
      "cell_type": "code",
      "metadata": {
        "id": "eF43oH3HunSo"
      },
      "source": [
        "from string import punctuation"
      ],
      "execution_count": null,
      "outputs": []
    },
    {
      "cell_type": "code",
      "metadata": {
        "colab": {
          "base_uri": "https://localhost:8080/",
          "height": 37
        },
        "id": "JlELN6e_upuZ",
        "outputId": "39beba4d-3c5e-47e2-ade4-b513b7b56e4f"
      },
      "source": [
        "punctuation"
      ],
      "execution_count": null,
      "outputs": [
        {
          "output_type": "execute_result",
          "data": {
            "application/vnd.google.colaboratory.intrinsic+json": {
              "type": "string"
            },
            "text/plain": [
              "'!\"#$%&\\'()*+,-./:;<=>?@[\\\\]^_`{|}~'"
            ]
          },
          "metadata": {},
          "execution_count": 40
        }
      ]
    },
    {
      "cell_type": "code",
      "metadata": {
        "id": "9naP-UfT_DQZ",
        "colab": {
          "base_uri": "https://localhost:8080/"
        },
        "outputId": "8cc906d5-8cf5-4fa1-dc3b-a2ae54d69bfa"
      },
      "source": [
        "clean_words_en = [w.strip(punctuation) for w in word_tokenize(text_en)]\n",
        "print(clean_words_en)"
      ],
      "execution_count": null,
      "outputs": [
        {
          "output_type": "stream",
          "name": "stdout",
          "text": [
            "['328i', 'trim', '', 'FUEL', 'EFFICIENT', '28', 'MPG', 'Hwy/18', 'MPG', 'City', '', '', 'PRICED', 'TO', 'MOVE', '', '600', 'below', 'Kelley', 'Blue', 'Book', '', 'Moonroof', '', 'Leather', '', 'Dual', 'Zone', 'A/C', '', 'CD', 'Player', '', 'Rear', 'Air', '', '6-SPEED', 'STEPTRONIC', 'AUTOMATIC', 'TRANSMIS', '', 'PREMIUM', 'PKG', '', 'VALUE', 'PKG', '', 'KEY', 'FEATURES', 'INCLUDE', '', 'Rear', 'Air', '', 'CD', 'Player', '', 'Dual', 'Zone', 'A/C', '', 'BMW', '328i', 'with', 'Crimson', 'Red', 'exterior', 'and', 'Oyster/Black', 'Dakota', 'Leather', 'interior', 'features', 'a', 'Straight', '6', 'Cylinder', 'Engine', 'with', '230', 'HP', 'at', '6500', 'RPM', '', 'OPTION', 'PACKAGES', '', 'PREMIUM', 'PKG', 'Dakota', 'leather', 'seat', 'trim', '', 'universal', 'garage', 'door', 'opener', '', 'auto-dimming', 'pwr', 'folding', 'exterior', 'mirrors', 'w/2-position', 'memory', '', 'auto-dimming', 'rearview', 'mirror', 'w/compass', '', 'pwr', 'front', 'seats', 'w/4-way', 'pwr', 'lumbar', '', '2-position', 'driver', 'seat', 'memory', '', 'BMW', 'Assist', '', 'Bluetooth', 'interface', '', 'pwr', 'tilt/slide', 'glass', 'moonroof', '', 'VALUE', 'PKG', 'iPod', '', 'USB', 'adapter', '', 'Dakota', 'leather', 'seat', 'trim', '', '17', '', 'x', '8.0', 'V-spoke', 'alloy', 'wheels', '', 'style', '285', '', '', 'P225/45R17', 'run-flat', 'performance', 'tires', '', '6-SPEED', 'STEPTRONIC', 'AUTOMATIC', 'TRANSMISSION', 'normal', '', 'sport', '', 'manual', 'shift', 'modes', '', 'Remote', 'Trunk', 'Release', '', 'Keyless', 'Entry', '', 'Steering', 'Wheel', 'Controls', '', 'Child', 'Safety', 'Locks', '', 'Electronic', 'Stability', 'Control', '', 'AFFORDABILITY', '', 'This', '328i', 'is', 'priced', '', '600', 'below', 'Kelley', 'Blue', 'Book', '', 'OUR', 'OFFERINGS', '', 'Here', 'at', 'DCH', 'Subaru', 'of', 'Riverside', '', 'everything', 'we', 'do', 'revolves', 'around', 'you', '', 'Our', 'various', 'teams', 'are', 'trained', 'to', 'address', 'your', 'needs', 'from', 'the', 'moment', 'you', 'walk', 'through', 'the', 'door', '', 'whether', 'you', 're', 'in', 'the', 'market', 'for', 'your', 'next', 'vehicle', 'or', 'tuning', 'up', 'your', 'current', 'one', '', 'Our', 'Riverside', 'showroom', 'is', 'the', 'place', 'to', 'be', 'if', 'you', 're', 'in', 'the', 'market', 'for', 'a', 'new', 'Subaru', 'or', 'quality', 'pre-owned', 'vehicle', 'from', 'today', 's', 'top', 'automakers', '', 'No', 'matter', 'what', 'you', 'are', 'in', 'search', 'of', '', 'we', 'deliver', 'customer', 'happiness', '', 'Pricing', 'analysis', 'performed', 'on', '8/22/2021', '', 'Horsepower', 'calculations', 'based', 'on', 'trim', 'engine', 'configuration', '', 'Fuel', 'economy', 'calculations', 'based', 'on', 'original', 'manufacturer', 'data', 'for', 'trim', 'engine', 'configuration', '', 'Please', 'confirm', 'the', 'accuracy', 'of', 'the', 'included', 'equipment', 'by', 'calling', 'us', 'prior', 'to', 'purchase', '', 'DCH', 'Subaru', 'of', 'Riverside', '', '862', 'Lifetime', 'Reviews', '8043', 'Indiana', 'Avenue', 'Riverside', '', 'California', '92504', '', '951', '', '428-2314']\n"
          ]
        }
      ]
    },
    {
      "cell_type": "markdown",
      "metadata": {
        "id": "rSSeJddy8wjC"
      },
      "source": [
        "### Convert to lower/upper case"
      ]
    },
    {
      "cell_type": "code",
      "metadata": {
        "id": "4fyovObi8wjD",
        "colab": {
          "base_uri": "https://localhost:8080/"
        },
        "outputId": "dd0a067b-a70e-45de-f428-c19c2563684f"
      },
      "source": [
        "clean_words = [w.lower() for w in clean_words if w != '']\n",
        "print(clean_words)"
      ],
      "execution_count": null,
      "outputs": [
        {
          "output_type": "stream",
          "name": "stdout",
          "text": [
            "['продаётся', 'lada', '4x4', 'птс', '01.12.2018', 'куплена', '20', 'января', '19', 'года', '10', '000', 'км', 'пробега', 'комплектация', 'полная', 'новая', 'в', 'салоне', '750', '000', 'отдам', 'за', '650', '000', 'возможен', 'обмен', 'на', 'ваз-2110', 'или', 'ваз', '2109', 'с', 'вашей', 'доплатой', 'краснодар', 'ул', 'миклухо-маклая', 'д', '4/5', 'подьезд', '1', 'тел', '8', '999', '1234567', '8', '903', '987-65-43', '7', '351', '111', '22', '33', 'и.и', 'иванов', 'иван', 'иванович']\n"
          ]
        }
      ]
    },
    {
      "cell_type": "code",
      "metadata": {
        "id": "1Y3RF0Ar_DQa",
        "colab": {
          "base_uri": "https://localhost:8080/"
        },
        "outputId": "ee604876-1df3-4371-bfc7-9366ed9dfeaf"
      },
      "source": [
        "clean_words_en = [w.lower() for w in clean_words_en if w != '']\n",
        "print(clean_words_en)"
      ],
      "execution_count": null,
      "outputs": [
        {
          "output_type": "stream",
          "name": "stdout",
          "text": [
            "['328i', 'trim', 'fuel', 'efficient', '28', 'mpg', 'hwy/18', 'mpg', 'city', 'priced', 'to', 'move', '600', 'below', 'kelley', 'blue', 'book', 'moonroof', 'leather', 'dual', 'zone', 'a/c', 'cd', 'player', 'rear', 'air', '6-speed', 'steptronic', 'automatic', 'transmis', 'premium', 'pkg', 'value', 'pkg', 'key', 'features', 'include', 'rear', 'air', 'cd', 'player', 'dual', 'zone', 'a/c', 'bmw', '328i', 'with', 'crimson', 'red', 'exterior', 'and', 'oyster/black', 'dakota', 'leather', 'interior', 'features', 'a', 'straight', '6', 'cylinder', 'engine', 'with', '230', 'hp', 'at', '6500', 'rpm', 'option', 'packages', 'premium', 'pkg', 'dakota', 'leather', 'seat', 'trim', 'universal', 'garage', 'door', 'opener', 'auto-dimming', 'pwr', 'folding', 'exterior', 'mirrors', 'w/2-position', 'memory', 'auto-dimming', 'rearview', 'mirror', 'w/compass', 'pwr', 'front', 'seats', 'w/4-way', 'pwr', 'lumbar', '2-position', 'driver', 'seat', 'memory', 'bmw', 'assist', 'bluetooth', 'interface', 'pwr', 'tilt/slide', 'glass', 'moonroof', 'value', 'pkg', 'ipod', 'usb', 'adapter', 'dakota', 'leather', 'seat', 'trim', '17', 'x', '8.0', 'v-spoke', 'alloy', 'wheels', 'style', '285', 'p225/45r17', 'run-flat', 'performance', 'tires', '6-speed', 'steptronic', 'automatic', 'transmission', 'normal', 'sport', 'manual', 'shift', 'modes', 'remote', 'trunk', 'release', 'keyless', 'entry', 'steering', 'wheel', 'controls', 'child', 'safety', 'locks', 'electronic', 'stability', 'control', 'affordability', 'this', '328i', 'is', 'priced', '600', 'below', 'kelley', 'blue', 'book', 'our', 'offerings', 'here', 'at', 'dch', 'subaru', 'of', 'riverside', 'everything', 'we', 'do', 'revolves', 'around', 'you', 'our', 'various', 'teams', 'are', 'trained', 'to', 'address', 'your', 'needs', 'from', 'the', 'moment', 'you', 'walk', 'through', 'the', 'door', 'whether', 'you', 're', 'in', 'the', 'market', 'for', 'your', 'next', 'vehicle', 'or', 'tuning', 'up', 'your', 'current', 'one', 'our', 'riverside', 'showroom', 'is', 'the', 'place', 'to', 'be', 'if', 'you', 're', 'in', 'the', 'market', 'for', 'a', 'new', 'subaru', 'or', 'quality', 'pre-owned', 'vehicle', 'from', 'today', 's', 'top', 'automakers', 'no', 'matter', 'what', 'you', 'are', 'in', 'search', 'of', 'we', 'deliver', 'customer', 'happiness', 'pricing', 'analysis', 'performed', 'on', '8/22/2021', 'horsepower', 'calculations', 'based', 'on', 'trim', 'engine', 'configuration', 'fuel', 'economy', 'calculations', 'based', 'on', 'original', 'manufacturer', 'data', 'for', 'trim', 'engine', 'configuration', 'please', 'confirm', 'the', 'accuracy', 'of', 'the', 'included', 'equipment', 'by', 'calling', 'us', 'prior', 'to', 'purchase', 'dch', 'subaru', 'of', 'riverside', '862', 'lifetime', 'reviews', '8043', 'indiana', 'avenue', 'riverside', 'california', '92504', '951', '428-2314']\n"
          ]
        }
      ]
    },
    {
      "cell_type": "code",
      "metadata": {
        "id": "P70Asbwr_DQa"
      },
      "source": [
        "# how to convert to upper case?\n",
        "# your code here for text_en"
      ],
      "execution_count": null,
      "outputs": []
    },
    {
      "cell_type": "markdown",
      "metadata": {
        "id": "LKNDrwDQ8wjH"
      },
      "source": [
        "### Stopwords\n",
        "\n",
        "**Stop words** — are the most common words in any natural language. For the purpose of analyzing text data and building NLP models, these stopwords might not add much value to the meaning of the document. They make up the top of the frequency list in any language. The set of stop words is not universal, it will depend on your task!\n",
        "\n",
        "NLTK has ready-made stop word lists for many languages."
      ]
    },
    {
      "cell_type": "code",
      "metadata": {
        "id": "42F9WthB8wjI",
        "colab": {
          "base_uri": "https://localhost:8080/"
        },
        "outputId": "d2ccb1e9-7835-4545-d733-3322fb58d013"
      },
      "source": [
        "from nltk.corpus import stopwords\n",
        "\n",
        "# language list\n",
        "stopwords.fileids()"
      ],
      "execution_count": null,
      "outputs": [
        {
          "output_type": "execute_result",
          "data": {
            "text/plain": [
              "['arabic',\n",
              " 'azerbaijani',\n",
              " 'bengali',\n",
              " 'danish',\n",
              " 'dutch',\n",
              " 'english',\n",
              " 'finnish',\n",
              " 'french',\n",
              " 'german',\n",
              " 'greek',\n",
              " 'hungarian',\n",
              " 'indonesian',\n",
              " 'italian',\n",
              " 'kazakh',\n",
              " 'nepali',\n",
              " 'norwegian',\n",
              " 'portuguese',\n",
              " 'romanian',\n",
              " 'russian',\n",
              " 'slovene',\n",
              " 'spanish',\n",
              " 'swedish',\n",
              " 'tajik',\n",
              " 'turkish']"
            ]
          },
          "metadata": {},
          "execution_count": 53
        }
      ]
    },
    {
      "cell_type": "code",
      "metadata": {
        "id": "N-GBMG498wjK",
        "colab": {
          "base_uri": "https://localhost:8080/"
        },
        "outputId": "0ec9dace-2bfc-4c6a-98b5-5ee6cc283cb6"
      },
      "source": [
        "sw = stopwords.words('russian')\n",
        "print(sw)"
      ],
      "execution_count": null,
      "outputs": [
        {
          "output_type": "stream",
          "name": "stdout",
          "text": [
            "['и', 'в', 'во', 'не', 'что', 'он', 'на', 'я', 'с', 'со', 'как', 'а', 'то', 'все', 'она', 'так', 'его', 'но', 'да', 'ты', 'к', 'у', 'же', 'вы', 'за', 'бы', 'по', 'только', 'ее', 'мне', 'было', 'вот', 'от', 'меня', 'еще', 'нет', 'о', 'из', 'ему', 'теперь', 'когда', 'даже', 'ну', 'вдруг', 'ли', 'если', 'уже', 'или', 'ни', 'быть', 'был', 'него', 'до', 'вас', 'нибудь', 'опять', 'уж', 'вам', 'ведь', 'там', 'потом', 'себя', 'ничего', 'ей', 'может', 'они', 'тут', 'где', 'есть', 'надо', 'ней', 'для', 'мы', 'тебя', 'их', 'чем', 'была', 'сам', 'чтоб', 'без', 'будто', 'чего', 'раз', 'тоже', 'себе', 'под', 'будет', 'ж', 'тогда', 'кто', 'этот', 'того', 'потому', 'этого', 'какой', 'совсем', 'ним', 'здесь', 'этом', 'один', 'почти', 'мой', 'тем', 'чтобы', 'нее', 'сейчас', 'были', 'куда', 'зачем', 'всех', 'никогда', 'можно', 'при', 'наконец', 'два', 'об', 'другой', 'хоть', 'после', 'над', 'больше', 'тот', 'через', 'эти', 'нас', 'про', 'всего', 'них', 'какая', 'много', 'разве', 'три', 'эту', 'моя', 'впрочем', 'хорошо', 'свою', 'этой', 'перед', 'иногда', 'лучше', 'чуть', 'том', 'нельзя', 'такой', 'им', 'более', 'всегда', 'конечно', 'всю', 'между']\n"
          ]
        }
      ]
    },
    {
      "cell_type": "code",
      "metadata": {
        "id": "PY6slf1G8wjM",
        "colab": {
          "base_uri": "https://localhost:8080/"
        },
        "outputId": "46251ff1-24ee-4f90-8673-797ad2d99ed6"
      },
      "source": [
        "print([w if w not in sw else print(w) for w in clean_words])"
      ],
      "execution_count": null,
      "outputs": [
        {
          "output_type": "stream",
          "name": "stdout",
          "text": [
            "в\n",
            "за\n",
            "на\n",
            "или\n",
            "с\n",
            "['продаётся', 'lada', '4x4', 'птс', '01.12.2018', 'куплена', '20', 'января', '19', 'года', '10', '000', 'км', 'пробега', 'комплектация', 'полная', 'новая', None, 'салоне', '750', '000', 'отдам', None, '650', '000', 'возможен', 'обмен', None, 'ваз-2110', None, 'ваз', '2109', None, 'вашей', 'доплатой', 'краснодар', 'ул', 'миклухо-маклая', 'д', '4/5', 'подьезд', '1', 'тел', '8', '999', '1234567', '8', '903', '987-65-43', '7', '351', '111', '22', '33', 'и.и', 'иванов', 'иван', 'иванович']\n"
          ]
        }
      ]
    },
    {
      "cell_type": "code",
      "metadata": {
        "id": "UnTIz4vP_DQb",
        "colab": {
          "base_uri": "https://localhost:8080/"
        },
        "outputId": "8a1d5e8f-8591-4372-8e71-189b75d758c6"
      },
      "source": [
        "sw = stopwords.words('english')\n",
        "print(sw)"
      ],
      "execution_count": null,
      "outputs": [
        {
          "output_type": "stream",
          "name": "stdout",
          "text": [
            "['i', 'me', 'my', 'myself', 'we', 'our', 'ours', 'ourselves', 'you', \"you're\", \"you've\", \"you'll\", \"you'd\", 'your', 'yours', 'yourself', 'yourselves', 'he', 'him', 'his', 'himself', 'she', \"she's\", 'her', 'hers', 'herself', 'it', \"it's\", 'its', 'itself', 'they', 'them', 'their', 'theirs', 'themselves', 'what', 'which', 'who', 'whom', 'this', 'that', \"that'll\", 'these', 'those', 'am', 'is', 'are', 'was', 'were', 'be', 'been', 'being', 'have', 'has', 'had', 'having', 'do', 'does', 'did', 'doing', 'a', 'an', 'the', 'and', 'but', 'if', 'or', 'because', 'as', 'until', 'while', 'of', 'at', 'by', 'for', 'with', 'about', 'against', 'between', 'into', 'through', 'during', 'before', 'after', 'above', 'below', 'to', 'from', 'up', 'down', 'in', 'out', 'on', 'off', 'over', 'under', 'again', 'further', 'then', 'once', 'here', 'there', 'when', 'where', 'why', 'how', 'all', 'any', 'both', 'each', 'few', 'more', 'most', 'other', 'some', 'such', 'no', 'nor', 'not', 'only', 'own', 'same', 'so', 'than', 'too', 'very', 's', 't', 'can', 'will', 'just', 'don', \"don't\", 'should', \"should've\", 'now', 'd', 'll', 'm', 'o', 're', 've', 'y', 'ain', 'aren', \"aren't\", 'couldn', \"couldn't\", 'didn', \"didn't\", 'doesn', \"doesn't\", 'hadn', \"hadn't\", 'hasn', \"hasn't\", 'haven', \"haven't\", 'isn', \"isn't\", 'ma', 'mightn', \"mightn't\", 'mustn', \"mustn't\", 'needn', \"needn't\", 'shan', \"shan't\", 'shouldn', \"shouldn't\", 'wasn', \"wasn't\", 'weren', \"weren't\", 'won', \"won't\", 'wouldn', \"wouldn't\"]\n"
          ]
        }
      ]
    },
    {
      "cell_type": "code",
      "metadata": {
        "id": "hjvcNxZE_DQb",
        "colab": {
          "base_uri": "https://localhost:8080/"
        },
        "outputId": "49bc219b-4f74-4b92-bb1c-f922d24033b9"
      },
      "source": [
        "nltk_clean_words_en = [w for w in clean_words_en if w not in sw]\n",
        "print(nltk_clean_words_en)"
      ],
      "execution_count": null,
      "outputs": [
        {
          "output_type": "stream",
          "name": "stdout",
          "text": [
            "['328i', 'trim', 'fuel', 'efficient', '28', 'mpg', 'hwy/18', 'mpg', 'city', 'priced', 'move', '600', 'kelley', 'blue', 'book', 'moonroof', 'leather', 'dual', 'zone', 'a/c', 'cd', 'player', 'rear', 'air', '6-speed', 'steptronic', 'automatic', 'transmis', 'premium', 'pkg', 'value', 'pkg', 'key', 'features', 'include', 'rear', 'air', 'cd', 'player', 'dual', 'zone', 'a/c', 'bmw', '328i', 'crimson', 'red', 'exterior', 'oyster/black', 'dakota', 'leather', 'interior', 'features', 'straight', '6', 'cylinder', 'engine', '230', 'hp', '6500', 'rpm', 'option', 'packages', 'premium', 'pkg', 'dakota', 'leather', 'seat', 'trim', 'universal', 'garage', 'door', 'opener', 'auto-dimming', 'pwr', 'folding', 'exterior', 'mirrors', 'w/2-position', 'memory', 'auto-dimming', 'rearview', 'mirror', 'w/compass', 'pwr', 'front', 'seats', 'w/4-way', 'pwr', 'lumbar', '2-position', 'driver', 'seat', 'memory', 'bmw', 'assist', 'bluetooth', 'interface', 'pwr', 'tilt/slide', 'glass', 'moonroof', 'value', 'pkg', 'ipod', 'usb', 'adapter', 'dakota', 'leather', 'seat', 'trim', '17', 'x', '8.0', 'v-spoke', 'alloy', 'wheels', 'style', '285', 'p225/45r17', 'run-flat', 'performance', 'tires', '6-speed', 'steptronic', 'automatic', 'transmission', 'normal', 'sport', 'manual', 'shift', 'modes', 'remote', 'trunk', 'release', 'keyless', 'entry', 'steering', 'wheel', 'controls', 'child', 'safety', 'locks', 'electronic', 'stability', 'control', 'affordability', '328i', 'priced', '600', 'kelley', 'blue', 'book', 'offerings', 'dch', 'subaru', 'riverside', 'everything', 'revolves', 'around', 'various', 'teams', 'trained', 'address', 'needs', 'moment', 'walk', 'door', 'whether', 'market', 'next', 'vehicle', 'tuning', 'current', 'one', 'riverside', 'showroom', 'place', 'market', 'new', 'subaru', 'quality', 'pre-owned', 'vehicle', 'today', 'top', 'automakers', 'matter', 'search', 'deliver', 'customer', 'happiness', 'pricing', 'analysis', 'performed', '8/22/2021', 'horsepower', 'calculations', 'based', 'trim', 'engine', 'configuration', 'fuel', 'economy', 'calculations', 'based', 'original', 'manufacturer', 'data', 'trim', 'engine', 'configuration', 'please', 'confirm', 'accuracy', 'included', 'equipment', 'calling', 'us', 'prior', 'purchase', 'dch', 'subaru', 'riverside', '862', 'lifetime', 'reviews', '8043', 'indiana', 'avenue', 'riverside', 'california', '92504', '951', '428-2314']\n"
          ]
        }
      ]
    },
    {
      "cell_type": "code",
      "metadata": {
        "id": "-4AGgB2-_DQb",
        "colab": {
          "base_uri": "https://localhost:8080/"
        },
        "outputId": "6aa8aaeb-d0e4-4e31-9a3f-5cedb9059642"
      },
      "source": [
        "clean_text_en = re.sub(punct, r'', text_en.lower())\n",
        "\n",
        "spacy_clean_words_en = [token.text for token in nlp(clean_text_en) if not token.is_stop and token.text.isalnum()]\n",
        "print(spacy_clean_words_en)"
      ],
      "execution_count": null,
      "outputs": [
        {
          "output_type": "stream",
          "name": "stdout",
          "text": [
            "['328i', 'trim', 'fuel', 'efficient', '28', 'mpg', 'hwy18', 'mpg', 'city', 'priced', '600', 'kelley', 'blue', 'book', 'moonroof', 'leather', 'dual', 'zone', 'ac', 'cd', 'player', 'rear', 'air', '6speed', 'steptronic', 'automatic', 'transmis', 'premium', 'pkg', 'value', 'pkg', 'key', 'features', 'include', 'rear', 'air', 'cd', 'player', 'dual', 'zone', 'ac', 'bmw', '328i', 'crimson', 'red', 'exterior', 'oysterblack', 'dakota', 'leather', 'interior', 'features', 'straight', '6', 'cylinder', 'engine', '230', 'hp', '6500', 'rpm', 'option', 'packages', 'premium', 'pkg', 'dakota', 'leather', 'seat', 'trim', 'universal', 'garage', 'door', 'opener', 'autodimming', 'pwr', 'folding', 'exterior', 'mirrors', 'w2position', 'memory', 'autodimming', 'rearview', 'mirror', 'wcompass', 'pwr', 'seats', 'w4way', 'pwr', 'lumbar', '2position', 'driver', 'seat', 'memory', 'bmw', 'assist', 'bluetooth', 'interface', 'pwr', 'tiltslide', 'glass', 'moonroof', 'value', 'pkg', 'ipod', 'usb', 'adapter', 'dakota', 'leather', 'seat', 'trim', '17', 'x', '80', 'vspoke', 'alloy', 'wheels', 'style', '285', 'p22545r17', 'runflat', 'performance', 'tires', '6speed', 'steptronic', 'automatic', 'transmission', 'normal', 'sport', 'manual', 'shift', 'modes', 'remote', 'trunk', 'release', 'keyless', 'entry', 'steering', 'wheel', 'controls', 'child', 'safety', 'locks', 'electronic', 'stability', 'control', 'affordability', '328i', 'priced', '600', 'kelley', 'blue', 'book', 'offerings', 'dch', 'subaru', 'riverside', 'revolves', 'teams', 'trained', 'address', 'needs', 'moment', 'walk', 'door', 'market', 'vehicle', 'tuning', 'current', 'riverside', 'showroom', 'place', 'market', 'new', 'subaru', 'quality', 'preowned', 'vehicle', 'today', 'automakers', 'matter', 'search', 'deliver', 'customer', 'happiness', 'pricing', 'analysis', 'performed', '8222021', 'horsepower', 'calculations', 'based', 'trim', 'engine', 'configuration', 'fuel', 'economy', 'calculations', 'based', 'original', 'manufacturer', 'data', 'trim', 'engine', 'configuration', 'confirm', 'accuracy', 'included', 'equipment', 'calling', 'prior', 'purchase', 'dch', 'subaru', 'riverside', '862', 'lifetime', 'reviews', '8043', 'indiana', 'avenue', 'riverside', 'california', '92504', '951', '4282314']\n"
          ]
        }
      ]
    },
    {
      "cell_type": "code",
      "metadata": {
        "id": "NQJj5rJb_DQb",
        "colab": {
          "base_uri": "https://localhost:8080/"
        },
        "outputId": "a9becc6d-bb3d-4d0a-85c9-538ec901accc"
      },
      "source": [
        "len(nltk_clean_words_en)==len(spacy_clean_words_en), len(nltk_clean_words_en), len(spacy_clean_words_en)"
      ],
      "execution_count": null,
      "outputs": [
        {
          "output_type": "execute_result",
          "data": {
            "text/plain": [
              "(False, 234, 223)"
            ]
          },
          "metadata": {},
          "execution_count": 59
        }
      ]
    },
    {
      "cell_type": "markdown",
      "metadata": {
        "id": "JiMMLtZp8wjN"
      },
      "source": [
        "## Stemming\n",
        "\n",
        "**Stemming** reduces words to their stem (root) by removing endings and suffixes. The remaining part is called stem. However, it should not necessarily match with the morphological basis of the word. The problem of stemming is that the same stems may  be obtained from the words with different roots and vice versa.\n",
        "\n",
        "* 1st type of error: белый, белка, белье $\\implies$  бел\n",
        "\n",
        "* 2nd type of error: трудность, трудный $\\implies$  трудност, труд\n",
        "\n",
        "* 3rd type of error: быстрый, быстрее $\\implies$  быст, побыстрее $\\implies$  побыст\n",
        "\n",
        "The simplest algorithm is the Porter algorithm. It consists of 5 loops with commands, on each loop there is an operation to delete / replace the suffix. Probabilistic extensions of the algorithm are possible.\n",
        "\n",
        "### Snowball stemmer\n",
        "An improved version of Porter's stemmer; unlike Porter's stemmer, it can work with multiple languages."
      ]
    },
    {
      "cell_type": "code",
      "metadata": {
        "id": "F7ni6c5T8wjO",
        "colab": {
          "base_uri": "https://localhost:8080/"
        },
        "outputId": "65292174-2203-4065-86f3-f58f421ea9db"
      },
      "source": [
        "from nltk.stem.snowball import SnowballStemmer\n",
        "\n",
        "SnowballStemmer.languages  "
      ],
      "execution_count": null,
      "outputs": [
        {
          "output_type": "execute_result",
          "data": {
            "text/plain": [
              "('arabic',\n",
              " 'danish',\n",
              " 'dutch',\n",
              " 'english',\n",
              " 'finnish',\n",
              " 'french',\n",
              " 'german',\n",
              " 'hungarian',\n",
              " 'italian',\n",
              " 'norwegian',\n",
              " 'porter',\n",
              " 'portuguese',\n",
              " 'romanian',\n",
              " 'russian',\n",
              " 'spanish',\n",
              " 'swedish')"
            ]
          },
          "metadata": {},
          "execution_count": 62
        }
      ]
    },
    {
      "cell_type": "code",
      "metadata": {
        "id": "BbnbMdNm8wjQ"
      },
      "source": [
        "poem = '''\n",
        "По морям, играя, носится\n",
        "с миноносцем миноносица.\n",
        "Льнет, как будто к меду осочка,\n",
        "к миноносцу миноносочка.\n",
        "И конца б не довелось ему,\n",
        "благодушью миноносьему.\n",
        "Вдруг прожектор, вздев на нос очки,\n",
        "впился в спину миноносочки.\n",
        "Как взревет медноголосина:\n",
        "Р-р-р-астакая миноносина!\n",
        "'''\n",
        "\n",
        "words = [w.strip(punct).lower() for w in word_tokenize(poem)]\n",
        "words = [w for w in words if w not in sw and w != '']"
      ],
      "execution_count": null,
      "outputs": []
    },
    {
      "cell_type": "code",
      "metadata": {
        "id": "mrtC521I8wjW",
        "colab": {
          "base_uri": "https://localhost:8080/"
        },
        "outputId": "b3763267-daea-443e-a599-9ac6ef205855"
      },
      "source": [
        "snowball = SnowballStemmer(\"russian\")\n",
        "\n",
        "for w in words:\n",
        "    print(\"%s: %s\" % (w, snowball.stem(w)))"
      ],
      "execution_count": null,
      "outputs": [
        {
          "output_type": "stream",
          "name": "stdout",
          "text": [
            "по: по\n",
            "морям: мор\n",
            "играя: игр\n",
            "носится: нос\n",
            "с: с\n",
            "миноносцем: миноносц\n",
            "миноносица: миноносиц\n",
            "льнет: льнет\n",
            "как: как\n",
            "будто: будт\n",
            "к: к\n",
            "меду: мед\n",
            "осочка: осочк\n",
            "к: к\n",
            "миноносцу: миноносц\n",
            "миноносочка: миноносочк\n",
            "и: и\n",
            "конца: конц\n",
            "б: б\n",
            "не: не\n",
            "довелось: довел\n",
            "ему: ем\n",
            "благодушью: благодуш\n",
            "миноносьему: минонос\n",
            "вдруг: вдруг\n",
            "прожектор: прожектор\n",
            "вздев: вздев\n",
            "на: на\n",
            "нос: нос\n",
            "очки: очк\n",
            "впился: впил\n",
            "в: в\n",
            "спину: спин\n",
            "миноносочки: миноносочк\n",
            "как: как\n",
            "взревет: взревет\n",
            "медноголосина: медноголосин\n",
            "р-р-р-астакая: р-р-р-астак\n",
            "миноносина: миноносин\n"
          ]
        }
      ]
    },
    {
      "cell_type": "code",
      "metadata": {
        "id": "85pbRCNi_DQc"
      },
      "source": [
        "snowball = SnowballStemmer(\"english\")"
      ],
      "execution_count": null,
      "outputs": []
    },
    {
      "cell_type": "code",
      "metadata": {
        "id": "W16MRE3P_DQc",
        "colab": {
          "base_uri": "https://localhost:8080/"
        },
        "outputId": "9ed50d07-8c65-4d03-969d-d303ff9b793d"
      },
      "source": [
        "poem_en = '''\n",
        "Twinkle, twinkle, little star,\n",
        "How I wonder what you are.\n",
        "Up above the world so high,\n",
        "Like a diamond in the sky.\n",
        "Twinkle, twinkle, little star,\n",
        "How I wonder what you are!\n",
        "\n",
        "When the blazing sun is gone,\n",
        "When he nothing shines upon,\n",
        "Then you show your little light,\n",
        "Twinkle, twinkle, all the night.\n",
        "Twinkle, twinkle, little star,\n",
        "How I wonder what you are!\n",
        "'''\n",
        "\n",
        "words = [w.strip(punct).lower() for w in word_tokenize(poem_en)]\n",
        "words = [w for w in words if w not in sw and w != '']\n",
        "for w in words:\n",
        "    print(\"%s: %s\" % (w, snowball.stem(w)))"
      ],
      "execution_count": null,
      "outputs": [
        {
          "output_type": "stream",
          "name": "stdout",
          "text": [
            "twinkle: twinkl\n",
            "twinkle: twinkl\n",
            "little: littl\n",
            "star: star\n",
            "wonder: wonder\n",
            "world: world\n",
            "high: high\n",
            "like: like\n",
            "diamond: diamond\n",
            "sky: sky\n",
            "twinkle: twinkl\n",
            "twinkle: twinkl\n",
            "little: littl\n",
            "star: star\n",
            "wonder: wonder\n",
            "blazing: blaze\n",
            "sun: sun\n",
            "gone: gone\n",
            "nothing: noth\n",
            "shines: shine\n",
            "upon: upon\n",
            "show: show\n",
            "little: littl\n",
            "light: light\n",
            "twinkle: twinkl\n",
            "twinkle: twinkl\n",
            "night: night\n",
            "twinkle: twinkl\n",
            "twinkle: twinkl\n",
            "little: littl\n",
            "star: star\n",
            "wonder: wonder\n"
          ]
        }
      ]
    },
    {
      "cell_type": "markdown",
      "metadata": {
        "id": "eREMBHVY8wjY"
      },
      "source": [
        "## Morphological analysis\n",
        "\n",
        "The are the following tasks of morphological analysis:\n",
        "\n",
        "* Morphological segmentation — converting word to its normal form (lemma), extracting the basis (stem) and grammatical characteristics of the word\n",
        "* Word form generation — word form generation according to its lemma and given grammatical characteristics\n",
        "\n",
        "Morphological analysis is not exactly the strong suit of NLTK. You should better use `Spacy` for european languages and `pymorphy2` and `pymystem3` for Russian.\n",
        "\n",
        "## Lemmatization\n",
        "\n",
        "**Lemmatization** — the process of converting a word form to a lemma, (a normal, dictionary form). This is a more complex task than stemming, but it also gives much more meaningful results, especially for languages with rich morphology.\n",
        "\n",
        "* кошке, кошку, кошкам, кошкой $\\implies$ кошка\n",
        "* бежал, бежит, бегу $\\implies$  бежать\n",
        "* белому, белым, белыми $\\implies$ белый\n",
        "\n",
        "## POS-tagging\n",
        "\n",
        "**Частеречная разметка**, или **POS-tagging** _(part of speech tagging)_ —  the process of marking up a word in a text (corpus) as corresponding to a particular part of speech (tags), based on both its definition and its context.\n",
        "\n",
        "Для большинства слов возможно несколько разборов (т.е. несколько разных лемм, несколько разных частей речи и т.п.). Теггер генерирует  все варианты, ранжирует их по вероятности и по умолчанию выдает наиболее вероятный. Выбор одного разбора из нескольких называется **снятием омонимии**, или **дизамбигуацией**.\n",
        "\n",
        "Part-of-speech tagging is harder than just having a list of words and their parts of speech, because some word forms can represent more than one part of speech at different times. It means that in natural languages a large percentage of word forms are ambiguous. For example, even \"dogs\", which is usually thought of as just a plural noun, can also be a verb:\n",
        "\n",
        "    He reads books \\<plural noun\\>\n",
        "    He books \\<3rd person singular verb\\> tickets.\n",
        "\n",
        "Correct grammatical tagging which chooses one of possible options is called **morphological disambiguation**.\n",
        "\n",
        "### Tag sets\n",
        "\n",
        "There are many sets of grammatical tags, or tagsets:\n",
        "* НКРЯ\n",
        "* Mystem\n",
        "* UPenn\n",
        "* OpenCorpora (is used in pymorphy2)\n",
        "* Universal Dependencies\n",
        "* ...\n",
        "\n",
        "There is a [library](https://github.com/kmike/russian-tagsets) to convert tags from one system to another for the Russian language, `russian-tagsets`. However, you may loose important information when converting POS-tags from one system to another.\n",
        "\n",
        "At the moment, the standard is **Universal Dependencies**. You can read more about the project [here](http://universaldependencies.org/), and [here](http://universaldependencies.org/u/pos/) about tags. Here below you can see the list of the main UD tags:\n",
        "\n",
        "* ADJ: adjective\n",
        "* ADP: adposition\n",
        "* ADV: adverb\n",
        "* AUX: auxiliary\n",
        "* CCONJ: coordinating conjunction\n",
        "* DET: determiner\n",
        "* INTJ: interjection\n",
        "* NOUN: noun\n",
        "* NUM: numeral\n",
        "* PART: particle\n",
        "* PRON: pronoun\n",
        "* PROPN: proper noun\n",
        "* PUNCT: punctuation\n",
        "* SCONJ: subordinating conjunction\n",
        "* SYM: symbol\n",
        "* VERB: verb\n",
        "* X: other\n",
        "\n",
        "### pymystem3\n",
        "\n",
        "**pymystem3** — a wrapper for \"an excellent morphological analyzer\" for Russian language Yandex Mystem 3.1 released in June 2014. You can download it separately and use it from the console. An outstanding advantage of Mystem is that the system relies on the word context which is quite helpful when resolving ambiguity. \n",
        "\n",
        "* [Mystem documentation](https://tech.yandex.ru/mystem/doc/index-docpage/)\n",
        "* [pymystem3 documentation](http://pythonhosted.org/pymystem3/)\n",
        "\n",
        "Initialize Mystem with the default parameters. BTW, parameters are as follows:\n",
        "* mystem_bin - path to `mystem`, if if there are several of them\n",
        "* grammar_info - analyze grammatical information or lemmas only (grammatical information is included by default)\n",
        "* disambiguation - morphological disambiguation (included by default)\n",
        "* entire_input - save all characters from the input to the output (e.g. different types of space characters, \\everything is included by default)\n",
        "\n",
        "Mystem methods accept string as input and tokenizes it inside. You may provide tokens separately, however, then the context would not be taken into consideration."
      ]
    },
    {
      "cell_type": "code",
      "metadata": {
        "id": "IClsgWM58wjY",
        "colab": {
          "base_uri": "https://localhost:8080/"
        },
        "outputId": "06fb32d7-cb47-44b6-9a4f-a28b3b8684af"
      },
      "source": [
        "! pip install --user pymystem3"
      ],
      "execution_count": null,
      "outputs": [
        {
          "output_type": "stream",
          "name": "stdout",
          "text": [
            "Requirement already satisfied: pymystem3 in /usr/local/lib/python3.7/dist-packages (0.2.0)\n",
            "Requirement already satisfied: requests in /usr/local/lib/python3.7/dist-packages (from pymystem3) (2.23.0)\n",
            "Requirement already satisfied: idna<3,>=2.5 in /usr/local/lib/python3.7/dist-packages (from requests->pymystem3) (2.10)\n",
            "Requirement already satisfied: urllib3!=1.25.0,!=1.25.1,<1.26,>=1.21.1 in /usr/local/lib/python3.7/dist-packages (from requests->pymystem3) (1.24.3)\n",
            "Requirement already satisfied: chardet<4,>=3.0.2 in /usr/local/lib/python3.7/dist-packages (from requests->pymystem3) (3.0.4)\n",
            "Requirement already satisfied: certifi>=2017.4.17 in /usr/local/lib/python3.7/dist-packages (from requests->pymystem3) (2021.5.30)\n"
          ]
        }
      ]
    },
    {
      "cell_type": "code",
      "metadata": {
        "id": "Jm48dgcB8wja"
      },
      "source": [
        "from pymystem3 import Mystem\n",
        "\n",
        "m = Mystem()\n",
        "lemmas = m.lemmatize(' '.join(words))\n",
        "print(lemmas)"
      ],
      "execution_count": null,
      "outputs": []
    },
    {
      "cell_type": "code",
      "metadata": {
        "id": "6YuwBgJH_bfS"
      },
      "source": [
        "from pymystem3 import Mystem\n",
        "\n",
        "m = Mystem()\n",
        "lemmas = m.stem(' '.join(words))\n",
        "print(lemmas)"
      ],
      "execution_count": null,
      "outputs": []
    },
    {
      "cell_type": "code",
      "metadata": {
        "id": "04rPVaGg8wjd",
        "outputId": "5122f269-d85f-45b8-bcd3-b3b69b081ba0"
      },
      "source": [
        "parsed = m.analyze(poem)\n",
        "parsed[:10]"
      ],
      "execution_count": null,
      "outputs": [
        {
          "data": {
            "text/plain": [
              "[{'text': '\\n'},\n",
              " {'analysis': [{'gr': 'PR=', 'lex': 'по'}], 'text': 'По'},\n",
              " {'text': ' '},\n",
              " {'analysis': [{'gr': 'S,сред,неод=дат,мн', 'lex': 'море'}], 'text': 'морям'},\n",
              " {'text': ', '},\n",
              " {'analysis': [{'gr': 'V,несов,пе=непрош,деепр', 'lex': 'играть'}],\n",
              "  'text': 'играя'},\n",
              " {'text': ', '},\n",
              " {'analysis': [{'gr': 'V,несов,нп=непрош,ед,изъяв,3-л', 'lex': 'носиться'}],\n",
              "  'text': 'носится'},\n",
              " {'text': '\\n'},\n",
              " {'analysis': [{'gr': 'PR=', 'lex': 'с'}], 'text': 'с'}]"
            ]
          },
          "execution_count": 29,
          "metadata": {
            "tags": []
          },
          "output_type": "execute_result"
        }
      ]
    },
    {
      "cell_type": "code",
      "metadata": {
        "id": "XMf3iMoe8wjf",
        "outputId": "67a71938-9b6a-4888-c167-32cb2c1a52a8"
      },
      "source": [
        "# how to get pos of the word\n",
        "\n",
        "for word in parsed[:20]:\n",
        "    if 'analysis' in word:\n",
        "        gr = word['analysis'][0]['gr']\n",
        "        pos = gr.split('=')[0].split(',')[0]\n",
        "        print(word['text'], pos)"
      ],
      "execution_count": null,
      "outputs": [
        {
          "name": "stdout",
          "output_type": "stream",
          "text": [
            "По PR\n",
            "морям S\n",
            "играя V\n",
            "носится V\n",
            "с PR\n",
            "миноносцем S\n",
            "миноносица S\n",
            "Льнет V\n",
            "как ADVPRO\n"
          ]
        }
      ]
    },
    {
      "cell_type": "code",
      "metadata": {
        "id": "DnjtS7i-_DQe"
      },
      "source": [
        "spacy_poem_en = nlp(poem_en)"
      ],
      "execution_count": null,
      "outputs": []
    },
    {
      "cell_type": "code",
      "metadata": {
        "id": "kzIrsW5e_DQe",
        "colab": {
          "base_uri": "https://localhost:8080/"
        },
        "outputId": "149e732a-d5ce-4d73-b268-612a21464fc6"
      },
      "source": [
        "for token in spacy_poem_en:\n",
        "    if token.pos_ != \"SPACE\":\n",
        "        print(token.text, token.lemma_, token.pos_)"
      ],
      "execution_count": null,
      "outputs": [
        {
          "output_type": "stream",
          "name": "stdout",
          "text": [
            "Twinkle Twinkle PROPN\n",
            ", , PUNCT\n",
            "twinkle twinkle NOUN\n",
            ", , PUNCT\n",
            "little little ADJ\n",
            "star star NOUN\n",
            ", , PUNCT\n",
            "How how ADV\n",
            "I -PRON- PRON\n",
            "wonder wonder VERB\n",
            "what what PRON\n",
            "you -PRON- PRON\n",
            "are be AUX\n",
            ". . PUNCT\n",
            "Up up ADP\n",
            "above above ADP\n",
            "the the DET\n",
            "world world NOUN\n",
            "so so ADV\n",
            "high high ADV\n",
            ", , PUNCT\n",
            "Like like SCONJ\n",
            "a a DET\n",
            "diamond diamond NOUN\n",
            "in in ADP\n",
            "the the DET\n",
            "sky sky NOUN\n",
            ". . PUNCT\n",
            "Twinkle Twinkle PROPN\n",
            ", , PUNCT\n",
            "twinkle twinkle NOUN\n",
            ", , PUNCT\n",
            "little little ADJ\n",
            "star star NOUN\n",
            ", , PUNCT\n",
            "How how ADV\n",
            "I -PRON- PRON\n",
            "wonder wonder VERB\n",
            "what what PRON\n",
            "you -PRON- PRON\n",
            "are be AUX\n",
            "! ! PUNCT\n",
            "When when ADV\n",
            "the the DET\n",
            "blazing blaze VERB\n",
            "sun sun NOUN\n",
            "is be AUX\n",
            "gone go VERB\n",
            ", , PUNCT\n",
            "When when ADV\n",
            "he -PRON- PRON\n",
            "nothing nothing PRON\n",
            "shines shine VERB\n",
            "upon upon SCONJ\n",
            ", , PUNCT\n",
            "Then then ADV\n",
            "you -PRON- PRON\n",
            "show show VERB\n",
            "your -PRON- DET\n",
            "little little ADJ\n",
            "light light NOUN\n",
            ", , PUNCT\n",
            "Twinkle Twinkle PROPN\n",
            ", , PUNCT\n",
            "twinkle twinkle NOUN\n",
            ", , PUNCT\n",
            "all all DET\n",
            "the the DET\n",
            "night night NOUN\n",
            ". . PUNCT\n",
            "Twinkle Twinkle PROPN\n",
            ", , PUNCT\n",
            "twinkle twinkle NOUN\n",
            ", , PUNCT\n",
            "little little ADJ\n",
            "star star NOUN\n",
            ", , PUNCT\n",
            "How how ADV\n",
            "I -PRON- PRON\n",
            "wonder wonder VERB\n",
            "what what PRON\n",
            "you -PRON- PRON\n",
            "are be AUX\n",
            "! ! PUNCT\n"
          ]
        }
      ]
    },
    {
      "cell_type": "markdown",
      "metadata": {
        "id": "GTJsMuTX8wjh"
      },
      "source": [
        "###  pymorphy2\n",
        "\n",
        "**pymorphy2** — is a full-fledged morphological analyzer, written entirely in Python. Unlike Mystem, it does not take into account the context, which means that the question of disambiguation should be resolved by our means. It also knows how to put words in the correct form (conjugate and incline).\n",
        "\n",
        "[pymorphy2 documentation](https://pymorphy2.readthedocs.io/en/latest/)"
      ]
    },
    {
      "cell_type": "code",
      "metadata": {
        "id": "0fGOCBpL8wji"
      },
      "source": [
        "# ! pip install --user pymorphy2"
      ],
      "execution_count": null,
      "outputs": []
    },
    {
      "cell_type": "code",
      "metadata": {
        "id": "pxFHvLVx8wjm",
        "colab": {
          "base_uri": "https://localhost:8080/"
        },
        "outputId": "074242a0-efde-4e70-8dd5-b92e279c45a3"
      },
      "source": [
        "from pymorphy2 import MorphAnalyzer\n",
        "\n",
        "morph = MorphAnalyzer()\n",
        "p = morph.parse('стали')\n",
        "p"
      ],
      "execution_count": null,
      "outputs": [
        {
          "output_type": "execute_result",
          "data": {
            "text/plain": [
              "[Parse(word='стали', tag=OpencorporaTag('VERB,perf,intr plur,past,indc'), normal_form='стать', score=0.975342, methods_stack=((DictionaryAnalyzer(), 'стали', 945, 4),)),\n",
              " Parse(word='стали', tag=OpencorporaTag('NOUN,inan,femn sing,gent'), normal_form='сталь', score=0.010958, methods_stack=((DictionaryAnalyzer(), 'стали', 13, 1),)),\n",
              " Parse(word='стали', tag=OpencorporaTag('NOUN,inan,femn plur,nomn'), normal_form='сталь', score=0.005479, methods_stack=((DictionaryAnalyzer(), 'стали', 13, 6),)),\n",
              " Parse(word='стали', tag=OpencorporaTag('NOUN,inan,femn sing,datv'), normal_form='сталь', score=0.002739, methods_stack=((DictionaryAnalyzer(), 'стали', 13, 2),)),\n",
              " Parse(word='стали', tag=OpencorporaTag('NOUN,inan,femn sing,loct'), normal_form='сталь', score=0.002739, methods_stack=((DictionaryAnalyzer(), 'стали', 13, 5),)),\n",
              " Parse(word='стали', tag=OpencorporaTag('NOUN,inan,femn plur,accs'), normal_form='сталь', score=0.002739, methods_stack=((DictionaryAnalyzer(), 'стали', 13, 9),))]"
            ]
          },
          "metadata": {},
          "execution_count": 73
        }
      ]
    },
    {
      "cell_type": "code",
      "metadata": {
        "id": "WGfkuMnT8wjo",
        "outputId": "f8b55225-f9d7-48bf-e62b-87ea03b3dedc"
      },
      "source": [
        "first = p[0]  # первый разбор\n",
        "print('Word:', first.word)\n",
        "print('Tag:', first.tag)\n",
        "print('Lemma:', first.normal_form)\n",
        "print('Proba:', first.score)"
      ],
      "execution_count": null,
      "outputs": [
        {
          "name": "stdout",
          "output_type": "stream",
          "text": [
            "Word: стали\n",
            "Tag: VERB,perf,intr plur,past,indc\n",
            "Lemma: стать\n",
            "Proba: 0.975342\n"
          ]
        }
      ]
    },
    {
      "cell_type": "markdown",
      "metadata": {
        "id": "c_vXOl2G8wjq"
      },
      "source": [
        "You can get more detailed information from each tag. If the grammeme is in parsing, its value will be returned, if it is not, it will be returned\n",
        "\n",
        "[list of grammems](https://pymorphy2.readthedocs.io/en/latest/user/grammemes.html)"
      ]
    },
    {
      "cell_type": "code",
      "metadata": {
        "id": "XfN8Jlav8wjq",
        "outputId": "25c17742-4cf6-4f94-c7a7-ad0547677d92"
      },
      "source": [
        "print(first.normalized)        # лемма\n",
        "print(first.tag.POS)           # Part of Speech, часть речи\n",
        "print(first.tag.animacy)       # одушевленность\n",
        "print(first.tag.aspect)        # вид: совершенный или несовершенный\n",
        "print(first.tag.case)          # падеж\n",
        "print(first.tag.gender)        # род (мужской, женский, средний)\n",
        "print(first.tag.involvement)   # включенность говорящего в действие\n",
        "print(first.tag.mood)          # наклонение (повелительное, изъявительное)\n",
        "print(first.tag.number)        # число (единственное, множественное)\n",
        "print(first.tag.person)        # лицо (1, 2, 3)\n",
        "print(first.tag.tense)         # время (настоящее, прошедшее, будущее)\n",
        "print(first.tag.transitivity)  # переходность (переходный, непереходный)\n",
        "print(first.tag.voice)         # залог (действительный, страдательный)"
      ],
      "execution_count": null,
      "outputs": [
        {
          "name": "stdout",
          "output_type": "stream",
          "text": [
            "Parse(word='стать', tag=OpencorporaTag('INFN,perf,intr'), normal_form='стать', score=1.0, methods_stack=((<DictionaryAnalyzer>, 'стать', 904, 0),))\n",
            "VERB\n",
            "None\n",
            "perf\n",
            "None\n",
            "None\n",
            "None\n",
            "indc\n",
            "plur\n",
            "None\n",
            "past\n",
            "intr\n",
            "None\n"
          ]
        }
      ]
    },
    {
      "cell_type": "code",
      "metadata": {
        "id": "FZtVGFG08wjt",
        "outputId": "c28492a8-f725-42c1-bfa3-f69c361600b5"
      },
      "source": [
        "print(first.normalized)      \n",
        "print(first.tag.POS)\n",
        "print(first.tag.aspect)\n",
        "print(first.tag.case)"
      ],
      "execution_count": null,
      "outputs": [
        {
          "name": "stdout",
          "output_type": "stream",
          "text": [
            "Parse(word='стать', tag=OpencorporaTag('INFN,perf,intr'), normal_form='стать', score=1.0, methods_stack=((<DictionaryAnalyzer>, 'стать', 904, 0),))\n",
            "VERB\n",
            "perf\n",
            "None\n"
          ]
        }
      ]
    },
    {
      "cell_type": "markdown",
      "metadata": {
        "id": "wZA9awaI8wjy"
      },
      "source": [
        "### mystem vs. pymorphy\n",
        "\n",
        "1) Both of them can work with out-of-vocabulary words (OOV).\n",
        "\n",
        "2) *Speed*. Mystem runs incredibly slow under Windows on large texts, but still very fast if you run it from the console on linux / mac os.\n",
        "\n",
        "3) *Disambiguation*. Mystem is able to disambiguate words by context (although it does not always succeed), pymorphy2 takes one word as input and, accordingly, does not know how to disambiguate by context at all"
      ]
    },
    {
      "cell_type": "code",
      "metadata": {
        "id": "Ot_d8SfS8wjz",
        "outputId": "193e14ea-4c62-4554-9a8b-dfc6633e0348"
      },
      "source": [
        "homonym1 = 'За время обучения я прослушал больше сорока курсов.'\n",
        "homonym2 = 'Сорока своровала блестящее украшение со стола.'\n",
        "mystem_analyzer = Mystem() # initialize object with default parameters\n",
        "\n",
        "print(mystem_analyzer.analyze(homonym1)[-5])\n",
        "print(mystem_analyzer.analyze(homonym2)[0])"
      ],
      "execution_count": null,
      "outputs": [
        {
          "name": "stdout",
          "output_type": "stream",
          "text": [
            "{'text': 'сорока', 'analysis': [{'lex': 'сорок', 'gr': 'NUM=(пр|дат|род|твор)'}]}\n",
            "{'text': 'Сорока', 'analysis': [{'lex': 'сорока', 'gr': 'S,жен,од=им,ед'}]}\n"
          ]
        }
      ]
    },
    {
      "cell_type": "code",
      "metadata": {
        "id": "G-jgHkHi8wj2"
      },
      "source": [
        "p = morph.parse('сорока')"
      ],
      "execution_count": null,
      "outputs": []
    },
    {
      "cell_type": "code",
      "metadata": {
        "id": "Qp_VxYoJ8wj4",
        "outputId": "08219ec5-3143-4862-e6cd-eb979d9a4223"
      },
      "source": [
        "p"
      ],
      "execution_count": null,
      "outputs": [
        {
          "data": {
            "text/plain": [
              "[Parse(word='сорока', tag=OpencorporaTag('NUMR loct'), normal_form='сорок', score=0.285714, methods_stack=((<DictionaryAnalyzer>, 'сорока', 2802, 5),)),\n",
              " Parse(word='сорока', tag=OpencorporaTag('NOUN,inan,femn sing,nomn'), normal_form='сорока', score=0.142857, methods_stack=((<DictionaryAnalyzer>, 'сорока', 43, 0),)),\n",
              " Parse(word='сорока', tag=OpencorporaTag('NOUN,anim,femn sing,nomn'), normal_form='сорока', score=0.142857, methods_stack=((<DictionaryAnalyzer>, 'сорока', 403, 0),)),\n",
              " Parse(word='сорока', tag=OpencorporaTag('NUMR gent'), normal_form='сорок', score=0.142857, methods_stack=((<DictionaryAnalyzer>, 'сорока', 2802, 1),)),\n",
              " Parse(word='сорока', tag=OpencorporaTag('NUMR datv'), normal_form='сорок', score=0.142857, methods_stack=((<DictionaryAnalyzer>, 'сорока', 2802, 2),)),\n",
              " Parse(word='сорока', tag=OpencorporaTag('NUMR ablt'), normal_form='сорок', score=0.142857, methods_stack=((<DictionaryAnalyzer>, 'сорока', 2802, 4),))]"
            ]
          },
          "execution_count": 40,
          "metadata": {
            "tags": []
          },
          "output_type": "execute_result"
        }
      ]
    },
    {
      "cell_type": "markdown",
      "metadata": {
        "id": "Ni_iArnp_DQg"
      },
      "source": [
        "### Joining it all together:\n",
        "\n",
        "Let us make a standard data preprocessing pipeline of texts from the Lenta.ru website"
      ]
    },
    {
      "cell_type": "code",
      "metadata": {
        "colab": {
          "base_uri": "https://localhost:8080/"
        },
        "id": "h_K71Q4e_DQg",
        "outputId": "a0ac1147-2854-4491-afd9-a332769372b6"
      },
      "source": [
        "!wget --load-cookies /tmp/cookies.txt \"https://docs.google.com/uc?export=download&confirm=$(wget --quiet --save-cookies /tmp/cookies.txt --keep-session-cookies --no-check-certificate 'https://docs.google.com/uc?export=download&id=1IMtWrTrs54SVzHlTgtBWqcQA990CCrQh' -O- | sed -rn 's/.*confirm=([0-9A-Za-z_]+).*/\\1\\n/p')&id=1IMtWrTrs54SVzHlTgtBWqcQA990CCrQh\" -O lenta-ru-news-full.csv && rm -rf /tmp/cookies.txt"
      ],
      "execution_count": null,
      "outputs": [
        {
          "output_type": "stream",
          "name": "stdout",
          "text": [
            "--2021-10-26 19:36:26--  https://docs.google.com/uc?export=download&confirm=94CX&id=1IMtWrTrs54SVzHlTgtBWqcQA990CCrQh\n",
            "Resolving docs.google.com (docs.google.com)... 74.125.134.113, 74.125.134.139, 74.125.134.100, ...\n",
            "Connecting to docs.google.com (docs.google.com)|74.125.134.113|:443... connected.\n",
            "HTTP request sent, awaiting response... 302 Moved Temporarily\n",
            "Location: https://doc-0c-bc-docs.googleusercontent.com/docs/securesc/82i407l4bglp5lqo6aftb2tgvf5s9g97/c4i97c0alcigkiodq3ec7ffqfjufgeqn/1635276975000/14013181690233399305/11514772734847751932Z/1IMtWrTrs54SVzHlTgtBWqcQA990CCrQh?e=download [following]\n",
            "--2021-10-26 19:36:26--  https://doc-0c-bc-docs.googleusercontent.com/docs/securesc/82i407l4bglp5lqo6aftb2tgvf5s9g97/c4i97c0alcigkiodq3ec7ffqfjufgeqn/1635276975000/14013181690233399305/11514772734847751932Z/1IMtWrTrs54SVzHlTgtBWqcQA990CCrQh?e=download\n",
            "Resolving doc-0c-bc-docs.googleusercontent.com (doc-0c-bc-docs.googleusercontent.com)... 172.217.204.132, 2607:f8b0:400c:c15::84\n",
            "Connecting to doc-0c-bc-docs.googleusercontent.com (doc-0c-bc-docs.googleusercontent.com)|172.217.204.132|:443... connected.\n",
            "HTTP request sent, awaiting response... 302 Found\n",
            "Location: https://docs.google.com/nonceSigner?nonce=uq550be0h2if8&continue=https://doc-0c-bc-docs.googleusercontent.com/docs/securesc/82i407l4bglp5lqo6aftb2tgvf5s9g97/c4i97c0alcigkiodq3ec7ffqfjufgeqn/1635276975000/14013181690233399305/11514772734847751932Z/1IMtWrTrs54SVzHlTgtBWqcQA990CCrQh?e%3Ddownload&hash=ab67k9r9b1sp1rsogml1udeavvave01f [following]\n",
            "--2021-10-26 19:36:26--  https://docs.google.com/nonceSigner?nonce=uq550be0h2if8&continue=https://doc-0c-bc-docs.googleusercontent.com/docs/securesc/82i407l4bglp5lqo6aftb2tgvf5s9g97/c4i97c0alcigkiodq3ec7ffqfjufgeqn/1635276975000/14013181690233399305/11514772734847751932Z/1IMtWrTrs54SVzHlTgtBWqcQA990CCrQh?e%3Ddownload&hash=ab67k9r9b1sp1rsogml1udeavvave01f\n",
            "Connecting to docs.google.com (docs.google.com)|74.125.134.113|:443... connected.\n",
            "HTTP request sent, awaiting response... 302 Found\n",
            "Location: https://doc-0c-bc-docs.googleusercontent.com/docs/securesc/82i407l4bglp5lqo6aftb2tgvf5s9g97/c4i97c0alcigkiodq3ec7ffqfjufgeqn/1635276975000/14013181690233399305/11514772734847751932Z/1IMtWrTrs54SVzHlTgtBWqcQA990CCrQh?e=download&nonce=uq550be0h2if8&user=11514772734847751932Z&hash=5rn3pfspspiui2ob0f9li8tqfcotjd7j [following]\n",
            "--2021-10-26 19:36:26--  https://doc-0c-bc-docs.googleusercontent.com/docs/securesc/82i407l4bglp5lqo6aftb2tgvf5s9g97/c4i97c0alcigkiodq3ec7ffqfjufgeqn/1635276975000/14013181690233399305/11514772734847751932Z/1IMtWrTrs54SVzHlTgtBWqcQA990CCrQh?e=download&nonce=uq550be0h2if8&user=11514772734847751932Z&hash=5rn3pfspspiui2ob0f9li8tqfcotjd7j\n",
            "Connecting to doc-0c-bc-docs.googleusercontent.com (doc-0c-bc-docs.googleusercontent.com)|172.217.204.132|:443... connected.\n",
            "HTTP request sent, awaiting response... 200 OK\n",
            "Length: 2084746431 (1.9G) [text/csv]\n",
            "Saving to: ‘lenta-ru-news-full.csv’\n",
            "\n",
            "lenta-ru-news-full. 100%[===================>]   1.94G  78.1MB/s    in 21s     \n",
            "\n",
            "2021-10-26 19:36:48 (93.2 MB/s) - ‘lenta-ru-news-full.csv’ saved [2084746431/2084746431]\n",
            "\n"
          ]
        }
      ]
    },
    {
      "cell_type": "code",
      "metadata": {
        "colab": {
          "base_uri": "https://localhost:8080/",
          "height": 455
        },
        "id": "dPAMMKC9_DQg",
        "outputId": "dba1923e-ac05-4fa6-9cf0-d61bd3c70693"
      },
      "source": [
        "import pandas as pd\n",
        "pd.set_option('display.max_columns', None)  \n",
        "pd.set_option('display.expand_frame_repr', False)\n",
        "pd.set_option('max_colwidth', 800)\n",
        "\n",
        "data = pd.read_csv('./lenta-ru-news-full.csv', usecols=['text'])\n",
        "data.sample(5)"
      ],
      "execution_count": null,
      "outputs": [
        {
          "output_type": "execute_result",
          "data": {
            "text/html": [
              "<div>\n",
              "<style scoped>\n",
              "    .dataframe tbody tr th:only-of-type {\n",
              "        vertical-align: middle;\n",
              "    }\n",
              "\n",
              "    .dataframe tbody tr th {\n",
              "        vertical-align: top;\n",
              "    }\n",
              "\n",
              "    .dataframe thead th {\n",
              "        text-align: right;\n",
              "    }\n",
              "</style>\n",
              "<table border=\"1\" class=\"dataframe\">\n",
              "  <thead>\n",
              "    <tr style=\"text-align: right;\">\n",
              "      <th></th>\n",
              "      <th>text</th>\n",
              "    </tr>\n",
              "  </thead>\n",
              "  <tbody>\n",
              "    <tr>\n",
              "      <th>214459</th>\n",
              "      <td>Число посетителей сайтов американских газет в 2007 году резко возросло, свидетельствуют статистические данные, обнародованные 24 января Газетной ассоциацией Америки (Newspaper Association of America), сообщает Reuters. В 2007 году в среднем за месяц на сайты американских газет заходили около 60 миллионов уникальных посетителей - на шесть процентов больше, чем в предыдущем году. При этом в четвертом квартале 2007 года аудитория интернет-версий газет, издающихся в США, демонстрировала прирост на 9 процентов в месяц. Интернет-версии газет посещали в 2007 году не менее 39 процентов от всей аудитории Сети. При этом средний пользователь проводил на сайтах газет не менее 44 минут в месяц. Статистические данные, опубликованные Газетной ассоциацией Америки, учитывают пользователей, выходящих в ...</td>\n",
              "    </tr>\n",
              "    <tr>\n",
              "      <th>664833</th>\n",
              "      <td>На Лондонском мосту микроавтобус наехал на пешеходов, проходит эвакуация людей, сообщает газета The Sun. Очевидцы также сообщают, что в районе моста слышны выстрелы, а несколько людей получили ножевые ранения. По информации BBC News, на месте происшествия работают вооруженные сотрудники полиции. В результате происшествия, как пишет The Telegraph, пострадали 15-20 человек. 22 марта в Лондоне уроженец юго-востока Англии Эдриан Рассел Аджао, сменивший имя на Халид Масуд, находясь за рулем автомобиля, направил его на пешеходов на Вестминстерском мосту, сбил несколько человек и доехал до здания парламента. Там машину остановил полицейский. Преступник зарезал его ножом, после чего был застрелен другим стражем порядка. Погибли пять человек.</td>\n",
              "    </tr>\n",
              "    <tr>\n",
              "      <th>110006</th>\n",
              "      <td>Американская компьютерная компания Altnet направила письма владельцам нескольких базирующихся в США файлообменных сетей с уведомлением о том, что они незаконно используют в своей работе технологию, патент на которую ей принадлежит. Как сообщает газета Washington Post, Altnet владеет патентом на технологию \"хэшинга\" (hashing), которая предусматривает снабжение каждого файла кратким описанием (\"хэшем\"), с которым пользователи сетей могут ознакомиться, чтобы узнать, что содержится в том или ином файле. Сети также используют хэши для управления публичными каталогами пользователей. Как известно, файлообменные сети предназначены для бесплатного обмена компьютерными файлами между пользователями Интернета, и большинство медиапродукции, распространяемой по таким сетям, является нелицензионной. ...</td>\n",
              "    </tr>\n",
              "    <tr>\n",
              "      <th>774383</th>\n",
              "      <td>Мэр Москвы Сергей Собянин заявил, что организаторы несанкционированных мероприятий в центре Москвы пытались втянуть участников в массовые беспорядки. Об этом он заявил в эфире телеканала «Россия-1», сообщает в воскресенье, 4 августа, радиостанция «Говорит Москва». По его словам, не все пришедшие на акцию граждане ожидали «такого развития событий». «Это все не для блага людей, а ради чьих-то политических, узкокорыстных целей…» — высказался градоначальник. Он добавил, что, по его данным, многие собравшиеся не имели «никакого отношения к Москве» и к выборам в Мосгордуму. «Я уверен, что москвичи это хорошо понимают», — заключил Собянин. Несогласованный митинг в поддержку не допущенных на выборы независимых кандидатов в Мосгордуму начался в Москве днем в субботу, 3 августа. По информации МВ...</td>\n",
              "    </tr>\n",
              "    <tr>\n",
              "      <th>518138</th>\n",
              "      <td>Сотрудники Следственного комитета России задержали в Санкт-Петербурге генерального директора компании «Экспо-тур» Игоря Рюрикова, сообщает официальный представитель ведомства Владимир Маркин. По данным следствия, задержанный знал, что его компанию исключат из Единого федерального реестра в июне 2014 года. Однако он дал указание сотрудникам продолжать работу и оформлять путевки. «В результате его действий были похищены денежные средства граждан на общую сумму более одного миллиона рублей», — подчеркнул Маркин. В настоящее время решается вопрос о его аресте и предъявлении обвинения. После проверок деятельности турфирм в Москве и Санкт-Петербурге за последнее время возбуждено шесть уголовных дел в отношении руководителей компаний, сообщает официальный представитель Генеральной прокуратуры...</td>\n",
              "    </tr>\n",
              "  </tbody>\n",
              "</table>\n",
              "</div>"
            ],
            "text/plain": [
              "                                                                                                                                                                                                                                                                                                                                                                                                                                                                                                                                                                                                                                                                                                                                                                                                                                   text\n",
              "214459  Число посетителей сайтов американских газет в 2007 году резко возросло, свидетельствуют статистические данные, обнародованные 24 января Газетной ассоциацией Америки (Newspaper Association of America), сообщает Reuters. В 2007 году в среднем за месяц на сайты американских газет заходили около 60 миллионов уникальных посетителей - на шесть процентов больше, чем в предыдущем году. При этом в четвертом квартале 2007 года аудитория интернет-версий газет, издающихся в США, демонстрировала прирост на 9 процентов в месяц. Интернет-версии газет посещали в 2007 году не менее 39 процентов от всей аудитории Сети. При этом средний пользователь проводил на сайтах газет не менее 44 минут в месяц. Статистические данные, опубликованные Газетной ассоциацией Америки, учитывают пользователей, выходящих в ...\n",
              "664833                                                          На Лондонском мосту микроавтобус наехал на пешеходов, проходит эвакуация людей, сообщает газета The Sun. Очевидцы также сообщают, что в районе моста слышны выстрелы, а несколько людей получили ножевые ранения. По информации BBC News, на месте происшествия работают вооруженные сотрудники полиции. В результате происшествия, как пишет The Telegraph, пострадали 15-20 человек. 22 марта в Лондоне уроженец юго-востока Англии Эдриан Рассел Аджао, сменивший имя на Халид Масуд, находясь за рулем автомобиля, направил его на пешеходов на Вестминстерском мосту, сбил несколько человек и доехал до здания парламента. Там машину остановил полицейский. Преступник зарезал его ножом, после чего был застрелен другим стражем порядка. Погибли пять человек.\n",
              "110006  Американская компьютерная компания Altnet направила письма владельцам нескольких базирующихся в США файлообменных сетей с уведомлением о том, что они незаконно используют в своей работе технологию, патент на которую ей принадлежит. Как сообщает газета Washington Post, Altnet владеет патентом на технологию \"хэшинга\" (hashing), которая предусматривает снабжение каждого файла кратким описанием (\"хэшем\"), с которым пользователи сетей могут ознакомиться, чтобы узнать, что содержится в том или ином файле. Сети также используют хэши для управления публичными каталогами пользователей. Как известно, файлообменные сети предназначены для бесплатного обмена компьютерными файлами между пользователями Интернета, и большинство медиапродукции, распространяемой по таким сетям, является нелицензионной. ...\n",
              "774383  Мэр Москвы Сергей Собянин заявил, что организаторы несанкционированных мероприятий в центре Москвы пытались втянуть участников в массовые беспорядки. Об этом он заявил в эфире телеканала «Россия-1», сообщает в воскресенье, 4 августа, радиостанция «Говорит Москва». По его словам, не все пришедшие на акцию граждане ожидали «такого развития событий». «Это все не для блага людей, а ради чьих-то политических, узкокорыстных целей…» — высказался градоначальник. Он добавил, что, по его данным, многие собравшиеся не имели «никакого отношения к Москве» и к выборам в Мосгордуму. «Я уверен, что москвичи это хорошо понимают», — заключил Собянин. Несогласованный митинг в поддержку не допущенных на выборы независимых кандидатов в Мосгордуму начался в Москве днем в субботу, 3 августа. По информации МВ...\n",
              "518138  Сотрудники Следственного комитета России задержали в Санкт-Петербурге генерального директора компании «Экспо-тур» Игоря Рюрикова, сообщает официальный представитель ведомства Владимир Маркин. По данным следствия, задержанный знал, что его компанию исключат из Единого федерального реестра в июне 2014 года. Однако он дал указание сотрудникам продолжать работу и оформлять путевки. «В результате его действий были похищены денежные средства граждан на общую сумму более одного миллиона рублей», — подчеркнул Маркин. В настоящее время решается вопрос о его аресте и предъявлении обвинения. После проверок деятельности турфирм в Москве и Санкт-Петербурге за последнее время возбуждено шесть уголовных дел в отношении руководителей компаний, сообщает официальный представитель Генеральной прокуратуры..."
            ]
          },
          "metadata": {},
          "execution_count": 56
        }
      ]
    },
    {
      "cell_type": "code",
      "metadata": {
        "id": "rL6nlMJVHIIL"
      },
      "source": [
        "# !pip install pymorphy2"
      ],
      "execution_count": null,
      "outputs": []
    },
    {
      "cell_type": "code",
      "metadata": {
        "id": "0DnFW7h8_DQh"
      },
      "source": [
        "import pymorphy2\n",
        "import re"
      ],
      "execution_count": null,
      "outputs": []
    },
    {
      "cell_type": "code",
      "metadata": {
        "id": "p2AFr_q6_DQh"
      },
      "source": [
        "m = pymorphy2.MorphAnalyzer()\n",
        "\n",
        "# delete non-alphabetic characters\n",
        "regex = re.compile(\"[А-Яа-яA-z]+\")\n",
        "\n",
        "def words_only(text, regex=regex):\n",
        "    try:\n",
        "        return regex.findall(text.lower())\n",
        "    except:\n",
        "        return []"
      ],
      "execution_count": null,
      "outputs": []
    },
    {
      "cell_type": "code",
      "metadata": {
        "colab": {
          "base_uri": "https://localhost:8080/"
        },
        "id": "unleBoms_DQh",
        "outputId": "a78695cf-de93-48dd-df41-c5b9482e5744"
      },
      "source": [
        "print(data.text[0])"
      ],
      "execution_count": null,
      "outputs": [
        {
          "output_type": "stream",
          "name": "stdout",
          "text": [
            "Бои у Сопоцкина и Друскеник закончились отступлением германцев. Неприятель, приблизившись с севера к Осовцу начал артиллерийскую борьбу с крепостью. В артиллерийском бою принимают участие тяжелые калибры. С раннего утра 14 сентября огонь достиг значительного напряжения. Попытка германской пехоты пробиться ближе к крепости отражена. В Галиции мы заняли Дембицу. Большая колонна, отступавшая по шоссе от Перемышля к Саноку, обстреливалась с высот нашей батареей и бежала, бросив парки, обоз и автомобили. Вылазки гарнизона Перемышля остаются безуспешными. При продолжающемся отступлении австрийцев обнаруживается полное перемешивание их частей, захватываются новые партии пленных, орудия и прочая материальная часть. На перевале Ужок мы разбили неприятельский отряд, взяли его артиллерию и много пленных и, продолжая преследовать, вступили в пределы Венгрии. \n",
            "«Русский инвалид», 16 сентября 1914 года.\n"
          ]
        }
      ]
    },
    {
      "cell_type": "code",
      "metadata": {
        "colab": {
          "base_uri": "https://localhost:8080/"
        },
        "id": "Tiqu77c__DQh",
        "outputId": "21f589bf-47f5-4cb5-ec2d-d1c5653ce156"
      },
      "source": [
        "print(*words_only(data.text[0]))"
      ],
      "execution_count": null,
      "outputs": [
        {
          "output_type": "stream",
          "name": "stdout",
          "text": [
            "бои у сопоцкина и друскеник закончились отступлением германцев неприятель приблизившись с севера к осовцу начал артиллерийскую борьбу с крепостью в артиллерийском бою принимают участие тяжелые калибры с раннего утра сентября огонь достиг значительного напряжения попытка германской пехоты пробиться ближе к крепости отражена в галиции мы заняли дембицу большая колонна отступавшая по шоссе от перемышля к саноку обстреливалась с высот нашей батареей и бежала бросив парки обоз и автомобили вылазки гарнизона перемышля остаются безуспешными при продолжающемся отступлении австрийцев обнаруживается полное перемешивание их частей захватываются новые партии пленных орудия и прочая материальная часть на перевале ужок мы разбили неприятельский отряд взяли его артиллерию и много пленных и продолжая преследовать вступили в пределы венгрии русский инвалид сентября года\n"
          ]
        }
      ]
    },
    {
      "cell_type": "markdown",
      "metadata": {
        "id": "_UJN2568_DQh"
      },
      "source": [
        "`@lru_cache` method creates a cache of the specified size for the `lemmatize` function, which allows you to speed up text lemmatization in general (which is very useful, since lemmatization is a resource-intensive process)."
      ]
    },
    {
      "cell_type": "code",
      "metadata": {
        "id": "Vxm9CbBtHd85"
      },
      "source": [
        "import functools\n",
        "from nltk.corpus import stopwords"
      ],
      "execution_count": null,
      "outputs": []
    },
    {
      "cell_type": "code",
      "metadata": {
        "id": "uP2UqA7E_DQh"
      },
      "source": [
        "@functools.lru_cache(maxsize=128)\n",
        "def lemmatize_word(token, pymorphy=m):\n",
        "    return pymorphy.parse(token)[0].normal_form\n",
        "\n",
        "def lemmatize_text(text):\n",
        "    return [lemmatize_word(w) for w in text]"
      ],
      "execution_count": null,
      "outputs": []
    },
    {
      "cell_type": "code",
      "metadata": {
        "colab": {
          "base_uri": "https://localhost:8080/"
        },
        "id": "HMU4gp3c_DQh",
        "outputId": "2681d0e0-664d-4b9c-b79b-e7685b204199"
      },
      "source": [
        "tokens = words_only(data.text[0])\n",
        "\n",
        "print(lemmatize_text(tokens))"
      ],
      "execution_count": null,
      "outputs": [
        {
          "output_type": "stream",
          "name": "stdout",
          "text": [
            "['бой', 'у', 'сопоцкина', 'и', 'друскеник', 'закончиться', 'отступление', 'германец', 'неприятель', 'приблизиться', 'с', 'север', 'к', 'осовца', 'начать', 'артиллерийский', 'борьба', 'с', 'крепость', 'в', 'артиллерийский', 'бой', 'принимать', 'участие', 'тяжёлый', 'калибр', 'с', 'ранний', 'утро', 'сентябрь', 'огонь', 'достигнуть', 'значительный', 'напряжение', 'попытка', 'германский', 'пехота', 'пробиться', 'близкий', 'к', 'крепость', 'отразить', 'в', 'галиция', 'мы', 'занять', 'дембица', 'больший', 'колонна', 'отступать', 'по', 'шоссе', 'от', 'перемышль', 'к', 'санок', 'обстреливаться', 'с', 'высота', 'наш', 'батарея', 'и', 'бежать', 'бросить', 'парка', 'обоз', 'и', 'автомобиль', 'вылазка', 'гарнизон', 'перемышль', 'оставаться', 'безуспешный', 'при', 'продолжаться', 'отступление', 'австриец', 'обнаруживаться', 'полный', 'перемешивание', 'они', 'часть', 'захватываться', 'новый', 'партия', 'пленный', 'орудие', 'и', 'прочий', 'материальный', 'часть', 'на', 'перевал', 'ужок', 'мы', 'разбить', 'неприятельский', 'отряд', 'взять', 'он', 'артиллерия', 'и', 'много', 'пленный', 'и', 'продолжать', 'преследовать', 'вступить', 'в', 'предел', 'венгрия', 'русский', 'инвалид', 'сентябрь', 'год']\n"
          ]
        }
      ]
    },
    {
      "cell_type": "code",
      "metadata": {
        "id": "nP2hWfei_DQi"
      },
      "source": [
        "mystopwords = stopwords.words('russian') \n",
        "\n",
        "def remove_stopwords(lemmas, stopwords = mystopwords):\n",
        "    return [w for w in lemmas if not w in stopwords]"
      ],
      "execution_count": null,
      "outputs": []
    },
    {
      "cell_type": "code",
      "metadata": {
        "colab": {
          "base_uri": "https://localhost:8080/"
        },
        "id": "CXn8fCNH_DQi",
        "outputId": "4f5d8f2a-8283-4a13-8ca0-53ab4866af69"
      },
      "source": [
        "lemmas = lemmatize_text(tokens)\n",
        "\n",
        "print(*remove_stopwords(lemmas))"
      ],
      "execution_count": null,
      "outputs": [
        {
          "output_type": "stream",
          "name": "stdout",
          "text": [
            "бой сопоцкина друскеник закончиться отступление германец неприятель приблизиться север осовца начать артиллерийский борьба крепость артиллерийский бой принимать участие тяжёлый калибр ранний утро сентябрь огонь достигнуть значительный напряжение попытка германский пехота пробиться близкий крепость отразить галиция занять дембица больший колонна отступать шоссе перемышль санок обстреливаться высота наш батарея бежать бросить парка обоз автомобиль вылазка гарнизон перемышль оставаться безуспешный продолжаться отступление австриец обнаруживаться полный перемешивание часть захватываться новый партия пленный орудие прочий материальный часть перевал ужок разбить неприятельский отряд взять артиллерия пленный продолжать преследовать вступить предел венгрия русский инвалид сентябрь год\n"
          ]
        }
      ]
    },
    {
      "cell_type": "code",
      "metadata": {
        "id": "Dx9XLW5K_DQi"
      },
      "source": [
        "def remove_stopwords(lemmas, stopwords = mystopwords):\n",
        "    return [w for w in lemmas if not w in stopwords and len(w) > 3]"
      ],
      "execution_count": null,
      "outputs": []
    },
    {
      "cell_type": "code",
      "metadata": {
        "colab": {
          "base_uri": "https://localhost:8080/"
        },
        "id": "n3QEYmKM_DQi",
        "outputId": "749cca1d-e3f9-47c7-f461-0d5756006988"
      },
      "source": [
        "print(*remove_stopwords(lemmas))"
      ],
      "execution_count": null,
      "outputs": [
        {
          "output_type": "stream",
          "name": "stdout",
          "text": [
            "сопоцкина друскеник закончиться отступление германец неприятель приблизиться север осовца начать артиллерийский борьба крепость артиллерийский принимать участие тяжёлый калибр ранний утро сентябрь огонь достигнуть значительный напряжение попытка германский пехота пробиться близкий крепость отразить галиция занять дембица больший колонна отступать шоссе перемышль санок обстреливаться высота батарея бежать бросить парка обоз автомобиль вылазка гарнизон перемышль оставаться безуспешный продолжаться отступление австриец обнаруживаться полный перемешивание часть захватываться новый партия пленный орудие прочий материальный часть перевал ужок разбить неприятельский отряд взять артиллерия пленный продолжать преследовать вступить предел венгрия русский инвалид сентябрь\n"
          ]
        }
      ]
    },
    {
      "cell_type": "markdown",
      "metadata": {
        "id": "Ix_kZxpA_DQi"
      },
      "source": [
        "Joining everything to one function:"
      ]
    },
    {
      "cell_type": "code",
      "metadata": {
        "id": "sn1IxKUb_DQi"
      },
      "source": [
        "def clean_text(text):\n",
        "    tokens = words_only(text)\n",
        "    lemmas = lemmatize_text(tokens)\n",
        "    \n",
        "    return remove_stopwords(lemmas)"
      ],
      "execution_count": null,
      "outputs": []
    },
    {
      "cell_type": "code",
      "metadata": {
        "colab": {
          "base_uri": "https://localhost:8080/"
        },
        "id": "MDsPUDbP_DQi",
        "outputId": "d8733017-7603-4d8b-e518-f43d91a35c86"
      },
      "source": [
        "print(*clean_text(data.text[3]))"
      ],
      "execution_count": null,
      "outputs": [
        {
          "output_type": "stream",
          "name": "stdout",
          "text": [
            "фотограф корреспондент daily mirror рассказывать случай который порадовать весь друг животное лейтенант бельгийский артиллерия руководить оборона фортов льеж хотеть расстаться свой собака бульдог пруссак пробраться фортов самый город офицер прийти голова доверить бульдог письмо который посылать успокоительный ведать свой родитель благородный честно исполнить свой миссия десять спустя бульдог проникнуть обратно форт принести ответ момент бульдог стать настоящий гонец пробираться линия германский войско нести спрятать ошейник шифровать депеша журнал нива сентябрь\n"
          ]
        }
      ]
    },
    {
      "cell_type": "markdown",
      "metadata": {
        "id": "r3tiOOnL_DQj"
      },
      "source": [
        "If you need to preprocess large texts, you may also use `Pool` method of the `multiprocessing` library:"
      ]
    },
    {
      "cell_type": "code",
      "metadata": {
        "colab": {
          "base_uri": "https://localhost:8080/",
          "height": 49,
          "referenced_widgets": [
            "7074d2d5d43a48dbaab5e7254f02c54d",
            "6bdfbcf3cd52425182476a25ff493ba0",
            "bd652610a51a4737a5f412f113967716",
            "857af05e786d465a863249578f902cf3",
            "0aa562edbcfe49f38c44fe6713580a6c",
            "b7eb54ccd06b46dd82f24014711b5f35",
            "02f0d0651ad14cd5a4789930250a6bc7",
            "406fb66ca477446584c8e2ab6734ab0a",
            "709bbd8b815841dcb51071c67f1b94ff",
            "53d2fe3d7e454cfb86de21c59521debe",
            "92c542d8169b46439a6fb174e30122c8"
          ]
        },
        "id": "9FZVWgto_DQj",
        "outputId": "dd141788-4f33-4595-9b96-6e9a67b6f8cd"
      },
      "source": [
        "from multiprocessing import Pool\n",
        "from tqdm.notebook import tqdm\n",
        "\n",
        "N = 200\n",
        "\n",
        "with Pool(8) as p:\n",
        "    lemmas = list(tqdm(p.imap(clean_text, data['text'][:N]), total=N))"
      ],
      "execution_count": null,
      "outputs": [
        {
          "output_type": "display_data",
          "data": {
            "application/vnd.jupyter.widget-view+json": {
              "model_id": "7074d2d5d43a48dbaab5e7254f02c54d",
              "version_minor": 0,
              "version_major": 2
            },
            "text/plain": [
              "  0%|          | 0/200 [00:00<?, ?it/s]"
            ]
          },
          "metadata": {}
        }
      ]
    },
    {
      "cell_type": "code",
      "metadata": {
        "colab": {
          "base_uri": "https://localhost:8080/",
          "height": 478
        },
        "id": "U0Rdqydg_DQk",
        "outputId": "0b7a64ab-9962-48d4-da25-75e8a3ab5f73"
      },
      "source": [
        "data = data.head(200)\n",
        "data['lemmas'] = lemmas\n",
        "data.sample(3)"
      ],
      "execution_count": null,
      "outputs": [
        {
          "output_type": "execute_result",
          "data": {
            "text/html": [
              "<div>\n",
              "<style scoped>\n",
              "    .dataframe tbody tr th:only-of-type {\n",
              "        vertical-align: middle;\n",
              "    }\n",
              "\n",
              "    .dataframe tbody tr th {\n",
              "        vertical-align: top;\n",
              "    }\n",
              "\n",
              "    .dataframe thead th {\n",
              "        text-align: right;\n",
              "    }\n",
              "</style>\n",
              "<table border=\"1\" class=\"dataframe\">\n",
              "  <thead>\n",
              "    <tr style=\"text-align: right;\">\n",
              "      <th></th>\n",
              "      <th>text</th>\n",
              "      <th>lemmas</th>\n",
              "    </tr>\n",
              "  </thead>\n",
              "  <tbody>\n",
              "    <tr>\n",
              "      <th>146</th>\n",
              "      <td>В четверг вечером представители Генеральной прокуратуры России приступили к обыскам на даче и двух московских квартирах Юрия Скуратова, отстраненного от должности генпрокурора. Как передает \"Интерфакс\", ссылаясь на дочь  Юрия Скуратова, по  данным  на 20 часов 40 минут по московскому времени  группа сотрудников  Генпрокуратуры из  шести  человек производила обыск на даче генпрокурора   в   подмосковном Архангельском. По словам дочери Скуратова, днем в этот же день были проведены обыски в  двух московских  квартирах, в  которых прописана  семья Юрия Скуратова и родители его жены. В Генеральной  прокуратуре РФ  \"Интерфаксу\" подтвердили, что обыски проводятся  с санкции  прокурора  в  рамках  расследования уголовного дела,  возбужденного 2  апреля в отношении Скуратова по статье \"Злоупотр...</td>\n",
              "      <td>[четверг, вечером, представитель, генеральный, прокуратура, россия, приступить, обыск, дача, московский, квартира, юрий, скуратов, отстранить, должность, генпрокурор, передавать, интерфакс, ссылаться, дочь, юрий, скуратов, данные, минута, московский, время, группа, сотрудник, генпрокуратура, шесть, человек, производить, обыск, дача, генпрокурор, подмосковный, архангельск, слово, дочь, скуратов, день, день, провести, обыск, московский, квартира, который, прописать, семья, юрий, скуратов, родитель, жена, генеральный, прокуратура, интерфакс, подтвердить, обыск, проводиться, санкция, прокурор, рамка, расследование, уголовный, дело, возбудить, апрель, отношение, скуратов, статья, злоупотребление, должностной, полномочие, скуратов, комментарий, воздержаться]</td>\n",
              "    </tr>\n",
              "    <tr>\n",
              "      <th>165</th>\n",
              "      <td>Нефтеперерабатывающий завод \"Ярославнефтеоргсинтез\" увеличил отпускные оптовые цены на наиболее ходовые марки бензина в среднем на 25% по отношению к ценам августа, - передает РИА \"Новости\" со ссылкой на отдел сбыта завода. Цена бензина Аи-92 возросла на 21% и теперь составляет 5 тысяч 500 рублей за тонну; бензина А-76 - на 33% (5 тысяч 200 рублей за тонну); бензина Аи-95 - на 18% (6 тысяч 400 рублей за тонну). Дизельное топливо завод отпускает теперь по цене 3 тысячи 600 рублей за тонну, что соответствует подорожанию на 23% по сравнению с прошлым месяцем. Нефтеперерабатывающий завод \"Ярославнефтеоргсинтез\" является одним из основных поставщиков нефтепродуктов на рынок Москвы и Центрального региона России в целом.</td>\n",
              "      <td>[нефтеперерабатывающий, завод, ярославнефтеоргсинтез, увеличить, отпускной, оптовый, цена, наиболее, ходовой, марка, бензин, среднее, отношение, цена, август, передавать, новость, ссылка, отдел, сбыт, завод, цена, бензин, возрасти, составлять, тысяча, рубль, тонна, бензин, тысяча, рубль, тонна, бензин, тысяча, рубль, тонна, дизельный, топливо, завод, отпускать, цена, тысяча, рубль, тонна, соответствовать, подорожание, сравнение, прошлое, месяц, нефтеперерабатывающий, завод, ярославнефтеоргсинтез, являться, основный, поставщик, нефтепродукт, рынок, москва, центральный, регион, россия, целое]</td>\n",
              "    </tr>\n",
              "    <tr>\n",
              "      <th>105</th>\n",
              "      <td>Сегодня днем в столице Греции произошло землетрясение силой 5,9 балла по шкале Рихтера. Согласно данным греческих сейсмологов, эпицентр находился в 20 километрах к северо-западу от Афин. В результате подземных толчков вибрировали здания, некоторые из них покрылись трещинами, во многих местах осыпалась штукатурка. По данным полиции, в северной части Афин рухнул один дом. По радио было передано обращение местных властей к столичным жителям с указанием покинуть жилые помещения в связи с продолжающейся сейсмической активностью. Люди сильно озабочены происходящим, пытаются дозвониться до родственников или добраться на автомобиле туда, где находятся их дети - в школы, детские сады. Люди крайне взволнованы, все вспоминают о недавнем разрушительном землетрясении в соседней Турции. В результате...</td>\n",
              "      <td>[сегодня, день, столица, греция, произойти, землетрясение, сила, балл, шкала, рихтер, согласно, данные, греческий, сейсмолог, эпицентр, находиться, километр, северо, запад, афины, результат, подземный, толчок, вибрировать, здание, некоторый, покрыться, трещина, многий, место, осыпаться, штукатурка, данные, полиция, северный, часть, афины, рухнуть, радио, передать, обращение, местный, власть, столичный, житель, указание, покинуть, жилой, помещение, связь, продолжаться, сейсмический, активность, человек, сильно, озаботить, происходить, пытаться, дозвониться, родственник, добраться, автомобиль, туда, находиться, ребёнок, школа, детский, человек, крайне, взволновать, вспоминать, недавний, разрушительный, землетрясение, соседний, турция, результат, подземный, толчок, афины, выйти, строй, ст...</td>\n",
              "    </tr>\n",
              "  </tbody>\n",
              "</table>\n",
              "</div>"
            ],
            "text/plain": [
              "                                                                                                                                                                                                                                                                                                                                                                                                                                                                                                                                                                                                                                                                                                                                                                                                                                text                                                                                                                                                                                                                                                                                                                                                                                                                                                                                                                                                                                                                                                                                                                                                                                                                           lemmas\n",
              "146  В четверг вечером представители Генеральной прокуратуры России приступили к обыскам на даче и двух московских квартирах Юрия Скуратова, отстраненного от должности генпрокурора. Как передает \"Интерфакс\", ссылаясь на дочь  Юрия Скуратова, по  данным  на 20 часов 40 минут по московскому времени  группа сотрудников  Генпрокуратуры из  шести  человек производила обыск на даче генпрокурора   в   подмосковном Архангельском. По словам дочери Скуратова, днем в этот же день были проведены обыски в  двух московских  квартирах, в  которых прописана  семья Юрия Скуратова и родители его жены. В Генеральной  прокуратуре РФ  \"Интерфаксу\" подтвердили, что обыски проводятся  с санкции  прокурора  в  рамках  расследования уголовного дела,  возбужденного 2  апреля в отношении Скуратова по статье \"Злоупотр...                                       [четверг, вечером, представитель, генеральный, прокуратура, россия, приступить, обыск, дача, московский, квартира, юрий, скуратов, отстранить, должность, генпрокурор, передавать, интерфакс, ссылаться, дочь, юрий, скуратов, данные, минута, московский, время, группа, сотрудник, генпрокуратура, шесть, человек, производить, обыск, дача, генпрокурор, подмосковный, архангельск, слово, дочь, скуратов, день, день, провести, обыск, московский, квартира, который, прописать, семья, юрий, скуратов, родитель, жена, генеральный, прокуратура, интерфакс, подтвердить, обыск, проводиться, санкция, прокурор, рамка, расследование, уголовный, дело, возбудить, апрель, отношение, скуратов, статья, злоупотребление, должностной, полномочие, скуратов, комментарий, воздержаться]\n",
              "165                                                                              Нефтеперерабатывающий завод \"Ярославнефтеоргсинтез\" увеличил отпускные оптовые цены на наиболее ходовые марки бензина в среднем на 25% по отношению к ценам августа, - передает РИА \"Новости\" со ссылкой на отдел сбыта завода. Цена бензина Аи-92 возросла на 21% и теперь составляет 5 тысяч 500 рублей за тонну; бензина А-76 - на 33% (5 тысяч 200 рублей за тонну); бензина Аи-95 - на 18% (6 тысяч 400 рублей за тонну). Дизельное топливо завод отпускает теперь по цене 3 тысячи 600 рублей за тонну, что соответствует подорожанию на 23% по сравнению с прошлым месяцем. Нефтеперерабатывающий завод \"Ярославнефтеоргсинтез\" является одним из основных поставщиков нефтепродуктов на рынок Москвы и Центрального региона России в целом.                                                                                                                                                                                                            [нефтеперерабатывающий, завод, ярославнефтеоргсинтез, увеличить, отпускной, оптовый, цена, наиболее, ходовой, марка, бензин, среднее, отношение, цена, август, передавать, новость, ссылка, отдел, сбыт, завод, цена, бензин, возрасти, составлять, тысяча, рубль, тонна, бензин, тысяча, рубль, тонна, бензин, тысяча, рубль, тонна, дизельный, топливо, завод, отпускать, цена, тысяча, рубль, тонна, соответствовать, подорожание, сравнение, прошлое, месяц, нефтеперерабатывающий, завод, ярославнефтеоргсинтез, являться, основный, поставщик, нефтепродукт, рынок, москва, центральный, регион, россия, целое]\n",
              "105  Сегодня днем в столице Греции произошло землетрясение силой 5,9 балла по шкале Рихтера. Согласно данным греческих сейсмологов, эпицентр находился в 20 километрах к северо-западу от Афин. В результате подземных толчков вибрировали здания, некоторые из них покрылись трещинами, во многих местах осыпалась штукатурка. По данным полиции, в северной части Афин рухнул один дом. По радио было передано обращение местных властей к столичным жителям с указанием покинуть жилые помещения в связи с продолжающейся сейсмической активностью. Люди сильно озабочены происходящим, пытаются дозвониться до родственников или добраться на автомобиле туда, где находятся их дети - в школы, детские сады. Люди крайне взволнованы, все вспоминают о недавнем разрушительном землетрясении в соседней Турции. В результате...  [сегодня, день, столица, греция, произойти, землетрясение, сила, балл, шкала, рихтер, согласно, данные, греческий, сейсмолог, эпицентр, находиться, километр, северо, запад, афины, результат, подземный, толчок, вибрировать, здание, некоторый, покрыться, трещина, многий, место, осыпаться, штукатурка, данные, полиция, северный, часть, афины, рухнуть, радио, передать, обращение, местный, власть, столичный, житель, указание, покинуть, жилой, помещение, связь, продолжаться, сейсмический, активность, человек, сильно, озаботить, происходить, пытаться, дозвониться, родственник, добраться, автомобиль, туда, находиться, ребёнок, школа, детский, человек, крайне, взволновать, вспоминать, недавний, разрушительный, землетрясение, соседний, турция, результат, подземный, толчок, афины, выйти, строй, ст..."
            ]
          },
          "metadata": {},
          "execution_count": 84
        }
      ]
    },
    {
      "cell_type": "markdown",
      "metadata": {
        "id": "N9FVdVTJ_DQl"
      },
      "source": [
        "## Now it is your time to analyse text in English"
      ]
    },
    {
      "cell_type": "code",
      "metadata": {
        "id": "0gByUbwhIMaR"
      },
      "source": [
        "from sklearn.datasets import fetch_20newsgroups"
      ],
      "execution_count": null,
      "outputs": []
    },
    {
      "cell_type": "code",
      "metadata": {
        "id": "0JOs1Tw5_DQl"
      },
      "source": [
        "def twenty_newsgroup_to_csv():\n",
        "    newsgroups_train = fetch_20newsgroups(subset='train', remove=('headers', 'footers', 'quotes'))\n",
        "\n",
        "    df = pd.DataFrame([newsgroups_train.data, newsgroups_train.target.tolist()]).T\n",
        "    df.columns = ['text', 'target']\n",
        "\n",
        "    targets = pd.DataFrame( newsgroups_train.target_names)\n",
        "    targets.columns=['title']\n",
        "\n",
        "    out = pd.merge(df, targets, left_on='target', right_index=True)\n",
        "    out['date'] = pd.to_datetime('now')\n",
        "    return out"
      ],
      "execution_count": null,
      "outputs": []
    },
    {
      "cell_type": "code",
      "metadata": {
        "id": "eeL6xPxpIb-4"
      },
      "source": [
        "df = twenty_newsgroup_to_csv()\n",
        "df.head(5)"
      ],
      "execution_count": null,
      "outputs": []
    },
    {
      "cell_type": "code",
      "metadata": {
        "id": "zi4BSrWQ_DQl"
      },
      "source": [
        "# your code here"
      ],
      "execution_count": null,
      "outputs": []
    },
    {
      "cell_type": "markdown",
      "metadata": {
        "id": "7y-PcqQT_DQl"
      },
      "source": [
        "### Result:\n",
        "\n",
        "- learned about standard text preprocessing pipeline\n",
        "- learned how to work with morphological parsers"
      ]
    },
    {
      "cell_type": "code",
      "metadata": {
        "id": "nMM7F57W_DQl"
      },
      "source": [],
      "execution_count": null,
      "outputs": []
    }
  ]
}