{
  "nbformat": 4,
  "nbformat_minor": 0,
  "metadata": {
    "colab": {
      "provenance": []
    },
    "kernelspec": {
      "name": "python3",
      "display_name": "Python 3"
    },
    "language_info": {
      "name": "python"
    },
    "accelerator": "GPU",
    "widgets": {
      "application/vnd.jupyter.widget-state+json": {
        "4df2db0b4c284223ae350df6aef4c6a3": {
          "model_module": "@jupyter-widgets/controls",
          "model_name": "HBoxModel",
          "model_module_version": "1.5.0",
          "state": {
            "_view_name": "HBoxView",
            "_dom_classes": [],
            "_model_name": "HBoxModel",
            "_view_module": "@jupyter-widgets/controls",
            "_model_module_version": "1.5.0",
            "_view_count": null,
            "_view_module_version": "1.5.0",
            "box_style": "",
            "layout": "IPY_MODEL_f35d88f11b124b2eb94d72ee2cb7ffc9",
            "_model_module": "@jupyter-widgets/controls",
            "children": [
              "IPY_MODEL_69ca3484e4d741d4864003f024a822a4",
              "IPY_MODEL_d4e509e4880d4d1f9a6e1fd0e17a6b5e",
              "IPY_MODEL_c00ec2c931ae4371ba9cd9a765b2ba00"
            ]
          }
        },
        "f35d88f11b124b2eb94d72ee2cb7ffc9": {
          "model_module": "@jupyter-widgets/base",
          "model_name": "LayoutModel",
          "model_module_version": "1.2.0",
          "state": {
            "_view_name": "LayoutView",
            "grid_template_rows": null,
            "right": null,
            "justify_content": null,
            "_view_module": "@jupyter-widgets/base",
            "overflow": null,
            "_model_module_version": "1.2.0",
            "_view_count": null,
            "flex_flow": null,
            "width": null,
            "min_width": null,
            "border": null,
            "align_items": null,
            "bottom": null,
            "_model_module": "@jupyter-widgets/base",
            "top": null,
            "grid_column": null,
            "overflow_y": null,
            "overflow_x": null,
            "grid_auto_flow": null,
            "grid_area": null,
            "grid_template_columns": null,
            "flex": null,
            "_model_name": "LayoutModel",
            "justify_items": null,
            "grid_row": null,
            "max_height": null,
            "align_content": null,
            "visibility": null,
            "align_self": null,
            "height": null,
            "min_height": null,
            "padding": null,
            "grid_auto_rows": null,
            "grid_gap": null,
            "max_width": null,
            "order": null,
            "_view_module_version": "1.2.0",
            "grid_template_areas": null,
            "object_position": null,
            "object_fit": null,
            "grid_auto_columns": null,
            "margin": null,
            "display": null,
            "left": null
          }
        },
        "69ca3484e4d741d4864003f024a822a4": {
          "model_module": "@jupyter-widgets/controls",
          "model_name": "HTMLModel",
          "model_module_version": "1.5.0",
          "state": {
            "_view_name": "HTMLView",
            "style": "IPY_MODEL_9cbf4d9694f340bc9a0014f505c6bc8f",
            "_dom_classes": [],
            "description": "",
            "_model_name": "HTMLModel",
            "placeholder": "​",
            "_view_module": "@jupyter-widgets/controls",
            "_model_module_version": "1.5.0",
            "value": "100%",
            "_view_count": null,
            "_view_module_version": "1.5.0",
            "description_tooltip": null,
            "_model_module": "@jupyter-widgets/controls",
            "layout": "IPY_MODEL_7252378ea4ef42cbb8761513c2ef3546"
          }
        },
        "d4e509e4880d4d1f9a6e1fd0e17a6b5e": {
          "model_module": "@jupyter-widgets/controls",
          "model_name": "FloatProgressModel",
          "model_module_version": "1.5.0",
          "state": {
            "_view_name": "ProgressView",
            "style": "IPY_MODEL_cc0f0ca5f8f34aa59b1ce48068ddc9d6",
            "_dom_classes": [],
            "description": "",
            "_model_name": "FloatProgressModel",
            "bar_style": "success",
            "max": 3,
            "_view_module": "@jupyter-widgets/controls",
            "_model_module_version": "1.5.0",
            "value": 3,
            "_view_count": null,
            "_view_module_version": "1.5.0",
            "orientation": "horizontal",
            "min": 0,
            "description_tooltip": null,
            "_model_module": "@jupyter-widgets/controls",
            "layout": "IPY_MODEL_4b2eca3f36d744e5a7800d867d69a15c"
          }
        },
        "c00ec2c931ae4371ba9cd9a765b2ba00": {
          "model_module": "@jupyter-widgets/controls",
          "model_name": "HTMLModel",
          "model_module_version": "1.5.0",
          "state": {
            "_view_name": "HTMLView",
            "style": "IPY_MODEL_932d930de17a44a3bf45123c88ad2e46",
            "_dom_classes": [],
            "description": "",
            "_model_name": "HTMLModel",
            "placeholder": "​",
            "_view_module": "@jupyter-widgets/controls",
            "_model_module_version": "1.5.0",
            "value": " 3/3 [00:00&lt;00:00, 38.99it/s]",
            "_view_count": null,
            "_view_module_version": "1.5.0",
            "description_tooltip": null,
            "_model_module": "@jupyter-widgets/controls",
            "layout": "IPY_MODEL_ecf903704e6b47b5980d4b0b3036daef"
          }
        },
        "9cbf4d9694f340bc9a0014f505c6bc8f": {
          "model_module": "@jupyter-widgets/controls",
          "model_name": "DescriptionStyleModel",
          "model_module_version": "1.5.0",
          "state": {
            "_view_name": "StyleView",
            "_model_name": "DescriptionStyleModel",
            "description_width": "",
            "_view_module": "@jupyter-widgets/base",
            "_model_module_version": "1.5.0",
            "_view_count": null,
            "_view_module_version": "1.2.0",
            "_model_module": "@jupyter-widgets/controls"
          }
        },
        "7252378ea4ef42cbb8761513c2ef3546": {
          "model_module": "@jupyter-widgets/base",
          "model_name": "LayoutModel",
          "model_module_version": "1.2.0",
          "state": {
            "_view_name": "LayoutView",
            "grid_template_rows": null,
            "right": null,
            "justify_content": null,
            "_view_module": "@jupyter-widgets/base",
            "overflow": null,
            "_model_module_version": "1.2.0",
            "_view_count": null,
            "flex_flow": null,
            "width": null,
            "min_width": null,
            "border": null,
            "align_items": null,
            "bottom": null,
            "_model_module": "@jupyter-widgets/base",
            "top": null,
            "grid_column": null,
            "overflow_y": null,
            "overflow_x": null,
            "grid_auto_flow": null,
            "grid_area": null,
            "grid_template_columns": null,
            "flex": null,
            "_model_name": "LayoutModel",
            "justify_items": null,
            "grid_row": null,
            "max_height": null,
            "align_content": null,
            "visibility": null,
            "align_self": null,
            "height": null,
            "min_height": null,
            "padding": null,
            "grid_auto_rows": null,
            "grid_gap": null,
            "max_width": null,
            "order": null,
            "_view_module_version": "1.2.0",
            "grid_template_areas": null,
            "object_position": null,
            "object_fit": null,
            "grid_auto_columns": null,
            "margin": null,
            "display": null,
            "left": null
          }
        },
        "cc0f0ca5f8f34aa59b1ce48068ddc9d6": {
          "model_module": "@jupyter-widgets/controls",
          "model_name": "ProgressStyleModel",
          "model_module_version": "1.5.0",
          "state": {
            "_view_name": "StyleView",
            "_model_name": "ProgressStyleModel",
            "description_width": "",
            "_view_module": "@jupyter-widgets/base",
            "_model_module_version": "1.5.0",
            "_view_count": null,
            "_view_module_version": "1.2.0",
            "bar_color": null,
            "_model_module": "@jupyter-widgets/controls"
          }
        },
        "4b2eca3f36d744e5a7800d867d69a15c": {
          "model_module": "@jupyter-widgets/base",
          "model_name": "LayoutModel",
          "model_module_version": "1.2.0",
          "state": {
            "_view_name": "LayoutView",
            "grid_template_rows": null,
            "right": null,
            "justify_content": null,
            "_view_module": "@jupyter-widgets/base",
            "overflow": null,
            "_model_module_version": "1.2.0",
            "_view_count": null,
            "flex_flow": null,
            "width": null,
            "min_width": null,
            "border": null,
            "align_items": null,
            "bottom": null,
            "_model_module": "@jupyter-widgets/base",
            "top": null,
            "grid_column": null,
            "overflow_y": null,
            "overflow_x": null,
            "grid_auto_flow": null,
            "grid_area": null,
            "grid_template_columns": null,
            "flex": null,
            "_model_name": "LayoutModel",
            "justify_items": null,
            "grid_row": null,
            "max_height": null,
            "align_content": null,
            "visibility": null,
            "align_self": null,
            "height": null,
            "min_height": null,
            "padding": null,
            "grid_auto_rows": null,
            "grid_gap": null,
            "max_width": null,
            "order": null,
            "_view_module_version": "1.2.0",
            "grid_template_areas": null,
            "object_position": null,
            "object_fit": null,
            "grid_auto_columns": null,
            "margin": null,
            "display": null,
            "left": null
          }
        },
        "932d930de17a44a3bf45123c88ad2e46": {
          "model_module": "@jupyter-widgets/controls",
          "model_name": "DescriptionStyleModel",
          "model_module_version": "1.5.0",
          "state": {
            "_view_name": "StyleView",
            "_model_name": "DescriptionStyleModel",
            "description_width": "",
            "_view_module": "@jupyter-widgets/base",
            "_model_module_version": "1.5.0",
            "_view_count": null,
            "_view_module_version": "1.2.0",
            "_model_module": "@jupyter-widgets/controls"
          }
        },
        "ecf903704e6b47b5980d4b0b3036daef": {
          "model_module": "@jupyter-widgets/base",
          "model_name": "LayoutModel",
          "model_module_version": "1.2.0",
          "state": {
            "_view_name": "LayoutView",
            "grid_template_rows": null,
            "right": null,
            "justify_content": null,
            "_view_module": "@jupyter-widgets/base",
            "overflow": null,
            "_model_module_version": "1.2.0",
            "_view_count": null,
            "flex_flow": null,
            "width": null,
            "min_width": null,
            "border": null,
            "align_items": null,
            "bottom": null,
            "_model_module": "@jupyter-widgets/base",
            "top": null,
            "grid_column": null,
            "overflow_y": null,
            "overflow_x": null,
            "grid_auto_flow": null,
            "grid_area": null,
            "grid_template_columns": null,
            "flex": null,
            "_model_name": "LayoutModel",
            "justify_items": null,
            "grid_row": null,
            "max_height": null,
            "align_content": null,
            "visibility": null,
            "align_self": null,
            "height": null,
            "min_height": null,
            "padding": null,
            "grid_auto_rows": null,
            "grid_gap": null,
            "max_width": null,
            "order": null,
            "_view_module_version": "1.2.0",
            "grid_template_areas": null,
            "object_position": null,
            "object_fit": null,
            "grid_auto_columns": null,
            "margin": null,
            "display": null,
            "left": null
          }
        },
        "d82ea02bb66c46caa9d95849c3f21a3d": {
          "model_module": "@jupyter-widgets/controls",
          "model_name": "HBoxModel",
          "model_module_version": "1.5.0",
          "state": {
            "_view_name": "HBoxView",
            "_dom_classes": [],
            "_model_name": "HBoxModel",
            "_view_module": "@jupyter-widgets/controls",
            "_model_module_version": "1.5.0",
            "_view_count": null,
            "_view_module_version": "1.5.0",
            "box_style": "",
            "layout": "IPY_MODEL_56caefdcb056419d860d81b5b5db709c",
            "_model_module": "@jupyter-widgets/controls",
            "children": [
              "IPY_MODEL_dd6a05c404ee43899e78f067373c90e1",
              "IPY_MODEL_a944cd46a7d04619ad6572e7567f09ca",
              "IPY_MODEL_38be215084924bcca35f059dcf61f895"
            ]
          }
        },
        "56caefdcb056419d860d81b5b5db709c": {
          "model_module": "@jupyter-widgets/base",
          "model_name": "LayoutModel",
          "model_module_version": "1.2.0",
          "state": {
            "_view_name": "LayoutView",
            "grid_template_rows": null,
            "right": null,
            "justify_content": null,
            "_view_module": "@jupyter-widgets/base",
            "overflow": null,
            "_model_module_version": "1.2.0",
            "_view_count": null,
            "flex_flow": null,
            "width": null,
            "min_width": null,
            "border": null,
            "align_items": null,
            "bottom": null,
            "_model_module": "@jupyter-widgets/base",
            "top": null,
            "grid_column": null,
            "overflow_y": null,
            "overflow_x": null,
            "grid_auto_flow": null,
            "grid_area": null,
            "grid_template_columns": null,
            "flex": null,
            "_model_name": "LayoutModel",
            "justify_items": null,
            "grid_row": null,
            "max_height": null,
            "align_content": null,
            "visibility": null,
            "align_self": null,
            "height": null,
            "min_height": null,
            "padding": null,
            "grid_auto_rows": null,
            "grid_gap": null,
            "max_width": null,
            "order": null,
            "_view_module_version": "1.2.0",
            "grid_template_areas": null,
            "object_position": null,
            "object_fit": null,
            "grid_auto_columns": null,
            "margin": null,
            "display": null,
            "left": null
          }
        },
        "dd6a05c404ee43899e78f067373c90e1": {
          "model_module": "@jupyter-widgets/controls",
          "model_name": "HTMLModel",
          "model_module_version": "1.5.0",
          "state": {
            "_view_name": "HTMLView",
            "style": "IPY_MODEL_c57116a95edb40f38c3112ebf427d41c",
            "_dom_classes": [],
            "description": "",
            "_model_name": "HTMLModel",
            "placeholder": "​",
            "_view_module": "@jupyter-widgets/controls",
            "_model_module_version": "1.5.0",
            "value": "100%",
            "_view_count": null,
            "_view_module_version": "1.5.0",
            "description_tooltip": null,
            "_model_module": "@jupyter-widgets/controls",
            "layout": "IPY_MODEL_86999ffff6744ff3a24c3ab377b1404a"
          }
        },
        "a944cd46a7d04619ad6572e7567f09ca": {
          "model_module": "@jupyter-widgets/controls",
          "model_name": "FloatProgressModel",
          "model_module_version": "1.5.0",
          "state": {
            "_view_name": "ProgressView",
            "style": "IPY_MODEL_dfc5853855254bc5ae2918895ea13182",
            "_dom_classes": [],
            "description": "",
            "_model_name": "FloatProgressModel",
            "bar_style": "success",
            "max": 205,
            "_view_module": "@jupyter-widgets/controls",
            "_model_module_version": "1.5.0",
            "value": 205,
            "_view_count": null,
            "_view_module_version": "1.5.0",
            "orientation": "horizontal",
            "min": 0,
            "description_tooltip": null,
            "_model_module": "@jupyter-widgets/controls",
            "layout": "IPY_MODEL_a0d71606649740a3afe838cd6394a04c"
          }
        },
        "38be215084924bcca35f059dcf61f895": {
          "model_module": "@jupyter-widgets/controls",
          "model_name": "HTMLModel",
          "model_module_version": "1.5.0",
          "state": {
            "_view_name": "HTMLView",
            "style": "IPY_MODEL_f36ca8431a6b4519b6fc09b926d317fc",
            "_dom_classes": [],
            "description": "",
            "_model_name": "HTMLModel",
            "placeholder": "​",
            "_view_module": "@jupyter-widgets/controls",
            "_model_module_version": "1.5.0",
            "value": " 205/205 [00:05&lt;00:00, 40.72ba/s]",
            "_view_count": null,
            "_view_module_version": "1.5.0",
            "description_tooltip": null,
            "_model_module": "@jupyter-widgets/controls",
            "layout": "IPY_MODEL_070cc7888f0541279d37112bd881d9f7"
          }
        },
        "c57116a95edb40f38c3112ebf427d41c": {
          "model_module": "@jupyter-widgets/controls",
          "model_name": "DescriptionStyleModel",
          "model_module_version": "1.5.0",
          "state": {
            "_view_name": "StyleView",
            "_model_name": "DescriptionStyleModel",
            "description_width": "",
            "_view_module": "@jupyter-widgets/base",
            "_model_module_version": "1.5.0",
            "_view_count": null,
            "_view_module_version": "1.2.0",
            "_model_module": "@jupyter-widgets/controls"
          }
        },
        "86999ffff6744ff3a24c3ab377b1404a": {
          "model_module": "@jupyter-widgets/base",
          "model_name": "LayoutModel",
          "model_module_version": "1.2.0",
          "state": {
            "_view_name": "LayoutView",
            "grid_template_rows": null,
            "right": null,
            "justify_content": null,
            "_view_module": "@jupyter-widgets/base",
            "overflow": null,
            "_model_module_version": "1.2.0",
            "_view_count": null,
            "flex_flow": null,
            "width": null,
            "min_width": null,
            "border": null,
            "align_items": null,
            "bottom": null,
            "_model_module": "@jupyter-widgets/base",
            "top": null,
            "grid_column": null,
            "overflow_y": null,
            "overflow_x": null,
            "grid_auto_flow": null,
            "grid_area": null,
            "grid_template_columns": null,
            "flex": null,
            "_model_name": "LayoutModel",
            "justify_items": null,
            "grid_row": null,
            "max_height": null,
            "align_content": null,
            "visibility": null,
            "align_self": null,
            "height": null,
            "min_height": null,
            "padding": null,
            "grid_auto_rows": null,
            "grid_gap": null,
            "max_width": null,
            "order": null,
            "_view_module_version": "1.2.0",
            "grid_template_areas": null,
            "object_position": null,
            "object_fit": null,
            "grid_auto_columns": null,
            "margin": null,
            "display": null,
            "left": null
          }
        },
        "dfc5853855254bc5ae2918895ea13182": {
          "model_module": "@jupyter-widgets/controls",
          "model_name": "ProgressStyleModel",
          "model_module_version": "1.5.0",
          "state": {
            "_view_name": "StyleView",
            "_model_name": "ProgressStyleModel",
            "description_width": "",
            "_view_module": "@jupyter-widgets/base",
            "_model_module_version": "1.5.0",
            "_view_count": null,
            "_view_module_version": "1.2.0",
            "bar_color": null,
            "_model_module": "@jupyter-widgets/controls"
          }
        },
        "a0d71606649740a3afe838cd6394a04c": {
          "model_module": "@jupyter-widgets/base",
          "model_name": "LayoutModel",
          "model_module_version": "1.2.0",
          "state": {
            "_view_name": "LayoutView",
            "grid_template_rows": null,
            "right": null,
            "justify_content": null,
            "_view_module": "@jupyter-widgets/base",
            "overflow": null,
            "_model_module_version": "1.2.0",
            "_view_count": null,
            "flex_flow": null,
            "width": null,
            "min_width": null,
            "border": null,
            "align_items": null,
            "bottom": null,
            "_model_module": "@jupyter-widgets/base",
            "top": null,
            "grid_column": null,
            "overflow_y": null,
            "overflow_x": null,
            "grid_auto_flow": null,
            "grid_area": null,
            "grid_template_columns": null,
            "flex": null,
            "_model_name": "LayoutModel",
            "justify_items": null,
            "grid_row": null,
            "max_height": null,
            "align_content": null,
            "visibility": null,
            "align_self": null,
            "height": null,
            "min_height": null,
            "padding": null,
            "grid_auto_rows": null,
            "grid_gap": null,
            "max_width": null,
            "order": null,
            "_view_module_version": "1.2.0",
            "grid_template_areas": null,
            "object_position": null,
            "object_fit": null,
            "grid_auto_columns": null,
            "margin": null,
            "display": null,
            "left": null
          }
        },
        "f36ca8431a6b4519b6fc09b926d317fc": {
          "model_module": "@jupyter-widgets/controls",
          "model_name": "DescriptionStyleModel",
          "model_module_version": "1.5.0",
          "state": {
            "_view_name": "StyleView",
            "_model_name": "DescriptionStyleModel",
            "description_width": "",
            "_view_module": "@jupyter-widgets/base",
            "_model_module_version": "1.5.0",
            "_view_count": null,
            "_view_module_version": "1.2.0",
            "_model_module": "@jupyter-widgets/controls"
          }
        },
        "070cc7888f0541279d37112bd881d9f7": {
          "model_module": "@jupyter-widgets/base",
          "model_name": "LayoutModel",
          "model_module_version": "1.2.0",
          "state": {
            "_view_name": "LayoutView",
            "grid_template_rows": null,
            "right": null,
            "justify_content": null,
            "_view_module": "@jupyter-widgets/base",
            "overflow": null,
            "_model_module_version": "1.2.0",
            "_view_count": null,
            "flex_flow": null,
            "width": null,
            "min_width": null,
            "border": null,
            "align_items": null,
            "bottom": null,
            "_model_module": "@jupyter-widgets/base",
            "top": null,
            "grid_column": null,
            "overflow_y": null,
            "overflow_x": null,
            "grid_auto_flow": null,
            "grid_area": null,
            "grid_template_columns": null,
            "flex": null,
            "_model_name": "LayoutModel",
            "justify_items": null,
            "grid_row": null,
            "max_height": null,
            "align_content": null,
            "visibility": null,
            "align_self": null,
            "height": null,
            "min_height": null,
            "padding": null,
            "grid_auto_rows": null,
            "grid_gap": null,
            "max_width": null,
            "order": null,
            "_view_module_version": "1.2.0",
            "grid_template_areas": null,
            "object_position": null,
            "object_fit": null,
            "grid_auto_columns": null,
            "margin": null,
            "display": null,
            "left": null
          }
        },
        "d97f9e40137044348bdbb88f3438c772": {
          "model_module": "@jupyter-widgets/controls",
          "model_name": "HBoxModel",
          "model_module_version": "1.5.0",
          "state": {
            "_view_name": "HBoxView",
            "_dom_classes": [],
            "_model_name": "HBoxModel",
            "_view_module": "@jupyter-widgets/controls",
            "_model_module_version": "1.5.0",
            "_view_count": null,
            "_view_module_version": "1.5.0",
            "box_style": "",
            "layout": "IPY_MODEL_e2a5bf75af914f7ab4a3c153ae2f4d31",
            "_model_module": "@jupyter-widgets/controls",
            "children": [
              "IPY_MODEL_e44a6f8b869a46df89e324e7a25d3b02",
              "IPY_MODEL_f102e1e0bcc94e4b82f630af35e8cf10",
              "IPY_MODEL_62e7294a809e4be38cd71ce075fc4e91"
            ]
          }
        },
        "e2a5bf75af914f7ab4a3c153ae2f4d31": {
          "model_module": "@jupyter-widgets/base",
          "model_name": "LayoutModel",
          "model_module_version": "1.2.0",
          "state": {
            "_view_name": "LayoutView",
            "grid_template_rows": null,
            "right": null,
            "justify_content": null,
            "_view_module": "@jupyter-widgets/base",
            "overflow": null,
            "_model_module_version": "1.2.0",
            "_view_count": null,
            "flex_flow": null,
            "width": null,
            "min_width": null,
            "border": null,
            "align_items": null,
            "bottom": null,
            "_model_module": "@jupyter-widgets/base",
            "top": null,
            "grid_column": null,
            "overflow_y": null,
            "overflow_x": null,
            "grid_auto_flow": null,
            "grid_area": null,
            "grid_template_columns": null,
            "flex": null,
            "_model_name": "LayoutModel",
            "justify_items": null,
            "grid_row": null,
            "max_height": null,
            "align_content": null,
            "visibility": null,
            "align_self": null,
            "height": null,
            "min_height": null,
            "padding": null,
            "grid_auto_rows": null,
            "grid_gap": null,
            "max_width": null,
            "order": null,
            "_view_module_version": "1.2.0",
            "grid_template_areas": null,
            "object_position": null,
            "object_fit": null,
            "grid_auto_columns": null,
            "margin": null,
            "display": null,
            "left": null
          }
        },
        "e44a6f8b869a46df89e324e7a25d3b02": {
          "model_module": "@jupyter-widgets/controls",
          "model_name": "HTMLModel",
          "model_module_version": "1.5.0",
          "state": {
            "_view_name": "HTMLView",
            "style": "IPY_MODEL_505863aebe1d4005b36bc0ebb3458aa0",
            "_dom_classes": [],
            "description": "",
            "_model_name": "HTMLModel",
            "placeholder": "​",
            "_view_module": "@jupyter-widgets/controls",
            "_model_module_version": "1.5.0",
            "value": "100%",
            "_view_count": null,
            "_view_module_version": "1.5.0",
            "description_tooltip": null,
            "_model_module": "@jupyter-widgets/controls",
            "layout": "IPY_MODEL_7b2f98bd98b0492599f32da046482c2d"
          }
        },
        "f102e1e0bcc94e4b82f630af35e8cf10": {
          "model_module": "@jupyter-widgets/controls",
          "model_name": "FloatProgressModel",
          "model_module_version": "1.5.0",
          "state": {
            "_view_name": "ProgressView",
            "style": "IPY_MODEL_00aa65b9c93f40dd879d76e3aa180b6c",
            "_dom_classes": [],
            "description": "",
            "_model_name": "FloatProgressModel",
            "bar_style": "success",
            "max": 12,
            "_view_module": "@jupyter-widgets/controls",
            "_model_module_version": "1.5.0",
            "value": 12,
            "_view_count": null,
            "_view_module_version": "1.5.0",
            "orientation": "horizontal",
            "min": 0,
            "description_tooltip": null,
            "_model_module": "@jupyter-widgets/controls",
            "layout": "IPY_MODEL_290faf6901d74d9ba01910bf3d40483d"
          }
        },
        "62e7294a809e4be38cd71ce075fc4e91": {
          "model_module": "@jupyter-widgets/controls",
          "model_name": "HTMLModel",
          "model_module_version": "1.5.0",
          "state": {
            "_view_name": "HTMLView",
            "style": "IPY_MODEL_16ead0f011624a4e896ed9c5e33b81fa",
            "_dom_classes": [],
            "description": "",
            "_model_name": "HTMLModel",
            "placeholder": "​",
            "_view_module": "@jupyter-widgets/controls",
            "_model_module_version": "1.5.0",
            "value": " 12/12 [00:00&lt;00:00, 40.03ba/s]",
            "_view_count": null,
            "_view_module_version": "1.5.0",
            "description_tooltip": null,
            "_model_module": "@jupyter-widgets/controls",
            "layout": "IPY_MODEL_62274aea423b42e3b7a5fd6cfa3de274"
          }
        },
        "505863aebe1d4005b36bc0ebb3458aa0": {
          "model_module": "@jupyter-widgets/controls",
          "model_name": "DescriptionStyleModel",
          "model_module_version": "1.5.0",
          "state": {
            "_view_name": "StyleView",
            "_model_name": "DescriptionStyleModel",
            "description_width": "",
            "_view_module": "@jupyter-widgets/base",
            "_model_module_version": "1.5.0",
            "_view_count": null,
            "_view_module_version": "1.2.0",
            "_model_module": "@jupyter-widgets/controls"
          }
        },
        "7b2f98bd98b0492599f32da046482c2d": {
          "model_module": "@jupyter-widgets/base",
          "model_name": "LayoutModel",
          "model_module_version": "1.2.0",
          "state": {
            "_view_name": "LayoutView",
            "grid_template_rows": null,
            "right": null,
            "justify_content": null,
            "_view_module": "@jupyter-widgets/base",
            "overflow": null,
            "_model_module_version": "1.2.0",
            "_view_count": null,
            "flex_flow": null,
            "width": null,
            "min_width": null,
            "border": null,
            "align_items": null,
            "bottom": null,
            "_model_module": "@jupyter-widgets/base",
            "top": null,
            "grid_column": null,
            "overflow_y": null,
            "overflow_x": null,
            "grid_auto_flow": null,
            "grid_area": null,
            "grid_template_columns": null,
            "flex": null,
            "_model_name": "LayoutModel",
            "justify_items": null,
            "grid_row": null,
            "max_height": null,
            "align_content": null,
            "visibility": null,
            "align_self": null,
            "height": null,
            "min_height": null,
            "padding": null,
            "grid_auto_rows": null,
            "grid_gap": null,
            "max_width": null,
            "order": null,
            "_view_module_version": "1.2.0",
            "grid_template_areas": null,
            "object_position": null,
            "object_fit": null,
            "grid_auto_columns": null,
            "margin": null,
            "display": null,
            "left": null
          }
        },
        "00aa65b9c93f40dd879d76e3aa180b6c": {
          "model_module": "@jupyter-widgets/controls",
          "model_name": "ProgressStyleModel",
          "model_module_version": "1.5.0",
          "state": {
            "_view_name": "StyleView",
            "_model_name": "ProgressStyleModel",
            "description_width": "",
            "_view_module": "@jupyter-widgets/base",
            "_model_module_version": "1.5.0",
            "_view_count": null,
            "_view_module_version": "1.2.0",
            "bar_color": null,
            "_model_module": "@jupyter-widgets/controls"
          }
        },
        "290faf6901d74d9ba01910bf3d40483d": {
          "model_module": "@jupyter-widgets/base",
          "model_name": "LayoutModel",
          "model_module_version": "1.2.0",
          "state": {
            "_view_name": "LayoutView",
            "grid_template_rows": null,
            "right": null,
            "justify_content": null,
            "_view_module": "@jupyter-widgets/base",
            "overflow": null,
            "_model_module_version": "1.2.0",
            "_view_count": null,
            "flex_flow": null,
            "width": null,
            "min_width": null,
            "border": null,
            "align_items": null,
            "bottom": null,
            "_model_module": "@jupyter-widgets/base",
            "top": null,
            "grid_column": null,
            "overflow_y": null,
            "overflow_x": null,
            "grid_auto_flow": null,
            "grid_area": null,
            "grid_template_columns": null,
            "flex": null,
            "_model_name": "LayoutModel",
            "justify_items": null,
            "grid_row": null,
            "max_height": null,
            "align_content": null,
            "visibility": null,
            "align_self": null,
            "height": null,
            "min_height": null,
            "padding": null,
            "grid_auto_rows": null,
            "grid_gap": null,
            "max_width": null,
            "order": null,
            "_view_module_version": "1.2.0",
            "grid_template_areas": null,
            "object_position": null,
            "object_fit": null,
            "grid_auto_columns": null,
            "margin": null,
            "display": null,
            "left": null
          }
        },
        "16ead0f011624a4e896ed9c5e33b81fa": {
          "model_module": "@jupyter-widgets/controls",
          "model_name": "DescriptionStyleModel",
          "model_module_version": "1.5.0",
          "state": {
            "_view_name": "StyleView",
            "_model_name": "DescriptionStyleModel",
            "description_width": "",
            "_view_module": "@jupyter-widgets/base",
            "_model_module_version": "1.5.0",
            "_view_count": null,
            "_view_module_version": "1.2.0",
            "_model_module": "@jupyter-widgets/controls"
          }
        },
        "62274aea423b42e3b7a5fd6cfa3de274": {
          "model_module": "@jupyter-widgets/base",
          "model_name": "LayoutModel",
          "model_module_version": "1.2.0",
          "state": {
            "_view_name": "LayoutView",
            "grid_template_rows": null,
            "right": null,
            "justify_content": null,
            "_view_module": "@jupyter-widgets/base",
            "overflow": null,
            "_model_module_version": "1.2.0",
            "_view_count": null,
            "flex_flow": null,
            "width": null,
            "min_width": null,
            "border": null,
            "align_items": null,
            "bottom": null,
            "_model_module": "@jupyter-widgets/base",
            "top": null,
            "grid_column": null,
            "overflow_y": null,
            "overflow_x": null,
            "grid_auto_flow": null,
            "grid_area": null,
            "grid_template_columns": null,
            "flex": null,
            "_model_name": "LayoutModel",
            "justify_items": null,
            "grid_row": null,
            "max_height": null,
            "align_content": null,
            "visibility": null,
            "align_self": null,
            "height": null,
            "min_height": null,
            "padding": null,
            "grid_auto_rows": null,
            "grid_gap": null,
            "max_width": null,
            "order": null,
            "_view_module_version": "1.2.0",
            "grid_template_areas": null,
            "object_position": null,
            "object_fit": null,
            "grid_auto_columns": null,
            "margin": null,
            "display": null,
            "left": null
          }
        },
        "7e83e728f26b4fab99e1813ad4c57ced": {
          "model_module": "@jupyter-widgets/controls",
          "model_name": "HBoxModel",
          "model_module_version": "1.5.0",
          "state": {
            "_view_name": "HBoxView",
            "_dom_classes": [],
            "_model_name": "HBoxModel",
            "_view_module": "@jupyter-widgets/controls",
            "_model_module_version": "1.5.0",
            "_view_count": null,
            "_view_module_version": "1.5.0",
            "box_style": "",
            "layout": "IPY_MODEL_bdfd462495874ae99749cd3d8be66452",
            "_model_module": "@jupyter-widgets/controls",
            "children": [
              "IPY_MODEL_5b3f6dd464f7480f8a25b899d5d7453d",
              "IPY_MODEL_2e1c512e14a9438db073377e76192a96",
              "IPY_MODEL_d06e5cc4a9c144638e6bf87e7f0a6b28"
            ]
          }
        },
        "bdfd462495874ae99749cd3d8be66452": {
          "model_module": "@jupyter-widgets/base",
          "model_name": "LayoutModel",
          "model_module_version": "1.2.0",
          "state": {
            "_view_name": "LayoutView",
            "grid_template_rows": null,
            "right": null,
            "justify_content": null,
            "_view_module": "@jupyter-widgets/base",
            "overflow": null,
            "_model_module_version": "1.2.0",
            "_view_count": null,
            "flex_flow": null,
            "width": null,
            "min_width": null,
            "border": null,
            "align_items": null,
            "bottom": null,
            "_model_module": "@jupyter-widgets/base",
            "top": null,
            "grid_column": null,
            "overflow_y": null,
            "overflow_x": null,
            "grid_auto_flow": null,
            "grid_area": null,
            "grid_template_columns": null,
            "flex": null,
            "_model_name": "LayoutModel",
            "justify_items": null,
            "grid_row": null,
            "max_height": null,
            "align_content": null,
            "visibility": null,
            "align_self": null,
            "height": null,
            "min_height": null,
            "padding": null,
            "grid_auto_rows": null,
            "grid_gap": null,
            "max_width": null,
            "order": null,
            "_view_module_version": "1.2.0",
            "grid_template_areas": null,
            "object_position": null,
            "object_fit": null,
            "grid_auto_columns": null,
            "margin": null,
            "display": null,
            "left": null
          }
        },
        "5b3f6dd464f7480f8a25b899d5d7453d": {
          "model_module": "@jupyter-widgets/controls",
          "model_name": "HTMLModel",
          "model_module_version": "1.5.0",
          "state": {
            "_view_name": "HTMLView",
            "style": "IPY_MODEL_7407bd77e1644d68bde12031a2079ea1",
            "_dom_classes": [],
            "description": "",
            "_model_name": "HTMLModel",
            "placeholder": "​",
            "_view_module": "@jupyter-widgets/controls",
            "_model_module_version": "1.5.0",
            "value": "100%",
            "_view_count": null,
            "_view_module_version": "1.5.0",
            "description_tooltip": null,
            "_model_module": "@jupyter-widgets/controls",
            "layout": "IPY_MODEL_f06658e66473490baba560cef6a77c39"
          }
        },
        "2e1c512e14a9438db073377e76192a96": {
          "model_module": "@jupyter-widgets/controls",
          "model_name": "FloatProgressModel",
          "model_module_version": "1.5.0",
          "state": {
            "_view_name": "ProgressView",
            "style": "IPY_MODEL_835703649c774663a7b1b678d16bb533",
            "_dom_classes": [],
            "description": "",
            "_model_name": "FloatProgressModel",
            "bar_style": "success",
            "max": 12,
            "_view_module": "@jupyter-widgets/controls",
            "_model_module_version": "1.5.0",
            "value": 12,
            "_view_count": null,
            "_view_module_version": "1.5.0",
            "orientation": "horizontal",
            "min": 0,
            "description_tooltip": null,
            "_model_module": "@jupyter-widgets/controls",
            "layout": "IPY_MODEL_213534d653c14aa784eafff4a583bdeb"
          }
        },
        "d06e5cc4a9c144638e6bf87e7f0a6b28": {
          "model_module": "@jupyter-widgets/controls",
          "model_name": "HTMLModel",
          "model_module_version": "1.5.0",
          "state": {
            "_view_name": "HTMLView",
            "style": "IPY_MODEL_f10fc08700fb407ab1e2e7f060ff13c4",
            "_dom_classes": [],
            "description": "",
            "_model_name": "HTMLModel",
            "placeholder": "​",
            "_view_module": "@jupyter-widgets/controls",
            "_model_module_version": "1.5.0",
            "value": " 12/12 [00:00&lt;00:00, 33.51ba/s]",
            "_view_count": null,
            "_view_module_version": "1.5.0",
            "description_tooltip": null,
            "_model_module": "@jupyter-widgets/controls",
            "layout": "IPY_MODEL_22bfa1732cc64c91a2f7ea17cc26441b"
          }
        },
        "7407bd77e1644d68bde12031a2079ea1": {
          "model_module": "@jupyter-widgets/controls",
          "model_name": "DescriptionStyleModel",
          "model_module_version": "1.5.0",
          "state": {
            "_view_name": "StyleView",
            "_model_name": "DescriptionStyleModel",
            "description_width": "",
            "_view_module": "@jupyter-widgets/base",
            "_model_module_version": "1.5.0",
            "_view_count": null,
            "_view_module_version": "1.2.0",
            "_model_module": "@jupyter-widgets/controls"
          }
        },
        "f06658e66473490baba560cef6a77c39": {
          "model_module": "@jupyter-widgets/base",
          "model_name": "LayoutModel",
          "model_module_version": "1.2.0",
          "state": {
            "_view_name": "LayoutView",
            "grid_template_rows": null,
            "right": null,
            "justify_content": null,
            "_view_module": "@jupyter-widgets/base",
            "overflow": null,
            "_model_module_version": "1.2.0",
            "_view_count": null,
            "flex_flow": null,
            "width": null,
            "min_width": null,
            "border": null,
            "align_items": null,
            "bottom": null,
            "_model_module": "@jupyter-widgets/base",
            "top": null,
            "grid_column": null,
            "overflow_y": null,
            "overflow_x": null,
            "grid_auto_flow": null,
            "grid_area": null,
            "grid_template_columns": null,
            "flex": null,
            "_model_name": "LayoutModel",
            "justify_items": null,
            "grid_row": null,
            "max_height": null,
            "align_content": null,
            "visibility": null,
            "align_self": null,
            "height": null,
            "min_height": null,
            "padding": null,
            "grid_auto_rows": null,
            "grid_gap": null,
            "max_width": null,
            "order": null,
            "_view_module_version": "1.2.0",
            "grid_template_areas": null,
            "object_position": null,
            "object_fit": null,
            "grid_auto_columns": null,
            "margin": null,
            "display": null,
            "left": null
          }
        },
        "835703649c774663a7b1b678d16bb533": {
          "model_module": "@jupyter-widgets/controls",
          "model_name": "ProgressStyleModel",
          "model_module_version": "1.5.0",
          "state": {
            "_view_name": "StyleView",
            "_model_name": "ProgressStyleModel",
            "description_width": "",
            "_view_module": "@jupyter-widgets/base",
            "_model_module_version": "1.5.0",
            "_view_count": null,
            "_view_module_version": "1.2.0",
            "bar_color": null,
            "_model_module": "@jupyter-widgets/controls"
          }
        },
        "213534d653c14aa784eafff4a583bdeb": {
          "model_module": "@jupyter-widgets/base",
          "model_name": "LayoutModel",
          "model_module_version": "1.2.0",
          "state": {
            "_view_name": "LayoutView",
            "grid_template_rows": null,
            "right": null,
            "justify_content": null,
            "_view_module": "@jupyter-widgets/base",
            "overflow": null,
            "_model_module_version": "1.2.0",
            "_view_count": null,
            "flex_flow": null,
            "width": null,
            "min_width": null,
            "border": null,
            "align_items": null,
            "bottom": null,
            "_model_module": "@jupyter-widgets/base",
            "top": null,
            "grid_column": null,
            "overflow_y": null,
            "overflow_x": null,
            "grid_auto_flow": null,
            "grid_area": null,
            "grid_template_columns": null,
            "flex": null,
            "_model_name": "LayoutModel",
            "justify_items": null,
            "grid_row": null,
            "max_height": null,
            "align_content": null,
            "visibility": null,
            "align_self": null,
            "height": null,
            "min_height": null,
            "padding": null,
            "grid_auto_rows": null,
            "grid_gap": null,
            "max_width": null,
            "order": null,
            "_view_module_version": "1.2.0",
            "grid_template_areas": null,
            "object_position": null,
            "object_fit": null,
            "grid_auto_columns": null,
            "margin": null,
            "display": null,
            "left": null
          }
        },
        "f10fc08700fb407ab1e2e7f060ff13c4": {
          "model_module": "@jupyter-widgets/controls",
          "model_name": "DescriptionStyleModel",
          "model_module_version": "1.5.0",
          "state": {
            "_view_name": "StyleView",
            "_model_name": "DescriptionStyleModel",
            "description_width": "",
            "_view_module": "@jupyter-widgets/base",
            "_model_module_version": "1.5.0",
            "_view_count": null,
            "_view_module_version": "1.2.0",
            "_model_module": "@jupyter-widgets/controls"
          }
        },
        "22bfa1732cc64c91a2f7ea17cc26441b": {
          "model_module": "@jupyter-widgets/base",
          "model_name": "LayoutModel",
          "model_module_version": "1.2.0",
          "state": {
            "_view_name": "LayoutView",
            "grid_template_rows": null,
            "right": null,
            "justify_content": null,
            "_view_module": "@jupyter-widgets/base",
            "overflow": null,
            "_model_module_version": "1.2.0",
            "_view_count": null,
            "flex_flow": null,
            "width": null,
            "min_width": null,
            "border": null,
            "align_items": null,
            "bottom": null,
            "_model_module": "@jupyter-widgets/base",
            "top": null,
            "grid_column": null,
            "overflow_y": null,
            "overflow_x": null,
            "grid_auto_flow": null,
            "grid_area": null,
            "grid_template_columns": null,
            "flex": null,
            "_model_name": "LayoutModel",
            "justify_items": null,
            "grid_row": null,
            "max_height": null,
            "align_content": null,
            "visibility": null,
            "align_self": null,
            "height": null,
            "min_height": null,
            "padding": null,
            "grid_auto_rows": null,
            "grid_gap": null,
            "max_width": null,
            "order": null,
            "_view_module_version": "1.2.0",
            "grid_template_areas": null,
            "object_position": null,
            "object_fit": null,
            "grid_auto_columns": null,
            "margin": null,
            "display": null,
            "left": null
          }
        },
        "9deb69401e0c4c9c9f7b0d3d096e9954": {
          "model_module": "@jupyter-widgets/controls",
          "model_name": "HBoxModel",
          "model_module_version": "1.5.0",
          "state": {
            "_view_name": "HBoxView",
            "_dom_classes": [],
            "_model_name": "HBoxModel",
            "_view_module": "@jupyter-widgets/controls",
            "_model_module_version": "1.5.0",
            "_view_count": null,
            "_view_module_version": "1.5.0",
            "box_style": "",
            "layout": "IPY_MODEL_b124e8aaac7a4cc7be582a8153e89dea",
            "_model_module": "@jupyter-widgets/controls",
            "children": [
              "IPY_MODEL_2988bacda75f43c58e08bc22aa4a8e47",
              "IPY_MODEL_a6a9f66f497944ceaaa929331a2fc7ec",
              "IPY_MODEL_0d1e14c9b78746f7b27f6b949a70bb20"
            ]
          }
        },
        "b124e8aaac7a4cc7be582a8153e89dea": {
          "model_module": "@jupyter-widgets/base",
          "model_name": "LayoutModel",
          "model_module_version": "1.2.0",
          "state": {
            "_view_name": "LayoutView",
            "grid_template_rows": null,
            "right": null,
            "justify_content": null,
            "_view_module": "@jupyter-widgets/base",
            "overflow": null,
            "_model_module_version": "1.2.0",
            "_view_count": null,
            "flex_flow": null,
            "width": null,
            "min_width": null,
            "border": null,
            "align_items": null,
            "bottom": null,
            "_model_module": "@jupyter-widgets/base",
            "top": null,
            "grid_column": null,
            "overflow_y": null,
            "overflow_x": null,
            "grid_auto_flow": null,
            "grid_area": null,
            "grid_template_columns": null,
            "flex": null,
            "_model_name": "LayoutModel",
            "justify_items": null,
            "grid_row": null,
            "max_height": null,
            "align_content": null,
            "visibility": null,
            "align_self": null,
            "height": null,
            "min_height": null,
            "padding": null,
            "grid_auto_rows": null,
            "grid_gap": null,
            "max_width": null,
            "order": null,
            "_view_module_version": "1.2.0",
            "grid_template_areas": null,
            "object_position": null,
            "object_fit": null,
            "grid_auto_columns": null,
            "margin": null,
            "display": null,
            "left": null
          }
        },
        "2988bacda75f43c58e08bc22aa4a8e47": {
          "model_module": "@jupyter-widgets/controls",
          "model_name": "HTMLModel",
          "model_module_version": "1.5.0",
          "state": {
            "_view_name": "HTMLView",
            "style": "IPY_MODEL_7fe741c9126348669d5f79ac2bbc131e",
            "_dom_classes": [],
            "description": "",
            "_model_name": "HTMLModel",
            "placeholder": "​",
            "_view_module": "@jupyter-widgets/controls",
            "_model_module_version": "1.5.0",
            "value": "Downloading: 100%",
            "_view_count": null,
            "_view_module_version": "1.5.0",
            "description_tooltip": null,
            "_model_module": "@jupyter-widgets/controls",
            "layout": "IPY_MODEL_3b52b887056f46b9bdfd501dfccc2eb2"
          }
        },
        "a6a9f66f497944ceaaa929331a2fc7ec": {
          "model_module": "@jupyter-widgets/controls",
          "model_name": "FloatProgressModel",
          "model_module_version": "1.5.0",
          "state": {
            "_view_name": "ProgressView",
            "style": "IPY_MODEL_45ad6310b3ef456b84fc3ed5a1820499",
            "_dom_classes": [],
            "description": "",
            "_model_name": "FloatProgressModel",
            "bar_style": "success",
            "max": 1197,
            "_view_module": "@jupyter-widgets/controls",
            "_model_module_version": "1.5.0",
            "value": 1197,
            "_view_count": null,
            "_view_module_version": "1.5.0",
            "orientation": "horizontal",
            "min": 0,
            "description_tooltip": null,
            "_model_module": "@jupyter-widgets/controls",
            "layout": "IPY_MODEL_8eb10a09d9104089980b61b0dcc03a45"
          }
        },
        "0d1e14c9b78746f7b27f6b949a70bb20": {
          "model_module": "@jupyter-widgets/controls",
          "model_name": "HTMLModel",
          "model_module_version": "1.5.0",
          "state": {
            "_view_name": "HTMLView",
            "style": "IPY_MODEL_a4f2693d0f64490e9d8fa6cf5f03f5dd",
            "_dom_classes": [],
            "description": "",
            "_model_name": "HTMLModel",
            "placeholder": "​",
            "_view_module": "@jupyter-widgets/controls",
            "_model_module_version": "1.5.0",
            "value": " 1.17k/1.17k [00:00&lt;00:00, 32.1kB/s]",
            "_view_count": null,
            "_view_module_version": "1.5.0",
            "description_tooltip": null,
            "_model_module": "@jupyter-widgets/controls",
            "layout": "IPY_MODEL_086e542b4bee4e11b7754e66b5b79c8d"
          }
        },
        "7fe741c9126348669d5f79ac2bbc131e": {
          "model_module": "@jupyter-widgets/controls",
          "model_name": "DescriptionStyleModel",
          "model_module_version": "1.5.0",
          "state": {
            "_view_name": "StyleView",
            "_model_name": "DescriptionStyleModel",
            "description_width": "",
            "_view_module": "@jupyter-widgets/base",
            "_model_module_version": "1.5.0",
            "_view_count": null,
            "_view_module_version": "1.2.0",
            "_model_module": "@jupyter-widgets/controls"
          }
        },
        "3b52b887056f46b9bdfd501dfccc2eb2": {
          "model_module": "@jupyter-widgets/base",
          "model_name": "LayoutModel",
          "model_module_version": "1.2.0",
          "state": {
            "_view_name": "LayoutView",
            "grid_template_rows": null,
            "right": null,
            "justify_content": null,
            "_view_module": "@jupyter-widgets/base",
            "overflow": null,
            "_model_module_version": "1.2.0",
            "_view_count": null,
            "flex_flow": null,
            "width": null,
            "min_width": null,
            "border": null,
            "align_items": null,
            "bottom": null,
            "_model_module": "@jupyter-widgets/base",
            "top": null,
            "grid_column": null,
            "overflow_y": null,
            "overflow_x": null,
            "grid_auto_flow": null,
            "grid_area": null,
            "grid_template_columns": null,
            "flex": null,
            "_model_name": "LayoutModel",
            "justify_items": null,
            "grid_row": null,
            "max_height": null,
            "align_content": null,
            "visibility": null,
            "align_self": null,
            "height": null,
            "min_height": null,
            "padding": null,
            "grid_auto_rows": null,
            "grid_gap": null,
            "max_width": null,
            "order": null,
            "_view_module_version": "1.2.0",
            "grid_template_areas": null,
            "object_position": null,
            "object_fit": null,
            "grid_auto_columns": null,
            "margin": null,
            "display": null,
            "left": null
          }
        },
        "45ad6310b3ef456b84fc3ed5a1820499": {
          "model_module": "@jupyter-widgets/controls",
          "model_name": "ProgressStyleModel",
          "model_module_version": "1.5.0",
          "state": {
            "_view_name": "StyleView",
            "_model_name": "ProgressStyleModel",
            "description_width": "",
            "_view_module": "@jupyter-widgets/base",
            "_model_module_version": "1.5.0",
            "_view_count": null,
            "_view_module_version": "1.2.0",
            "bar_color": null,
            "_model_module": "@jupyter-widgets/controls"
          }
        },
        "8eb10a09d9104089980b61b0dcc03a45": {
          "model_module": "@jupyter-widgets/base",
          "model_name": "LayoutModel",
          "model_module_version": "1.2.0",
          "state": {
            "_view_name": "LayoutView",
            "grid_template_rows": null,
            "right": null,
            "justify_content": null,
            "_view_module": "@jupyter-widgets/base",
            "overflow": null,
            "_model_module_version": "1.2.0",
            "_view_count": null,
            "flex_flow": null,
            "width": null,
            "min_width": null,
            "border": null,
            "align_items": null,
            "bottom": null,
            "_model_module": "@jupyter-widgets/base",
            "top": null,
            "grid_column": null,
            "overflow_y": null,
            "overflow_x": null,
            "grid_auto_flow": null,
            "grid_area": null,
            "grid_template_columns": null,
            "flex": null,
            "_model_name": "LayoutModel",
            "justify_items": null,
            "grid_row": null,
            "max_height": null,
            "align_content": null,
            "visibility": null,
            "align_self": null,
            "height": null,
            "min_height": null,
            "padding": null,
            "grid_auto_rows": null,
            "grid_gap": null,
            "max_width": null,
            "order": null,
            "_view_module_version": "1.2.0",
            "grid_template_areas": null,
            "object_position": null,
            "object_fit": null,
            "grid_auto_columns": null,
            "margin": null,
            "display": null,
            "left": null
          }
        },
        "a4f2693d0f64490e9d8fa6cf5f03f5dd": {
          "model_module": "@jupyter-widgets/controls",
          "model_name": "DescriptionStyleModel",
          "model_module_version": "1.5.0",
          "state": {
            "_view_name": "StyleView",
            "_model_name": "DescriptionStyleModel",
            "description_width": "",
            "_view_module": "@jupyter-widgets/base",
            "_model_module_version": "1.5.0",
            "_view_count": null,
            "_view_module_version": "1.2.0",
            "_model_module": "@jupyter-widgets/controls"
          }
        },
        "086e542b4bee4e11b7754e66b5b79c8d": {
          "model_module": "@jupyter-widgets/base",
          "model_name": "LayoutModel",
          "model_module_version": "1.2.0",
          "state": {
            "_view_name": "LayoutView",
            "grid_template_rows": null,
            "right": null,
            "justify_content": null,
            "_view_module": "@jupyter-widgets/base",
            "overflow": null,
            "_model_module_version": "1.2.0",
            "_view_count": null,
            "flex_flow": null,
            "width": null,
            "min_width": null,
            "border": null,
            "align_items": null,
            "bottom": null,
            "_model_module": "@jupyter-widgets/base",
            "top": null,
            "grid_column": null,
            "overflow_y": null,
            "overflow_x": null,
            "grid_auto_flow": null,
            "grid_area": null,
            "grid_template_columns": null,
            "flex": null,
            "_model_name": "LayoutModel",
            "justify_items": null,
            "grid_row": null,
            "max_height": null,
            "align_content": null,
            "visibility": null,
            "align_self": null,
            "height": null,
            "min_height": null,
            "padding": null,
            "grid_auto_rows": null,
            "grid_gap": null,
            "max_width": null,
            "order": null,
            "_view_module_version": "1.2.0",
            "grid_template_areas": null,
            "object_position": null,
            "object_fit": null,
            "grid_auto_columns": null,
            "margin": null,
            "display": null,
            "left": null
          }
        },
        "626c9d3244ae484ab874c6e00a80e9c5": {
          "model_module": "@jupyter-widgets/controls",
          "model_name": "HBoxModel",
          "model_module_version": "1.5.0",
          "state": {
            "_view_name": "HBoxView",
            "_dom_classes": [],
            "_model_name": "HBoxModel",
            "_view_module": "@jupyter-widgets/controls",
            "_model_module_version": "1.5.0",
            "_view_count": null,
            "_view_module_version": "1.5.0",
            "box_style": "",
            "layout": "IPY_MODEL_4a2a42bc8d084b71b533e17858565426",
            "_model_module": "@jupyter-widgets/controls",
            "children": [
              "IPY_MODEL_53f552ce0ce7475fa5253a9341ce321b",
              "IPY_MODEL_a6d2486bf54a404faec275686a52ec4a",
              "IPY_MODEL_88828074c1b046d7ab9cfb1d354b67bd"
            ]
          }
        },
        "4a2a42bc8d084b71b533e17858565426": {
          "model_module": "@jupyter-widgets/base",
          "model_name": "LayoutModel",
          "model_module_version": "1.2.0",
          "state": {
            "_view_name": "LayoutView",
            "grid_template_rows": null,
            "right": null,
            "justify_content": null,
            "_view_module": "@jupyter-widgets/base",
            "overflow": null,
            "_model_module_version": "1.2.0",
            "_view_count": null,
            "flex_flow": null,
            "width": null,
            "min_width": null,
            "border": null,
            "align_items": null,
            "bottom": null,
            "_model_module": "@jupyter-widgets/base",
            "top": null,
            "grid_column": null,
            "overflow_y": null,
            "overflow_x": null,
            "grid_auto_flow": null,
            "grid_area": null,
            "grid_template_columns": null,
            "flex": null,
            "_model_name": "LayoutModel",
            "justify_items": null,
            "grid_row": null,
            "max_height": null,
            "align_content": null,
            "visibility": null,
            "align_self": null,
            "height": null,
            "min_height": null,
            "padding": null,
            "grid_auto_rows": null,
            "grid_gap": null,
            "max_width": null,
            "order": null,
            "_view_module_version": "1.2.0",
            "grid_template_areas": null,
            "object_position": null,
            "object_fit": null,
            "grid_auto_columns": null,
            "margin": null,
            "display": null,
            "left": null
          }
        },
        "53f552ce0ce7475fa5253a9341ce321b": {
          "model_module": "@jupyter-widgets/controls",
          "model_name": "HTMLModel",
          "model_module_version": "1.5.0",
          "state": {
            "_view_name": "HTMLView",
            "style": "IPY_MODEL_3d69e92350bf48d48af43e8e45e94ede",
            "_dom_classes": [],
            "description": "",
            "_model_name": "HTMLModel",
            "placeholder": "​",
            "_view_module": "@jupyter-widgets/controls",
            "_model_module_version": "1.5.0",
            "value": "Downloading: 100%",
            "_view_count": null,
            "_view_module_version": "1.5.0",
            "description_tooltip": null,
            "_model_module": "@jupyter-widgets/controls",
            "layout": "IPY_MODEL_209e0ce819384131a47019072369eab3"
          }
        },
        "a6d2486bf54a404faec275686a52ec4a": {
          "model_module": "@jupyter-widgets/controls",
          "model_name": "FloatProgressModel",
          "model_module_version": "1.5.0",
          "state": {
            "_view_name": "ProgressView",
            "style": "IPY_MODEL_24bbbfea8bf04345b41516c3b4d998eb",
            "_dom_classes": [],
            "description": "",
            "_model_name": "FloatProgressModel",
            "bar_style": "success",
            "max": 791656,
            "_view_module": "@jupyter-widgets/controls",
            "_model_module_version": "1.5.0",
            "value": 791656,
            "_view_count": null,
            "_view_module_version": "1.5.0",
            "orientation": "horizontal",
            "min": 0,
            "description_tooltip": null,
            "_model_module": "@jupyter-widgets/controls",
            "layout": "IPY_MODEL_607c2f57ab514aec8c740fcbd0975707"
          }
        },
        "88828074c1b046d7ab9cfb1d354b67bd": {
          "model_module": "@jupyter-widgets/controls",
          "model_name": "HTMLModel",
          "model_module_version": "1.5.0",
          "state": {
            "_view_name": "HTMLView",
            "style": "IPY_MODEL_c32f7dc3ddc6417797b9d14c0cb40cf4",
            "_dom_classes": [],
            "description": "",
            "_model_name": "HTMLModel",
            "placeholder": "​",
            "_view_module": "@jupyter-widgets/controls",
            "_model_module_version": "1.5.0",
            "value": " 773k/773k [00:00&lt;00:00, 905kB/s]",
            "_view_count": null,
            "_view_module_version": "1.5.0",
            "description_tooltip": null,
            "_model_module": "@jupyter-widgets/controls",
            "layout": "IPY_MODEL_38c66dc662bb4920b9d86baab8761ab0"
          }
        },
        "3d69e92350bf48d48af43e8e45e94ede": {
          "model_module": "@jupyter-widgets/controls",
          "model_name": "DescriptionStyleModel",
          "model_module_version": "1.5.0",
          "state": {
            "_view_name": "StyleView",
            "_model_name": "DescriptionStyleModel",
            "description_width": "",
            "_view_module": "@jupyter-widgets/base",
            "_model_module_version": "1.5.0",
            "_view_count": null,
            "_view_module_version": "1.2.0",
            "_model_module": "@jupyter-widgets/controls"
          }
        },
        "209e0ce819384131a47019072369eab3": {
          "model_module": "@jupyter-widgets/base",
          "model_name": "LayoutModel",
          "model_module_version": "1.2.0",
          "state": {
            "_view_name": "LayoutView",
            "grid_template_rows": null,
            "right": null,
            "justify_content": null,
            "_view_module": "@jupyter-widgets/base",
            "overflow": null,
            "_model_module_version": "1.2.0",
            "_view_count": null,
            "flex_flow": null,
            "width": null,
            "min_width": null,
            "border": null,
            "align_items": null,
            "bottom": null,
            "_model_module": "@jupyter-widgets/base",
            "top": null,
            "grid_column": null,
            "overflow_y": null,
            "overflow_x": null,
            "grid_auto_flow": null,
            "grid_area": null,
            "grid_template_columns": null,
            "flex": null,
            "_model_name": "LayoutModel",
            "justify_items": null,
            "grid_row": null,
            "max_height": null,
            "align_content": null,
            "visibility": null,
            "align_self": null,
            "height": null,
            "min_height": null,
            "padding": null,
            "grid_auto_rows": null,
            "grid_gap": null,
            "max_width": null,
            "order": null,
            "_view_module_version": "1.2.0",
            "grid_template_areas": null,
            "object_position": null,
            "object_fit": null,
            "grid_auto_columns": null,
            "margin": null,
            "display": null,
            "left": null
          }
        },
        "24bbbfea8bf04345b41516c3b4d998eb": {
          "model_module": "@jupyter-widgets/controls",
          "model_name": "ProgressStyleModel",
          "model_module_version": "1.5.0",
          "state": {
            "_view_name": "StyleView",
            "_model_name": "ProgressStyleModel",
            "description_width": "",
            "_view_module": "@jupyter-widgets/base",
            "_model_module_version": "1.5.0",
            "_view_count": null,
            "_view_module_version": "1.2.0",
            "bar_color": null,
            "_model_module": "@jupyter-widgets/controls"
          }
        },
        "607c2f57ab514aec8c740fcbd0975707": {
          "model_module": "@jupyter-widgets/base",
          "model_name": "LayoutModel",
          "model_module_version": "1.2.0",
          "state": {
            "_view_name": "LayoutView",
            "grid_template_rows": null,
            "right": null,
            "justify_content": null,
            "_view_module": "@jupyter-widgets/base",
            "overflow": null,
            "_model_module_version": "1.2.0",
            "_view_count": null,
            "flex_flow": null,
            "width": null,
            "min_width": null,
            "border": null,
            "align_items": null,
            "bottom": null,
            "_model_module": "@jupyter-widgets/base",
            "top": null,
            "grid_column": null,
            "overflow_y": null,
            "overflow_x": null,
            "grid_auto_flow": null,
            "grid_area": null,
            "grid_template_columns": null,
            "flex": null,
            "_model_name": "LayoutModel",
            "justify_items": null,
            "grid_row": null,
            "max_height": null,
            "align_content": null,
            "visibility": null,
            "align_self": null,
            "height": null,
            "min_height": null,
            "padding": null,
            "grid_auto_rows": null,
            "grid_gap": null,
            "max_width": null,
            "order": null,
            "_view_module_version": "1.2.0",
            "grid_template_areas": null,
            "object_position": null,
            "object_fit": null,
            "grid_auto_columns": null,
            "margin": null,
            "display": null,
            "left": null
          }
        },
        "c32f7dc3ddc6417797b9d14c0cb40cf4": {
          "model_module": "@jupyter-widgets/controls",
          "model_name": "DescriptionStyleModel",
          "model_module_version": "1.5.0",
          "state": {
            "_view_name": "StyleView",
            "_model_name": "DescriptionStyleModel",
            "description_width": "",
            "_view_module": "@jupyter-widgets/base",
            "_model_module_version": "1.5.0",
            "_view_count": null,
            "_view_module_version": "1.2.0",
            "_model_module": "@jupyter-widgets/controls"
          }
        },
        "38c66dc662bb4920b9d86baab8761ab0": {
          "model_module": "@jupyter-widgets/base",
          "model_name": "LayoutModel",
          "model_module_version": "1.2.0",
          "state": {
            "_view_name": "LayoutView",
            "grid_template_rows": null,
            "right": null,
            "justify_content": null,
            "_view_module": "@jupyter-widgets/base",
            "overflow": null,
            "_model_module_version": "1.2.0",
            "_view_count": null,
            "flex_flow": null,
            "width": null,
            "min_width": null,
            "border": null,
            "align_items": null,
            "bottom": null,
            "_model_module": "@jupyter-widgets/base",
            "top": null,
            "grid_column": null,
            "overflow_y": null,
            "overflow_x": null,
            "grid_auto_flow": null,
            "grid_area": null,
            "grid_template_columns": null,
            "flex": null,
            "_model_name": "LayoutModel",
            "justify_items": null,
            "grid_row": null,
            "max_height": null,
            "align_content": null,
            "visibility": null,
            "align_self": null,
            "height": null,
            "min_height": null,
            "padding": null,
            "grid_auto_rows": null,
            "grid_gap": null,
            "max_width": null,
            "order": null,
            "_view_module_version": "1.2.0",
            "grid_template_areas": null,
            "object_position": null,
            "object_fit": null,
            "grid_auto_columns": null,
            "margin": null,
            "display": null,
            "left": null
          }
        },
        "9474cc29b12a44d4aba525ff69e9e050": {
          "model_module": "@jupyter-widgets/controls",
          "model_name": "HBoxModel",
          "model_module_version": "1.5.0",
          "state": {
            "_view_name": "HBoxView",
            "_dom_classes": [],
            "_model_name": "HBoxModel",
            "_view_module": "@jupyter-widgets/controls",
            "_model_module_version": "1.5.0",
            "_view_count": null,
            "_view_module_version": "1.5.0",
            "box_style": "",
            "layout": "IPY_MODEL_8711c49f3c7a438597d491a6d0da1e1b",
            "_model_module": "@jupyter-widgets/controls",
            "children": [
              "IPY_MODEL_902de90b97104352828a624aab7d6b1e",
              "IPY_MODEL_079a2b92a52d4c8ba1d25055381cb0d9",
              "IPY_MODEL_c0c0fe0470224525bb5d13ff5d5b64fd"
            ]
          }
        },
        "8711c49f3c7a438597d491a6d0da1e1b": {
          "model_module": "@jupyter-widgets/base",
          "model_name": "LayoutModel",
          "model_module_version": "1.2.0",
          "state": {
            "_view_name": "LayoutView",
            "grid_template_rows": null,
            "right": null,
            "justify_content": null,
            "_view_module": "@jupyter-widgets/base",
            "overflow": null,
            "_model_module_version": "1.2.0",
            "_view_count": null,
            "flex_flow": null,
            "width": null,
            "min_width": null,
            "border": null,
            "align_items": null,
            "bottom": null,
            "_model_module": "@jupyter-widgets/base",
            "top": null,
            "grid_column": null,
            "overflow_y": null,
            "overflow_x": null,
            "grid_auto_flow": null,
            "grid_area": null,
            "grid_template_columns": null,
            "flex": null,
            "_model_name": "LayoutModel",
            "justify_items": null,
            "grid_row": null,
            "max_height": null,
            "align_content": null,
            "visibility": null,
            "align_self": null,
            "height": null,
            "min_height": null,
            "padding": null,
            "grid_auto_rows": null,
            "grid_gap": null,
            "max_width": null,
            "order": null,
            "_view_module_version": "1.2.0",
            "grid_template_areas": null,
            "object_position": null,
            "object_fit": null,
            "grid_auto_columns": null,
            "margin": null,
            "display": null,
            "left": null
          }
        },
        "902de90b97104352828a624aab7d6b1e": {
          "model_module": "@jupyter-widgets/controls",
          "model_name": "HTMLModel",
          "model_module_version": "1.5.0",
          "state": {
            "_view_name": "HTMLView",
            "style": "IPY_MODEL_a71215869ba24906a19ee9d1f30681df",
            "_dom_classes": [],
            "description": "",
            "_model_name": "HTMLModel",
            "placeholder": "​",
            "_view_module": "@jupyter-widgets/controls",
            "_model_module_version": "1.5.0",
            "value": "Downloading: 100%",
            "_view_count": null,
            "_view_module_version": "1.5.0",
            "description_tooltip": null,
            "_model_module": "@jupyter-widgets/controls",
            "layout": "IPY_MODEL_5a04a5a45f1a4741a1fc27ec05f55983"
          }
        },
        "079a2b92a52d4c8ba1d25055381cb0d9": {
          "model_module": "@jupyter-widgets/controls",
          "model_name": "FloatProgressModel",
          "model_module_version": "1.5.0",
          "state": {
            "_view_name": "ProgressView",
            "style": "IPY_MODEL_836535948f8a45baa674caf0579ef06e",
            "_dom_classes": [],
            "description": "",
            "_model_name": "FloatProgressModel",
            "bar_style": "success",
            "max": 1389353,
            "_view_module": "@jupyter-widgets/controls",
            "_model_module_version": "1.5.0",
            "value": 1389353,
            "_view_count": null,
            "_view_module_version": "1.5.0",
            "orientation": "horizontal",
            "min": 0,
            "description_tooltip": null,
            "_model_module": "@jupyter-widgets/controls",
            "layout": "IPY_MODEL_ead762050562432197af6a6d26f12088"
          }
        },
        "c0c0fe0470224525bb5d13ff5d5b64fd": {
          "model_module": "@jupyter-widgets/controls",
          "model_name": "HTMLModel",
          "model_module_version": "1.5.0",
          "state": {
            "_view_name": "HTMLView",
            "style": "IPY_MODEL_67dfb7a7bb4e4c4abc60a15caa806a5d",
            "_dom_classes": [],
            "description": "",
            "_model_name": "HTMLModel",
            "placeholder": "​",
            "_view_module": "@jupyter-widgets/controls",
            "_model_module_version": "1.5.0",
            "value": " 1.32M/1.32M [00:00&lt;00:00, 2.72MB/s]",
            "_view_count": null,
            "_view_module_version": "1.5.0",
            "description_tooltip": null,
            "_model_module": "@jupyter-widgets/controls",
            "layout": "IPY_MODEL_616e26eb34f1445a8f8f302b22ad6e24"
          }
        },
        "a71215869ba24906a19ee9d1f30681df": {
          "model_module": "@jupyter-widgets/controls",
          "model_name": "DescriptionStyleModel",
          "model_module_version": "1.5.0",
          "state": {
            "_view_name": "StyleView",
            "_model_name": "DescriptionStyleModel",
            "description_width": "",
            "_view_module": "@jupyter-widgets/base",
            "_model_module_version": "1.5.0",
            "_view_count": null,
            "_view_module_version": "1.2.0",
            "_model_module": "@jupyter-widgets/controls"
          }
        },
        "5a04a5a45f1a4741a1fc27ec05f55983": {
          "model_module": "@jupyter-widgets/base",
          "model_name": "LayoutModel",
          "model_module_version": "1.2.0",
          "state": {
            "_view_name": "LayoutView",
            "grid_template_rows": null,
            "right": null,
            "justify_content": null,
            "_view_module": "@jupyter-widgets/base",
            "overflow": null,
            "_model_module_version": "1.2.0",
            "_view_count": null,
            "flex_flow": null,
            "width": null,
            "min_width": null,
            "border": null,
            "align_items": null,
            "bottom": null,
            "_model_module": "@jupyter-widgets/base",
            "top": null,
            "grid_column": null,
            "overflow_y": null,
            "overflow_x": null,
            "grid_auto_flow": null,
            "grid_area": null,
            "grid_template_columns": null,
            "flex": null,
            "_model_name": "LayoutModel",
            "justify_items": null,
            "grid_row": null,
            "max_height": null,
            "align_content": null,
            "visibility": null,
            "align_self": null,
            "height": null,
            "min_height": null,
            "padding": null,
            "grid_auto_rows": null,
            "grid_gap": null,
            "max_width": null,
            "order": null,
            "_view_module_version": "1.2.0",
            "grid_template_areas": null,
            "object_position": null,
            "object_fit": null,
            "grid_auto_columns": null,
            "margin": null,
            "display": null,
            "left": null
          }
        },
        "836535948f8a45baa674caf0579ef06e": {
          "model_module": "@jupyter-widgets/controls",
          "model_name": "ProgressStyleModel",
          "model_module_version": "1.5.0",
          "state": {
            "_view_name": "StyleView",
            "_model_name": "ProgressStyleModel",
            "description_width": "",
            "_view_module": "@jupyter-widgets/base",
            "_model_module_version": "1.5.0",
            "_view_count": null,
            "_view_module_version": "1.2.0",
            "bar_color": null,
            "_model_module": "@jupyter-widgets/controls"
          }
        },
        "ead762050562432197af6a6d26f12088": {
          "model_module": "@jupyter-widgets/base",
          "model_name": "LayoutModel",
          "model_module_version": "1.2.0",
          "state": {
            "_view_name": "LayoutView",
            "grid_template_rows": null,
            "right": null,
            "justify_content": null,
            "_view_module": "@jupyter-widgets/base",
            "overflow": null,
            "_model_module_version": "1.2.0",
            "_view_count": null,
            "flex_flow": null,
            "width": null,
            "min_width": null,
            "border": null,
            "align_items": null,
            "bottom": null,
            "_model_module": "@jupyter-widgets/base",
            "top": null,
            "grid_column": null,
            "overflow_y": null,
            "overflow_x": null,
            "grid_auto_flow": null,
            "grid_area": null,
            "grid_template_columns": null,
            "flex": null,
            "_model_name": "LayoutModel",
            "justify_items": null,
            "grid_row": null,
            "max_height": null,
            "align_content": null,
            "visibility": null,
            "align_self": null,
            "height": null,
            "min_height": null,
            "padding": null,
            "grid_auto_rows": null,
            "grid_gap": null,
            "max_width": null,
            "order": null,
            "_view_module_version": "1.2.0",
            "grid_template_areas": null,
            "object_position": null,
            "object_fit": null,
            "grid_auto_columns": null,
            "margin": null,
            "display": null,
            "left": null
          }
        },
        "67dfb7a7bb4e4c4abc60a15caa806a5d": {
          "model_module": "@jupyter-widgets/controls",
          "model_name": "DescriptionStyleModel",
          "model_module_version": "1.5.0",
          "state": {
            "_view_name": "StyleView",
            "_model_name": "DescriptionStyleModel",
            "description_width": "",
            "_view_module": "@jupyter-widgets/base",
            "_model_module_version": "1.5.0",
            "_view_count": null,
            "_view_module_version": "1.2.0",
            "_model_module": "@jupyter-widgets/controls"
          }
        },
        "616e26eb34f1445a8f8f302b22ad6e24": {
          "model_module": "@jupyter-widgets/base",
          "model_name": "LayoutModel",
          "model_module_version": "1.2.0",
          "state": {
            "_view_name": "LayoutView",
            "grid_template_rows": null,
            "right": null,
            "justify_content": null,
            "_view_module": "@jupyter-widgets/base",
            "overflow": null,
            "_model_module_version": "1.2.0",
            "_view_count": null,
            "flex_flow": null,
            "width": null,
            "min_width": null,
            "border": null,
            "align_items": null,
            "bottom": null,
            "_model_module": "@jupyter-widgets/base",
            "top": null,
            "grid_column": null,
            "overflow_y": null,
            "overflow_x": null,
            "grid_auto_flow": null,
            "grid_area": null,
            "grid_template_columns": null,
            "flex": null,
            "_model_name": "LayoutModel",
            "justify_items": null,
            "grid_row": null,
            "max_height": null,
            "align_content": null,
            "visibility": null,
            "align_self": null,
            "height": null,
            "min_height": null,
            "padding": null,
            "grid_auto_rows": null,
            "grid_gap": null,
            "max_width": null,
            "order": null,
            "_view_module_version": "1.2.0",
            "grid_template_areas": null,
            "object_position": null,
            "object_fit": null,
            "grid_auto_columns": null,
            "margin": null,
            "display": null,
            "left": null
          }
        },
        "64793222c648413787165c636d167c98": {
          "model_module": "@jupyter-widgets/controls",
          "model_name": "HBoxModel",
          "model_module_version": "1.5.0",
          "state": {
            "_view_name": "HBoxView",
            "_dom_classes": [],
            "_model_name": "HBoxModel",
            "_view_module": "@jupyter-widgets/controls",
            "_model_module_version": "1.5.0",
            "_view_count": null,
            "_view_module_version": "1.5.0",
            "box_style": "",
            "layout": "IPY_MODEL_96c82b444016433885867e563a87c6bf",
            "_model_module": "@jupyter-widgets/controls",
            "children": [
              "IPY_MODEL_aeb850f5e4594490bdd5e605304c49f7",
              "IPY_MODEL_a029440408324e2f86c49758134f6e06",
              "IPY_MODEL_c95b76e54afc4c2da8fe2f172275df2b"
            ]
          }
        },
        "96c82b444016433885867e563a87c6bf": {
          "model_module": "@jupyter-widgets/base",
          "model_name": "LayoutModel",
          "model_module_version": "1.2.0",
          "state": {
            "_view_name": "LayoutView",
            "grid_template_rows": null,
            "right": null,
            "justify_content": null,
            "_view_module": "@jupyter-widgets/base",
            "overflow": null,
            "_model_module_version": "1.2.0",
            "_view_count": null,
            "flex_flow": null,
            "width": null,
            "min_width": null,
            "border": null,
            "align_items": null,
            "bottom": null,
            "_model_module": "@jupyter-widgets/base",
            "top": null,
            "grid_column": null,
            "overflow_y": null,
            "overflow_x": null,
            "grid_auto_flow": null,
            "grid_area": null,
            "grid_template_columns": null,
            "flex": null,
            "_model_name": "LayoutModel",
            "justify_items": null,
            "grid_row": null,
            "max_height": null,
            "align_content": null,
            "visibility": null,
            "align_self": null,
            "height": null,
            "min_height": null,
            "padding": null,
            "grid_auto_rows": null,
            "grid_gap": null,
            "max_width": null,
            "order": null,
            "_view_module_version": "1.2.0",
            "grid_template_areas": null,
            "object_position": null,
            "object_fit": null,
            "grid_auto_columns": null,
            "margin": null,
            "display": null,
            "left": null
          }
        },
        "aeb850f5e4594490bdd5e605304c49f7": {
          "model_module": "@jupyter-widgets/controls",
          "model_name": "HTMLModel",
          "model_module_version": "1.5.0",
          "state": {
            "_view_name": "HTMLView",
            "style": "IPY_MODEL_193707b19ad245e69d5bd9ff1759f840",
            "_dom_classes": [],
            "description": "",
            "_model_name": "HTMLModel",
            "placeholder": "​",
            "_view_module": "@jupyter-widgets/controls",
            "_model_module_version": "1.5.0",
            "value": "100%",
            "_view_count": null,
            "_view_module_version": "1.5.0",
            "description_tooltip": null,
            "_model_module": "@jupyter-widgets/controls",
            "layout": "IPY_MODEL_02baa7ffb9664c7da0f986928e364d13"
          }
        },
        "a029440408324e2f86c49758134f6e06": {
          "model_module": "@jupyter-widgets/controls",
          "model_name": "FloatProgressModel",
          "model_module_version": "1.5.0",
          "state": {
            "_view_name": "ProgressView",
            "style": "IPY_MODEL_575f50879d8f4a91a3900d88f5c4423f",
            "_dom_classes": [],
            "description": "",
            "_model_name": "FloatProgressModel",
            "bar_style": "success",
            "max": 11,
            "_view_module": "@jupyter-widgets/controls",
            "_model_module_version": "1.5.0",
            "value": 11,
            "_view_count": null,
            "_view_module_version": "1.5.0",
            "orientation": "horizontal",
            "min": 0,
            "description_tooltip": null,
            "_model_module": "@jupyter-widgets/controls",
            "layout": "IPY_MODEL_53b8359de7fb4833bf80d13f3c1b716f"
          }
        },
        "c95b76e54afc4c2da8fe2f172275df2b": {
          "model_module": "@jupyter-widgets/controls",
          "model_name": "HTMLModel",
          "model_module_version": "1.5.0",
          "state": {
            "_view_name": "HTMLView",
            "style": "IPY_MODEL_243c079e209f4d079ffca7efbea91f1c",
            "_dom_classes": [],
            "description": "",
            "_model_name": "HTMLModel",
            "placeholder": "​",
            "_view_module": "@jupyter-widgets/controls",
            "_model_module_version": "1.5.0",
            "value": " 11/11 [00:15&lt;00:00,  1.12s/ba]",
            "_view_count": null,
            "_view_module_version": "1.5.0",
            "description_tooltip": null,
            "_model_module": "@jupyter-widgets/controls",
            "layout": "IPY_MODEL_95b7f15e24c14496ad5f8d93bb6d79e2"
          }
        },
        "193707b19ad245e69d5bd9ff1759f840": {
          "model_module": "@jupyter-widgets/controls",
          "model_name": "DescriptionStyleModel",
          "model_module_version": "1.5.0",
          "state": {
            "_view_name": "StyleView",
            "_model_name": "DescriptionStyleModel",
            "description_width": "",
            "_view_module": "@jupyter-widgets/base",
            "_model_module_version": "1.5.0",
            "_view_count": null,
            "_view_module_version": "1.2.0",
            "_model_module": "@jupyter-widgets/controls"
          }
        },
        "02baa7ffb9664c7da0f986928e364d13": {
          "model_module": "@jupyter-widgets/base",
          "model_name": "LayoutModel",
          "model_module_version": "1.2.0",
          "state": {
            "_view_name": "LayoutView",
            "grid_template_rows": null,
            "right": null,
            "justify_content": null,
            "_view_module": "@jupyter-widgets/base",
            "overflow": null,
            "_model_module_version": "1.2.0",
            "_view_count": null,
            "flex_flow": null,
            "width": null,
            "min_width": null,
            "border": null,
            "align_items": null,
            "bottom": null,
            "_model_module": "@jupyter-widgets/base",
            "top": null,
            "grid_column": null,
            "overflow_y": null,
            "overflow_x": null,
            "grid_auto_flow": null,
            "grid_area": null,
            "grid_template_columns": null,
            "flex": null,
            "_model_name": "LayoutModel",
            "justify_items": null,
            "grid_row": null,
            "max_height": null,
            "align_content": null,
            "visibility": null,
            "align_self": null,
            "height": null,
            "min_height": null,
            "padding": null,
            "grid_auto_rows": null,
            "grid_gap": null,
            "max_width": null,
            "order": null,
            "_view_module_version": "1.2.0",
            "grid_template_areas": null,
            "object_position": null,
            "object_fit": null,
            "grid_auto_columns": null,
            "margin": null,
            "display": null,
            "left": null
          }
        },
        "575f50879d8f4a91a3900d88f5c4423f": {
          "model_module": "@jupyter-widgets/controls",
          "model_name": "ProgressStyleModel",
          "model_module_version": "1.5.0",
          "state": {
            "_view_name": "StyleView",
            "_model_name": "ProgressStyleModel",
            "description_width": "",
            "_view_module": "@jupyter-widgets/base",
            "_model_module_version": "1.5.0",
            "_view_count": null,
            "_view_module_version": "1.2.0",
            "bar_color": null,
            "_model_module": "@jupyter-widgets/controls"
          }
        },
        "53b8359de7fb4833bf80d13f3c1b716f": {
          "model_module": "@jupyter-widgets/base",
          "model_name": "LayoutModel",
          "model_module_version": "1.2.0",
          "state": {
            "_view_name": "LayoutView",
            "grid_template_rows": null,
            "right": null,
            "justify_content": null,
            "_view_module": "@jupyter-widgets/base",
            "overflow": null,
            "_model_module_version": "1.2.0",
            "_view_count": null,
            "flex_flow": null,
            "width": null,
            "min_width": null,
            "border": null,
            "align_items": null,
            "bottom": null,
            "_model_module": "@jupyter-widgets/base",
            "top": null,
            "grid_column": null,
            "overflow_y": null,
            "overflow_x": null,
            "grid_auto_flow": null,
            "grid_area": null,
            "grid_template_columns": null,
            "flex": null,
            "_model_name": "LayoutModel",
            "justify_items": null,
            "grid_row": null,
            "max_height": null,
            "align_content": null,
            "visibility": null,
            "align_self": null,
            "height": null,
            "min_height": null,
            "padding": null,
            "grid_auto_rows": null,
            "grid_gap": null,
            "max_width": null,
            "order": null,
            "_view_module_version": "1.2.0",
            "grid_template_areas": null,
            "object_position": null,
            "object_fit": null,
            "grid_auto_columns": null,
            "margin": null,
            "display": null,
            "left": null
          }
        },
        "243c079e209f4d079ffca7efbea91f1c": {
          "model_module": "@jupyter-widgets/controls",
          "model_name": "DescriptionStyleModel",
          "model_module_version": "1.5.0",
          "state": {
            "_view_name": "StyleView",
            "_model_name": "DescriptionStyleModel",
            "description_width": "",
            "_view_module": "@jupyter-widgets/base",
            "_model_module_version": "1.5.0",
            "_view_count": null,
            "_view_module_version": "1.2.0",
            "_model_module": "@jupyter-widgets/controls"
          }
        },
        "95b7f15e24c14496ad5f8d93bb6d79e2": {
          "model_module": "@jupyter-widgets/base",
          "model_name": "LayoutModel",
          "model_module_version": "1.2.0",
          "state": {
            "_view_name": "LayoutView",
            "grid_template_rows": null,
            "right": null,
            "justify_content": null,
            "_view_module": "@jupyter-widgets/base",
            "overflow": null,
            "_model_module_version": "1.2.0",
            "_view_count": null,
            "flex_flow": null,
            "width": null,
            "min_width": null,
            "border": null,
            "align_items": null,
            "bottom": null,
            "_model_module": "@jupyter-widgets/base",
            "top": null,
            "grid_column": null,
            "overflow_y": null,
            "overflow_x": null,
            "grid_auto_flow": null,
            "grid_area": null,
            "grid_template_columns": null,
            "flex": null,
            "_model_name": "LayoutModel",
            "justify_items": null,
            "grid_row": null,
            "max_height": null,
            "align_content": null,
            "visibility": null,
            "align_self": null,
            "height": null,
            "min_height": null,
            "padding": null,
            "grid_auto_rows": null,
            "grid_gap": null,
            "max_width": null,
            "order": null,
            "_view_module_version": "1.2.0",
            "grid_template_areas": null,
            "object_position": null,
            "object_fit": null,
            "grid_auto_columns": null,
            "margin": null,
            "display": null,
            "left": null
          }
        },
        "9e0ef7108b5e4f25a6a036d088c57bc9": {
          "model_module": "@jupyter-widgets/controls",
          "model_name": "HBoxModel",
          "model_module_version": "1.5.0",
          "state": {
            "_view_name": "HBoxView",
            "_dom_classes": [],
            "_model_name": "HBoxModel",
            "_view_module": "@jupyter-widgets/controls",
            "_model_module_version": "1.5.0",
            "_view_count": null,
            "_view_module_version": "1.5.0",
            "box_style": "",
            "layout": "IPY_MODEL_c31f93a386f94ae48e737d008d12c973",
            "_model_module": "@jupyter-widgets/controls",
            "children": [
              "IPY_MODEL_fd230a9c299b4d86be956fec15bba210",
              "IPY_MODEL_196482b380634f80b165409f1d548bfd",
              "IPY_MODEL_c931d49cad484cf3996b7ac3f5761184"
            ]
          }
        },
        "c31f93a386f94ae48e737d008d12c973": {
          "model_module": "@jupyter-widgets/base",
          "model_name": "LayoutModel",
          "model_module_version": "1.2.0",
          "state": {
            "_view_name": "LayoutView",
            "grid_template_rows": null,
            "right": null,
            "justify_content": null,
            "_view_module": "@jupyter-widgets/base",
            "overflow": null,
            "_model_module_version": "1.2.0",
            "_view_count": null,
            "flex_flow": null,
            "width": null,
            "min_width": null,
            "border": null,
            "align_items": null,
            "bottom": null,
            "_model_module": "@jupyter-widgets/base",
            "top": null,
            "grid_column": null,
            "overflow_y": null,
            "overflow_x": null,
            "grid_auto_flow": null,
            "grid_area": null,
            "grid_template_columns": null,
            "flex": null,
            "_model_name": "LayoutModel",
            "justify_items": null,
            "grid_row": null,
            "max_height": null,
            "align_content": null,
            "visibility": null,
            "align_self": null,
            "height": null,
            "min_height": null,
            "padding": null,
            "grid_auto_rows": null,
            "grid_gap": null,
            "max_width": null,
            "order": null,
            "_view_module_version": "1.2.0",
            "grid_template_areas": null,
            "object_position": null,
            "object_fit": null,
            "grid_auto_columns": null,
            "margin": null,
            "display": null,
            "left": null
          }
        },
        "fd230a9c299b4d86be956fec15bba210": {
          "model_module": "@jupyter-widgets/controls",
          "model_name": "HTMLModel",
          "model_module_version": "1.5.0",
          "state": {
            "_view_name": "HTMLView",
            "style": "IPY_MODEL_6a2235629cd64637b80bd04c17241b7c",
            "_dom_classes": [],
            "description": "",
            "_model_name": "HTMLModel",
            "placeholder": "​",
            "_view_module": "@jupyter-widgets/controls",
            "_model_module_version": "1.5.0",
            "value": "100%",
            "_view_count": null,
            "_view_module_version": "1.5.0",
            "description_tooltip": null,
            "_model_module": "@jupyter-widgets/controls",
            "layout": "IPY_MODEL_9df411408d334eac84665b1f6f54c84f"
          }
        },
        "196482b380634f80b165409f1d548bfd": {
          "model_module": "@jupyter-widgets/controls",
          "model_name": "FloatProgressModel",
          "model_module_version": "1.5.0",
          "state": {
            "_view_name": "ProgressView",
            "style": "IPY_MODEL_9267ab6fa6a84f72b0ca4cbcef1abbc9",
            "_dom_classes": [],
            "description": "",
            "_model_name": "FloatProgressModel",
            "bar_style": "success",
            "max": 1,
            "_view_module": "@jupyter-widgets/controls",
            "_model_module_version": "1.5.0",
            "value": 1,
            "_view_count": null,
            "_view_module_version": "1.5.0",
            "orientation": "horizontal",
            "min": 0,
            "description_tooltip": null,
            "_model_module": "@jupyter-widgets/controls",
            "layout": "IPY_MODEL_e88efa71fc0747ada32f46c238387efb"
          }
        },
        "c931d49cad484cf3996b7ac3f5761184": {
          "model_module": "@jupyter-widgets/controls",
          "model_name": "HTMLModel",
          "model_module_version": "1.5.0",
          "state": {
            "_view_name": "HTMLView",
            "style": "IPY_MODEL_05e4093aaffe4a3a8764019c345f29f5",
            "_dom_classes": [],
            "description": "",
            "_model_name": "HTMLModel",
            "placeholder": "​",
            "_view_module": "@jupyter-widgets/controls",
            "_model_module_version": "1.5.0",
            "value": " 1/1 [00:00&lt;00:00,  1.04ba/s]",
            "_view_count": null,
            "_view_module_version": "1.5.0",
            "description_tooltip": null,
            "_model_module": "@jupyter-widgets/controls",
            "layout": "IPY_MODEL_b885a8a201674687b7f90d275df27bda"
          }
        },
        "6a2235629cd64637b80bd04c17241b7c": {
          "model_module": "@jupyter-widgets/controls",
          "model_name": "DescriptionStyleModel",
          "model_module_version": "1.5.0",
          "state": {
            "_view_name": "StyleView",
            "_model_name": "DescriptionStyleModel",
            "description_width": "",
            "_view_module": "@jupyter-widgets/base",
            "_model_module_version": "1.5.0",
            "_view_count": null,
            "_view_module_version": "1.2.0",
            "_model_module": "@jupyter-widgets/controls"
          }
        },
        "9df411408d334eac84665b1f6f54c84f": {
          "model_module": "@jupyter-widgets/base",
          "model_name": "LayoutModel",
          "model_module_version": "1.2.0",
          "state": {
            "_view_name": "LayoutView",
            "grid_template_rows": null,
            "right": null,
            "justify_content": null,
            "_view_module": "@jupyter-widgets/base",
            "overflow": null,
            "_model_module_version": "1.2.0",
            "_view_count": null,
            "flex_flow": null,
            "width": null,
            "min_width": null,
            "border": null,
            "align_items": null,
            "bottom": null,
            "_model_module": "@jupyter-widgets/base",
            "top": null,
            "grid_column": null,
            "overflow_y": null,
            "overflow_x": null,
            "grid_auto_flow": null,
            "grid_area": null,
            "grid_template_columns": null,
            "flex": null,
            "_model_name": "LayoutModel",
            "justify_items": null,
            "grid_row": null,
            "max_height": null,
            "align_content": null,
            "visibility": null,
            "align_self": null,
            "height": null,
            "min_height": null,
            "padding": null,
            "grid_auto_rows": null,
            "grid_gap": null,
            "max_width": null,
            "order": null,
            "_view_module_version": "1.2.0",
            "grid_template_areas": null,
            "object_position": null,
            "object_fit": null,
            "grid_auto_columns": null,
            "margin": null,
            "display": null,
            "left": null
          }
        },
        "9267ab6fa6a84f72b0ca4cbcef1abbc9": {
          "model_module": "@jupyter-widgets/controls",
          "model_name": "ProgressStyleModel",
          "model_module_version": "1.5.0",
          "state": {
            "_view_name": "StyleView",
            "_model_name": "ProgressStyleModel",
            "description_width": "",
            "_view_module": "@jupyter-widgets/base",
            "_model_module_version": "1.5.0",
            "_view_count": null,
            "_view_module_version": "1.2.0",
            "bar_color": null,
            "_model_module": "@jupyter-widgets/controls"
          }
        },
        "e88efa71fc0747ada32f46c238387efb": {
          "model_module": "@jupyter-widgets/base",
          "model_name": "LayoutModel",
          "model_module_version": "1.2.0",
          "state": {
            "_view_name": "LayoutView",
            "grid_template_rows": null,
            "right": null,
            "justify_content": null,
            "_view_module": "@jupyter-widgets/base",
            "overflow": null,
            "_model_module_version": "1.2.0",
            "_view_count": null,
            "flex_flow": null,
            "width": null,
            "min_width": null,
            "border": null,
            "align_items": null,
            "bottom": null,
            "_model_module": "@jupyter-widgets/base",
            "top": null,
            "grid_column": null,
            "overflow_y": null,
            "overflow_x": null,
            "grid_auto_flow": null,
            "grid_area": null,
            "grid_template_columns": null,
            "flex": null,
            "_model_name": "LayoutModel",
            "justify_items": null,
            "grid_row": null,
            "max_height": null,
            "align_content": null,
            "visibility": null,
            "align_self": null,
            "height": null,
            "min_height": null,
            "padding": null,
            "grid_auto_rows": null,
            "grid_gap": null,
            "max_width": null,
            "order": null,
            "_view_module_version": "1.2.0",
            "grid_template_areas": null,
            "object_position": null,
            "object_fit": null,
            "grid_auto_columns": null,
            "margin": null,
            "display": null,
            "left": null
          }
        },
        "05e4093aaffe4a3a8764019c345f29f5": {
          "model_module": "@jupyter-widgets/controls",
          "model_name": "DescriptionStyleModel",
          "model_module_version": "1.5.0",
          "state": {
            "_view_name": "StyleView",
            "_model_name": "DescriptionStyleModel",
            "description_width": "",
            "_view_module": "@jupyter-widgets/base",
            "_model_module_version": "1.5.0",
            "_view_count": null,
            "_view_module_version": "1.2.0",
            "_model_module": "@jupyter-widgets/controls"
          }
        },
        "b885a8a201674687b7f90d275df27bda": {
          "model_module": "@jupyter-widgets/base",
          "model_name": "LayoutModel",
          "model_module_version": "1.2.0",
          "state": {
            "_view_name": "LayoutView",
            "grid_template_rows": null,
            "right": null,
            "justify_content": null,
            "_view_module": "@jupyter-widgets/base",
            "overflow": null,
            "_model_module_version": "1.2.0",
            "_view_count": null,
            "flex_flow": null,
            "width": null,
            "min_width": null,
            "border": null,
            "align_items": null,
            "bottom": null,
            "_model_module": "@jupyter-widgets/base",
            "top": null,
            "grid_column": null,
            "overflow_y": null,
            "overflow_x": null,
            "grid_auto_flow": null,
            "grid_area": null,
            "grid_template_columns": null,
            "flex": null,
            "_model_name": "LayoutModel",
            "justify_items": null,
            "grid_row": null,
            "max_height": null,
            "align_content": null,
            "visibility": null,
            "align_self": null,
            "height": null,
            "min_height": null,
            "padding": null,
            "grid_auto_rows": null,
            "grid_gap": null,
            "max_width": null,
            "order": null,
            "_view_module_version": "1.2.0",
            "grid_template_areas": null,
            "object_position": null,
            "object_fit": null,
            "grid_auto_columns": null,
            "margin": null,
            "display": null,
            "left": null
          }
        },
        "a10f8167545248a6acaeff226e4be25e": {
          "model_module": "@jupyter-widgets/controls",
          "model_name": "HBoxModel",
          "model_module_version": "1.5.0",
          "state": {
            "_view_name": "HBoxView",
            "_dom_classes": [],
            "_model_name": "HBoxModel",
            "_view_module": "@jupyter-widgets/controls",
            "_model_module_version": "1.5.0",
            "_view_count": null,
            "_view_module_version": "1.5.0",
            "box_style": "",
            "layout": "IPY_MODEL_672f3ec1a83a469b9d3a399f29b6857c",
            "_model_module": "@jupyter-widgets/controls",
            "children": [
              "IPY_MODEL_a5a7e5fbe2624dee92af898756d40382",
              "IPY_MODEL_a23cce7cb0b74029ba2b04dea4b77569",
              "IPY_MODEL_11ec84f1dbd642f9bd1f4098a8f4daf9"
            ]
          }
        },
        "672f3ec1a83a469b9d3a399f29b6857c": {
          "model_module": "@jupyter-widgets/base",
          "model_name": "LayoutModel",
          "model_module_version": "1.2.0",
          "state": {
            "_view_name": "LayoutView",
            "grid_template_rows": null,
            "right": null,
            "justify_content": null,
            "_view_module": "@jupyter-widgets/base",
            "overflow": null,
            "_model_module_version": "1.2.0",
            "_view_count": null,
            "flex_flow": null,
            "width": null,
            "min_width": null,
            "border": null,
            "align_items": null,
            "bottom": null,
            "_model_module": "@jupyter-widgets/base",
            "top": null,
            "grid_column": null,
            "overflow_y": null,
            "overflow_x": null,
            "grid_auto_flow": null,
            "grid_area": null,
            "grid_template_columns": null,
            "flex": null,
            "_model_name": "LayoutModel",
            "justify_items": null,
            "grid_row": null,
            "max_height": null,
            "align_content": null,
            "visibility": null,
            "align_self": null,
            "height": null,
            "min_height": null,
            "padding": null,
            "grid_auto_rows": null,
            "grid_gap": null,
            "max_width": null,
            "order": null,
            "_view_module_version": "1.2.0",
            "grid_template_areas": null,
            "object_position": null,
            "object_fit": null,
            "grid_auto_columns": null,
            "margin": null,
            "display": null,
            "left": null
          }
        },
        "a5a7e5fbe2624dee92af898756d40382": {
          "model_module": "@jupyter-widgets/controls",
          "model_name": "HTMLModel",
          "model_module_version": "1.5.0",
          "state": {
            "_view_name": "HTMLView",
            "style": "IPY_MODEL_42c6674c620945d4ae077081ee4cfc87",
            "_dom_classes": [],
            "description": "",
            "_model_name": "HTMLModel",
            "placeholder": "​",
            "_view_module": "@jupyter-widgets/controls",
            "_model_module_version": "1.5.0",
            "value": "100%",
            "_view_count": null,
            "_view_module_version": "1.5.0",
            "description_tooltip": null,
            "_model_module": "@jupyter-widgets/controls",
            "layout": "IPY_MODEL_ec9b9b28a1174e8489d3dd9ef1f90182"
          }
        },
        "a23cce7cb0b74029ba2b04dea4b77569": {
          "model_module": "@jupyter-widgets/controls",
          "model_name": "FloatProgressModel",
          "model_module_version": "1.5.0",
          "state": {
            "_view_name": "ProgressView",
            "style": "IPY_MODEL_c6991590fd3e434eaeacd42838be2cd5",
            "_dom_classes": [],
            "description": "",
            "_model_name": "FloatProgressModel",
            "bar_style": "success",
            "max": 1,
            "_view_module": "@jupyter-widgets/controls",
            "_model_module_version": "1.5.0",
            "value": 1,
            "_view_count": null,
            "_view_module_version": "1.5.0",
            "orientation": "horizontal",
            "min": 0,
            "description_tooltip": null,
            "_model_module": "@jupyter-widgets/controls",
            "layout": "IPY_MODEL_7dd29de3bdfe41888549cbe73332d335"
          }
        },
        "11ec84f1dbd642f9bd1f4098a8f4daf9": {
          "model_module": "@jupyter-widgets/controls",
          "model_name": "HTMLModel",
          "model_module_version": "1.5.0",
          "state": {
            "_view_name": "HTMLView",
            "style": "IPY_MODEL_6c834c78964847548fa05b3710e2b60a",
            "_dom_classes": [],
            "description": "",
            "_model_name": "HTMLModel",
            "placeholder": "​",
            "_view_module": "@jupyter-widgets/controls",
            "_model_module_version": "1.5.0",
            "value": " 1/1 [00:00&lt;00:00,  1.09ba/s]",
            "_view_count": null,
            "_view_module_version": "1.5.0",
            "description_tooltip": null,
            "_model_module": "@jupyter-widgets/controls",
            "layout": "IPY_MODEL_0a1ccb05ed7d44c8a27733f83530bd18"
          }
        },
        "42c6674c620945d4ae077081ee4cfc87": {
          "model_module": "@jupyter-widgets/controls",
          "model_name": "DescriptionStyleModel",
          "model_module_version": "1.5.0",
          "state": {
            "_view_name": "StyleView",
            "_model_name": "DescriptionStyleModel",
            "description_width": "",
            "_view_module": "@jupyter-widgets/base",
            "_model_module_version": "1.5.0",
            "_view_count": null,
            "_view_module_version": "1.2.0",
            "_model_module": "@jupyter-widgets/controls"
          }
        },
        "ec9b9b28a1174e8489d3dd9ef1f90182": {
          "model_module": "@jupyter-widgets/base",
          "model_name": "LayoutModel",
          "model_module_version": "1.2.0",
          "state": {
            "_view_name": "LayoutView",
            "grid_template_rows": null,
            "right": null,
            "justify_content": null,
            "_view_module": "@jupyter-widgets/base",
            "overflow": null,
            "_model_module_version": "1.2.0",
            "_view_count": null,
            "flex_flow": null,
            "width": null,
            "min_width": null,
            "border": null,
            "align_items": null,
            "bottom": null,
            "_model_module": "@jupyter-widgets/base",
            "top": null,
            "grid_column": null,
            "overflow_y": null,
            "overflow_x": null,
            "grid_auto_flow": null,
            "grid_area": null,
            "grid_template_columns": null,
            "flex": null,
            "_model_name": "LayoutModel",
            "justify_items": null,
            "grid_row": null,
            "max_height": null,
            "align_content": null,
            "visibility": null,
            "align_self": null,
            "height": null,
            "min_height": null,
            "padding": null,
            "grid_auto_rows": null,
            "grid_gap": null,
            "max_width": null,
            "order": null,
            "_view_module_version": "1.2.0",
            "grid_template_areas": null,
            "object_position": null,
            "object_fit": null,
            "grid_auto_columns": null,
            "margin": null,
            "display": null,
            "left": null
          }
        },
        "c6991590fd3e434eaeacd42838be2cd5": {
          "model_module": "@jupyter-widgets/controls",
          "model_name": "ProgressStyleModel",
          "model_module_version": "1.5.0",
          "state": {
            "_view_name": "StyleView",
            "_model_name": "ProgressStyleModel",
            "description_width": "",
            "_view_module": "@jupyter-widgets/base",
            "_model_module_version": "1.5.0",
            "_view_count": null,
            "_view_module_version": "1.2.0",
            "bar_color": null,
            "_model_module": "@jupyter-widgets/controls"
          }
        },
        "7dd29de3bdfe41888549cbe73332d335": {
          "model_module": "@jupyter-widgets/base",
          "model_name": "LayoutModel",
          "model_module_version": "1.2.0",
          "state": {
            "_view_name": "LayoutView",
            "grid_template_rows": null,
            "right": null,
            "justify_content": null,
            "_view_module": "@jupyter-widgets/base",
            "overflow": null,
            "_model_module_version": "1.2.0",
            "_view_count": null,
            "flex_flow": null,
            "width": null,
            "min_width": null,
            "border": null,
            "align_items": null,
            "bottom": null,
            "_model_module": "@jupyter-widgets/base",
            "top": null,
            "grid_column": null,
            "overflow_y": null,
            "overflow_x": null,
            "grid_auto_flow": null,
            "grid_area": null,
            "grid_template_columns": null,
            "flex": null,
            "_model_name": "LayoutModel",
            "justify_items": null,
            "grid_row": null,
            "max_height": null,
            "align_content": null,
            "visibility": null,
            "align_self": null,
            "height": null,
            "min_height": null,
            "padding": null,
            "grid_auto_rows": null,
            "grid_gap": null,
            "max_width": null,
            "order": null,
            "_view_module_version": "1.2.0",
            "grid_template_areas": null,
            "object_position": null,
            "object_fit": null,
            "grid_auto_columns": null,
            "margin": null,
            "display": null,
            "left": null
          }
        },
        "6c834c78964847548fa05b3710e2b60a": {
          "model_module": "@jupyter-widgets/controls",
          "model_name": "DescriptionStyleModel",
          "model_module_version": "1.5.0",
          "state": {
            "_view_name": "StyleView",
            "_model_name": "DescriptionStyleModel",
            "description_width": "",
            "_view_module": "@jupyter-widgets/base",
            "_model_module_version": "1.5.0",
            "_view_count": null,
            "_view_module_version": "1.2.0",
            "_model_module": "@jupyter-widgets/controls"
          }
        },
        "0a1ccb05ed7d44c8a27733f83530bd18": {
          "model_module": "@jupyter-widgets/base",
          "model_name": "LayoutModel",
          "model_module_version": "1.2.0",
          "state": {
            "_view_name": "LayoutView",
            "grid_template_rows": null,
            "right": null,
            "justify_content": null,
            "_view_module": "@jupyter-widgets/base",
            "overflow": null,
            "_model_module_version": "1.2.0",
            "_view_count": null,
            "flex_flow": null,
            "width": null,
            "min_width": null,
            "border": null,
            "align_items": null,
            "bottom": null,
            "_model_module": "@jupyter-widgets/base",
            "top": null,
            "grid_column": null,
            "overflow_y": null,
            "overflow_x": null,
            "grid_auto_flow": null,
            "grid_area": null,
            "grid_template_columns": null,
            "flex": null,
            "_model_name": "LayoutModel",
            "justify_items": null,
            "grid_row": null,
            "max_height": null,
            "align_content": null,
            "visibility": null,
            "align_self": null,
            "height": null,
            "min_height": null,
            "padding": null,
            "grid_auto_rows": null,
            "grid_gap": null,
            "max_width": null,
            "order": null,
            "_view_module_version": "1.2.0",
            "grid_template_areas": null,
            "object_position": null,
            "object_fit": null,
            "grid_auto_columns": null,
            "margin": null,
            "display": null,
            "left": null
          }
        },
        "15316fe11e0b493fa43482b89a93d47f": {
          "model_module": "@jupyter-widgets/controls",
          "model_name": "HBoxModel",
          "model_module_version": "1.5.0",
          "state": {
            "_view_name": "HBoxView",
            "_dom_classes": [],
            "_model_name": "HBoxModel",
            "_view_module": "@jupyter-widgets/controls",
            "_model_module_version": "1.5.0",
            "_view_count": null,
            "_view_module_version": "1.5.0",
            "box_style": "",
            "layout": "IPY_MODEL_80dd490b365f43ea868ef55bbd5cfdfd",
            "_model_module": "@jupyter-widgets/controls",
            "children": [
              "IPY_MODEL_3716a536f67249a5864c1e9ef4feb8d3",
              "IPY_MODEL_e35bc30bebfc44b4b9defec6ab6b6fd6",
              "IPY_MODEL_d42d16b933c44ce68ed06c9c1e3ac79b"
            ]
          }
        },
        "80dd490b365f43ea868ef55bbd5cfdfd": {
          "model_module": "@jupyter-widgets/base",
          "model_name": "LayoutModel",
          "model_module_version": "1.2.0",
          "state": {
            "_view_name": "LayoutView",
            "grid_template_rows": null,
            "right": null,
            "justify_content": null,
            "_view_module": "@jupyter-widgets/base",
            "overflow": null,
            "_model_module_version": "1.2.0",
            "_view_count": null,
            "flex_flow": null,
            "width": null,
            "min_width": null,
            "border": null,
            "align_items": null,
            "bottom": null,
            "_model_module": "@jupyter-widgets/base",
            "top": null,
            "grid_column": null,
            "overflow_y": null,
            "overflow_x": null,
            "grid_auto_flow": null,
            "grid_area": null,
            "grid_template_columns": null,
            "flex": null,
            "_model_name": "LayoutModel",
            "justify_items": null,
            "grid_row": null,
            "max_height": null,
            "align_content": null,
            "visibility": null,
            "align_self": null,
            "height": null,
            "min_height": null,
            "padding": null,
            "grid_auto_rows": null,
            "grid_gap": null,
            "max_width": null,
            "order": null,
            "_view_module_version": "1.2.0",
            "grid_template_areas": null,
            "object_position": null,
            "object_fit": null,
            "grid_auto_columns": null,
            "margin": null,
            "display": null,
            "left": null
          }
        },
        "3716a536f67249a5864c1e9ef4feb8d3": {
          "model_module": "@jupyter-widgets/controls",
          "model_name": "HTMLModel",
          "model_module_version": "1.5.0",
          "state": {
            "_view_name": "HTMLView",
            "style": "IPY_MODEL_072c0048098e49daa26c9c73b9b2e7ea",
            "_dom_classes": [],
            "description": "",
            "_model_name": "HTMLModel",
            "placeholder": "​",
            "_view_module": "@jupyter-widgets/controls",
            "_model_module_version": "1.5.0",
            "value": "Downloading: 100%",
            "_view_count": null,
            "_view_module_version": "1.5.0",
            "description_tooltip": null,
            "_model_module": "@jupyter-widgets/controls",
            "layout": "IPY_MODEL_74c8c77abd054b94acfe8d2669e7666e"
          }
        },
        "e35bc30bebfc44b4b9defec6ab6b6fd6": {
          "model_module": "@jupyter-widgets/controls",
          "model_name": "FloatProgressModel",
          "model_module_version": "1.5.0",
          "state": {
            "_view_name": "ProgressView",
            "style": "IPY_MODEL_bbf93f23c58e48dc8fb911d108ce6d37",
            "_dom_classes": [],
            "description": "",
            "_model_name": "FloatProgressModel",
            "bar_style": "success",
            "max": 242065649,
            "_view_module": "@jupyter-widgets/controls",
            "_model_module_version": "1.5.0",
            "value": 242065649,
            "_view_count": null,
            "_view_module_version": "1.5.0",
            "orientation": "horizontal",
            "min": 0,
            "description_tooltip": null,
            "_model_module": "@jupyter-widgets/controls",
            "layout": "IPY_MODEL_2ded3304b742493eae9324cc3a981887"
          }
        },
        "d42d16b933c44ce68ed06c9c1e3ac79b": {
          "model_module": "@jupyter-widgets/controls",
          "model_name": "HTMLModel",
          "model_module_version": "1.5.0",
          "state": {
            "_view_name": "HTMLView",
            "style": "IPY_MODEL_4b9a852b726f41d1af4bd1d3466c06e3",
            "_dom_classes": [],
            "description": "",
            "_model_name": "HTMLModel",
            "placeholder": "​",
            "_view_module": "@jupyter-widgets/controls",
            "_model_module_version": "1.5.0",
            "value": " 231M/231M [00:07&lt;00:00, 32.1MB/s]",
            "_view_count": null,
            "_view_module_version": "1.5.0",
            "description_tooltip": null,
            "_model_module": "@jupyter-widgets/controls",
            "layout": "IPY_MODEL_434fa1df29eb4082b969eef4db00a679"
          }
        },
        "072c0048098e49daa26c9c73b9b2e7ea": {
          "model_module": "@jupyter-widgets/controls",
          "model_name": "DescriptionStyleModel",
          "model_module_version": "1.5.0",
          "state": {
            "_view_name": "StyleView",
            "_model_name": "DescriptionStyleModel",
            "description_width": "",
            "_view_module": "@jupyter-widgets/base",
            "_model_module_version": "1.5.0",
            "_view_count": null,
            "_view_module_version": "1.2.0",
            "_model_module": "@jupyter-widgets/controls"
          }
        },
        "74c8c77abd054b94acfe8d2669e7666e": {
          "model_module": "@jupyter-widgets/base",
          "model_name": "LayoutModel",
          "model_module_version": "1.2.0",
          "state": {
            "_view_name": "LayoutView",
            "grid_template_rows": null,
            "right": null,
            "justify_content": null,
            "_view_module": "@jupyter-widgets/base",
            "overflow": null,
            "_model_module_version": "1.2.0",
            "_view_count": null,
            "flex_flow": null,
            "width": null,
            "min_width": null,
            "border": null,
            "align_items": null,
            "bottom": null,
            "_model_module": "@jupyter-widgets/base",
            "top": null,
            "grid_column": null,
            "overflow_y": null,
            "overflow_x": null,
            "grid_auto_flow": null,
            "grid_area": null,
            "grid_template_columns": null,
            "flex": null,
            "_model_name": "LayoutModel",
            "justify_items": null,
            "grid_row": null,
            "max_height": null,
            "align_content": null,
            "visibility": null,
            "align_self": null,
            "height": null,
            "min_height": null,
            "padding": null,
            "grid_auto_rows": null,
            "grid_gap": null,
            "max_width": null,
            "order": null,
            "_view_module_version": "1.2.0",
            "grid_template_areas": null,
            "object_position": null,
            "object_fit": null,
            "grid_auto_columns": null,
            "margin": null,
            "display": null,
            "left": null
          }
        },
        "bbf93f23c58e48dc8fb911d108ce6d37": {
          "model_module": "@jupyter-widgets/controls",
          "model_name": "ProgressStyleModel",
          "model_module_version": "1.5.0",
          "state": {
            "_view_name": "StyleView",
            "_model_name": "ProgressStyleModel",
            "description_width": "",
            "_view_module": "@jupyter-widgets/base",
            "_model_module_version": "1.5.0",
            "_view_count": null,
            "_view_module_version": "1.2.0",
            "bar_color": null,
            "_model_module": "@jupyter-widgets/controls"
          }
        },
        "2ded3304b742493eae9324cc3a981887": {
          "model_module": "@jupyter-widgets/base",
          "model_name": "LayoutModel",
          "model_module_version": "1.2.0",
          "state": {
            "_view_name": "LayoutView",
            "grid_template_rows": null,
            "right": null,
            "justify_content": null,
            "_view_module": "@jupyter-widgets/base",
            "overflow": null,
            "_model_module_version": "1.2.0",
            "_view_count": null,
            "flex_flow": null,
            "width": null,
            "min_width": null,
            "border": null,
            "align_items": null,
            "bottom": null,
            "_model_module": "@jupyter-widgets/base",
            "top": null,
            "grid_column": null,
            "overflow_y": null,
            "overflow_x": null,
            "grid_auto_flow": null,
            "grid_area": null,
            "grid_template_columns": null,
            "flex": null,
            "_model_name": "LayoutModel",
            "justify_items": null,
            "grid_row": null,
            "max_height": null,
            "align_content": null,
            "visibility": null,
            "align_self": null,
            "height": null,
            "min_height": null,
            "padding": null,
            "grid_auto_rows": null,
            "grid_gap": null,
            "max_width": null,
            "order": null,
            "_view_module_version": "1.2.0",
            "grid_template_areas": null,
            "object_position": null,
            "object_fit": null,
            "grid_auto_columns": null,
            "margin": null,
            "display": null,
            "left": null
          }
        },
        "4b9a852b726f41d1af4bd1d3466c06e3": {
          "model_module": "@jupyter-widgets/controls",
          "model_name": "DescriptionStyleModel",
          "model_module_version": "1.5.0",
          "state": {
            "_view_name": "StyleView",
            "_model_name": "DescriptionStyleModel",
            "description_width": "",
            "_view_module": "@jupyter-widgets/base",
            "_model_module_version": "1.5.0",
            "_view_count": null,
            "_view_module_version": "1.2.0",
            "_model_module": "@jupyter-widgets/controls"
          }
        },
        "434fa1df29eb4082b969eef4db00a679": {
          "model_module": "@jupyter-widgets/base",
          "model_name": "LayoutModel",
          "model_module_version": "1.2.0",
          "state": {
            "_view_name": "LayoutView",
            "grid_template_rows": null,
            "right": null,
            "justify_content": null,
            "_view_module": "@jupyter-widgets/base",
            "overflow": null,
            "_model_module_version": "1.2.0",
            "_view_count": null,
            "flex_flow": null,
            "width": null,
            "min_width": null,
            "border": null,
            "align_items": null,
            "bottom": null,
            "_model_module": "@jupyter-widgets/base",
            "top": null,
            "grid_column": null,
            "overflow_y": null,
            "overflow_x": null,
            "grid_auto_flow": null,
            "grid_area": null,
            "grid_template_columns": null,
            "flex": null,
            "_model_name": "LayoutModel",
            "justify_items": null,
            "grid_row": null,
            "max_height": null,
            "align_content": null,
            "visibility": null,
            "align_self": null,
            "height": null,
            "min_height": null,
            "padding": null,
            "grid_auto_rows": null,
            "grid_gap": null,
            "max_width": null,
            "order": null,
            "_view_module_version": "1.2.0",
            "grid_template_areas": null,
            "object_position": null,
            "object_fit": null,
            "grid_auto_columns": null,
            "margin": null,
            "display": null,
            "left": null
          }
        },
        "265774167f3d41cd9622f8c041b68a90": {
          "model_module": "@jupyter-widgets/controls",
          "model_name": "HBoxModel",
          "model_module_version": "1.5.0",
          "state": {
            "_view_name": "HBoxView",
            "_dom_classes": [],
            "_model_name": "HBoxModel",
            "_view_module": "@jupyter-widgets/controls",
            "_model_module_version": "1.5.0",
            "_view_count": null,
            "_view_module_version": "1.5.0",
            "box_style": "",
            "layout": "IPY_MODEL_534804d25a1e4e66acb9212646e911a0",
            "_model_module": "@jupyter-widgets/controls",
            "children": [
              "IPY_MODEL_270a603c04af47f988614ad594ac393b",
              "IPY_MODEL_52bef85041f04486bff1ed5c4d4b7fee",
              "IPY_MODEL_3c2220d837754b15a477a712ad7d16c9"
            ]
          }
        },
        "534804d25a1e4e66acb9212646e911a0": {
          "model_module": "@jupyter-widgets/base",
          "model_name": "LayoutModel",
          "model_module_version": "1.2.0",
          "state": {
            "_view_name": "LayoutView",
            "grid_template_rows": null,
            "right": null,
            "justify_content": null,
            "_view_module": "@jupyter-widgets/base",
            "overflow": null,
            "_model_module_version": "1.2.0",
            "_view_count": null,
            "flex_flow": null,
            "width": null,
            "min_width": null,
            "border": null,
            "align_items": null,
            "bottom": null,
            "_model_module": "@jupyter-widgets/base",
            "top": null,
            "grid_column": null,
            "overflow_y": null,
            "overflow_x": null,
            "grid_auto_flow": null,
            "grid_area": null,
            "grid_template_columns": null,
            "flex": null,
            "_model_name": "LayoutModel",
            "justify_items": null,
            "grid_row": null,
            "max_height": null,
            "align_content": null,
            "visibility": null,
            "align_self": null,
            "height": null,
            "min_height": null,
            "padding": null,
            "grid_auto_rows": null,
            "grid_gap": null,
            "max_width": null,
            "order": null,
            "_view_module_version": "1.2.0",
            "grid_template_areas": null,
            "object_position": null,
            "object_fit": null,
            "grid_auto_columns": null,
            "margin": null,
            "display": null,
            "left": null
          }
        },
        "270a603c04af47f988614ad594ac393b": {
          "model_module": "@jupyter-widgets/controls",
          "model_name": "HTMLModel",
          "model_module_version": "1.5.0",
          "state": {
            "_view_name": "HTMLView",
            "style": "IPY_MODEL_d9b296024f844f74ac3bb84b03255229",
            "_dom_classes": [],
            "description": "",
            "_model_name": "HTMLModel",
            "placeholder": "​",
            "_view_module": "@jupyter-widgets/controls",
            "_model_module_version": "1.5.0",
            "value": "Downloading: 100%",
            "_view_count": null,
            "_view_module_version": "1.5.0",
            "description_tooltip": null,
            "_model_module": "@jupyter-widgets/controls",
            "layout": "IPY_MODEL_5ebc3f65066d4d45a9af94a4c07ae0db"
          }
        },
        "52bef85041f04486bff1ed5c4d4b7fee": {
          "model_module": "@jupyter-widgets/controls",
          "model_name": "FloatProgressModel",
          "model_module_version": "1.5.0",
          "state": {
            "_view_name": "ProgressView",
            "style": "IPY_MODEL_f91c28bba9654c569f33e54077a94e4c",
            "_dom_classes": [],
            "description": "",
            "_model_name": "FloatProgressModel",
            "bar_style": "success",
            "max": 1802,
            "_view_module": "@jupyter-widgets/controls",
            "_model_module_version": "1.5.0",
            "value": 1802,
            "_view_count": null,
            "_view_module_version": "1.5.0",
            "orientation": "horizontal",
            "min": 0,
            "description_tooltip": null,
            "_model_module": "@jupyter-widgets/controls",
            "layout": "IPY_MODEL_b6a7e3fa865a42788e46c88a42b117d9"
          }
        },
        "3c2220d837754b15a477a712ad7d16c9": {
          "model_module": "@jupyter-widgets/controls",
          "model_name": "HTMLModel",
          "model_module_version": "1.5.0",
          "state": {
            "_view_name": "HTMLView",
            "style": "IPY_MODEL_8c0dd9ffdd994e4196001c60caa604f7",
            "_dom_classes": [],
            "description": "",
            "_model_name": "HTMLModel",
            "placeholder": "​",
            "_view_module": "@jupyter-widgets/controls",
            "_model_module_version": "1.5.0",
            "value": " 1.76k/1.76k [00:00&lt;00:00, 44.8kB/s]",
            "_view_count": null,
            "_view_module_version": "1.5.0",
            "description_tooltip": null,
            "_model_module": "@jupyter-widgets/controls",
            "layout": "IPY_MODEL_613db43c2fe841adb605b76df1fc4f07"
          }
        },
        "d9b296024f844f74ac3bb84b03255229": {
          "model_module": "@jupyter-widgets/controls",
          "model_name": "DescriptionStyleModel",
          "model_module_version": "1.5.0",
          "state": {
            "_view_name": "StyleView",
            "_model_name": "DescriptionStyleModel",
            "description_width": "",
            "_view_module": "@jupyter-widgets/base",
            "_model_module_version": "1.5.0",
            "_view_count": null,
            "_view_module_version": "1.2.0",
            "_model_module": "@jupyter-widgets/controls"
          }
        },
        "5ebc3f65066d4d45a9af94a4c07ae0db": {
          "model_module": "@jupyter-widgets/base",
          "model_name": "LayoutModel",
          "model_module_version": "1.2.0",
          "state": {
            "_view_name": "LayoutView",
            "grid_template_rows": null,
            "right": null,
            "justify_content": null,
            "_view_module": "@jupyter-widgets/base",
            "overflow": null,
            "_model_module_version": "1.2.0",
            "_view_count": null,
            "flex_flow": null,
            "width": null,
            "min_width": null,
            "border": null,
            "align_items": null,
            "bottom": null,
            "_model_module": "@jupyter-widgets/base",
            "top": null,
            "grid_column": null,
            "overflow_y": null,
            "overflow_x": null,
            "grid_auto_flow": null,
            "grid_area": null,
            "grid_template_columns": null,
            "flex": null,
            "_model_name": "LayoutModel",
            "justify_items": null,
            "grid_row": null,
            "max_height": null,
            "align_content": null,
            "visibility": null,
            "align_self": null,
            "height": null,
            "min_height": null,
            "padding": null,
            "grid_auto_rows": null,
            "grid_gap": null,
            "max_width": null,
            "order": null,
            "_view_module_version": "1.2.0",
            "grid_template_areas": null,
            "object_position": null,
            "object_fit": null,
            "grid_auto_columns": null,
            "margin": null,
            "display": null,
            "left": null
          }
        },
        "f91c28bba9654c569f33e54077a94e4c": {
          "model_module": "@jupyter-widgets/controls",
          "model_name": "ProgressStyleModel",
          "model_module_version": "1.5.0",
          "state": {
            "_view_name": "StyleView",
            "_model_name": "ProgressStyleModel",
            "description_width": "",
            "_view_module": "@jupyter-widgets/base",
            "_model_module_version": "1.5.0",
            "_view_count": null,
            "_view_module_version": "1.2.0",
            "bar_color": null,
            "_model_module": "@jupyter-widgets/controls"
          }
        },
        "b6a7e3fa865a42788e46c88a42b117d9": {
          "model_module": "@jupyter-widgets/base",
          "model_name": "LayoutModel",
          "model_module_version": "1.2.0",
          "state": {
            "_view_name": "LayoutView",
            "grid_template_rows": null,
            "right": null,
            "justify_content": null,
            "_view_module": "@jupyter-widgets/base",
            "overflow": null,
            "_model_module_version": "1.2.0",
            "_view_count": null,
            "flex_flow": null,
            "width": null,
            "min_width": null,
            "border": null,
            "align_items": null,
            "bottom": null,
            "_model_module": "@jupyter-widgets/base",
            "top": null,
            "grid_column": null,
            "overflow_y": null,
            "overflow_x": null,
            "grid_auto_flow": null,
            "grid_area": null,
            "grid_template_columns": null,
            "flex": null,
            "_model_name": "LayoutModel",
            "justify_items": null,
            "grid_row": null,
            "max_height": null,
            "align_content": null,
            "visibility": null,
            "align_self": null,
            "height": null,
            "min_height": null,
            "padding": null,
            "grid_auto_rows": null,
            "grid_gap": null,
            "max_width": null,
            "order": null,
            "_view_module_version": "1.2.0",
            "grid_template_areas": null,
            "object_position": null,
            "object_fit": null,
            "grid_auto_columns": null,
            "margin": null,
            "display": null,
            "left": null
          }
        },
        "8c0dd9ffdd994e4196001c60caa604f7": {
          "model_module": "@jupyter-widgets/controls",
          "model_name": "DescriptionStyleModel",
          "model_module_version": "1.5.0",
          "state": {
            "_view_name": "StyleView",
            "_model_name": "DescriptionStyleModel",
            "description_width": "",
            "_view_module": "@jupyter-widgets/base",
            "_model_module_version": "1.5.0",
            "_view_count": null,
            "_view_module_version": "1.2.0",
            "_model_module": "@jupyter-widgets/controls"
          }
        },
        "613db43c2fe841adb605b76df1fc4f07": {
          "model_module": "@jupyter-widgets/base",
          "model_name": "LayoutModel",
          "model_module_version": "1.2.0",
          "state": {
            "_view_name": "LayoutView",
            "grid_template_rows": null,
            "right": null,
            "justify_content": null,
            "_view_module": "@jupyter-widgets/base",
            "overflow": null,
            "_model_module_version": "1.2.0",
            "_view_count": null,
            "flex_flow": null,
            "width": null,
            "min_width": null,
            "border": null,
            "align_items": null,
            "bottom": null,
            "_model_module": "@jupyter-widgets/base",
            "top": null,
            "grid_column": null,
            "overflow_y": null,
            "overflow_x": null,
            "grid_auto_flow": null,
            "grid_area": null,
            "grid_template_columns": null,
            "flex": null,
            "_model_name": "LayoutModel",
            "justify_items": null,
            "grid_row": null,
            "max_height": null,
            "align_content": null,
            "visibility": null,
            "align_self": null,
            "height": null,
            "min_height": null,
            "padding": null,
            "grid_auto_rows": null,
            "grid_gap": null,
            "max_width": null,
            "order": null,
            "_view_module_version": "1.2.0",
            "grid_template_areas": null,
            "object_position": null,
            "object_fit": null,
            "grid_auto_columns": null,
            "margin": null,
            "display": null,
            "left": null
          }
        },
        "07e51a7420584f76aedb579dc87e199c": {
          "model_module": "@jupyter-widgets/controls",
          "model_name": "HBoxModel",
          "model_module_version": "1.5.0",
          "state": {
            "_view_name": "HBoxView",
            "_dom_classes": [],
            "_model_name": "HBoxModel",
            "_view_module": "@jupyter-widgets/controls",
            "_model_module_version": "1.5.0",
            "_view_count": null,
            "_view_module_version": "1.5.0",
            "box_style": "",
            "layout": "IPY_MODEL_cc1526837adb472ea3c83acfd58b290d",
            "_model_module": "@jupyter-widgets/controls",
            "children": [
              "IPY_MODEL_2e6026220946448384dceac26583120a",
              "IPY_MODEL_fadf07680b9644768e50006bd8ab1273",
              "IPY_MODEL_b526e24640964bbda7d4747afedd77b8"
            ]
          }
        },
        "cc1526837adb472ea3c83acfd58b290d": {
          "model_module": "@jupyter-widgets/base",
          "model_name": "LayoutModel",
          "model_module_version": "1.2.0",
          "state": {
            "_view_name": "LayoutView",
            "grid_template_rows": null,
            "right": null,
            "justify_content": null,
            "_view_module": "@jupyter-widgets/base",
            "overflow": null,
            "_model_module_version": "1.2.0",
            "_view_count": null,
            "flex_flow": null,
            "width": null,
            "min_width": null,
            "border": null,
            "align_items": null,
            "bottom": null,
            "_model_module": "@jupyter-widgets/base",
            "top": null,
            "grid_column": null,
            "overflow_y": null,
            "overflow_x": null,
            "grid_auto_flow": null,
            "grid_area": null,
            "grid_template_columns": null,
            "flex": null,
            "_model_name": "LayoutModel",
            "justify_items": null,
            "grid_row": null,
            "max_height": null,
            "align_content": null,
            "visibility": null,
            "align_self": null,
            "height": null,
            "min_height": null,
            "padding": null,
            "grid_auto_rows": null,
            "grid_gap": null,
            "max_width": null,
            "order": null,
            "_view_module_version": "1.2.0",
            "grid_template_areas": null,
            "object_position": null,
            "object_fit": null,
            "grid_auto_columns": null,
            "margin": null,
            "display": null,
            "left": null
          }
        },
        "2e6026220946448384dceac26583120a": {
          "model_module": "@jupyter-widgets/controls",
          "model_name": "HTMLModel",
          "model_module_version": "1.5.0",
          "state": {
            "_view_name": "HTMLView",
            "style": "IPY_MODEL_72f8f22e12124ece8509f276dd6a1b0f",
            "_dom_classes": [],
            "description": "",
            "_model_name": "HTMLModel",
            "placeholder": "​",
            "_view_module": "@jupyter-widgets/controls",
            "_model_module_version": "1.5.0",
            "value": "Downloading: 100%",
            "_view_count": null,
            "_view_module_version": "1.5.0",
            "description_tooltip": null,
            "_model_module": "@jupyter-widgets/controls",
            "layout": "IPY_MODEL_afdb7755de2f49b9ac69d8de1173fd32"
          }
        },
        "fadf07680b9644768e50006bd8ab1273": {
          "model_module": "@jupyter-widgets/controls",
          "model_name": "FloatProgressModel",
          "model_module_version": "1.5.0",
          "state": {
            "_view_name": "ProgressView",
            "style": "IPY_MODEL_244e38f7ac08493ba6df5d9de1263952",
            "_dom_classes": [],
            "description": "",
            "_model_name": "FloatProgressModel",
            "bar_style": "success",
            "max": 1222317369,
            "_view_module": "@jupyter-widgets/controls",
            "_model_module_version": "1.5.0",
            "value": 1222317369,
            "_view_count": null,
            "_view_module_version": "1.5.0",
            "orientation": "horizontal",
            "min": 0,
            "description_tooltip": null,
            "_model_module": "@jupyter-widgets/controls",
            "layout": "IPY_MODEL_7a612af67b7940f8a96e66e4a98aebdf"
          }
        },
        "b526e24640964bbda7d4747afedd77b8": {
          "model_module": "@jupyter-widgets/controls",
          "model_name": "HTMLModel",
          "model_module_version": "1.5.0",
          "state": {
            "_view_name": "HTMLView",
            "style": "IPY_MODEL_1739538d3ca54fbb9726eb98535655d3",
            "_dom_classes": [],
            "description": "",
            "_model_name": "HTMLModel",
            "placeholder": "​",
            "_view_module": "@jupyter-widgets/controls",
            "_model_module_version": "1.5.0",
            "value": " 1.14G/1.14G [01:55&lt;00:00, 15.5MB/s]",
            "_view_count": null,
            "_view_module_version": "1.5.0",
            "description_tooltip": null,
            "_model_module": "@jupyter-widgets/controls",
            "layout": "IPY_MODEL_69c1df6ad9aa4a398d3ec777652bfdb1"
          }
        },
        "72f8f22e12124ece8509f276dd6a1b0f": {
          "model_module": "@jupyter-widgets/controls",
          "model_name": "DescriptionStyleModel",
          "model_module_version": "1.5.0",
          "state": {
            "_view_name": "StyleView",
            "_model_name": "DescriptionStyleModel",
            "description_width": "",
            "_view_module": "@jupyter-widgets/base",
            "_model_module_version": "1.5.0",
            "_view_count": null,
            "_view_module_version": "1.2.0",
            "_model_module": "@jupyter-widgets/controls"
          }
        },
        "afdb7755de2f49b9ac69d8de1173fd32": {
          "model_module": "@jupyter-widgets/base",
          "model_name": "LayoutModel",
          "model_module_version": "1.2.0",
          "state": {
            "_view_name": "LayoutView",
            "grid_template_rows": null,
            "right": null,
            "justify_content": null,
            "_view_module": "@jupyter-widgets/base",
            "overflow": null,
            "_model_module_version": "1.2.0",
            "_view_count": null,
            "flex_flow": null,
            "width": null,
            "min_width": null,
            "border": null,
            "align_items": null,
            "bottom": null,
            "_model_module": "@jupyter-widgets/base",
            "top": null,
            "grid_column": null,
            "overflow_y": null,
            "overflow_x": null,
            "grid_auto_flow": null,
            "grid_area": null,
            "grid_template_columns": null,
            "flex": null,
            "_model_name": "LayoutModel",
            "justify_items": null,
            "grid_row": null,
            "max_height": null,
            "align_content": null,
            "visibility": null,
            "align_self": null,
            "height": null,
            "min_height": null,
            "padding": null,
            "grid_auto_rows": null,
            "grid_gap": null,
            "max_width": null,
            "order": null,
            "_view_module_version": "1.2.0",
            "grid_template_areas": null,
            "object_position": null,
            "object_fit": null,
            "grid_auto_columns": null,
            "margin": null,
            "display": null,
            "left": null
          }
        },
        "244e38f7ac08493ba6df5d9de1263952": {
          "model_module": "@jupyter-widgets/controls",
          "model_name": "ProgressStyleModel",
          "model_module_version": "1.5.0",
          "state": {
            "_view_name": "StyleView",
            "_model_name": "ProgressStyleModel",
            "description_width": "",
            "_view_module": "@jupyter-widgets/base",
            "_model_module_version": "1.5.0",
            "_view_count": null,
            "_view_module_version": "1.2.0",
            "bar_color": null,
            "_model_module": "@jupyter-widgets/controls"
          }
        },
        "7a612af67b7940f8a96e66e4a98aebdf": {
          "model_module": "@jupyter-widgets/base",
          "model_name": "LayoutModel",
          "model_module_version": "1.2.0",
          "state": {
            "_view_name": "LayoutView",
            "grid_template_rows": null,
            "right": null,
            "justify_content": null,
            "_view_module": "@jupyter-widgets/base",
            "overflow": null,
            "_model_module_version": "1.2.0",
            "_view_count": null,
            "flex_flow": null,
            "width": null,
            "min_width": null,
            "border": null,
            "align_items": null,
            "bottom": null,
            "_model_module": "@jupyter-widgets/base",
            "top": null,
            "grid_column": null,
            "overflow_y": null,
            "overflow_x": null,
            "grid_auto_flow": null,
            "grid_area": null,
            "grid_template_columns": null,
            "flex": null,
            "_model_name": "LayoutModel",
            "justify_items": null,
            "grid_row": null,
            "max_height": null,
            "align_content": null,
            "visibility": null,
            "align_self": null,
            "height": null,
            "min_height": null,
            "padding": null,
            "grid_auto_rows": null,
            "grid_gap": null,
            "max_width": null,
            "order": null,
            "_view_module_version": "1.2.0",
            "grid_template_areas": null,
            "object_position": null,
            "object_fit": null,
            "grid_auto_columns": null,
            "margin": null,
            "display": null,
            "left": null
          }
        },
        "1739538d3ca54fbb9726eb98535655d3": {
          "model_module": "@jupyter-widgets/controls",
          "model_name": "DescriptionStyleModel",
          "model_module_version": "1.5.0",
          "state": {
            "_view_name": "StyleView",
            "_model_name": "DescriptionStyleModel",
            "description_width": "",
            "_view_module": "@jupyter-widgets/base",
            "_model_module_version": "1.5.0",
            "_view_count": null,
            "_view_module_version": "1.2.0",
            "_model_module": "@jupyter-widgets/controls"
          }
        },
        "69c1df6ad9aa4a398d3ec777652bfdb1": {
          "model_module": "@jupyter-widgets/base",
          "model_name": "LayoutModel",
          "model_module_version": "1.2.0",
          "state": {
            "_view_name": "LayoutView",
            "grid_template_rows": null,
            "right": null,
            "justify_content": null,
            "_view_module": "@jupyter-widgets/base",
            "overflow": null,
            "_model_module_version": "1.2.0",
            "_view_count": null,
            "flex_flow": null,
            "width": null,
            "min_width": null,
            "border": null,
            "align_items": null,
            "bottom": null,
            "_model_module": "@jupyter-widgets/base",
            "top": null,
            "grid_column": null,
            "overflow_y": null,
            "overflow_x": null,
            "grid_auto_flow": null,
            "grid_area": null,
            "grid_template_columns": null,
            "flex": null,
            "_model_name": "LayoutModel",
            "justify_items": null,
            "grid_row": null,
            "max_height": null,
            "align_content": null,
            "visibility": null,
            "align_self": null,
            "height": null,
            "min_height": null,
            "padding": null,
            "grid_auto_rows": null,
            "grid_gap": null,
            "max_width": null,
            "order": null,
            "_view_module_version": "1.2.0",
            "grid_template_areas": null,
            "object_position": null,
            "object_fit": null,
            "grid_auto_columns": null,
            "margin": null,
            "display": null,
            "left": null
          }
        },
        "c5924f381c3a4e8aa264b373ea6dd596": {
          "model_module": "@jupyter-widgets/controls",
          "model_name": "HBoxModel",
          "model_module_version": "1.5.0",
          "state": {
            "_view_name": "HBoxView",
            "_dom_classes": [],
            "_model_name": "HBoxModel",
            "_view_module": "@jupyter-widgets/controls",
            "_model_module_version": "1.5.0",
            "_view_count": null,
            "_view_module_version": "1.5.0",
            "box_style": "",
            "layout": "IPY_MODEL_4944a063167c4fb3b6234cce510baf61",
            "_model_module": "@jupyter-widgets/controls",
            "children": [
              "IPY_MODEL_6a60fbde0817401ea656c8df84e26142",
              "IPY_MODEL_10df14e296c346e49791bbc4b3d887f4",
              "IPY_MODEL_42e338e635664425aca0d0dab945222a"
            ]
          }
        },
        "4944a063167c4fb3b6234cce510baf61": {
          "model_module": "@jupyter-widgets/base",
          "model_name": "LayoutModel",
          "model_module_version": "1.2.0",
          "state": {
            "_view_name": "LayoutView",
            "grid_template_rows": null,
            "right": null,
            "justify_content": null,
            "_view_module": "@jupyter-widgets/base",
            "overflow": null,
            "_model_module_version": "1.2.0",
            "_view_count": null,
            "flex_flow": null,
            "width": null,
            "min_width": null,
            "border": null,
            "align_items": null,
            "bottom": null,
            "_model_module": "@jupyter-widgets/base",
            "top": null,
            "grid_column": null,
            "overflow_y": null,
            "overflow_x": null,
            "grid_auto_flow": null,
            "grid_area": null,
            "grid_template_columns": null,
            "flex": null,
            "_model_name": "LayoutModel",
            "justify_items": null,
            "grid_row": null,
            "max_height": null,
            "align_content": null,
            "visibility": null,
            "align_self": null,
            "height": null,
            "min_height": null,
            "padding": null,
            "grid_auto_rows": null,
            "grid_gap": null,
            "max_width": null,
            "order": null,
            "_view_module_version": "1.2.0",
            "grid_template_areas": null,
            "object_position": null,
            "object_fit": null,
            "grid_auto_columns": null,
            "margin": null,
            "display": null,
            "left": null
          }
        },
        "6a60fbde0817401ea656c8df84e26142": {
          "model_module": "@jupyter-widgets/controls",
          "model_name": "HTMLModel",
          "model_module_version": "1.5.0",
          "state": {
            "_view_name": "HTMLView",
            "style": "IPY_MODEL_5704ba434e814a19846eeb84ace948ff",
            "_dom_classes": [],
            "description": "",
            "_model_name": "HTMLModel",
            "placeholder": "​",
            "_view_module": "@jupyter-widgets/controls",
            "_model_module_version": "1.5.0",
            "value": "Downloading: 100%",
            "_view_count": null,
            "_view_module_version": "1.5.0",
            "description_tooltip": null,
            "_model_module": "@jupyter-widgets/controls",
            "layout": "IPY_MODEL_61f5b7cefe0c4592a35ffb1814ddc99d"
          }
        },
        "10df14e296c346e49791bbc4b3d887f4": {
          "model_module": "@jupyter-widgets/controls",
          "model_name": "FloatProgressModel",
          "model_module_version": "1.5.0",
          "state": {
            "_view_name": "ProgressView",
            "style": "IPY_MODEL_15efb0fcbe3446aab0c4dd7e9ca09acb",
            "_dom_classes": [],
            "description": "",
            "_model_name": "FloatProgressModel",
            "bar_style": "success",
            "max": 26,
            "_view_module": "@jupyter-widgets/controls",
            "_model_module_version": "1.5.0",
            "value": 26,
            "_view_count": null,
            "_view_module_version": "1.5.0",
            "orientation": "horizontal",
            "min": 0,
            "description_tooltip": null,
            "_model_module": "@jupyter-widgets/controls",
            "layout": "IPY_MODEL_84af43242fa94475b6856d630a1c8b06"
          }
        },
        "42e338e635664425aca0d0dab945222a": {
          "model_module": "@jupyter-widgets/controls",
          "model_name": "HTMLModel",
          "model_module_version": "1.5.0",
          "state": {
            "_view_name": "HTMLView",
            "style": "IPY_MODEL_25a9e36feb0046e88353a825e3eb0afc",
            "_dom_classes": [],
            "description": "",
            "_model_name": "HTMLModel",
            "placeholder": "​",
            "_view_module": "@jupyter-widgets/controls",
            "_model_module_version": "1.5.0",
            "value": " 26.0/26.0 [00:00&lt;00:00, 651B/s]",
            "_view_count": null,
            "_view_module_version": "1.5.0",
            "description_tooltip": null,
            "_model_module": "@jupyter-widgets/controls",
            "layout": "IPY_MODEL_d901ccafa43246f78850acb9dcc2e771"
          }
        },
        "5704ba434e814a19846eeb84ace948ff": {
          "model_module": "@jupyter-widgets/controls",
          "model_name": "DescriptionStyleModel",
          "model_module_version": "1.5.0",
          "state": {
            "_view_name": "StyleView",
            "_model_name": "DescriptionStyleModel",
            "description_width": "",
            "_view_module": "@jupyter-widgets/base",
            "_model_module_version": "1.5.0",
            "_view_count": null,
            "_view_module_version": "1.2.0",
            "_model_module": "@jupyter-widgets/controls"
          }
        },
        "61f5b7cefe0c4592a35ffb1814ddc99d": {
          "model_module": "@jupyter-widgets/base",
          "model_name": "LayoutModel",
          "model_module_version": "1.2.0",
          "state": {
            "_view_name": "LayoutView",
            "grid_template_rows": null,
            "right": null,
            "justify_content": null,
            "_view_module": "@jupyter-widgets/base",
            "overflow": null,
            "_model_module_version": "1.2.0",
            "_view_count": null,
            "flex_flow": null,
            "width": null,
            "min_width": null,
            "border": null,
            "align_items": null,
            "bottom": null,
            "_model_module": "@jupyter-widgets/base",
            "top": null,
            "grid_column": null,
            "overflow_y": null,
            "overflow_x": null,
            "grid_auto_flow": null,
            "grid_area": null,
            "grid_template_columns": null,
            "flex": null,
            "_model_name": "LayoutModel",
            "justify_items": null,
            "grid_row": null,
            "max_height": null,
            "align_content": null,
            "visibility": null,
            "align_self": null,
            "height": null,
            "min_height": null,
            "padding": null,
            "grid_auto_rows": null,
            "grid_gap": null,
            "max_width": null,
            "order": null,
            "_view_module_version": "1.2.0",
            "grid_template_areas": null,
            "object_position": null,
            "object_fit": null,
            "grid_auto_columns": null,
            "margin": null,
            "display": null,
            "left": null
          }
        },
        "15efb0fcbe3446aab0c4dd7e9ca09acb": {
          "model_module": "@jupyter-widgets/controls",
          "model_name": "ProgressStyleModel",
          "model_module_version": "1.5.0",
          "state": {
            "_view_name": "StyleView",
            "_model_name": "ProgressStyleModel",
            "description_width": "",
            "_view_module": "@jupyter-widgets/base",
            "_model_module_version": "1.5.0",
            "_view_count": null,
            "_view_module_version": "1.2.0",
            "bar_color": null,
            "_model_module": "@jupyter-widgets/controls"
          }
        },
        "84af43242fa94475b6856d630a1c8b06": {
          "model_module": "@jupyter-widgets/base",
          "model_name": "LayoutModel",
          "model_module_version": "1.2.0",
          "state": {
            "_view_name": "LayoutView",
            "grid_template_rows": null,
            "right": null,
            "justify_content": null,
            "_view_module": "@jupyter-widgets/base",
            "overflow": null,
            "_model_module_version": "1.2.0",
            "_view_count": null,
            "flex_flow": null,
            "width": null,
            "min_width": null,
            "border": null,
            "align_items": null,
            "bottom": null,
            "_model_module": "@jupyter-widgets/base",
            "top": null,
            "grid_column": null,
            "overflow_y": null,
            "overflow_x": null,
            "grid_auto_flow": null,
            "grid_area": null,
            "grid_template_columns": null,
            "flex": null,
            "_model_name": "LayoutModel",
            "justify_items": null,
            "grid_row": null,
            "max_height": null,
            "align_content": null,
            "visibility": null,
            "align_self": null,
            "height": null,
            "min_height": null,
            "padding": null,
            "grid_auto_rows": null,
            "grid_gap": null,
            "max_width": null,
            "order": null,
            "_view_module_version": "1.2.0",
            "grid_template_areas": null,
            "object_position": null,
            "object_fit": null,
            "grid_auto_columns": null,
            "margin": null,
            "display": null,
            "left": null
          }
        },
        "25a9e36feb0046e88353a825e3eb0afc": {
          "model_module": "@jupyter-widgets/controls",
          "model_name": "DescriptionStyleModel",
          "model_module_version": "1.5.0",
          "state": {
            "_view_name": "StyleView",
            "_model_name": "DescriptionStyleModel",
            "description_width": "",
            "_view_module": "@jupyter-widgets/base",
            "_model_module_version": "1.5.0",
            "_view_count": null,
            "_view_module_version": "1.2.0",
            "_model_module": "@jupyter-widgets/controls"
          }
        },
        "d901ccafa43246f78850acb9dcc2e771": {
          "model_module": "@jupyter-widgets/base",
          "model_name": "LayoutModel",
          "model_module_version": "1.2.0",
          "state": {
            "_view_name": "LayoutView",
            "grid_template_rows": null,
            "right": null,
            "justify_content": null,
            "_view_module": "@jupyter-widgets/base",
            "overflow": null,
            "_model_module_version": "1.2.0",
            "_view_count": null,
            "flex_flow": null,
            "width": null,
            "min_width": null,
            "border": null,
            "align_items": null,
            "bottom": null,
            "_model_module": "@jupyter-widgets/base",
            "top": null,
            "grid_column": null,
            "overflow_y": null,
            "overflow_x": null,
            "grid_auto_flow": null,
            "grid_area": null,
            "grid_template_columns": null,
            "flex": null,
            "_model_name": "LayoutModel",
            "justify_items": null,
            "grid_row": null,
            "max_height": null,
            "align_content": null,
            "visibility": null,
            "align_self": null,
            "height": null,
            "min_height": null,
            "padding": null,
            "grid_auto_rows": null,
            "grid_gap": null,
            "max_width": null,
            "order": null,
            "_view_module_version": "1.2.0",
            "grid_template_areas": null,
            "object_position": null,
            "object_fit": null,
            "grid_auto_columns": null,
            "margin": null,
            "display": null,
            "left": null
          }
        },
        "03a88ed8fdc148e1a2fc0b7e67fb21a0": {
          "model_module": "@jupyter-widgets/controls",
          "model_name": "HBoxModel",
          "model_module_version": "1.5.0",
          "state": {
            "_view_name": "HBoxView",
            "_dom_classes": [],
            "_model_name": "HBoxModel",
            "_view_module": "@jupyter-widgets/controls",
            "_model_module_version": "1.5.0",
            "_view_count": null,
            "_view_module_version": "1.5.0",
            "box_style": "",
            "layout": "IPY_MODEL_ca54f6525be74423896db5a55875db1c",
            "_model_module": "@jupyter-widgets/controls",
            "children": [
              "IPY_MODEL_d12f9d320e444c08add4894e9f3b8d94",
              "IPY_MODEL_061a53e4851c4419bb528733d317c8ae",
              "IPY_MODEL_d4b8b53a4b4f4bbcb63971d8c1b4f83b"
            ]
          }
        },
        "ca54f6525be74423896db5a55875db1c": {
          "model_module": "@jupyter-widgets/base",
          "model_name": "LayoutModel",
          "model_module_version": "1.2.0",
          "state": {
            "_view_name": "LayoutView",
            "grid_template_rows": null,
            "right": null,
            "justify_content": null,
            "_view_module": "@jupyter-widgets/base",
            "overflow": null,
            "_model_module_version": "1.2.0",
            "_view_count": null,
            "flex_flow": null,
            "width": null,
            "min_width": null,
            "border": null,
            "align_items": null,
            "bottom": null,
            "_model_module": "@jupyter-widgets/base",
            "top": null,
            "grid_column": null,
            "overflow_y": null,
            "overflow_x": null,
            "grid_auto_flow": null,
            "grid_area": null,
            "grid_template_columns": null,
            "flex": null,
            "_model_name": "LayoutModel",
            "justify_items": null,
            "grid_row": null,
            "max_height": null,
            "align_content": null,
            "visibility": null,
            "align_self": null,
            "height": null,
            "min_height": null,
            "padding": null,
            "grid_auto_rows": null,
            "grid_gap": null,
            "max_width": null,
            "order": null,
            "_view_module_version": "1.2.0",
            "grid_template_areas": null,
            "object_position": null,
            "object_fit": null,
            "grid_auto_columns": null,
            "margin": null,
            "display": null,
            "left": null
          }
        },
        "d12f9d320e444c08add4894e9f3b8d94": {
          "model_module": "@jupyter-widgets/controls",
          "model_name": "HTMLModel",
          "model_module_version": "1.5.0",
          "state": {
            "_view_name": "HTMLView",
            "style": "IPY_MODEL_4fe998df2b73476f8d871c690aacc8c8",
            "_dom_classes": [],
            "description": "",
            "_model_name": "HTMLModel",
            "placeholder": "​",
            "_view_module": "@jupyter-widgets/controls",
            "_model_module_version": "1.5.0",
            "value": "Downloading: 100%",
            "_view_count": null,
            "_view_module_version": "1.5.0",
            "description_tooltip": null,
            "_model_module": "@jupyter-widgets/controls",
            "layout": "IPY_MODEL_c61cba78e137402ebe4d812df5ab6cbd"
          }
        },
        "061a53e4851c4419bb528733d317c8ae": {
          "model_module": "@jupyter-widgets/controls",
          "model_name": "FloatProgressModel",
          "model_module_version": "1.5.0",
          "state": {
            "_view_name": "ProgressView",
            "style": "IPY_MODEL_44a7c6b596544e5da43593dae4dee8cb",
            "_dom_classes": [],
            "description": "",
            "_model_name": "FloatProgressModel",
            "bar_style": "success",
            "max": 898822,
            "_view_module": "@jupyter-widgets/controls",
            "_model_module_version": "1.5.0",
            "value": 898822,
            "_view_count": null,
            "_view_module_version": "1.5.0",
            "orientation": "horizontal",
            "min": 0,
            "description_tooltip": null,
            "_model_module": "@jupyter-widgets/controls",
            "layout": "IPY_MODEL_7b6301a30d264a5e9efc68a01b3902e3"
          }
        },
        "d4b8b53a4b4f4bbcb63971d8c1b4f83b": {
          "model_module": "@jupyter-widgets/controls",
          "model_name": "HTMLModel",
          "model_module_version": "1.5.0",
          "state": {
            "_view_name": "HTMLView",
            "style": "IPY_MODEL_b2cf66f208db49098534c0a749c48252",
            "_dom_classes": [],
            "description": "",
            "_model_name": "HTMLModel",
            "placeholder": "​",
            "_view_module": "@jupyter-widgets/controls",
            "_model_module_version": "1.5.0",
            "value": " 878k/878k [00:00&lt;00:00, 2.85MB/s]",
            "_view_count": null,
            "_view_module_version": "1.5.0",
            "description_tooltip": null,
            "_model_module": "@jupyter-widgets/controls",
            "layout": "IPY_MODEL_5528065cfde248a8992033757a2e648f"
          }
        },
        "4fe998df2b73476f8d871c690aacc8c8": {
          "model_module": "@jupyter-widgets/controls",
          "model_name": "DescriptionStyleModel",
          "model_module_version": "1.5.0",
          "state": {
            "_view_name": "StyleView",
            "_model_name": "DescriptionStyleModel",
            "description_width": "",
            "_view_module": "@jupyter-widgets/base",
            "_model_module_version": "1.5.0",
            "_view_count": null,
            "_view_module_version": "1.2.0",
            "_model_module": "@jupyter-widgets/controls"
          }
        },
        "c61cba78e137402ebe4d812df5ab6cbd": {
          "model_module": "@jupyter-widgets/base",
          "model_name": "LayoutModel",
          "model_module_version": "1.2.0",
          "state": {
            "_view_name": "LayoutView",
            "grid_template_rows": null,
            "right": null,
            "justify_content": null,
            "_view_module": "@jupyter-widgets/base",
            "overflow": null,
            "_model_module_version": "1.2.0",
            "_view_count": null,
            "flex_flow": null,
            "width": null,
            "min_width": null,
            "border": null,
            "align_items": null,
            "bottom": null,
            "_model_module": "@jupyter-widgets/base",
            "top": null,
            "grid_column": null,
            "overflow_y": null,
            "overflow_x": null,
            "grid_auto_flow": null,
            "grid_area": null,
            "grid_template_columns": null,
            "flex": null,
            "_model_name": "LayoutModel",
            "justify_items": null,
            "grid_row": null,
            "max_height": null,
            "align_content": null,
            "visibility": null,
            "align_self": null,
            "height": null,
            "min_height": null,
            "padding": null,
            "grid_auto_rows": null,
            "grid_gap": null,
            "max_width": null,
            "order": null,
            "_view_module_version": "1.2.0",
            "grid_template_areas": null,
            "object_position": null,
            "object_fit": null,
            "grid_auto_columns": null,
            "margin": null,
            "display": null,
            "left": null
          }
        },
        "44a7c6b596544e5da43593dae4dee8cb": {
          "model_module": "@jupyter-widgets/controls",
          "model_name": "ProgressStyleModel",
          "model_module_version": "1.5.0",
          "state": {
            "_view_name": "StyleView",
            "_model_name": "ProgressStyleModel",
            "description_width": "",
            "_view_module": "@jupyter-widgets/base",
            "_model_module_version": "1.5.0",
            "_view_count": null,
            "_view_module_version": "1.2.0",
            "bar_color": null,
            "_model_module": "@jupyter-widgets/controls"
          }
        },
        "7b6301a30d264a5e9efc68a01b3902e3": {
          "model_module": "@jupyter-widgets/base",
          "model_name": "LayoutModel",
          "model_module_version": "1.2.0",
          "state": {
            "_view_name": "LayoutView",
            "grid_template_rows": null,
            "right": null,
            "justify_content": null,
            "_view_module": "@jupyter-widgets/base",
            "overflow": null,
            "_model_module_version": "1.2.0",
            "_view_count": null,
            "flex_flow": null,
            "width": null,
            "min_width": null,
            "border": null,
            "align_items": null,
            "bottom": null,
            "_model_module": "@jupyter-widgets/base",
            "top": null,
            "grid_column": null,
            "overflow_y": null,
            "overflow_x": null,
            "grid_auto_flow": null,
            "grid_area": null,
            "grid_template_columns": null,
            "flex": null,
            "_model_name": "LayoutModel",
            "justify_items": null,
            "grid_row": null,
            "max_height": null,
            "align_content": null,
            "visibility": null,
            "align_self": null,
            "height": null,
            "min_height": null,
            "padding": null,
            "grid_auto_rows": null,
            "grid_gap": null,
            "max_width": null,
            "order": null,
            "_view_module_version": "1.2.0",
            "grid_template_areas": null,
            "object_position": null,
            "object_fit": null,
            "grid_auto_columns": null,
            "margin": null,
            "display": null,
            "left": null
          }
        },
        "b2cf66f208db49098534c0a749c48252": {
          "model_module": "@jupyter-widgets/controls",
          "model_name": "DescriptionStyleModel",
          "model_module_version": "1.5.0",
          "state": {
            "_view_name": "StyleView",
            "_model_name": "DescriptionStyleModel",
            "description_width": "",
            "_view_module": "@jupyter-widgets/base",
            "_model_module_version": "1.5.0",
            "_view_count": null,
            "_view_module_version": "1.2.0",
            "_model_module": "@jupyter-widgets/controls"
          }
        },
        "5528065cfde248a8992033757a2e648f": {
          "model_module": "@jupyter-widgets/base",
          "model_name": "LayoutModel",
          "model_module_version": "1.2.0",
          "state": {
            "_view_name": "LayoutView",
            "grid_template_rows": null,
            "right": null,
            "justify_content": null,
            "_view_module": "@jupyter-widgets/base",
            "overflow": null,
            "_model_module_version": "1.2.0",
            "_view_count": null,
            "flex_flow": null,
            "width": null,
            "min_width": null,
            "border": null,
            "align_items": null,
            "bottom": null,
            "_model_module": "@jupyter-widgets/base",
            "top": null,
            "grid_column": null,
            "overflow_y": null,
            "overflow_x": null,
            "grid_auto_flow": null,
            "grid_area": null,
            "grid_template_columns": null,
            "flex": null,
            "_model_name": "LayoutModel",
            "justify_items": null,
            "grid_row": null,
            "max_height": null,
            "align_content": null,
            "visibility": null,
            "align_self": null,
            "height": null,
            "min_height": null,
            "padding": null,
            "grid_auto_rows": null,
            "grid_gap": null,
            "max_width": null,
            "order": null,
            "_view_module_version": "1.2.0",
            "grid_template_areas": null,
            "object_position": null,
            "object_fit": null,
            "grid_auto_columns": null,
            "margin": null,
            "display": null,
            "left": null
          }
        },
        "d2ab303ab6b04cdf871872b3482e7916": {
          "model_module": "@jupyter-widgets/controls",
          "model_name": "HBoxModel",
          "model_module_version": "1.5.0",
          "state": {
            "_view_name": "HBoxView",
            "_dom_classes": [],
            "_model_name": "HBoxModel",
            "_view_module": "@jupyter-widgets/controls",
            "_model_module_version": "1.5.0",
            "_view_count": null,
            "_view_module_version": "1.5.0",
            "box_style": "",
            "layout": "IPY_MODEL_2dc627f96dd44c979f4269df6beac0fe",
            "_model_module": "@jupyter-widgets/controls",
            "children": [
              "IPY_MODEL_97c7a56d441e421db61d64c8eb822e5c",
              "IPY_MODEL_792c01432da943029af82005fd42c3ac",
              "IPY_MODEL_d8eba13df32f44ac95fdff53f0eeb8a4"
            ]
          }
        },
        "2dc627f96dd44c979f4269df6beac0fe": {
          "model_module": "@jupyter-widgets/base",
          "model_name": "LayoutModel",
          "model_module_version": "1.2.0",
          "state": {
            "_view_name": "LayoutView",
            "grid_template_rows": null,
            "right": null,
            "justify_content": null,
            "_view_module": "@jupyter-widgets/base",
            "overflow": null,
            "_model_module_version": "1.2.0",
            "_view_count": null,
            "flex_flow": null,
            "width": null,
            "min_width": null,
            "border": null,
            "align_items": null,
            "bottom": null,
            "_model_module": "@jupyter-widgets/base",
            "top": null,
            "grid_column": null,
            "overflow_y": null,
            "overflow_x": null,
            "grid_auto_flow": null,
            "grid_area": null,
            "grid_template_columns": null,
            "flex": null,
            "_model_name": "LayoutModel",
            "justify_items": null,
            "grid_row": null,
            "max_height": null,
            "align_content": null,
            "visibility": null,
            "align_self": null,
            "height": null,
            "min_height": null,
            "padding": null,
            "grid_auto_rows": null,
            "grid_gap": null,
            "max_width": null,
            "order": null,
            "_view_module_version": "1.2.0",
            "grid_template_areas": null,
            "object_position": null,
            "object_fit": null,
            "grid_auto_columns": null,
            "margin": null,
            "display": null,
            "left": null
          }
        },
        "97c7a56d441e421db61d64c8eb822e5c": {
          "model_module": "@jupyter-widgets/controls",
          "model_name": "HTMLModel",
          "model_module_version": "1.5.0",
          "state": {
            "_view_name": "HTMLView",
            "style": "IPY_MODEL_379562c32046493c9eb14fc314693a13",
            "_dom_classes": [],
            "description": "",
            "_model_name": "HTMLModel",
            "placeholder": "​",
            "_view_module": "@jupyter-widgets/controls",
            "_model_module_version": "1.5.0",
            "value": "Downloading: 100%",
            "_view_count": null,
            "_view_module_version": "1.5.0",
            "description_tooltip": null,
            "_model_module": "@jupyter-widgets/controls",
            "layout": "IPY_MODEL_917cd50242774e30b2d828d9b02e39af"
          }
        },
        "792c01432da943029af82005fd42c3ac": {
          "model_module": "@jupyter-widgets/controls",
          "model_name": "FloatProgressModel",
          "model_module_version": "1.5.0",
          "state": {
            "_view_name": "ProgressView",
            "style": "IPY_MODEL_deaf26a6863849a28ed71dcb0b47233b",
            "_dom_classes": [],
            "description": "",
            "_model_name": "FloatProgressModel",
            "bar_style": "success",
            "max": 456318,
            "_view_module": "@jupyter-widgets/controls",
            "_model_module_version": "1.5.0",
            "value": 456318,
            "_view_count": null,
            "_view_module_version": "1.5.0",
            "orientation": "horizontal",
            "min": 0,
            "description_tooltip": null,
            "_model_module": "@jupyter-widgets/controls",
            "layout": "IPY_MODEL_480661a9eda64ae58aaedc03a6dc5a80"
          }
        },
        "d8eba13df32f44ac95fdff53f0eeb8a4": {
          "model_module": "@jupyter-widgets/controls",
          "model_name": "HTMLModel",
          "model_module_version": "1.5.0",
          "state": {
            "_view_name": "HTMLView",
            "style": "IPY_MODEL_ed99fd7a92e849bdbfe41a347c3bca41",
            "_dom_classes": [],
            "description": "",
            "_model_name": "HTMLModel",
            "placeholder": "​",
            "_view_module": "@jupyter-widgets/controls",
            "_model_module_version": "1.5.0",
            "value": " 446k/446k [00:00&lt;00:00, 919kB/s]",
            "_view_count": null,
            "_view_module_version": "1.5.0",
            "description_tooltip": null,
            "_model_module": "@jupyter-widgets/controls",
            "layout": "IPY_MODEL_a8f54a13544449fda112ece9f2939dba"
          }
        },
        "379562c32046493c9eb14fc314693a13": {
          "model_module": "@jupyter-widgets/controls",
          "model_name": "DescriptionStyleModel",
          "model_module_version": "1.5.0",
          "state": {
            "_view_name": "StyleView",
            "_model_name": "DescriptionStyleModel",
            "description_width": "",
            "_view_module": "@jupyter-widgets/base",
            "_model_module_version": "1.5.0",
            "_view_count": null,
            "_view_module_version": "1.2.0",
            "_model_module": "@jupyter-widgets/controls"
          }
        },
        "917cd50242774e30b2d828d9b02e39af": {
          "model_module": "@jupyter-widgets/base",
          "model_name": "LayoutModel",
          "model_module_version": "1.2.0",
          "state": {
            "_view_name": "LayoutView",
            "grid_template_rows": null,
            "right": null,
            "justify_content": null,
            "_view_module": "@jupyter-widgets/base",
            "overflow": null,
            "_model_module_version": "1.2.0",
            "_view_count": null,
            "flex_flow": null,
            "width": null,
            "min_width": null,
            "border": null,
            "align_items": null,
            "bottom": null,
            "_model_module": "@jupyter-widgets/base",
            "top": null,
            "grid_column": null,
            "overflow_y": null,
            "overflow_x": null,
            "grid_auto_flow": null,
            "grid_area": null,
            "grid_template_columns": null,
            "flex": null,
            "_model_name": "LayoutModel",
            "justify_items": null,
            "grid_row": null,
            "max_height": null,
            "align_content": null,
            "visibility": null,
            "align_self": null,
            "height": null,
            "min_height": null,
            "padding": null,
            "grid_auto_rows": null,
            "grid_gap": null,
            "max_width": null,
            "order": null,
            "_view_module_version": "1.2.0",
            "grid_template_areas": null,
            "object_position": null,
            "object_fit": null,
            "grid_auto_columns": null,
            "margin": null,
            "display": null,
            "left": null
          }
        },
        "deaf26a6863849a28ed71dcb0b47233b": {
          "model_module": "@jupyter-widgets/controls",
          "model_name": "ProgressStyleModel",
          "model_module_version": "1.5.0",
          "state": {
            "_view_name": "StyleView",
            "_model_name": "ProgressStyleModel",
            "description_width": "",
            "_view_module": "@jupyter-widgets/base",
            "_model_module_version": "1.5.0",
            "_view_count": null,
            "_view_module_version": "1.2.0",
            "bar_color": null,
            "_model_module": "@jupyter-widgets/controls"
          }
        },
        "480661a9eda64ae58aaedc03a6dc5a80": {
          "model_module": "@jupyter-widgets/base",
          "model_name": "LayoutModel",
          "model_module_version": "1.2.0",
          "state": {
            "_view_name": "LayoutView",
            "grid_template_rows": null,
            "right": null,
            "justify_content": null,
            "_view_module": "@jupyter-widgets/base",
            "overflow": null,
            "_model_module_version": "1.2.0",
            "_view_count": null,
            "flex_flow": null,
            "width": null,
            "min_width": null,
            "border": null,
            "align_items": null,
            "bottom": null,
            "_model_module": "@jupyter-widgets/base",
            "top": null,
            "grid_column": null,
            "overflow_y": null,
            "overflow_x": null,
            "grid_auto_flow": null,
            "grid_area": null,
            "grid_template_columns": null,
            "flex": null,
            "_model_name": "LayoutModel",
            "justify_items": null,
            "grid_row": null,
            "max_height": null,
            "align_content": null,
            "visibility": null,
            "align_self": null,
            "height": null,
            "min_height": null,
            "padding": null,
            "grid_auto_rows": null,
            "grid_gap": null,
            "max_width": null,
            "order": null,
            "_view_module_version": "1.2.0",
            "grid_template_areas": null,
            "object_position": null,
            "object_fit": null,
            "grid_auto_columns": null,
            "margin": null,
            "display": null,
            "left": null
          }
        },
        "ed99fd7a92e849bdbfe41a347c3bca41": {
          "model_module": "@jupyter-widgets/controls",
          "model_name": "DescriptionStyleModel",
          "model_module_version": "1.5.0",
          "state": {
            "_view_name": "StyleView",
            "_model_name": "DescriptionStyleModel",
            "description_width": "",
            "_view_module": "@jupyter-widgets/base",
            "_model_module_version": "1.5.0",
            "_view_count": null,
            "_view_module_version": "1.2.0",
            "_model_module": "@jupyter-widgets/controls"
          }
        },
        "a8f54a13544449fda112ece9f2939dba": {
          "model_module": "@jupyter-widgets/base",
          "model_name": "LayoutModel",
          "model_module_version": "1.2.0",
          "state": {
            "_view_name": "LayoutView",
            "grid_template_rows": null,
            "right": null,
            "justify_content": null,
            "_view_module": "@jupyter-widgets/base",
            "overflow": null,
            "_model_module_version": "1.2.0",
            "_view_count": null,
            "flex_flow": null,
            "width": null,
            "min_width": null,
            "border": null,
            "align_items": null,
            "bottom": null,
            "_model_module": "@jupyter-widgets/base",
            "top": null,
            "grid_column": null,
            "overflow_y": null,
            "overflow_x": null,
            "grid_auto_flow": null,
            "grid_area": null,
            "grid_template_columns": null,
            "flex": null,
            "_model_name": "LayoutModel",
            "justify_items": null,
            "grid_row": null,
            "max_height": null,
            "align_content": null,
            "visibility": null,
            "align_self": null,
            "height": null,
            "min_height": null,
            "padding": null,
            "grid_auto_rows": null,
            "grid_gap": null,
            "max_width": null,
            "order": null,
            "_view_module_version": "1.2.0",
            "grid_template_areas": null,
            "object_position": null,
            "object_fit": null,
            "grid_auto_columns": null,
            "margin": null,
            "display": null,
            "left": null
          }
        },
        "8cdf1626d2ed4eb0b8b178a61025c35a": {
          "model_module": "@jupyter-widgets/controls",
          "model_name": "HBoxModel",
          "model_module_version": "1.5.0",
          "state": {
            "_view_name": "HBoxView",
            "_dom_classes": [],
            "_model_name": "HBoxModel",
            "_view_module": "@jupyter-widgets/controls",
            "_model_module_version": "1.5.0",
            "_view_count": null,
            "_view_module_version": "1.5.0",
            "box_style": "",
            "layout": "IPY_MODEL_989b39e3d09b439f972ecc50950fffed",
            "_model_module": "@jupyter-widgets/controls",
            "children": [
              "IPY_MODEL_cd1ae6b620fe4454b60e64590d11285b",
              "IPY_MODEL_bc5fd6cff2814590a722d75da21524d3",
              "IPY_MODEL_3e68ebde41bc4c6ea3d004b1c7b06547"
            ]
          }
        },
        "989b39e3d09b439f972ecc50950fffed": {
          "model_module": "@jupyter-widgets/base",
          "model_name": "LayoutModel",
          "model_module_version": "1.2.0",
          "state": {
            "_view_name": "LayoutView",
            "grid_template_rows": null,
            "right": null,
            "justify_content": null,
            "_view_module": "@jupyter-widgets/base",
            "overflow": null,
            "_model_module_version": "1.2.0",
            "_view_count": null,
            "flex_flow": null,
            "width": null,
            "min_width": null,
            "border": null,
            "align_items": null,
            "bottom": null,
            "_model_module": "@jupyter-widgets/base",
            "top": null,
            "grid_column": null,
            "overflow_y": null,
            "overflow_x": null,
            "grid_auto_flow": null,
            "grid_area": null,
            "grid_template_columns": null,
            "flex": null,
            "_model_name": "LayoutModel",
            "justify_items": null,
            "grid_row": null,
            "max_height": null,
            "align_content": null,
            "visibility": null,
            "align_self": null,
            "height": null,
            "min_height": null,
            "padding": null,
            "grid_auto_rows": null,
            "grid_gap": null,
            "max_width": null,
            "order": null,
            "_view_module_version": "1.2.0",
            "grid_template_areas": null,
            "object_position": null,
            "object_fit": null,
            "grid_auto_columns": null,
            "margin": null,
            "display": null,
            "left": null
          }
        },
        "cd1ae6b620fe4454b60e64590d11285b": {
          "model_module": "@jupyter-widgets/controls",
          "model_name": "HTMLModel",
          "model_module_version": "1.5.0",
          "state": {
            "_view_name": "HTMLView",
            "style": "IPY_MODEL_5455c67c777b4c3c8a03ebe34432a722",
            "_dom_classes": [],
            "description": "",
            "_model_name": "HTMLModel",
            "placeholder": "​",
            "_view_module": "@jupyter-widgets/controls",
            "_model_module_version": "1.5.0",
            "value": "Downloading: 100%",
            "_view_count": null,
            "_view_module_version": "1.5.0",
            "description_tooltip": null,
            "_model_module": "@jupyter-widgets/controls",
            "layout": "IPY_MODEL_d03530d93a0e464188e1bda10518d3ce"
          }
        },
        "bc5fd6cff2814590a722d75da21524d3": {
          "model_module": "@jupyter-widgets/controls",
          "model_name": "FloatProgressModel",
          "model_module_version": "1.5.0",
          "state": {
            "_view_name": "ProgressView",
            "style": "IPY_MODEL_0d5791d6593745639823449289c8495f",
            "_dom_classes": [],
            "description": "",
            "_model_name": "FloatProgressModel",
            "bar_style": "success",
            "max": 1080,
            "_view_module": "@jupyter-widgets/controls",
            "_model_module_version": "1.5.0",
            "value": 1080,
            "_view_count": null,
            "_view_module_version": "1.5.0",
            "orientation": "horizontal",
            "min": 0,
            "description_tooltip": null,
            "_model_module": "@jupyter-widgets/controls",
            "layout": "IPY_MODEL_4cb8a5e2a11d4904a604f5cabe139b80"
          }
        },
        "3e68ebde41bc4c6ea3d004b1c7b06547": {
          "model_module": "@jupyter-widgets/controls",
          "model_name": "HTMLModel",
          "model_module_version": "1.5.0",
          "state": {
            "_view_name": "HTMLView",
            "style": "IPY_MODEL_545eb26cef7c432db79ac33e403578d4",
            "_dom_classes": [],
            "description": "",
            "_model_name": "HTMLModel",
            "placeholder": "​",
            "_view_module": "@jupyter-widgets/controls",
            "_model_module_version": "1.5.0",
            "value": " 1.05k/1.05k [00:00&lt;00:00, 25.5kB/s]",
            "_view_count": null,
            "_view_module_version": "1.5.0",
            "description_tooltip": null,
            "_model_module": "@jupyter-widgets/controls",
            "layout": "IPY_MODEL_b50cd6abfee249baa4f089cf6c3bbc24"
          }
        },
        "5455c67c777b4c3c8a03ebe34432a722": {
          "model_module": "@jupyter-widgets/controls",
          "model_name": "DescriptionStyleModel",
          "model_module_version": "1.5.0",
          "state": {
            "_view_name": "StyleView",
            "_model_name": "DescriptionStyleModel",
            "description_width": "",
            "_view_module": "@jupyter-widgets/base",
            "_model_module_version": "1.5.0",
            "_view_count": null,
            "_view_module_version": "1.2.0",
            "_model_module": "@jupyter-widgets/controls"
          }
        },
        "d03530d93a0e464188e1bda10518d3ce": {
          "model_module": "@jupyter-widgets/base",
          "model_name": "LayoutModel",
          "model_module_version": "1.2.0",
          "state": {
            "_view_name": "LayoutView",
            "grid_template_rows": null,
            "right": null,
            "justify_content": null,
            "_view_module": "@jupyter-widgets/base",
            "overflow": null,
            "_model_module_version": "1.2.0",
            "_view_count": null,
            "flex_flow": null,
            "width": null,
            "min_width": null,
            "border": null,
            "align_items": null,
            "bottom": null,
            "_model_module": "@jupyter-widgets/base",
            "top": null,
            "grid_column": null,
            "overflow_y": null,
            "overflow_x": null,
            "grid_auto_flow": null,
            "grid_area": null,
            "grid_template_columns": null,
            "flex": null,
            "_model_name": "LayoutModel",
            "justify_items": null,
            "grid_row": null,
            "max_height": null,
            "align_content": null,
            "visibility": null,
            "align_self": null,
            "height": null,
            "min_height": null,
            "padding": null,
            "grid_auto_rows": null,
            "grid_gap": null,
            "max_width": null,
            "order": null,
            "_view_module_version": "1.2.0",
            "grid_template_areas": null,
            "object_position": null,
            "object_fit": null,
            "grid_auto_columns": null,
            "margin": null,
            "display": null,
            "left": null
          }
        },
        "0d5791d6593745639823449289c8495f": {
          "model_module": "@jupyter-widgets/controls",
          "model_name": "ProgressStyleModel",
          "model_module_version": "1.5.0",
          "state": {
            "_view_name": "StyleView",
            "_model_name": "ProgressStyleModel",
            "description_width": "",
            "_view_module": "@jupyter-widgets/base",
            "_model_module_version": "1.5.0",
            "_view_count": null,
            "_view_module_version": "1.2.0",
            "bar_color": null,
            "_model_module": "@jupyter-widgets/controls"
          }
        },
        "4cb8a5e2a11d4904a604f5cabe139b80": {
          "model_module": "@jupyter-widgets/base",
          "model_name": "LayoutModel",
          "model_module_version": "1.2.0",
          "state": {
            "_view_name": "LayoutView",
            "grid_template_rows": null,
            "right": null,
            "justify_content": null,
            "_view_module": "@jupyter-widgets/base",
            "overflow": null,
            "_model_module_version": "1.2.0",
            "_view_count": null,
            "flex_flow": null,
            "width": null,
            "min_width": null,
            "border": null,
            "align_items": null,
            "bottom": null,
            "_model_module": "@jupyter-widgets/base",
            "top": null,
            "grid_column": null,
            "overflow_y": null,
            "overflow_x": null,
            "grid_auto_flow": null,
            "grid_area": null,
            "grid_template_columns": null,
            "flex": null,
            "_model_name": "LayoutModel",
            "justify_items": null,
            "grid_row": null,
            "max_height": null,
            "align_content": null,
            "visibility": null,
            "align_self": null,
            "height": null,
            "min_height": null,
            "padding": null,
            "grid_auto_rows": null,
            "grid_gap": null,
            "max_width": null,
            "order": null,
            "_view_module_version": "1.2.0",
            "grid_template_areas": null,
            "object_position": null,
            "object_fit": null,
            "grid_auto_columns": null,
            "margin": null,
            "display": null,
            "left": null
          }
        },
        "545eb26cef7c432db79ac33e403578d4": {
          "model_module": "@jupyter-widgets/controls",
          "model_name": "DescriptionStyleModel",
          "model_module_version": "1.5.0",
          "state": {
            "_view_name": "StyleView",
            "_model_name": "DescriptionStyleModel",
            "description_width": "",
            "_view_module": "@jupyter-widgets/base",
            "_model_module_version": "1.5.0",
            "_view_count": null,
            "_view_module_version": "1.2.0",
            "_model_module": "@jupyter-widgets/controls"
          }
        },
        "b50cd6abfee249baa4f089cf6c3bbc24": {
          "model_module": "@jupyter-widgets/base",
          "model_name": "LayoutModel",
          "model_module_version": "1.2.0",
          "state": {
            "_view_name": "LayoutView",
            "grid_template_rows": null,
            "right": null,
            "justify_content": null,
            "_view_module": "@jupyter-widgets/base",
            "overflow": null,
            "_model_module_version": "1.2.0",
            "_view_count": null,
            "flex_flow": null,
            "width": null,
            "min_width": null,
            "border": null,
            "align_items": null,
            "bottom": null,
            "_model_module": "@jupyter-widgets/base",
            "top": null,
            "grid_column": null,
            "overflow_y": null,
            "overflow_x": null,
            "grid_auto_flow": null,
            "grid_area": null,
            "grid_template_columns": null,
            "flex": null,
            "_model_name": "LayoutModel",
            "justify_items": null,
            "grid_row": null,
            "max_height": null,
            "align_content": null,
            "visibility": null,
            "align_self": null,
            "height": null,
            "min_height": null,
            "padding": null,
            "grid_auto_rows": null,
            "grid_gap": null,
            "max_width": null,
            "order": null,
            "_view_module_version": "1.2.0",
            "grid_template_areas": null,
            "object_position": null,
            "object_fit": null,
            "grid_auto_columns": null,
            "margin": null,
            "display": null,
            "left": null
          }
        },
        "6f6b527be436450c9738df287ebbb73a": {
          "model_module": "@jupyter-widgets/controls",
          "model_name": "HBoxModel",
          "model_module_version": "1.5.0",
          "state": {
            "_view_name": "HBoxView",
            "_dom_classes": [],
            "_model_name": "HBoxModel",
            "_view_module": "@jupyter-widgets/controls",
            "_model_module_version": "1.5.0",
            "_view_count": null,
            "_view_module_version": "1.5.0",
            "box_style": "",
            "layout": "IPY_MODEL_87241277094a4198b6af8c567f3d397c",
            "_model_module": "@jupyter-widgets/controls",
            "children": [
              "IPY_MODEL_4ea59dd318fb439caa311aeaeb9ca191",
              "IPY_MODEL_25b3c4c58eb642ada67a384048ec3f02",
              "IPY_MODEL_c78a77aad62a4b97b6c309273e1f4f73"
            ]
          }
        },
        "87241277094a4198b6af8c567f3d397c": {
          "model_module": "@jupyter-widgets/base",
          "model_name": "LayoutModel",
          "model_module_version": "1.2.0",
          "state": {
            "_view_name": "LayoutView",
            "grid_template_rows": null,
            "right": null,
            "justify_content": null,
            "_view_module": "@jupyter-widgets/base",
            "overflow": null,
            "_model_module_version": "1.2.0",
            "_view_count": null,
            "flex_flow": null,
            "width": null,
            "min_width": null,
            "border": null,
            "align_items": null,
            "bottom": null,
            "_model_module": "@jupyter-widgets/base",
            "top": null,
            "grid_column": null,
            "overflow_y": null,
            "overflow_x": null,
            "grid_auto_flow": null,
            "grid_area": null,
            "grid_template_columns": null,
            "flex": null,
            "_model_name": "LayoutModel",
            "justify_items": null,
            "grid_row": null,
            "max_height": null,
            "align_content": null,
            "visibility": null,
            "align_self": null,
            "height": null,
            "min_height": null,
            "padding": null,
            "grid_auto_rows": null,
            "grid_gap": null,
            "max_width": null,
            "order": null,
            "_view_module_version": "1.2.0",
            "grid_template_areas": null,
            "object_position": null,
            "object_fit": null,
            "grid_auto_columns": null,
            "margin": null,
            "display": null,
            "left": null
          }
        },
        "4ea59dd318fb439caa311aeaeb9ca191": {
          "model_module": "@jupyter-widgets/controls",
          "model_name": "HTMLModel",
          "model_module_version": "1.5.0",
          "state": {
            "_view_name": "HTMLView",
            "style": "IPY_MODEL_a990a2675f754f578d64754057a37878",
            "_dom_classes": [],
            "description": "",
            "_model_name": "HTMLModel",
            "placeholder": "​",
            "_view_module": "@jupyter-widgets/controls",
            "_model_module_version": "1.5.0",
            "value": "Downloading: 100%",
            "_view_count": null,
            "_view_module_version": "1.5.0",
            "description_tooltip": null,
            "_model_module": "@jupyter-widgets/controls",
            "layout": "IPY_MODEL_e74d85e5439a427192bf87757873e83b"
          }
        },
        "25b3c4c58eb642ada67a384048ec3f02": {
          "model_module": "@jupyter-widgets/controls",
          "model_name": "FloatProgressModel",
          "model_module_version": "1.5.0",
          "state": {
            "_view_name": "ProgressView",
            "style": "IPY_MODEL_503d72bfe6f441c0b9f3bba2f7890ac3",
            "_dom_classes": [],
            "description": "",
            "_model_name": "FloatProgressModel",
            "bar_style": "success",
            "max": 3468710848,
            "_view_module": "@jupyter-widgets/controls",
            "_model_module_version": "1.5.0",
            "value": 3468710848,
            "_view_count": null,
            "_view_module_version": "1.5.0",
            "orientation": "horizontal",
            "min": 0,
            "description_tooltip": null,
            "_model_module": "@jupyter-widgets/controls",
            "layout": "IPY_MODEL_84b1cfbb0f434bcaab9d6a34f2ce54ae"
          }
        },
        "c78a77aad62a4b97b6c309273e1f4f73": {
          "model_module": "@jupyter-widgets/controls",
          "model_name": "HTMLModel",
          "model_module_version": "1.5.0",
          "state": {
            "_view_name": "HTMLView",
            "style": "IPY_MODEL_9984ddcc76fc4627a9830bf40b26cf4e",
            "_dom_classes": [],
            "description": "",
            "_model_name": "HTMLModel",
            "placeholder": "​",
            "_view_module": "@jupyter-widgets/controls",
            "_model_module_version": "1.5.0",
            "value": " 3.23G/3.23G [02:59&lt;00:00, 31.1MB/s]",
            "_view_count": null,
            "_view_module_version": "1.5.0",
            "description_tooltip": null,
            "_model_module": "@jupyter-widgets/controls",
            "layout": "IPY_MODEL_3086f9199e23462b804a48e24302fc09"
          }
        },
        "a990a2675f754f578d64754057a37878": {
          "model_module": "@jupyter-widgets/controls",
          "model_name": "DescriptionStyleModel",
          "model_module_version": "1.5.0",
          "state": {
            "_view_name": "StyleView",
            "_model_name": "DescriptionStyleModel",
            "description_width": "",
            "_view_module": "@jupyter-widgets/base",
            "_model_module_version": "1.5.0",
            "_view_count": null,
            "_view_module_version": "1.2.0",
            "_model_module": "@jupyter-widgets/controls"
          }
        },
        "e74d85e5439a427192bf87757873e83b": {
          "model_module": "@jupyter-widgets/base",
          "model_name": "LayoutModel",
          "model_module_version": "1.2.0",
          "state": {
            "_view_name": "LayoutView",
            "grid_template_rows": null,
            "right": null,
            "justify_content": null,
            "_view_module": "@jupyter-widgets/base",
            "overflow": null,
            "_model_module_version": "1.2.0",
            "_view_count": null,
            "flex_flow": null,
            "width": null,
            "min_width": null,
            "border": null,
            "align_items": null,
            "bottom": null,
            "_model_module": "@jupyter-widgets/base",
            "top": null,
            "grid_column": null,
            "overflow_y": null,
            "overflow_x": null,
            "grid_auto_flow": null,
            "grid_area": null,
            "grid_template_columns": null,
            "flex": null,
            "_model_name": "LayoutModel",
            "justify_items": null,
            "grid_row": null,
            "max_height": null,
            "align_content": null,
            "visibility": null,
            "align_self": null,
            "height": null,
            "min_height": null,
            "padding": null,
            "grid_auto_rows": null,
            "grid_gap": null,
            "max_width": null,
            "order": null,
            "_view_module_version": "1.2.0",
            "grid_template_areas": null,
            "object_position": null,
            "object_fit": null,
            "grid_auto_columns": null,
            "margin": null,
            "display": null,
            "left": null
          }
        },
        "503d72bfe6f441c0b9f3bba2f7890ac3": {
          "model_module": "@jupyter-widgets/controls",
          "model_name": "ProgressStyleModel",
          "model_module_version": "1.5.0",
          "state": {
            "_view_name": "StyleView",
            "_model_name": "ProgressStyleModel",
            "description_width": "",
            "_view_module": "@jupyter-widgets/base",
            "_model_module_version": "1.5.0",
            "_view_count": null,
            "_view_module_version": "1.2.0",
            "bar_color": null,
            "_model_module": "@jupyter-widgets/controls"
          }
        },
        "84b1cfbb0f434bcaab9d6a34f2ce54ae": {
          "model_module": "@jupyter-widgets/base",
          "model_name": "LayoutModel",
          "model_module_version": "1.2.0",
          "state": {
            "_view_name": "LayoutView",
            "grid_template_rows": null,
            "right": null,
            "justify_content": null,
            "_view_module": "@jupyter-widgets/base",
            "overflow": null,
            "_model_module_version": "1.2.0",
            "_view_count": null,
            "flex_flow": null,
            "width": null,
            "min_width": null,
            "border": null,
            "align_items": null,
            "bottom": null,
            "_model_module": "@jupyter-widgets/base",
            "top": null,
            "grid_column": null,
            "overflow_y": null,
            "overflow_x": null,
            "grid_auto_flow": null,
            "grid_area": null,
            "grid_template_columns": null,
            "flex": null,
            "_model_name": "LayoutModel",
            "justify_items": null,
            "grid_row": null,
            "max_height": null,
            "align_content": null,
            "visibility": null,
            "align_self": null,
            "height": null,
            "min_height": null,
            "padding": null,
            "grid_auto_rows": null,
            "grid_gap": null,
            "max_width": null,
            "order": null,
            "_view_module_version": "1.2.0",
            "grid_template_areas": null,
            "object_position": null,
            "object_fit": null,
            "grid_auto_columns": null,
            "margin": null,
            "display": null,
            "left": null
          }
        },
        "9984ddcc76fc4627a9830bf40b26cf4e": {
          "model_module": "@jupyter-widgets/controls",
          "model_name": "DescriptionStyleModel",
          "model_module_version": "1.5.0",
          "state": {
            "_view_name": "StyleView",
            "_model_name": "DescriptionStyleModel",
            "description_width": "",
            "_view_module": "@jupyter-widgets/base",
            "_model_module_version": "1.5.0",
            "_view_count": null,
            "_view_module_version": "1.2.0",
            "_model_module": "@jupyter-widgets/controls"
          }
        },
        "3086f9199e23462b804a48e24302fc09": {
          "model_module": "@jupyter-widgets/base",
          "model_name": "LayoutModel",
          "model_module_version": "1.2.0",
          "state": {
            "_view_name": "LayoutView",
            "grid_template_rows": null,
            "right": null,
            "justify_content": null,
            "_view_module": "@jupyter-widgets/base",
            "overflow": null,
            "_model_module_version": "1.2.0",
            "_view_count": null,
            "flex_flow": null,
            "width": null,
            "min_width": null,
            "border": null,
            "align_items": null,
            "bottom": null,
            "_model_module": "@jupyter-widgets/base",
            "top": null,
            "grid_column": null,
            "overflow_y": null,
            "overflow_x": null,
            "grid_auto_flow": null,
            "grid_area": null,
            "grid_template_columns": null,
            "flex": null,
            "_model_name": "LayoutModel",
            "justify_items": null,
            "grid_row": null,
            "max_height": null,
            "align_content": null,
            "visibility": null,
            "align_self": null,
            "height": null,
            "min_height": null,
            "padding": null,
            "grid_auto_rows": null,
            "grid_gap": null,
            "max_width": null,
            "order": null,
            "_view_module_version": "1.2.0",
            "grid_template_areas": null,
            "object_position": null,
            "object_fit": null,
            "grid_auto_columns": null,
            "margin": null,
            "display": null,
            "left": null
          }
        },
        "4348e964f68349cea28339962cfa3306": {
          "model_module": "@jupyter-widgets/controls",
          "model_name": "HBoxModel",
          "model_module_version": "1.5.0",
          "state": {
            "_view_name": "HBoxView",
            "_dom_classes": [],
            "_model_name": "HBoxModel",
            "_view_module": "@jupyter-widgets/controls",
            "_model_module_version": "1.5.0",
            "_view_count": null,
            "_view_module_version": "1.5.0",
            "box_style": "",
            "layout": "IPY_MODEL_03b28b973c154a23a2425739963f8625",
            "_model_module": "@jupyter-widgets/controls",
            "children": [
              "IPY_MODEL_e2db9c83bd44438d8dec0a2fedf759fd",
              "IPY_MODEL_5c43fe2440294886a1ad31ab3ee133ac",
              "IPY_MODEL_b9731acd917d4fa78553e5300930222d"
            ]
          }
        },
        "03b28b973c154a23a2425739963f8625": {
          "model_module": "@jupyter-widgets/base",
          "model_name": "LayoutModel",
          "model_module_version": "1.2.0",
          "state": {
            "_view_name": "LayoutView",
            "grid_template_rows": null,
            "right": null,
            "justify_content": null,
            "_view_module": "@jupyter-widgets/base",
            "overflow": null,
            "_model_module_version": "1.2.0",
            "_view_count": null,
            "flex_flow": null,
            "width": null,
            "min_width": null,
            "border": null,
            "align_items": null,
            "bottom": null,
            "_model_module": "@jupyter-widgets/base",
            "top": null,
            "grid_column": null,
            "overflow_y": null,
            "overflow_x": null,
            "grid_auto_flow": null,
            "grid_area": null,
            "grid_template_columns": null,
            "flex": null,
            "_model_name": "LayoutModel",
            "justify_items": null,
            "grid_row": null,
            "max_height": null,
            "align_content": null,
            "visibility": null,
            "align_self": null,
            "height": null,
            "min_height": null,
            "padding": null,
            "grid_auto_rows": null,
            "grid_gap": null,
            "max_width": null,
            "order": null,
            "_view_module_version": "1.2.0",
            "grid_template_areas": null,
            "object_position": null,
            "object_fit": null,
            "grid_auto_columns": null,
            "margin": null,
            "display": null,
            "left": null
          }
        },
        "e2db9c83bd44438d8dec0a2fedf759fd": {
          "model_module": "@jupyter-widgets/controls",
          "model_name": "HTMLModel",
          "model_module_version": "1.5.0",
          "state": {
            "_view_name": "HTMLView",
            "style": "IPY_MODEL_2da195e6c77344efbeb87a065ce557b2",
            "_dom_classes": [],
            "description": "",
            "_model_name": "HTMLModel",
            "placeholder": "​",
            "_view_module": "@jupyter-widgets/controls",
            "_model_module_version": "1.5.0",
            "value": "Downloading: 100%",
            "_view_count": null,
            "_view_module_version": "1.5.0",
            "description_tooltip": null,
            "_model_module": "@jupyter-widgets/controls",
            "layout": "IPY_MODEL_29b6163f01f54caeb12513e4dd1c1e37"
          }
        },
        "5c43fe2440294886a1ad31ab3ee133ac": {
          "model_module": "@jupyter-widgets/controls",
          "model_name": "FloatProgressModel",
          "model_module_version": "1.5.0",
          "state": {
            "_view_name": "ProgressView",
            "style": "IPY_MODEL_49b8d10bd0834930bab2c9e748b66f4f",
            "_dom_classes": [],
            "description": "",
            "_model_name": "FloatProgressModel",
            "bar_style": "success",
            "max": 245,
            "_view_module": "@jupyter-widgets/controls",
            "_model_module_version": "1.5.0",
            "value": 245,
            "_view_count": null,
            "_view_module_version": "1.5.0",
            "orientation": "horizontal",
            "min": 0,
            "description_tooltip": null,
            "_model_module": "@jupyter-widgets/controls",
            "layout": "IPY_MODEL_5c7c1d6e0df34e81bd0c3b6b7a73bd4d"
          }
        },
        "b9731acd917d4fa78553e5300930222d": {
          "model_module": "@jupyter-widgets/controls",
          "model_name": "HTMLModel",
          "model_module_version": "1.5.0",
          "state": {
            "_view_name": "HTMLView",
            "style": "IPY_MODEL_6bb4d6ca43d84138b5910d0131332314",
            "_dom_classes": [],
            "description": "",
            "_model_name": "HTMLModel",
            "placeholder": "​",
            "_view_module": "@jupyter-widgets/controls",
            "_model_module_version": "1.5.0",
            "value": " 245/245 [00:00&lt;00:00, 5.09kB/s]",
            "_view_count": null,
            "_view_module_version": "1.5.0",
            "description_tooltip": null,
            "_model_module": "@jupyter-widgets/controls",
            "layout": "IPY_MODEL_6f244fc7683b4feba2b45d7a963b8ef8"
          }
        },
        "2da195e6c77344efbeb87a065ce557b2": {
          "model_module": "@jupyter-widgets/controls",
          "model_name": "DescriptionStyleModel",
          "model_module_version": "1.5.0",
          "state": {
            "_view_name": "StyleView",
            "_model_name": "DescriptionStyleModel",
            "description_width": "",
            "_view_module": "@jupyter-widgets/base",
            "_model_module_version": "1.5.0",
            "_view_count": null,
            "_view_module_version": "1.2.0",
            "_model_module": "@jupyter-widgets/controls"
          }
        },
        "29b6163f01f54caeb12513e4dd1c1e37": {
          "model_module": "@jupyter-widgets/base",
          "model_name": "LayoutModel",
          "model_module_version": "1.2.0",
          "state": {
            "_view_name": "LayoutView",
            "grid_template_rows": null,
            "right": null,
            "justify_content": null,
            "_view_module": "@jupyter-widgets/base",
            "overflow": null,
            "_model_module_version": "1.2.0",
            "_view_count": null,
            "flex_flow": null,
            "width": null,
            "min_width": null,
            "border": null,
            "align_items": null,
            "bottom": null,
            "_model_module": "@jupyter-widgets/base",
            "top": null,
            "grid_column": null,
            "overflow_y": null,
            "overflow_x": null,
            "grid_auto_flow": null,
            "grid_area": null,
            "grid_template_columns": null,
            "flex": null,
            "_model_name": "LayoutModel",
            "justify_items": null,
            "grid_row": null,
            "max_height": null,
            "align_content": null,
            "visibility": null,
            "align_self": null,
            "height": null,
            "min_height": null,
            "padding": null,
            "grid_auto_rows": null,
            "grid_gap": null,
            "max_width": null,
            "order": null,
            "_view_module_version": "1.2.0",
            "grid_template_areas": null,
            "object_position": null,
            "object_fit": null,
            "grid_auto_columns": null,
            "margin": null,
            "display": null,
            "left": null
          }
        },
        "49b8d10bd0834930bab2c9e748b66f4f": {
          "model_module": "@jupyter-widgets/controls",
          "model_name": "ProgressStyleModel",
          "model_module_version": "1.5.0",
          "state": {
            "_view_name": "StyleView",
            "_model_name": "ProgressStyleModel",
            "description_width": "",
            "_view_module": "@jupyter-widgets/base",
            "_model_module_version": "1.5.0",
            "_view_count": null,
            "_view_module_version": "1.2.0",
            "bar_color": null,
            "_model_module": "@jupyter-widgets/controls"
          }
        },
        "5c7c1d6e0df34e81bd0c3b6b7a73bd4d": {
          "model_module": "@jupyter-widgets/base",
          "model_name": "LayoutModel",
          "model_module_version": "1.2.0",
          "state": {
            "_view_name": "LayoutView",
            "grid_template_rows": null,
            "right": null,
            "justify_content": null,
            "_view_module": "@jupyter-widgets/base",
            "overflow": null,
            "_model_module_version": "1.2.0",
            "_view_count": null,
            "flex_flow": null,
            "width": null,
            "min_width": null,
            "border": null,
            "align_items": null,
            "bottom": null,
            "_model_module": "@jupyter-widgets/base",
            "top": null,
            "grid_column": null,
            "overflow_y": null,
            "overflow_x": null,
            "grid_auto_flow": null,
            "grid_area": null,
            "grid_template_columns": null,
            "flex": null,
            "_model_name": "LayoutModel",
            "justify_items": null,
            "grid_row": null,
            "max_height": null,
            "align_content": null,
            "visibility": null,
            "align_self": null,
            "height": null,
            "min_height": null,
            "padding": null,
            "grid_auto_rows": null,
            "grid_gap": null,
            "max_width": null,
            "order": null,
            "_view_module_version": "1.2.0",
            "grid_template_areas": null,
            "object_position": null,
            "object_fit": null,
            "grid_auto_columns": null,
            "margin": null,
            "display": null,
            "left": null
          }
        },
        "6bb4d6ca43d84138b5910d0131332314": {
          "model_module": "@jupyter-widgets/controls",
          "model_name": "DescriptionStyleModel",
          "model_module_version": "1.5.0",
          "state": {
            "_view_name": "StyleView",
            "_model_name": "DescriptionStyleModel",
            "description_width": "",
            "_view_module": "@jupyter-widgets/base",
            "_model_module_version": "1.5.0",
            "_view_count": null,
            "_view_module_version": "1.2.0",
            "_model_module": "@jupyter-widgets/controls"
          }
        },
        "6f244fc7683b4feba2b45d7a963b8ef8": {
          "model_module": "@jupyter-widgets/base",
          "model_name": "LayoutModel",
          "model_module_version": "1.2.0",
          "state": {
            "_view_name": "LayoutView",
            "grid_template_rows": null,
            "right": null,
            "justify_content": null,
            "_view_module": "@jupyter-widgets/base",
            "overflow": null,
            "_model_module_version": "1.2.0",
            "_view_count": null,
            "flex_flow": null,
            "width": null,
            "min_width": null,
            "border": null,
            "align_items": null,
            "bottom": null,
            "_model_module": "@jupyter-widgets/base",
            "top": null,
            "grid_column": null,
            "overflow_y": null,
            "overflow_x": null,
            "grid_auto_flow": null,
            "grid_area": null,
            "grid_template_columns": null,
            "flex": null,
            "_model_name": "LayoutModel",
            "justify_items": null,
            "grid_row": null,
            "max_height": null,
            "align_content": null,
            "visibility": null,
            "align_self": null,
            "height": null,
            "min_height": null,
            "padding": null,
            "grid_auto_rows": null,
            "grid_gap": null,
            "max_width": null,
            "order": null,
            "_view_module_version": "1.2.0",
            "grid_template_areas": null,
            "object_position": null,
            "object_fit": null,
            "grid_auto_columns": null,
            "margin": null,
            "display": null,
            "left": null
          }
        },
        "c6021cf8d186465a959b21075f0cbada": {
          "model_module": "@jupyter-widgets/controls",
          "model_name": "HBoxModel",
          "model_module_version": "1.5.0",
          "state": {
            "_view_name": "HBoxView",
            "_dom_classes": [],
            "_model_name": "HBoxModel",
            "_view_module": "@jupyter-widgets/controls",
            "_model_module_version": "1.5.0",
            "_view_count": null,
            "_view_module_version": "1.5.0",
            "box_style": "",
            "layout": "IPY_MODEL_4e30ea8c9c1740409330c712bc760823",
            "_model_module": "@jupyter-widgets/controls",
            "children": [
              "IPY_MODEL_bfddbd25f131448da02ad4e92dabf840",
              "IPY_MODEL_a0bd4868ee36422a9f6d091d6de98ebc",
              "IPY_MODEL_f085d626d54d4dfd8239082eeb894679"
            ]
          }
        },
        "4e30ea8c9c1740409330c712bc760823": {
          "model_module": "@jupyter-widgets/base",
          "model_name": "LayoutModel",
          "model_module_version": "1.2.0",
          "state": {
            "_view_name": "LayoutView",
            "grid_template_rows": null,
            "right": null,
            "justify_content": null,
            "_view_module": "@jupyter-widgets/base",
            "overflow": null,
            "_model_module_version": "1.2.0",
            "_view_count": null,
            "flex_flow": null,
            "width": null,
            "min_width": null,
            "border": null,
            "align_items": null,
            "bottom": null,
            "_model_module": "@jupyter-widgets/base",
            "top": null,
            "grid_column": null,
            "overflow_y": null,
            "overflow_x": null,
            "grid_auto_flow": null,
            "grid_area": null,
            "grid_template_columns": null,
            "flex": null,
            "_model_name": "LayoutModel",
            "justify_items": null,
            "grid_row": null,
            "max_height": null,
            "align_content": null,
            "visibility": null,
            "align_self": null,
            "height": null,
            "min_height": null,
            "padding": null,
            "grid_auto_rows": null,
            "grid_gap": null,
            "max_width": null,
            "order": null,
            "_view_module_version": "1.2.0",
            "grid_template_areas": null,
            "object_position": null,
            "object_fit": null,
            "grid_auto_columns": null,
            "margin": null,
            "display": null,
            "left": null
          }
        },
        "bfddbd25f131448da02ad4e92dabf840": {
          "model_module": "@jupyter-widgets/controls",
          "model_name": "HTMLModel",
          "model_module_version": "1.5.0",
          "state": {
            "_view_name": "HTMLView",
            "style": "IPY_MODEL_7a2839ebf68d439bbc3f05c155285dc6",
            "_dom_classes": [],
            "description": "",
            "_model_name": "HTMLModel",
            "placeholder": "​",
            "_view_module": "@jupyter-widgets/controls",
            "_model_module_version": "1.5.0",
            "value": "Downloading: 100%",
            "_view_count": null,
            "_view_module_version": "1.5.0",
            "description_tooltip": null,
            "_model_module": "@jupyter-widgets/controls",
            "layout": "IPY_MODEL_1434924827c640508a28dca70c892ca8"
          }
        },
        "a0bd4868ee36422a9f6d091d6de98ebc": {
          "model_module": "@jupyter-widgets/controls",
          "model_name": "FloatProgressModel",
          "model_module_version": "1.5.0",
          "state": {
            "_view_name": "ProgressView",
            "style": "IPY_MODEL_6e47e08e1af1492f9b1f4ec27b482ee1",
            "_dom_classes": [],
            "description": "",
            "_model_name": "FloatProgressModel",
            "bar_style": "success",
            "max": 5069051,
            "_view_module": "@jupyter-widgets/controls",
            "_model_module_version": "1.5.0",
            "value": 5069051,
            "_view_count": null,
            "_view_module_version": "1.5.0",
            "orientation": "horizontal",
            "min": 0,
            "description_tooltip": null,
            "_model_module": "@jupyter-widgets/controls",
            "layout": "IPY_MODEL_be1160130df4464ea39bdf54a1cf3c0c"
          }
        },
        "f085d626d54d4dfd8239082eeb894679": {
          "model_module": "@jupyter-widgets/controls",
          "model_name": "HTMLModel",
          "model_module_version": "1.5.0",
          "state": {
            "_view_name": "HTMLView",
            "style": "IPY_MODEL_587eaa15230d432ebe79267c2f5ad623",
            "_dom_classes": [],
            "description": "",
            "_model_name": "HTMLModel",
            "placeholder": "​",
            "_view_module": "@jupyter-widgets/controls",
            "_model_module_version": "1.5.0",
            "value": " 4.83M/4.83M [00:00&lt;00:00, 22.1MB/s]",
            "_view_count": null,
            "_view_module_version": "1.5.0",
            "description_tooltip": null,
            "_model_module": "@jupyter-widgets/controls",
            "layout": "IPY_MODEL_09b9328b196f44ac9611c590647d1aaa"
          }
        },
        "7a2839ebf68d439bbc3f05c155285dc6": {
          "model_module": "@jupyter-widgets/controls",
          "model_name": "DescriptionStyleModel",
          "model_module_version": "1.5.0",
          "state": {
            "_view_name": "StyleView",
            "_model_name": "DescriptionStyleModel",
            "description_width": "",
            "_view_module": "@jupyter-widgets/base",
            "_model_module_version": "1.5.0",
            "_view_count": null,
            "_view_module_version": "1.2.0",
            "_model_module": "@jupyter-widgets/controls"
          }
        },
        "1434924827c640508a28dca70c892ca8": {
          "model_module": "@jupyter-widgets/base",
          "model_name": "LayoutModel",
          "model_module_version": "1.2.0",
          "state": {
            "_view_name": "LayoutView",
            "grid_template_rows": null,
            "right": null,
            "justify_content": null,
            "_view_module": "@jupyter-widgets/base",
            "overflow": null,
            "_model_module_version": "1.2.0",
            "_view_count": null,
            "flex_flow": null,
            "width": null,
            "min_width": null,
            "border": null,
            "align_items": null,
            "bottom": null,
            "_model_module": "@jupyter-widgets/base",
            "top": null,
            "grid_column": null,
            "overflow_y": null,
            "overflow_x": null,
            "grid_auto_flow": null,
            "grid_area": null,
            "grid_template_columns": null,
            "flex": null,
            "_model_name": "LayoutModel",
            "justify_items": null,
            "grid_row": null,
            "max_height": null,
            "align_content": null,
            "visibility": null,
            "align_self": null,
            "height": null,
            "min_height": null,
            "padding": null,
            "grid_auto_rows": null,
            "grid_gap": null,
            "max_width": null,
            "order": null,
            "_view_module_version": "1.2.0",
            "grid_template_areas": null,
            "object_position": null,
            "object_fit": null,
            "grid_auto_columns": null,
            "margin": null,
            "display": null,
            "left": null
          }
        },
        "6e47e08e1af1492f9b1f4ec27b482ee1": {
          "model_module": "@jupyter-widgets/controls",
          "model_name": "ProgressStyleModel",
          "model_module_version": "1.5.0",
          "state": {
            "_view_name": "StyleView",
            "_model_name": "ProgressStyleModel",
            "description_width": "",
            "_view_module": "@jupyter-widgets/base",
            "_model_module_version": "1.5.0",
            "_view_count": null,
            "_view_module_version": "1.2.0",
            "bar_color": null,
            "_model_module": "@jupyter-widgets/controls"
          }
        },
        "be1160130df4464ea39bdf54a1cf3c0c": {
          "model_module": "@jupyter-widgets/base",
          "model_name": "LayoutModel",
          "model_module_version": "1.2.0",
          "state": {
            "_view_name": "LayoutView",
            "grid_template_rows": null,
            "right": null,
            "justify_content": null,
            "_view_module": "@jupyter-widgets/base",
            "overflow": null,
            "_model_module_version": "1.2.0",
            "_view_count": null,
            "flex_flow": null,
            "width": null,
            "min_width": null,
            "border": null,
            "align_items": null,
            "bottom": null,
            "_model_module": "@jupyter-widgets/base",
            "top": null,
            "grid_column": null,
            "overflow_y": null,
            "overflow_x": null,
            "grid_auto_flow": null,
            "grid_area": null,
            "grid_template_columns": null,
            "flex": null,
            "_model_name": "LayoutModel",
            "justify_items": null,
            "grid_row": null,
            "max_height": null,
            "align_content": null,
            "visibility": null,
            "align_self": null,
            "height": null,
            "min_height": null,
            "padding": null,
            "grid_auto_rows": null,
            "grid_gap": null,
            "max_width": null,
            "order": null,
            "_view_module_version": "1.2.0",
            "grid_template_areas": null,
            "object_position": null,
            "object_fit": null,
            "grid_auto_columns": null,
            "margin": null,
            "display": null,
            "left": null
          }
        },
        "587eaa15230d432ebe79267c2f5ad623": {
          "model_module": "@jupyter-widgets/controls",
          "model_name": "DescriptionStyleModel",
          "model_module_version": "1.5.0",
          "state": {
            "_view_name": "StyleView",
            "_model_name": "DescriptionStyleModel",
            "description_width": "",
            "_view_module": "@jupyter-widgets/base",
            "_model_module_version": "1.5.0",
            "_view_count": null,
            "_view_module_version": "1.2.0",
            "_model_module": "@jupyter-widgets/controls"
          }
        },
        "09b9328b196f44ac9611c590647d1aaa": {
          "model_module": "@jupyter-widgets/base",
          "model_name": "LayoutModel",
          "model_module_version": "1.2.0",
          "state": {
            "_view_name": "LayoutView",
            "grid_template_rows": null,
            "right": null,
            "justify_content": null,
            "_view_module": "@jupyter-widgets/base",
            "overflow": null,
            "_model_module_version": "1.2.0",
            "_view_count": null,
            "flex_flow": null,
            "width": null,
            "min_width": null,
            "border": null,
            "align_items": null,
            "bottom": null,
            "_model_module": "@jupyter-widgets/base",
            "top": null,
            "grid_column": null,
            "overflow_y": null,
            "overflow_x": null,
            "grid_auto_flow": null,
            "grid_area": null,
            "grid_template_columns": null,
            "flex": null,
            "_model_name": "LayoutModel",
            "justify_items": null,
            "grid_row": null,
            "max_height": null,
            "align_content": null,
            "visibility": null,
            "align_self": null,
            "height": null,
            "min_height": null,
            "padding": null,
            "grid_auto_rows": null,
            "grid_gap": null,
            "max_width": null,
            "order": null,
            "_view_module_version": "1.2.0",
            "grid_template_areas": null,
            "object_position": null,
            "object_fit": null,
            "grid_auto_columns": null,
            "margin": null,
            "display": null,
            "left": null
          }
        },
        "ddca01cae0fd49a09ca8aa01847f0a5d": {
          "model_module": "@jupyter-widgets/controls",
          "model_name": "HBoxModel",
          "model_module_version": "1.5.0",
          "state": {
            "_view_name": "HBoxView",
            "_dom_classes": [],
            "_model_name": "HBoxModel",
            "_view_module": "@jupyter-widgets/controls",
            "_model_module_version": "1.5.0",
            "_view_count": null,
            "_view_module_version": "1.5.0",
            "box_style": "",
            "layout": "IPY_MODEL_4f23cf1c1d5549378b8abcd8d6d63ee3",
            "_model_module": "@jupyter-widgets/controls",
            "children": [
              "IPY_MODEL_e78eab9b06034de2aef82f2672e07c50",
              "IPY_MODEL_8280d792e52643929312af991a3d8c1f",
              "IPY_MODEL_6b4c869c1ea548058f0e3e3c8256d9f8"
            ]
          }
        },
        "4f23cf1c1d5549378b8abcd8d6d63ee3": {
          "model_module": "@jupyter-widgets/base",
          "model_name": "LayoutModel",
          "model_module_version": "1.2.0",
          "state": {
            "_view_name": "LayoutView",
            "grid_template_rows": null,
            "right": null,
            "justify_content": null,
            "_view_module": "@jupyter-widgets/base",
            "overflow": null,
            "_model_module_version": "1.2.0",
            "_view_count": null,
            "flex_flow": null,
            "width": null,
            "min_width": null,
            "border": null,
            "align_items": null,
            "bottom": null,
            "_model_module": "@jupyter-widgets/base",
            "top": null,
            "grid_column": null,
            "overflow_y": null,
            "overflow_x": null,
            "grid_auto_flow": null,
            "grid_area": null,
            "grid_template_columns": null,
            "flex": null,
            "_model_name": "LayoutModel",
            "justify_items": null,
            "grid_row": null,
            "max_height": null,
            "align_content": null,
            "visibility": null,
            "align_self": null,
            "height": null,
            "min_height": null,
            "padding": null,
            "grid_auto_rows": null,
            "grid_gap": null,
            "max_width": null,
            "order": null,
            "_view_module_version": "1.2.0",
            "grid_template_areas": null,
            "object_position": null,
            "object_fit": null,
            "grid_auto_columns": null,
            "margin": null,
            "display": null,
            "left": null
          }
        },
        "e78eab9b06034de2aef82f2672e07c50": {
          "model_module": "@jupyter-widgets/controls",
          "model_name": "HTMLModel",
          "model_module_version": "1.5.0",
          "state": {
            "_view_name": "HTMLView",
            "style": "IPY_MODEL_52642a542311486e9ee49a183aea1d96",
            "_dom_classes": [],
            "description": "",
            "_model_name": "HTMLModel",
            "placeholder": "​",
            "_view_module": "@jupyter-widgets/controls",
            "_model_module_version": "1.5.0",
            "value": "Downloading: 100%",
            "_view_count": null,
            "_view_module_version": "1.5.0",
            "description_tooltip": null,
            "_model_module": "@jupyter-widgets/controls",
            "layout": "IPY_MODEL_d7bc2f8058064a15beff184d9c985dfc"
          }
        },
        "8280d792e52643929312af991a3d8c1f": {
          "model_module": "@jupyter-widgets/controls",
          "model_name": "FloatProgressModel",
          "model_module_version": "1.5.0",
          "state": {
            "_view_name": "ProgressView",
            "style": "IPY_MODEL_10a4b1d523264dc98390c2c52905babe",
            "_dom_classes": [],
            "description": "",
            "_model_name": "FloatProgressModel",
            "bar_style": "success",
            "max": 406,
            "_view_module": "@jupyter-widgets/controls",
            "_model_module_version": "1.5.0",
            "value": 406,
            "_view_count": null,
            "_view_module_version": "1.5.0",
            "orientation": "horizontal",
            "min": 0,
            "description_tooltip": null,
            "_model_module": "@jupyter-widgets/controls",
            "layout": "IPY_MODEL_bea87e6e973e4a71a9e1c9ae0ea62e4f"
          }
        },
        "6b4c869c1ea548058f0e3e3c8256d9f8": {
          "model_module": "@jupyter-widgets/controls",
          "model_name": "HTMLModel",
          "model_module_version": "1.5.0",
          "state": {
            "_view_name": "HTMLView",
            "style": "IPY_MODEL_fa06d2082f7a432fb4fbf4fb4e4b597c",
            "_dom_classes": [],
            "description": "",
            "_model_name": "HTMLModel",
            "placeholder": "​",
            "_view_module": "@jupyter-widgets/controls",
            "_model_module_version": "1.5.0",
            "value": " 406/406 [00:00&lt;00:00, 10.4kB/s]",
            "_view_count": null,
            "_view_module_version": "1.5.0",
            "description_tooltip": null,
            "_model_module": "@jupyter-widgets/controls",
            "layout": "IPY_MODEL_b14c91de938047908880efd7afe985e8"
          }
        },
        "52642a542311486e9ee49a183aea1d96": {
          "model_module": "@jupyter-widgets/controls",
          "model_name": "DescriptionStyleModel",
          "model_module_version": "1.5.0",
          "state": {
            "_view_name": "StyleView",
            "_model_name": "DescriptionStyleModel",
            "description_width": "",
            "_view_module": "@jupyter-widgets/base",
            "_model_module_version": "1.5.0",
            "_view_count": null,
            "_view_module_version": "1.2.0",
            "_model_module": "@jupyter-widgets/controls"
          }
        },
        "d7bc2f8058064a15beff184d9c985dfc": {
          "model_module": "@jupyter-widgets/base",
          "model_name": "LayoutModel",
          "model_module_version": "1.2.0",
          "state": {
            "_view_name": "LayoutView",
            "grid_template_rows": null,
            "right": null,
            "justify_content": null,
            "_view_module": "@jupyter-widgets/base",
            "overflow": null,
            "_model_module_version": "1.2.0",
            "_view_count": null,
            "flex_flow": null,
            "width": null,
            "min_width": null,
            "border": null,
            "align_items": null,
            "bottom": null,
            "_model_module": "@jupyter-widgets/base",
            "top": null,
            "grid_column": null,
            "overflow_y": null,
            "overflow_x": null,
            "grid_auto_flow": null,
            "grid_area": null,
            "grid_template_columns": null,
            "flex": null,
            "_model_name": "LayoutModel",
            "justify_items": null,
            "grid_row": null,
            "max_height": null,
            "align_content": null,
            "visibility": null,
            "align_self": null,
            "height": null,
            "min_height": null,
            "padding": null,
            "grid_auto_rows": null,
            "grid_gap": null,
            "max_width": null,
            "order": null,
            "_view_module_version": "1.2.0",
            "grid_template_areas": null,
            "object_position": null,
            "object_fit": null,
            "grid_auto_columns": null,
            "margin": null,
            "display": null,
            "left": null
          }
        },
        "10a4b1d523264dc98390c2c52905babe": {
          "model_module": "@jupyter-widgets/controls",
          "model_name": "ProgressStyleModel",
          "model_module_version": "1.5.0",
          "state": {
            "_view_name": "StyleView",
            "_model_name": "ProgressStyleModel",
            "description_width": "",
            "_view_module": "@jupyter-widgets/base",
            "_model_module_version": "1.5.0",
            "_view_count": null,
            "_view_module_version": "1.2.0",
            "bar_color": null,
            "_model_module": "@jupyter-widgets/controls"
          }
        },
        "bea87e6e973e4a71a9e1c9ae0ea62e4f": {
          "model_module": "@jupyter-widgets/base",
          "model_name": "LayoutModel",
          "model_module_version": "1.2.0",
          "state": {
            "_view_name": "LayoutView",
            "grid_template_rows": null,
            "right": null,
            "justify_content": null,
            "_view_module": "@jupyter-widgets/base",
            "overflow": null,
            "_model_module_version": "1.2.0",
            "_view_count": null,
            "flex_flow": null,
            "width": null,
            "min_width": null,
            "border": null,
            "align_items": null,
            "bottom": null,
            "_model_module": "@jupyter-widgets/base",
            "top": null,
            "grid_column": null,
            "overflow_y": null,
            "overflow_x": null,
            "grid_auto_flow": null,
            "grid_area": null,
            "grid_template_columns": null,
            "flex": null,
            "_model_name": "LayoutModel",
            "justify_items": null,
            "grid_row": null,
            "max_height": null,
            "align_content": null,
            "visibility": null,
            "align_self": null,
            "height": null,
            "min_height": null,
            "padding": null,
            "grid_auto_rows": null,
            "grid_gap": null,
            "max_width": null,
            "order": null,
            "_view_module_version": "1.2.0",
            "grid_template_areas": null,
            "object_position": null,
            "object_fit": null,
            "grid_auto_columns": null,
            "margin": null,
            "display": null,
            "left": null
          }
        },
        "fa06d2082f7a432fb4fbf4fb4e4b597c": {
          "model_module": "@jupyter-widgets/controls",
          "model_name": "DescriptionStyleModel",
          "model_module_version": "1.5.0",
          "state": {
            "_view_name": "StyleView",
            "_model_name": "DescriptionStyleModel",
            "description_width": "",
            "_view_module": "@jupyter-widgets/base",
            "_model_module_version": "1.5.0",
            "_view_count": null,
            "_view_module_version": "1.2.0",
            "_model_module": "@jupyter-widgets/controls"
          }
        },
        "b14c91de938047908880efd7afe985e8": {
          "model_module": "@jupyter-widgets/base",
          "model_name": "LayoutModel",
          "model_module_version": "1.2.0",
          "state": {
            "_view_name": "LayoutView",
            "grid_template_rows": null,
            "right": null,
            "justify_content": null,
            "_view_module": "@jupyter-widgets/base",
            "overflow": null,
            "_model_module_version": "1.2.0",
            "_view_count": null,
            "flex_flow": null,
            "width": null,
            "min_width": null,
            "border": null,
            "align_items": null,
            "bottom": null,
            "_model_module": "@jupyter-widgets/base",
            "top": null,
            "grid_column": null,
            "overflow_y": null,
            "overflow_x": null,
            "grid_auto_flow": null,
            "grid_area": null,
            "grid_template_columns": null,
            "flex": null,
            "_model_name": "LayoutModel",
            "justify_items": null,
            "grid_row": null,
            "max_height": null,
            "align_content": null,
            "visibility": null,
            "align_self": null,
            "height": null,
            "min_height": null,
            "padding": null,
            "grid_auto_rows": null,
            "grid_gap": null,
            "max_width": null,
            "order": null,
            "_view_module_version": "1.2.0",
            "grid_template_areas": null,
            "object_position": null,
            "object_fit": null,
            "grid_auto_columns": null,
            "margin": null,
            "display": null,
            "left": null
          }
        },
        "cfcabd88893e4c1b9d9fc52f1947e58c": {
          "model_module": "@jupyter-widgets/controls",
          "model_name": "HBoxModel",
          "model_module_version": "1.5.0",
          "state": {
            "_view_name": "HBoxView",
            "_dom_classes": [],
            "_model_name": "HBoxModel",
            "_view_module": "@jupyter-widgets/controls",
            "_model_module_version": "1.5.0",
            "_view_count": null,
            "_view_module_version": "1.5.0",
            "box_style": "",
            "layout": "IPY_MODEL_afc09bffa7414313aeef3df9924dbe7a",
            "_model_module": "@jupyter-widgets/controls",
            "children": [
              "IPY_MODEL_aa498d741cf746f392a201b5d9ce0c0d",
              "IPY_MODEL_e5213b5c783849f9bc8a1bc8a6d77ae4",
              "IPY_MODEL_0c14458f719d4b0294786f07fb0f1c82"
            ]
          }
        },
        "afc09bffa7414313aeef3df9924dbe7a": {
          "model_module": "@jupyter-widgets/base",
          "model_name": "LayoutModel",
          "model_module_version": "1.2.0",
          "state": {
            "_view_name": "LayoutView",
            "grid_template_rows": null,
            "right": null,
            "justify_content": null,
            "_view_module": "@jupyter-widgets/base",
            "overflow": null,
            "_model_module_version": "1.2.0",
            "_view_count": null,
            "flex_flow": null,
            "width": null,
            "min_width": null,
            "border": null,
            "align_items": null,
            "bottom": null,
            "_model_module": "@jupyter-widgets/base",
            "top": null,
            "grid_column": null,
            "overflow_y": null,
            "overflow_x": null,
            "grid_auto_flow": null,
            "grid_area": null,
            "grid_template_columns": null,
            "flex": null,
            "_model_name": "LayoutModel",
            "justify_items": null,
            "grid_row": null,
            "max_height": null,
            "align_content": null,
            "visibility": null,
            "align_self": null,
            "height": null,
            "min_height": null,
            "padding": null,
            "grid_auto_rows": null,
            "grid_gap": null,
            "max_width": null,
            "order": null,
            "_view_module_version": "1.2.0",
            "grid_template_areas": null,
            "object_position": null,
            "object_fit": null,
            "grid_auto_columns": null,
            "margin": null,
            "display": null,
            "left": null
          }
        },
        "aa498d741cf746f392a201b5d9ce0c0d": {
          "model_module": "@jupyter-widgets/controls",
          "model_name": "HTMLModel",
          "model_module_version": "1.5.0",
          "state": {
            "_view_name": "HTMLView",
            "style": "IPY_MODEL_ba4aebcb73f748e2b40c8efc50bdd402",
            "_dom_classes": [],
            "description": "",
            "_model_name": "HTMLModel",
            "placeholder": "​",
            "_view_module": "@jupyter-widgets/controls",
            "_model_module_version": "1.5.0",
            "value": "100%",
            "_view_count": null,
            "_view_module_version": "1.5.0",
            "description_tooltip": null,
            "_model_module": "@jupyter-widgets/controls",
            "layout": "IPY_MODEL_8de5ea58fec74cc5a7b29e477c9caafd"
          }
        },
        "e5213b5c783849f9bc8a1bc8a6d77ae4": {
          "model_module": "@jupyter-widgets/controls",
          "model_name": "FloatProgressModel",
          "model_module_version": "1.5.0",
          "state": {
            "_view_name": "ProgressView",
            "style": "IPY_MODEL_52cea592d83f4c0e9b13966354fb5f26",
            "_dom_classes": [],
            "description": "",
            "_model_name": "FloatProgressModel",
            "bar_style": "success",
            "max": 300,
            "_view_module": "@jupyter-widgets/controls",
            "_model_module_version": "1.5.0",
            "value": 300,
            "_view_count": null,
            "_view_module_version": "1.5.0",
            "orientation": "horizontal",
            "min": 0,
            "description_tooltip": null,
            "_model_module": "@jupyter-widgets/controls",
            "layout": "IPY_MODEL_90ef84b8dc734732a38c8e4d2cedb95c"
          }
        },
        "0c14458f719d4b0294786f07fb0f1c82": {
          "model_module": "@jupyter-widgets/controls",
          "model_name": "HTMLModel",
          "model_module_version": "1.5.0",
          "state": {
            "_view_name": "HTMLView",
            "style": "IPY_MODEL_65ed8a930f0c44519d5b43869dca6fb1",
            "_dom_classes": [],
            "description": "",
            "_model_name": "HTMLModel",
            "placeholder": "​",
            "_view_module": "@jupyter-widgets/controls",
            "_model_module_version": "1.5.0",
            "value": " 300/300 [00:05&lt;00:00, 45.56it/s]",
            "_view_count": null,
            "_view_module_version": "1.5.0",
            "description_tooltip": null,
            "_model_module": "@jupyter-widgets/controls",
            "layout": "IPY_MODEL_336c6cbdbd3842778da81dd427e8ba4b"
          }
        },
        "ba4aebcb73f748e2b40c8efc50bdd402": {
          "model_module": "@jupyter-widgets/controls",
          "model_name": "DescriptionStyleModel",
          "model_module_version": "1.5.0",
          "state": {
            "_view_name": "StyleView",
            "_model_name": "DescriptionStyleModel",
            "description_width": "",
            "_view_module": "@jupyter-widgets/base",
            "_model_module_version": "1.5.0",
            "_view_count": null,
            "_view_module_version": "1.2.0",
            "_model_module": "@jupyter-widgets/controls"
          }
        },
        "8de5ea58fec74cc5a7b29e477c9caafd": {
          "model_module": "@jupyter-widgets/base",
          "model_name": "LayoutModel",
          "model_module_version": "1.2.0",
          "state": {
            "_view_name": "LayoutView",
            "grid_template_rows": null,
            "right": null,
            "justify_content": null,
            "_view_module": "@jupyter-widgets/base",
            "overflow": null,
            "_model_module_version": "1.2.0",
            "_view_count": null,
            "flex_flow": null,
            "width": null,
            "min_width": null,
            "border": null,
            "align_items": null,
            "bottom": null,
            "_model_module": "@jupyter-widgets/base",
            "top": null,
            "grid_column": null,
            "overflow_y": null,
            "overflow_x": null,
            "grid_auto_flow": null,
            "grid_area": null,
            "grid_template_columns": null,
            "flex": null,
            "_model_name": "LayoutModel",
            "justify_items": null,
            "grid_row": null,
            "max_height": null,
            "align_content": null,
            "visibility": null,
            "align_self": null,
            "height": null,
            "min_height": null,
            "padding": null,
            "grid_auto_rows": null,
            "grid_gap": null,
            "max_width": null,
            "order": null,
            "_view_module_version": "1.2.0",
            "grid_template_areas": null,
            "object_position": null,
            "object_fit": null,
            "grid_auto_columns": null,
            "margin": null,
            "display": null,
            "left": null
          }
        },
        "52cea592d83f4c0e9b13966354fb5f26": {
          "model_module": "@jupyter-widgets/controls",
          "model_name": "ProgressStyleModel",
          "model_module_version": "1.5.0",
          "state": {
            "_view_name": "StyleView",
            "_model_name": "ProgressStyleModel",
            "description_width": "",
            "_view_module": "@jupyter-widgets/base",
            "_model_module_version": "1.5.0",
            "_view_count": null,
            "_view_module_version": "1.2.0",
            "bar_color": null,
            "_model_module": "@jupyter-widgets/controls"
          }
        },
        "90ef84b8dc734732a38c8e4d2cedb95c": {
          "model_module": "@jupyter-widgets/base",
          "model_name": "LayoutModel",
          "model_module_version": "1.2.0",
          "state": {
            "_view_name": "LayoutView",
            "grid_template_rows": null,
            "right": null,
            "justify_content": null,
            "_view_module": "@jupyter-widgets/base",
            "overflow": null,
            "_model_module_version": "1.2.0",
            "_view_count": null,
            "flex_flow": null,
            "width": null,
            "min_width": null,
            "border": null,
            "align_items": null,
            "bottom": null,
            "_model_module": "@jupyter-widgets/base",
            "top": null,
            "grid_column": null,
            "overflow_y": null,
            "overflow_x": null,
            "grid_auto_flow": null,
            "grid_area": null,
            "grid_template_columns": null,
            "flex": null,
            "_model_name": "LayoutModel",
            "justify_items": null,
            "grid_row": null,
            "max_height": null,
            "align_content": null,
            "visibility": null,
            "align_self": null,
            "height": null,
            "min_height": null,
            "padding": null,
            "grid_auto_rows": null,
            "grid_gap": null,
            "max_width": null,
            "order": null,
            "_view_module_version": "1.2.0",
            "grid_template_areas": null,
            "object_position": null,
            "object_fit": null,
            "grid_auto_columns": null,
            "margin": null,
            "display": null,
            "left": null
          }
        },
        "65ed8a930f0c44519d5b43869dca6fb1": {
          "model_module": "@jupyter-widgets/controls",
          "model_name": "DescriptionStyleModel",
          "model_module_version": "1.5.0",
          "state": {
            "_view_name": "StyleView",
            "_model_name": "DescriptionStyleModel",
            "description_width": "",
            "_view_module": "@jupyter-widgets/base",
            "_model_module_version": "1.5.0",
            "_view_count": null,
            "_view_module_version": "1.2.0",
            "_model_module": "@jupyter-widgets/controls"
          }
        },
        "336c6cbdbd3842778da81dd427e8ba4b": {
          "model_module": "@jupyter-widgets/base",
          "model_name": "LayoutModel",
          "model_module_version": "1.2.0",
          "state": {
            "_view_name": "LayoutView",
            "grid_template_rows": null,
            "right": null,
            "justify_content": null,
            "_view_module": "@jupyter-widgets/base",
            "overflow": null,
            "_model_module_version": "1.2.0",
            "_view_count": null,
            "flex_flow": null,
            "width": null,
            "min_width": null,
            "border": null,
            "align_items": null,
            "bottom": null,
            "_model_module": "@jupyter-widgets/base",
            "top": null,
            "grid_column": null,
            "overflow_y": null,
            "overflow_x": null,
            "grid_auto_flow": null,
            "grid_area": null,
            "grid_template_columns": null,
            "flex": null,
            "_model_name": "LayoutModel",
            "justify_items": null,
            "grid_row": null,
            "max_height": null,
            "align_content": null,
            "visibility": null,
            "align_self": null,
            "height": null,
            "min_height": null,
            "padding": null,
            "grid_auto_rows": null,
            "grid_gap": null,
            "max_width": null,
            "order": null,
            "_view_module_version": "1.2.0",
            "grid_template_areas": null,
            "object_position": null,
            "object_fit": null,
            "grid_auto_columns": null,
            "margin": null,
            "display": null,
            "left": null
          }
        }
      }
    }
  },
  "cells": [
    {
      "cell_type": "markdown",
      "metadata": {
        "id": "MK9l051hHlwC"
      },
      "source": [
        "# Суммаризация\n"
      ]
    },
    {
      "cell_type": "markdown",
      "metadata": {
        "id": "HYloGff-Hqrc"
      },
      "source": [
        "На этом занятии мы познакомимся с задачей суммаризации текстов на естественном языке.\n",
        "\n",
        "Задача суммаризации заключается в том, чтобы из исходного текста получить более короткий текст, который будет содержать в себе всю (или почти всю) информацию, которая была в исходном тексте. То есть по тексту нужно получить его краткое содержание так, чтобы потерять как можно меньше информации."
      ]
    },
    {
      "cell_type": "markdown",
      "metadata": {
        "id": "XJjLBWYSHzM8"
      },
      "source": [
        "Методы решения этой задачи обычно делят на две категории:\n",
        "- Extractive Summarization $-$ алгоритмы, основанные на выделении наиболее информативных частей исходного текста (предложения, абзацы и т.д.) и составлении краткого содержания из них.\n",
        "- Abstractive Summarization $-$ алгоритмы, генерирующие новый текст на основе исходного. "
      ]
    },
    {
      "cell_type": "markdown",
      "metadata": {
        "id": "mYfJhiDhXHuK"
      },
      "source": [
        "# Абстрактивная суммаризация"
      ]
    },
    {
      "cell_type": "markdown",
      "metadata": {
        "id": "J3Cs6ntJcRTf"
      },
      "source": [
        "Source: https://github.com/huggingface/notebooks/blob/master/examples/summarization.ipynb"
      ]
    },
    {
      "cell_type": "markdown",
      "metadata": {
        "id": "X4cRE8IbIrIV"
      },
      "source": [
        "If you're opening this Notebook on colab, you will probably need to install 🤗 Transformers and 🤗 Datasets as well as other dependencies. Uncomment the following cell and run it."
      ]
    },
    {
      "cell_type": "code",
      "metadata": {
        "id": "MOsHUjgdIrIW",
        "colab": {
          "base_uri": "https://localhost:8080/",
          "height": 1000
        },
        "outputId": "4efb6b47-99d9-454f-8ceb-db6385681edb"
      },
      "source": [
        "! pip install datasets transformers rouge-score nltk"
      ],
      "execution_count": null,
      "outputs": [
        {
          "output_type": "stream",
          "name": "stdout",
          "text": [
            "Requirement already satisfied: datasets in /usr/local/lib/python3.7/dist-packages (1.15.1)\n",
            "Collecting transformers\n",
            "  Downloading transformers-4.12.5-py3-none-any.whl (3.1 MB)\n",
            "\u001b[K     |████████████████████████████████| 3.1 MB 7.5 MB/s \n",
            "\u001b[?25hRequirement already satisfied: rouge-score in /usr/local/lib/python3.7/dist-packages (0.0.4)\n",
            "Requirement already satisfied: nltk in /usr/local/lib/python3.7/dist-packages (3.6.5)\n",
            "Requirement already satisfied: fsspec[http]>=2021.05.0 in /usr/local/lib/python3.7/dist-packages (from datasets) (2021.11.0)\n",
            "Requirement already satisfied: packaging in /usr/local/lib/python3.7/dist-packages (from datasets) (21.2)\n",
            "Requirement already satisfied: numpy>=1.17 in /usr/local/lib/python3.7/dist-packages (from datasets) (1.19.5)\n",
            "Requirement already satisfied: requests>=2.19.0 in /usr/local/lib/python3.7/dist-packages (from datasets) (2.23.0)\n",
            "Requirement already satisfied: multiprocess in /usr/local/lib/python3.7/dist-packages (from datasets) (0.70.12.2)\n",
            "Requirement already satisfied: huggingface-hub<1.0.0,>=0.1.0 in /usr/local/lib/python3.7/dist-packages (from datasets) (0.1.2)\n",
            "Requirement already satisfied: importlib-metadata in /usr/local/lib/python3.7/dist-packages (from datasets) (4.8.2)\n",
            "Requirement already satisfied: aiohttp in /usr/local/lib/python3.7/dist-packages (from datasets) (3.8.1)\n",
            "Requirement already satisfied: pandas in /usr/local/lib/python3.7/dist-packages (from datasets) (1.1.5)\n",
            "Requirement already satisfied: dill in /usr/local/lib/python3.7/dist-packages (from datasets) (0.3.4)\n",
            "Requirement already satisfied: xxhash in /usr/local/lib/python3.7/dist-packages (from datasets) (2.0.2)\n",
            "Requirement already satisfied: pyarrow!=4.0.0,>=1.0.0 in /usr/local/lib/python3.7/dist-packages (from datasets) (3.0.0)\n",
            "Requirement already satisfied: tqdm>=4.62.1 in /usr/local/lib/python3.7/dist-packages (from datasets) (4.62.3)\n",
            "Requirement already satisfied: pyyaml in /usr/local/lib/python3.7/dist-packages (from huggingface-hub<1.0.0,>=0.1.0->datasets) (3.13)\n",
            "Requirement already satisfied: filelock in /usr/local/lib/python3.7/dist-packages (from huggingface-hub<1.0.0,>=0.1.0->datasets) (3.3.2)\n",
            "Requirement already satisfied: typing-extensions>=3.7.4.3 in /usr/local/lib/python3.7/dist-packages (from huggingface-hub<1.0.0,>=0.1.0->datasets) (3.10.0.2)\n",
            "Requirement already satisfied: pyparsing<3,>=2.0.2 in /usr/local/lib/python3.7/dist-packages (from packaging->datasets) (2.4.7)\n",
            "Requirement already satisfied: chardet<4,>=3.0.2 in /usr/local/lib/python3.7/dist-packages (from requests>=2.19.0->datasets) (3.0.4)\n",
            "Requirement already satisfied: idna<3,>=2.5 in /usr/local/lib/python3.7/dist-packages (from requests>=2.19.0->datasets) (2.10)\n",
            "Requirement already satisfied: certifi>=2017.4.17 in /usr/local/lib/python3.7/dist-packages (from requests>=2.19.0->datasets) (2021.10.8)\n",
            "Requirement already satisfied: urllib3!=1.25.0,!=1.25.1,<1.26,>=1.21.1 in /usr/local/lib/python3.7/dist-packages (from requests>=2.19.0->datasets) (1.24.3)\n",
            "Collecting pyyaml\n",
            "  Downloading PyYAML-6.0-cp37-cp37m-manylinux_2_5_x86_64.manylinux1_x86_64.manylinux_2_12_x86_64.manylinux2010_x86_64.whl (596 kB)\n",
            "\u001b[K     |████████████████████████████████| 596 kB 40.6 MB/s \n",
            "\u001b[?25hCollecting tokenizers<0.11,>=0.10.1\n",
            "  Downloading tokenizers-0.10.3-cp37-cp37m-manylinux_2_5_x86_64.manylinux1_x86_64.manylinux_2_12_x86_64.manylinux2010_x86_64.whl (3.3 MB)\n",
            "\u001b[K     |████████████████████████████████| 3.3 MB 39.8 MB/s \n",
            "\u001b[?25hRequirement already satisfied: regex!=2019.12.17 in /usr/local/lib/python3.7/dist-packages (from transformers) (2021.11.10)\n",
            "Collecting sacremoses\n",
            "  Downloading sacremoses-0.0.46-py3-none-any.whl (895 kB)\n",
            "\u001b[K     |████████████████████████████████| 895 kB 20.3 MB/s \n",
            "\u001b[?25hRequirement already satisfied: absl-py in /usr/local/lib/python3.7/dist-packages (from rouge-score) (0.12.0)\n",
            "Requirement already satisfied: six>=1.14.0 in /usr/local/lib/python3.7/dist-packages (from rouge-score) (1.15.0)\n",
            "Requirement already satisfied: joblib in /usr/local/lib/python3.7/dist-packages (from nltk) (1.1.0)\n",
            "Requirement already satisfied: click in /usr/local/lib/python3.7/dist-packages (from nltk) (7.1.2)\n",
            "Requirement already satisfied: async-timeout<5.0,>=4.0.0a3 in /usr/local/lib/python3.7/dist-packages (from aiohttp->datasets) (4.0.1)\n",
            "Requirement already satisfied: asynctest==0.13.0 in /usr/local/lib/python3.7/dist-packages (from aiohttp->datasets) (0.13.0)\n",
            "Requirement already satisfied: aiosignal>=1.1.2 in /usr/local/lib/python3.7/dist-packages (from aiohttp->datasets) (1.2.0)\n",
            "Requirement already satisfied: frozenlist>=1.1.1 in /usr/local/lib/python3.7/dist-packages (from aiohttp->datasets) (1.2.0)\n",
            "Requirement already satisfied: attrs>=17.3.0 in /usr/local/lib/python3.7/dist-packages (from aiohttp->datasets) (21.2.0)\n",
            "Requirement already satisfied: multidict<7.0,>=4.5 in /usr/local/lib/python3.7/dist-packages (from aiohttp->datasets) (5.2.0)\n",
            "Requirement already satisfied: charset-normalizer<3.0,>=2.0 in /usr/local/lib/python3.7/dist-packages (from aiohttp->datasets) (2.0.7)\n",
            "Requirement already satisfied: yarl<2.0,>=1.0 in /usr/local/lib/python3.7/dist-packages (from aiohttp->datasets) (1.7.2)\n",
            "Requirement already satisfied: zipp>=0.5 in /usr/local/lib/python3.7/dist-packages (from importlib-metadata->datasets) (3.6.0)\n",
            "Requirement already satisfied: pytz>=2017.2 in /usr/local/lib/python3.7/dist-packages (from pandas->datasets) (2018.9)\n",
            "Requirement already satisfied: python-dateutil>=2.7.3 in /usr/local/lib/python3.7/dist-packages (from pandas->datasets) (2.8.2)\n",
            "Installing collected packages: pyyaml, tokenizers, sacremoses, transformers\n",
            "  Attempting uninstall: pyyaml\n",
            "    Found existing installation: PyYAML 3.13\n",
            "    Uninstalling PyYAML-3.13:\n",
            "      Successfully uninstalled PyYAML-3.13\n",
            "Successfully installed pyyaml-6.0 sacremoses-0.0.46 tokenizers-0.10.3 transformers-4.12.5\n"
          ]
        },
        {
          "output_type": "display_data",
          "data": {
            "application/vnd.colab-display-data+json": {
              "pip_warning": {
                "packages": [
                  "yaml"
                ]
              }
            }
          },
          "metadata": {}
        }
      ]
    },
    {
      "cell_type": "markdown",
      "metadata": {
        "id": "2mGH38ENaPlv"
      },
      "source": [
        "If you're opening this notebook locally, make sure your environment has an install from the last version of those libraries."
      ]
    },
    {
      "cell_type": "markdown",
      "metadata": {
        "id": "CHSjf36MaPly"
      },
      "source": [
        "Make sure your version of Transformers is at least 4.11.0 since the functionality was introduced in that version:"
      ]
    },
    {
      "cell_type": "code",
      "metadata": {
        "id": "1Gs8dYC3aPlz",
        "colab": {
          "base_uri": "https://localhost:8080/"
        },
        "outputId": "794d27fe-7bc4-43b3-fb2b-865d12c3e5e9"
      },
      "source": [
        "import transformers\n",
        "\n",
        "print(transformers.__version__)"
      ],
      "execution_count": null,
      "outputs": [
        {
          "output_type": "stream",
          "name": "stdout",
          "text": [
            "4.12.5\n"
          ]
        }
      ]
    },
    {
      "cell_type": "markdown",
      "metadata": {
        "id": "HFASsisvIrIb"
      },
      "source": [
        "You can find a script version of this notebook to fine-tune your model in a distributed fashion using multiple GPUs or TPUs [here](https://github.com/huggingface/transformers/tree/master/examples/seq2seq)."
      ]
    },
    {
      "cell_type": "markdown",
      "metadata": {
        "id": "rEJBSTyZIrIb"
      },
      "source": [
        "## Fine-tuning a model on a summarization task"
      ]
    },
    {
      "cell_type": "markdown",
      "metadata": {
        "id": "kTCFado4IrIc"
      },
      "source": [
        "In this notebook, we will see how to fine-tune one of the [🤗 Transformers](https://github.com/huggingface/transformers) model for a summarization task. We will use the [XSum dataset](https://arxiv.org/pdf/1808.08745.pdf) (for extreme summarization) which contains BBC articles accompanied with single-sentence summaries.\n",
        "\n",
        "![image.png](data:image/png;base64,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)![Widget inference on a summarization task](images/summarization.png)\n",
        "\n",
        "We will see how to easily load the dataset for this task using 🤗 Datasets and how to fine-tune a model on it using the `Trainer` API."
      ]
    },
    {
      "cell_type": "code",
      "metadata": {
        "id": "rwqPUHbraPl2"
      },
      "source": [
        "model_checkpoint = \"t5-small\""
      ],
      "execution_count": null,
      "outputs": []
    },
    {
      "cell_type": "markdown",
      "metadata": {
        "id": "4RRkXuteIrIh"
      },
      "source": [
        "This notebook is built to run  with any model checkpoint from the [Model Hub](https://huggingface.co/models) as long as that model has a sequence-to-sequence version in the Transformers library. Here we picked the [`t5-small`](https://huggingface.co/t5-small) checkpoint. "
      ]
    },
    {
      "cell_type": "markdown",
      "metadata": {
        "id": "whPRbBNbIrIl"
      },
      "source": [
        "## Loading the dataset"
      ]
    },
    {
      "cell_type": "markdown",
      "metadata": {
        "id": "W7QYTpxXIrIl"
      },
      "source": [
        "We will use the [🤗 Datasets](https://github.com/huggingface/datasets) library to download the data and get the metric we need to use for evaluation (to compare our model to the benchmark). This can be easily done with the functions `load_dataset` and `load_metric`.  "
      ]
    },
    {
      "cell_type": "code",
      "metadata": {
        "colab": {
          "base_uri": "https://localhost:8080/"
        },
        "id": "Ao9ecWD4_mHi",
        "outputId": "0779dd2f-6517-4476-fab8-58cee79b2eeb"
      },
      "source": [
        "!pip install -U nltk #for meteor metrics"
      ],
      "execution_count": null,
      "outputs": [
        {
          "output_type": "stream",
          "name": "stdout",
          "text": [
            "Requirement already satisfied: nltk in /usr/local/lib/python3.7/dist-packages (3.6.5)\n",
            "Requirement already satisfied: joblib in /usr/local/lib/python3.7/dist-packages (from nltk) (1.1.0)\n",
            "Requirement already satisfied: tqdm in /usr/local/lib/python3.7/dist-packages (from nltk) (4.62.3)\n",
            "Requirement already satisfied: click in /usr/local/lib/python3.7/dist-packages (from nltk) (7.1.2)\n",
            "Requirement already satisfied: regex>=2021.8.3 in /usr/local/lib/python3.7/dist-packages (from nltk) (2021.11.10)\n"
          ]
        }
      ]
    },
    {
      "cell_type": "code",
      "metadata": {
        "id": "IreSlFmlIrIm",
        "colab": {
          "base_uri": "https://localhost:8080/",
          "height": 150,
          "referenced_widgets": [
            "4df2db0b4c284223ae350df6aef4c6a3",
            "f35d88f11b124b2eb94d72ee2cb7ffc9",
            "69ca3484e4d741d4864003f024a822a4",
            "d4e509e4880d4d1f9a6e1fd0e17a6b5e",
            "c00ec2c931ae4371ba9cd9a765b2ba00",
            "9cbf4d9694f340bc9a0014f505c6bc8f",
            "7252378ea4ef42cbb8761513c2ef3546",
            "cc0f0ca5f8f34aa59b1ce48068ddc9d6",
            "4b2eca3f36d744e5a7800d867d69a15c",
            "932d930de17a44a3bf45123c88ad2e46",
            "ecf903704e6b47b5980d4b0b3036daef"
          ]
        },
        "outputId": "98d7518a-99e0-49ab-d030-52563117a974"
      },
      "source": [
        "from datasets import load_dataset, load_metric\n",
        "\n",
        "raw_datasets = load_dataset(\"xsum\")\n",
        "rouge_metric = load_metric(\"rouge\")\n",
        "meteor_metric = load_metric(\"meteor\")"
      ],
      "execution_count": null,
      "outputs": [
        {
          "output_type": "stream",
          "name": "stderr",
          "text": [
            "Using custom data configuration default\n",
            "Reusing dataset xsum (/root/.cache/huggingface/datasets/xsum/default/1.2.0/4957825a982999fbf80bca0b342793b01b2611e021ef589fb7c6250b3577b499)\n"
          ]
        },
        {
          "output_type": "display_data",
          "data": {
            "application/vnd.jupyter.widget-view+json": {
              "model_id": "4df2db0b4c284223ae350df6aef4c6a3",
              "version_minor": 0,
              "version_major": 2
            },
            "text/plain": [
              "  0%|          | 0/3 [00:00<?, ?it/s]"
            ]
          },
          "metadata": {}
        },
        {
          "output_type": "stream",
          "name": "stderr",
          "text": [
            "[nltk_data] Downloading package wordnet to /root/nltk_data...\n",
            "[nltk_data]   Package wordnet is already up-to-date!\n",
            "[nltk_data] Downloading package punkt to /root/nltk_data...\n",
            "[nltk_data]   Package punkt is already up-to-date!\n"
          ]
        }
      ]
    },
    {
      "cell_type": "markdown",
      "metadata": {
        "id": "RzfPtOMoIrIu"
      },
      "source": [
        "The `dataset` object itself is [`DatasetDict`](https://huggingface.co/docs/datasets/package_reference/main_classes.html#datasetdict), which contains one key for the training, validation and test set:"
      ]
    },
    {
      "cell_type": "code",
      "metadata": {
        "id": "GWiVUF0jIrIv",
        "colab": {
          "base_uri": "https://localhost:8080/"
        },
        "outputId": "a95dc0ff-ae84-43f7-d7e3-23166aaf6a60"
      },
      "source": [
        "raw_datasets"
      ],
      "execution_count": null,
      "outputs": [
        {
          "output_type": "execute_result",
          "data": {
            "text/plain": [
              "DatasetDict({\n",
              "    train: Dataset({\n",
              "        features: ['document', 'summary', 'id'],\n",
              "        num_rows: 204045\n",
              "    })\n",
              "    validation: Dataset({\n",
              "        features: ['document', 'summary', 'id'],\n",
              "        num_rows: 11332\n",
              "    })\n",
              "    test: Dataset({\n",
              "        features: ['document', 'summary', 'id'],\n",
              "        num_rows: 11334\n",
              "    })\n",
              "})"
            ]
          },
          "metadata": {},
          "execution_count": 7
        }
      ]
    },
    {
      "cell_type": "markdown",
      "metadata": {
        "id": "u3EtYfeHIrIz"
      },
      "source": [
        "To access an actual element, you need to select a split first, then give an index:"
      ]
    },
    {
      "cell_type": "code",
      "metadata": {
        "id": "X6HrpprwIrIz",
        "colab": {
          "base_uri": "https://localhost:8080/"
        },
        "outputId": "5c7cf9b9-4caa-486e-ade7-961b1b00e33c"
      },
      "source": [
        "raw_datasets[\"train\"][0]"
      ],
      "execution_count": null,
      "outputs": [
        {
          "output_type": "execute_result",
          "data": {
            "text/plain": [
              "{'document': 'Recent reports have linked some France-based players with returns to Wales.\\n\"I\\'ve always felt - and this is with my rugby hat on now; this is not region or WRU - I\\'d rather spend that money on keeping players in Wales,\" said Davies.\\nThe WRU provides £2m to the fund and £1.3m comes from the regions.\\nFormer Wales and British and Irish Lions fly-half Davies became WRU chairman on Tuesday 21 October, succeeding deposed David Pickering following governing body elections.\\nHe is now serving a notice period to leave his role as Newport Gwent Dragons chief executive after being voted on to the WRU board in September.\\nDavies was among the leading figures among Dragons, Ospreys, Scarlets and Cardiff Blues officials who were embroiled in a protracted dispute with the WRU that ended in a £60m deal in August this year.\\nIn the wake of that deal being done, Davies said the £3.3m should be spent on ensuring current Wales-based stars remain there.\\nIn recent weeks, Racing Metro flanker Dan Lydiate was linked with returning to Wales.\\nLikewise the Paris club\\'s scrum-half Mike Phillips and centre Jamie Roberts were also touted for possible returns.\\nWales coach Warren Gatland has said: \"We haven\\'t instigated contact with the players.\\n\"But we are aware that one or two of them are keen to return to Wales sooner rather than later.\"\\nSpeaking to Scrum V on BBC Radio Wales, Davies re-iterated his stance, saying keeping players such as Scarlets full-back Liam Williams and Ospreys flanker Justin Tipuric in Wales should take precedence.\\n\"It\\'s obviously a limited amount of money [available]. The union are contributing 60% of that contract and the regions are putting £1.3m in.\\n\"So it\\'s a total pot of just over £3m and if you look at the sorts of salaries that the... guys... have been tempted to go overseas for [are] significant amounts of money.\\n\"So if we were to bring the players back, we\\'d probably get five or six players.\\n\"And I\\'ve always felt - and this is with my rugby hat on now; this is not region or WRU - I\\'d rather spend that money on keeping players in Wales.\\n\"There are players coming out of contract, perhaps in the next year or so… you\\'re looking at your Liam Williams\\' of the world; Justin Tipuric for example - we need to keep these guys in Wales.\\n\"We actually want them there. They are the ones who are going to impress the young kids, for example.\\n\"They are the sort of heroes that our young kids want to emulate.\\n\"So I would start off [by saying] with the limited pot of money, we have to retain players in Wales.\\n\"Now, if that can be done and there\\'s some spare monies available at the end, yes, let\\'s look to bring players back.\\n\"But it\\'s a cruel world, isn\\'t it?\\n\"It\\'s fine to take the buck and go, but great if you can get them back as well, provided there\\'s enough money.\"\\nBritish and Irish Lions centre Roberts has insisted he will see out his Racing Metro contract.\\nHe and Phillips also earlier dismissed the idea of leaving Paris.\\nRoberts also admitted being hurt by comments in French Newspaper L\\'Equipe attributed to Racing Coach Laurent Labit questioning their effectiveness.\\nCentre Roberts and flanker Lydiate joined Racing ahead of the 2013-14 season while scrum-half Phillips moved there in December 2013 after being dismissed for disciplinary reasons by former club Bayonne.',\n",
              " 'id': '29750031',\n",
              " 'summary': 'New Welsh Rugby Union chairman Gareth Davies believes a joint £3.3m WRU-regions fund should be used to retain home-based talent such as Liam Williams, not bring back exiled stars.'}"
            ]
          },
          "metadata": {},
          "execution_count": 8
        }
      ]
    },
    {
      "cell_type": "markdown",
      "metadata": {
        "id": "3N1FrATyhCT1"
      },
      "source": [
        "We reduce the dataset for faster learning by selecting each 10th example."
      ]
    },
    {
      "cell_type": "code",
      "metadata": {
        "colab": {
          "base_uri": "https://localhost:8080/",
          "height": 113,
          "referenced_widgets": [
            "d82ea02bb66c46caa9d95849c3f21a3d",
            "56caefdcb056419d860d81b5b5db709c",
            "dd6a05c404ee43899e78f067373c90e1",
            "a944cd46a7d04619ad6572e7567f09ca",
            "38be215084924bcca35f059dcf61f895",
            "c57116a95edb40f38c3112ebf427d41c",
            "86999ffff6744ff3a24c3ab377b1404a",
            "dfc5853855254bc5ae2918895ea13182",
            "a0d71606649740a3afe838cd6394a04c",
            "f36ca8431a6b4519b6fc09b926d317fc",
            "070cc7888f0541279d37112bd881d9f7",
            "d97f9e40137044348bdbb88f3438c772",
            "e2a5bf75af914f7ab4a3c153ae2f4d31",
            "e44a6f8b869a46df89e324e7a25d3b02",
            "f102e1e0bcc94e4b82f630af35e8cf10",
            "62e7294a809e4be38cd71ce075fc4e91",
            "505863aebe1d4005b36bc0ebb3458aa0",
            "7b2f98bd98b0492599f32da046482c2d",
            "00aa65b9c93f40dd879d76e3aa180b6c",
            "290faf6901d74d9ba01910bf3d40483d",
            "16ead0f011624a4e896ed9c5e33b81fa",
            "62274aea423b42e3b7a5fd6cfa3de274",
            "7e83e728f26b4fab99e1813ad4c57ced",
            "bdfd462495874ae99749cd3d8be66452",
            "5b3f6dd464f7480f8a25b899d5d7453d",
            "2e1c512e14a9438db073377e76192a96",
            "d06e5cc4a9c144638e6bf87e7f0a6b28",
            "7407bd77e1644d68bde12031a2079ea1",
            "f06658e66473490baba560cef6a77c39",
            "835703649c774663a7b1b678d16bb533",
            "213534d653c14aa784eafff4a583bdeb",
            "f10fc08700fb407ab1e2e7f060ff13c4",
            "22bfa1732cc64c91a2f7ea17cc26441b"
          ]
        },
        "id": "05UU6agXjRzU",
        "outputId": "8ef4b97b-66c3-4e44-b6e3-0a86437aef80"
      },
      "source": [
        "raw_datasets = raw_datasets.filter(lambda example, index: index % 20 == 0, with_indices=True)"
      ],
      "execution_count": null,
      "outputs": [
        {
          "output_type": "display_data",
          "data": {
            "application/vnd.jupyter.widget-view+json": {
              "model_id": "d82ea02bb66c46caa9d95849c3f21a3d",
              "version_minor": 0,
              "version_major": 2
            },
            "text/plain": [
              "  0%|          | 0/205 [00:00<?, ?ba/s]"
            ]
          },
          "metadata": {}
        },
        {
          "output_type": "display_data",
          "data": {
            "application/vnd.jupyter.widget-view+json": {
              "model_id": "d97f9e40137044348bdbb88f3438c772",
              "version_minor": 0,
              "version_major": 2
            },
            "text/plain": [
              "  0%|          | 0/12 [00:00<?, ?ba/s]"
            ]
          },
          "metadata": {}
        },
        {
          "output_type": "display_data",
          "data": {
            "application/vnd.jupyter.widget-view+json": {
              "model_id": "7e83e728f26b4fab99e1813ad4c57ced",
              "version_minor": 0,
              "version_major": 2
            },
            "text/plain": [
              "  0%|          | 0/12 [00:00<?, ?ba/s]"
            ]
          },
          "metadata": {}
        }
      ]
    },
    {
      "cell_type": "code",
      "metadata": {
        "colab": {
          "base_uri": "https://localhost:8080/"
        },
        "id": "DifkkDzSkEdu",
        "outputId": "bbe5adba-8a15-44d5-fe92-694ce37fbadb"
      },
      "source": [
        "raw_datasets"
      ],
      "execution_count": null,
      "outputs": [
        {
          "output_type": "execute_result",
          "data": {
            "text/plain": [
              "DatasetDict({\n",
              "    train: Dataset({\n",
              "        features: ['document', 'summary', 'id'],\n",
              "        num_rows: 10203\n",
              "    })\n",
              "    validation: Dataset({\n",
              "        features: ['document', 'summary', 'id'],\n",
              "        num_rows: 567\n",
              "    })\n",
              "    test: Dataset({\n",
              "        features: ['document', 'summary', 'id'],\n",
              "        num_rows: 567\n",
              "    })\n",
              "})"
            ]
          },
          "metadata": {},
          "execution_count": 10
        }
      ]
    },
    {
      "cell_type": "markdown",
      "metadata": {
        "id": "WHUmphG3IrI3"
      },
      "source": [
        "To get a sense of what the data looks like, the following function will show some examples picked randomly in the dataset."
      ]
    },
    {
      "cell_type": "code",
      "metadata": {
        "id": "i3j8APAoIrI3"
      },
      "source": [
        "import datasets\n",
        "import random\n",
        "import pandas as pd\n",
        "from IPython.display import display, HTML\n",
        "\n",
        "def show_random_elements(dataset, num_examples=5):\n",
        "    assert num_examples <= len(dataset), \"Can't pick more elements than there are in the dataset.\"\n",
        "    picks = []\n",
        "    for _ in range(num_examples):\n",
        "        pick = random.randint(0, len(dataset)-1)\n",
        "        while pick in picks:\n",
        "            pick = random.randint(0, len(dataset)-1)\n",
        "        picks.append(pick)\n",
        "    \n",
        "    df = pd.DataFrame(dataset[picks])\n",
        "    for column, typ in dataset.features.items():\n",
        "        if isinstance(typ, datasets.ClassLabel):\n",
        "            df[column] = df[column].transform(lambda i: typ.names[i])\n",
        "    display(HTML(df.to_html()))"
      ],
      "execution_count": null,
      "outputs": []
    },
    {
      "cell_type": "code",
      "metadata": {
        "id": "SZy5tRB_IrI7",
        "colab": {
          "base_uri": "https://localhost:8080/",
          "height": 1000
        },
        "outputId": "16a3799c-4c13-412c-af5e-b51dd5b06dc1"
      },
      "source": [
        "show_random_elements(raw_datasets[\"train\"])"
      ],
      "execution_count": null,
      "outputs": [
        {
          "output_type": "display_data",
          "data": {
            "text/html": [
              "<table border=\"1\" class=\"dataframe\">\n",
              "  <thead>\n",
              "    <tr style=\"text-align: right;\">\n",
              "      <th></th>\n",
              "      <th>document</th>\n",
              "      <th>summary</th>\n",
              "      <th>id</th>\n",
              "    </tr>\n",
              "  </thead>\n",
              "  <tbody>\n",
              "    <tr>\n",
              "      <th>0</th>\n",
              "      <td>Forest Green Rovers' chairman Dale Vince wants to move the club from Nailsworth near Stroud to 100 acres of land at junction 13 of the M5.\\nThe stadium will be the centrepiece of a sports and green technology business park, the National League club said.\\nA planning application for the development was submitted in January.\\nMr Vince, who also owns energy firm Ecotricity, said it was holding a competition for architects to provide \"radical, fan-focused stadium designs\".\\n\"Sustainability will be key: we expect that to run through the core of the design, as through a stick of rock,\" he added.\\n\"There are two aspects of that sustainability - first, it's about sustainable construction, in terms of the material used, and second, it's about the long term operational stability of the stadium.\"\\nThe competition will include three shortlist stages and will be overseen by the Frank Whittle Partnership which also helped manage the building of the nearby M5 Gloucester Services.\\nThe winning design will be unveiled in September, the club said.</td>\n",
              "      <td>A football club is inviting designs for a new \"sustainable\" stadium which has been included in a proposed £100m \"Eco Park\" in Gloucestershire.</td>\n",
              "      <td>35873156</td>\n",
              "    </tr>\n",
              "    <tr>\n",
              "      <th>1</th>\n",
              "      <td>In a new document called 'Fifa 2.0' the organisation has outlined its key goals following widespread corruption allegations.\\nPresident Gianni Infantino said Fifa was building an organisation to \"set the standards for others to follow\".\\nFifa also wants to take over organising the World Cup after Qatar 2022.\\nAs it stands, host countries are in charge of running the tournament.\\n\"Fifa is a stronger institution today than it was a year ago - and it will be even stronger a year from now,\" said secretary-general Fatma Samoura.\\nDozens of senior officials were indicted by US prosecutors as a result of the Fifa corruption scandal in 2015, which is said to have involved racketeering, wire fraud and money laundering.\\nFormer Fifa and Uefa presidents Sepp Blatter and Michel Platini both received eight-year bans from all football-related activities, reduced on appeal to six years, while a Swiss criminal investigation into the pair is also ongoing.\\nJerome Valcke, the former Fifa secretary-general, was also given a 12-year ban from football in February, which was reduced to 10 years on appeal, for his alleged involvement in a scheme to profit from the sale of World Cup tickets.\\nUnder its new plan Fifa says it wants to take control of ticketing arrangements and bring them in-house in time for the 2022 tournament.\\nFifa's new vision is guided by four key principles - improving transparency, accountability, inclusivity and cooperation - and aims to move the body on from the crisis of recent years.\\nChanges will also be made to the World Cup bidding process, making it more transparent and efficient while also giving Fifa the power to bar contenders if they fail to match technical criteria.\\n• Increase percentage of world's population participating in football from 45% to 60% - includes people playing, coaching, refereeing or otherwise broadly experiencing football.\\n• Investment of more than $4bn (£3.27bn) in developing football, giving back to the game the resources derived from its showcase competitions and new, technology-driven, sources of revenue.\\n• Doubling the number of female players to 60 million.</td>\n",
              "      <td>Football's crisis-hit world governing body Fifa says it is still working to regain trust as it launches its \"vision for the future\".</td>\n",
              "      <td>37650102</td>\n",
              "    </tr>\n",
              "    <tr>\n",
              "      <th>2</th>\n",
              "      <td>Adam Nash, 35, told the Huddersfield Daily Examiner his son Isaac had been in the water with brother Xander, 10.\\nMr Nash saved Xander from the waves but his father Paul - Isaac's grandfather - had been unable to hold on to Isaac.\\nThe search for Isaac continues, after the incident at Aberffraw on Friday afternoon.\\nFather-of-three Mr Nash, from the Huddersfield area, said the family were on holiday and as they had been to Aberffraw \"many times before\" were familiar with the area.\\nHe said the two boys found walking along the beach \"boring\" and \"stripped off and ran into the sea\".\\nHe said he \"told them not to go too far,\" and although the waves were big he believed it was \"perfectly safe\".\\nShortly after, the brothers got into difficulty.\\nMr Nash said: \"My dad had been waving at them and shouting but they couldn't hear him. He got a little bit concerned and stripped off.\\n\"He swam out to where they both were near the rocks. As he swam towards them Isaac was shouting. He knew he was in trouble.\\n\"He was getting closer to the rocks. When I saw that my dad had got to Isaac I realised that they were having trouble. Everything got loud and there was spray coming off the sea. I could sense they were panicking.\"\\nWhile his father tried to help Isaac, Mr Nash headed for his younger son, Xander.\\n\"I got hold of him about three times to get him back,\" he said. \"He was grabbing me round the neck. He said he couldn't swim anymore. I was exhausted too. I was having problems myself let alone supporting him. I thought I just don't want to let go of him.\\n\"Fortunately some white water was hitting us, and I thought it might help us travel back to shore despite the massive waves.\\n\"When I got my feet on the ground I was massively relieved. Xander said to me: 'I thought I was going to die.'\\n\"As soon as I got my feet down I turned round and looked for my dad. He was washed up on to the rocks and just laid flat.\"\\nMr Nash continued: \"My dad came round and his face was just screwed up and there was blood dripping down him from his arms and legs. And he said: 'I couldn't save him, I couldn't save him'.\"\\nHe told how the pair were hit by a \"massive wave\" and Isaac's grandfather was unable to hold on to him.\\nHe and other members of the family were taken to hospital in Bangor but later returned to search for Isaac.\\nOn Monday, police and coastguards were spending a fourth day searching.\\nNorth Wales Police have confirmed the search for 12 year old Isaac Nash from Huddersfield continued this morning, Monday 1st September 2014.\\nCh Insp Simon Barrasford said: \"This morning the joint emergency service response resumed with a helicopter from North Wales Police joining HM Coastguard in an area around the west coast of Anglesey. Specialist Police divers and land borne colleagues are also conducting searches particularly during low tide.\"</td>\n",
              "      <td>The father of a 12-year-old boy swept into the sea off Anglesey has told of the moment he and family members tried to save him.</td>\n",
              "      <td>29005672</td>\n",
              "    </tr>\n",
              "    <tr>\n",
              "      <th>3</th>\n",
              "      <td>The club announced on Twitter on Tuesday morning: \"Manchester United announces that David Moyes has left the club.\\n\"The club would like to place on record its thanks for the hard work, honesty and integrity he brought to the role.\"\\nIt comes after several newspaper reports that Moyes' time at the club was over, following a poor season.\\nUnited previously said on Monday that Moyes had not been sacked, but they refused to comment on his longer-term future.\\nThe news comes after Sunday's 2-0 defeat to Everton - Moyes' former club. It means United cannot qualify for the Champions League next season.\\nMoyes was chosen by Sir Alex Ferguson for the job when he stepped down after 26 years in charge last summer.\\nThe 50 year-old was handed a six-year deal to leave Everton for the Premier League champions.\\nUnited, who are currently in seventh place in the table with four games remaining, will finish this Premier League season with their lowest ever points tally.</td>\n",
              "      <td>Manchester United have sacked their manager David Moyes after just 10 months in charge.</td>\n",
              "      <td>27105655</td>\n",
              "    </tr>\n",
              "    <tr>\n",
              "      <th>4</th>\n",
              "      <td>Ben Woollacott, 19, died after falling off a ferry on 3 August and is thought to have been hit by the propellers.\\nThe free two-boat service between Woolwich and North Woolwich will resume from 06:10 BST on Tuesday.\\nSightseeing river tours by Thames River Services and Crown River Cruises were also suspended for the day.\\nThe funeral of the teenager took place at All Hallows Church near the Tower of London.\\nThe family of Mr Woollacott, of Swanley, Kent, had worked as Thames boatmen for five generations.\\nIt is believed he fell while mooring ropes were being untied, London Coastguard said.\\nAndrew White, chief executive for Serco's Marine business - which runs the ferry service, described the fatal incident as a \"tragic accident\".\\n\"Ben was a valued colleague and friend and, having completed his apprenticeship at the Woolwich Ferry, was looking forward to continuing the family tradition of working on the River Thames.\\n\"His presence at Woolwich Ferry will be missed by all, not only because of his natural ability but also his colourful and friendly nature.\"\\nJames Buckingham, an apprentice, who was a close friend of Mr Woollacott, said: \"He loved a laugh and a joke with everyone.\\n\"If you went to work down in the dumps you could guarantee after working with him you would go home with a smile on your face.\"</td>\n",
              "      <td>Services on the Woolwich ferry have been suspended to allow staff to attend the funeral of a teenage colleague who died after falling off a boat.</td>\n",
              "      <td>14525629</td>\n",
              "    </tr>\n",
              "  </tbody>\n",
              "</table>"
            ],
            "text/plain": [
              "<IPython.core.display.HTML object>"
            ]
          },
          "metadata": {}
        }
      ]
    },
    {
      "cell_type": "markdown",
      "metadata": {
        "id": "lnjDIuQ3IrI-"
      },
      "source": [
        "The metric is an instance of [`datasets.Metric`](https://huggingface.co/docs/datasets/package_reference/main_classes.html#datasets.Metric):"
      ]
    },
    {
      "cell_type": "markdown",
      "metadata": {
        "id": "8p3MTwgpe7XT"
      },
      "source": [
        "Существуют разные метрики оценки качества алгоритмов суммаризации. Подробнее с ними можно познакомитсья [здесь](http://www.cai.sk/ojs/index.php/cai/article/viewFile/37/24).\n",
        "\n",
        "Одна из самых популярных метрик в этой задаче $-$  $ROUGE_n$."
      ]
    },
    {
      "cell_type": "markdown",
      "metadata": {
        "id": "UnJwVFWBe7XT"
      },
      "source": [
        "$Доля\\ n$-$грамм\\ из\\ рефератов,\\ вошедших\\ в\\ s:$\n",
        "$$$$\n",
        "$ ROUGE_n(S) = \\frac{\\sum_{r\\in R} \\sum_{w} [w \\in s][w \\in r]}{\\sum_{r \\in R} \\sum_w [w \\in r]}$ \n",
        "$$$$\n",
        "$ Доля\\ n-грамм\\ самого\\ близкого\\ реферата,\\ вошедших\\ в\\ s:$\n",
        "$$$$\n",
        "$ ROUGE_{n_{multi}}(S) = \\frac{max_{r\\in R} \\sum_{w} [w \\in s][w \\in r]}{\\sum_{r \\in R} \\sum_w [w \\in r]}$"
      ]
    },
    {
      "cell_type": "code",
      "metadata": {
        "id": "5o4rUteaIrI_",
        "colab": {
          "base_uri": "https://localhost:8080/"
        },
        "outputId": "f1e32125-07c6-41fb-9b37-f7e9043d6a67"
      },
      "source": [
        "rouge_metric"
      ],
      "execution_count": null,
      "outputs": [
        {
          "output_type": "execute_result",
          "data": {
            "text/plain": [
              "Metric(name: \"rouge\", features: {'predictions': Value(dtype='string', id='sequence'), 'references': Value(dtype='string', id='sequence')}, usage: \"\"\"\n",
              "Calculates average rouge scores for a list of hypotheses and references\n",
              "Args:\n",
              "    predictions: list of predictions to score. Each predictions\n",
              "        should be a string with tokens separated by spaces.\n",
              "    references: list of reference for each prediction. Each\n",
              "        reference should be a string with tokens separated by spaces.\n",
              "    rouge_types: A list of rouge types to calculate.\n",
              "        Valid names:\n",
              "        `\"rouge{n}\"` (e.g. `\"rouge1\"`, `\"rouge2\"`) where: {n} is the n-gram based scoring,\n",
              "        `\"rougeL\"`: Longest common subsequence based scoring.\n",
              "        `\"rougeLSum\"`: rougeLsum splits text using `\"\n",
              "\"`.\n",
              "        See details in https://github.com/huggingface/datasets/issues/617\n",
              "    use_stemmer: Bool indicating whether Porter stemmer should be used to strip word suffixes.\n",
              "    use_agregator: Return aggregates if this is set to True\n",
              "Returns:\n",
              "    rouge1: rouge_1 (precision, recall, f1),\n",
              "    rouge2: rouge_2 (precision, recall, f1),\n",
              "    rougeL: rouge_l (precision, recall, f1),\n",
              "    rougeLsum: rouge_lsum (precision, recall, f1)\n",
              "Examples:\n",
              "\n",
              "    >>> rouge = datasets.load_metric('rouge')\n",
              "    >>> predictions = [\"hello there\", \"general kenobi\"]\n",
              "    >>> references = [\"hello there\", \"general kenobi\"]\n",
              "    >>> results = rouge.compute(predictions=predictions, references=references)\n",
              "    >>> print(list(results.keys()))\n",
              "    ['rouge1', 'rouge2', 'rougeL', 'rougeLsum']\n",
              "    >>> print(results[\"rouge1\"])\n",
              "    AggregateScore(low=Score(precision=1.0, recall=1.0, fmeasure=1.0), mid=Score(precision=1.0, recall=1.0, fmeasure=1.0), high=Score(precision=1.0, recall=1.0, fmeasure=1.0))\n",
              "    >>> print(results[\"rouge1\"].mid.fmeasure)\n",
              "    1.0\n",
              "\"\"\", stored examples: 0)"
            ]
          },
          "metadata": {},
          "execution_count": 13
        }
      ]
    },
    {
      "cell_type": "markdown",
      "metadata": {
        "id": "hQHGAC_ow942"
      },
      "source": [
        "Еще одна метрика оценки суммаризации - **METOR**, она вычисляется по следующим формулам:\n",
        "\n",
        "1.   Сначала вычисляется точность: $$P = \\frac{m}{w_t}$$ здесь $m$ -  количество n-грамм в машинном переводе, которые также были найдены в эталонном переводе, а $w_{t}$ — количество n-грамм в машинном переводе. \n",
        "2.   Далее вычисляется полнота: $$R = \\frac{m}{w_r}$$ где $w_{r}$ — количество n-грамм в эталонном переводе.\n",
        "3.   Точность и полнота комбинируются, используя формулу гармонического среднего, в которой вес полноты в 9 раз больше веса точности: $$F_{mean} = \\frac{10PR}{R+9P}$$\n",
        "4.    Данная формула используется только для сравнения одиночных слов, которые совпали в эталонном и машинном переводе. Для того чтобы учитывать еще и словосочетания, которые совпадают, используется так называемый штраф $p$. Для этого n-gram объединяют в несколько возможных групп. Штраф $p$ вычисляется по следующей формуле: $$p = 0.5(\\frac{c}{u_m})^3$$ где $c$ — число групп n-gram, а $u_{m}$ — количество n-грамм, которые объединили в группы.\n",
        "5. Финальный показатель качества вычисляется по следующей формуле: $$M=F_{mean}(1-p)$$\n",
        "\n"
      ]
    },
    {
      "cell_type": "code",
      "metadata": {
        "colab": {
          "base_uri": "https://localhost:8080/"
        },
        "id": "aAfP9WKF_HaB",
        "outputId": "ffb28235-4df5-4448-da14-cd388c363b2b"
      },
      "source": [
        "meteor_metric"
      ],
      "execution_count": null,
      "outputs": [
        {
          "output_type": "execute_result",
          "data": {
            "text/plain": [
              "Metric(name: \"meteor\", features: {'predictions': Value(dtype='string', id='sequence'), 'references': Value(dtype='string', id='sequence')}, usage: \"\"\"\n",
              "Computes METEOR score of translated segments against one or more references.\n",
              "Args:\n",
              "    predictions: list of predictions to score. Each prediction\n",
              "        should be a string with tokens separated by spaces.\n",
              "    references: list of reference for each prediction. Each\n",
              "        reference should be a string with tokens separated by spaces.\n",
              "    alpha: Parameter for controlling relative weights of precision and recall. default: 0.9\n",
              "    beta: Parameter for controlling shape of penalty as a function of fragmentation. default: 3\n",
              "    gamma: Relative weight assigned to fragmentation penalty. default: 0.5\n",
              "Returns:\n",
              "    'meteor': meteor score.\n",
              "Examples:\n",
              "\n",
              "    >>> meteor = datasets.load_metric('meteor')\n",
              "    >>> predictions = [\"It is a guide to action which ensures that the military always obeys the commands of the party\"]\n",
              "    >>> references = [\"It is a guide to action that ensures that the military will forever heed Party commands\"]\n",
              "    >>> results = meteor.compute(predictions=predictions, references=references)\n",
              "    >>> print(round(results[\"meteor\"], 4))\n",
              "    0.6944\n",
              "\"\"\", stored examples: 0)"
            ]
          },
          "metadata": {},
          "execution_count": 14
        }
      ]
    },
    {
      "cell_type": "markdown",
      "metadata": {
        "id": "jAWdqcUBIrJC"
      },
      "source": [
        "You can call its `compute` method with your predictions and labels, which need to be list of decoded strings:"
      ]
    },
    {
      "cell_type": "code",
      "metadata": {
        "id": "6XN1Rq0aIrJC",
        "colab": {
          "base_uri": "https://localhost:8080/"
        },
        "outputId": "de8e6671-db01-4fda-9546-d101ed7bb797"
      },
      "source": [
        "fake_preds = [\"hello there\", \"general kenobi\"]\n",
        "fake_labels = [\"hello there\", \"general kenobi\"]\n",
        "rouge_metric.compute(predictions=fake_preds, references=fake_labels)"
      ],
      "execution_count": null,
      "outputs": [
        {
          "output_type": "execute_result",
          "data": {
            "text/plain": [
              "{'rouge1': AggregateScore(low=Score(precision=1.0, recall=1.0, fmeasure=1.0), mid=Score(precision=1.0, recall=1.0, fmeasure=1.0), high=Score(precision=1.0, recall=1.0, fmeasure=1.0)),\n",
              " 'rouge2': AggregateScore(low=Score(precision=1.0, recall=1.0, fmeasure=1.0), mid=Score(precision=1.0, recall=1.0, fmeasure=1.0), high=Score(precision=1.0, recall=1.0, fmeasure=1.0)),\n",
              " 'rougeL': AggregateScore(low=Score(precision=1.0, recall=1.0, fmeasure=1.0), mid=Score(precision=1.0, recall=1.0, fmeasure=1.0), high=Score(precision=1.0, recall=1.0, fmeasure=1.0)),\n",
              " 'rougeLsum': AggregateScore(low=Score(precision=1.0, recall=1.0, fmeasure=1.0), mid=Score(precision=1.0, recall=1.0, fmeasure=1.0), high=Score(precision=1.0, recall=1.0, fmeasure=1.0))}"
            ]
          },
          "metadata": {},
          "execution_count": 15
        }
      ]
    },
    {
      "cell_type": "code",
      "metadata": {
        "colab": {
          "base_uri": "https://localhost:8080/"
        },
        "id": "HtcKFFvoANur",
        "outputId": "54fa223f-39ad-4c97-9194-2cade7182adc"
      },
      "source": [
        "meteor_metric.compute(predictions=fake_preds, references=fake_labels)"
      ],
      "execution_count": null,
      "outputs": [
        {
          "output_type": "execute_result",
          "data": {
            "text/plain": [
              "{'meteor': 0.9375}"
            ]
          },
          "metadata": {},
          "execution_count": 16
        }
      ]
    },
    {
      "cell_type": "markdown",
      "metadata": {
        "id": "n9qywopnIrJH"
      },
      "source": [
        "## Preprocessing the data"
      ]
    },
    {
      "cell_type": "markdown",
      "metadata": {
        "id": "YVx71GdAIrJH"
      },
      "source": [
        "Before we can feed those texts to our model, we need to preprocess them. This is done by a 🤗 Transformers `Tokenizer` which will (as the name indicates) tokenize the inputs (including converting the tokens to their corresponding IDs in the pretrained vocabulary) and put it in a format the model expects, as well as generate the other inputs that the model requires.\n",
        "\n",
        "To do all of this, we instantiate our tokenizer with the `AutoTokenizer.from_pretrained` method, which will ensure:\n",
        "\n",
        "- we get a tokenizer that corresponds to the model architecture we want to use,\n",
        "- we download the vocabulary used when pretraining this specific checkpoint.\n",
        "\n",
        "That vocabulary will be cached, so it's not downloaded again the next time we run the cell."
      ]
    },
    {
      "cell_type": "code",
      "metadata": {
        "id": "eXNLu_-nIrJI",
        "colab": {
          "base_uri": "https://localhost:8080/",
          "height": 113,
          "referenced_widgets": [
            "9deb69401e0c4c9c9f7b0d3d096e9954",
            "b124e8aaac7a4cc7be582a8153e89dea",
            "2988bacda75f43c58e08bc22aa4a8e47",
            "a6a9f66f497944ceaaa929331a2fc7ec",
            "0d1e14c9b78746f7b27f6b949a70bb20",
            "7fe741c9126348669d5f79ac2bbc131e",
            "3b52b887056f46b9bdfd501dfccc2eb2",
            "45ad6310b3ef456b84fc3ed5a1820499",
            "8eb10a09d9104089980b61b0dcc03a45",
            "a4f2693d0f64490e9d8fa6cf5f03f5dd",
            "086e542b4bee4e11b7754e66b5b79c8d",
            "626c9d3244ae484ab874c6e00a80e9c5",
            "4a2a42bc8d084b71b533e17858565426",
            "53f552ce0ce7475fa5253a9341ce321b",
            "a6d2486bf54a404faec275686a52ec4a",
            "88828074c1b046d7ab9cfb1d354b67bd",
            "3d69e92350bf48d48af43e8e45e94ede",
            "209e0ce819384131a47019072369eab3",
            "24bbbfea8bf04345b41516c3b4d998eb",
            "607c2f57ab514aec8c740fcbd0975707",
            "c32f7dc3ddc6417797b9d14c0cb40cf4",
            "38c66dc662bb4920b9d86baab8761ab0",
            "9474cc29b12a44d4aba525ff69e9e050",
            "8711c49f3c7a438597d491a6d0da1e1b",
            "902de90b97104352828a624aab7d6b1e",
            "079a2b92a52d4c8ba1d25055381cb0d9",
            "c0c0fe0470224525bb5d13ff5d5b64fd",
            "a71215869ba24906a19ee9d1f30681df",
            "5a04a5a45f1a4741a1fc27ec05f55983",
            "836535948f8a45baa674caf0579ef06e",
            "ead762050562432197af6a6d26f12088",
            "67dfb7a7bb4e4c4abc60a15caa806a5d",
            "616e26eb34f1445a8f8f302b22ad6e24"
          ]
        },
        "outputId": "c6448015-7955-48af-f7de-3228c8d35e41"
      },
      "source": [
        "from transformers import AutoTokenizer\n",
        "    \n",
        "tokenizer = AutoTokenizer.from_pretrained(model_checkpoint)"
      ],
      "execution_count": null,
      "outputs": [
        {
          "output_type": "display_data",
          "data": {
            "application/vnd.jupyter.widget-view+json": {
              "model_id": "9deb69401e0c4c9c9f7b0d3d096e9954",
              "version_minor": 0,
              "version_major": 2
            },
            "text/plain": [
              "Downloading:   0%|          | 0.00/1.17k [00:00<?, ?B/s]"
            ]
          },
          "metadata": {}
        },
        {
          "output_type": "display_data",
          "data": {
            "application/vnd.jupyter.widget-view+json": {
              "model_id": "626c9d3244ae484ab874c6e00a80e9c5",
              "version_minor": 0,
              "version_major": 2
            },
            "text/plain": [
              "Downloading:   0%|          | 0.00/773k [00:00<?, ?B/s]"
            ]
          },
          "metadata": {}
        },
        {
          "output_type": "display_data",
          "data": {
            "application/vnd.jupyter.widget-view+json": {
              "model_id": "9474cc29b12a44d4aba525ff69e9e050",
              "version_minor": 0,
              "version_major": 2
            },
            "text/plain": [
              "Downloading:   0%|          | 0.00/1.32M [00:00<?, ?B/s]"
            ]
          },
          "metadata": {}
        }
      ]
    },
    {
      "cell_type": "markdown",
      "metadata": {
        "id": "Vl6IidfdIrJK"
      },
      "source": [
        "By default, the call above will use one of the fast tokenizers (backed by Rust) from the 🤗 Tokenizers library."
      ]
    },
    {
      "cell_type": "markdown",
      "metadata": {
        "id": "rowT4iCLIrJK"
      },
      "source": [
        "You can directly call this tokenizer on one sentence or a pair of sentences:"
      ]
    },
    {
      "cell_type": "code",
      "metadata": {
        "id": "a5hBlsrHIrJL",
        "colab": {
          "base_uri": "https://localhost:8080/"
        },
        "outputId": "97b8db61-b3d8-4c2d-d2c3-3d0726385538"
      },
      "source": [
        "tokenizer(\"Hello, this one sentence!\")"
      ],
      "execution_count": null,
      "outputs": [
        {
          "output_type": "execute_result",
          "data": {
            "text/plain": [
              "{'input_ids': [8774, 6, 48, 80, 7142, 55, 1], 'attention_mask': [1, 1, 1, 1, 1, 1, 1]}"
            ]
          },
          "metadata": {},
          "execution_count": 18
        }
      ]
    },
    {
      "cell_type": "markdown",
      "metadata": {
        "id": "qo_0B1M2IrJM"
      },
      "source": [
        "Depending on the model you selected, you will see different keys in the dictionary returned by the cell above. They don't matter much for what we're doing here (just know they are required by the model we will instantiate later), you can learn more about them in [this tutorial](https://huggingface.co/transformers/preprocessing.html) if you're interested.\n",
        "\n",
        "Instead of one sentence, we can pass along a list of sentences:"
      ]
    },
    {
      "cell_type": "code",
      "metadata": {
        "id": "LznmQZb8aPmB",
        "colab": {
          "base_uri": "https://localhost:8080/"
        },
        "outputId": "0195a4f9-234f-4892-bc7d-adbf665b3cac"
      },
      "source": [
        "tokenizer([\"Hello, this one sentence!\", \"This is another sentence.\"])"
      ],
      "execution_count": null,
      "outputs": [
        {
          "output_type": "execute_result",
          "data": {
            "text/plain": [
              "{'input_ids': [[8774, 6, 48, 80, 7142, 55, 1], [100, 19, 430, 7142, 5, 1]], 'attention_mask': [[1, 1, 1, 1, 1, 1, 1], [1, 1, 1, 1, 1, 1]]}"
            ]
          },
          "metadata": {},
          "execution_count": 19
        }
      ]
    },
    {
      "cell_type": "markdown",
      "metadata": {
        "id": "ogWPQm7daPmB"
      },
      "source": [
        "To prepare the targets for our model, we need to tokenize them inside the `as_target_tokenizer` context manager. This will make sure the tokenizer uses the special tokens corresponding to the targets:"
      ]
    },
    {
      "cell_type": "code",
      "metadata": {
        "id": "qraLl0QAaPmC",
        "colab": {
          "base_uri": "https://localhost:8080/"
        },
        "outputId": "f1798b36-fe98-429b-8d6b-ab9c3a9c07d7"
      },
      "source": [
        "with tokenizer.as_target_tokenizer():\n",
        "    print(tokenizer([\"Hello, this one sentence!\", \"This is another sentence.\"]))"
      ],
      "execution_count": null,
      "outputs": [
        {
          "output_type": "stream",
          "name": "stdout",
          "text": [
            "{'input_ids': [[8774, 6, 48, 80, 7142, 55, 1], [100, 19, 430, 7142, 5, 1]], 'attention_mask': [[1, 1, 1, 1, 1, 1, 1], [1, 1, 1, 1, 1, 1]]}\n"
          ]
        }
      ]
    },
    {
      "cell_type": "markdown",
      "metadata": {
        "id": "2C0hcmp9IrJQ"
      },
      "source": [
        "If you are using one of the five T5 checkpoints we have to prefix the inputs with \"summarize:\" (the model can also translate and it needs the prefix to know which task it has to perform)."
      ]
    },
    {
      "cell_type": "code",
      "metadata": {
        "id": "V_ucH0LaaPmC"
      },
      "source": [
        "if model_checkpoint in [\"t5-small\", \"t5-base\", \"t5-larg\", \"t5-3b\", \"t5-11b\"]:\n",
        "    prefix = \"summarize: \"\n",
        "else:\n",
        "    prefix = \"\""
      ],
      "execution_count": null,
      "outputs": []
    },
    {
      "cell_type": "markdown",
      "metadata": {
        "id": "Od7F8Ia6aPmD"
      },
      "source": [
        "We can then write the function that will preprocess our samples. We just feed them to the `tokenizer` with the argument `truncation=True`. This will ensure that an input longer that what the model selected can handle will be truncated to the maximum length accepted by the model. The padding will be dealt with later on (in a data collator) so we pad examples to the longest length in the batch and not the whole dataset."
      ]
    },
    {
      "cell_type": "code",
      "metadata": {
        "id": "vc0BSBLIIrJQ"
      },
      "source": [
        "max_input_length = 1024\n",
        "max_target_length = 128\n",
        "\n",
        "def preprocess_function(examples):\n",
        "    inputs = [prefix + doc for doc in examples[\"document\"]]\n",
        "    model_inputs = tokenizer(inputs, max_length=max_input_length, truncation=True)\n",
        "\n",
        "    # Setup the tokenizer for targets\n",
        "    with tokenizer.as_target_tokenizer():\n",
        "        labels = tokenizer(examples[\"summary\"], max_length=max_target_length, truncation=True)\n",
        "\n",
        "    model_inputs[\"labels\"] = labels[\"input_ids\"]\n",
        "    return model_inputs"
      ],
      "execution_count": null,
      "outputs": []
    },
    {
      "cell_type": "markdown",
      "metadata": {
        "id": "0lm8ozrJIrJR"
      },
      "source": [
        "This function works with one or several examples. In the case of several examples, the tokenizer will return a list of lists for each key:"
      ]
    },
    {
      "cell_type": "code",
      "metadata": {
        "id": "-b70jh26IrJS",
        "colab": {
          "base_uri": "https://localhost:8080/"
        },
        "outputId": "5c6776ac-cc14-4988-b39d-e90e72d9799c"
      },
      "source": [
        "preprocess_function(raw_datasets['train'][:2])"
      ],
      "execution_count": null,
      "outputs": [
        {
          "output_type": "execute_result",
          "data": {
            "text/plain": [
              "{'input_ids': [[21603, 10, 17716, 2279, 43, 5229, 128, 1410, 18, 390, 1508, 28, 5146, 12, 10256, 5, 96, 196, 31, 162, 373, 1800, 3, 18, 11, 48, 19, 28, 82, 22209, 3, 547, 30, 230, 117, 48, 19, 59, 1719, 42, 549, 8503, 3, 18, 27, 31, 26, 1066, 1492, 24, 540, 30, 2627, 1508, 16, 10256, 976, 243, 28571, 5, 37, 549, 8503, 795, 17586, 51, 12, 8, 3069, 11, 3996, 13606, 51, 639, 45, 8, 6266, 5, 18263, 10256, 11, 2390, 11, 7262, 10371, 7, 3971, 18, 17114, 28571, 1632, 549, 8503, 13404, 30, 2818, 1401, 1797, 6, 7229, 53, 20, 12151, 1955, 8356, 49, 53, 826, 3, 19585, 643, 9768, 5, 216, 19, 230, 3122, 3, 9, 2103, 1059, 12, 1175, 112, 1075, 38, 24260, 350, 16103, 10282, 7, 5752, 4297, 227, 271, 3, 11060, 30, 12, 8, 549, 8503, 1476, 16, 1600, 5, 28571, 47, 859, 8, 1374, 5638, 859, 10282, 7, 6, 411, 7, 2026, 63, 7, 6, 14586, 7677, 11, 26911, 2419, 7, 4298, 113, 130, 10960, 52, 26786, 16, 3, 9, 813, 11674, 11044, 28, 8, 549, 8503, 24, 3492, 16, 3, 9, 3996, 3328, 51, 1154, 16, 1660, 48, 215, 5, 86, 8, 7178, 13, 24, 1154, 271, 612, 6, 28571, 243, 8, 3996, 19660, 51, 225, 36, 1869, 30, 3, 5833, 750, 10256, 18, 390, 4811, 2367, 132, 5, 86, 1100, 1274, 6, 16046, 10730, 24397, 49, 2744, 31914, 17, 15, 47, 5229, 28, 7646, 12, 10256, 5, 3, 21322, 8, 1919, 1886, 31, 7, 14667, 440, 18, 17114, 4794, 16202, 7, 11, 2050, 17845, 2715, 7, 130, 92, 2633, 26, 21, 487, 5146, 5, 10256, 3763, 16700, 2776, 17, 40, 232, 65, 243, 10, 96, 1326, 43, 29, 31, 17, 16, 7, 2880, 920, 574, 28, 8, 1508, 5, 96, 11836, 62, 33, 2718, 24, 80, 42, 192, 13, 135, 33, 9805, 12, 1205, 12, 10256, 14159, 1066, 145, 865, 535, 14734, 12, 4712, 2781, 584, 30, 9938, 5061, 10256, 6, 28571, 3, 60, 18, 155, 15, 4094, 112, 3, 8389, 6, 2145, 2627, 1508, 224, 38, 14586, 7677, 423, 18, 1549, 1414, 265, 6060, 11, 411, 7, 2026, 63, 7, 24397, 49, 12446, 2262, 3791, 447, 16, 10256, 225, 240, 20799, 1433, 5, 96, 196, 17, 31, 7, 6865, 3, 9, 1643, 866, 13, 540, 784, 28843, 4275, 37, 7021, 33, 12932, 15436, 13, 24, 1696, 11, 8, 6266, 33, 3, 3131, 3996, 13606, 51, 16, 5, 96, 5231, 34, 31, 7, 3, 9, 792, 815, 13, 131, 147, 23395, 51, 11, 3, 99, 25, 320, 44, 8, 10549, 13, 21331, 24, 8, 233, 3413, 233, 43, 118, 3, 22765, 12, 281, 10055, 21, 784, 355, 908, 1516, 6201, 13, 540, 5, 96, 5231, 3, 99, 62, 130, 12, 830, 8, 1508, 223, 6, 62, 31, 26, 1077, 129, 874, 42, 1296, 1508, 5, 96, 7175, 27, 31, 162, 373, 1800, 3, 18, 11, 48, 19, 28, 82, 22209, 3, 547, 30, 230, 117, 48, 19, 59, 1719, 42, 549, 8503, 3, 18, 27, 31, 26, 1066, 1492, 24, 540, 30, 2627, 1508, 16, 10256, 5, 96, 7238, 33, 1508, 1107, 91, 13, 1696, 6, 2361, 16, 8, 416, 215, 42, 78, 233, 25, 31, 60, 479, 44, 39, 1414, 265, 6060, 31, 13, 8, 296, 117, 12446, 2262, 3791, 447, 21, 677, 3, 18, 62, 174, 12, 453, 175, 3413, 16, 10256, 5, 96, 1326, 700, 241, 135, 132, 5, 328, 33, 8, 2102, 113, 33, 352, 12, 18514, 8, 1021, 1082, 6, 21, 677, 5, 96, 10273, 33, 8, 1843, 13, 17736, 24, 69, 1021, 1082, 241, 12, 29953, 5, 96, 5231, 27, 133, 456, 326, 784, 969, 2145, 908, 28, 8, 1643, 815, 13, 540, 6, 62, 43, 12, 7365, 1508, 16, 10256, 5, 96, 17527, 6, 3, 99, 24, 54, 36, 612, 11, 132, 31, 7, 128, 8179, 3, 26413, 347, 44, 8, 414, 6, 4273, 6, 752, 31, 7, 320, 12, 830, 1508, 223, 5, 96, 11836, 34, 31, 7, 3, 9, 23958, 296, 6, 19, 29, 31, 17, 34, 58, 96, 196, 17, 31, 7, 1399, 12, 240, 8, 3, 13863, 11, 281, 6, 68, 248, 3, 99, 25, 54, 129, 135, 223, 38, 168, 6, 937, 132, 31, 7, 631, 540, 535, 2390, 11, 7262, 10371, 7, 2050, 2715, 7, 65, 16, 15777, 3, 88, 56, 217, 91, 112, 16046, 10730, 1696, 5, 216, 11, 16202, 7, 92, 2283, 19664, 8, 800, 13, 3140, 1919, 5, 2715, 7, 92, 10246, 271, 4781, 57, 2622, 16, 2379, 29494, 301, 31, 427, 23067, 15, 3, 20923, 12, 16046, 9493, 9906, 17, 325, 2360, 822, 53, 70, 9570, 5, 2969, 2715, 7, 11, 24397, 49, 31914, 17, 15, 3311, 16046, 2177, 13, 8, 2038, 11590, 774, 298, 14667, 440, 18, 17114, 16202, 7, 2301, 132, 16, 1882, 2038, 227, 271, 19664, 21, 3, 15471, 2081, 57, 1798, 1886, 2474, 5993, 5, 1], [21603, 10, 1347, 2622, 130, 5456, 6800, 3375, 57, 789, 5220, 7, 6, 8, 8263, 11, 10050, 2166, 18408, 5, 5923, 3271, 29062, 5527, 20638, 19, 885, 12, 5792, 71, 3229, 357, 9285, 115, 41, 2, 19853, 2534, 115, 117, 1970, 927, 115, 61, 16, 996, 3135, 12, 3746, 2061, 5, 299, 12, 1903, 6704, 3, 88, 56, 3, 4610, 30, 8, 380, 13, 283, 7, 10001, 106, 6, 113, 3433, 8, 1181, 18, 603, 10673, 2661, 555, 11046, 1088, 5, 96, 20347, 1082, 43, 3, 9, 269, 12, 46, 1073, 6, 57, 66, 598, 6, 68, 6, 3, 99, 132, 33, 3, 9, 381, 13, 135, 6, 175, 502, 225, 281, 139, 3, 9, 534, 4858, 11, 36, 2299, 227, 11, 787, 24, 534, 1388, 976, 283, 7, 10001, 106, 243, 30, 2875, 706, 5, 96, 196, 17, 19, 150, 207, 2145, 24, 62, 43, 12, 995, 175, 1082, 12, 473, 207, 81, 1452, 11, 24, 62, 103, 59, 241, 12, 13423, 135, 11, 143, 135, 473, 4781, 535, 8865, 7, 130, 16854, 16, 415, 783, 2145, 24, 585, 3217, 13066, 1073, 19, 6473, 12, 481, 28, 11, 406, 12490, 5, 9836, 5220, 15325, 13674, 291, 6, 113, 65, 3, 9, 335, 215, 625, 520, 28, 17541, 6, 243, 255, 47, 96, 1468, 651, 11, 10978, 121, 57, 283, 7, 10001, 106, 31, 7, 2622, 5, 96, 12736, 3, 2381, 15, 7, 46, 30430, 12, 334, 712, 185, 17, 3040, 861, 16, 48, 684, 6, 334, 80, 13, 8, 1362, 113, 33, 114, 140, 250, 62, 530, 394, 378, 12, 103, 145, 12, 11220, 69, 1082, 976, 283, 7, 13674, 291, 243, 5, 96, 196, 43, 530, 80, 589, 12, 497, 12, 334, 712, 861, 30, 8, 17541, 10113, 113, 19, 352, 139, 3, 9, 4858, 469, 6, 823, 24, 31, 7, 3, 9, 12946, 853, 6, 823, 24, 31, 7, 3, 9, 380, 1745, 42, 3, 9, 496, 28, 3, 9, 806, 1730, 3, 18, 24, 25, 1052, 5, 96, 11880, 25, 54, 36, 1285, 11, 25, 8204, 12, 36, 1285, 5, 275, 24, 237, 30, 8, 477, 24, 33, 614, 6, 116, 25, 31, 60, 17144, 11, 39, 10050, 656, 25, 12603, 6, 25, 31, 60, 341, 394, 145, 255, 19, 30, 160, 200, 239, 535, 283, 7, 10001, 106, 8190, 57, 160, 15202, 2622, 30, 2721, 11, 243, 79, 43, 118, 1026, 91, 13, 2625, 6, 2145, 10, 96, 6221, 223, 11, 1605, 82, 4874, 535, 86, 1332, 6, 283, 7, 10001, 106, 263, 2622, 29945, 53, 8, 1028, 16473, 4516, 84, 2416, 12956, 7, 28, 17541, 5, 451, 865, 3, 9521, 2152, 3375, 163, 21, 15495, 24, 1362, 1426, 70, 502, 12, 3, 9, 529, 18, 13957, 794, 21, 12956, 18500, 5, 1]], 'attention_mask': [[1, 1, 1, 1, 1, 1, 1, 1, 1, 1, 1, 1, 1, 1, 1, 1, 1, 1, 1, 1, 1, 1, 1, 1, 1, 1, 1, 1, 1, 1, 1, 1, 1, 1, 1, 1, 1, 1, 1, 1, 1, 1, 1, 1, 1, 1, 1, 1, 1, 1, 1, 1, 1, 1, 1, 1, 1, 1, 1, 1, 1, 1, 1, 1, 1, 1, 1, 1, 1, 1, 1, 1, 1, 1, 1, 1, 1, 1, 1, 1, 1, 1, 1, 1, 1, 1, 1, 1, 1, 1, 1, 1, 1, 1, 1, 1, 1, 1, 1, 1, 1, 1, 1, 1, 1, 1, 1, 1, 1, 1, 1, 1, 1, 1, 1, 1, 1, 1, 1, 1, 1, 1, 1, 1, 1, 1, 1, 1, 1, 1, 1, 1, 1, 1, 1, 1, 1, 1, 1, 1, 1, 1, 1, 1, 1, 1, 1, 1, 1, 1, 1, 1, 1, 1, 1, 1, 1, 1, 1, 1, 1, 1, 1, 1, 1, 1, 1, 1, 1, 1, 1, 1, 1, 1, 1, 1, 1, 1, 1, 1, 1, 1, 1, 1, 1, 1, 1, 1, 1, 1, 1, 1, 1, 1, 1, 1, 1, 1, 1, 1, 1, 1, 1, 1, 1, 1, 1, 1, 1, 1, 1, 1, 1, 1, 1, 1, 1, 1, 1, 1, 1, 1, 1, 1, 1, 1, 1, 1, 1, 1, 1, 1, 1, 1, 1, 1, 1, 1, 1, 1, 1, 1, 1, 1, 1, 1, 1, 1, 1, 1, 1, 1, 1, 1, 1, 1, 1, 1, 1, 1, 1, 1, 1, 1, 1, 1, 1, 1, 1, 1, 1, 1, 1, 1, 1, 1, 1, 1, 1, 1, 1, 1, 1, 1, 1, 1, 1, 1, 1, 1, 1, 1, 1, 1, 1, 1, 1, 1, 1, 1, 1, 1, 1, 1, 1, 1, 1, 1, 1, 1, 1, 1, 1, 1, 1, 1, 1, 1, 1, 1, 1, 1, 1, 1, 1, 1, 1, 1, 1, 1, 1, 1, 1, 1, 1, 1, 1, 1, 1, 1, 1, 1, 1, 1, 1, 1, 1, 1, 1, 1, 1, 1, 1, 1, 1, 1, 1, 1, 1, 1, 1, 1, 1, 1, 1, 1, 1, 1, 1, 1, 1, 1, 1, 1, 1, 1, 1, 1, 1, 1, 1, 1, 1, 1, 1, 1, 1, 1, 1, 1, 1, 1, 1, 1, 1, 1, 1, 1, 1, 1, 1, 1, 1, 1, 1, 1, 1, 1, 1, 1, 1, 1, 1, 1, 1, 1, 1, 1, 1, 1, 1, 1, 1, 1, 1, 1, 1, 1, 1, 1, 1, 1, 1, 1, 1, 1, 1, 1, 1, 1, 1, 1, 1, 1, 1, 1, 1, 1, 1, 1, 1, 1, 1, 1, 1, 1, 1, 1, 1, 1, 1, 1, 1, 1, 1, 1, 1, 1, 1, 1, 1, 1, 1, 1, 1, 1, 1, 1, 1, 1, 1, 1, 1, 1, 1, 1, 1, 1, 1, 1, 1, 1, 1, 1, 1, 1, 1, 1, 1, 1, 1, 1, 1, 1, 1, 1, 1, 1, 1, 1, 1, 1, 1, 1, 1, 1, 1, 1, 1, 1, 1, 1, 1, 1, 1, 1, 1, 1, 1, 1, 1, 1, 1, 1, 1, 1, 1, 1, 1, 1, 1, 1, 1, 1, 1, 1, 1, 1, 1, 1, 1, 1, 1, 1, 1, 1, 1, 1, 1, 1, 1, 1, 1, 1, 1, 1, 1, 1, 1, 1, 1, 1, 1, 1, 1, 1, 1, 1, 1, 1, 1, 1, 1, 1, 1, 1, 1, 1, 1, 1, 1, 1, 1, 1, 1, 1, 1, 1, 1, 1, 1, 1, 1, 1, 1, 1, 1, 1, 1, 1, 1, 1, 1, 1, 1, 1, 1, 1, 1, 1, 1, 1, 1, 1, 1, 1, 1, 1, 1, 1, 1, 1, 1, 1, 1, 1, 1, 1, 1, 1, 1, 1, 1, 1, 1, 1, 1, 1, 1, 1, 1, 1, 1, 1, 1, 1, 1, 1, 1, 1, 1, 1, 1, 1, 1, 1, 1, 1, 1, 1, 1, 1, 1, 1, 1, 1, 1, 1, 1, 1, 1, 1, 1, 1, 1, 1, 1, 1, 1, 1, 1, 1, 1, 1, 1, 1, 1, 1, 1, 1, 1, 1, 1, 1, 1, 1, 1, 1, 1, 1, 1, 1, 1, 1, 1, 1, 1, 1, 1, 1, 1, 1, 1, 1, 1, 1, 1, 1, 1, 1, 1, 1, 1, 1, 1, 1, 1, 1, 1, 1, 1, 1, 1, 1, 1, 1, 1, 1, 1, 1, 1, 1, 1, 1, 1, 1, 1, 1, 1, 1, 1, 1, 1, 1, 1, 1, 1, 1, 1, 1, 1, 1, 1, 1, 1, 1, 1, 1, 1, 1, 1, 1, 1, 1, 1, 1, 1, 1, 1, 1, 1, 1, 1, 1, 1, 1, 1, 1, 1, 1, 1, 1, 1, 1, 1, 1, 1, 1, 1, 1, 1, 1, 1, 1, 1, 1], [1, 1, 1, 1, 1, 1, 1, 1, 1, 1, 1, 1, 1, 1, 1, 1, 1, 1, 1, 1, 1, 1, 1, 1, 1, 1, 1, 1, 1, 1, 1, 1, 1, 1, 1, 1, 1, 1, 1, 1, 1, 1, 1, 1, 1, 1, 1, 1, 1, 1, 1, 1, 1, 1, 1, 1, 1, 1, 1, 1, 1, 1, 1, 1, 1, 1, 1, 1, 1, 1, 1, 1, 1, 1, 1, 1, 1, 1, 1, 1, 1, 1, 1, 1, 1, 1, 1, 1, 1, 1, 1, 1, 1, 1, 1, 1, 1, 1, 1, 1, 1, 1, 1, 1, 1, 1, 1, 1, 1, 1, 1, 1, 1, 1, 1, 1, 1, 1, 1, 1, 1, 1, 1, 1, 1, 1, 1, 1, 1, 1, 1, 1, 1, 1, 1, 1, 1, 1, 1, 1, 1, 1, 1, 1, 1, 1, 1, 1, 1, 1, 1, 1, 1, 1, 1, 1, 1, 1, 1, 1, 1, 1, 1, 1, 1, 1, 1, 1, 1, 1, 1, 1, 1, 1, 1, 1, 1, 1, 1, 1, 1, 1, 1, 1, 1, 1, 1, 1, 1, 1, 1, 1, 1, 1, 1, 1, 1, 1, 1, 1, 1, 1, 1, 1, 1, 1, 1, 1, 1, 1, 1, 1, 1, 1, 1, 1, 1, 1, 1, 1, 1, 1, 1, 1, 1, 1, 1, 1, 1, 1, 1, 1, 1, 1, 1, 1, 1, 1, 1, 1, 1, 1, 1, 1, 1, 1, 1, 1, 1, 1, 1, 1, 1, 1, 1, 1, 1, 1, 1, 1, 1, 1, 1, 1, 1, 1, 1, 1, 1, 1, 1, 1, 1, 1, 1, 1, 1, 1, 1, 1, 1, 1, 1, 1, 1, 1, 1, 1, 1, 1, 1, 1, 1, 1, 1, 1, 1, 1, 1, 1, 1, 1, 1, 1, 1, 1, 1, 1, 1, 1, 1, 1, 1, 1, 1, 1, 1, 1, 1, 1, 1, 1, 1, 1, 1, 1, 1, 1, 1, 1, 1, 1, 1, 1, 1, 1, 1, 1, 1, 1, 1, 1, 1, 1, 1, 1, 1, 1, 1, 1, 1, 1, 1, 1, 1, 1, 1, 1, 1, 1, 1, 1, 1, 1, 1, 1, 1, 1, 1, 1, 1, 1, 1, 1, 1, 1, 1, 1, 1, 1, 1, 1, 1, 1, 1, 1, 1, 1, 1, 1, 1, 1, 1, 1, 1, 1, 1, 1, 1, 1, 1, 1, 1, 1, 1, 1, 1, 1, 1, 1, 1, 1, 1, 1, 1, 1, 1, 1, 1, 1, 1, 1, 1, 1, 1, 1, 1, 1, 1, 1, 1, 1, 1, 1, 1, 1, 1, 1, 1, 1, 1, 1, 1, 1, 1, 1, 1, 1, 1, 1, 1, 1, 1, 1, 1, 1, 1, 1]], 'labels': [[368, 22982, 24895, 3545, 13404, 3121, 15, 189, 28571, 7228, 3, 9, 4494, 3996, 19660, 51, 549, 8503, 18, 18145, 7, 3069, 225, 36, 261, 12, 7365, 234, 18, 390, 3683, 224, 38, 1414, 265, 6060, 6, 59, 830, 223, 1215, 699, 26, 4811, 5, 1], [13228, 8843, 277, 23, 138, 3746, 24694, 1838, 630, 10001, 106, 19, 5008, 3088, 12, 3, 9, 102, 11697, 7, 15, 21, 15495, 481, 28, 17541, 36, 3641, 45, 4858, 7, 5, 1]]}"
            ]
          },
          "metadata": {},
          "execution_count": 23
        }
      ]
    },
    {
      "cell_type": "markdown",
      "metadata": {
        "id": "zS-6iXTkIrJT"
      },
      "source": [
        "To apply this function on all the pairs of sentences in our dataset, we just use the `map` method of our `dataset` object we created earlier. This will apply the function on all the elements of all the splits in `dataset`, so our training, validation and testing data will be preprocessed in one single command."
      ]
    },
    {
      "cell_type": "code",
      "metadata": {
        "id": "DDtsaJeVIrJT",
        "colab": {
          "base_uri": "https://localhost:8080/",
          "height": 113,
          "referenced_widgets": [
            "64793222c648413787165c636d167c98",
            "96c82b444016433885867e563a87c6bf",
            "aeb850f5e4594490bdd5e605304c49f7",
            "a029440408324e2f86c49758134f6e06",
            "c95b76e54afc4c2da8fe2f172275df2b",
            "193707b19ad245e69d5bd9ff1759f840",
            "02baa7ffb9664c7da0f986928e364d13",
            "575f50879d8f4a91a3900d88f5c4423f",
            "53b8359de7fb4833bf80d13f3c1b716f",
            "243c079e209f4d079ffca7efbea91f1c",
            "95b7f15e24c14496ad5f8d93bb6d79e2",
            "9e0ef7108b5e4f25a6a036d088c57bc9",
            "c31f93a386f94ae48e737d008d12c973",
            "fd230a9c299b4d86be956fec15bba210",
            "196482b380634f80b165409f1d548bfd",
            "c931d49cad484cf3996b7ac3f5761184",
            "6a2235629cd64637b80bd04c17241b7c",
            "9df411408d334eac84665b1f6f54c84f",
            "9267ab6fa6a84f72b0ca4cbcef1abbc9",
            "e88efa71fc0747ada32f46c238387efb",
            "05e4093aaffe4a3a8764019c345f29f5",
            "b885a8a201674687b7f90d275df27bda",
            "a10f8167545248a6acaeff226e4be25e",
            "672f3ec1a83a469b9d3a399f29b6857c",
            "a5a7e5fbe2624dee92af898756d40382",
            "a23cce7cb0b74029ba2b04dea4b77569",
            "11ec84f1dbd642f9bd1f4098a8f4daf9",
            "42c6674c620945d4ae077081ee4cfc87",
            "ec9b9b28a1174e8489d3dd9ef1f90182",
            "c6991590fd3e434eaeacd42838be2cd5",
            "7dd29de3bdfe41888549cbe73332d335",
            "6c834c78964847548fa05b3710e2b60a",
            "0a1ccb05ed7d44c8a27733f83530bd18"
          ]
        },
        "outputId": "8487ef98-5581-4cb4-858c-d688b603a591"
      },
      "source": [
        "tokenized_datasets = raw_datasets.map(preprocess_function, batched=True)"
      ],
      "execution_count": null,
      "outputs": [
        {
          "output_type": "display_data",
          "data": {
            "application/vnd.jupyter.widget-view+json": {
              "model_id": "64793222c648413787165c636d167c98",
              "version_minor": 0,
              "version_major": 2
            },
            "text/plain": [
              "  0%|          | 0/11 [00:00<?, ?ba/s]"
            ]
          },
          "metadata": {}
        },
        {
          "output_type": "display_data",
          "data": {
            "application/vnd.jupyter.widget-view+json": {
              "model_id": "9e0ef7108b5e4f25a6a036d088c57bc9",
              "version_minor": 0,
              "version_major": 2
            },
            "text/plain": [
              "  0%|          | 0/1 [00:00<?, ?ba/s]"
            ]
          },
          "metadata": {}
        },
        {
          "output_type": "display_data",
          "data": {
            "application/vnd.jupyter.widget-view+json": {
              "model_id": "a10f8167545248a6acaeff226e4be25e",
              "version_minor": 0,
              "version_major": 2
            },
            "text/plain": [
              "  0%|          | 0/1 [00:00<?, ?ba/s]"
            ]
          },
          "metadata": {}
        }
      ]
    },
    {
      "cell_type": "markdown",
      "metadata": {
        "id": "voWiw8C7IrJV"
      },
      "source": [
        "Even better, the results are automatically cached by the 🤗 Datasets library to avoid spending time on this step the next time you run your notebook. The 🤗 Datasets library is normally smart enough to detect when the function you pass to map has changed (and thus requires to not use the cache data). For instance, it will properly detect if you change the task in the first cell and rerun the notebook. 🤗 Datasets warns you when it uses cached files, you can pass `load_from_cache_file=False` in the call to `map` to not use the cached files and force the preprocessing to be applied again.\n",
        "\n",
        "Note that we passed `batched=True` to encode the texts by batches together. This is to leverage the full benefit of the fast tokenizer we loaded earlier, which will use multi-threading to treat the texts in a batch concurrently."
      ]
    },
    {
      "cell_type": "markdown",
      "metadata": {
        "id": "545PP3o8IrJV"
      },
      "source": [
        "## Fine-tuning the model"
      ]
    },
    {
      "cell_type": "markdown",
      "metadata": {
        "id": "FBiW8UpKIrJW"
      },
      "source": [
        "Now that our data is ready, we can download the pretrained model and fine-tune it. Since our task is of the sequence-to-sequence kind, we use the `AutoModelForSeq2SeqLM` class. Like with the tokenizer, the `from_pretrained` method will download and cache the model for us."
      ]
    },
    {
      "cell_type": "code",
      "metadata": {
        "id": "TlqNaB8jIrJW",
        "colab": {
          "base_uri": "https://localhost:8080/",
          "height": 49,
          "referenced_widgets": [
            "15316fe11e0b493fa43482b89a93d47f",
            "80dd490b365f43ea868ef55bbd5cfdfd",
            "3716a536f67249a5864c1e9ef4feb8d3",
            "e35bc30bebfc44b4b9defec6ab6b6fd6",
            "d42d16b933c44ce68ed06c9c1e3ac79b",
            "072c0048098e49daa26c9c73b9b2e7ea",
            "74c8c77abd054b94acfe8d2669e7666e",
            "bbf93f23c58e48dc8fb911d108ce6d37",
            "2ded3304b742493eae9324cc3a981887",
            "4b9a852b726f41d1af4bd1d3466c06e3",
            "434fa1df29eb4082b969eef4db00a679"
          ]
        },
        "outputId": "6bc62f56-d6a9-47b5-d588-e6d4a791bf0f"
      },
      "source": [
        "from transformers import AutoModelForSeq2SeqLM, DataCollatorForSeq2Seq, Seq2SeqTrainingArguments, Seq2SeqTrainer\n",
        "\n",
        "model = AutoModelForSeq2SeqLM.from_pretrained(model_checkpoint)"
      ],
      "execution_count": null,
      "outputs": [
        {
          "output_type": "display_data",
          "data": {
            "application/vnd.jupyter.widget-view+json": {
              "model_id": "15316fe11e0b493fa43482b89a93d47f",
              "version_minor": 0,
              "version_major": 2
            },
            "text/plain": [
              "Downloading:   0%|          | 0.00/231M [00:00<?, ?B/s]"
            ]
          },
          "metadata": {}
        }
      ]
    },
    {
      "cell_type": "markdown",
      "metadata": {
        "id": "CczA5lJlIrJX"
      },
      "source": [
        "Note that  we don't get a warning like in our classification example. This means we used all the weights of the pretrained model and there is no randomly initialized head in this case."
      ]
    },
    {
      "cell_type": "markdown",
      "metadata": {
        "id": "_N8urzhyIrJY"
      },
      "source": [
        "To instantiate a `Seq2SeqTrainer`, we will need to define three more things. The most important is the [`Seq2SeqTrainingArguments`](https://huggingface.co/transformers/main_classes/trainer.html#transformers.Seq2SeqTrainingArguments), which is a class that contains all the attributes to customize the training. It requires one folder name, which will be used to save the checkpoints of the model, and all other arguments are optional:"
      ]
    },
    {
      "cell_type": "code",
      "metadata": {
        "id": "VZODbrX9aPmF"
      },
      "source": [
        "batch_size = 8\n",
        "model_name = model_checkpoint.split(\"/\")[-1]\n",
        "args = Seq2SeqTrainingArguments(\n",
        "    f\"{model_name}-finetuned-xsum\",\n",
        "    evaluation_strategy = \"epoch\",\n",
        "    learning_rate=2e-5,\n",
        "    per_device_train_batch_size=batch_size,\n",
        "    per_device_eval_batch_size=batch_size,\n",
        "    weight_decay=0.01,\n",
        "    save_total_limit=3,\n",
        "    num_train_epochs=0.5,\n",
        "    predict_with_generate=True,\n",
        "    fp16=True,\n",
        "    push_to_hub=False,\n",
        ")"
      ],
      "execution_count": null,
      "outputs": []
    },
    {
      "cell_type": "markdown",
      "metadata": {
        "id": "km3pGVdTIrJc"
      },
      "source": [
        "Here we set the evaluation to be done at the end of each epoch, tweak the learning rate, use the `batch_size` defined at the top of the cell and customize the weight decay. Since the `Seq2SeqTrainer` will save the model regularly and our dataset is quite large, we tell it to make three saves maximum. Lastly, we use the `predict_with_generate` option (to properly generate summaries) and activate mixed precision training (to go a bit faster).\n",
        "\n",
        "The last argument to setup everything so we can push the model to the [Hub](https://huggingface.co/models) regularly during training. Remove it if you didn't follow the installation steps at the top of the notebook. If you want to save your model locally in a name that is different than the name of the repository it will be pushed, or if you want to push your model under an organization and not your name space, use the `hub_model_id` argument to set the repo name (it needs to be the full name, including your namespace: for instance `\"sgugger/t5-finetuned-xsum\"` or `\"huggingface/t5-finetuned-xsum\"`).\n",
        "\n",
        "Then, we need a special kind of data collator, which will not only pad the inputs to the maximum length in the batch, but also the labels:"
      ]
    },
    {
      "cell_type": "code",
      "metadata": {
        "id": "OtGxYQeBaPmF"
      },
      "source": [
        "data_collator = DataCollatorForSeq2Seq(tokenizer, model=model)"
      ],
      "execution_count": null,
      "outputs": []
    },
    {
      "cell_type": "markdown",
      "metadata": {
        "id": "7sZOdRlRIrJd"
      },
      "source": [
        "The last thing to define for our `Seq2SeqTrainer` is how to compute the metrics from the predictions. We need to define a function for this, which will just use the `metric` we loaded earlier, and we have to do a bit of pre-processing to decode the predictions into texts:"
      ]
    },
    {
      "cell_type": "code",
      "metadata": {
        "id": "UmvbnJ9JIrJd"
      },
      "source": [
        "import nltk\n",
        "import numpy as np\n",
        "\n",
        "def compute_metrics(eval_pred):\n",
        "    predictions, labels = eval_pred\n",
        "    decoded_preds = tokenizer.batch_decode(predictions, skip_special_tokens=True)\n",
        "    # Replace -100 in the labels as we can't decode them.\n",
        "    labels = np.where(labels != -100, labels, tokenizer.pad_token_id)\n",
        "    decoded_labels = tokenizer.batch_decode(labels, skip_special_tokens=True)\n",
        "    \n",
        "    # Rouge expects a newline after each sentence\n",
        "    decoded_preds = [\"\\n\".join(nltk.sent_tokenize(pred.strip())) for pred in decoded_preds]\n",
        "    decoded_labels = [\"\\n\".join(nltk.sent_tokenize(label.strip())) for label in decoded_labels]\n",
        "    \n",
        "    result = rouge_metric.compute(predictions=decoded_preds, references=decoded_labels, use_stemmer=True)\n",
        "    # Extract a few results\n",
        "    result = {key: value.mid.fmeasure * 100 for key, value in result.items()}\n",
        "    \n",
        "    # Add mean generated length\n",
        "    prediction_lens = [np.count_nonzero(pred != tokenizer.pad_token_id) for pred in predictions]\n",
        "    result[\"gen_len\"] = np.mean(prediction_lens)\n",
        "\n",
        "    result.update(meteor_metric.compute(predictions=decoded_preds, references=decoded_labels))\n",
        "    return {k: round(v, 4) for k, v in result.items()}"
      ],
      "execution_count": null,
      "outputs": []
    },
    {
      "cell_type": "markdown",
      "metadata": {
        "id": "rXuFTAzDIrJe"
      },
      "source": [
        "Then we just need to pass all of this along with our datasets to the `Seq2SeqTrainer`:"
      ]
    },
    {
      "cell_type": "code",
      "metadata": {
        "id": "imY1oC3SIrJf",
        "colab": {
          "base_uri": "https://localhost:8080/"
        },
        "outputId": "e4410eb5-a05f-474c-e0d9-a1adaf1e4eea"
      },
      "source": [
        "trainer = Seq2SeqTrainer(\n",
        "    model,\n",
        "    args,\n",
        "    train_dataset=tokenized_datasets[\"train\"],\n",
        "    eval_dataset=tokenized_datasets[\"validation\"],\n",
        "    data_collator=data_collator,\n",
        "    tokenizer=tokenizer,\n",
        "    compute_metrics=compute_metrics\n",
        ")"
      ],
      "execution_count": null,
      "outputs": [
        {
          "output_type": "stream",
          "name": "stderr",
          "text": [
            "Using amp fp16 backend\n"
          ]
        }
      ]
    },
    {
      "cell_type": "markdown",
      "metadata": {
        "id": "CdzABDVcIrJg"
      },
      "source": [
        "We can now finetune our model by just calling the `train` method:"
      ]
    },
    {
      "cell_type": "code",
      "metadata": {
        "colab": {
          "base_uri": "https://localhost:8080/"
        },
        "id": "I7eZ-tLdywO7",
        "outputId": "3ef8b402-d3eb-41ee-82fc-daf9029a4bdb"
      },
      "source": [
        "import nltk\n",
        "nltk.download('punkt')"
      ],
      "execution_count": null,
      "outputs": [
        {
          "output_type": "stream",
          "name": "stderr",
          "text": [
            "[nltk_data] Downloading package punkt to /root/nltk_data...\n",
            "[nltk_data]   Package punkt is already up-to-date!\n"
          ]
        },
        {
          "output_type": "execute_result",
          "data": {
            "text/plain": [
              "True"
            ]
          },
          "metadata": {},
          "execution_count": 30
        }
      ]
    },
    {
      "cell_type": "code",
      "metadata": {
        "id": "uNx5pyRlIrJh",
        "scrolled": false,
        "colab": {
          "base_uri": "https://localhost:8080/",
          "height": 512
        },
        "outputId": "a10ec0d0-5ee2-4f82-9b1d-f7ce5117adbd"
      },
      "source": [
        "trainer.train()"
      ],
      "execution_count": null,
      "outputs": [
        {
          "output_type": "stream",
          "name": "stderr",
          "text": [
            "The following columns in the training set  don't have a corresponding argument in `T5ForConditionalGeneration.forward` and have been ignored: summary, id, document.\n",
            "***** Running training *****\n",
            "  Num examples = 10203\n",
            "  Num Epochs = 1\n",
            "  Instantaneous batch size per device = 8\n",
            "  Total train batch size (w. parallel, distributed & accumulation) = 8\n",
            "  Gradient Accumulation steps = 1\n",
            "  Total optimization steps = 638\n"
          ]
        },
        {
          "output_type": "display_data",
          "data": {
            "text/html": [
              "\n",
              "    <div>\n",
              "      \n",
              "      <progress value='638' max='638' style='width:300px; height:20px; vertical-align: middle;'></progress>\n",
              "      [638/638 04:57, Epoch 0/1]\n",
              "    </div>\n",
              "    <table border=\"1\" class=\"dataframe\">\n",
              "  <thead>\n",
              "    <tr style=\"text-align: left;\">\n",
              "      <th>Epoch</th>\n",
              "      <th>Training Loss</th>\n",
              "      <th>Validation Loss</th>\n",
              "      <th>Rouge1</th>\n",
              "      <th>Rouge2</th>\n",
              "      <th>Rougel</th>\n",
              "      <th>Rougelsum</th>\n",
              "      <th>Gen Len</th>\n",
              "      <th>Meteor</th>\n",
              "    </tr>\n",
              "  </thead>\n",
              "  <tbody>\n",
              "    <tr>\n",
              "      <td>0</td>\n",
              "      <td>3.136800</td>\n",
              "      <td>2.676094</td>\n",
              "      <td>21.947800</td>\n",
              "      <td>4.360800</td>\n",
              "      <td>16.934500</td>\n",
              "      <td>16.976900</td>\n",
              "      <td>18.594400</td>\n",
              "      <td>0.131100</td>\n",
              "    </tr>\n",
              "  </tbody>\n",
              "</table><p>"
            ],
            "text/plain": [
              "<IPython.core.display.HTML object>"
            ]
          },
          "metadata": {}
        },
        {
          "output_type": "stream",
          "name": "stderr",
          "text": [
            "Saving model checkpoint to t5-small-finetuned-xsum/checkpoint-500\n",
            "Configuration saved in t5-small-finetuned-xsum/checkpoint-500/config.json\n",
            "Model weights saved in t5-small-finetuned-xsum/checkpoint-500/pytorch_model.bin\n",
            "tokenizer config file saved in t5-small-finetuned-xsum/checkpoint-500/tokenizer_config.json\n",
            "Special tokens file saved in t5-small-finetuned-xsum/checkpoint-500/special_tokens_map.json\n",
            "The following columns in the evaluation set  don't have a corresponding argument in `T5ForConditionalGeneration.forward` and have been ignored: summary, id, document.\n",
            "***** Running Evaluation *****\n",
            "  Num examples = 567\n",
            "  Batch size = 8\n",
            "\n",
            "\n",
            "Training completed. Do not forget to share your model on huggingface.co/models =)\n",
            "\n",
            "\n"
          ]
        },
        {
          "output_type": "execute_result",
          "data": {
            "text/plain": [
              "TrainOutput(global_step=638, training_loss=3.1023507910462382, metrics={'train_runtime': 297.8691, 'train_samples_per_second': 17.127, 'train_steps_per_second': 2.142, 'total_flos': 1302153077981184.0, 'train_loss': 3.1023507910462382, 'epoch': 0.5})"
            ]
          },
          "metadata": {},
          "execution_count": 31
        }
      ]
    },
    {
      "cell_type": "code",
      "metadata": {
        "colab": {
          "base_uri": "https://localhost:8080/",
          "height": 309
        },
        "id": "xJWME1tdz7P9",
        "outputId": "4ce209f4-0d3a-4147-a79c-3b28403f228f"
      },
      "source": [
        "trainer.evaluate()"
      ],
      "execution_count": null,
      "outputs": [
        {
          "output_type": "stream",
          "name": "stderr",
          "text": [
            "The following columns in the evaluation set  don't have a corresponding argument in `T5ForConditionalGeneration.forward` and have been ignored: summary, id, document.\n",
            "***** Running Evaluation *****\n",
            "  Num examples = 567\n",
            "  Batch size = 8\n"
          ]
        },
        {
          "output_type": "display_data",
          "data": {
            "text/html": [
              "\n",
              "    <div>\n",
              "      \n",
              "      <progress value='71' max='71' style='width:300px; height:20px; vertical-align: middle;'></progress>\n",
              "      [71/71 00:32]\n",
              "    </div>\n",
              "    "
            ],
            "text/plain": [
              "<IPython.core.display.HTML object>"
            ]
          },
          "metadata": {}
        },
        {
          "output_type": "execute_result",
          "data": {
            "text/plain": [
              "{'epoch': 0.5,\n",
              " 'eval_gen_len': 18.5944,\n",
              " 'eval_loss': 2.676093816757202,\n",
              " 'eval_meteor': 0.1311,\n",
              " 'eval_rouge1': 21.9478,\n",
              " 'eval_rouge2': 4.3608,\n",
              " 'eval_rougeL': 16.9345,\n",
              " 'eval_rougeLsum': 16.9769,\n",
              " 'eval_runtime': 35.2513,\n",
              " 'eval_samples_per_second': 16.085,\n",
              " 'eval_steps_per_second': 2.014}"
            ]
          },
          "metadata": {},
          "execution_count": 32
        }
      ]
    },
    {
      "cell_type": "markdown",
      "metadata": {
        "id": "9wJ6r66w0GD9"
      },
      "source": [
        "## Transformers Pipelines for Summarization"
      ]
    },
    {
      "cell_type": "code",
      "metadata": {
        "id": "9v2JS8GyzCU0"
      },
      "source": [
        "from transformers import pipeline"
      ],
      "execution_count": null,
      "outputs": []
    },
    {
      "cell_type": "code",
      "metadata": {
        "colab": {
          "base_uri": "https://localhost:8080/",
          "height": 1000,
          "referenced_widgets": [
            "265774167f3d41cd9622f8c041b68a90",
            "534804d25a1e4e66acb9212646e911a0",
            "270a603c04af47f988614ad594ac393b",
            "52bef85041f04486bff1ed5c4d4b7fee",
            "3c2220d837754b15a477a712ad7d16c9",
            "d9b296024f844f74ac3bb84b03255229",
            "5ebc3f65066d4d45a9af94a4c07ae0db",
            "f91c28bba9654c569f33e54077a94e4c",
            "b6a7e3fa865a42788e46c88a42b117d9",
            "8c0dd9ffdd994e4196001c60caa604f7",
            "613db43c2fe841adb605b76df1fc4f07",
            "07e51a7420584f76aedb579dc87e199c",
            "cc1526837adb472ea3c83acfd58b290d",
            "2e6026220946448384dceac26583120a",
            "fadf07680b9644768e50006bd8ab1273",
            "b526e24640964bbda7d4747afedd77b8",
            "72f8f22e12124ece8509f276dd6a1b0f",
            "afdb7755de2f49b9ac69d8de1173fd32",
            "244e38f7ac08493ba6df5d9de1263952",
            "7a612af67b7940f8a96e66e4a98aebdf",
            "1739538d3ca54fbb9726eb98535655d3",
            "69c1df6ad9aa4a398d3ec777652bfdb1",
            "c5924f381c3a4e8aa264b373ea6dd596",
            "4944a063167c4fb3b6234cce510baf61",
            "6a60fbde0817401ea656c8df84e26142",
            "10df14e296c346e49791bbc4b3d887f4",
            "42e338e635664425aca0d0dab945222a",
            "5704ba434e814a19846eeb84ace948ff",
            "61f5b7cefe0c4592a35ffb1814ddc99d",
            "15efb0fcbe3446aab0c4dd7e9ca09acb",
            "84af43242fa94475b6856d630a1c8b06",
            "25a9e36feb0046e88353a825e3eb0afc",
            "d901ccafa43246f78850acb9dcc2e771",
            "03a88ed8fdc148e1a2fc0b7e67fb21a0",
            "ca54f6525be74423896db5a55875db1c",
            "d12f9d320e444c08add4894e9f3b8d94",
            "061a53e4851c4419bb528733d317c8ae",
            "d4b8b53a4b4f4bbcb63971d8c1b4f83b",
            "4fe998df2b73476f8d871c690aacc8c8",
            "c61cba78e137402ebe4d812df5ab6cbd",
            "44a7c6b596544e5da43593dae4dee8cb",
            "7b6301a30d264a5e9efc68a01b3902e3",
            "b2cf66f208db49098534c0a749c48252",
            "5528065cfde248a8992033757a2e648f",
            "d2ab303ab6b04cdf871872b3482e7916",
            "2dc627f96dd44c979f4269df6beac0fe",
            "97c7a56d441e421db61d64c8eb822e5c",
            "792c01432da943029af82005fd42c3ac",
            "d8eba13df32f44ac95fdff53f0eeb8a4",
            "379562c32046493c9eb14fc314693a13",
            "917cd50242774e30b2d828d9b02e39af",
            "deaf26a6863849a28ed71dcb0b47233b",
            "480661a9eda64ae58aaedc03a6dc5a80",
            "ed99fd7a92e849bdbfe41a347c3bca41",
            "a8f54a13544449fda112ece9f2939dba"
          ]
        },
        "id": "6GTIXV5cknWU",
        "outputId": "c6427a38-5151-4aaa-bdbf-9d5dbbe4e9db"
      },
      "source": [
        "summarizer = pipeline(\"summarization\")"
      ],
      "execution_count": null,
      "outputs": [
        {
          "output_type": "stream",
          "name": "stderr",
          "text": [
            "No model was supplied, defaulted to sshleifer/distilbart-cnn-12-6 (https://huggingface.co/sshleifer/distilbart-cnn-12-6)\n",
            "https://huggingface.co/sshleifer/distilbart-cnn-12-6/resolve/main/config.json not found in cache or force_download set to True, downloading to /root/.cache/huggingface/transformers/tmp29feikc_\n"
          ]
        },
        {
          "output_type": "display_data",
          "data": {
            "application/vnd.jupyter.widget-view+json": {
              "model_id": "265774167f3d41cd9622f8c041b68a90",
              "version_minor": 0,
              "version_major": 2
            },
            "text/plain": [
              "Downloading:   0%|          | 0.00/1.76k [00:00<?, ?B/s]"
            ]
          },
          "metadata": {}
        },
        {
          "output_type": "stream",
          "name": "stderr",
          "text": [
            "storing https://huggingface.co/sshleifer/distilbart-cnn-12-6/resolve/main/config.json in cache at /root/.cache/huggingface/transformers/adac95cf641be69365b3dd7fe00d4114b3c7c77fb0572931db31a92d4995053b.a50597c2c8b540e8d07e03ca4d58bf615a365f134fb10ca988f4f67881789178\n",
            "creating metadata file for /root/.cache/huggingface/transformers/adac95cf641be69365b3dd7fe00d4114b3c7c77fb0572931db31a92d4995053b.a50597c2c8b540e8d07e03ca4d58bf615a365f134fb10ca988f4f67881789178\n",
            "loading configuration file https://huggingface.co/sshleifer/distilbart-cnn-12-6/resolve/main/config.json from cache at /root/.cache/huggingface/transformers/adac95cf641be69365b3dd7fe00d4114b3c7c77fb0572931db31a92d4995053b.a50597c2c8b540e8d07e03ca4d58bf615a365f134fb10ca988f4f67881789178\n",
            "Model config BartConfig {\n",
            "  \"_num_labels\": 3,\n",
            "  \"activation_dropout\": 0.0,\n",
            "  \"activation_function\": \"gelu\",\n",
            "  \"add_bias_logits\": false,\n",
            "  \"add_final_layer_norm\": false,\n",
            "  \"architectures\": [\n",
            "    \"BartForConditionalGeneration\"\n",
            "  ],\n",
            "  \"attention_dropout\": 0.0,\n",
            "  \"bos_token_id\": 0,\n",
            "  \"classif_dropout\": 0.0,\n",
            "  \"classifier_dropout\": 0.0,\n",
            "  \"d_model\": 1024,\n",
            "  \"decoder_attention_heads\": 16,\n",
            "  \"decoder_ffn_dim\": 4096,\n",
            "  \"decoder_layerdrop\": 0.0,\n",
            "  \"decoder_layers\": 6,\n",
            "  \"decoder_start_token_id\": 2,\n",
            "  \"dropout\": 0.1,\n",
            "  \"early_stopping\": true,\n",
            "  \"encoder_attention_heads\": 16,\n",
            "  \"encoder_ffn_dim\": 4096,\n",
            "  \"encoder_layerdrop\": 0.0,\n",
            "  \"encoder_layers\": 12,\n",
            "  \"eos_token_id\": 2,\n",
            "  \"extra_pos_embeddings\": 2,\n",
            "  \"force_bos_token_to_be_generated\": true,\n",
            "  \"forced_bos_token_id\": 0,\n",
            "  \"forced_eos_token_id\": 2,\n",
            "  \"gradient_checkpointing\": false,\n",
            "  \"id2label\": {\n",
            "    \"0\": \"LABEL_0\",\n",
            "    \"1\": \"LABEL_1\",\n",
            "    \"2\": \"LABEL_2\"\n",
            "  },\n",
            "  \"init_std\": 0.02,\n",
            "  \"is_encoder_decoder\": true,\n",
            "  \"label2id\": {\n",
            "    \"LABEL_0\": 0,\n",
            "    \"LABEL_1\": 1,\n",
            "    \"LABEL_2\": 2\n",
            "  },\n",
            "  \"length_penalty\": 2.0,\n",
            "  \"max_length\": 142,\n",
            "  \"max_position_embeddings\": 1024,\n",
            "  \"min_length\": 56,\n",
            "  \"model_type\": \"bart\",\n",
            "  \"no_repeat_ngram_size\": 3,\n",
            "  \"normalize_before\": false,\n",
            "  \"normalize_embedding\": true,\n",
            "  \"num_beams\": 4,\n",
            "  \"num_hidden_layers\": 12,\n",
            "  \"output_past\": true,\n",
            "  \"pad_token_id\": 1,\n",
            "  \"prefix\": \" \",\n",
            "  \"replacing_rate\": 0,\n",
            "  \"scale_embedding\": false,\n",
            "  \"static_position_embeddings\": false,\n",
            "  \"student_decoder_layers\": null,\n",
            "  \"student_encoder_layers\": null,\n",
            "  \"task_specific_params\": {\n",
            "    \"summarization\": {\n",
            "      \"early_stopping\": true,\n",
            "      \"length_penalty\": 2.0,\n",
            "      \"max_length\": 142,\n",
            "      \"min_length\": 56,\n",
            "      \"no_repeat_ngram_size\": 3,\n",
            "      \"num_beams\": 4\n",
            "    }\n",
            "  },\n",
            "  \"transformers_version\": \"4.12.5\",\n",
            "  \"use_cache\": true,\n",
            "  \"vocab_size\": 50264\n",
            "}\n",
            "\n",
            "loading configuration file https://huggingface.co/sshleifer/distilbart-cnn-12-6/resolve/main/config.json from cache at /root/.cache/huggingface/transformers/adac95cf641be69365b3dd7fe00d4114b3c7c77fb0572931db31a92d4995053b.a50597c2c8b540e8d07e03ca4d58bf615a365f134fb10ca988f4f67881789178\n",
            "Model config BartConfig {\n",
            "  \"_num_labels\": 3,\n",
            "  \"activation_dropout\": 0.0,\n",
            "  \"activation_function\": \"gelu\",\n",
            "  \"add_bias_logits\": false,\n",
            "  \"add_final_layer_norm\": false,\n",
            "  \"architectures\": [\n",
            "    \"BartForConditionalGeneration\"\n",
            "  ],\n",
            "  \"attention_dropout\": 0.0,\n",
            "  \"bos_token_id\": 0,\n",
            "  \"classif_dropout\": 0.0,\n",
            "  \"classifier_dropout\": 0.0,\n",
            "  \"d_model\": 1024,\n",
            "  \"decoder_attention_heads\": 16,\n",
            "  \"decoder_ffn_dim\": 4096,\n",
            "  \"decoder_layerdrop\": 0.0,\n",
            "  \"decoder_layers\": 6,\n",
            "  \"decoder_start_token_id\": 2,\n",
            "  \"dropout\": 0.1,\n",
            "  \"early_stopping\": true,\n",
            "  \"encoder_attention_heads\": 16,\n",
            "  \"encoder_ffn_dim\": 4096,\n",
            "  \"encoder_layerdrop\": 0.0,\n",
            "  \"encoder_layers\": 12,\n",
            "  \"eos_token_id\": 2,\n",
            "  \"extra_pos_embeddings\": 2,\n",
            "  \"force_bos_token_to_be_generated\": true,\n",
            "  \"forced_bos_token_id\": 0,\n",
            "  \"forced_eos_token_id\": 2,\n",
            "  \"gradient_checkpointing\": false,\n",
            "  \"id2label\": {\n",
            "    \"0\": \"LABEL_0\",\n",
            "    \"1\": \"LABEL_1\",\n",
            "    \"2\": \"LABEL_2\"\n",
            "  },\n",
            "  \"init_std\": 0.02,\n",
            "  \"is_encoder_decoder\": true,\n",
            "  \"label2id\": {\n",
            "    \"LABEL_0\": 0,\n",
            "    \"LABEL_1\": 1,\n",
            "    \"LABEL_2\": 2\n",
            "  },\n",
            "  \"length_penalty\": 2.0,\n",
            "  \"max_length\": 142,\n",
            "  \"max_position_embeddings\": 1024,\n",
            "  \"min_length\": 56,\n",
            "  \"model_type\": \"bart\",\n",
            "  \"no_repeat_ngram_size\": 3,\n",
            "  \"normalize_before\": false,\n",
            "  \"normalize_embedding\": true,\n",
            "  \"num_beams\": 4,\n",
            "  \"num_hidden_layers\": 12,\n",
            "  \"output_past\": true,\n",
            "  \"pad_token_id\": 1,\n",
            "  \"prefix\": \" \",\n",
            "  \"replacing_rate\": 0,\n",
            "  \"scale_embedding\": false,\n",
            "  \"static_position_embeddings\": false,\n",
            "  \"student_decoder_layers\": null,\n",
            "  \"student_encoder_layers\": null,\n",
            "  \"task_specific_params\": {\n",
            "    \"summarization\": {\n",
            "      \"early_stopping\": true,\n",
            "      \"length_penalty\": 2.0,\n",
            "      \"max_length\": 142,\n",
            "      \"min_length\": 56,\n",
            "      \"no_repeat_ngram_size\": 3,\n",
            "      \"num_beams\": 4\n",
            "    }\n",
            "  },\n",
            "  \"transformers_version\": \"4.12.5\",\n",
            "  \"use_cache\": true,\n",
            "  \"vocab_size\": 50264\n",
            "}\n",
            "\n",
            "https://huggingface.co/sshleifer/distilbart-cnn-12-6/resolve/main/pytorch_model.bin not found in cache or force_download set to True, downloading to /root/.cache/huggingface/transformers/tmpbieqxynu\n"
          ]
        },
        {
          "output_type": "display_data",
          "data": {
            "application/vnd.jupyter.widget-view+json": {
              "model_id": "07e51a7420584f76aedb579dc87e199c",
              "version_minor": 0,
              "version_major": 2
            },
            "text/plain": [
              "Downloading:   0%|          | 0.00/1.14G [00:00<?, ?B/s]"
            ]
          },
          "metadata": {}
        },
        {
          "output_type": "stream",
          "name": "stderr",
          "text": [
            "storing https://huggingface.co/sshleifer/distilbart-cnn-12-6/resolve/main/pytorch_model.bin in cache at /root/.cache/huggingface/transformers/b336fa0b874ea92e3e22f07a7e6f8fa9da01221759c33abeb2679d6d98fe7755.585965cf7e82e4536033cd21d76c486af3d6b1c2a34b3a847840d4e7fe9d8844\n",
            "creating metadata file for /root/.cache/huggingface/transformers/b336fa0b874ea92e3e22f07a7e6f8fa9da01221759c33abeb2679d6d98fe7755.585965cf7e82e4536033cd21d76c486af3d6b1c2a34b3a847840d4e7fe9d8844\n",
            "loading weights file https://huggingface.co/sshleifer/distilbart-cnn-12-6/resolve/main/pytorch_model.bin from cache at /root/.cache/huggingface/transformers/b336fa0b874ea92e3e22f07a7e6f8fa9da01221759c33abeb2679d6d98fe7755.585965cf7e82e4536033cd21d76c486af3d6b1c2a34b3a847840d4e7fe9d8844\n",
            "All model checkpoint weights were used when initializing BartForConditionalGeneration.\n",
            "\n",
            "All the weights of BartForConditionalGeneration were initialized from the model checkpoint at sshleifer/distilbart-cnn-12-6.\n",
            "If your task is similar to the task the model of the checkpoint was trained on, you can already use BartForConditionalGeneration for predictions without further training.\n",
            "https://huggingface.co/sshleifer/distilbart-cnn-12-6/resolve/main/tokenizer_config.json not found in cache or force_download set to True, downloading to /root/.cache/huggingface/transformers/tmp5dw_pvip\n"
          ]
        },
        {
          "output_type": "display_data",
          "data": {
            "application/vnd.jupyter.widget-view+json": {
              "model_id": "c5924f381c3a4e8aa264b373ea6dd596",
              "version_minor": 0,
              "version_major": 2
            },
            "text/plain": [
              "Downloading:   0%|          | 0.00/26.0 [00:00<?, ?B/s]"
            ]
          },
          "metadata": {}
        },
        {
          "output_type": "stream",
          "name": "stderr",
          "text": [
            "storing https://huggingface.co/sshleifer/distilbart-cnn-12-6/resolve/main/tokenizer_config.json in cache at /root/.cache/huggingface/transformers/f5316f64f9716436994a7ad76a354dc20ecb2dd74eb61d278f103a9c8b80291f.67d01b18f2079bd75eac0b2f2e7235768c7f26bd728e7a855a1c5acae01a91a8\n",
            "creating metadata file for /root/.cache/huggingface/transformers/f5316f64f9716436994a7ad76a354dc20ecb2dd74eb61d278f103a9c8b80291f.67d01b18f2079bd75eac0b2f2e7235768c7f26bd728e7a855a1c5acae01a91a8\n",
            "loading configuration file https://huggingface.co/sshleifer/distilbart-cnn-12-6/resolve/main/config.json from cache at /root/.cache/huggingface/transformers/adac95cf641be69365b3dd7fe00d4114b3c7c77fb0572931db31a92d4995053b.a50597c2c8b540e8d07e03ca4d58bf615a365f134fb10ca988f4f67881789178\n",
            "Model config BartConfig {\n",
            "  \"_num_labels\": 3,\n",
            "  \"activation_dropout\": 0.0,\n",
            "  \"activation_function\": \"gelu\",\n",
            "  \"add_bias_logits\": false,\n",
            "  \"add_final_layer_norm\": false,\n",
            "  \"architectures\": [\n",
            "    \"BartForConditionalGeneration\"\n",
            "  ],\n",
            "  \"attention_dropout\": 0.0,\n",
            "  \"bos_token_id\": 0,\n",
            "  \"classif_dropout\": 0.0,\n",
            "  \"classifier_dropout\": 0.0,\n",
            "  \"d_model\": 1024,\n",
            "  \"decoder_attention_heads\": 16,\n",
            "  \"decoder_ffn_dim\": 4096,\n",
            "  \"decoder_layerdrop\": 0.0,\n",
            "  \"decoder_layers\": 6,\n",
            "  \"decoder_start_token_id\": 2,\n",
            "  \"dropout\": 0.1,\n",
            "  \"early_stopping\": true,\n",
            "  \"encoder_attention_heads\": 16,\n",
            "  \"encoder_ffn_dim\": 4096,\n",
            "  \"encoder_layerdrop\": 0.0,\n",
            "  \"encoder_layers\": 12,\n",
            "  \"eos_token_id\": 2,\n",
            "  \"extra_pos_embeddings\": 2,\n",
            "  \"force_bos_token_to_be_generated\": true,\n",
            "  \"forced_bos_token_id\": 0,\n",
            "  \"forced_eos_token_id\": 2,\n",
            "  \"gradient_checkpointing\": false,\n",
            "  \"id2label\": {\n",
            "    \"0\": \"LABEL_0\",\n",
            "    \"1\": \"LABEL_1\",\n",
            "    \"2\": \"LABEL_2\"\n",
            "  },\n",
            "  \"init_std\": 0.02,\n",
            "  \"is_encoder_decoder\": true,\n",
            "  \"label2id\": {\n",
            "    \"LABEL_0\": 0,\n",
            "    \"LABEL_1\": 1,\n",
            "    \"LABEL_2\": 2\n",
            "  },\n",
            "  \"length_penalty\": 2.0,\n",
            "  \"max_length\": 142,\n",
            "  \"max_position_embeddings\": 1024,\n",
            "  \"min_length\": 56,\n",
            "  \"model_type\": \"bart\",\n",
            "  \"no_repeat_ngram_size\": 3,\n",
            "  \"normalize_before\": false,\n",
            "  \"normalize_embedding\": true,\n",
            "  \"num_beams\": 4,\n",
            "  \"num_hidden_layers\": 12,\n",
            "  \"output_past\": true,\n",
            "  \"pad_token_id\": 1,\n",
            "  \"prefix\": \" \",\n",
            "  \"replacing_rate\": 0,\n",
            "  \"scale_embedding\": false,\n",
            "  \"static_position_embeddings\": false,\n",
            "  \"student_decoder_layers\": null,\n",
            "  \"student_encoder_layers\": null,\n",
            "  \"task_specific_params\": {\n",
            "    \"summarization\": {\n",
            "      \"early_stopping\": true,\n",
            "      \"length_penalty\": 2.0,\n",
            "      \"max_length\": 142,\n",
            "      \"min_length\": 56,\n",
            "      \"no_repeat_ngram_size\": 3,\n",
            "      \"num_beams\": 4\n",
            "    }\n",
            "  },\n",
            "  \"transformers_version\": \"4.12.5\",\n",
            "  \"use_cache\": true,\n",
            "  \"vocab_size\": 50264\n",
            "}\n",
            "\n",
            "https://huggingface.co/sshleifer/distilbart-cnn-12-6/resolve/main/vocab.json not found in cache or force_download set to True, downloading to /root/.cache/huggingface/transformers/tmpjdp954h9\n"
          ]
        },
        {
          "output_type": "display_data",
          "data": {
            "application/vnd.jupyter.widget-view+json": {
              "model_id": "03a88ed8fdc148e1a2fc0b7e67fb21a0",
              "version_minor": 0,
              "version_major": 2
            },
            "text/plain": [
              "Downloading:   0%|          | 0.00/878k [00:00<?, ?B/s]"
            ]
          },
          "metadata": {}
        },
        {
          "output_type": "stream",
          "name": "stderr",
          "text": [
            "storing https://huggingface.co/sshleifer/distilbart-cnn-12-6/resolve/main/vocab.json in cache at /root/.cache/huggingface/transformers/9951e68693b9a7c583ae677e9cb53c02715d9bd0311a78706401372653cdea0a.647b4548b6d9ea817e82e7a9231a320231a1c9ea24053cc9e758f3fe68216f05\n",
            "creating metadata file for /root/.cache/huggingface/transformers/9951e68693b9a7c583ae677e9cb53c02715d9bd0311a78706401372653cdea0a.647b4548b6d9ea817e82e7a9231a320231a1c9ea24053cc9e758f3fe68216f05\n",
            "https://huggingface.co/sshleifer/distilbart-cnn-12-6/resolve/main/merges.txt not found in cache or force_download set to True, downloading to /root/.cache/huggingface/transformers/tmpoz72g9y2\n"
          ]
        },
        {
          "output_type": "display_data",
          "data": {
            "application/vnd.jupyter.widget-view+json": {
              "model_id": "d2ab303ab6b04cdf871872b3482e7916",
              "version_minor": 0,
              "version_major": 2
            },
            "text/plain": [
              "Downloading:   0%|          | 0.00/446k [00:00<?, ?B/s]"
            ]
          },
          "metadata": {}
        },
        {
          "output_type": "stream",
          "name": "stderr",
          "text": [
            "storing https://huggingface.co/sshleifer/distilbart-cnn-12-6/resolve/main/merges.txt in cache at /root/.cache/huggingface/transformers/7588c8d398d659b230a038240cc023f67b6848117d2999f06ab625af7bfc7ec1.5d12962c5ee615a4c803841266e9c3be9a691a924f72d395d3a6c6c81157788b\n",
            "creating metadata file for /root/.cache/huggingface/transformers/7588c8d398d659b230a038240cc023f67b6848117d2999f06ab625af7bfc7ec1.5d12962c5ee615a4c803841266e9c3be9a691a924f72d395d3a6c6c81157788b\n",
            "loading file https://huggingface.co/sshleifer/distilbart-cnn-12-6/resolve/main/vocab.json from cache at /root/.cache/huggingface/transformers/9951e68693b9a7c583ae677e9cb53c02715d9bd0311a78706401372653cdea0a.647b4548b6d9ea817e82e7a9231a320231a1c9ea24053cc9e758f3fe68216f05\n",
            "loading file https://huggingface.co/sshleifer/distilbart-cnn-12-6/resolve/main/merges.txt from cache at /root/.cache/huggingface/transformers/7588c8d398d659b230a038240cc023f67b6848117d2999f06ab625af7bfc7ec1.5d12962c5ee615a4c803841266e9c3be9a691a924f72d395d3a6c6c81157788b\n",
            "loading file https://huggingface.co/sshleifer/distilbart-cnn-12-6/resolve/main/tokenizer.json from cache at None\n",
            "loading file https://huggingface.co/sshleifer/distilbart-cnn-12-6/resolve/main/added_tokens.json from cache at None\n",
            "loading file https://huggingface.co/sshleifer/distilbart-cnn-12-6/resolve/main/special_tokens_map.json from cache at None\n",
            "loading file https://huggingface.co/sshleifer/distilbart-cnn-12-6/resolve/main/tokenizer_config.json from cache at /root/.cache/huggingface/transformers/f5316f64f9716436994a7ad76a354dc20ecb2dd74eb61d278f103a9c8b80291f.67d01b18f2079bd75eac0b2f2e7235768c7f26bd728e7a855a1c5acae01a91a8\n",
            "loading configuration file https://huggingface.co/sshleifer/distilbart-cnn-12-6/resolve/main/config.json from cache at /root/.cache/huggingface/transformers/adac95cf641be69365b3dd7fe00d4114b3c7c77fb0572931db31a92d4995053b.a50597c2c8b540e8d07e03ca4d58bf615a365f134fb10ca988f4f67881789178\n",
            "Model config BartConfig {\n",
            "  \"_num_labels\": 3,\n",
            "  \"activation_dropout\": 0.0,\n",
            "  \"activation_function\": \"gelu\",\n",
            "  \"add_bias_logits\": false,\n",
            "  \"add_final_layer_norm\": false,\n",
            "  \"architectures\": [\n",
            "    \"BartForConditionalGeneration\"\n",
            "  ],\n",
            "  \"attention_dropout\": 0.0,\n",
            "  \"bos_token_id\": 0,\n",
            "  \"classif_dropout\": 0.0,\n",
            "  \"classifier_dropout\": 0.0,\n",
            "  \"d_model\": 1024,\n",
            "  \"decoder_attention_heads\": 16,\n",
            "  \"decoder_ffn_dim\": 4096,\n",
            "  \"decoder_layerdrop\": 0.0,\n",
            "  \"decoder_layers\": 6,\n",
            "  \"decoder_start_token_id\": 2,\n",
            "  \"dropout\": 0.1,\n",
            "  \"early_stopping\": true,\n",
            "  \"encoder_attention_heads\": 16,\n",
            "  \"encoder_ffn_dim\": 4096,\n",
            "  \"encoder_layerdrop\": 0.0,\n",
            "  \"encoder_layers\": 12,\n",
            "  \"eos_token_id\": 2,\n",
            "  \"extra_pos_embeddings\": 2,\n",
            "  \"force_bos_token_to_be_generated\": true,\n",
            "  \"forced_bos_token_id\": 0,\n",
            "  \"forced_eos_token_id\": 2,\n",
            "  \"gradient_checkpointing\": false,\n",
            "  \"id2label\": {\n",
            "    \"0\": \"LABEL_0\",\n",
            "    \"1\": \"LABEL_1\",\n",
            "    \"2\": \"LABEL_2\"\n",
            "  },\n",
            "  \"init_std\": 0.02,\n",
            "  \"is_encoder_decoder\": true,\n",
            "  \"label2id\": {\n",
            "    \"LABEL_0\": 0,\n",
            "    \"LABEL_1\": 1,\n",
            "    \"LABEL_2\": 2\n",
            "  },\n",
            "  \"length_penalty\": 2.0,\n",
            "  \"max_length\": 142,\n",
            "  \"max_position_embeddings\": 1024,\n",
            "  \"min_length\": 56,\n",
            "  \"model_type\": \"bart\",\n",
            "  \"no_repeat_ngram_size\": 3,\n",
            "  \"normalize_before\": false,\n",
            "  \"normalize_embedding\": true,\n",
            "  \"num_beams\": 4,\n",
            "  \"num_hidden_layers\": 12,\n",
            "  \"output_past\": true,\n",
            "  \"pad_token_id\": 1,\n",
            "  \"prefix\": \" \",\n",
            "  \"replacing_rate\": 0,\n",
            "  \"scale_embedding\": false,\n",
            "  \"static_position_embeddings\": false,\n",
            "  \"student_decoder_layers\": null,\n",
            "  \"student_encoder_layers\": null,\n",
            "  \"task_specific_params\": {\n",
            "    \"summarization\": {\n",
            "      \"early_stopping\": true,\n",
            "      \"length_penalty\": 2.0,\n",
            "      \"max_length\": 142,\n",
            "      \"min_length\": 56,\n",
            "      \"no_repeat_ngram_size\": 3,\n",
            "      \"num_beams\": 4\n",
            "    }\n",
            "  },\n",
            "  \"transformers_version\": \"4.12.5\",\n",
            "  \"use_cache\": true,\n",
            "  \"vocab_size\": 50264\n",
            "}\n",
            "\n",
            "loading configuration file https://huggingface.co/sshleifer/distilbart-cnn-12-6/resolve/main/config.json from cache at /root/.cache/huggingface/transformers/adac95cf641be69365b3dd7fe00d4114b3c7c77fb0572931db31a92d4995053b.a50597c2c8b540e8d07e03ca4d58bf615a365f134fb10ca988f4f67881789178\n",
            "Model config BartConfig {\n",
            "  \"_num_labels\": 3,\n",
            "  \"activation_dropout\": 0.0,\n",
            "  \"activation_function\": \"gelu\",\n",
            "  \"add_bias_logits\": false,\n",
            "  \"add_final_layer_norm\": false,\n",
            "  \"architectures\": [\n",
            "    \"BartForConditionalGeneration\"\n",
            "  ],\n",
            "  \"attention_dropout\": 0.0,\n",
            "  \"bos_token_id\": 0,\n",
            "  \"classif_dropout\": 0.0,\n",
            "  \"classifier_dropout\": 0.0,\n",
            "  \"d_model\": 1024,\n",
            "  \"decoder_attention_heads\": 16,\n",
            "  \"decoder_ffn_dim\": 4096,\n",
            "  \"decoder_layerdrop\": 0.0,\n",
            "  \"decoder_layers\": 6,\n",
            "  \"decoder_start_token_id\": 2,\n",
            "  \"dropout\": 0.1,\n",
            "  \"early_stopping\": true,\n",
            "  \"encoder_attention_heads\": 16,\n",
            "  \"encoder_ffn_dim\": 4096,\n",
            "  \"encoder_layerdrop\": 0.0,\n",
            "  \"encoder_layers\": 12,\n",
            "  \"eos_token_id\": 2,\n",
            "  \"extra_pos_embeddings\": 2,\n",
            "  \"force_bos_token_to_be_generated\": true,\n",
            "  \"forced_bos_token_id\": 0,\n",
            "  \"forced_eos_token_id\": 2,\n",
            "  \"gradient_checkpointing\": false,\n",
            "  \"id2label\": {\n",
            "    \"0\": \"LABEL_0\",\n",
            "    \"1\": \"LABEL_1\",\n",
            "    \"2\": \"LABEL_2\"\n",
            "  },\n",
            "  \"init_std\": 0.02,\n",
            "  \"is_encoder_decoder\": true,\n",
            "  \"label2id\": {\n",
            "    \"LABEL_0\": 0,\n",
            "    \"LABEL_1\": 1,\n",
            "    \"LABEL_2\": 2\n",
            "  },\n",
            "  \"length_penalty\": 2.0,\n",
            "  \"max_length\": 142,\n",
            "  \"max_position_embeddings\": 1024,\n",
            "  \"min_length\": 56,\n",
            "  \"model_type\": \"bart\",\n",
            "  \"no_repeat_ngram_size\": 3,\n",
            "  \"normalize_before\": false,\n",
            "  \"normalize_embedding\": true,\n",
            "  \"num_beams\": 4,\n",
            "  \"num_hidden_layers\": 12,\n",
            "  \"output_past\": true,\n",
            "  \"pad_token_id\": 1,\n",
            "  \"prefix\": \" \",\n",
            "  \"replacing_rate\": 0,\n",
            "  \"scale_embedding\": false,\n",
            "  \"static_position_embeddings\": false,\n",
            "  \"student_decoder_layers\": null,\n",
            "  \"student_encoder_layers\": null,\n",
            "  \"task_specific_params\": {\n",
            "    \"summarization\": {\n",
            "      \"early_stopping\": true,\n",
            "      \"length_penalty\": 2.0,\n",
            "      \"max_length\": 142,\n",
            "      \"min_length\": 56,\n",
            "      \"no_repeat_ngram_size\": 3,\n",
            "      \"num_beams\": 4\n",
            "    }\n",
            "  },\n",
            "  \"transformers_version\": \"4.12.5\",\n",
            "  \"use_cache\": true,\n",
            "  \"vocab_size\": 50264\n",
            "}\n",
            "\n"
          ]
        }
      ]
    },
    {
      "cell_type": "code",
      "metadata": {
        "colab": {
          "base_uri": "https://localhost:8080/"
        },
        "id": "_ULzUBSUzdn1",
        "outputId": "387f7f25-6bd5-4f40-c295-507f5ef1a0ad"
      },
      "source": [
        "summarizer(\"An apple a day, keeps the doctor away\", min_length=5, max_length=20)"
      ],
      "execution_count": null,
      "outputs": [
        {
          "output_type": "stream",
          "name": "stderr",
          "text": [
            "Your max_length is set to 20, but you input_length is only 11. You might consider decreasing max_length manually, e.g. summarizer('...', max_length=50)\n"
          ]
        },
        {
          "output_type": "execute_result",
          "data": {
            "text/plain": [
              "[{'summary_text': ' An apple a day, keeps the doctor away from your doctor away, says Dr.'}]"
            ]
          },
          "metadata": {},
          "execution_count": 35
        }
      ]
    },
    {
      "cell_type": "markdown",
      "metadata": {
        "id": "vwjcCuZE1VEz"
      },
      "source": [
        "Для русского языка используем [модель](https://huggingface.co/IlyaGusev/mbart_ru_sum_gazeta) для суммаризации, основанную на модели MBart и обученную на статьях ресурса Gazeta.ru, "
      ]
    },
    {
      "cell_type": "code",
      "metadata": {
        "colab": {
          "base_uri": "https://localhost:8080/"
        },
        "id": "6mqAizdy1zs5",
        "outputId": "45dc3512-1029-4966-943d-5e4a78eef644"
      },
      "source": [
        "!pip install sentencepiece"
      ],
      "execution_count": null,
      "outputs": [
        {
          "output_type": "stream",
          "name": "stdout",
          "text": [
            "Collecting sentencepiece\n",
            "  Downloading sentencepiece-0.1.96-cp37-cp37m-manylinux_2_17_x86_64.manylinux2014_x86_64.whl (1.2 MB)\n",
            "\u001b[?25l\r\u001b[K     |▎                               | 10 kB 23.4 MB/s eta 0:00:01\r\u001b[K     |▌                               | 20 kB 25.4 MB/s eta 0:00:01\r\u001b[K     |▉                               | 30 kB 23.3 MB/s eta 0:00:01\r\u001b[K     |█                               | 40 kB 18.4 MB/s eta 0:00:01\r\u001b[K     |█▍                              | 51 kB 9.1 MB/s eta 0:00:01\r\u001b[K     |█▋                              | 61 kB 8.8 MB/s eta 0:00:01\r\u001b[K     |██                              | 71 kB 9.1 MB/s eta 0:00:01\r\u001b[K     |██▏                             | 81 kB 10.1 MB/s eta 0:00:01\r\u001b[K     |██▍                             | 92 kB 10.6 MB/s eta 0:00:01\r\u001b[K     |██▊                             | 102 kB 8.4 MB/s eta 0:00:01\r\u001b[K     |███                             | 112 kB 8.4 MB/s eta 0:00:01\r\u001b[K     |███▎                            | 122 kB 8.4 MB/s eta 0:00:01\r\u001b[K     |███▌                            | 133 kB 8.4 MB/s eta 0:00:01\r\u001b[K     |███▉                            | 143 kB 8.4 MB/s eta 0:00:01\r\u001b[K     |████                            | 153 kB 8.4 MB/s eta 0:00:01\r\u001b[K     |████▎                           | 163 kB 8.4 MB/s eta 0:00:01\r\u001b[K     |████▋                           | 174 kB 8.4 MB/s eta 0:00:01\r\u001b[K     |████▉                           | 184 kB 8.4 MB/s eta 0:00:01\r\u001b[K     |█████▏                          | 194 kB 8.4 MB/s eta 0:00:01\r\u001b[K     |█████▍                          | 204 kB 8.4 MB/s eta 0:00:01\r\u001b[K     |█████▊                          | 215 kB 8.4 MB/s eta 0:00:01\r\u001b[K     |██████                          | 225 kB 8.4 MB/s eta 0:00:01\r\u001b[K     |██████▏                         | 235 kB 8.4 MB/s eta 0:00:01\r\u001b[K     |██████▌                         | 245 kB 8.4 MB/s eta 0:00:01\r\u001b[K     |██████▊                         | 256 kB 8.4 MB/s eta 0:00:01\r\u001b[K     |███████                         | 266 kB 8.4 MB/s eta 0:00:01\r\u001b[K     |███████▎                        | 276 kB 8.4 MB/s eta 0:00:01\r\u001b[K     |███████▋                        | 286 kB 8.4 MB/s eta 0:00:01\r\u001b[K     |███████▉                        | 296 kB 8.4 MB/s eta 0:00:01\r\u001b[K     |████████                        | 307 kB 8.4 MB/s eta 0:00:01\r\u001b[K     |████████▍                       | 317 kB 8.4 MB/s eta 0:00:01\r\u001b[K     |████████▋                       | 327 kB 8.4 MB/s eta 0:00:01\r\u001b[K     |█████████                       | 337 kB 8.4 MB/s eta 0:00:01\r\u001b[K     |█████████▏                      | 348 kB 8.4 MB/s eta 0:00:01\r\u001b[K     |█████████▌                      | 358 kB 8.4 MB/s eta 0:00:01\r\u001b[K     |█████████▊                      | 368 kB 8.4 MB/s eta 0:00:01\r\u001b[K     |██████████                      | 378 kB 8.4 MB/s eta 0:00:01\r\u001b[K     |██████████▎                     | 389 kB 8.4 MB/s eta 0:00:01\r\u001b[K     |██████████▌                     | 399 kB 8.4 MB/s eta 0:00:01\r\u001b[K     |██████████▉                     | 409 kB 8.4 MB/s eta 0:00:01\r\u001b[K     |███████████                     | 419 kB 8.4 MB/s eta 0:00:01\r\u001b[K     |███████████▍                    | 430 kB 8.4 MB/s eta 0:00:01\r\u001b[K     |███████████▋                    | 440 kB 8.4 MB/s eta 0:00:01\r\u001b[K     |███████████▉                    | 450 kB 8.4 MB/s eta 0:00:01\r\u001b[K     |████████████▏                   | 460 kB 8.4 MB/s eta 0:00:01\r\u001b[K     |████████████▍                   | 471 kB 8.4 MB/s eta 0:00:01\r\u001b[K     |████████████▊                   | 481 kB 8.4 MB/s eta 0:00:01\r\u001b[K     |█████████████                   | 491 kB 8.4 MB/s eta 0:00:01\r\u001b[K     |█████████████▎                  | 501 kB 8.4 MB/s eta 0:00:01\r\u001b[K     |█████████████▌                  | 512 kB 8.4 MB/s eta 0:00:01\r\u001b[K     |█████████████▊                  | 522 kB 8.4 MB/s eta 0:00:01\r\u001b[K     |██████████████                  | 532 kB 8.4 MB/s eta 0:00:01\r\u001b[K     |██████████████▎                 | 542 kB 8.4 MB/s eta 0:00:01\r\u001b[K     |██████████████▋                 | 552 kB 8.4 MB/s eta 0:00:01\r\u001b[K     |██████████████▉                 | 563 kB 8.4 MB/s eta 0:00:01\r\u001b[K     |███████████████▏                | 573 kB 8.4 MB/s eta 0:00:01\r\u001b[K     |███████████████▍                | 583 kB 8.4 MB/s eta 0:00:01\r\u001b[K     |███████████████▋                | 593 kB 8.4 MB/s eta 0:00:01\r\u001b[K     |████████████████                | 604 kB 8.4 MB/s eta 0:00:01\r\u001b[K     |████████████████▏               | 614 kB 8.4 MB/s eta 0:00:01\r\u001b[K     |████████████████▌               | 624 kB 8.4 MB/s eta 0:00:01\r\u001b[K     |████████████████▊               | 634 kB 8.4 MB/s eta 0:00:01\r\u001b[K     |█████████████████               | 645 kB 8.4 MB/s eta 0:00:01\r\u001b[K     |█████████████████▎              | 655 kB 8.4 MB/s eta 0:00:01\r\u001b[K     |█████████████████▌              | 665 kB 8.4 MB/s eta 0:00:01\r\u001b[K     |█████████████████▉              | 675 kB 8.4 MB/s eta 0:00:01\r\u001b[K     |██████████████████              | 686 kB 8.4 MB/s eta 0:00:01\r\u001b[K     |██████████████████▍             | 696 kB 8.4 MB/s eta 0:00:01\r\u001b[K     |██████████████████▋             | 706 kB 8.4 MB/s eta 0:00:01\r\u001b[K     |███████████████████             | 716 kB 8.4 MB/s eta 0:00:01\r\u001b[K     |███████████████████▏            | 727 kB 8.4 MB/s eta 0:00:01\r\u001b[K     |███████████████████▍            | 737 kB 8.4 MB/s eta 0:00:01\r\u001b[K     |███████████████████▊            | 747 kB 8.4 MB/s eta 0:00:01\r\u001b[K     |████████████████████            | 757 kB 8.4 MB/s eta 0:00:01\r\u001b[K     |████████████████████▎           | 768 kB 8.4 MB/s eta 0:00:01\r\u001b[K     |████████████████████▌           | 778 kB 8.4 MB/s eta 0:00:01\r\u001b[K     |████████████████████▉           | 788 kB 8.4 MB/s eta 0:00:01\r\u001b[K     |█████████████████████           | 798 kB 8.4 MB/s eta 0:00:01\r\u001b[K     |█████████████████████▎          | 808 kB 8.4 MB/s eta 0:00:01\r\u001b[K     |█████████████████████▋          | 819 kB 8.4 MB/s eta 0:00:01\r\u001b[K     |█████████████████████▉          | 829 kB 8.4 MB/s eta 0:00:01\r\u001b[K     |██████████████████████▏         | 839 kB 8.4 MB/s eta 0:00:01\r\u001b[K     |██████████████████████▍         | 849 kB 8.4 MB/s eta 0:00:01\r\u001b[K     |██████████████████████▊         | 860 kB 8.4 MB/s eta 0:00:01\r\u001b[K     |███████████████████████         | 870 kB 8.4 MB/s eta 0:00:01\r\u001b[K     |███████████████████████▏        | 880 kB 8.4 MB/s eta 0:00:01\r\u001b[K     |███████████████████████▌        | 890 kB 8.4 MB/s eta 0:00:01\r\u001b[K     |███████████████████████▊        | 901 kB 8.4 MB/s eta 0:00:01\r\u001b[K     |████████████████████████        | 911 kB 8.4 MB/s eta 0:00:01\r\u001b[K     |████████████████████████▎       | 921 kB 8.4 MB/s eta 0:00:01\r\u001b[K     |████████████████████████▋       | 931 kB 8.4 MB/s eta 0:00:01\r\u001b[K     |████████████████████████▉       | 942 kB 8.4 MB/s eta 0:00:01\r\u001b[K     |█████████████████████████       | 952 kB 8.4 MB/s eta 0:00:01\r\u001b[K     |█████████████████████████▍      | 962 kB 8.4 MB/s eta 0:00:01\r\u001b[K     |█████████████████████████▋      | 972 kB 8.4 MB/s eta 0:00:01\r\u001b[K     |██████████████████████████      | 983 kB 8.4 MB/s eta 0:00:01\r\u001b[K     |██████████████████████████▏     | 993 kB 8.4 MB/s eta 0:00:01\r\u001b[K     |██████████████████████████▌     | 1.0 MB 8.4 MB/s eta 0:00:01\r\u001b[K     |██████████████████████████▊     | 1.0 MB 8.4 MB/s eta 0:00:01\r\u001b[K     |███████████████████████████     | 1.0 MB 8.4 MB/s eta 0:00:01\r\u001b[K     |███████████████████████████▎    | 1.0 MB 8.4 MB/s eta 0:00:01\r\u001b[K     |███████████████████████████▌    | 1.0 MB 8.4 MB/s eta 0:00:01\r\u001b[K     |███████████████████████████▉    | 1.1 MB 8.4 MB/s eta 0:00:01\r\u001b[K     |████████████████████████████    | 1.1 MB 8.4 MB/s eta 0:00:01\r\u001b[K     |████████████████████████████▍   | 1.1 MB 8.4 MB/s eta 0:00:01\r\u001b[K     |████████████████████████████▋   | 1.1 MB 8.4 MB/s eta 0:00:01\r\u001b[K     |████████████████████████████▉   | 1.1 MB 8.4 MB/s eta 0:00:01\r\u001b[K     |█████████████████████████████▏  | 1.1 MB 8.4 MB/s eta 0:00:01\r\u001b[K     |█████████████████████████████▍  | 1.1 MB 8.4 MB/s eta 0:00:01\r\u001b[K     |█████████████████████████████▊  | 1.1 MB 8.4 MB/s eta 0:00:01\r\u001b[K     |██████████████████████████████  | 1.1 MB 8.4 MB/s eta 0:00:01\r\u001b[K     |██████████████████████████████▎ | 1.1 MB 8.4 MB/s eta 0:00:01\r\u001b[K     |██████████████████████████████▌ | 1.2 MB 8.4 MB/s eta 0:00:01\r\u001b[K     |██████████████████████████████▊ | 1.2 MB 8.4 MB/s eta 0:00:01\r\u001b[K     |███████████████████████████████ | 1.2 MB 8.4 MB/s eta 0:00:01\r\u001b[K     |███████████████████████████████▎| 1.2 MB 8.4 MB/s eta 0:00:01\r\u001b[K     |███████████████████████████████▋| 1.2 MB 8.4 MB/s eta 0:00:01\r\u001b[K     |███████████████████████████████▉| 1.2 MB 8.4 MB/s eta 0:00:01\r\u001b[K     |████████████████████████████████| 1.2 MB 8.4 MB/s \n",
            "\u001b[?25hInstalling collected packages: sentencepiece\n",
            "Successfully installed sentencepiece-0.1.96\n"
          ]
        }
      ]
    },
    {
      "cell_type": "code",
      "metadata": {
        "id": "X3DY7cVE0fZd",
        "colab": {
          "base_uri": "https://localhost:8080/",
          "height": 1000,
          "referenced_widgets": [
            "8cdf1626d2ed4eb0b8b178a61025c35a",
            "989b39e3d09b439f972ecc50950fffed",
            "cd1ae6b620fe4454b60e64590d11285b",
            "bc5fd6cff2814590a722d75da21524d3",
            "3e68ebde41bc4c6ea3d004b1c7b06547",
            "5455c67c777b4c3c8a03ebe34432a722",
            "d03530d93a0e464188e1bda10518d3ce",
            "0d5791d6593745639823449289c8495f",
            "4cb8a5e2a11d4904a604f5cabe139b80",
            "545eb26cef7c432db79ac33e403578d4",
            "b50cd6abfee249baa4f089cf6c3bbc24",
            "6f6b527be436450c9738df287ebbb73a",
            "87241277094a4198b6af8c567f3d397c",
            "4ea59dd318fb439caa311aeaeb9ca191",
            "25b3c4c58eb642ada67a384048ec3f02",
            "c78a77aad62a4b97b6c309273e1f4f73",
            "a990a2675f754f578d64754057a37878",
            "e74d85e5439a427192bf87757873e83b",
            "503d72bfe6f441c0b9f3bba2f7890ac3",
            "84b1cfbb0f434bcaab9d6a34f2ce54ae",
            "9984ddcc76fc4627a9830bf40b26cf4e",
            "3086f9199e23462b804a48e24302fc09",
            "4348e964f68349cea28339962cfa3306",
            "03b28b973c154a23a2425739963f8625",
            "e2db9c83bd44438d8dec0a2fedf759fd",
            "5c43fe2440294886a1ad31ab3ee133ac",
            "b9731acd917d4fa78553e5300930222d",
            "2da195e6c77344efbeb87a065ce557b2",
            "29b6163f01f54caeb12513e4dd1c1e37",
            "49b8d10bd0834930bab2c9e748b66f4f",
            "5c7c1d6e0df34e81bd0c3b6b7a73bd4d",
            "6bb4d6ca43d84138b5910d0131332314",
            "6f244fc7683b4feba2b45d7a963b8ef8",
            "c6021cf8d186465a959b21075f0cbada",
            "4e30ea8c9c1740409330c712bc760823",
            "bfddbd25f131448da02ad4e92dabf840",
            "a0bd4868ee36422a9f6d091d6de98ebc",
            "f085d626d54d4dfd8239082eeb894679",
            "7a2839ebf68d439bbc3f05c155285dc6",
            "1434924827c640508a28dca70c892ca8",
            "6e47e08e1af1492f9b1f4ec27b482ee1",
            "be1160130df4464ea39bdf54a1cf3c0c",
            "587eaa15230d432ebe79267c2f5ad623",
            "09b9328b196f44ac9611c590647d1aaa",
            "ddca01cae0fd49a09ca8aa01847f0a5d",
            "4f23cf1c1d5549378b8abcd8d6d63ee3",
            "e78eab9b06034de2aef82f2672e07c50",
            "8280d792e52643929312af991a3d8c1f",
            "6b4c869c1ea548058f0e3e3c8256d9f8",
            "52642a542311486e9ee49a183aea1d96",
            "d7bc2f8058064a15beff184d9c985dfc",
            "10a4b1d523264dc98390c2c52905babe",
            "bea87e6e973e4a71a9e1c9ae0ea62e4f",
            "fa06d2082f7a432fb4fbf4fb4e4b597c",
            "b14c91de938047908880efd7afe985e8"
          ]
        },
        "outputId": "834f46b9-942e-48e9-c01a-d1c687657f82"
      },
      "source": [
        "summarizer = pipeline(\"summarization\", model=\"IlyaGusev/mbart_ru_sum_gazeta\", tokenizer=\"IlyaGusev/mbart_ru_sum_gazeta\")"
      ],
      "execution_count": null,
      "outputs": [
        {
          "output_type": "stream",
          "name": "stderr",
          "text": [
            "https://huggingface.co/IlyaGusev/mbart_ru_sum_gazeta/resolve/main/config.json not found in cache or force_download set to True, downloading to /root/.cache/huggingface/transformers/tmpc4yrjvt8\n"
          ]
        },
        {
          "output_type": "display_data",
          "data": {
            "application/vnd.jupyter.widget-view+json": {
              "model_id": "8cdf1626d2ed4eb0b8b178a61025c35a",
              "version_minor": 0,
              "version_major": 2
            },
            "text/plain": [
              "Downloading:   0%|          | 0.00/1.05k [00:00<?, ?B/s]"
            ]
          },
          "metadata": {}
        },
        {
          "output_type": "stream",
          "name": "stderr",
          "text": [
            "storing https://huggingface.co/IlyaGusev/mbart_ru_sum_gazeta/resolve/main/config.json in cache at /root/.cache/huggingface/transformers/3d0575815a98e6b1e9cb0a9b8167b6e931e77cdf986fbd38c331b2ef3f362d1e.2d29d285151eecc9d58fb81d144e46e5b28218c134ccc42e8a0088ae5f6f7f25\n",
            "creating metadata file for /root/.cache/huggingface/transformers/3d0575815a98e6b1e9cb0a9b8167b6e931e77cdf986fbd38c331b2ef3f362d1e.2d29d285151eecc9d58fb81d144e46e5b28218c134ccc42e8a0088ae5f6f7f25\n",
            "loading configuration file https://huggingface.co/IlyaGusev/mbart_ru_sum_gazeta/resolve/main/config.json from cache at /root/.cache/huggingface/transformers/3d0575815a98e6b1e9cb0a9b8167b6e931e77cdf986fbd38c331b2ef3f362d1e.2d29d285151eecc9d58fb81d144e46e5b28218c134ccc42e8a0088ae5f6f7f25\n",
            "Model config MBartConfig {\n",
            "  \"activation_dropout\": 0.0,\n",
            "  \"activation_function\": \"gelu\",\n",
            "  \"add_bias_logits\": false,\n",
            "  \"add_final_layer_norm\": true,\n",
            "  \"architectures\": [\n",
            "    \"MBartForConditionalGeneration\"\n",
            "  ],\n",
            "  \"attention_dropout\": 0.1,\n",
            "  \"bos_token_id\": 0,\n",
            "  \"classifier_dropout\": 0.0,\n",
            "  \"d_model\": 1024,\n",
            "  \"decoder_attention_heads\": 16,\n",
            "  \"decoder_ffn_dim\": 4096,\n",
            "  \"decoder_layerdrop\": 0.0,\n",
            "  \"decoder_layers\": 12,\n",
            "  \"decoder_start_token_id\": 250021,\n",
            "  \"dropout\": 0.1,\n",
            "  \"encoder_attention_heads\": 16,\n",
            "  \"encoder_ffn_dim\": 4096,\n",
            "  \"encoder_layerdrop\": 0.0,\n",
            "  \"encoder_layers\": 12,\n",
            "  \"eos_token_id\": 2,\n",
            "  \"extra_pos_embeddings\": 2,\n",
            "  \"force_bos_token_to_be_generated\": false,\n",
            "  \"forced_eos_token_id\": 2,\n",
            "  \"init_std\": 0.02,\n",
            "  \"is_encoder_decoder\": true,\n",
            "  \"max_length\": 602,\n",
            "  \"max_position_embeddings\": 1024,\n",
            "  \"model_type\": \"mbart\",\n",
            "  \"normalize_before\": true,\n",
            "  \"normalize_embedding\": true,\n",
            "  \"num_beams\": 5,\n",
            "  \"num_hidden_layers\": 12,\n",
            "  \"output_past\": true,\n",
            "  \"pad_token_id\": 1,\n",
            "  \"scale_embedding\": true,\n",
            "  \"static_position_embeddings\": false,\n",
            "  \"tie_word_embeddings\": false,\n",
            "  \"transformers_version\": \"4.12.5\",\n",
            "  \"use_cache\": true,\n",
            "  \"vocab_size\": 250027\n",
            "}\n",
            "\n",
            "loading configuration file https://huggingface.co/IlyaGusev/mbart_ru_sum_gazeta/resolve/main/config.json from cache at /root/.cache/huggingface/transformers/3d0575815a98e6b1e9cb0a9b8167b6e931e77cdf986fbd38c331b2ef3f362d1e.2d29d285151eecc9d58fb81d144e46e5b28218c134ccc42e8a0088ae5f6f7f25\n",
            "Model config MBartConfig {\n",
            "  \"activation_dropout\": 0.0,\n",
            "  \"activation_function\": \"gelu\",\n",
            "  \"add_bias_logits\": false,\n",
            "  \"add_final_layer_norm\": true,\n",
            "  \"architectures\": [\n",
            "    \"MBartForConditionalGeneration\"\n",
            "  ],\n",
            "  \"attention_dropout\": 0.1,\n",
            "  \"bos_token_id\": 0,\n",
            "  \"classifier_dropout\": 0.0,\n",
            "  \"d_model\": 1024,\n",
            "  \"decoder_attention_heads\": 16,\n",
            "  \"decoder_ffn_dim\": 4096,\n",
            "  \"decoder_layerdrop\": 0.0,\n",
            "  \"decoder_layers\": 12,\n",
            "  \"decoder_start_token_id\": 250021,\n",
            "  \"dropout\": 0.1,\n",
            "  \"encoder_attention_heads\": 16,\n",
            "  \"encoder_ffn_dim\": 4096,\n",
            "  \"encoder_layerdrop\": 0.0,\n",
            "  \"encoder_layers\": 12,\n",
            "  \"eos_token_id\": 2,\n",
            "  \"extra_pos_embeddings\": 2,\n",
            "  \"force_bos_token_to_be_generated\": false,\n",
            "  \"forced_eos_token_id\": 2,\n",
            "  \"init_std\": 0.02,\n",
            "  \"is_encoder_decoder\": true,\n",
            "  \"max_length\": 602,\n",
            "  \"max_position_embeddings\": 1024,\n",
            "  \"model_type\": \"mbart\",\n",
            "  \"normalize_before\": true,\n",
            "  \"normalize_embedding\": true,\n",
            "  \"num_beams\": 5,\n",
            "  \"num_hidden_layers\": 12,\n",
            "  \"output_past\": true,\n",
            "  \"pad_token_id\": 1,\n",
            "  \"scale_embedding\": true,\n",
            "  \"static_position_embeddings\": false,\n",
            "  \"tie_word_embeddings\": false,\n",
            "  \"transformers_version\": \"4.12.5\",\n",
            "  \"use_cache\": true,\n",
            "  \"vocab_size\": 250027\n",
            "}\n",
            "\n",
            "https://huggingface.co/IlyaGusev/mbart_ru_sum_gazeta/resolve/main/pytorch_model.bin not found in cache or force_download set to True, downloading to /root/.cache/huggingface/transformers/tmpvzxsgnd_\n"
          ]
        },
        {
          "output_type": "display_data",
          "data": {
            "application/vnd.jupyter.widget-view+json": {
              "model_id": "6f6b527be436450c9738df287ebbb73a",
              "version_minor": 0,
              "version_major": 2
            },
            "text/plain": [
              "Downloading:   0%|          | 0.00/3.23G [00:00<?, ?B/s]"
            ]
          },
          "metadata": {}
        },
        {
          "output_type": "stream",
          "name": "stderr",
          "text": [
            "storing https://huggingface.co/IlyaGusev/mbart_ru_sum_gazeta/resolve/main/pytorch_model.bin in cache at /root/.cache/huggingface/transformers/d43644aa91f02aecf1c8abbcca770efa7e3b931858e49dc2c74aeb4df50e5e64.79559a6db33dbf9f3648317710ab1e26a732bfd48a77a4f34db1a5d2bbabeb50\n",
            "creating metadata file for /root/.cache/huggingface/transformers/d43644aa91f02aecf1c8abbcca770efa7e3b931858e49dc2c74aeb4df50e5e64.79559a6db33dbf9f3648317710ab1e26a732bfd48a77a4f34db1a5d2bbabeb50\n",
            "loading weights file https://huggingface.co/IlyaGusev/mbart_ru_sum_gazeta/resolve/main/pytorch_model.bin from cache at /root/.cache/huggingface/transformers/d43644aa91f02aecf1c8abbcca770efa7e3b931858e49dc2c74aeb4df50e5e64.79559a6db33dbf9f3648317710ab1e26a732bfd48a77a4f34db1a5d2bbabeb50\n",
            "All model checkpoint weights were used when initializing MBartForConditionalGeneration.\n",
            "\n",
            "All the weights of MBartForConditionalGeneration were initialized from the model checkpoint at IlyaGusev/mbart_ru_sum_gazeta.\n",
            "If your task is similar to the task the model of the checkpoint was trained on, you can already use MBartForConditionalGeneration for predictions without further training.\n",
            "https://huggingface.co/IlyaGusev/mbart_ru_sum_gazeta/resolve/main/tokenizer_config.json not found in cache or force_download set to True, downloading to /root/.cache/huggingface/transformers/tmpbhnihub5\n"
          ]
        },
        {
          "output_type": "display_data",
          "data": {
            "application/vnd.jupyter.widget-view+json": {
              "model_id": "4348e964f68349cea28339962cfa3306",
              "version_minor": 0,
              "version_major": 2
            },
            "text/plain": [
              "Downloading:   0%|          | 0.00/245 [00:00<?, ?B/s]"
            ]
          },
          "metadata": {}
        },
        {
          "output_type": "stream",
          "name": "stderr",
          "text": [
            "storing https://huggingface.co/IlyaGusev/mbart_ru_sum_gazeta/resolve/main/tokenizer_config.json in cache at /root/.cache/huggingface/transformers/e527c45c6a0a9be697f6309ea8627b6a8d023be9d3a34bd385ff3dd3d93ffcc8.0d76edcb93739b774f2b8bc4ef0ed858f56db82f9af346c32944859014d455cf\n",
            "creating metadata file for /root/.cache/huggingface/transformers/e527c45c6a0a9be697f6309ea8627b6a8d023be9d3a34bd385ff3dd3d93ffcc8.0d76edcb93739b774f2b8bc4ef0ed858f56db82f9af346c32944859014d455cf\n",
            "loading configuration file https://huggingface.co/IlyaGusev/mbart_ru_sum_gazeta/resolve/main/config.json from cache at /root/.cache/huggingface/transformers/3d0575815a98e6b1e9cb0a9b8167b6e931e77cdf986fbd38c331b2ef3f362d1e.2d29d285151eecc9d58fb81d144e46e5b28218c134ccc42e8a0088ae5f6f7f25\n",
            "Model config MBartConfig {\n",
            "  \"activation_dropout\": 0.0,\n",
            "  \"activation_function\": \"gelu\",\n",
            "  \"add_bias_logits\": false,\n",
            "  \"add_final_layer_norm\": true,\n",
            "  \"architectures\": [\n",
            "    \"MBartForConditionalGeneration\"\n",
            "  ],\n",
            "  \"attention_dropout\": 0.1,\n",
            "  \"bos_token_id\": 0,\n",
            "  \"classifier_dropout\": 0.0,\n",
            "  \"d_model\": 1024,\n",
            "  \"decoder_attention_heads\": 16,\n",
            "  \"decoder_ffn_dim\": 4096,\n",
            "  \"decoder_layerdrop\": 0.0,\n",
            "  \"decoder_layers\": 12,\n",
            "  \"decoder_start_token_id\": 250021,\n",
            "  \"dropout\": 0.1,\n",
            "  \"encoder_attention_heads\": 16,\n",
            "  \"encoder_ffn_dim\": 4096,\n",
            "  \"encoder_layerdrop\": 0.0,\n",
            "  \"encoder_layers\": 12,\n",
            "  \"eos_token_id\": 2,\n",
            "  \"extra_pos_embeddings\": 2,\n",
            "  \"force_bos_token_to_be_generated\": false,\n",
            "  \"forced_eos_token_id\": 2,\n",
            "  \"init_std\": 0.02,\n",
            "  \"is_encoder_decoder\": true,\n",
            "  \"max_length\": 602,\n",
            "  \"max_position_embeddings\": 1024,\n",
            "  \"model_type\": \"mbart\",\n",
            "  \"normalize_before\": true,\n",
            "  \"normalize_embedding\": true,\n",
            "  \"num_beams\": 5,\n",
            "  \"num_hidden_layers\": 12,\n",
            "  \"output_past\": true,\n",
            "  \"pad_token_id\": 1,\n",
            "  \"scale_embedding\": true,\n",
            "  \"static_position_embeddings\": false,\n",
            "  \"tie_word_embeddings\": false,\n",
            "  \"transformers_version\": \"4.12.5\",\n",
            "  \"use_cache\": true,\n",
            "  \"vocab_size\": 250027\n",
            "}\n",
            "\n",
            "https://huggingface.co/IlyaGusev/mbart_ru_sum_gazeta/resolve/main/sentencepiece.bpe.model not found in cache or force_download set to True, downloading to /root/.cache/huggingface/transformers/tmpnuuok39k\n"
          ]
        },
        {
          "output_type": "display_data",
          "data": {
            "application/vnd.jupyter.widget-view+json": {
              "model_id": "c6021cf8d186465a959b21075f0cbada",
              "version_minor": 0,
              "version_major": 2
            },
            "text/plain": [
              "Downloading:   0%|          | 0.00/4.83M [00:00<?, ?B/s]"
            ]
          },
          "metadata": {}
        },
        {
          "output_type": "stream",
          "name": "stderr",
          "text": [
            "storing https://huggingface.co/IlyaGusev/mbart_ru_sum_gazeta/resolve/main/sentencepiece.bpe.model in cache at /root/.cache/huggingface/transformers/7662cf7b770d0e5a31780c9ac6c34d57fd03d8dc3f682c42af11e86011ad59f9.71e50b08dbe7e5375398e165096cacc3d2086119d6a449364490da6908de655e\n",
            "creating metadata file for /root/.cache/huggingface/transformers/7662cf7b770d0e5a31780c9ac6c34d57fd03d8dc3f682c42af11e86011ad59f9.71e50b08dbe7e5375398e165096cacc3d2086119d6a449364490da6908de655e\n",
            "https://huggingface.co/IlyaGusev/mbart_ru_sum_gazeta/resolve/main/special_tokens_map.json not found in cache or force_download set to True, downloading to /root/.cache/huggingface/transformers/tmpi8q_uloo\n"
          ]
        },
        {
          "output_type": "display_data",
          "data": {
            "application/vnd.jupyter.widget-view+json": {
              "model_id": "ddca01cae0fd49a09ca8aa01847f0a5d",
              "version_minor": 0,
              "version_major": 2
            },
            "text/plain": [
              "Downloading:   0%|          | 0.00/406 [00:00<?, ?B/s]"
            ]
          },
          "metadata": {}
        },
        {
          "output_type": "stream",
          "name": "stderr",
          "text": [
            "storing https://huggingface.co/IlyaGusev/mbart_ru_sum_gazeta/resolve/main/special_tokens_map.json in cache at /root/.cache/huggingface/transformers/e34af7dad6f98090adf3b00bcf0392abf424166abab95f9af2e40603cb575cf9.72fa8565f9c8b5dc27e7ac070020aec80359d9da2e5628b3f313f41bf44d322c\n",
            "creating metadata file for /root/.cache/huggingface/transformers/e34af7dad6f98090adf3b00bcf0392abf424166abab95f9af2e40603cb575cf9.72fa8565f9c8b5dc27e7ac070020aec80359d9da2e5628b3f313f41bf44d322c\n",
            "loading file https://huggingface.co/IlyaGusev/mbart_ru_sum_gazeta/resolve/main/sentencepiece.bpe.model from cache at /root/.cache/huggingface/transformers/7662cf7b770d0e5a31780c9ac6c34d57fd03d8dc3f682c42af11e86011ad59f9.71e50b08dbe7e5375398e165096cacc3d2086119d6a449364490da6908de655e\n",
            "loading file https://huggingface.co/IlyaGusev/mbart_ru_sum_gazeta/resolve/main/tokenizer.json from cache at None\n",
            "loading file https://huggingface.co/IlyaGusev/mbart_ru_sum_gazeta/resolve/main/added_tokens.json from cache at None\n",
            "loading file https://huggingface.co/IlyaGusev/mbart_ru_sum_gazeta/resolve/main/special_tokens_map.json from cache at /root/.cache/huggingface/transformers/e34af7dad6f98090adf3b00bcf0392abf424166abab95f9af2e40603cb575cf9.72fa8565f9c8b5dc27e7ac070020aec80359d9da2e5628b3f313f41bf44d322c\n",
            "loading file https://huggingface.co/IlyaGusev/mbart_ru_sum_gazeta/resolve/main/tokenizer_config.json from cache at /root/.cache/huggingface/transformers/e527c45c6a0a9be697f6309ea8627b6a8d023be9d3a34bd385ff3dd3d93ffcc8.0d76edcb93739b774f2b8bc4ef0ed858f56db82f9af346c32944859014d455cf\n",
            "loading configuration file https://huggingface.co/IlyaGusev/mbart_ru_sum_gazeta/resolve/main/config.json from cache at /root/.cache/huggingface/transformers/3d0575815a98e6b1e9cb0a9b8167b6e931e77cdf986fbd38c331b2ef3f362d1e.2d29d285151eecc9d58fb81d144e46e5b28218c134ccc42e8a0088ae5f6f7f25\n",
            "Model config MBartConfig {\n",
            "  \"activation_dropout\": 0.0,\n",
            "  \"activation_function\": \"gelu\",\n",
            "  \"add_bias_logits\": false,\n",
            "  \"add_final_layer_norm\": true,\n",
            "  \"architectures\": [\n",
            "    \"MBartForConditionalGeneration\"\n",
            "  ],\n",
            "  \"attention_dropout\": 0.1,\n",
            "  \"bos_token_id\": 0,\n",
            "  \"classifier_dropout\": 0.0,\n",
            "  \"d_model\": 1024,\n",
            "  \"decoder_attention_heads\": 16,\n",
            "  \"decoder_ffn_dim\": 4096,\n",
            "  \"decoder_layerdrop\": 0.0,\n",
            "  \"decoder_layers\": 12,\n",
            "  \"decoder_start_token_id\": 250021,\n",
            "  \"dropout\": 0.1,\n",
            "  \"encoder_attention_heads\": 16,\n",
            "  \"encoder_ffn_dim\": 4096,\n",
            "  \"encoder_layerdrop\": 0.0,\n",
            "  \"encoder_layers\": 12,\n",
            "  \"eos_token_id\": 2,\n",
            "  \"extra_pos_embeddings\": 2,\n",
            "  \"force_bos_token_to_be_generated\": false,\n",
            "  \"forced_eos_token_id\": 2,\n",
            "  \"init_std\": 0.02,\n",
            "  \"is_encoder_decoder\": true,\n",
            "  \"max_length\": 602,\n",
            "  \"max_position_embeddings\": 1024,\n",
            "  \"model_type\": \"mbart\",\n",
            "  \"normalize_before\": true,\n",
            "  \"normalize_embedding\": true,\n",
            "  \"num_beams\": 5,\n",
            "  \"num_hidden_layers\": 12,\n",
            "  \"output_past\": true,\n",
            "  \"pad_token_id\": 1,\n",
            "  \"scale_embedding\": true,\n",
            "  \"static_position_embeddings\": false,\n",
            "  \"tie_word_embeddings\": false,\n",
            "  \"transformers_version\": \"4.12.5\",\n",
            "  \"use_cache\": true,\n",
            "  \"vocab_size\": 250027\n",
            "}\n",
            "\n",
            "loading configuration file https://huggingface.co/IlyaGusev/mbart_ru_sum_gazeta/resolve/main/config.json from cache at /root/.cache/huggingface/transformers/3d0575815a98e6b1e9cb0a9b8167b6e931e77cdf986fbd38c331b2ef3f362d1e.2d29d285151eecc9d58fb81d144e46e5b28218c134ccc42e8a0088ae5f6f7f25\n",
            "Model config MBartConfig {\n",
            "  \"activation_dropout\": 0.0,\n",
            "  \"activation_function\": \"gelu\",\n",
            "  \"add_bias_logits\": false,\n",
            "  \"add_final_layer_norm\": true,\n",
            "  \"architectures\": [\n",
            "    \"MBartForConditionalGeneration\"\n",
            "  ],\n",
            "  \"attention_dropout\": 0.1,\n",
            "  \"bos_token_id\": 0,\n",
            "  \"classifier_dropout\": 0.0,\n",
            "  \"d_model\": 1024,\n",
            "  \"decoder_attention_heads\": 16,\n",
            "  \"decoder_ffn_dim\": 4096,\n",
            "  \"decoder_layerdrop\": 0.0,\n",
            "  \"decoder_layers\": 12,\n",
            "  \"decoder_start_token_id\": 250021,\n",
            "  \"dropout\": 0.1,\n",
            "  \"encoder_attention_heads\": 16,\n",
            "  \"encoder_ffn_dim\": 4096,\n",
            "  \"encoder_layerdrop\": 0.0,\n",
            "  \"encoder_layers\": 12,\n",
            "  \"eos_token_id\": 2,\n",
            "  \"extra_pos_embeddings\": 2,\n",
            "  \"force_bos_token_to_be_generated\": false,\n",
            "  \"forced_eos_token_id\": 2,\n",
            "  \"init_std\": 0.02,\n",
            "  \"is_encoder_decoder\": true,\n",
            "  \"max_length\": 602,\n",
            "  \"max_position_embeddings\": 1024,\n",
            "  \"model_type\": \"mbart\",\n",
            "  \"normalize_before\": true,\n",
            "  \"normalize_embedding\": true,\n",
            "  \"num_beams\": 5,\n",
            "  \"num_hidden_layers\": 12,\n",
            "  \"output_past\": true,\n",
            "  \"pad_token_id\": 1,\n",
            "  \"scale_embedding\": true,\n",
            "  \"static_position_embeddings\": false,\n",
            "  \"tie_word_embeddings\": false,\n",
            "  \"transformers_version\": \"4.12.5\",\n",
            "  \"use_cache\": true,\n",
            "  \"vocab_size\": 250027\n",
            "}\n",
            "\n",
            "Assigning ['ar_AR', 'cs_CZ', 'de_DE', 'en_XX', 'es_XX', 'et_EE', 'fi_FI', 'fr_XX', 'gu_IN', 'hi_IN', 'it_IT', 'ja_XX', 'kk_KZ', 'ko_KR', 'lt_LT', 'lv_LV', 'my_MM', 'ne_NP', 'nl_XX', 'ro_RO', 'ru_RU', 'si_LK', 'tr_TR', 'vi_VN', 'zh_CN'] to the additional_special_tokens key of the tokenizer\n"
          ]
        }
      ]
    },
    {
      "cell_type": "code",
      "metadata": {
        "id": "I5S24r9N3JF1"
      },
      "source": [
        "article = '''Сегодня транспортный налог начисляется в зависимости от мощности автомобиля, причем цена для «сильных» машин выше, чем для малолитражек. \n",
        "Также ставку налога могут корректировать региональные власти: согласно Налоговому кодексу, базовый тариф, установленный правительством, \n",
        "может быть уменьшен в пять раз или увеличен до 10 раз. Сборы идут в региональные бюджеты, откуда растекаются на общие нужды. \n",
        "Транспортный налог — один из основных источников бюджетных доходов — предлагается направить исключительно на дорожные фонды. \n",
        "Так, автомобилисты будут понимать, за что они платят, а дорожники будут иметь гарантированный доход. \n",
        "Кроме налога дорожные фонды будут пополняться за счет бюджетных средств и проезда по платным дорогам. \n",
        "Более того, транспортный налог предлагается завуалировать в акцизы на бензин. \n",
        "Привычную и раздражающую систему ежегодной оплаты квитанции предлагается изменить, включив налог в стоимость топлива. \n",
        "Минэкономразвития говорит об удвоении акцизы, которая сегодня составляет 3,32 рубля за литр 92-го и 95-го бензина. \n",
        "Теперь платить будет не тот, кто купил машину мощнее, а тот, кто больше ездит. \n",
        "Владельцам многосильных автомобилей, которые сегодня отдают в год по 45–50 тысяч за машину, нововведение явно выгодно. \n",
        "Также выигрывают хозяева нескольких автомобилей, которые используются поочередно. Если в семье две-три машины, \n",
        "которые много стоят в гараже и не эксплуатируются, сейчас приходится платить за все. По новой схеме сбор будет значительно меньше. \n",
        "Но владельцы экономичных машин будут выкладывать гораздо больше при равном пробеге. Если цена бензина вырастет на 3,32 рубля, \n",
        "то владелец вазовской «девятки», потребляющей на 100 км в городе около 10 литров, заплатит в год 10162 рубля при среднем пробеге 30 тыс. км вместо 550 руб. по квитанции, \n",
        "а за Citroen C3 мощностью 73 л. с. и расходом 8,5 л на «сотню» придется в год выложить около 8,5 тысяч рублей. Сейчас – 511 руб. \n",
        "Хорошо укомплектованный Ford Focus cо 145-сильным мотором за 30 тыс. км. обойдется в 11155 «налоговых» рублей – на 6800 рублей дороже, \n",
        "чем при существующей ставке налогообложения, а вот налог на пожилой Mercedes-Benz S420 в кузове W140 при новой системе снизится почти вдвое. \n",
        "Сейчас владелец платит в год за 279 л. с. мотора около 41850 рублей. При среднем пробеге в 30 тыс. км в год и расходе топлива порядка 20 л на 100 км \n",
        "он истратит всего 6000 литров бензина и заплатит в казну вдвое меньше – 19920 рублей. С точки зрения власти решение отмены транспортного налога понятное и верное. \n",
        "В первую очередь, собираемость налога тут же возрастет до 100%, потому что новая система исключает возможность уклониться от уплаты. \n",
        "Кроме того, налоговая инспекция сэкономит бюджетные средства на доставке квитанций и судебных издержках при выколачивании средств с неплательщиков. \n",
        "Автоматически решается вопрос с бюрократической неразберихой после продажи машины или утилизации, когда налоговые органы присылают квитанцию на давно проданную машину. \n",
        "Но главное, что при новой схеме сборы значительно возрастут. \n",
        "Власти рассчитывают собирать до 62 млрд рублей в год. Экономисты уже предвидят тотальное повышение цен из-за роста стоимости перевозок. \n",
        "Ведь за бензин придется переплачивать и логистическим компаниям, которые включат дополнительные расходы в цену товара. Получается, что теперь за дороги будут платить не \n",
        "только автомобилисты, но и те, кто за рулем никогда не сидел. Но даже с учетом всех оговорок отмена транспортного налога — это важный и сильный политический шаг, \n",
        "который поможет снять напряжение в регионах. Дело в том, что скрытое налогообложение делает поборы незаметными и не травмирующими. \n",
        "Ведь власти и сейчас любят педалировать тем, что в стране самый низкий в Европе подоходный налог 13%. При этом они не афишируют другие отчисления в бюджет, \n",
        "которые снимаются с граждан с теми же акцизами и НДС.'''"
      ],
      "execution_count": null,
      "outputs": []
    },
    {
      "cell_type": "code",
      "metadata": {
        "colab": {
          "base_uri": "https://localhost:8080/"
        },
        "id": "vlRBS4t12zsn",
        "outputId": "fe2b8d89-aa7e-4228-a8f5-4314bf60e26d"
      },
      "source": [
        "summarizer(article, min_length=5, max_length=50)"
      ],
      "execution_count": null,
      "outputs": [
        {
          "output_type": "execute_result",
          "data": {
            "text/plain": [
              "[{'summary_text': 'Вслед за акцизами на бензин власти намерены завуалировать налог на топливо в акцизы на бензин. По мнению экспертов, это будет выгодно тем, кто покупает машину мощнее, а также тем, кто не'}]"
            ]
          },
          "metadata": {},
          "execution_count": 39
        }
      ]
    },
    {
      "cell_type": "markdown",
      "metadata": {
        "id": "_dgRhjJf4O3h"
      },
      "source": [
        "## Разметка галлюцинаций"
      ]
    },
    {
      "cell_type": "markdown",
      "metadata": {
        "id": "NqSblahg76we"
      },
      "source": [
        "Модели для абстрактивной суммаризации могут случайно сгенерировать факты, которых не было в исходном тексте. Рассмотрим утилиту Factsumm, которая извлекает факты из исходных и суммаризированных документов, а потом сопоставляет их."
      ]
    },
    {
      "cell_type": "code",
      "metadata": {
        "colab": {
          "base_uri": "https://localhost:8080/"
        },
        "id": "J-U6mQRR6rcR",
        "outputId": "3b925f89-6787-4d61-ca7b-f4814caa6609"
      },
      "source": [
        "!pip install factsumm"
      ],
      "execution_count": null,
      "outputs": [
        {
          "output_type": "stream",
          "name": "stdout",
          "text": [
            "Collecting factsumm\n",
            "  Downloading factsumm-0.1.2-py3-none-any.whl (16 kB)\n",
            "Collecting sumeval\n",
            "  Downloading sumeval-0.2.2.tar.gz (80 kB)\n",
            "\u001b[K     |████████████████████████████████| 80 kB 5.1 MB/s \n",
            "\u001b[?25hCollecting pysbd\n",
            "  Downloading pysbd-0.3.4-py3-none-any.whl (71 kB)\n",
            "\u001b[K     |████████████████████████████████| 71 kB 8.0 MB/s \n",
            "\u001b[?25hCollecting stanford-openie\n",
            "  Downloading stanford_openie-1.2.0-py3-none-any.whl (5.3 kB)\n",
            "Collecting bert-score\n",
            "  Downloading bert_score-0.3.10-py3-none-any.whl (59 kB)\n",
            "\u001b[K     |████████████████████████████████| 59 kB 6.9 MB/s \n",
            "\u001b[?25hCollecting rich\n",
            "  Downloading rich-10.14.0-py3-none-any.whl (213 kB)\n",
            "\u001b[K     |████████████████████████████████| 213 kB 46.7 MB/s \n",
            "\u001b[?25hRequirement already satisfied: transformers>=4.6.0 in /usr/local/lib/python3.7/dist-packages (from factsumm) (4.12.5)\n",
            "Collecting flair\n",
            "  Downloading flair-0.10-py3-none-any.whl (322 kB)\n",
            "\u001b[K     |████████████████████████████████| 322 kB 46.3 MB/s \n",
            "\u001b[?25hRequirement already satisfied: pyyaml>=5.1 in /usr/local/lib/python3.7/dist-packages (from transformers>=4.6.0->factsumm) (6.0)\n",
            "Requirement already satisfied: filelock in /usr/local/lib/python3.7/dist-packages (from transformers>=4.6.0->factsumm) (3.3.2)\n",
            "Requirement already satisfied: requests in /usr/local/lib/python3.7/dist-packages (from transformers>=4.6.0->factsumm) (2.23.0)\n",
            "Requirement already satisfied: importlib-metadata in /usr/local/lib/python3.7/dist-packages (from transformers>=4.6.0->factsumm) (4.8.2)\n",
            "Requirement already satisfied: packaging>=20.0 in /usr/local/lib/python3.7/dist-packages (from transformers>=4.6.0->factsumm) (21.2)\n",
            "Requirement already satisfied: tokenizers<0.11,>=0.10.1 in /usr/local/lib/python3.7/dist-packages (from transformers>=4.6.0->factsumm) (0.10.3)\n",
            "Requirement already satisfied: regex!=2019.12.17 in /usr/local/lib/python3.7/dist-packages (from transformers>=4.6.0->factsumm) (2021.11.10)\n",
            "Requirement already satisfied: numpy>=1.17 in /usr/local/lib/python3.7/dist-packages (from transformers>=4.6.0->factsumm) (1.19.5)\n",
            "Requirement already satisfied: tqdm>=4.27 in /usr/local/lib/python3.7/dist-packages (from transformers>=4.6.0->factsumm) (4.62.3)\n",
            "Requirement already satisfied: sacremoses in /usr/local/lib/python3.7/dist-packages (from transformers>=4.6.0->factsumm) (0.0.46)\n",
            "Requirement already satisfied: huggingface-hub<1.0,>=0.1.0 in /usr/local/lib/python3.7/dist-packages (from transformers>=4.6.0->factsumm) (0.1.2)\n",
            "Requirement already satisfied: typing-extensions>=3.7.4.3 in /usr/local/lib/python3.7/dist-packages (from huggingface-hub<1.0,>=0.1.0->transformers>=4.6.0->factsumm) (3.10.0.2)\n",
            "Requirement already satisfied: pyparsing<3,>=2.0.2 in /usr/local/lib/python3.7/dist-packages (from packaging>=20.0->transformers>=4.6.0->factsumm) (2.4.7)\n",
            "Requirement already satisfied: torch>=1.0.0 in /usr/local/lib/python3.7/dist-packages (from bert-score->factsumm) (1.10.0+cu111)\n",
            "Requirement already satisfied: matplotlib in /usr/local/lib/python3.7/dist-packages (from bert-score->factsumm) (3.2.2)\n",
            "Requirement already satisfied: pandas>=1.0.1 in /usr/local/lib/python3.7/dist-packages (from bert-score->factsumm) (1.1.5)\n",
            "Requirement already satisfied: pytz>=2017.2 in /usr/local/lib/python3.7/dist-packages (from pandas>=1.0.1->bert-score->factsumm) (2018.9)\n",
            "Requirement already satisfied: python-dateutil>=2.7.3 in /usr/local/lib/python3.7/dist-packages (from pandas>=1.0.1->bert-score->factsumm) (2.8.2)\n",
            "Requirement already satisfied: six>=1.5 in /usr/local/lib/python3.7/dist-packages (from python-dateutil>=2.7.3->pandas>=1.0.1->bert-score->factsumm) (1.15.0)\n",
            "Collecting wikipedia-api\n",
            "  Downloading Wikipedia-API-0.5.4.tar.gz (18 kB)\n",
            "Collecting ftfy\n",
            "  Downloading ftfy-6.0.3.tar.gz (64 kB)\n",
            "\u001b[K     |████████████████████████████████| 64 kB 2.6 MB/s \n",
            "\u001b[?25hCollecting more-itertools~=8.8.0\n",
            "  Downloading more_itertools-8.8.0-py3-none-any.whl (48 kB)\n",
            "\u001b[K     |████████████████████████████████| 48 kB 4.9 MB/s \n",
            "\u001b[?25hCollecting janome\n",
            "  Downloading Janome-0.4.1-py2.py3-none-any.whl (19.7 MB)\n",
            "\u001b[K     |████████████████████████████████| 19.7 MB 1.6 MB/s \n",
            "\u001b[?25hRequirement already satisfied: scikit-learn>=0.21.3 in /usr/local/lib/python3.7/dist-packages (from flair->factsumm) (1.0.1)\n",
            "Requirement already satisfied: gensim>=3.4.0 in /usr/local/lib/python3.7/dist-packages (from flair->factsumm) (3.6.0)\n",
            "Collecting sqlitedict>=1.6.0\n",
            "  Downloading sqlitedict-1.7.0.tar.gz (28 kB)\n",
            "Collecting mpld3==0.3\n",
            "  Downloading mpld3-0.3.tar.gz (788 kB)\n",
            "\u001b[K     |████████████████████████████████| 788 kB 47.7 MB/s \n",
            "\u001b[?25hCollecting sentencepiece==0.1.95\n",
            "  Downloading sentencepiece-0.1.95-cp37-cp37m-manylinux2014_x86_64.whl (1.2 MB)\n",
            "\u001b[K     |████████████████████████████████| 1.2 MB 33.9 MB/s \n",
            "\u001b[?25hCollecting gdown==3.12.2\n",
            "  Downloading gdown-3.12.2.tar.gz (8.2 kB)\n",
            "  Installing build dependencies ... \u001b[?25l\u001b[?25hdone\n",
            "  Getting requirements to build wheel ... \u001b[?25l\u001b[?25hdone\n",
            "    Preparing wheel metadata ... \u001b[?25l\u001b[?25hdone\n",
            "Collecting conllu>=4.0\n",
            "  Downloading conllu-4.4.1-py2.py3-none-any.whl (15 kB)\n",
            "Collecting bpemb>=0.3.2\n",
            "  Downloading bpemb-0.3.3-py3-none-any.whl (19 kB)\n",
            "Requirement already satisfied: lxml in /usr/local/lib/python3.7/dist-packages (from flair->factsumm) (4.2.6)\n",
            "Requirement already satisfied: tabulate in /usr/local/lib/python3.7/dist-packages (from flair->factsumm) (0.8.9)\n",
            "Collecting konoha<5.0.0,>=4.0.0\n",
            "  Downloading konoha-4.6.5-py3-none-any.whl (20 kB)\n",
            "Collecting segtok>=1.5.7\n",
            "  Downloading segtok-1.5.10.tar.gz (25 kB)\n",
            "Collecting deprecated>=1.2.4\n",
            "  Downloading Deprecated-1.2.13-py2.py3-none-any.whl (9.6 kB)\n",
            "Collecting langdetect\n",
            "  Downloading langdetect-1.0.9.tar.gz (981 kB)\n",
            "\u001b[K     |████████████████████████████████| 981 kB 39.6 MB/s \n",
            "\u001b[?25hRequirement already satisfied: wrapt<2,>=1.10 in /usr/local/lib/python3.7/dist-packages (from deprecated>=1.2.4->flair->factsumm) (1.13.3)\n",
            "Requirement already satisfied: scipy>=0.18.1 in /usr/local/lib/python3.7/dist-packages (from gensim>=3.4.0->flair->factsumm) (1.4.1)\n",
            "Requirement already satisfied: smart-open>=1.2.1 in /usr/local/lib/python3.7/dist-packages (from gensim>=3.4.0->flair->factsumm) (5.2.1)\n",
            "Collecting overrides<4.0.0,>=3.0.0\n",
            "  Downloading overrides-3.1.0.tar.gz (11 kB)\n",
            "Collecting importlib-metadata\n",
            "  Downloading importlib_metadata-3.10.1-py3-none-any.whl (14 kB)\n",
            "Collecting requests\n",
            "  Downloading requests-2.26.0-py2.py3-none-any.whl (62 kB)\n",
            "\u001b[K     |████████████████████████████████| 62 kB 737 kB/s \n",
            "\u001b[?25hRequirement already satisfied: zipp>=0.5 in /usr/local/lib/python3.7/dist-packages (from importlib-metadata->transformers>=4.6.0->factsumm) (3.6.0)\n",
            "Requirement already satisfied: kiwisolver>=1.0.1 in /usr/local/lib/python3.7/dist-packages (from matplotlib->bert-score->factsumm) (1.3.2)\n",
            "Requirement already satisfied: cycler>=0.10 in /usr/local/lib/python3.7/dist-packages (from matplotlib->bert-score->factsumm) (0.11.0)\n",
            "Requirement already satisfied: urllib3<1.27,>=1.21.1 in /usr/local/lib/python3.7/dist-packages (from requests->transformers>=4.6.0->factsumm) (1.24.3)\n",
            "Requirement already satisfied: certifi>=2017.4.17 in /usr/local/lib/python3.7/dist-packages (from requests->transformers>=4.6.0->factsumm) (2021.10.8)\n",
            "Requirement already satisfied: charset-normalizer~=2.0.0 in /usr/local/lib/python3.7/dist-packages (from requests->transformers>=4.6.0->factsumm) (2.0.7)\n",
            "Requirement already satisfied: idna<4,>=2.5 in /usr/local/lib/python3.7/dist-packages (from requests->transformers>=4.6.0->factsumm) (2.10)\n",
            "Requirement already satisfied: joblib>=0.11 in /usr/local/lib/python3.7/dist-packages (from scikit-learn>=0.21.3->flair->factsumm) (1.1.0)\n",
            "Requirement already satisfied: threadpoolctl>=2.0.0 in /usr/local/lib/python3.7/dist-packages (from scikit-learn>=0.21.3->flair->factsumm) (3.0.0)\n",
            "Requirement already satisfied: wcwidth in /usr/local/lib/python3.7/dist-packages (from ftfy->flair->factsumm) (0.2.5)\n",
            "Requirement already satisfied: PySocks!=1.5.7,>=1.5.6 in /usr/local/lib/python3.7/dist-packages (from requests->transformers>=4.6.0->factsumm) (1.7.1)\n",
            "Requirement already satisfied: pygments<3.0.0,>=2.6.0 in /usr/local/lib/python3.7/dist-packages (from rich->factsumm) (2.6.1)\n",
            "Collecting colorama<0.5.0,>=0.4.0\n",
            "  Downloading colorama-0.4.4-py2.py3-none-any.whl (16 kB)\n",
            "Collecting commonmark<0.10.0,>=0.9.0\n",
            "  Downloading commonmark-0.9.1-py2.py3-none-any.whl (51 kB)\n",
            "\u001b[K     |████████████████████████████████| 51 kB 5.5 MB/s \n",
            "\u001b[?25hRequirement already satisfied: click in /usr/local/lib/python3.7/dist-packages (from sacremoses->transformers>=4.6.0->factsumm) (7.1.2)\n",
            "Collecting wget\n",
            "  Downloading wget-3.2.zip (10 kB)\n",
            "Collecting stanfordnlp\n",
            "  Downloading stanfordnlp-0.2.0-py3-none-any.whl (158 kB)\n",
            "\u001b[K     |████████████████████████████████| 158 kB 46.7 MB/s \n",
            "\u001b[?25hRequirement already satisfied: protobuf in /usr/local/lib/python3.7/dist-packages (from stanfordnlp->stanford-openie->factsumm) (3.17.3)\n",
            "Requirement already satisfied: plac>=0.9.6 in /usr/local/lib/python3.7/dist-packages (from sumeval->factsumm) (1.1.3)\n",
            "Collecting sacrebleu>=1.3.2\n",
            "  Downloading sacrebleu-2.0.0-py3-none-any.whl (90 kB)\n",
            "\u001b[K     |████████████████████████████████| 90 kB 9.8 MB/s \n",
            "\u001b[?25hCollecting portalocker\n",
            "  Downloading portalocker-2.3.2-py2.py3-none-any.whl (15 kB)\n",
            "Building wheels for collected packages: gdown, mpld3, overrides, segtok, sqlitedict, ftfy, langdetect, sumeval, wget, wikipedia-api\n",
            "  Building wheel for gdown (PEP 517) ... \u001b[?25l\u001b[?25hdone\n",
            "  Created wheel for gdown: filename=gdown-3.12.2-py3-none-any.whl size=9704 sha256=ea4350bd4fc58dae4cd458c738c311d90d19271836d0912d6232fffe9fd505f1\n",
            "  Stored in directory: /root/.cache/pip/wheels/ba/e0/7e/726e872a53f7358b4b96a9975b04e98113b005cd8609a63abc\n",
            "  Building wheel for mpld3 (setup.py) ... \u001b[?25l\u001b[?25hdone\n",
            "  Created wheel for mpld3: filename=mpld3-0.3-py3-none-any.whl size=116702 sha256=978fa6d68b0e5a1b53be7dcaba1b2621ecf7b523f8b3aa35595871fb5379451c\n",
            "  Stored in directory: /root/.cache/pip/wheels/26/70/6a/1c79e59951a41b4045497da187b2724f5659ca64033cf4548e\n",
            "  Building wheel for overrides (setup.py) ... \u001b[?25l\u001b[?25hdone\n",
            "  Created wheel for overrides: filename=overrides-3.1.0-py3-none-any.whl size=10186 sha256=733a1d04431a7df9bbe23be272fa070807269811e3f3d1c2b8bf7db556c254ce\n",
            "  Stored in directory: /root/.cache/pip/wheels/3a/0d/38/01a9bc6e20dcfaf0a6a7b552d03137558ba1c38aea47644682\n",
            "  Building wheel for segtok (setup.py) ... \u001b[?25l\u001b[?25hdone\n",
            "  Created wheel for segtok: filename=segtok-1.5.10-py3-none-any.whl size=25030 sha256=e5869b0000a1d73882ac29db533a7b3e5bf5f0501c0f902f8364d908f3eef18b\n",
            "  Stored in directory: /root/.cache/pip/wheels/67/b7/d0/a121106e61339eee5ed083bc230b1c8dc422c49a5a28c2addd\n",
            "  Building wheel for sqlitedict (setup.py) ... \u001b[?25l\u001b[?25hdone\n",
            "  Created wheel for sqlitedict: filename=sqlitedict-1.7.0-py3-none-any.whl size=14392 sha256=aa8f275790c149a9219560021dc8bcd2a2701adcffc786e62a11c6ed7e838292\n",
            "  Stored in directory: /root/.cache/pip/wheels/af/94/06/18c0e83e9e227da8f3582810b51f319bbfd181e508676a56c8\n",
            "  Building wheel for ftfy (setup.py) ... \u001b[?25l\u001b[?25hdone\n",
            "  Created wheel for ftfy: filename=ftfy-6.0.3-py3-none-any.whl size=41933 sha256=244bc12e6b55dbc97fde3abbe207a04770641633f0b35be3ef5624a8c7f2d39e\n",
            "  Stored in directory: /root/.cache/pip/wheels/19/f5/38/273eb3b5e76dfd850619312f693716ac4518b498f5ffb6f56d\n",
            "  Building wheel for langdetect (setup.py) ... \u001b[?25l\u001b[?25hdone\n",
            "  Created wheel for langdetect: filename=langdetect-1.0.9-py3-none-any.whl size=993242 sha256=56c77901fd19b452a372f48562448fa2547a928a648ce26a9170b32c975e8bc9\n",
            "  Stored in directory: /root/.cache/pip/wheels/c5/96/8a/f90c59ed25d75e50a8c10a1b1c2d4c402e4dacfa87f3aff36a\n",
            "  Building wheel for sumeval (setup.py) ... \u001b[?25l\u001b[?25hdone\n",
            "  Created wheel for sumeval: filename=sumeval-0.2.2-py3-none-any.whl size=54549 sha256=24a6536512f33c2b118f0bc6c2d35f1cf2f73b40bc6b798a3af41200b4a3fe91\n",
            "  Stored in directory: /root/.cache/pip/wheels/f4/3f/31/c521bdfba2be7518bd94ba3e8b982812822167cc0497fad192\n",
            "  Building wheel for wget (setup.py) ... \u001b[?25l\u001b[?25hdone\n",
            "  Created wheel for wget: filename=wget-3.2-py3-none-any.whl size=9672 sha256=0402dd8a6b8e58a2ea4b276842f71b931fd26b42fe926ee24af2cadb15b0e580\n",
            "  Stored in directory: /root/.cache/pip/wheels/a1/b6/7c/0e63e34eb06634181c63adacca38b79ff8f35c37e3c13e3c02\n",
            "  Building wheel for wikipedia-api (setup.py) ... \u001b[?25l\u001b[?25hdone\n",
            "  Created wheel for wikipedia-api: filename=Wikipedia_API-0.5.4-py3-none-any.whl size=13475 sha256=b2dc02198c0cc363c2a57c7c1a201ec006f23706e11a259fcd953c48ecad3a3c\n",
            "  Stored in directory: /root/.cache/pip/wheels/d3/24/56/58ba93cf78be162451144e7a9889603f437976ef1ae7013d04\n",
            "Successfully built gdown mpld3 overrides segtok sqlitedict ftfy langdetect sumeval wget wikipedia-api\n"
          ]
        }
      ]
    },
    {
      "cell_type": "code",
      "metadata": {
        "id": "-qVyHQq56-cy"
      },
      "source": [
        "from factsumm import FactSumm\n",
        "factsumm = FactSumm()"
      ],
      "execution_count": null,
      "outputs": []
    },
    {
      "cell_type": "code",
      "metadata": {
        "id": "knpVPJnr7IR-"
      },
      "source": [
        "article = \"Lionel Andrés Messi (born 24 June 1987) is an Argentine professional footballer who plays as a forward and captains both Spanish club Barcelona and the Argentina national team. Often considered as the best player in the world and widely regarded as one of the greatest players of all time, Messi has won a record six Ballon d'Or awards, a record six European Golden Shoes, and in 2020 was named to the Ballon d'Or Dream Team.\"\n",
        "summary = \"Lionel Andrés Messi (born 24 Aug 1997) is an Spanish professional footballer who plays as a forward and captains both Spanish club Barcelona and the Spanish national team.\""
      ],
      "execution_count": null,
      "outputs": []
    },
    {
      "cell_type": "code",
      "metadata": {
        "colab": {
          "base_uri": "https://localhost:8080/",
          "height": 979
        },
        "id": "i5pG1W3I7S-d",
        "outputId": "fad7dcb0-d491-4198-e830-a0406492224c"
      },
      "source": [
        "factsumm.extract_facts(article, summary, verbose=True)"
      ],
      "execution_count": null,
      "outputs": [
        {
          "output_type": "display_data",
          "data": {
            "text/html": [
              "<pre style=\"white-space:pre;overflow-x:auto;line-height:normal;font-family:Menlo,'DejaVu Sans Mono',consolas,'Courier New',monospace\">Loading Named Entity Recognition Pipeline<span style=\"color: #808000; text-decoration-color: #808000\">...</span>\n",
              "</pre>\n"
            ],
            "text/plain": [
              "Loading Named Entity Recognition Pipeline\u001b[33m...\u001b[0m\n"
            ]
          },
          "metadata": {}
        },
        {
          "output_type": "display_data",
          "data": {
            "text/html": [
              "<pre style=\"white-space:pre;overflow-x:auto;line-height:normal;font-family:Menlo,'DejaVu Sans Mono',consolas,'Courier New',monospace\">Loading Relation Extraction Pipeline<span style=\"color: #808000; text-decoration-color: #808000\">...</span>\n",
              "</pre>\n"
            ],
            "text/plain": [
              "Loading Relation Extraction Pipeline\u001b[33m...\u001b[0m\n"
            ]
          },
          "metadata": {}
        },
        {
          "output_type": "display_data",
          "data": {
            "text/html": [
              "<pre style=\"white-space:pre;overflow-x:auto;line-height:normal;font-family:Menlo,'DejaVu Sans Mono',consolas,'Courier New',monospace\">SOURCE Entities\n",
              "</pre>\n"
            ],
            "text/plain": [
              "SOURCE Entities\n"
            ]
          },
          "metadata": {}
        },
        {
          "output_type": "display_data",
          "data": {
            "text/html": [
              "<pre style=\"white-space:pre;overflow-x:auto;line-height:normal;font-family:Menlo,'DejaVu Sans Mono',consolas,'Courier New',monospace\"><span style=\"color: #008080; text-decoration-color: #008080; font-weight: bold\">1</span>: <span style=\"font-weight: bold\">[(</span><span style=\"color: #008000; text-decoration-color: #008000\">'Lionel Andrés Messi'</span>, <span style=\"color: #008000; text-decoration-color: #008000\">'PERSON'</span><span style=\"font-weight: bold\">)</span>, <span style=\"font-weight: bold\">(</span><span style=\"color: #008000; text-decoration-color: #008000\">'24 June 1987'</span>, <span style=\"color: #008000; text-decoration-color: #008000\">'DATE'</span><span style=\"font-weight: bold\">)</span>, <span style=\"font-weight: bold\">(</span><span style=\"color: #008000; text-decoration-color: #008000\">'Argentine'</span>, <span style=\"color: #008000; text-decoration-color: #008000\">'NORP'</span><span style=\"font-weight: bold\">)</span>, \n",
              "<span style=\"font-weight: bold\">(</span><span style=\"color: #008000; text-decoration-color: #008000\">'Spanish'</span>, <span style=\"color: #008000; text-decoration-color: #008000\">'NORP'</span><span style=\"font-weight: bold\">)</span>, <span style=\"font-weight: bold\">(</span><span style=\"color: #008000; text-decoration-color: #008000\">'Barcelona'</span>, <span style=\"color: #008000; text-decoration-color: #008000\">'GPE'</span><span style=\"font-weight: bold\">)</span>, <span style=\"font-weight: bold\">(</span><span style=\"color: #008000; text-decoration-color: #008000\">'Argentina'</span>, <span style=\"color: #008000; text-decoration-color: #008000\">'GPE'</span><span style=\"font-weight: bold\">)]</span>\n",
              "</pre>\n"
            ],
            "text/plain": [
              "\u001b[1;36m1\u001b[0m: \u001b[1m[\u001b[0m\u001b[1m(\u001b[0m\u001b[32m'Lionel Andrés Messi'\u001b[0m, \u001b[32m'PERSON'\u001b[0m\u001b[1m)\u001b[0m, \u001b[1m(\u001b[0m\u001b[32m'24 June 1987'\u001b[0m, \u001b[32m'DATE'\u001b[0m\u001b[1m)\u001b[0m, \u001b[1m(\u001b[0m\u001b[32m'Argentine'\u001b[0m, \u001b[32m'NORP'\u001b[0m\u001b[1m)\u001b[0m, \n",
              "\u001b[1m(\u001b[0m\u001b[32m'Spanish'\u001b[0m, \u001b[32m'NORP'\u001b[0m\u001b[1m)\u001b[0m, \u001b[1m(\u001b[0m\u001b[32m'Barcelona'\u001b[0m, \u001b[32m'GPE'\u001b[0m\u001b[1m)\u001b[0m, \u001b[1m(\u001b[0m\u001b[32m'Argentina'\u001b[0m, \u001b[32m'GPE'\u001b[0m\u001b[1m)\u001b[0m\u001b[1m]\u001b[0m\n"
            ]
          },
          "metadata": {}
        },
        {
          "output_type": "display_data",
          "data": {
            "text/html": [
              "<pre style=\"white-space:pre;overflow-x:auto;line-height:normal;font-family:Menlo,'DejaVu Sans Mono',consolas,'Courier New',monospace\"><span style=\"color: #008080; text-decoration-color: #008080; font-weight: bold\">2</span>: <span style=\"font-weight: bold\">[(</span><span style=\"color: #008000; text-decoration-color: #008000\">'one'</span>, <span style=\"color: #008000; text-decoration-color: #008000\">'CARDINAL'</span><span style=\"font-weight: bold\">)</span>, <span style=\"font-weight: bold\">(</span><span style=\"color: #008000; text-decoration-color: #008000\">'Messi'</span>, <span style=\"color: #008000; text-decoration-color: #008000\">'PERSON'</span><span style=\"font-weight: bold\">)</span>, <span style=\"font-weight: bold\">(</span><span style=\"color: #008000; text-decoration-color: #008000\">'six'</span>, <span style=\"color: #008000; text-decoration-color: #008000\">'CARDINAL'</span><span style=\"font-weight: bold\">)</span>, <span style=\"font-weight: bold\">(</span><span style=\"color: #008000; text-decoration-color: #008000\">'European Golden Shoes'</span>, \n",
              "<span style=\"color: #008000; text-decoration-color: #008000\">'WORK_OF_ART'</span><span style=\"font-weight: bold\">)</span>, <span style=\"font-weight: bold\">(</span><span style=\"color: #008000; text-decoration-color: #008000\">'2020'</span>, <span style=\"color: #008000; text-decoration-color: #008000\">'DATE'</span><span style=\"font-weight: bold\">)</span>, <span style=\"font-weight: bold\">(</span><span style=\"color: #008000; text-decoration-color: #008000\">\"the Ballon d'Or Dream Team\"</span>, <span style=\"color: #008000; text-decoration-color: #008000\">'ORG'</span><span style=\"font-weight: bold\">)]</span>\n",
              "</pre>\n"
            ],
            "text/plain": [
              "\u001b[1;36m2\u001b[0m: \u001b[1m[\u001b[0m\u001b[1m(\u001b[0m\u001b[32m'one'\u001b[0m, \u001b[32m'CARDINAL'\u001b[0m\u001b[1m)\u001b[0m, \u001b[1m(\u001b[0m\u001b[32m'Messi'\u001b[0m, \u001b[32m'PERSON'\u001b[0m\u001b[1m)\u001b[0m, \u001b[1m(\u001b[0m\u001b[32m'six'\u001b[0m, \u001b[32m'CARDINAL'\u001b[0m\u001b[1m)\u001b[0m, \u001b[1m(\u001b[0m\u001b[32m'European Golden Shoes'\u001b[0m, \n",
              "\u001b[32m'WORK_OF_ART'\u001b[0m\u001b[1m)\u001b[0m, \u001b[1m(\u001b[0m\u001b[32m'2020'\u001b[0m, \u001b[32m'DATE'\u001b[0m\u001b[1m)\u001b[0m, \u001b[1m(\u001b[0m\u001b[32m\"the Ballon d'Or Dream Team\"\u001b[0m, \u001b[32m'ORG'\u001b[0m\u001b[1m)\u001b[0m\u001b[1m]\u001b[0m\n"
            ]
          },
          "metadata": {}
        },
        {
          "output_type": "display_data",
          "data": {
            "text/html": [
              "<pre style=\"white-space:pre;overflow-x:auto;line-height:normal;font-family:Menlo,'DejaVu Sans Mono',consolas,'Courier New',monospace\">\n",
              "</pre>\n"
            ],
            "text/plain": [
              "\n"
            ]
          },
          "metadata": {}
        },
        {
          "output_type": "display_data",
          "data": {
            "text/html": [
              "<pre style=\"white-space:pre;overflow-x:auto;line-height:normal;font-family:Menlo,'DejaVu Sans Mono',consolas,'Courier New',monospace\">SUMMARY Entities\n",
              "</pre>\n"
            ],
            "text/plain": [
              "SUMMARY Entities\n"
            ]
          },
          "metadata": {}
        },
        {
          "output_type": "display_data",
          "data": {
            "text/html": [
              "<pre style=\"white-space:pre;overflow-x:auto;line-height:normal;font-family:Menlo,'DejaVu Sans Mono',consolas,'Courier New',monospace\"><span style=\"color: #008080; text-decoration-color: #008080; font-weight: bold\">1</span>: <span style=\"font-weight: bold\">[(</span><span style=\"color: #008000; text-decoration-color: #008000\">'Lionel Andrés Messi'</span>, <span style=\"color: #008000; text-decoration-color: #008000\">'PERSON'</span><span style=\"font-weight: bold\">)</span>, <span style=\"font-weight: bold\">(</span><span style=\"color: #008000; text-decoration-color: #008000\">'24 Aug 1997'</span>, <span style=\"color: #008000; text-decoration-color: #008000\">'DATE'</span><span style=\"font-weight: bold\">)</span>, <span style=\"font-weight: bold\">(</span><span style=\"color: #008000; text-decoration-color: #008000\">'Spanish'</span>, <span style=\"color: #008000; text-decoration-color: #008000\">'NORP'</span><span style=\"font-weight: bold\">)</span>, \n",
              "<span style=\"font-weight: bold\">(</span><span style=\"color: #008000; text-decoration-color: #008000\">'Barcelona'</span>, <span style=\"color: #008000; text-decoration-color: #008000\">'ORG'</span><span style=\"font-weight: bold\">)]</span>\n",
              "</pre>\n"
            ],
            "text/plain": [
              "\u001b[1;36m1\u001b[0m: \u001b[1m[\u001b[0m\u001b[1m(\u001b[0m\u001b[32m'Lionel Andrés Messi'\u001b[0m, \u001b[32m'PERSON'\u001b[0m\u001b[1m)\u001b[0m, \u001b[1m(\u001b[0m\u001b[32m'24 Aug 1997'\u001b[0m, \u001b[32m'DATE'\u001b[0m\u001b[1m)\u001b[0m, \u001b[1m(\u001b[0m\u001b[32m'Spanish'\u001b[0m, \u001b[32m'NORP'\u001b[0m\u001b[1m)\u001b[0m, \n",
              "\u001b[1m(\u001b[0m\u001b[32m'Barcelona'\u001b[0m, \u001b[32m'ORG'\u001b[0m\u001b[1m)\u001b[0m\u001b[1m]\u001b[0m\n"
            ]
          },
          "metadata": {}
        },
        {
          "output_type": "display_data",
          "data": {
            "text/html": [
              "<pre style=\"white-space:pre;overflow-x:auto;line-height:normal;font-family:Menlo,'DejaVu Sans Mono',consolas,'Courier New',monospace\">\n",
              "</pre>\n"
            ],
            "text/plain": [
              "\n"
            ]
          },
          "metadata": {}
        },
        {
          "output_type": "display_data",
          "data": {
            "text/html": [
              "<pre style=\"white-space:pre;overflow-x:auto;line-height:normal;font-family:Menlo,'DejaVu Sans Mono',consolas,'Courier New',monospace\">SOURCE Facts\n",
              "</pre>\n"
            ],
            "text/plain": [
              "SOURCE Facts\n"
            ]
          },
          "metadata": {}
        },
        {
          "output_type": "display_data",
          "data": {
            "text/html": [
              "<pre style=\"white-space:pre;overflow-x:auto;line-height:normal;font-family:Menlo,'DejaVu Sans Mono',consolas,'Courier New',monospace\"><span style=\"font-weight: bold\">(</span><span style=\"color: #008000; text-decoration-color: #008000\">'Lionel Andrés Messi'</span>, <span style=\"color: #008000; text-decoration-color: #008000\">'per:origin'</span>, <span style=\"color: #008000; text-decoration-color: #008000\">'Argentine'</span><span style=\"font-weight: bold\">)</span>\n",
              "</pre>\n"
            ],
            "text/plain": [
              "\u001b[1m(\u001b[0m\u001b[32m'Lionel Andrés Messi'\u001b[0m, \u001b[32m'per:origin'\u001b[0m, \u001b[32m'Argentine'\u001b[0m\u001b[1m)\u001b[0m\n"
            ]
          },
          "metadata": {}
        },
        {
          "output_type": "display_data",
          "data": {
            "text/html": [
              "<pre style=\"white-space:pre;overflow-x:auto;line-height:normal;font-family:Menlo,'DejaVu Sans Mono',consolas,'Courier New',monospace\"><span style=\"font-weight: bold\">(</span><span style=\"color: #008000; text-decoration-color: #008000\">'Spanish'</span>, <span style=\"color: #008000; text-decoration-color: #008000\">'per:date_of_birth'</span>, <span style=\"color: #008000; text-decoration-color: #008000\">'24 June 1987'</span><span style=\"font-weight: bold\">)</span>\n",
              "</pre>\n"
            ],
            "text/plain": [
              "\u001b[1m(\u001b[0m\u001b[32m'Spanish'\u001b[0m, \u001b[32m'per:date_of_birth'\u001b[0m, \u001b[32m'24 June 1987'\u001b[0m\u001b[1m)\u001b[0m\n"
            ]
          },
          "metadata": {}
        },
        {
          "output_type": "display_data",
          "data": {
            "text/html": [
              "<pre style=\"white-space:pre;overflow-x:auto;line-height:normal;font-family:Menlo,'DejaVu Sans Mono',consolas,'Courier New',monospace\"><span style=\"font-weight: bold\">(</span><span style=\"color: #008000; text-decoration-color: #008000\">'Spanish'</span>, <span style=\"color: #008000; text-decoration-color: #008000\">'org:members'</span>, <span style=\"color: #008000; text-decoration-color: #008000\">'Barcelona'</span><span style=\"font-weight: bold\">)</span>\n",
              "</pre>\n"
            ],
            "text/plain": [
              "\u001b[1m(\u001b[0m\u001b[32m'Spanish'\u001b[0m, \u001b[32m'org:members'\u001b[0m, \u001b[32m'Barcelona'\u001b[0m\u001b[1m)\u001b[0m\n"
            ]
          },
          "metadata": {}
        },
        {
          "output_type": "display_data",
          "data": {
            "text/html": [
              "<pre style=\"white-space:pre;overflow-x:auto;line-height:normal;font-family:Menlo,'DejaVu Sans Mono',consolas,'Courier New',monospace\"><span style=\"font-weight: bold\">(</span><span style=\"color: #008000; text-decoration-color: #008000\">'Lionel Andrés Messi'</span>, <span style=\"color: #008000; text-decoration-color: #008000\">'per:employee_of'</span>, <span style=\"color: #008000; text-decoration-color: #008000\">'Barcelona'</span><span style=\"font-weight: bold\">)</span>\n",
              "</pre>\n"
            ],
            "text/plain": [
              "\u001b[1m(\u001b[0m\u001b[32m'Lionel Andrés Messi'\u001b[0m, \u001b[32m'per:employee_of'\u001b[0m, \u001b[32m'Barcelona'\u001b[0m\u001b[1m)\u001b[0m\n"
            ]
          },
          "metadata": {}
        },
        {
          "output_type": "display_data",
          "data": {
            "text/html": [
              "<pre style=\"white-space:pre;overflow-x:auto;line-height:normal;font-family:Menlo,'DejaVu Sans Mono',consolas,'Courier New',monospace\"><span style=\"font-weight: bold\">(</span><span style=\"color: #008000; text-decoration-color: #008000\">'Barcelona'</span>, <span style=\"color: #008000; text-decoration-color: #008000\">'org:top_members/employees'</span>, <span style=\"color: #008000; text-decoration-color: #008000\">'Lionel Andrés Messi'</span><span style=\"font-weight: bold\">)</span>\n",
              "</pre>\n"
            ],
            "text/plain": [
              "\u001b[1m(\u001b[0m\u001b[32m'Barcelona'\u001b[0m, \u001b[32m'org:top_members/employees'\u001b[0m, \u001b[32m'Lionel Andrés Messi'\u001b[0m\u001b[1m)\u001b[0m\n"
            ]
          },
          "metadata": {}
        },
        {
          "output_type": "display_data",
          "data": {
            "text/html": [
              "<pre style=\"white-space:pre;overflow-x:auto;line-height:normal;font-family:Menlo,'DejaVu Sans Mono',consolas,'Courier New',monospace\"><span style=\"font-weight: bold\">(</span><span style=\"color: #008000; text-decoration-color: #008000\">'Lionel Andrés Messi'</span>, <span style=\"color: #008000; text-decoration-color: #008000\">'per:date_of_birth'</span>, <span style=\"color: #008000; text-decoration-color: #008000\">'24 June 1987'</span><span style=\"font-weight: bold\">)</span>\n",
              "</pre>\n"
            ],
            "text/plain": [
              "\u001b[1m(\u001b[0m\u001b[32m'Lionel Andrés Messi'\u001b[0m, \u001b[32m'per:date_of_birth'\u001b[0m, \u001b[32m'24 June 1987'\u001b[0m\u001b[1m)\u001b[0m\n"
            ]
          },
          "metadata": {}
        },
        {
          "output_type": "display_data",
          "data": {
            "text/html": [
              "<pre style=\"white-space:pre;overflow-x:auto;line-height:normal;font-family:Menlo,'DejaVu Sans Mono',consolas,'Courier New',monospace\"><span style=\"font-weight: bold\">(</span><span style=\"color: #008000; text-decoration-color: #008000\">'Spanish'</span>, <span style=\"color: #008000; text-decoration-color: #008000\">'org:top_members/employees'</span>, <span style=\"color: #008000; text-decoration-color: #008000\">'Lionel Andrés Messi'</span><span style=\"font-weight: bold\">)</span>\n",
              "</pre>\n"
            ],
            "text/plain": [
              "\u001b[1m(\u001b[0m\u001b[32m'Spanish'\u001b[0m, \u001b[32m'org:top_members/employees'\u001b[0m, \u001b[32m'Lionel Andrés Messi'\u001b[0m\u001b[1m)\u001b[0m\n"
            ]
          },
          "metadata": {}
        },
        {
          "output_type": "display_data",
          "data": {
            "text/html": [
              "<pre style=\"white-space:pre;overflow-x:auto;line-height:normal;font-family:Menlo,'DejaVu Sans Mono',consolas,'Courier New',monospace\">\n",
              "</pre>\n"
            ],
            "text/plain": [
              "\n"
            ]
          },
          "metadata": {}
        },
        {
          "output_type": "display_data",
          "data": {
            "text/html": [
              "<pre style=\"white-space:pre;overflow-x:auto;line-height:normal;font-family:Menlo,'DejaVu Sans Mono',consolas,'Courier New',monospace\">SUMMARY Facts\n",
              "</pre>\n"
            ],
            "text/plain": [
              "SUMMARY Facts\n"
            ]
          },
          "metadata": {}
        },
        {
          "output_type": "display_data",
          "data": {
            "text/html": [
              "<pre style=\"white-space:pre;overflow-x:auto;line-height:normal;font-family:Menlo,'DejaVu Sans Mono',consolas,'Courier New',monospace\"><span style=\"font-weight: bold\">(</span><span style=\"color: #008000; text-decoration-color: #008000\">'Spanish'</span>, <span style=\"color: #008000; text-decoration-color: #008000\">'per:date_of_birth'</span>, <span style=\"color: #008000; text-decoration-color: #008000\">'24 Aug 1997'</span><span style=\"font-weight: bold\">)</span>\n",
              "</pre>\n"
            ],
            "text/plain": [
              "\u001b[1m(\u001b[0m\u001b[32m'Spanish'\u001b[0m, \u001b[32m'per:date_of_birth'\u001b[0m, \u001b[32m'24 Aug 1997'\u001b[0m\u001b[1m)\u001b[0m\n"
            ]
          },
          "metadata": {}
        },
        {
          "output_type": "display_data",
          "data": {
            "text/html": [
              "<pre style=\"white-space:pre;overflow-x:auto;line-height:normal;font-family:Menlo,'DejaVu Sans Mono',consolas,'Courier New',monospace\"><span style=\"font-weight: bold\">(</span><span style=\"color: #008000; text-decoration-color: #008000\">'Lionel Andrés Messi'</span>, <span style=\"color: #008000; text-decoration-color: #008000\">'per:origin'</span>, <span style=\"color: #008000; text-decoration-color: #008000\">'Spanish'</span><span style=\"font-weight: bold\">)</span>\n",
              "</pre>\n"
            ],
            "text/plain": [
              "\u001b[1m(\u001b[0m\u001b[32m'Lionel Andrés Messi'\u001b[0m, \u001b[32m'per:origin'\u001b[0m, \u001b[32m'Spanish'\u001b[0m\u001b[1m)\u001b[0m\n"
            ]
          },
          "metadata": {}
        },
        {
          "output_type": "display_data",
          "data": {
            "text/html": [
              "<pre style=\"white-space:pre;overflow-x:auto;line-height:normal;font-family:Menlo,'DejaVu Sans Mono',consolas,'Courier New',monospace\"><span style=\"font-weight: bold\">(</span><span style=\"color: #008000; text-decoration-color: #008000\">'Spanish'</span>, <span style=\"color: #008000; text-decoration-color: #008000\">'org:members'</span>, <span style=\"color: #008000; text-decoration-color: #008000\">'Barcelona'</span><span style=\"font-weight: bold\">)</span>\n",
              "</pre>\n"
            ],
            "text/plain": [
              "\u001b[1m(\u001b[0m\u001b[32m'Spanish'\u001b[0m, \u001b[32m'org:members'\u001b[0m, \u001b[32m'Barcelona'\u001b[0m\u001b[1m)\u001b[0m\n"
            ]
          },
          "metadata": {}
        },
        {
          "output_type": "display_data",
          "data": {
            "text/html": [
              "<pre style=\"white-space:pre;overflow-x:auto;line-height:normal;font-family:Menlo,'DejaVu Sans Mono',consolas,'Courier New',monospace\"><span style=\"font-weight: bold\">(</span><span style=\"color: #008000; text-decoration-color: #008000\">'Lionel Andrés Messi'</span>, <span style=\"color: #008000; text-decoration-color: #008000\">'per:employee_of'</span>, <span style=\"color: #008000; text-decoration-color: #008000\">'Barcelona'</span><span style=\"font-weight: bold\">)</span>\n",
              "</pre>\n"
            ],
            "text/plain": [
              "\u001b[1m(\u001b[0m\u001b[32m'Lionel Andrés Messi'\u001b[0m, \u001b[32m'per:employee_of'\u001b[0m, \u001b[32m'Barcelona'\u001b[0m\u001b[1m)\u001b[0m\n"
            ]
          },
          "metadata": {}
        },
        {
          "output_type": "display_data",
          "data": {
            "text/html": [
              "<pre style=\"white-space:pre;overflow-x:auto;line-height:normal;font-family:Menlo,'DejaVu Sans Mono',consolas,'Courier New',monospace\"><span style=\"font-weight: bold\">(</span><span style=\"color: #008000; text-decoration-color: #008000\">'Barcelona'</span>, <span style=\"color: #008000; text-decoration-color: #008000\">'org:top_members/employees'</span>, <span style=\"color: #008000; text-decoration-color: #008000\">'Lionel Andrés Messi'</span><span style=\"font-weight: bold\">)</span>\n",
              "</pre>\n"
            ],
            "text/plain": [
              "\u001b[1m(\u001b[0m\u001b[32m'Barcelona'\u001b[0m, \u001b[32m'org:top_members/employees'\u001b[0m, \u001b[32m'Lionel Andrés Messi'\u001b[0m\u001b[1m)\u001b[0m\n"
            ]
          },
          "metadata": {}
        },
        {
          "output_type": "display_data",
          "data": {
            "text/html": [
              "<pre style=\"white-space:pre;overflow-x:auto;line-height:normal;font-family:Menlo,'DejaVu Sans Mono',consolas,'Courier New',monospace\"><span style=\"font-weight: bold\">(</span><span style=\"color: #008000; text-decoration-color: #008000\">'Lionel Andrés Messi'</span>, <span style=\"color: #008000; text-decoration-color: #008000\">'per:date_of_birth'</span>, <span style=\"color: #008000; text-decoration-color: #008000\">'24 Aug 1997'</span><span style=\"font-weight: bold\">)</span>\n",
              "</pre>\n"
            ],
            "text/plain": [
              "\u001b[1m(\u001b[0m\u001b[32m'Lionel Andrés Messi'\u001b[0m, \u001b[32m'per:date_of_birth'\u001b[0m, \u001b[32m'24 Aug 1997'\u001b[0m\u001b[1m)\u001b[0m\n"
            ]
          },
          "metadata": {}
        },
        {
          "output_type": "display_data",
          "data": {
            "text/html": [
              "<pre style=\"white-space:pre;overflow-x:auto;line-height:normal;font-family:Menlo,'DejaVu Sans Mono',consolas,'Courier New',monospace\"><span style=\"font-weight: bold\">(</span><span style=\"color: #008000; text-decoration-color: #008000\">'Spanish'</span>, <span style=\"color: #008000; text-decoration-color: #008000\">'org:top_members/employees'</span>, <span style=\"color: #008000; text-decoration-color: #008000\">'Lionel Andrés Messi'</span><span style=\"font-weight: bold\">)</span>\n",
              "</pre>\n"
            ],
            "text/plain": [
              "\u001b[1m(\u001b[0m\u001b[32m'Spanish'\u001b[0m, \u001b[32m'org:top_members/employees'\u001b[0m, \u001b[32m'Lionel Andrés Messi'\u001b[0m\u001b[1m)\u001b[0m\n"
            ]
          },
          "metadata": {}
        },
        {
          "output_type": "display_data",
          "data": {
            "text/html": [
              "<pre style=\"white-space:pre;overflow-x:auto;line-height:normal;font-family:Menlo,'DejaVu Sans Mono',consolas,'Courier New',monospace\">\n",
              "</pre>\n"
            ],
            "text/plain": [
              "\n"
            ]
          },
          "metadata": {}
        },
        {
          "output_type": "display_data",
          "data": {
            "text/html": [
              "<pre style=\"white-space:pre;overflow-x:auto;line-height:normal;font-family:Menlo,'DejaVu Sans Mono',consolas,'Courier New',monospace\">COMMON Facts\n",
              "</pre>\n"
            ],
            "text/plain": [
              "COMMON Facts\n"
            ]
          },
          "metadata": {}
        },
        {
          "output_type": "display_data",
          "data": {
            "text/html": [
              "<pre style=\"white-space:pre;overflow-x:auto;line-height:normal;font-family:Menlo,'DejaVu Sans Mono',consolas,'Courier New',monospace\"><span style=\"font-weight: bold\">(</span><span style=\"color: #008000; text-decoration-color: #008000\">'Spanish'</span>, <span style=\"color: #008000; text-decoration-color: #008000\">'org:members'</span>, <span style=\"color: #008000; text-decoration-color: #008000\">'Barcelona'</span><span style=\"font-weight: bold\">)</span>\n",
              "</pre>\n"
            ],
            "text/plain": [
              "\u001b[1m(\u001b[0m\u001b[32m'Spanish'\u001b[0m, \u001b[32m'org:members'\u001b[0m, \u001b[32m'Barcelona'\u001b[0m\u001b[1m)\u001b[0m\n"
            ]
          },
          "metadata": {}
        },
        {
          "output_type": "display_data",
          "data": {
            "text/html": [
              "<pre style=\"white-space:pre;overflow-x:auto;line-height:normal;font-family:Menlo,'DejaVu Sans Mono',consolas,'Courier New',monospace\"><span style=\"font-weight: bold\">(</span><span style=\"color: #008000; text-decoration-color: #008000\">'Lionel Andrés Messi'</span>, <span style=\"color: #008000; text-decoration-color: #008000\">'per:employee_of'</span>, <span style=\"color: #008000; text-decoration-color: #008000\">'Barcelona'</span><span style=\"font-weight: bold\">)</span>\n",
              "</pre>\n"
            ],
            "text/plain": [
              "\u001b[1m(\u001b[0m\u001b[32m'Lionel Andrés Messi'\u001b[0m, \u001b[32m'per:employee_of'\u001b[0m, \u001b[32m'Barcelona'\u001b[0m\u001b[1m)\u001b[0m\n"
            ]
          },
          "metadata": {}
        },
        {
          "output_type": "display_data",
          "data": {
            "text/html": [
              "<pre style=\"white-space:pre;overflow-x:auto;line-height:normal;font-family:Menlo,'DejaVu Sans Mono',consolas,'Courier New',monospace\"><span style=\"font-weight: bold\">(</span><span style=\"color: #008000; text-decoration-color: #008000\">'Spanish'</span>, <span style=\"color: #008000; text-decoration-color: #008000\">'org:top_members/employees'</span>, <span style=\"color: #008000; text-decoration-color: #008000\">'Lionel Andrés Messi'</span><span style=\"font-weight: bold\">)</span>\n",
              "</pre>\n"
            ],
            "text/plain": [
              "\u001b[1m(\u001b[0m\u001b[32m'Spanish'\u001b[0m, \u001b[32m'org:top_members/employees'\u001b[0m, \u001b[32m'Lionel Andrés Messi'\u001b[0m\u001b[1m)\u001b[0m\n"
            ]
          },
          "metadata": {}
        },
        {
          "output_type": "display_data",
          "data": {
            "text/html": [
              "<pre style=\"white-space:pre;overflow-x:auto;line-height:normal;font-family:Menlo,'DejaVu Sans Mono',consolas,'Courier New',monospace\"><span style=\"font-weight: bold\">(</span><span style=\"color: #008000; text-decoration-color: #008000\">'Barcelona'</span>, <span style=\"color: #008000; text-decoration-color: #008000\">'org:top_members/employees'</span>, <span style=\"color: #008000; text-decoration-color: #008000\">'Lionel Andrés Messi'</span><span style=\"font-weight: bold\">)</span>\n",
              "</pre>\n"
            ],
            "text/plain": [
              "\u001b[1m(\u001b[0m\u001b[32m'Barcelona'\u001b[0m, \u001b[32m'org:top_members/employees'\u001b[0m, \u001b[32m'Lionel Andrés Messi'\u001b[0m\u001b[1m)\u001b[0m\n"
            ]
          },
          "metadata": {}
        },
        {
          "output_type": "display_data",
          "data": {
            "text/html": [
              "<pre style=\"white-space:pre;overflow-x:auto;line-height:normal;font-family:Menlo,'DejaVu Sans Mono',consolas,'Courier New',monospace\">\n",
              "</pre>\n"
            ],
            "text/plain": [
              "\n"
            ]
          },
          "metadata": {}
        },
        {
          "output_type": "display_data",
          "data": {
            "text/html": [
              "<pre style=\"white-space:pre;overflow-x:auto;line-height:normal;font-family:Menlo,'DejaVu Sans Mono',consolas,'Courier New',monospace\">DIFF Facts\n",
              "</pre>\n"
            ],
            "text/plain": [
              "DIFF Facts\n"
            ]
          },
          "metadata": {}
        },
        {
          "output_type": "display_data",
          "data": {
            "text/html": [
              "<pre style=\"white-space:pre;overflow-x:auto;line-height:normal;font-family:Menlo,'DejaVu Sans Mono',consolas,'Courier New',monospace\"><span style=\"font-weight: bold\">(</span><span style=\"color: #008000; text-decoration-color: #008000\">'Lionel Andrés Messi'</span>, <span style=\"color: #008000; text-decoration-color: #008000\">'per:origin'</span>, <span style=\"color: #008000; text-decoration-color: #008000\">'Spanish'</span><span style=\"font-weight: bold\">)</span>\n",
              "</pre>\n"
            ],
            "text/plain": [
              "\u001b[1m(\u001b[0m\u001b[32m'Lionel Andrés Messi'\u001b[0m, \u001b[32m'per:origin'\u001b[0m, \u001b[32m'Spanish'\u001b[0m\u001b[1m)\u001b[0m\n"
            ]
          },
          "metadata": {}
        },
        {
          "output_type": "display_data",
          "data": {
            "text/html": [
              "<pre style=\"white-space:pre;overflow-x:auto;line-height:normal;font-family:Menlo,'DejaVu Sans Mono',consolas,'Courier New',monospace\"><span style=\"font-weight: bold\">(</span><span style=\"color: #008000; text-decoration-color: #008000\">'Lionel Andrés Messi'</span>, <span style=\"color: #008000; text-decoration-color: #008000\">'per:date_of_birth'</span>, <span style=\"color: #008000; text-decoration-color: #008000\">'24 Aug 1997'</span><span style=\"font-weight: bold\">)</span>\n",
              "</pre>\n"
            ],
            "text/plain": [
              "\u001b[1m(\u001b[0m\u001b[32m'Lionel Andrés Messi'\u001b[0m, \u001b[32m'per:date_of_birth'\u001b[0m, \u001b[32m'24 Aug 1997'\u001b[0m\u001b[1m)\u001b[0m\n"
            ]
          },
          "metadata": {}
        },
        {
          "output_type": "display_data",
          "data": {
            "text/html": [
              "<pre style=\"white-space:pre;overflow-x:auto;line-height:normal;font-family:Menlo,'DejaVu Sans Mono',consolas,'Courier New',monospace\"><span style=\"font-weight: bold\">(</span><span style=\"color: #008000; text-decoration-color: #008000\">'Spanish'</span>, <span style=\"color: #008000; text-decoration-color: #008000\">'per:date_of_birth'</span>, <span style=\"color: #008000; text-decoration-color: #008000\">'24 Aug 1997'</span><span style=\"font-weight: bold\">)</span>\n",
              "</pre>\n"
            ],
            "text/plain": [
              "\u001b[1m(\u001b[0m\u001b[32m'Spanish'\u001b[0m, \u001b[32m'per:date_of_birth'\u001b[0m, \u001b[32m'24 Aug 1997'\u001b[0m\u001b[1m)\u001b[0m\n"
            ]
          },
          "metadata": {}
        },
        {
          "output_type": "display_data",
          "data": {
            "text/html": [
              "<pre style=\"white-space:pre;overflow-x:auto;line-height:normal;font-family:Menlo,'DejaVu Sans Mono',consolas,'Courier New',monospace\">\n",
              "</pre>\n"
            ],
            "text/plain": [
              "\n"
            ]
          },
          "metadata": {}
        },
        {
          "output_type": "display_data",
          "data": {
            "text/html": [
              "<pre style=\"white-space:pre;overflow-x:auto;line-height:normal;font-family:Menlo,'DejaVu Sans Mono',consolas,'Courier New',monospace\">Fact Score: <span style=\"color: #008080; text-decoration-color: #008080; font-weight: bold\">0.5714285714285714</span>\n",
              "</pre>\n"
            ],
            "text/plain": [
              "Fact Score: \u001b[1;36m0.5714285714285714\u001b[0m\n"
            ]
          },
          "metadata": {}
        },
        {
          "output_type": "execute_result",
          "data": {
            "text/plain": [
              "([[{'end': 19, 'entity': 'PERSON', 'start': 0, 'word': 'Lionel Andrés Messi'},\n",
              "   {'end': 38, 'entity': 'DATE', 'start': 26, 'word': '24 June 1987'},\n",
              "   {'end': 55, 'entity': 'NORP', 'start': 46, 'word': 'Argentine'},\n",
              "   {'end': 128, 'entity': 'NORP', 'start': 121, 'word': 'Spanish'},\n",
              "   {'end': 143, 'entity': 'GPE', 'start': 134, 'word': 'Barcelona'},\n",
              "   {'end': 161, 'entity': 'GPE', 'start': 152, 'word': 'Argentina'}],\n",
              "  [{'end': 75, 'entity': 'CARDINAL', 'start': 72, 'word': 'one'},\n",
              "   {'end': 118, 'entity': 'PERSON', 'start': 113, 'word': 'Messi'},\n",
              "   {'end': 139, 'entity': 'CARDINAL', 'start': 136, 'word': 'six'},\n",
              "   {'end': 194,\n",
              "    'entity': 'WORK_OF_ART',\n",
              "    'start': 173,\n",
              "    'word': 'European Golden Shoes'},\n",
              "   {'end': 207, 'entity': 'DATE', 'start': 203, 'word': '2020'},\n",
              "   {'end': 247,\n",
              "    'entity': 'ORG',\n",
              "    'start': 221,\n",
              "    'word': \"the Ballon d'Or Dream Team\"}]],\n",
              " [[{'end': 19, 'entity': 'PERSON', 'start': 0, 'word': 'Lionel Andrés Messi'},\n",
              "   {'end': 37, 'entity': 'DATE', 'start': 26, 'word': '24 Aug 1997'},\n",
              "   {'end': 52, 'entity': 'NORP', 'start': 45, 'word': 'Spanish'},\n",
              "   {'end': 140, 'entity': 'ORG', 'start': 131, 'word': 'Barcelona'}]],\n",
              " 0.5714285714285714)"
            ]
          },
          "metadata": {},
          "execution_count": 4
        }
      ]
    },
    {
      "cell_type": "markdown",
      "metadata": {
        "id": "ugw2az1z9Jfk"
      },
      "source": [
        "Для решения этой задачи можно также использовать датасет [XSum factuality](https://huggingface.co/datasets/xsum_factuality)"
      ]
    },
    {
      "cell_type": "markdown",
      "metadata": {
        "id": "bHD5_K6UW-H6"
      },
      "source": [
        "# Экстрактивная суммаризация"
      ]
    },
    {
      "cell_type": "markdown",
      "metadata": {
        "id": "eAH_5tLxH705"
      },
      "source": [
        "Сегодня мы познакомимся с методом TextRank, основанном на графах. Это популярный алгоритм Extractive Summarization."
      ]
    },
    {
      "cell_type": "markdown",
      "metadata": {
        "id": "9er1iwEde7XQ"
      },
      "source": [
        "Сегодня мы познакомимся с методом *TextRank*, основанном на графах. Это популярный алгоритм Extractive Summarization. "
      ]
    },
    {
      "cell_type": "code",
      "metadata": {
        "id": "ZHd0pHG-e7XQ"
      },
      "source": [
        "from tqdm import tqdm_notebook as tqdm"
      ],
      "execution_count": null,
      "outputs": []
    },
    {
      "cell_type": "code",
      "metadata": {
        "id": "1QtEzk0qe7XR"
      },
      "source": [
        "from sklearn.metrics.pairwise import cosine_similarity\n",
        "from scipy import sparse\n",
        "import os\n",
        "import numpy as np\n",
        "import nltk\n",
        "#from visualization import highlight_sentences"
      ],
      "execution_count": null,
      "outputs": []
    },
    {
      "cell_type": "code",
      "metadata": {
        "id": "mATBknrme7XR"
      },
      "source": [
        "from nltk.tokenize import sent_tokenize\n",
        "from nltk.tokenize import word_tokenize"
      ],
      "execution_count": null,
      "outputs": []
    },
    {
      "cell_type": "code",
      "metadata": {
        "id": "QLAGMk8ce7XR"
      },
      "source": [
        "from sklearn.feature_extraction.text import TfidfVectorizer\n",
        "from collections import defaultdict"
      ],
      "execution_count": null,
      "outputs": []
    },
    {
      "cell_type": "markdown",
      "metadata": {
        "id": "UO9i_hsle7XR"
      },
      "source": [
        "## Загрузка данных"
      ]
    },
    {
      "cell_type": "markdown",
      "metadata": {
        "id": "ryDe-hb-e7XR"
      },
      "source": [
        "Будем использовать данные из корпуса новостей CNN/DailyMail.\n",
        "\n",
        "В рамках этого занятия будем использовать небольшую подвыборку из 300 текстов CNN.\n",
        "\n",
        "Загрузим их из интернета и сохраним в папку."
      ]
    },
    {
      "cell_type": "code",
      "metadata": {
        "id": "PxRpTtI4e7XR"
      },
      "source": [
        "DATA_DIR = './cnn_stories_short/'"
      ],
      "execution_count": null,
      "outputs": []
    },
    {
      "cell_type": "code",
      "metadata": {
        "colab": {
          "base_uri": "https://localhost:8080/"
        },
        "id": "pOa572LMe7XR",
        "outputId": "424a2e8c-2004-4e24-b1be-e727c0cd3112"
      },
      "source": [
        "!wget https://www.dropbox.com/s/kofxrgod7kl720m/cnn_stories_short.zip\n",
        "!mkdir cnn_data \n",
        "!unzip cnn_stories_short.zip -d $DATA_DIR"
      ],
      "execution_count": null,
      "outputs": [
        {
          "output_type": "stream",
          "name": "stdout",
          "text": [
            "--2021-11-18 11:51:39--  https://www.dropbox.com/s/kofxrgod7kl720m/cnn_stories_short.zip\n",
            "Resolving www.dropbox.com (www.dropbox.com)... 162.125.1.18, 2620:100:6016:18::a27d:112\n",
            "Connecting to www.dropbox.com (www.dropbox.com)|162.125.1.18|:443... connected.\n",
            "HTTP request sent, awaiting response... 301 Moved Permanently\n",
            "Location: /s/raw/kofxrgod7kl720m/cnn_stories_short.zip [following]\n",
            "--2021-11-18 11:51:39--  https://www.dropbox.com/s/raw/kofxrgod7kl720m/cnn_stories_short.zip\n",
            "Reusing existing connection to www.dropbox.com:443.\n",
            "HTTP request sent, awaiting response... 302 Found\n",
            "Location: https://ucb9415b371161682bd72e7bc134.dl.dropboxusercontent.com/cd/0/inline/BaN6Bh4CeEW1W_dYDS4fWpNrlpWFS6CAxORFNle8LOgTlqmfgcrFR_wSLDe7WlwJbUwGECU2Ei6Cz0UAKzr09jK-3fn4bjUfIfhOpgedQ_BNYmVOFOgOsIJeIYrLJVQyJpXkcBJiD7z40TphWTCsqZ3A/file# [following]\n",
            "--2021-11-18 11:51:40--  https://ucb9415b371161682bd72e7bc134.dl.dropboxusercontent.com/cd/0/inline/BaN6Bh4CeEW1W_dYDS4fWpNrlpWFS6CAxORFNle8LOgTlqmfgcrFR_wSLDe7WlwJbUwGECU2Ei6Cz0UAKzr09jK-3fn4bjUfIfhOpgedQ_BNYmVOFOgOsIJeIYrLJVQyJpXkcBJiD7z40TphWTCsqZ3A/file\n",
            "Resolving ucb9415b371161682bd72e7bc134.dl.dropboxusercontent.com (ucb9415b371161682bd72e7bc134.dl.dropboxusercontent.com)... 162.125.1.15, 2620:100:6016:15::a27d:10f\n",
            "Connecting to ucb9415b371161682bd72e7bc134.dl.dropboxusercontent.com (ucb9415b371161682bd72e7bc134.dl.dropboxusercontent.com)|162.125.1.15|:443... connected.\n",
            "HTTP request sent, awaiting response... 302 Found\n",
            "Location: /cd/0/inline2/BaOJDBQ-kJHudYvQEV8m3j1npWqkHtMuinXlkRiXFuHbRTPwNuARnYYeaR1aYWlYfHNt4TWSJwfuH4ru4M9FtzIzmkQezKPzo8womVKddPlCuVLcbgbFnzOeJEtCXHZ821gwq9_vZUr_UoZScv6nKOlMR3V_uSLKddzVoUzpiMoMOY1JDrqK8gioSlom13XO5cUgPGExAie7gnWe2KUiBY5ZAGVS_06h09EaNIUv9iROo8853E9DspDAreG1nwUOFCslc_l-1ql3hAHkIdisvYGw5-CsujrN14iTtRnlHUHA4EIYSJ7DRA-PjY0xennnkKBBG34Uu-QuQSjs6vombu7R8WxcFpyakeRHOW7lNCqm9fVGC79dQt3QJIRxFCj4HKs/file [following]\n",
            "--2021-11-18 11:51:40--  https://ucb9415b371161682bd72e7bc134.dl.dropboxusercontent.com/cd/0/inline2/BaOJDBQ-kJHudYvQEV8m3j1npWqkHtMuinXlkRiXFuHbRTPwNuARnYYeaR1aYWlYfHNt4TWSJwfuH4ru4M9FtzIzmkQezKPzo8womVKddPlCuVLcbgbFnzOeJEtCXHZ821gwq9_vZUr_UoZScv6nKOlMR3V_uSLKddzVoUzpiMoMOY1JDrqK8gioSlom13XO5cUgPGExAie7gnWe2KUiBY5ZAGVS_06h09EaNIUv9iROo8853E9DspDAreG1nwUOFCslc_l-1ql3hAHkIdisvYGw5-CsujrN14iTtRnlHUHA4EIYSJ7DRA-PjY0xennnkKBBG34Uu-QuQSjs6vombu7R8WxcFpyakeRHOW7lNCqm9fVGC79dQt3QJIRxFCj4HKs/file\n",
            "Reusing existing connection to ucb9415b371161682bd72e7bc134.dl.dropboxusercontent.com:443.\n",
            "HTTP request sent, awaiting response... 200 OK\n",
            "Length: 743091 (726K) [application/zip]\n",
            "Saving to: ‘cnn_stories_short.zip.1’\n",
            "\n",
            "cnn_stories_short.z 100%[===================>] 725.67K  --.-KB/s    in 0.03s   \n",
            "\n",
            "2021-11-18 11:51:40 (23.8 MB/s) - ‘cnn_stories_short.zip.1’ saved [743091/743091]\n",
            "\n",
            "mkdir: cannot create directory ‘cnn_data’: File exists\n",
            "Archive:  cnn_stories_short.zip\n",
            "replace ./cnn_stories_short/0a9dbfea7ca576578b8b03e9a08e39c7e203ab86.story? [y]es, [n]o, [A]ll, [N]one, [r]ename: A\n",
            "  inflating: ./cnn_stories_short/0a9dbfea7ca576578b8b03e9a08e39c7e203ab86.story  \n",
            "   creating: ./cnn_stories_short/__MACOSX/\n",
            "  inflating: ./cnn_stories_short/__MACOSX/._0a9dbfea7ca576578b8b03e9a08e39c7e203ab86.story  \n",
            "  inflating: ./cnn_stories_short/0a6ecea9a1132a4cf7124cfb0c07efbe4450086c.story  \n",
            "  inflating: ./cnn_stories_short/__MACOSX/._0a6ecea9a1132a4cf7124cfb0c07efbe4450086c.story  \n",
            "  inflating: ./cnn_stories_short/0aa95701af1de32c1d4fdcf406b962ee74609989.story  \n",
            "  inflating: ./cnn_stories_short/__MACOSX/._0aa95701af1de32c1d4fdcf406b962ee74609989.story  \n",
            "  inflating: ./cnn_stories_short/0a5e808a6c671732019a1dc640d3f4c4eee2dfa1.story  \n",
            "  inflating: ./cnn_stories_short/__MACOSX/._0a5e808a6c671732019a1dc640d3f4c4eee2dfa1.story  \n",
            "  inflating: ./cnn_stories_short/0a23ba95558bc16e21815b6d1297b60c0e78caaa.story  \n",
            "  inflating: ./cnn_stories_short/__MACOSX/._0a23ba95558bc16e21815b6d1297b60c0e78caaa.story  \n",
            "  inflating: ./cnn_stories_short/0a8415242903d4a500c97a660431886cf451240c.story  \n",
            "  inflating: ./cnn_stories_short/__MACOSX/._0a8415242903d4a500c97a660431886cf451240c.story  \n",
            "  inflating: ./cnn_stories_short/0a6b2556b0114bd358dee0e045eea8d71b11bdea.story  \n",
            "  inflating: ./cnn_stories_short/__MACOSX/._0a6b2556b0114bd358dee0e045eea8d71b11bdea.story  \n",
            "  inflating: ./cnn_stories_short/0a57c604f972b4b190cf02819ef1b50d0886d88a.story  \n",
            "  inflating: ./cnn_stories_short/__MACOSX/._0a57c604f972b4b190cf02819ef1b50d0886d88a.story  \n",
            "  inflating: ./cnn_stories_short/0abe5e19e4383b165f2569c7975d76a562c1d1e6.story  \n",
            "  inflating: ./cnn_stories_short/__MACOSX/._0abe5e19e4383b165f2569c7975d76a562c1d1e6.story  \n",
            "  inflating: ./cnn_stories_short/0a1c0855f3f719a8c4e0ec1c84f25ea8765f1241.story  \n",
            "  inflating: ./cnn_stories_short/__MACOSX/._0a1c0855f3f719a8c4e0ec1c84f25ea8765f1241.story  \n",
            "  inflating: ./cnn_stories_short/0a84ddb99d2666bee7899a51a3d9476b1b224ab7.story  \n",
            "  inflating: ./cnn_stories_short/__MACOSX/._0a84ddb99d2666bee7899a51a3d9476b1b224ab7.story  \n",
            "  inflating: ./cnn_stories_short/0a62ef39d65382938cf316a887f8a8a573daea59.story  \n",
            "  inflating: ./cnn_stories_short/__MACOSX/._0a62ef39d65382938cf316a887f8a8a573daea59.story  \n",
            "  inflating: ./cnn_stories_short/0a19bd7d8f82574e12072e83d3fa0cb5527235fc.story  \n",
            "  inflating: ./cnn_stories_short/__MACOSX/._0a19bd7d8f82574e12072e83d3fa0cb5527235fc.story  \n",
            "  inflating: ./cnn_stories_short/0a54f11827ea3fa8659e607e9fcb8f38d49611db.story  \n",
            "  inflating: ./cnn_stories_short/__MACOSX/._0a54f11827ea3fa8659e607e9fcb8f38d49611db.story  \n",
            "  inflating: ./cnn_stories_short/0a786778917ba4f6884e2ecc2ee3b848dc7c2179.story  \n",
            "  inflating: ./cnn_stories_short/__MACOSX/._0a786778917ba4f6884e2ecc2ee3b848dc7c2179.story  \n",
            "  inflating: ./cnn_stories_short/0a77e07a55de5b44271f9487bd2b8b1a80c9e880.story  \n",
            "  inflating: ./cnn_stories_short/__MACOSX/._0a77e07a55de5b44271f9487bd2b8b1a80c9e880.story  \n",
            "  inflating: ./cnn_stories_short/0a69b17bee613ce2d85cac062724ec4d4e118b20.story  \n",
            "  inflating: ./cnn_stories_short/__MACOSX/._0a69b17bee613ce2d85cac062724ec4d4e118b20.story  \n",
            "  inflating: ./cnn_stories_short/0a597916ed6e684209210094f8104a5131105ad7.story  \n",
            "  inflating: ./cnn_stories_short/__MACOSX/._0a597916ed6e684209210094f8104a5131105ad7.story  \n",
            "  inflating: ./cnn_stories_short/0a8a0cf499018470ecf3ae273b2a94e60b1a84c6.story  \n",
            "  inflating: ./cnn_stories_short/__MACOSX/._0a8a0cf499018470ecf3ae273b2a94e60b1a84c6.story  \n",
            "  inflating: ./cnn_stories_short/00a308681faf9c82a0e62a89b21fcdefb84b88fa.story  \n",
            "  inflating: ./cnn_stories_short/__MACOSX/._00a308681faf9c82a0e62a89b21fcdefb84b88fa.story  \n",
            "  inflating: ./cnn_stories_short/0a5458d3427b290524a8df11d8503a5b57b32747.story  \n",
            "  inflating: ./cnn_stories_short/__MACOSX/._0a5458d3427b290524a8df11d8503a5b57b32747.story  \n",
            "  inflating: ./cnn_stories_short/0a10dea37648dc0c47a40845ae6e18999f644eab.story  \n",
            "  inflating: ./cnn_stories_short/__MACOSX/._0a10dea37648dc0c47a40845ae6e18999f644eab.story  \n",
            "  inflating: ./cnn_stories_short/0aa577e33ead7f859e537050c3276ea02cb94af0.story  \n",
            "  inflating: ./cnn_stories_short/__MACOSX/._0aa577e33ead7f859e537050c3276ea02cb94af0.story  \n",
            "  inflating: ./cnn_stories_short/0aa0e608581dfaa32896a1436ced85c1a7d84f73.story  \n",
            "  inflating: ./cnn_stories_short/__MACOSX/._0aa0e608581dfaa32896a1436ced85c1a7d84f73.story  \n",
            "  inflating: ./cnn_stories_short/0a1d53047d2f513e860630d13c7bd76fd6d31ff1.story  \n",
            "  inflating: ./cnn_stories_short/__MACOSX/._0a1d53047d2f513e860630d13c7bd76fd6d31ff1.story  \n",
            "  inflating: ./cnn_stories_short/0a5fa44fa4ac623f350cafdb7b80acb3590b172a.story  \n",
            "  inflating: ./cnn_stories_short/__MACOSX/._0a5fa44fa4ac623f350cafdb7b80acb3590b172a.story  \n",
            "  inflating: ./cnn_stories_short/0a62e4ebeda2bf3b2a8c1b116894e809ca546767.story  \n",
            "  inflating: ./cnn_stories_short/__MACOSX/._0a62e4ebeda2bf3b2a8c1b116894e809ca546767.story  \n",
            "  inflating: ./cnn_stories_short/0abd3cee9c71303c18d78dbc4c82f86aa2f5443e.story  \n",
            "  inflating: ./cnn_stories_short/__MACOSX/._0abd3cee9c71303c18d78dbc4c82f86aa2f5443e.story  \n",
            "  inflating: ./cnn_stories_short/0a18565199ddcfa6265e1c7fa1ef0d3e7cc4e3a4.story  \n",
            "  inflating: ./cnn_stories_short/__MACOSX/._0a18565199ddcfa6265e1c7fa1ef0d3e7cc4e3a4.story  \n",
            "  inflating: ./cnn_stories_short/0a10d46e8d848941656352cdf58e587143896f2f.story  \n",
            "  inflating: ./cnn_stories_short/__MACOSX/._0a10d46e8d848941656352cdf58e587143896f2f.story  \n",
            "  inflating: ./cnn_stories_short/0a05b14962b2e73bbff82086762e0e23d32b359f.story  \n",
            "  inflating: ./cnn_stories_short/__MACOSX/._0a05b14962b2e73bbff82086762e0e23d32b359f.story  \n",
            "  inflating: ./cnn_stories_short/00a2aef1e18d125960da51e167a3d22ed8416c09.story  \n",
            "  inflating: ./cnn_stories_short/__MACOSX/._00a2aef1e18d125960da51e167a3d22ed8416c09.story  \n",
            "  inflating: ./cnn_stories_short/0aaa6fd79737d15207b3263093f43beacc25bee8.story  \n",
            "  inflating: ./cnn_stories_short/__MACOSX/._0aaa6fd79737d15207b3263093f43beacc25bee8.story  \n",
            "  inflating: ./cnn_stories_short/0aaa6f5cac3b75ad775d4c5160eb3a10c3c4603a.story  \n",
            "  inflating: ./cnn_stories_short/__MACOSX/._0aaa6f5cac3b75ad775d4c5160eb3a10c3c4603a.story  \n",
            "  inflating: ./cnn_stories_short/0a931b42b00d60fb5e751642731249b10b34b1a8.story  \n",
            "  inflating: ./cnn_stories_short/__MACOSX/._0a931b42b00d60fb5e751642731249b10b34b1a8.story  \n",
            "  inflating: ./cnn_stories_short/0a475a12cf5aa8cd3f16ec8828a2146f5fc0902b.story  \n",
            "  inflating: ./cnn_stories_short/__MACOSX/._0a475a12cf5aa8cd3f16ec8828a2146f5fc0902b.story  \n",
            "  inflating: ./cnn_stories_short/0a45dba311ead135de81f1123d6d524460566280.story  \n",
            "  inflating: ./cnn_stories_short/__MACOSX/._0a45dba311ead135de81f1123d6d524460566280.story  \n",
            "  inflating: ./cnn_stories_short/0a08d8320a95f442862bdd77eb94434f83bac0fb.story  \n",
            "  inflating: ./cnn_stories_short/__MACOSX/._0a08d8320a95f442862bdd77eb94434f83bac0fb.story  \n",
            "  inflating: ./cnn_stories_short/0ab9e31c27d7d0d1519c34a7c4c9400b0bb027f0.story  \n",
            "  inflating: ./cnn_stories_short/__MACOSX/._0ab9e31c27d7d0d1519c34a7c4c9400b0bb027f0.story  \n",
            "  inflating: ./cnn_stories_short/0a91b5a6c0d6bb53799799470e0b5918006c503f.story  \n",
            "  inflating: ./cnn_stories_short/__MACOSX/._0a91b5a6c0d6bb53799799470e0b5918006c503f.story  \n",
            "  inflating: ./cnn_stories_short/0a52b3e112f60f5edeed97bd20748caea42738fb.story  \n",
            "  inflating: ./cnn_stories_short/__MACOSX/._0a52b3e112f60f5edeed97bd20748caea42738fb.story  \n",
            "  inflating: ./cnn_stories_short/00aafe70cc9129b3215b62c161d5692164a07494.story  \n",
            "  inflating: ./cnn_stories_short/__MACOSX/._00aafe70cc9129b3215b62c161d5692164a07494.story  \n",
            "  inflating: ./cnn_stories_short/0a4ae7edd0ca7833cb44436bf438a4120c4ee75f.story  \n",
            "  inflating: ./cnn_stories_short/__MACOSX/._0a4ae7edd0ca7833cb44436bf438a4120c4ee75f.story  \n",
            "  inflating: ./cnn_stories_short/0a50ffc11fb503fb94b153fd09afb0647d42ea74.story  \n",
            "  inflating: ./cnn_stories_short/__MACOSX/._0a50ffc11fb503fb94b153fd09afb0647d42ea74.story  \n",
            "  inflating: ./cnn_stories_short/0a231dca9825438ed419626f8e0b0ef9667dce4c.story  \n",
            "  inflating: ./cnn_stories_short/__MACOSX/._0a231dca9825438ed419626f8e0b0ef9667dce4c.story  \n",
            "  inflating: ./cnn_stories_short/0a65dc2fbf4fda5e273a84ab36d0409a605f456b.story  \n",
            "  inflating: ./cnn_stories_short/__MACOSX/._0a65dc2fbf4fda5e273a84ab36d0409a605f456b.story  \n",
            "  inflating: ./cnn_stories_short/0a0b44620d0dec6fdfc1aa139ff51bcb36c56c51.story  \n",
            "  inflating: ./cnn_stories_short/__MACOSX/._0a0b44620d0dec6fdfc1aa139ff51bcb36c56c51.story  \n",
            "  inflating: ./cnn_stories_short/0aa1dd8b2267ee1f4629c54af6aecb418a2f088b.story  \n",
            "  inflating: ./cnn_stories_short/__MACOSX/._0aa1dd8b2267ee1f4629c54af6aecb418a2f088b.story  \n",
            "  inflating: ./cnn_stories_short/0ab2c1d0d04904fdc38a81091ddd003012e6a241.story  \n",
            "  inflating: ./cnn_stories_short/__MACOSX/._0ab2c1d0d04904fdc38a81091ddd003012e6a241.story  \n",
            "  inflating: ./cnn_stories_short/0a7734e6e5d8d3fe2b472f07659d91fae9f8ba0d.story  \n",
            "  inflating: ./cnn_stories_short/__MACOSX/._0a7734e6e5d8d3fe2b472f07659d91fae9f8ba0d.story  \n",
            "  inflating: ./cnn_stories_short/0a54f2c1fd1cd9d43b695fe1afd09e17204d548b.story  \n",
            "  inflating: ./cnn_stories_short/__MACOSX/._0a54f2c1fd1cd9d43b695fe1afd09e17204d548b.story  \n",
            "  inflating: ./cnn_stories_short/0a43fa1c464f6bfc04ebe31bc309f31e10c69837.story  \n",
            "  inflating: ./cnn_stories_short/__MACOSX/._0a43fa1c464f6bfc04ebe31bc309f31e10c69837.story  \n",
            "  inflating: ./cnn_stories_short/0a26adcf099adbe06eb1443b2ff8a4138e0ec8e3.story  \n",
            "  inflating: ./cnn_stories_short/__MACOSX/._0a26adcf099adbe06eb1443b2ff8a4138e0ec8e3.story  \n",
            "  inflating: ./cnn_stories_short/0a8c9a0a1ee8d7bf24cf1f2512e5a4e20fa9bf86.story  \n",
            "  inflating: ./cnn_stories_short/__MACOSX/._0a8c9a0a1ee8d7bf24cf1f2512e5a4e20fa9bf86.story  \n",
            "  inflating: ./cnn_stories_short/0a99f09188cd679df4cd36976d11c87789dd5b8f.story  \n",
            "  inflating: ./cnn_stories_short/__MACOSX/._0a99f09188cd679df4cd36976d11c87789dd5b8f.story  \n",
            "  inflating: ./cnn_stories_short/0aab65c2a4592af55fb60518c455f40971a5d9b0.story  \n",
            "  inflating: ./cnn_stories_short/__MACOSX/._0aab65c2a4592af55fb60518c455f40971a5d9b0.story  \n",
            "  inflating: ./cnn_stories_short/0a7f6926e4e554149fcf99d81b4839d99c05c2ef.story  \n",
            "  inflating: ./cnn_stories_short/__MACOSX/._0a7f6926e4e554149fcf99d81b4839d99c05c2ef.story  \n",
            "  inflating: ./cnn_stories_short/0a57c665d1cbd5c52cf05d59c80d4f109be251b6.story  \n",
            "  inflating: ./cnn_stories_short/__MACOSX/._0a57c665d1cbd5c52cf05d59c80d4f109be251b6.story  \n",
            "  inflating: ./cnn_stories_short/0a27267deda1388c6c73fffe9cd6ebabaad49e55.story  \n",
            "  inflating: ./cnn_stories_short/__MACOSX/._0a27267deda1388c6c73fffe9cd6ebabaad49e55.story  \n",
            "  inflating: ./cnn_stories_short/0a7fb96f0b2069e04c9cbc13fd9c9dc1012b2fe9.story  \n",
            "  inflating: ./cnn_stories_short/__MACOSX/._0a7fb96f0b2069e04c9cbc13fd9c9dc1012b2fe9.story  \n",
            "  inflating: ./cnn_stories_short/0a38bd97ec582cb23ab56e71449db2a300895036.story  \n",
            "  inflating: ./cnn_stories_short/__MACOSX/._0a38bd97ec582cb23ab56e71449db2a300895036.story  \n",
            "  inflating: ./cnn_stories_short/0a37124fe35e31ae9fe8dd7715aeed88002e23e9.story  \n",
            "  inflating: ./cnn_stories_short/__MACOSX/._0a37124fe35e31ae9fe8dd7715aeed88002e23e9.story  \n",
            "  inflating: ./cnn_stories_short/0a9fe2c7f5e1d10b56e63399c596e82369634e7a.story  \n",
            "  inflating: ./cnn_stories_short/__MACOSX/._0a9fe2c7f5e1d10b56e63399c596e82369634e7a.story  \n",
            "  inflating: ./cnn_stories_short/0a3639cb86487e72e2ba084211f99799918aedf8.story  \n",
            "  inflating: ./cnn_stories_short/__MACOSX/._0a3639cb86487e72e2ba084211f99799918aedf8.story  \n",
            "  inflating: ./cnn_stories_short/0a879acdaf2a649d9cddaf90c2d3b57965b7e672.story  \n",
            "  inflating: ./cnn_stories_short/__MACOSX/._0a879acdaf2a649d9cddaf90c2d3b57965b7e672.story  \n",
            "  inflating: ./cnn_stories_short/0a1348f35332d5c7795f9890eff8797f6135c925.story  \n",
            "  inflating: ./cnn_stories_short/__MACOSX/._0a1348f35332d5c7795f9890eff8797f6135c925.story  \n",
            "  inflating: ./cnn_stories_short/0a86914fc0199d7d39521b3a8208e4ceae182576.story  \n",
            "  inflating: ./cnn_stories_short/__MACOSX/._0a86914fc0199d7d39521b3a8208e4ceae182576.story  \n",
            "  inflating: ./cnn_stories_short/0a2035f3f73b06a5150a6f01cffdf45d027bbbed.story  \n",
            "  inflating: ./cnn_stories_short/__MACOSX/._0a2035f3f73b06a5150a6f01cffdf45d027bbbed.story  \n",
            "  inflating: ./cnn_stories_short/0a0c2f4e07ba05f3226e8afec1350ac82161cd2e.story  \n",
            "  inflating: ./cnn_stories_short/__MACOSX/._0a0c2f4e07ba05f3226e8afec1350ac82161cd2e.story  \n",
            "  inflating: ./cnn_stories_short/0ac03bd25693b98905c692a06b01b08247243887.story  \n",
            "  inflating: ./cnn_stories_short/__MACOSX/._0ac03bd25693b98905c692a06b01b08247243887.story  \n",
            "  inflating: ./cnn_stories_short/0a502c5da69019b744204426eaf2fe0bf88ca66b.story  \n",
            "  inflating: ./cnn_stories_short/__MACOSX/._0a502c5da69019b744204426eaf2fe0bf88ca66b.story  \n",
            "  inflating: ./cnn_stories_short/0a7d9ae6a0b6794168dabb1ae123281ae4b97878.story  \n",
            "  inflating: ./cnn_stories_short/__MACOSX/._0a7d9ae6a0b6794168dabb1ae123281ae4b97878.story  \n",
            "  inflating: ./cnn_stories_short/0a9d326b859a477b6466525a9afbb0c15c3dd9d8.story  \n",
            "  inflating: ./cnn_stories_short/__MACOSX/._0a9d326b859a477b6466525a9afbb0c15c3dd9d8.story  \n",
            "  inflating: ./cnn_stories_short/0a1ea51684e15ddb091ddee7ede418f9d5ac45d6.story  \n",
            "  inflating: ./cnn_stories_short/__MACOSX/._0a1ea51684e15ddb091ddee7ede418f9d5ac45d6.story  \n",
            "  inflating: ./cnn_stories_short/0a1c17d84f846eecce39356447e4d556ffdd07fa.story  \n",
            "  inflating: ./cnn_stories_short/__MACOSX/._0a1c17d84f846eecce39356447e4d556ffdd07fa.story  \n",
            "  inflating: ./cnn_stories_short/0a5f6b32e869bae798d81c48d381a5f0384c001a.story  \n",
            "  inflating: ./cnn_stories_short/__MACOSX/._0a5f6b32e869bae798d81c48d381a5f0384c001a.story  \n",
            "  inflating: ./cnn_stories_short/0a48c179e30b14f6cbe4d8d0c1d51307b766e036.story  \n",
            "  inflating: ./cnn_stories_short/__MACOSX/._0a48c179e30b14f6cbe4d8d0c1d51307b766e036.story  \n",
            "  inflating: ./cnn_stories_short/0a3bcbacfb0040800aba71a470c0194d0d7c5a62.story  \n",
            "  inflating: ./cnn_stories_short/__MACOSX/._0a3bcbacfb0040800aba71a470c0194d0d7c5a62.story  \n",
            "  inflating: ./cnn_stories_short/0ac097e2b312240f3dfa13bc5b01ca9a91f1964a.story  \n",
            "  inflating: ./cnn_stories_short/__MACOSX/._0ac097e2b312240f3dfa13bc5b01ca9a91f1964a.story  \n",
            "  inflating: ./cnn_stories_short/0a3fff5779a8f7cfdde5d284a429ab89fd5e85df.story  \n",
            "  inflating: ./cnn_stories_short/__MACOSX/._0a3fff5779a8f7cfdde5d284a429ab89fd5e85df.story  \n",
            "  inflating: ./cnn_stories_short/0a3f2400ba4e5cdf4b3638ae6fb60fdfa12a2680.story  \n",
            "  inflating: ./cnn_stories_short/__MACOSX/._0a3f2400ba4e5cdf4b3638ae6fb60fdfa12a2680.story  \n",
            "  inflating: ./cnn_stories_short/0ab34ea3704178a08dc1223bb10826912c73bd19.story  \n",
            "  inflating: ./cnn_stories_short/__MACOSX/._0ab34ea3704178a08dc1223bb10826912c73bd19.story  \n",
            "  inflating: ./cnn_stories_short/0ab2c343f5fb12fbb47594aeb1843f52480313b7.story  \n",
            "  inflating: ./cnn_stories_short/__MACOSX/._0ab2c343f5fb12fbb47594aeb1843f52480313b7.story  \n",
            "  inflating: ./cnn_stories_short/0a25cb5b7515cc4feab5bcdab0b32f72c4bd5cb2.story  \n",
            "  inflating: ./cnn_stories_short/__MACOSX/._0a25cb5b7515cc4feab5bcdab0b32f72c4bd5cb2.story  \n",
            "  inflating: ./cnn_stories_short/0a20b0feaf34c9942d4f9bb7d3e9b0aebe8419d8.story  \n",
            "  inflating: ./cnn_stories_short/__MACOSX/._0a20b0feaf34c9942d4f9bb7d3e9b0aebe8419d8.story  \n",
            "  inflating: ./cnn_stories_short/0a6d92862f303c30471f3de14e98876b8341dbf8.story  \n",
            "  inflating: ./cnn_stories_short/__MACOSX/._0a6d92862f303c30471f3de14e98876b8341dbf8.story  \n",
            "  inflating: ./cnn_stories_short/0a9371b466754719948abc5118a9ce6638d9bacd.story  \n",
            "  inflating: ./cnn_stories_short/__MACOSX/._0a9371b466754719948abc5118a9ce6638d9bacd.story  \n",
            "  inflating: ./cnn_stories_short/0a078513cee66db2ccaaca1b7b0755c96f0c5c8a.story  \n",
            "  inflating: ./cnn_stories_short/__MACOSX/._0a078513cee66db2ccaaca1b7b0755c96f0c5c8a.story  \n",
            "  inflating: ./cnn_stories_short/0a39e2c45a9851e357b8b97571c044b65b1939a3.story  \n",
            "  inflating: ./cnn_stories_short/__MACOSX/._0a39e2c45a9851e357b8b97571c044b65b1939a3.story  \n",
            "  inflating: ./cnn_stories_short/00a570272e671a8fad94ffe0927a04c1bfc4110e.story  \n",
            "  inflating: ./cnn_stories_short/__MACOSX/._00a570272e671a8fad94ffe0927a04c1bfc4110e.story  \n",
            "  inflating: ./cnn_stories_short/0a894892114869f441b0f59b337b86b41d1766bf.story  \n",
            "  inflating: ./cnn_stories_short/__MACOSX/._0a894892114869f441b0f59b337b86b41d1766bf.story  \n",
            "  inflating: ./cnn_stories_short/0a206cd4530734f9fb332f7b782e712847713cf3.story  \n",
            "  inflating: ./cnn_stories_short/__MACOSX/._0a206cd4530734f9fb332f7b782e712847713cf3.story  \n",
            "  inflating: ./cnn_stories_short/0a71f3a41f197b6053252692209beff9c692c4df.story  \n",
            "  inflating: ./cnn_stories_short/__MACOSX/._0a71f3a41f197b6053252692209beff9c692c4df.story  \n",
            "  inflating: ./cnn_stories_short/0a5c5a5f92c35ec03cd42feee53474d4164cbf33.story  \n",
            "  inflating: ./cnn_stories_short/__MACOSX/._0a5c5a5f92c35ec03cd42feee53474d4164cbf33.story  \n",
            "  inflating: ./cnn_stories_short/0a7c9a1a8f20cd3a36f3137b0ac835cf15eed5ba.story  \n",
            "  inflating: ./cnn_stories_short/__MACOSX/._0a7c9a1a8f20cd3a36f3137b0ac835cf15eed5ba.story  \n",
            "  inflating: ./cnn_stories_short/0a5ac35e609c9bbaae98635a2cbe20eec6fda703.story  \n",
            "  inflating: ./cnn_stories_short/__MACOSX/._0a5ac35e609c9bbaae98635a2cbe20eec6fda703.story  \n",
            "  inflating: ./cnn_stories_short/0a50aaed288b397ea5e707968836907db436e6b6.story  \n",
            "  inflating: ./cnn_stories_short/__MACOSX/._0a50aaed288b397ea5e707968836907db436e6b6.story  \n",
            "  inflating: ./cnn_stories_short/0a9ecda6671cacfd8c4845e80ec3a96cbfc1697f.story  \n",
            "  inflating: ./cnn_stories_short/__MACOSX/._0a9ecda6671cacfd8c4845e80ec3a96cbfc1697f.story  \n",
            "  inflating: ./cnn_stories_short/0a6df9fdd840d9d8540a5980329c731669be5196.story  \n",
            "  inflating: ./cnn_stories_short/__MACOSX/._0a6df9fdd840d9d8540a5980329c731669be5196.story  \n",
            "  inflating: ./cnn_stories_short/00a39c134080b6f215a81c15d46c3ac7cc7bdcf3.story  \n",
            "  inflating: ./cnn_stories_short/__MACOSX/._00a39c134080b6f215a81c15d46c3ac7cc7bdcf3.story  \n",
            "  inflating: ./cnn_stories_short/0aa52a11710ee0b17644143a3d21f70e8689ec3c.story  \n",
            "  inflating: ./cnn_stories_short/__MACOSX/._0aa52a11710ee0b17644143a3d21f70e8689ec3c.story  \n",
            "  inflating: ./cnn_stories_short/0a2e0deac1de0361f2f14285cddd3b1e558cdacd.story  \n",
            "  inflating: ./cnn_stories_short/__MACOSX/._0a2e0deac1de0361f2f14285cddd3b1e558cdacd.story  \n",
            "  inflating: ./cnn_stories_short/0aaa411ea0928db7364e398dfc077930ba627bfc.story  \n",
            "  inflating: ./cnn_stories_short/__MACOSX/._0aaa411ea0928db7364e398dfc077930ba627bfc.story  \n",
            "  inflating: ./cnn_stories_short/0a75fd8e32d13a20c48f96ddc8a74721f7f930f1.story  \n",
            "  inflating: ./cnn_stories_short/__MACOSX/._0a75fd8e32d13a20c48f96ddc8a74721f7f930f1.story  \n",
            "  inflating: ./cnn_stories_short/0a501a4a121df0cf8ddf2b6dd77ea57d89c6866d.story  \n",
            "  inflating: ./cnn_stories_short/__MACOSX/._0a501a4a121df0cf8ddf2b6dd77ea57d89c6866d.story  \n",
            "  inflating: ./cnn_stories_short/0a0d11c125e4e4b061061f44b08f60cb5b8bf177.story  \n",
            "  inflating: ./cnn_stories_short/__MACOSX/._0a0d11c125e4e4b061061f44b08f60cb5b8bf177.story  \n",
            "  inflating: ./cnn_stories_short/0a71a4e31e3d1ac4915c38671d5bab7ac53a6d07.story  \n",
            "  inflating: ./cnn_stories_short/__MACOSX/._0a71a4e31e3d1ac4915c38671d5bab7ac53a6d07.story  \n",
            "  inflating: ./cnn_stories_short/0a1e9a3bd86791e6c8ed3943eb36daf676c87f39.story  \n",
            "  inflating: ./cnn_stories_short/__MACOSX/._0a1e9a3bd86791e6c8ed3943eb36daf676c87f39.story  \n",
            "  inflating: ./cnn_stories_short/0a1ad82d161d90d758240407cb8c8fcebff4a212.story  \n",
            "  inflating: ./cnn_stories_short/__MACOSX/._0a1ad82d161d90d758240407cb8c8fcebff4a212.story  \n",
            "  inflating: ./cnn_stories_short/0a7bdb4dd89d415080c6b78914b2f75349a97fc6.story  \n",
            "  inflating: ./cnn_stories_short/__MACOSX/._0a7bdb4dd89d415080c6b78914b2f75349a97fc6.story  \n",
            "  inflating: ./cnn_stories_short/0aabc9ecdaaff12f92c65edfdc15c7f344058248.story  \n",
            "  inflating: ./cnn_stories_short/__MACOSX/._0aabc9ecdaaff12f92c65edfdc15c7f344058248.story  \n",
            "  inflating: ./cnn_stories_short/0aab98af837371d712e43c86f62b04b7e4cef597.story  \n",
            "  inflating: ./cnn_stories_short/__MACOSX/._0aab98af837371d712e43c86f62b04b7e4cef597.story  \n",
            "  inflating: ./cnn_stories_short/0a291ae4baf4cbaf4255c5cb6c1ffd88634ee050.story  \n",
            "  inflating: ./cnn_stories_short/__MACOSX/._0a291ae4baf4cbaf4255c5cb6c1ffd88634ee050.story  \n",
            "  inflating: ./cnn_stories_short/0a3ff2f0a147c158845afa44d2a012064896566b.story  \n",
            "  inflating: ./cnn_stories_short/__MACOSX/._0a3ff2f0a147c158845afa44d2a012064896566b.story  \n",
            "  inflating: ./cnn_stories_short/0a880761c261da483eeda73b3c0bea17b6694dd7.story  \n",
            "  inflating: ./cnn_stories_short/__MACOSX/._0a880761c261da483eeda73b3c0bea17b6694dd7.story  \n",
            "  inflating: ./cnn_stories_short/0a80f50d4d6ae4a9d8d936d75dd34bbf6791520a.story  \n",
            "  inflating: ./cnn_stories_short/__MACOSX/._0a80f50d4d6ae4a9d8d936d75dd34bbf6791520a.story  \n",
            "  inflating: ./cnn_stories_short/0a3479b53796863a664c32ca20d8672583335d2a.story  \n",
            "  inflating: ./cnn_stories_short/__MACOSX/._0a3479b53796863a664c32ca20d8672583335d2a.story  \n",
            "  inflating: ./cnn_stories_short/0a47dac8558300235aa5dbecb29196351fcb2e3c.story  \n",
            "  inflating: ./cnn_stories_short/__MACOSX/._0a47dac8558300235aa5dbecb29196351fcb2e3c.story  \n",
            "  inflating: ./cnn_stories_short/0a6790f886a42a76945d4a21ed27c4ebd9ca1025.story  \n",
            "  inflating: ./cnn_stories_short/__MACOSX/._0a6790f886a42a76945d4a21ed27c4ebd9ca1025.story  \n",
            "  inflating: ./cnn_stories_short/0a421106fb10078b00663df3e88c5ee6f0437a66.story  \n",
            "  inflating: ./cnn_stories_short/__MACOSX/._0a421106fb10078b00663df3e88c5ee6f0437a66.story  \n",
            "  inflating: ./cnn_stories_short/0a19ea2e18df791497a16b3efab1f9c6e02d16d6.story  \n",
            "  inflating: ./cnn_stories_short/__MACOSX/._0a19ea2e18df791497a16b3efab1f9c6e02d16d6.story  \n",
            "  inflating: ./cnn_stories_short/0abaf33d3a1925edab1e28b434442b4a558fb66c.story  \n",
            "  inflating: ./cnn_stories_short/__MACOSX/._0abaf33d3a1925edab1e28b434442b4a558fb66c.story  \n",
            "  inflating: ./cnn_stories_short/0a82959ee0fb4d8613ac098d76cd14529ffa2934.story  \n",
            "  inflating: ./cnn_stories_short/__MACOSX/._0a82959ee0fb4d8613ac098d76cd14529ffa2934.story  \n",
            "  inflating: ./cnn_stories_short/0ac72cce0d0219b1b13d5eadc75230bed6d4af16.story  \n",
            "  inflating: ./cnn_stories_short/__MACOSX/._0ac72cce0d0219b1b13d5eadc75230bed6d4af16.story  \n",
            "  inflating: ./cnn_stories_short/0a24f30069a9a6ab0f76e5a5d822f0568ce0f0d7.story  \n",
            "  inflating: ./cnn_stories_short/__MACOSX/._0a24f30069a9a6ab0f76e5a5d822f0568ce0f0d7.story  \n",
            "  inflating: ./cnn_stories_short/0ac525e9135dee601bc15f8d1dd0c66d426dbb94.story  \n",
            "  inflating: ./cnn_stories_short/__MACOSX/._0ac525e9135dee601bc15f8d1dd0c66d426dbb94.story  \n",
            "  inflating: ./cnn_stories_short/0a5fc67fec892dae1adea2857822da43cd4d2ea2.story  \n",
            "  inflating: ./cnn_stories_short/__MACOSX/._0a5fc67fec892dae1adea2857822da43cd4d2ea2.story  \n",
            "  inflating: ./cnn_stories_short/0a4092bef1801863296777ebcfeceb1aec23c78f.story  \n",
            "  inflating: ./cnn_stories_short/__MACOSX/._0a4092bef1801863296777ebcfeceb1aec23c78f.story  \n",
            "  inflating: ./cnn_stories_short/0a044ad1c5023c5437d67023376caa8d54d242dd.story  \n",
            "  inflating: ./cnn_stories_short/__MACOSX/._0a044ad1c5023c5437d67023376caa8d54d242dd.story  \n",
            "  inflating: ./cnn_stories_short/0aa5fc5f877390e263bac75501497b4d817dcbc0.story  \n",
            "  inflating: ./cnn_stories_short/__MACOSX/._0aa5fc5f877390e263bac75501497b4d817dcbc0.story  \n",
            "  inflating: ./cnn_stories_short/0aa31e7e9af7f6143b7157c0f5a1c7e4191207c2.story  \n",
            "  inflating: ./cnn_stories_short/__MACOSX/._0aa31e7e9af7f6143b7157c0f5a1c7e4191207c2.story  \n",
            "  inflating: ./cnn_stories_short/0a7c90ad6ebd29d3de72c2ee38cdc43f28fbbcc7.story  \n",
            "  inflating: ./cnn_stories_short/__MACOSX/._0a7c90ad6ebd29d3de72c2ee38cdc43f28fbbcc7.story  \n",
            "  inflating: ./cnn_stories_short/0a11ec8a477bd8f68f4ca2df556f9871c12525ad.story  \n",
            "  inflating: ./cnn_stories_short/__MACOSX/._0a11ec8a477bd8f68f4ca2df556f9871c12525ad.story  \n",
            "  inflating: ./cnn_stories_short/0a8badaeac6e14cea6f65f674e902422d5e84bbf.story  \n",
            "  inflating: ./cnn_stories_short/__MACOSX/._0a8badaeac6e14cea6f65f674e902422d5e84bbf.story  \n",
            "  inflating: ./cnn_stories_short/0a71d57a729f09912ede073f3050790d09d4484f.story  \n",
            "  inflating: ./cnn_stories_short/__MACOSX/._0a71d57a729f09912ede073f3050790d09d4484f.story  \n",
            "  inflating: ./cnn_stories_short/0a24dfac1c0b6fb22de2da968ef9ecc222ad5cd0.story  \n",
            "  inflating: ./cnn_stories_short/__MACOSX/._0a24dfac1c0b6fb22de2da968ef9ecc222ad5cd0.story  \n",
            "  inflating: ./cnn_stories_short/0a23128a3dc7a202747f1b5eab2fca35fb18d1e5.story  \n",
            "  inflating: ./cnn_stories_short/__MACOSX/._0a23128a3dc7a202747f1b5eab2fca35fb18d1e5.story  \n",
            "  inflating: ./cnn_stories_short/0a7427c3a6098c2d06a70aee42a97b0d754a06ae.story  \n",
            "  inflating: ./cnn_stories_short/__MACOSX/._0a7427c3a6098c2d06a70aee42a97b0d754a06ae.story  \n",
            "  inflating: ./cnn_stories_short/00a51966da4726dc1a3fc7b8c148866a9a23581a.story  \n",
            "  inflating: ./cnn_stories_short/__MACOSX/._00a51966da4726dc1a3fc7b8c148866a9a23581a.story  \n",
            "  inflating: ./cnn_stories_short/0a0aa464d262b903f44b0f8eaa67f13dd1946cfd.story  \n",
            "  inflating: ./cnn_stories_short/__MACOSX/._0a0aa464d262b903f44b0f8eaa67f13dd1946cfd.story  \n",
            "  inflating: ./cnn_stories_short/0a200d84543cde8dd08c1c4ac1b653e3a5c5e603.story  \n",
            "  inflating: ./cnn_stories_short/__MACOSX/._0a200d84543cde8dd08c1c4ac1b653e3a5c5e603.story  \n",
            "  inflating: ./cnn_stories_short/0a8c1667cd599c6a61a30d62696b2e043e33317a.story  \n",
            "  inflating: ./cnn_stories_short/__MACOSX/._0a8c1667cd599c6a61a30d62696b2e043e33317a.story  \n",
            "  inflating: ./cnn_stories_short/0aa0c3c8c628e65ec50e71631ba09fde80b72b19.story  \n",
            "  inflating: ./cnn_stories_short/__MACOSX/._0aa0c3c8c628e65ec50e71631ba09fde80b72b19.story  \n",
            "  inflating: ./cnn_stories_short/0a7b9f1cd08208dbf8a7759ed079df1e2270df0a.story  \n",
            "  inflating: ./cnn_stories_short/__MACOSX/._0a7b9f1cd08208dbf8a7759ed079df1e2270df0a.story  \n",
            "  inflating: ./cnn_stories_short/0aace03cecb26ef243c5e8dc97a0ad0287325bf0.story  \n",
            "  inflating: ./cnn_stories_short/__MACOSX/._0aace03cecb26ef243c5e8dc97a0ad0287325bf0.story  \n",
            "  inflating: ./cnn_stories_short/0a72d04b9b36a08f5c014fd8c8ecee670a8fce1b.story  \n",
            "  inflating: ./cnn_stories_short/__MACOSX/._0a72d04b9b36a08f5c014fd8c8ecee670a8fce1b.story  \n",
            "  inflating: ./cnn_stories_short/0abd120228317862a13da0797a520cca56aa1da2.story  \n",
            "  inflating: ./cnn_stories_short/__MACOSX/._0abd120228317862a13da0797a520cca56aa1da2.story  \n",
            "  inflating: ./cnn_stories_short/0a88b83292b64b57bd2e789ce833b31aea778098.story  \n",
            "  inflating: ./cnn_stories_short/__MACOSX/._0a88b83292b64b57bd2e789ce833b31aea778098.story  \n",
            "  inflating: ./cnn_stories_short/0a69907582b1befb7e1ec48a1187bc6b7d43a5f9.story  \n",
            "  inflating: ./cnn_stories_short/__MACOSX/._0a69907582b1befb7e1ec48a1187bc6b7d43a5f9.story  \n",
            "  inflating: ./cnn_stories_short/0a7de0f5ef96887137f9d5b00b07e628e1010aff.story  \n",
            "  inflating: ./cnn_stories_short/__MACOSX/._0a7de0f5ef96887137f9d5b00b07e628e1010aff.story  \n",
            "  inflating: ./cnn_stories_short/0a05f1fb74f6e35a2ff5a82fa62ff670baa7c962.story  \n",
            "  inflating: ./cnn_stories_short/__MACOSX/._0a05f1fb74f6e35a2ff5a82fa62ff670baa7c962.story  \n",
            "  inflating: ./cnn_stories_short/0a3040b6c1bba95efca727158f128a19c44ec8ba.story  \n",
            "  inflating: ./cnn_stories_short/__MACOSX/._0a3040b6c1bba95efca727158f128a19c44ec8ba.story  \n",
            "  inflating: ./cnn_stories_short/0a5192922e1a3562a19ee993510956e06f645be2.story  \n",
            "  inflating: ./cnn_stories_short/__MACOSX/._0a5192922e1a3562a19ee993510956e06f645be2.story  \n",
            "  inflating: ./cnn_stories_short/0ac51e091f15a102c144bf51d50c630dac02c2d2.story  \n",
            "  inflating: ./cnn_stories_short/__MACOSX/._0ac51e091f15a102c144bf51d50c630dac02c2d2.story  \n",
            "  inflating: ./cnn_stories_short/0a2dda82fa33400f270da71f56d57502a2bd429c.story  \n",
            "  inflating: ./cnn_stories_short/__MACOSX/._0a2dda82fa33400f270da71f56d57502a2bd429c.story  \n",
            "  inflating: ./cnn_stories_short/0a5a31468301d047cce0d086e0e30693934ea294.story  \n",
            "  inflating: ./cnn_stories_short/__MACOSX/._0a5a31468301d047cce0d086e0e30693934ea294.story  \n",
            "  inflating: ./cnn_stories_short/0abbbc34252feacc63d3b0b5c051c5f1b7b967fe.story  \n",
            "  inflating: ./cnn_stories_short/__MACOSX/._0abbbc34252feacc63d3b0b5c051c5f1b7b967fe.story  \n",
            "  inflating: ./cnn_stories_short/0a7d42a1391915c112eb0eab900f7c74b5c770f1.story  \n",
            "  inflating: ./cnn_stories_short/__MACOSX/._0a7d42a1391915c112eb0eab900f7c74b5c770f1.story  \n",
            "  inflating: ./cnn_stories_short/0a045dcc5d3fddad8617a17db4fb36e490921b75.story  \n",
            "  inflating: ./cnn_stories_short/__MACOSX/._0a045dcc5d3fddad8617a17db4fb36e490921b75.story  \n",
            "  inflating: ./cnn_stories_short/0a5d9ecf3dc62f6a708604c2e2aec60092a70b10.story  \n",
            "  inflating: ./cnn_stories_short/__MACOSX/._0a5d9ecf3dc62f6a708604c2e2aec60092a70b10.story  \n",
            "  inflating: ./cnn_stories_short/0a62d0b17cefb6de9c3816d56f67e0791f98cbd9.story  \n",
            "  inflating: ./cnn_stories_short/__MACOSX/._0a62d0b17cefb6de9c3816d56f67e0791f98cbd9.story  \n",
            "  inflating: ./cnn_stories_short/0a7be0f07c7a10c75f1815263e91e7046b0296c5.story  \n",
            "  inflating: ./cnn_stories_short/__MACOSX/._0a7be0f07c7a10c75f1815263e91e7046b0296c5.story  \n",
            "  inflating: ./cnn_stories_short/0a6fdda3f96f587d57ef4b32cd7bc3d882df8ce6.story  \n",
            "  inflating: ./cnn_stories_short/__MACOSX/._0a6fdda3f96f587d57ef4b32cd7bc3d882df8ce6.story  \n",
            "  inflating: ./cnn_stories_short/0abda53eef1633842e74842d4cececc6410e9d98.story  \n",
            "  inflating: ./cnn_stories_short/__MACOSX/._0abda53eef1633842e74842d4cececc6410e9d98.story  \n",
            "  inflating: ./cnn_stories_short/00a79ca59be700e845bf9e90bf08c5106b4a72bb.story  \n",
            "  inflating: ./cnn_stories_short/__MACOSX/._00a79ca59be700e845bf9e90bf08c5106b4a72bb.story  \n",
            "  inflating: ./cnn_stories_short/0a075b54c6af73ba416dfa2ba3398730aa15c454.story  \n",
            "  inflating: ./cnn_stories_short/__MACOSX/._0a075b54c6af73ba416dfa2ba3398730aa15c454.story  \n",
            "  inflating: ./cnn_stories_short/0a1825fafd53d101b2510293919bad051fbc4d62.story  \n",
            "  inflating: ./cnn_stories_short/__MACOSX/._0a1825fafd53d101b2510293919bad051fbc4d62.story  \n",
            "  inflating: ./cnn_stories_short/0aa48e16c877d98f641562017358c31936110448.story  \n",
            "  inflating: ./cnn_stories_short/__MACOSX/._0aa48e16c877d98f641562017358c31936110448.story  \n",
            "  inflating: ./cnn_stories_short/0ac00a2e9ff0d833ad4b2e4e1a37d74651fe8bc2.story  \n",
            "  inflating: ./cnn_stories_short/__MACOSX/._0ac00a2e9ff0d833ad4b2e4e1a37d74651fe8bc2.story  \n",
            "  inflating: ./cnn_stories_short/0a4eb84d6ce82960106f5a8531431b0b0cc95ecb.story  \n",
            "  inflating: ./cnn_stories_short/__MACOSX/._0a4eb84d6ce82960106f5a8531431b0b0cc95ecb.story  \n",
            "  inflating: ./cnn_stories_short/0ac866f94a108e8638ec99fa408ae27b48d8bf46.story  \n",
            "  inflating: ./cnn_stories_short/__MACOSX/._0ac866f94a108e8638ec99fa408ae27b48d8bf46.story  \n",
            "  inflating: ./cnn_stories_short/0a2278bec4a80aec1bc3e9e7a9dac10ac1b6425b.story  \n",
            "  inflating: ./cnn_stories_short/__MACOSX/._0a2278bec4a80aec1bc3e9e7a9dac10ac1b6425b.story  \n",
            "  inflating: ./cnn_stories_short/00ac882e1a7f4862fa9f1e863b738966625f554d.story  \n",
            "  inflating: ./cnn_stories_short/__MACOSX/._00ac882e1a7f4862fa9f1e863b738966625f554d.story  \n",
            "  inflating: ./cnn_stories_short/0a74ab0ebb290844e61c3630b37fa6fff8cf2213.story  \n",
            "  inflating: ./cnn_stories_short/__MACOSX/._0a74ab0ebb290844e61c3630b37fa6fff8cf2213.story  \n",
            "  inflating: ./cnn_stories_short/0a64e134f8f636a8309af1e9049983a38c4a18bb.story  \n",
            "  inflating: ./cnn_stories_short/__MACOSX/._0a64e134f8f636a8309af1e9049983a38c4a18bb.story  \n",
            "  inflating: ./cnn_stories_short/0aba0839f663dabdcda7b5085d1c1763b8b902b7.story  \n",
            "  inflating: ./cnn_stories_short/__MACOSX/._0aba0839f663dabdcda7b5085d1c1763b8b902b7.story  \n",
            "  inflating: ./cnn_stories_short/0abc3f7afb2fb515b3c3dc814550c75aeccc5030.story  \n",
            "  inflating: ./cnn_stories_short/__MACOSX/._0abc3f7afb2fb515b3c3dc814550c75aeccc5030.story  \n",
            "  inflating: ./cnn_stories_short/0abb0e23ffeffd48727c05695023ebcabe121478.story  \n",
            "  inflating: ./cnn_stories_short/__MACOSX/._0abb0e23ffeffd48727c05695023ebcabe121478.story  \n",
            "  inflating: ./cnn_stories_short/0a6802873f762054e3f09781c73cb884ee5bab3f.story  \n",
            "  inflating: ./cnn_stories_short/__MACOSX/._0a6802873f762054e3f09781c73cb884ee5bab3f.story  \n",
            "  inflating: ./cnn_stories_short/0a5706614db11f12c2527bf7070f6fb03221b788.story  \n",
            "  inflating: ./cnn_stories_short/__MACOSX/._0a5706614db11f12c2527bf7070f6fb03221b788.story  \n",
            "  inflating: ./cnn_stories_short/0a3ac3b4c51a0a73892149accd8bef450f42a517.story  \n",
            "  inflating: ./cnn_stories_short/__MACOSX/._0a3ac3b4c51a0a73892149accd8bef450f42a517.story  \n",
            "  inflating: ./cnn_stories_short/0a5c494f13f21e009f531c2a56543d274a8c5932.story  \n",
            "  inflating: ./cnn_stories_short/__MACOSX/._0a5c494f13f21e009f531c2a56543d274a8c5932.story  \n",
            "  inflating: ./cnn_stories_short/0a4a1a3d1ffb20c71b76ac49e34d1437cfa6fd6a.story  \n",
            "  inflating: ./cnn_stories_short/__MACOSX/._0a4a1a3d1ffb20c71b76ac49e34d1437cfa6fd6a.story  \n",
            "  inflating: ./cnn_stories_short/0a6c7cbe5aa6c6de9c9e6ab14adc105da4937e9d.story  \n",
            "  inflating: ./cnn_stories_short/__MACOSX/._0a6c7cbe5aa6c6de9c9e6ab14adc105da4937e9d.story  \n",
            "  inflating: ./cnn_stories_short/0abae4f1ae8799da281c357e8ee2d462b36c81b2.story  \n",
            "  inflating: ./cnn_stories_short/__MACOSX/._0abae4f1ae8799da281c357e8ee2d462b36c81b2.story  \n",
            "  inflating: ./cnn_stories_short/0a7b0b3999cc3a1604c0ce38524b662862676e79.story  \n",
            "  inflating: ./cnn_stories_short/__MACOSX/._0a7b0b3999cc3a1604c0ce38524b662862676e79.story  \n",
            "  inflating: ./cnn_stories_short/0a78dbac48b7c90effc5c8635d81df8d7dd21262.story  \n",
            "  inflating: ./cnn_stories_short/__MACOSX/._0a78dbac48b7c90effc5c8635d81df8d7dd21262.story  \n",
            "  inflating: ./cnn_stories_short/0a33dc04ca17936e33963f3aca15e4b82d3a24b2.story  \n",
            "  inflating: ./cnn_stories_short/__MACOSX/._0a33dc04ca17936e33963f3aca15e4b82d3a24b2.story  \n",
            "  inflating: ./cnn_stories_short/0a465bba1f822a2b0e7bac0f79691b912a8bba70.story  \n",
            "  inflating: ./cnn_stories_short/__MACOSX/._0a465bba1f822a2b0e7bac0f79691b912a8bba70.story  \n",
            "  inflating: ./cnn_stories_short/0aa5f91899b876216d2517a67056e0be5d16f44c.story  \n",
            "  inflating: ./cnn_stories_short/__MACOSX/._0aa5f91899b876216d2517a67056e0be5d16f44c.story  \n",
            "  inflating: ./cnn_stories_short/0a4b2d4ea5fb0625e3e747525062f0a85345e4df.story  \n",
            "  inflating: ./cnn_stories_short/__MACOSX/._0a4b2d4ea5fb0625e3e747525062f0a85345e4df.story  \n",
            "  inflating: ./cnn_stories_short/0a48f00e5fde0c2e08ac7bba9f89d2440885d382.story  \n",
            "  inflating: ./cnn_stories_short/__MACOSX/._0a48f00e5fde0c2e08ac7bba9f89d2440885d382.story  \n",
            "  inflating: ./cnn_stories_short/0a50d58bc0b4bf64be661449b28579c0e77f59e7.story  \n",
            "  inflating: ./cnn_stories_short/__MACOSX/._0a50d58bc0b4bf64be661449b28579c0e77f59e7.story  \n",
            "  inflating: ./cnn_stories_short/00a9a975bde07882d77b6fc4382589791b92ef00.story  \n",
            "  inflating: ./cnn_stories_short/__MACOSX/._00a9a975bde07882d77b6fc4382589791b92ef00.story  \n",
            "  inflating: ./cnn_stories_short/0ab95726d0834eb6d079314deba2abc48ac72014.story  \n",
            "  inflating: ./cnn_stories_short/__MACOSX/._0ab95726d0834eb6d079314deba2abc48ac72014.story  \n",
            "  inflating: ./cnn_stories_short/0a02f8f34bbbce835d5c80bf79d9776b41462349.story  \n",
            "  inflating: ./cnn_stories_short/__MACOSX/._0a02f8f34bbbce835d5c80bf79d9776b41462349.story  \n",
            "  inflating: ./cnn_stories_short/0a5de5a1aefba6b21c0ca9163baf46832402d6f8.story  \n",
            "  inflating: ./cnn_stories_short/__MACOSX/._0a5de5a1aefba6b21c0ca9163baf46832402d6f8.story  \n",
            "  inflating: ./cnn_stories_short/0a6e74e3116ca8246fa2d09929b59746973721f2.story  \n",
            "  inflating: ./cnn_stories_short/__MACOSX/._0a6e74e3116ca8246fa2d09929b59746973721f2.story  \n",
            "  inflating: ./cnn_stories_short/0a3ad75d92c5bc2eccf2763df86afe5ddeffed75.story  \n",
            "  inflating: ./cnn_stories_short/__MACOSX/._0a3ad75d92c5bc2eccf2763df86afe5ddeffed75.story  \n",
            "  inflating: ./cnn_stories_short/0ac1fbe30fa074f91c280997ad8d980202430c5d.story  \n",
            "  inflating: ./cnn_stories_short/__MACOSX/._0ac1fbe30fa074f91c280997ad8d980202430c5d.story  \n",
            "  inflating: ./cnn_stories_short/0a4ad3e3bde9940234b0da392687fb6874be1935.story  \n",
            "  inflating: ./cnn_stories_short/__MACOSX/._0a4ad3e3bde9940234b0da392687fb6874be1935.story  \n",
            "  inflating: ./cnn_stories_short/0a41dbe82c5702071754f466c399a939cde8811a.story  \n",
            "  inflating: ./cnn_stories_short/__MACOSX/._0a41dbe82c5702071754f466c399a939cde8811a.story  \n",
            "  inflating: ./cnn_stories_short/0a6fb03fb874812206db3e5e60f0993005084a77.story  \n",
            "  inflating: ./cnn_stories_short/__MACOSX/._0a6fb03fb874812206db3e5e60f0993005084a77.story  \n",
            "  inflating: ./cnn_stories_short/0a842d14099d3868d36adfdb269df65d14aa6c47.story  \n",
            "  inflating: ./cnn_stories_short/__MACOSX/._0a842d14099d3868d36adfdb269df65d14aa6c47.story  \n",
            "  inflating: ./cnn_stories_short/00ac91a5794537f1f37a8962a41fea6dbea2779b.story  \n",
            "  inflating: ./cnn_stories_short/__MACOSX/._00ac91a5794537f1f37a8962a41fea6dbea2779b.story  \n",
            "  inflating: ./cnn_stories_short/0abf4bacd3194af1f0c8f254489fddb925d0f4de.story  \n",
            "  inflating: ./cnn_stories_short/__MACOSX/._0abf4bacd3194af1f0c8f254489fddb925d0f4de.story  \n",
            "  inflating: ./cnn_stories_short/0a70f389a12d879ef7fb1ce76e36f8cbdba075a4.story  \n",
            "  inflating: ./cnn_stories_short/__MACOSX/._0a70f389a12d879ef7fb1ce76e36f8cbdba075a4.story  \n",
            "  inflating: ./cnn_stories_short/00a7e6767322697aa9236e2135aecc9785c6b410.story  \n",
            "  inflating: ./cnn_stories_short/__MACOSX/._00a7e6767322697aa9236e2135aecc9785c6b410.story  \n",
            "  inflating: ./cnn_stories_short/0a138aa82389e17ba1784bdced99379d007cc45b.story  \n",
            "  inflating: ./cnn_stories_short/__MACOSX/._0a138aa82389e17ba1784bdced99379d007cc45b.story  \n",
            "  inflating: ./cnn_stories_short/0a0a4c90d59df9e36ffec4ba306b4f20f3ba4acb.story  \n",
            "  inflating: ./cnn_stories_short/__MACOSX/._0a0a4c90d59df9e36ffec4ba306b4f20f3ba4acb.story  \n",
            "  inflating: ./cnn_stories_short/0a05715184ed236ada505e0540361cc7820b3b57.story  \n",
            "  inflating: ./cnn_stories_short/__MACOSX/._0a05715184ed236ada505e0540361cc7820b3b57.story  \n",
            "  inflating: ./cnn_stories_short/0a83c82ca6874b60f1c4d4d89bce849ee61074b4.story  \n",
            "  inflating: ./cnn_stories_short/__MACOSX/._0a83c82ca6874b60f1c4d4d89bce849ee61074b4.story  \n",
            "  inflating: ./cnn_stories_short/0a85cce694017e07c8987b6e9fe61be96141c222.story  \n",
            "  inflating: ./cnn_stories_short/__MACOSX/._0a85cce694017e07c8987b6e9fe61be96141c222.story  \n",
            "  inflating: ./cnn_stories_short/0a76ad8292cf58cd07fbf65ff091d5eaa67245c4.story  \n",
            "  inflating: ./cnn_stories_short/__MACOSX/._0a76ad8292cf58cd07fbf65ff091d5eaa67245c4.story  \n",
            "  inflating: ./cnn_stories_short/0aa8caf16059abf240f1ea25ab9b8a0c91dcdec8.story  \n",
            "  inflating: ./cnn_stories_short/__MACOSX/._0aa8caf16059abf240f1ea25ab9b8a0c91dcdec8.story  \n",
            "  inflating: ./cnn_stories_short/0ac2cb5ad039f37fc3fe8da10dd585ace769dee0.story  \n",
            "  inflating: ./cnn_stories_short/__MACOSX/._0ac2cb5ad039f37fc3fe8da10dd585ace769dee0.story  \n",
            "  inflating: ./cnn_stories_short/0aa4ebcfdea99def3d259236c74a492c5dc9cf14.story  \n",
            "  inflating: ./cnn_stories_short/__MACOSX/._0aa4ebcfdea99def3d259236c74a492c5dc9cf14.story  \n",
            "  inflating: ./cnn_stories_short/0a2c21f10887cd8b757e45b7143147bd322d474d.story  \n",
            "  inflating: ./cnn_stories_short/__MACOSX/._0a2c21f10887cd8b757e45b7143147bd322d474d.story  \n",
            "  inflating: ./cnn_stories_short/0a1ef61e85845fc03a2aad06aabad8d34e0b36ad.story  \n",
            "  inflating: ./cnn_stories_short/__MACOSX/._0a1ef61e85845fc03a2aad06aabad8d34e0b36ad.story  \n",
            "  inflating: ./cnn_stories_short/0a276f3878f47c60ac264e708e1c6e374352f92f.story  \n",
            "  inflating: ./cnn_stories_short/__MACOSX/._0a276f3878f47c60ac264e708e1c6e374352f92f.story  \n",
            "  inflating: ./cnn_stories_short/0a061fb6e6d4a92232e782727879383aa3e08196.story  \n",
            "  inflating: ./cnn_stories_short/__MACOSX/._0a061fb6e6d4a92232e782727879383aa3e08196.story  \n",
            "  inflating: ./cnn_stories_short/0a7c15a01b8b7c5fa463386e8167d72973332daa.story  \n",
            "  inflating: ./cnn_stories_short/__MACOSX/._0a7c15a01b8b7c5fa463386e8167d72973332daa.story  \n",
            "  inflating: ./cnn_stories_short/0a7f6aada6d71dd81d1c2bb33063b88557298dcb.story  \n",
            "  inflating: ./cnn_stories_short/__MACOSX/._0a7f6aada6d71dd81d1c2bb33063b88557298dcb.story  \n",
            "  inflating: ./cnn_stories_short/0a000f521734500aa360bf6bb2bb31446e4d66cd.story  \n",
            "  inflating: ./cnn_stories_short/__MACOSX/._0a000f521734500aa360bf6bb2bb31446e4d66cd.story  \n",
            "  inflating: ./cnn_stories_short/0a6bb5de0dc52c6121c1a4ac81e226d0dbfd3ac8.story  \n",
            "  inflating: ./cnn_stories_short/__MACOSX/._0a6bb5de0dc52c6121c1a4ac81e226d0dbfd3ac8.story  \n",
            "  inflating: ./cnn_stories_short/0a95281ccd4317e73afcc13bc379c103380df5d5.story  \n",
            "  inflating: ./cnn_stories_short/__MACOSX/._0a95281ccd4317e73afcc13bc379c103380df5d5.story  \n",
            "  inflating: ./cnn_stories_short/0abe1f91951636a950286d8811a4a3649bf756c5.story  \n",
            "  inflating: ./cnn_stories_short/__MACOSX/._0abe1f91951636a950286d8811a4a3649bf756c5.story  \n",
            "  inflating: ./cnn_stories_short/0a563a165097702bd5377ca59de8feebaa77a719.story  \n",
            "  inflating: ./cnn_stories_short/__MACOSX/._0a563a165097702bd5377ca59de8feebaa77a719.story  \n",
            "  inflating: ./cnn_stories_short/0a5c928583ffab06810cff61234b3de6fa91c916.story  \n",
            "  inflating: ./cnn_stories_short/__MACOSX/._0a5c928583ffab06810cff61234b3de6fa91c916.story  \n",
            "  inflating: ./cnn_stories_short/0a13a16470a0aa1c8c7224d8c207698bdf456dbe.story  \n",
            "  inflating: ./cnn_stories_short/__MACOSX/._0a13a16470a0aa1c8c7224d8c207698bdf456dbe.story  \n",
            "  inflating: ./cnn_stories_short/0a6a6f5a063d58a7288994fe82a44015c7f061a1.story  \n",
            "  inflating: ./cnn_stories_short/__MACOSX/._0a6a6f5a063d58a7288994fe82a44015c7f061a1.story  \n",
            "  inflating: ./cnn_stories_short/0a471293143e542e3f3ff00265bcadfbc68bda25.story  \n",
            "  inflating: ./cnn_stories_short/__MACOSX/._0a471293143e542e3f3ff00265bcadfbc68bda25.story  \n",
            "  inflating: ./cnn_stories_short/0aa2670a77bbcc4625473194e49e7487bf8aad23.story  \n",
            "  inflating: ./cnn_stories_short/__MACOSX/._0aa2670a77bbcc4625473194e49e7487bf8aad23.story  \n",
            "  inflating: ./cnn_stories_short/00a6c0823ba92e5a055d90133e8b66fa9028c2d7.story  \n",
            "  inflating: ./cnn_stories_short/__MACOSX/._00a6c0823ba92e5a055d90133e8b66fa9028c2d7.story  \n",
            "  inflating: ./cnn_stories_short/0a03ba4e2d247acacfddd4e53270a008b5c1fff0.story  \n",
            "  inflating: ./cnn_stories_short/__MACOSX/._0a03ba4e2d247acacfddd4e53270a008b5c1fff0.story  \n",
            "  inflating: ./cnn_stories_short/0a8f30cdcf13b1d00d4670d16ec0c40e2ca1de1c.story  \n",
            "  inflating: ./cnn_stories_short/__MACOSX/._0a8f30cdcf13b1d00d4670d16ec0c40e2ca1de1c.story  \n",
            "  inflating: ./cnn_stories_short/0a375bb7e299e2a109e23053b48c034607a521a8.story  \n",
            "  inflating: ./cnn_stories_short/__MACOSX/._0a375bb7e299e2a109e23053b48c034607a521a8.story  \n",
            "  inflating: ./cnn_stories_short/0a97ef01e13b235d5b7271a6933ea62fda554067.story  \n",
            "  inflating: ./cnn_stories_short/__MACOSX/._0a97ef01e13b235d5b7271a6933ea62fda554067.story  \n",
            "  inflating: ./cnn_stories_short/0ab2c6142ec356025ca095b341c8622a2021e994.story  \n",
            "  inflating: ./cnn_stories_short/__MACOSX/._0ab2c6142ec356025ca095b341c8622a2021e994.story  \n",
            "  inflating: ./cnn_stories_short/0a6e78a36db2768430615856e1e5b5b2ccfb3270.story  \n",
            "  inflating: ./cnn_stories_short/__MACOSX/._0a6e78a36db2768430615856e1e5b5b2ccfb3270.story  \n",
            "  inflating: ./cnn_stories_short/0a8d5fc5bac3b5b71523921a80427571e7157658.story  \n",
            "  inflating: ./cnn_stories_short/__MACOSX/._0a8d5fc5bac3b5b71523921a80427571e7157658.story  \n",
            "  inflating: ./cnn_stories_short/0a79b6759b353b0209e24307b5b041647d58c316.story  \n",
            "  inflating: ./cnn_stories_short/__MACOSX/._0a79b6759b353b0209e24307b5b041647d58c316.story  \n",
            "  inflating: ./cnn_stories_short/0a0adc84ccbf9414613e145a3795dccc4828ddd4.story  \n",
            "  inflating: ./cnn_stories_short/__MACOSX/._0a0adc84ccbf9414613e145a3795dccc4828ddd4.story  \n",
            "  inflating: ./cnn_stories_short/0a0f56ebc5a0a67ed18de79d99b40a42d8058d04.story  \n",
            "  inflating: ./cnn_stories_short/__MACOSX/._0a0f56ebc5a0a67ed18de79d99b40a42d8058d04.story  \n",
            "  inflating: ./cnn_stories_short/0a4324d4a5effa420aa95bb058314eab35c73852.story  \n",
            "  inflating: ./cnn_stories_short/__MACOSX/._0a4324d4a5effa420aa95bb058314eab35c73852.story  \n",
            "  inflating: ./cnn_stories_short/0ac0dfdaca4ed1e3e559505b383919d727ddd603.story  \n",
            "  inflating: ./cnn_stories_short/__MACOSX/._0ac0dfdaca4ed1e3e559505b383919d727ddd603.story  \n",
            "  inflating: ./cnn_stories_short/0ab642aea9c58f175c93dddec15071d1a0b2e792.story  \n",
            "  inflating: ./cnn_stories_short/__MACOSX/._0ab642aea9c58f175c93dddec15071d1a0b2e792.story  \n",
            "  inflating: ./cnn_stories_short/00a340f3a884fcbdad7c0399782d9ca9d2d68ef7.story  \n",
            "  inflating: ./cnn_stories_short/__MACOSX/._00a340f3a884fcbdad7c0399782d9ca9d2d68ef7.story  \n",
            "  inflating: ./cnn_stories_short/0a1335c931d4b7a96296e04eab714925d6f4f4d8.story  \n",
            "  inflating: ./cnn_stories_short/__MACOSX/._0a1335c931d4b7a96296e04eab714925d6f4f4d8.story  \n",
            "  inflating: ./cnn_stories_short/00a57bef588a7e7efd0438fba62f07356c59b036.story  \n",
            "  inflating: ./cnn_stories_short/__MACOSX/._00a57bef588a7e7efd0438fba62f07356c59b036.story  \n",
            "  inflating: ./cnn_stories_short/0ac7adff1e1da0757f8ae1825872b0ac51236928.story  \n",
            "  inflating: ./cnn_stories_short/__MACOSX/._0ac7adff1e1da0757f8ae1825872b0ac51236928.story  \n",
            "  inflating: ./cnn_stories_short/0ac5e76f11c9ed5c97683aaaad5f6ec6759d45c9.story  \n",
            "  inflating: ./cnn_stories_short/__MACOSX/._0ac5e76f11c9ed5c97683aaaad5f6ec6759d45c9.story  \n",
            "  inflating: ./cnn_stories_short/0a3b7f6fcfa482750357c34d8f1fd03d1efbbd2b.story  \n",
            "  inflating: ./cnn_stories_short/__MACOSX/._0a3b7f6fcfa482750357c34d8f1fd03d1efbbd2b.story  \n",
            "  inflating: ./cnn_stories_short/0a12bc9fb4ad7dca66b2072094b48a126e3efd0a.story  \n",
            "  inflating: ./cnn_stories_short/__MACOSX/._0a12bc9fb4ad7dca66b2072094b48a126e3efd0a.story  \n",
            "  inflating: ./cnn_stories_short/0abe8517bb6909cad1d0e3e12e54c2623fa48a52.story  \n",
            "  inflating: ./cnn_stories_short/__MACOSX/._0abe8517bb6909cad1d0e3e12e54c2623fa48a52.story  \n",
            "  inflating: ./cnn_stories_short/0a32056044c705689306e67ce0618cbe93e836d9.story  \n",
            "  inflating: ./cnn_stories_short/__MACOSX/._0a32056044c705689306e67ce0618cbe93e836d9.story  \n",
            "  inflating: ./cnn_stories_short/0aa15c2764bf5c015341e6fca89176e7c0a0ac87.story  \n",
            "  inflating: ./cnn_stories_short/__MACOSX/._0aa15c2764bf5c015341e6fca89176e7c0a0ac87.story  \n",
            "  inflating: ./cnn_stories_short/0aa7391eb1ada7b42b60bcdd5f99ca5bba2a4447.story  \n",
            "  inflating: ./cnn_stories_short/__MACOSX/._0aa7391eb1ada7b42b60bcdd5f99ca5bba2a4447.story  \n",
            "  inflating: ./cnn_stories_short/0ab5929d6d3956f5d1a3645fc81adcbe301f1404.story  \n",
            "  inflating: ./cnn_stories_short/__MACOSX/._0ab5929d6d3956f5d1a3645fc81adcbe301f1404.story  \n",
            "  inflating: ./cnn_stories_short/0a6953feb86f56b0d74415e409f8dddfd9ef50e1.story  \n",
            "  inflating: ./cnn_stories_short/__MACOSX/._0a6953feb86f56b0d74415e409f8dddfd9ef50e1.story  \n",
            "  inflating: ./cnn_stories_short/0a51bc43fb33d8da710e9969a73c23e031e4630d.story  \n",
            "  inflating: ./cnn_stories_short/__MACOSX/._0a51bc43fb33d8da710e9969a73c23e031e4630d.story  \n",
            "  inflating: ./cnn_stories_short/0a242913a0623c84ca60947d2c14fe42d213f66e.story  \n",
            "  inflating: ./cnn_stories_short/__MACOSX/._0a242913a0623c84ca60947d2c14fe42d213f66e.story  \n",
            "  inflating: ./cnn_stories_short/0a2cd8e99fec7ceafa5b3a9b92bc90966b9ed29e.story  \n",
            "  inflating: ./cnn_stories_short/__MACOSX/._0a2cd8e99fec7ceafa5b3a9b92bc90966b9ed29e.story  \n",
            "  inflating: ./cnn_stories_short/00ac6fa0167e99167565ab9a12c1c96bf48ac414.story  \n",
            "  inflating: ./cnn_stories_short/__MACOSX/._00ac6fa0167e99167565ab9a12c1c96bf48ac414.story  \n",
            "  inflating: ./cnn_stories_short/00a51d5454f2ef7dbf4c53471223a27fb9c20681.story  \n",
            "  inflating: ./cnn_stories_short/__MACOSX/._00a51d5454f2ef7dbf4c53471223a27fb9c20681.story  \n",
            "  inflating: ./cnn_stories_short/0aa8e5d4f5759c12738d1239b9f0c6fa57d629f7.story  \n",
            "  inflating: ./cnn_stories_short/__MACOSX/._0aa8e5d4f5759c12738d1239b9f0c6fa57d629f7.story  \n",
            "  inflating: ./cnn_stories_short/0a1f92e7a3e3bb03e8d91014ce6f486508eb125e.story  \n",
            "  inflating: ./cnn_stories_short/__MACOSX/._0a1f92e7a3e3bb03e8d91014ce6f486508eb125e.story  \n",
            "  inflating: ./cnn_stories_short/0a4ec4d37683347ca62b53982d2c5f4efb86f444.story  \n",
            "  inflating: ./cnn_stories_short/__MACOSX/._0a4ec4d37683347ca62b53982d2c5f4efb86f444.story  \n",
            "  inflating: ./cnn_stories_short/0a661af9686af6c8f298c8309e8e1a96ef0cc08f.story  \n",
            "  inflating: ./cnn_stories_short/__MACOSX/._0a661af9686af6c8f298c8309e8e1a96ef0cc08f.story  \n",
            "  inflating: ./cnn_stories_short/0ac0b846d8d643d339e347a474fbc4860467407d.story  \n",
            "  inflating: ./cnn_stories_short/__MACOSX/._0ac0b846d8d643d339e347a474fbc4860467407d.story  \n",
            "  inflating: ./cnn_stories_short/00a7132b9c9a646852ac4a606acb71e3a6acb8c6.story  \n",
            "  inflating: ./cnn_stories_short/__MACOSX/._00a7132b9c9a646852ac4a606acb71e3a6acb8c6.story  \n",
            "  inflating: ./cnn_stories_short/0ac087a38e319cdaf67876cb39bd0062ff1fa598.story  \n",
            "  inflating: ./cnn_stories_short/__MACOSX/._0ac087a38e319cdaf67876cb39bd0062ff1fa598.story  \n",
            "  inflating: ./cnn_stories_short/0a860fecac21116cfea9b8763204ec339b7c9a28.story  \n",
            "  inflating: ./cnn_stories_short/__MACOSX/._0a860fecac21116cfea9b8763204ec339b7c9a28.story  \n",
            "  inflating: ./cnn_stories_short/0a6b027b3384e79929c19b94062882db8c7f91fc.story  \n",
            "  inflating: ./cnn_stories_short/__MACOSX/._0a6b027b3384e79929c19b94062882db8c7f91fc.story  \n",
            "  inflating: ./cnn_stories_short/00aa8e3ba59f5fe71a096a5549f80faece10aa83.story  \n",
            "  inflating: ./cnn_stories_short/__MACOSX/._00aa8e3ba59f5fe71a096a5549f80faece10aa83.story  \n",
            "  inflating: ./cnn_stories_short/0a5691b8fe654b6b2cdace5ab87aff2ee4c23577.story  \n",
            "  inflating: ./cnn_stories_short/__MACOSX/._0a5691b8fe654b6b2cdace5ab87aff2ee4c23577.story  \n",
            "  inflating: ./cnn_stories_short/0a4e7367d800c22a42d0608bc3d39ada4249e9b5.story  \n",
            "  inflating: ./cnn_stories_short/__MACOSX/._0a4e7367d800c22a42d0608bc3d39ada4249e9b5.story  \n",
            "  inflating: ./cnn_stories_short/0a06e1c26ef6cbadd8f508ec2ade220f755de6a8.story  \n",
            "  inflating: ./cnn_stories_short/__MACOSX/._0a06e1c26ef6cbadd8f508ec2ade220f755de6a8.story  \n",
            "  inflating: ./cnn_stories_short/0a4ce4b147ab877d4937aa5a34c3b22127ffb912.story  \n",
            "  inflating: ./cnn_stories_short/__MACOSX/._0a4ce4b147ab877d4937aa5a34c3b22127ffb912.story  \n",
            "  inflating: ./cnn_stories_short/0a6bd8c83f7ad09abd30e234fe615d3d96753689.story  \n",
            "  inflating: ./cnn_stories_short/__MACOSX/._0a6bd8c83f7ad09abd30e234fe615d3d96753689.story  \n",
            "  inflating: ./cnn_stories_short/0a02013ba07cb3118e64f3e9aecab33687ad1fb9.story  \n",
            "  inflating: ./cnn_stories_short/__MACOSX/._0a02013ba07cb3118e64f3e9aecab33687ad1fb9.story  \n",
            "  inflating: ./cnn_stories_short/0aacf95e048e395ac10bfa01c21c23847bcbdecc.story  \n",
            "  inflating: ./cnn_stories_short/__MACOSX/._0aacf95e048e395ac10bfa01c21c23847bcbdecc.story  \n",
            "  inflating: ./cnn_stories_short/0ab92342d8a66208107c6226c3ab0a75ba42445b.story  \n",
            "  inflating: ./cnn_stories_short/__MACOSX/._0ab92342d8a66208107c6226c3ab0a75ba42445b.story  \n",
            "  inflating: ./cnn_stories_short/0a6b76916b200bfe21a7aa0b2254d92dfc8174b1.story  \n",
            "  inflating: ./cnn_stories_short/__MACOSX/._0a6b76916b200bfe21a7aa0b2254d92dfc8174b1.story  \n",
            "  inflating: ./cnn_stories_short/0a001b54b5b0ea17f11aa8d7acafb40ae7748ca6.story  \n",
            "  inflating: ./cnn_stories_short/__MACOSX/._0a001b54b5b0ea17f11aa8d7acafb40ae7748ca6.story  \n",
            "  inflating: ./cnn_stories_short/0a8250b682993c54b33bfa0562ca3190423ab417.story  \n",
            "  inflating: ./cnn_stories_short/__MACOSX/._0a8250b682993c54b33bfa0562ca3190423ab417.story  \n",
            "  inflating: ./cnn_stories_short/0a8a17abdfec5b84ecf46907c72621a58bac4d38.story  \n",
            "  inflating: ./cnn_stories_short/__MACOSX/._0a8a17abdfec5b84ecf46907c72621a58bac4d38.story  \n",
            "  inflating: ./cnn_stories_short/0aa0562353120d93357dc00a05ff4d2bc0312715.story  \n",
            "  inflating: ./cnn_stories_short/__MACOSX/._0aa0562353120d93357dc00a05ff4d2bc0312715.story  \n",
            "  inflating: ./cnn_stories_short/0a0b59738a88e97ef66322a8c866d22ebf079289.story  \n",
            "  inflating: ./cnn_stories_short/__MACOSX/._0a0b59738a88e97ef66322a8c866d22ebf079289.story  \n",
            "  inflating: ./cnn_stories_short/0a4230461154984e1925f8ad0fbe1b7c204d0b56.story  \n",
            "  inflating: ./cnn_stories_short/__MACOSX/._0a4230461154984e1925f8ad0fbe1b7c204d0b56.story  \n",
            "  inflating: ./cnn_stories_short/0a628d27e7ad3c0cebf3286fda1d3cd33d534db9.story  \n",
            "  inflating: ./cnn_stories_short/__MACOSX/._0a628d27e7ad3c0cebf3286fda1d3cd33d534db9.story  \n",
            "  inflating: ./cnn_stories_short/0a050dbe85bff2aa1efd4dbeb4628bc6fc9f46f1.story  \n",
            "  inflating: ./cnn_stories_short/__MACOSX/._0a050dbe85bff2aa1efd4dbeb4628bc6fc9f46f1.story  \n",
            "  inflating: ./cnn_stories_short/0abff88b8d547aedb45a63dd0b5fe7a8c21823fc.story  \n",
            "  inflating: ./cnn_stories_short/__MACOSX/._0abff88b8d547aedb45a63dd0b5fe7a8c21823fc.story  \n",
            "  inflating: ./cnn_stories_short/0a50865864a332a56d91e2929d8a5cf7a185107d.story  \n",
            "  inflating: ./cnn_stories_short/__MACOSX/._0a50865864a332a56d91e2929d8a5cf7a185107d.story  \n",
            "  inflating: ./cnn_stories_short/0a11ec5374add814d121adc9b9a9f1de8364f547.story  \n",
            "  inflating: ./cnn_stories_short/__MACOSX/._0a11ec5374add814d121adc9b9a9f1de8364f547.story  \n",
            "  inflating: ./cnn_stories_short/0a47d5753cef1227d82fbc4290b27b58047d3a4c.story  \n",
            "  inflating: ./cnn_stories_short/__MACOSX/._0a47d5753cef1227d82fbc4290b27b58047d3a4c.story  \n",
            "  inflating: ./cnn_stories_short/0a341e6407a5455f8dfd4834f0aa2758fd845ce4.story  \n",
            "  inflating: ./cnn_stories_short/__MACOSX/._0a341e6407a5455f8dfd4834f0aa2758fd845ce4.story  \n",
            "  inflating: ./cnn_stories_short/0a1e599f293a96eebec255ccc6d44134a6fc7720.story  \n",
            "  inflating: ./cnn_stories_short/__MACOSX/._0a1e599f293a96eebec255ccc6d44134a6fc7720.story  \n",
            "  inflating: ./cnn_stories_short/0a71f063b78184b4ca2ffee3c642d48dc27ef91b.story  \n",
            "  inflating: ./cnn_stories_short/__MACOSX/._0a71f063b78184b4ca2ffee3c642d48dc27ef91b.story  \n",
            "  inflating: ./cnn_stories_short/0a3f567efff9f0748b2758c9e8c17dc66beade04.story  \n",
            "  inflating: ./cnn_stories_short/__MACOSX/._0a3f567efff9f0748b2758c9e8c17dc66beade04.story  \n"
          ]
        }
      ]
    },
    {
      "cell_type": "code",
      "metadata": {
        "id": "MXeCZ2tIe7XS"
      },
      "source": [
        "!rm -r ./cnn_stories_short/__MACOSX"
      ],
      "execution_count": null,
      "outputs": []
    },
    {
      "cell_type": "markdown",
      "metadata": {
        "id": "Zf5xfzHpe7XS"
      },
      "source": [
        "## Подготовка данных"
      ]
    },
    {
      "cell_type": "markdown",
      "metadata": {
        "id": "p2VYb528e7XS"
      },
      "source": [
        "Датасет состоит из исходных текстов и уже написанных кратких содержаниях к ним. \n",
        "Готовые краткие содержания сохраним в переменную *summaries* и воспользуемся ими позднее для оценки качества получившегося алгоритма."
      ]
    },
    {
      "cell_type": "code",
      "metadata": {
        "id": "J4vWoH6je7XS"
      },
      "source": [
        "texts = []\n",
        "summaries = []\n",
        "for filename in os.listdir(DATA_DIR):\n",
        "    with open(os.path.join(DATA_DIR,filename),'r') as input_file:\n",
        "        all_texts = input_file.read().split('@highlight')\n",
        "        texts.append(all_texts[0])\n",
        "        summaries.append('. '.join(map(lambda x: x.strip(), all_texts[1:])))"
      ],
      "execution_count": null,
      "outputs": []
    },
    {
      "cell_type": "code",
      "metadata": {
        "colab": {
          "base_uri": "https://localhost:8080/"
        },
        "id": "wXDuROJEzNOj",
        "outputId": "156501eb-02fd-4977-9dce-b04f09e7ef45"
      },
      "source": [
        "print(summaries[0])"
      ],
      "execution_count": null,
      "outputs": [
        {
          "output_type": "stream",
          "name": "stdout",
          "text": [
            "Mao proved to be good at fighting but poor at governing. Mao pushed sweeping socio-economic initiatives, strident ideological campaigns. His successor Deng Xiaoping embarks upon reforming the economy, opening China. China gains world prominence via 20-year economic boom, but has consequences\n"
          ]
        }
      ]
    },
    {
      "cell_type": "markdown",
      "metadata": {
        "id": "dCJpPwu7e7XS"
      },
      "source": [
        "#### Нам понадобятся: \n",
        "* тексты, разбитые на предложения \n",
        "* предложения, разбитые на токены\n",
        "* тексты, разбитые предложения, которые разбиты на токены"
      ]
    },
    {
      "cell_type": "code",
      "metadata": {
        "colab": {
          "base_uri": "https://localhost:8080/"
        },
        "id": "khBgQs8jhSpd",
        "outputId": "b12409eb-b2db-49c6-a576-de1fb66ed905"
      },
      "source": [
        "nltk.download('punkt')"
      ],
      "execution_count": null,
      "outputs": [
        {
          "output_type": "stream",
          "name": "stderr",
          "text": [
            "[nltk_data] Downloading package punkt to /root/nltk_data...\n",
            "[nltk_data]   Package punkt is already up-to-date!\n"
          ]
        },
        {
          "output_type": "execute_result",
          "data": {
            "text/plain": [
              "True"
            ]
          },
          "metadata": {},
          "execution_count": 10
        }
      ]
    },
    {
      "cell_type": "code",
      "metadata": {
        "id": "pF7-yhxZe7XS"
      },
      "source": [
        "sent_tokenized_texts = [sent_tokenize(text) for text in texts]\n",
        "tokenized_sentences = [word_tokenize(sent) for text in texts for sent in sent_tokenize(text)]\n",
        "tokenized_texts = [[word_tokenize(sent) for sent in text] for text in sent_tokenized_texts]"
      ],
      "execution_count": null,
      "outputs": []
    },
    {
      "cell_type": "markdown",
      "metadata": {
        "id": "t6YEJa8Je7XS"
      },
      "source": [
        "## Построение векторных представлений для текстов"
      ]
    },
    {
      "cell_type": "markdown",
      "metadata": {
        "id": "Ijvn-De8e7XS"
      },
      "source": [
        "Для алгоритма TextRank нам потребуется получить векторное представление для каждого предложения в тексте.\n",
        "\n",
        "Будем использовать предобученные вектора Glove. "
      ]
    },
    {
      "cell_type": "markdown",
      "metadata": {
        "id": "U0KFmssIe7XS"
      },
      "source": [
        "Загрузим модель:"
      ]
    },
    {
      "cell_type": "code",
      "metadata": {
        "colab": {
          "base_uri": "https://localhost:8080/"
        },
        "id": "ubihkQGDe7XS",
        "outputId": "6583b1a5-0e44-4c15-b314-b5fdf2930264"
      },
      "source": [
        "!wget https://huggingface.co/stanfordnlp/glove/resolve/main/glove.6B.zip\n",
        "!unzip glove*.zip"
      ],
      "execution_count": null,
      "outputs": [
        {
          "output_type": "stream",
          "name": "stdout",
          "text": [
            "--2021-11-18 11:52:26--  https://huggingface.co/stanfordnlp/glove/resolve/main/glove.6B.zip\n",
            "Resolving huggingface.co (huggingface.co)... 54.221.222.133, 35.173.116.130, 2600:1f18:147f:e800:376a:4240:9def:1053, ...\n",
            "Connecting to huggingface.co (huggingface.co)|54.221.222.133|:443... connected.\n",
            "HTTP request sent, awaiting response... 302 Found\n",
            "Location: https://cdn-lfs.huggingface.co/stanfordnlp/glove/6471382cdd837544bf3ac72497a38715e845897d265b2b424b4761832009c837 [following]\n",
            "--2021-11-18 11:52:26--  https://cdn-lfs.huggingface.co/stanfordnlp/glove/6471382cdd837544bf3ac72497a38715e845897d265b2b424b4761832009c837\n",
            "Resolving cdn-lfs.huggingface.co (cdn-lfs.huggingface.co)... 52.84.162.32, 52.84.162.46, 52.84.162.75, ...\n",
            "Connecting to cdn-lfs.huggingface.co (cdn-lfs.huggingface.co)|52.84.162.32|:443... connected.\n",
            "HTTP request sent, awaiting response... 200 OK\n",
            "Length: 862182753 (822M) [application/zip]\n",
            "Saving to: ‘glove.6B.zip.2’\n",
            "\n",
            "glove.6B.zip.2      100%[===================>] 822.24M  81.1MB/s    in 9.6s    \n",
            "\n",
            "2021-11-18 11:52:36 (85.5 MB/s) - ‘glove.6B.zip.2’ saved [862182753/862182753]\n",
            "\n",
            "Archive:  glove.6B.zip\n",
            "replace glove.6B.100d.txt? [y]es, [n]o, [A]ll, [N]one, [r]ename: A\n",
            "  inflating: glove.6B.100d.txt       \n",
            "  inflating: glove.6B.200d.txt       \n",
            "  inflating: glove.6B.300d.txt       \n",
            "  inflating: glove.6B.50d.txt        \n"
          ]
        }
      ]
    },
    {
      "cell_type": "code",
      "metadata": {
        "id": "EIxU3lDte7XS"
      },
      "source": [
        "word_embeddings = {}\n",
        "with open('glove.6B.100d.txt', encoding='utf-8') as f:\n",
        "    for line in f.readlines():\n",
        "        values = line.split()\n",
        "        word = values[0]\n",
        "        word_embeddings[word] = np.asarray(values[1:], dtype='float32')"
      ],
      "execution_count": null,
      "outputs": []
    },
    {
      "cell_type": "markdown",
      "metadata": {
        "id": "M-GsDmRbe7XS"
      },
      "source": [
        "Теперь нам нужно на основе векторов слов построить векторные представления для предложений.\n",
        "\n",
        "Воспользуемся для этого классом TfidfEmbeddingVectorizer.\n",
        "\n",
        "Он вычисляет вектор для текста как взвешенное среднее векторов входящих в него слов с весами tf-idf."
      ]
    },
    {
      "cell_type": "code",
      "metadata": {
        "id": "wNGnN6UTe7XS"
      },
      "source": [
        "class TfidfEmbeddingVectorizer:\n",
        "    \n",
        "    def __init__(self, embedding_model, dim=100):\n",
        "        self.embedding_model = embedding_model\n",
        "        self.word2weight = None\n",
        "        self.dim = dim\n",
        "\n",
        "    def fit(self, X):\n",
        "        tfidf = TfidfVectorizer(analyzer=lambda x: x)\n",
        "        tfidf.fit(X)\n",
        "        max_idf = np.max(tfidf.idf_)\n",
        "        self.word2weight = defaultdict(lambda: max_idf, [(w,tfidf.idf_[i]) for w,i in tfidf.vocabulary_.items()])\n",
        "\n",
        "        return self\n",
        "\n",
        "    def transform(self, X):\n",
        "        return np.array([np.mean([self.embedding_model[w] * self.word2weight[w] \n",
        "                                  for w in words if w in self.embedding_model] or [np.zeros(self.dim)], axis=0) \n",
        "                         for words in X])"
      ],
      "execution_count": null,
      "outputs": []
    },
    {
      "cell_type": "code",
      "metadata": {
        "id": "ssKKoVgCe7XS"
      },
      "source": [
        "sentence_vectorizer = TfidfEmbeddingVectorizer(word_embeddings)\n",
        "sentence_vectorizer = sentence_vectorizer.fit(tokenized_sentences)"
      ],
      "execution_count": null,
      "outputs": []
    },
    {
      "cell_type": "markdown",
      "metadata": {
        "id": "jIcz-AJge7XS"
      },
      "source": [
        "## Построение графа "
      ]
    },
    {
      "cell_type": "markdown",
      "metadata": {
        "id": "iBPW-s9Qe7XS"
      },
      "source": [
        "Для алгоритма *TextRank* нам понадобится построить из текста взвешенный граф.\n",
        "\n",
        "Каждому предложению текста мы поставим в соответствие вершину графа. \n",
        "\n",
        "Каждая пара вершин будет соединена ребром, а вес ребра будет равен расстоянию между векторными представлениями соответствующих предложений."
      ]
    },
    {
      "cell_type": "markdown",
      "metadata": {
        "id": "Dt-LVd1je7XS"
      },
      "source": [
        "Для примера построим граф в виде матрицы расстояний для одного из текстов.\n",
        "Выберем один текст и построим для него матрицу расстояний. В качестве метрики используем косинусное расстояние."
      ]
    },
    {
      "cell_type": "code",
      "metadata": {
        "id": "ZGcPZ5OIe7XS"
      },
      "source": [
        "TEXT_NUM = 0"
      ],
      "execution_count": null,
      "outputs": []
    },
    {
      "cell_type": "code",
      "metadata": {
        "id": "OMJlptQ-e7XS"
      },
      "source": [
        "sentences = tokenized_texts[TEXT_NUM]"
      ],
      "execution_count": null,
      "outputs": []
    },
    {
      "cell_type": "markdown",
      "metadata": {
        "id": "VO-WdWRIe7XS"
      },
      "source": [
        "С помощью векторизатора получим вектора для всех предложений текста."
      ]
    },
    {
      "cell_type": "code",
      "metadata": {
        "id": "CtLXZkxKe7XS"
      },
      "source": [
        "vectorized_sentences = sentence_vectorizer.transform(sentences)"
      ],
      "execution_count": null,
      "outputs": []
    },
    {
      "cell_type": "markdown",
      "metadata": {
        "id": "R21iKMMNe7XS"
      },
      "source": [
        "Воспользуемся функцией cosine_similarity из scikit-learn для вычисления матрицы косинусных расстояний."
      ]
    },
    {
      "cell_type": "code",
      "metadata": {
        "id": "XXGTMo30e7XS"
      },
      "source": [
        "G = cosine_similarity(vectorized_sentences)"
      ],
      "execution_count": null,
      "outputs": []
    },
    {
      "cell_type": "markdown",
      "metadata": {
        "id": "8ET-m3hqe7XS"
      },
      "source": [
        "## Extractive Summarization $-$ TextRank"
      ]
    },
    {
      "cell_type": "markdown",
      "metadata": {
        "id": "kp-VMj13e7XS"
      },
      "source": [
        "Теперь мы реализуем непосредственно метод суммаризации текстов. Он будет основан на алгоритме *PageRank*.\n",
        "\n",
        "*PageRank* $-$ рекурсивный алгоритм, который оценивает важность каждой вершины в графе на основе её связей с другими вершинами. Изначально алгоритм использовался для оценки важности интернет-страниц для поисковых систем.\n",
        "\n",
        "Адаптация этого алгоритма для суммаризации текстов называется *TextRank*.\n",
        "\n",
        "Алгоритм последовательно проходит по всем вершинам в графе и по нижеприведенной формуле пересчитывает значения PageRank для каждой из них.\n",
        "\n",
        "Это происходит до тех пор, пока процесс не стабилизируется, то есть значения *PageRank* для всех вершин не перестанут существенно меняться с каждой новой итерацией."
      ]
    },
    {
      "cell_type": "markdown",
      "metadata": {
        "id": "71IpX-eJe7XS"
      },
      "source": [
        "$$ G = (V,E) - граф $$\n",
        "$$$$\n",
        "$$ PageRank(w) = (1-d) +  d \\sum_{u} \\frac {PageRank(u)} {C(u)}$$\n",
        "\n",
        "$$u\\ -\\ вершина\\ графа,\\ такая\\ что\\ (u,w) \\in E$$\n",
        "$$$$\n",
        "$$C(u) - количество \\ вершин, \\ таких \\ что (u,w) \\in E$$\n",
        "$$$$\n",
        "$$d = 0,85\\ -\\ коэффициент\\ затухания$$"
      ]
    },
    {
      "cell_type": "code",
      "metadata": {
        "id": "y1zVNdHZe7XS"
      },
      "source": [
        "import numpy as np\n",
        "from scipy.sparse import csr_matrix"
      ],
      "execution_count": null,
      "outputs": []
    },
    {
      "cell_type": "markdown",
      "metadata": {
        "id": "_yWLehyhe7XS"
      },
      "source": [
        "Напишем нашу собственную реализацию *PageRank*."
      ]
    },
    {
      "cell_type": "code",
      "metadata": {
        "id": "GNZnUMTBe7XS"
      },
      "source": [
        "def page_rank(G, s = .85, maxerr = .0001):\n",
        "    \n",
        "    n = G.shape[0]\n",
        "    A = csr_matrix(G,dtype=np.float)\n",
        "    rsums = np.array(A.sum(1))[:,0]\n",
        "    ri, ci = A.nonzero()\n",
        "    A.data /= rsums[ri]\n",
        "\n",
        "    sink = rsums==0\n",
        "    ro, r = np.zeros(n), np.ones(n)\n",
        "    while np.sum(np.abs(r-ro)) > maxerr:\n",
        "        ro = r.copy()\n",
        "        for i in range(0,n):\n",
        "            Ii = np.array(A[:,i].todense())[:,0]\n",
        "            # account for sink states\n",
        "            Si = sink / float(n)\n",
        "            # account for teleportation to state i\n",
        "            Ti = np.ones(n) / float(n)\n",
        "            r[i] = ro.dot( Ii*s + Si*s + Ti*(1-s) )\n",
        "    return r/float(sum(r))"
      ],
      "execution_count": null,
      "outputs": []
    },
    {
      "cell_type": "code",
      "metadata": {
        "id": "YPdT5vUZe7XS"
      },
      "source": [
        "scores = page_rank(G)"
      ],
      "execution_count": null,
      "outputs": []
    },
    {
      "cell_type": "code",
      "metadata": {
        "colab": {
          "base_uri": "https://localhost:8080/"
        },
        "id": "BiiSoFTee7XS",
        "outputId": "41f917be-a5d5-46ef-c360-7fe51f18926a"
      },
      "source": [
        "scores"
      ],
      "execution_count": null,
      "outputs": [
        {
          "output_type": "execute_result",
          "data": {
            "text/plain": [
              "array([0.01948955, 0.0189707 , 0.01834882, 0.02033405, 0.01948667,\n",
              "       0.01904664, 0.02023321, 0.01941791, 0.01958541, 0.01812664,\n",
              "       0.01885014, 0.01615638, 0.01882044, 0.01863516, 0.01947734,\n",
              "       0.01986703, 0.01754427, 0.01856658, 0.01809531, 0.01959808,\n",
              "       0.01902029, 0.01757773, 0.01682051, 0.01473705, 0.01910024,\n",
              "       0.01982687, 0.01900111, 0.0191564 , 0.01866066, 0.02026169,\n",
              "       0.01891564, 0.01930569, 0.02007068, 0.01934855, 0.01900913,\n",
              "       0.01943182, 0.01877253, 0.01717122, 0.0197562 , 0.02018487,\n",
              "       0.01777339, 0.01975302, 0.0190277 , 0.01976788, 0.01997557,\n",
              "       0.01828474, 0.01734124, 0.01622541, 0.0184842 , 0.01950918,\n",
              "       0.01869251, 0.02002304, 0.02036291])"
            ]
          },
          "metadata": {},
          "execution_count": 23
        }
      ]
    },
    {
      "cell_type": "markdown",
      "metadata": {
        "id": "Dw75Qyize7XT"
      },
      "source": [
        "Чтобы получить краткое содержание нужного нам текста, нам теперь достаточно отсортировать все входящие в него предложения по TextRank и выбрать те, у которых он максимальный."
      ]
    },
    {
      "cell_type": "code",
      "metadata": {
        "id": "DHfzMgS4e7XT"
      },
      "source": [
        "ranked_sentences = sorted(((scores[i],s,i) for i,s in enumerate(sentences)), reverse=True)"
      ],
      "execution_count": null,
      "outputs": []
    },
    {
      "cell_type": "markdown",
      "metadata": {
        "id": "Igrhq5s8e7XT"
      },
      "source": [
        "Выведем 5 предложений с наибольшим TextRank."
      ]
    },
    {
      "cell_type": "code",
      "metadata": {
        "colab": {
          "base_uri": "https://localhost:8080/"
        },
        "id": "cAEpPUaRe7XT",
        "outputId": "6cab0067-d282-4076-85f0-5a0beb27d6b6"
      },
      "source": [
        "SUMMARY_LEN = 3\n",
        "\n",
        "for i in range(SUMMARY_LEN):\n",
        "    print(' '.join(ranked_sentences[i][1]))"
      ],
      "execution_count": null,
      "outputs": [
        {
          "output_type": "stream",
          "name": "stdout",
          "text": [
            "Meet some of China 's young communists » Like the cutting-edge CCTV tower intended to formally open this year but did n't after a celebratory fireworks display went awry and caused a fire , China 's great achievements stand side by side with daunting challenges .\n",
            "Weeks later , however , I was informed that the civilian and military parade had been cancelled in the spirit of `` simple-living and hard struggle , '' as Chairman Mao decreed .\n",
            "Still , for three decades under Mao , China tried to break out of its backwardness and isolation but only met modest success .\n"
          ]
        }
      ]
    },
    {
      "cell_type": "markdown",
      "metadata": {
        "id": "B4fkiVnue7XT"
      },
      "source": [
        "Теперь объединим все в одну функцию summarize, которая будет получать на вход текст, разбитый по предложениям и выдавать 5 предложений с наибольшим *TextRank*."
      ]
    },
    {
      "cell_type": "markdown",
      "metadata": {
        "id": "Tkr-bmqjobFY"
      },
      "source": [
        "## Реализация алгоритма TextRank в библиотеке NetworkX"
      ]
    },
    {
      "cell_type": "markdown",
      "metadata": {
        "id": "lmy85qpwe7XT"
      },
      "source": [
        "Можно также использовать готовую реализацию алгоритма PageRank из библиотеки для работы с графами NetworkX.\n",
        "Сравним нашу реализацию с реализацией NetworkX."
      ]
    },
    {
      "cell_type": "code",
      "metadata": {
        "colab": {
          "base_uri": "https://localhost:8080/"
        },
        "id": "_VO53fXXe7XT",
        "outputId": "e9f3aa24-388f-4373-d5ee-9e772fbd4656"
      },
      "source": [
        "!pip install networkx"
      ],
      "execution_count": null,
      "outputs": [
        {
          "output_type": "stream",
          "name": "stdout",
          "text": [
            "Requirement already satisfied: networkx in /usr/local/lib/python3.7/dist-packages (2.6.3)\n"
          ]
        }
      ]
    },
    {
      "cell_type": "code",
      "metadata": {
        "id": "D8etYKWUe7XT"
      },
      "source": [
        "import networkx as nx\n",
        "\n",
        "nx_graph = nx.from_numpy_matrix(G)\n",
        "nx_scores = nx.pagerank(nx_graph)"
      ],
      "execution_count": null,
      "outputs": []
    },
    {
      "cell_type": "code",
      "metadata": {
        "colab": {
          "base_uri": "https://localhost:8080/"
        },
        "id": "DHxs-AXee7XT",
        "outputId": "9eedeeae-d7f2-495d-d43e-783356b50c10"
      },
      "source": [
        "sentence_num = 10\n",
        "print(\"Our implementation: {0}\\nNetworkX implementation: {1}\".format(scores[sentence_num],nx_scores[sentence_num]))"
      ],
      "execution_count": null,
      "outputs": [
        {
          "output_type": "stream",
          "name": "stdout",
          "text": [
            "Our implementation: 0.01885013856913594\n",
            "NetworkX implementation: 0.018850145845359274\n"
          ]
        }
      ]
    },
    {
      "cell_type": "code",
      "metadata": {
        "id": "czbHL1xQe7XT"
      },
      "source": [
        "def summarize(sentences,summary_len=5):\n",
        "    vectorized_sentences = sentence_vectorizer.transform(sentences)\n",
        "    G = cosine_similarity(vectorized_sentences)\n",
        "    nx_graph = nx.from_numpy_matrix(G)\n",
        "    nx_scores = nx.pagerank(nx_graph)\n",
        "    ranked_sentences = sorted(((nx_scores[i],s,i) for i,s in enumerate(sentences)), reverse=True)\n",
        "    summary = []\n",
        "    for i in range(summary_len):\n",
        "        summary.append(' '.join(ranked_sentences[i][1]))\n",
        "    return summary"
      ],
      "execution_count": null,
      "outputs": []
    },
    {
      "cell_type": "code",
      "metadata": {
        "colab": {
          "base_uri": "https://localhost:8080/"
        },
        "id": "x90bwnQJe7XT",
        "outputId": "ed82bd9a-4e46-44bb-975b-c2bb2c4e7880"
      },
      "source": [
        "summarize(tokenized_texts[5],summary_len=1)"
      ],
      "execution_count": null,
      "outputs": [
        {
          "output_type": "execute_result",
          "data": {
            "text/plain": [
              "[\"`` I ask all fellow Girl Scouts who want a true , all-girl experience not to sell any Girl Scouts cookies until GSUSA ( Girl Scouts of the USA ) addresses our concerns , '' says the girl , identified as a teen named Taylor , a troop member from California , in some news reports .\"]"
            ]
          },
          "metadata": {},
          "execution_count": 30
        }
      ]
    },
    {
      "cell_type": "markdown",
      "metadata": {
        "id": "G8OXOauTe7XT"
      },
      "source": [
        "Теперь мы можем получить краткие содержания для каждого из текстов в нашей выборке."
      ]
    },
    {
      "cell_type": "code",
      "metadata": {
        "colab": {
          "base_uri": "https://localhost:8080/",
          "height": 99,
          "referenced_widgets": [
            "cfcabd88893e4c1b9d9fc52f1947e58c",
            "afc09bffa7414313aeef3df9924dbe7a",
            "aa498d741cf746f392a201b5d9ce0c0d",
            "e5213b5c783849f9bc8a1bc8a6d77ae4",
            "0c14458f719d4b0294786f07fb0f1c82",
            "ba4aebcb73f748e2b40c8efc50bdd402",
            "8de5ea58fec74cc5a7b29e477c9caafd",
            "52cea592d83f4c0e9b13966354fb5f26",
            "90ef84b8dc734732a38c8e4d2cedb95c",
            "65ed8a930f0c44519d5b43869dca6fb1",
            "336c6cbdbd3842778da81dd427e8ba4b"
          ]
        },
        "id": "W6-QvjoPe7XT",
        "outputId": "9532738f-bb28-4c4c-d53c-939299d2df93"
      },
      "source": [
        "system_summaries = [summarize(text) for text in tqdm(tokenized_texts)]"
      ],
      "execution_count": null,
      "outputs": [
        {
          "output_type": "stream",
          "name": "stderr",
          "text": [
            "/usr/local/lib/python3.7/dist-packages/ipykernel_launcher.py:1: TqdmDeprecationWarning: This function will be removed in tqdm==5.0.0\n",
            "Please use `tqdm.notebook.tqdm` instead of `tqdm.tqdm_notebook`\n",
            "  \"\"\"Entry point for launching an IPython kernel.\n"
          ]
        },
        {
          "output_type": "display_data",
          "data": {
            "application/vnd.jupyter.widget-view+json": {
              "model_id": "cfcabd88893e4c1b9d9fc52f1947e58c",
              "version_minor": 0,
              "version_major": 2
            },
            "text/plain": [
              "  0%|          | 0/300 [00:00<?, ?it/s]"
            ]
          },
          "metadata": {}
        }
      ]
    },
    {
      "cell_type": "markdown",
      "metadata": {
        "id": "5XJNckCdiCwn"
      },
      "source": [
        "Сохраним краткие содержания в соответствующие папки. В каждом файле будет один текст, в каждой строке  −  одно предложение."
      ]
    },
    {
      "cell_type": "code",
      "metadata": {
        "id": "v1UEXGDolsCp"
      },
      "source": [
        "sent_tokenized_summaries = [sent_tokenize(s) for s in summaries]"
      ],
      "execution_count": null,
      "outputs": []
    },
    {
      "cell_type": "code",
      "metadata": {
        "colab": {
          "base_uri": "https://localhost:8080/"
        },
        "id": "Z8LBlUP6l3e-",
        "outputId": "cb26f588-d5b0-4042-f720-39033d583ef1"
      },
      "source": [
        "!mkdir model_input_dir"
      ],
      "execution_count": null,
      "outputs": [
        {
          "output_type": "stream",
          "name": "stdout",
          "text": [
            "mkdir: cannot create directory ‘model_input_dir’: File exists\n"
          ]
        }
      ]
    },
    {
      "cell_type": "code",
      "metadata": {
        "id": "Rp1_O4-Sh_7Y"
      },
      "source": [
        "for i, summary in enumerate(sent_tokenized_summaries):\n",
        "    with open('./model_input_dir/summary_{0}.txt'.format(i), 'w') as f:\n",
        "        f.writelines([sentence+'\\n' for sentence in summary])"
      ],
      "execution_count": null,
      "outputs": []
    },
    {
      "cell_type": "code",
      "metadata": {
        "colab": {
          "base_uri": "https://localhost:8080/"
        },
        "id": "j5zJ3r3nl9Fj",
        "outputId": "a4c9fa31-a1b2-46d4-be52-e42447264fef"
      },
      "source": [
        "!mkdir system_input_dir"
      ],
      "execution_count": null,
      "outputs": [
        {
          "output_type": "stream",
          "name": "stdout",
          "text": [
            "mkdir: cannot create directory ‘system_input_dir’: File exists\n"
          ]
        }
      ]
    },
    {
      "cell_type": "code",
      "metadata": {
        "id": "Hrrdfu-6e7XT"
      },
      "source": [
        "for i, summary in enumerate(system_summaries):\n",
        "    with open('./system_input_dir/summary_{0}.txt'.format(i), 'w') as f:\n",
        "        f.writelines([sentence +'\\n' for sentence in summary])"
      ],
      "execution_count": null,
      "outputs": []
    },
    {
      "cell_type": "code",
      "metadata": {
        "colab": {
          "base_uri": "https://localhost:8080/"
        },
        "id": "1o4ntNGIXXTt",
        "outputId": "524df60e-e003-4926-dd7e-576db3d3401f"
      },
      "source": [
        "refs = []\n",
        "for i in range(len(sent_tokenized_summaries)):\n",
        "    with open('./model_input_dir/summary_{0}.txt'.format(i)) as f:\n",
        "        ref_sents = f.readlines()\n",
        "        refs.append(' '.join([s.strip() for s in ref_sents]))\n",
        "refs[:3]"
      ],
      "execution_count": null,
      "outputs": [
        {
          "output_type": "execute_result",
          "data": {
            "text/plain": [
              "['Mao proved to be good at fighting but poor at governing. Mao pushed sweeping socio-economic initiatives, strident ideological campaigns. His successor Deng Xiaoping embarks upon reforming the economy, opening China. China gains world prominence via 20-year economic boom, but has consequences',\n",
              " 'Video shows Zimmerman at police station. \"He continued to beat George,\" father tells news station. Martin family and some legal experts say videos shows Zimmerman was not severly beaten',\n",
              " 'John Travolta releases statement on his Web site about \"The Taking of Pelham 123\". Travolta, still mourning son\\'s death, praised colleagues for \"unselfish efforts\". Travolta\\'s son Jett died in January during family vacation']"
            ]
          },
          "metadata": {},
          "execution_count": 37
        }
      ]
    },
    {
      "cell_type": "code",
      "metadata": {
        "colab": {
          "base_uri": "https://localhost:8080/"
        },
        "id": "btNmsCEjaRTx",
        "outputId": "51690c80-4033-4f2a-88fe-17ddde06f86b"
      },
      "source": [
        "hyps = []\n",
        "for i in range(len(sent_tokenized_summaries)):\n",
        "    with open('./system_input_dir/summary_{0}.txt'.format(i)) as f:\n",
        "        hyp_sents = f.readlines()\n",
        "        hyps.append(' '.join([s.strip() for s in hyp_sents]))\n",
        "hyps[:3]"
      ],
      "execution_count": null,
      "outputs": [
        {
          "output_type": "execute_result",
          "data": {
            "text/plain": [
              "[\"Meet some of China 's young communists » Like the cutting-edge CCTV tower intended to formally open this year but did n't after a celebratory fireworks display went awry and caused a fire , China 's great achievements stand side by side with daunting challenges . Weeks later , however , I was informed that the civilian and military parade had been cancelled in the spirit of `` simple-living and hard struggle , '' as Chairman Mao decreed . Still , for three decades under Mao , China tried to break out of its backwardness and isolation but only met modest success . The best place to look back at what China went through in the past six decades is Tiananmen , or the Gate of Heavenly Peace . The backlash came to a boil in 1989 , when Tiananmen witnessed an outpouring of support for the students who called for freedom and democracy , and more reform .\",\n",
              " \"`` The injuries that made it sound as though he really should have been on a stretcher are not apparent in this tape at all , '' said Marcia Clark , the former prosecutor in the O.J . Robert Zimmerman was not there the night of the shooting and did not say during the interview how he knew the details of the altercation . `` We 're trying to be patient , even though it 's been over a month . The video did not provide a close-up of Zimmerman 's head but some say it shows Zimmerman did not have significant injuries to his face . There is no problem with this case and he needs to be arrested . ''\",\n",
              " \"LOS ANGELES , California ( CNN ) -- John Travolta , still in mourning over the death of his teenage son earlier this year , issued a rare public statement urging fans to see his latest movie , `` The Taking of Pelham 123 , '' which he filmed last year . Travolta did not join co-star Denzel Washington in the promotional tour for the movie -- which hits theaters Friday -- because he said his family needed `` additional time to reconcile our loss . '' Travolta 's statement , which can be read on his official Web site , said Washington , director Tony Scott and the producers `` stepped up without hesitation to help promote this wonderful film , and their unselfish efforts have allowed my family the additional time to reconcile our loss . '' Washington , who plays a subway train dispatcher forced to face down Travolta 's character , said he talked to the actor about three weeks ago . `` Needless to say , he 's struggling , '' Washington said in an interview last week .\"]"
            ]
          },
          "metadata": {},
          "execution_count": 38
        }
      ]
    },
    {
      "cell_type": "markdown",
      "metadata": {
        "id": "F7H8qll-hld2"
      },
      "source": [
        "Оценим полученные саммари с помощью метрик ROUGE и METEOR."
      ]
    },
    {
      "cell_type": "code",
      "metadata": {
        "colab": {
          "base_uri": "https://localhost:8080/"
        },
        "id": "-Foo3qZtidpy",
        "outputId": "53edc7c4-42d4-491f-ec6a-6e03119f45f8"
      },
      "source": [
        "#!pip install datasets rouge-score"
      ],
      "execution_count": null,
      "outputs": [
        {
          "output_type": "stream",
          "name": "stdout",
          "text": [
            "Requirement already satisfied: datasets in /usr/local/lib/python3.7/dist-packages (1.15.1)\n",
            "Requirement already satisfied: rouge-score in /usr/local/lib/python3.7/dist-packages (0.0.4)\n",
            "Requirement already satisfied: requests>=2.19.0 in /usr/local/lib/python3.7/dist-packages (from datasets) (2.23.0)\n",
            "Requirement already satisfied: pandas in /usr/local/lib/python3.7/dist-packages (from datasets) (1.1.5)\n",
            "Requirement already satisfied: xxhash in /usr/local/lib/python3.7/dist-packages (from datasets) (2.0.2)\n",
            "Requirement already satisfied: fsspec[http]>=2021.05.0 in /usr/local/lib/python3.7/dist-packages (from datasets) (2021.11.0)\n",
            "Requirement already satisfied: importlib-metadata in /usr/local/lib/python3.7/dist-packages (from datasets) (4.8.2)\n",
            "Requirement already satisfied: pyarrow!=4.0.0,>=1.0.0 in /usr/local/lib/python3.7/dist-packages (from datasets) (3.0.0)\n",
            "Requirement already satisfied: tqdm>=4.62.1 in /usr/local/lib/python3.7/dist-packages (from datasets) (4.62.3)\n",
            "Requirement already satisfied: multiprocess in /usr/local/lib/python3.7/dist-packages (from datasets) (0.70.12.2)\n",
            "Requirement already satisfied: numpy>=1.17 in /usr/local/lib/python3.7/dist-packages (from datasets) (1.19.5)\n",
            "Requirement already satisfied: huggingface-hub<1.0.0,>=0.1.0 in /usr/local/lib/python3.7/dist-packages (from datasets) (0.1.2)\n",
            "Requirement already satisfied: dill in /usr/local/lib/python3.7/dist-packages (from datasets) (0.3.4)\n",
            "Requirement already satisfied: aiohttp in /usr/local/lib/python3.7/dist-packages (from datasets) (3.8.1)\n",
            "Requirement already satisfied: packaging in /usr/local/lib/python3.7/dist-packages (from datasets) (21.2)\n",
            "Requirement already satisfied: filelock in /usr/local/lib/python3.7/dist-packages (from huggingface-hub<1.0.0,>=0.1.0->datasets) (3.3.2)\n",
            "Requirement already satisfied: pyyaml in /usr/local/lib/python3.7/dist-packages (from huggingface-hub<1.0.0,>=0.1.0->datasets) (6.0)\n",
            "Requirement already satisfied: typing-extensions>=3.7.4.3 in /usr/local/lib/python3.7/dist-packages (from huggingface-hub<1.0.0,>=0.1.0->datasets) (3.10.0.2)\n",
            "Requirement already satisfied: pyparsing<3,>=2.0.2 in /usr/local/lib/python3.7/dist-packages (from packaging->datasets) (2.4.7)\n",
            "Requirement already satisfied: chardet<4,>=3.0.2 in /usr/local/lib/python3.7/dist-packages (from requests>=2.19.0->datasets) (3.0.4)\n",
            "Requirement already satisfied: certifi>=2017.4.17 in /usr/local/lib/python3.7/dist-packages (from requests>=2.19.0->datasets) (2021.10.8)\n",
            "Requirement already satisfied: urllib3!=1.25.0,!=1.25.1,<1.26,>=1.21.1 in /usr/local/lib/python3.7/dist-packages (from requests>=2.19.0->datasets) (1.24.3)\n",
            "Requirement already satisfied: idna<3,>=2.5 in /usr/local/lib/python3.7/dist-packages (from requests>=2.19.0->datasets) (2.10)\n",
            "Requirement already satisfied: absl-py in /usr/local/lib/python3.7/dist-packages (from rouge-score) (0.12.0)\n",
            "Requirement already satisfied: six>=1.14.0 in /usr/local/lib/python3.7/dist-packages (from rouge-score) (1.15.0)\n",
            "Requirement already satisfied: nltk in /usr/local/lib/python3.7/dist-packages (from rouge-score) (3.6.5)\n",
            "Requirement already satisfied: frozenlist>=1.1.1 in /usr/local/lib/python3.7/dist-packages (from aiohttp->datasets) (1.2.0)\n",
            "Requirement already satisfied: attrs>=17.3.0 in /usr/local/lib/python3.7/dist-packages (from aiohttp->datasets) (21.2.0)\n",
            "Requirement already satisfied: multidict<7.0,>=4.5 in /usr/local/lib/python3.7/dist-packages (from aiohttp->datasets) (5.2.0)\n",
            "Requirement already satisfied: async-timeout<5.0,>=4.0.0a3 in /usr/local/lib/python3.7/dist-packages (from aiohttp->datasets) (4.0.1)\n",
            "Requirement already satisfied: aiosignal>=1.1.2 in /usr/local/lib/python3.7/dist-packages (from aiohttp->datasets) (1.2.0)\n",
            "Requirement already satisfied: asynctest==0.13.0 in /usr/local/lib/python3.7/dist-packages (from aiohttp->datasets) (0.13.0)\n",
            "Requirement already satisfied: yarl<2.0,>=1.0 in /usr/local/lib/python3.7/dist-packages (from aiohttp->datasets) (1.7.2)\n",
            "Requirement already satisfied: charset-normalizer<3.0,>=2.0 in /usr/local/lib/python3.7/dist-packages (from aiohttp->datasets) (2.0.7)\n",
            "Requirement already satisfied: zipp>=0.5 in /usr/local/lib/python3.7/dist-packages (from importlib-metadata->datasets) (3.6.0)\n",
            "Requirement already satisfied: click in /usr/local/lib/python3.7/dist-packages (from nltk->rouge-score) (7.1.2)\n",
            "Requirement already satisfied: regex>=2021.8.3 in /usr/local/lib/python3.7/dist-packages (from nltk->rouge-score) (2021.11.10)\n",
            "Requirement already satisfied: joblib in /usr/local/lib/python3.7/dist-packages (from nltk->rouge-score) (1.1.0)\n",
            "Requirement already satisfied: python-dateutil>=2.7.3 in /usr/local/lib/python3.7/dist-packages (from pandas->datasets) (2.8.2)\n",
            "Requirement already satisfied: pytz>=2017.2 in /usr/local/lib/python3.7/dist-packages (from pandas->datasets) (2018.9)\n"
          ]
        }
      ]
    },
    {
      "cell_type": "code",
      "metadata": {
        "colab": {
          "base_uri": "https://localhost:8080/"
        },
        "id": "wDpQV2ZGiKfH",
        "outputId": "46d5c6c3-8737-4059-a87c-b53ce56a3d2c"
      },
      "source": [
        "from datasets import load_metric\n",
        "\n",
        "rouge_metric = load_metric(\"rouge\")\n",
        "meteor_metric = load_metric(\"meteor\")"
      ],
      "execution_count": null,
      "outputs": [
        {
          "output_type": "stream",
          "name": "stderr",
          "text": [
            "[nltk_data] Downloading package wordnet to /root/nltk_data...\n",
            "[nltk_data]   Package wordnet is already up-to-date!\n",
            "[nltk_data] Downloading package punkt to /root/nltk_data...\n",
            "[nltk_data]   Package punkt is already up-to-date!\n"
          ]
        }
      ]
    },
    {
      "cell_type": "code",
      "metadata": {
        "colab": {
          "base_uri": "https://localhost:8080/"
        },
        "id": "T3MvaEhPjSbY",
        "outputId": "2c7a2da6-12be-42f0-9107-aab6a7b5bb6a"
      },
      "source": [
        "meteor_metric.compute(predictions=hyps, references=refs)"
      ],
      "execution_count": null,
      "outputs": [
        {
          "output_type": "execute_result",
          "data": {
            "text/plain": [
              "{'meteor': 0.303050909187654}"
            ]
          },
          "metadata": {},
          "execution_count": 41
        }
      ]
    },
    {
      "cell_type": "code",
      "metadata": {
        "colab": {
          "base_uri": "https://localhost:8080/"
        },
        "id": "zAr-UBBHmMZM",
        "outputId": "c30523e2-18ce-420f-a1c9-553819b79205"
      },
      "source": [
        "rouge_metric.compute(predictions=hyps, references=refs)"
      ],
      "execution_count": null,
      "outputs": [
        {
          "output_type": "execute_result",
          "data": {
            "text/plain": [
              "{'rouge1': AggregateScore(low=Score(precision=0.1444157151890577, recall=0.4854351134688135, fmeasure=0.22007120847203823), mid=Score(precision=0.1513307950046503, recall=0.5034529098720657, fmeasure=0.22948992397851958), high=Score(precision=0.1583446740773811, recall=0.5204388938675284, fmeasure=0.23886461759600916)),\n",
              " 'rouge2': AggregateScore(low=Score(precision=0.04216735697763203, recall=0.1441023404519945, fmeasure=0.06448035828353883), mid=Score(precision=0.0476921804565121, recall=0.15965297665148825, fmeasure=0.07232473246380927), high=Score(precision=0.054133758817905206, recall=0.1770192358070465, fmeasure=0.08111284336293562)),\n",
              " 'rougeL': AggregateScore(low=Score(precision=0.08599058285446269, recall=0.2915608342999937, fmeasure=0.1311680170041886), mid=Score(precision=0.09083508949745459, recall=0.3049397184755186, fmeasure=0.1380025342519804), high=Score(precision=0.09619570956407188, recall=0.31803283500538904, fmeasure=0.14521184647909682)),\n",
              " 'rougeLsum': AggregateScore(low=Score(precision=0.08586137737171685, recall=0.29085928618993034, fmeasure=0.1310496175113699), mid=Score(precision=0.09081693695615595, recall=0.30461901693486026, fmeasure=0.13789890030253904), high=Score(precision=0.0960070307771126, recall=0.31890428871658716, fmeasure=0.14495816868644062))}"
            ]
          },
          "metadata": {},
          "execution_count": 42
        }
      ]
    },
    {
      "cell_type": "markdown",
      "metadata": {
        "id": "-UeOxeHAc3qs"
      },
      "source": [
        "## Реализация Textrank в библиотеке Gensim"
      ]
    },
    {
      "cell_type": "markdown",
      "metadata": {
        "id": "TOupcc7tc-pS"
      },
      "source": [
        "Рассмотрим еще одну готовую реализацию алгоритма Textrank для суммаризации на основе библиотеки [Gensim](https://radimrehurek.com/gensim_3.8.3/summarization/summariser.html)."
      ]
    },
    {
      "cell_type": "code",
      "metadata": {
        "colab": {
          "base_uri": "https://localhost:8080/"
        },
        "id": "6LPNf2y-dKeR",
        "outputId": "7f3744b6-a332-4ac2-fd31-a9edcee16d0c"
      },
      "source": [
        "!pip install gensim"
      ],
      "execution_count": null,
      "outputs": [
        {
          "output_type": "stream",
          "name": "stdout",
          "text": [
            "Requirement already satisfied: gensim in /usr/local/lib/python3.7/dist-packages (3.6.0)\n",
            "Requirement already satisfied: scipy>=0.18.1 in /usr/local/lib/python3.7/dist-packages (from gensim) (1.4.1)\n",
            "Requirement already satisfied: smart-open>=1.2.1 in /usr/local/lib/python3.7/dist-packages (from gensim) (5.2.1)\n",
            "Requirement already satisfied: numpy>=1.11.3 in /usr/local/lib/python3.7/dist-packages (from gensim) (1.19.5)\n",
            "Requirement already satisfied: six>=1.5.0 in /usr/local/lib/python3.7/dist-packages (from gensim) (1.15.0)\n"
          ]
        }
      ]
    },
    {
      "cell_type": "code",
      "metadata": {
        "id": "mYCfmnrgdNZT"
      },
      "source": [
        "from gensim.summarization.summarizer import summarize"
      ],
      "execution_count": null,
      "outputs": []
    },
    {
      "cell_type": "code",
      "metadata": {
        "id": "UxgtIUgSen47"
      },
      "source": [
        "text = '''Rice Pudding - Poem by Alan Alexander Milne \n",
        "What is the matter with Mary Jane?\n",
        "She's crying with all her might and main,\n",
        "And she won't eat her dinner - rice pudding again -\n",
        "What is the matter with Mary Jane?\n",
        "What is the matter with Mary Jane?\n",
        "I've promised her dolls and a daisy-chain,\n",
        "And a book about animals - all in vain -\n",
        "What is the matter with Mary Jane?\n",
        "What is the matter with Mary Jane?\n",
        "She's perfectly well, and she hasn't a pain;\n",
        "But, look at her, now she's beginning again! -\n",
        "What is the matter with Mary Jane?\n",
        "What is the matter with Mary Jane?\n",
        "I've promised her sweets and a ride in the train,\n",
        "And I've begged her to stop for a bit and explain -\n",
        "What is the matter with Mary Jane?\n",
        "What is the matter with Mary Jane?\n",
        "She's perfectly well and she hasn't a pain,\n",
        "And it's lovely rice pudding for dinner again!\n",
        "What is the matter with Mary Jane?'''"
      ],
      "execution_count": null,
      "outputs": []
    },
    {
      "cell_type": "code",
      "metadata": {
        "colab": {
          "base_uri": "https://localhost:8080/"
        },
        "id": "kFvIrCqOe-5C",
        "outputId": "dd04cd1c-ac1a-499f-e644-46a1af54cabc"
      },
      "source": [
        "print(summarize(text))"
      ],
      "execution_count": null,
      "outputs": [
        {
          "output_type": "stream",
          "name": "stdout",
          "text": [
            "And she won't eat her dinner - rice pudding again -\n",
            "I've promised her dolls and a daisy-chain,\n",
            "I've promised her sweets and a ride in the train,\n",
            "And it's lovely rice pudding for dinner again!\n"
          ]
        }
      ]
    },
    {
      "cell_type": "markdown",
      "metadata": {
        "id": "_krUWmtwfhlU"
      },
      "source": [
        "С помощью параметра ration можно задать в процентах, какую часть текста от исходного нужно сохранить."
      ]
    },
    {
      "cell_type": "code",
      "metadata": {
        "colab": {
          "base_uri": "https://localhost:8080/"
        },
        "id": "vyb7tT1Ufd5r",
        "outputId": "1375054f-90d5-4e85-9014-a3d55561e71d"
      },
      "source": [
        "# Summary (0.5% of the original content).\n",
        "summ_per = summarize(text, ratio = 0.05)\n",
        "print(\"Percent summary\")\n",
        "print(summ_per)"
      ],
      "execution_count": null,
      "outputs": [
        {
          "output_type": "stream",
          "name": "stdout",
          "text": [
            "Percent summary\n",
            "And it's lovely rice pudding for dinner again!\n"
          ]
        }
      ]
    },
    {
      "cell_type": "markdown",
      "metadata": {
        "id": "F3fOHp-2frry"
      },
      "source": [
        "С помощью параметра можно задать точное количество слов в суммаризированном тексте"
      ]
    },
    {
      "cell_type": "code",
      "metadata": {
        "colab": {
          "base_uri": "https://localhost:8080/"
        },
        "id": "lg1XD7m7f5In",
        "outputId": "1d7635bb-50c8-4a18-d364-3be941f8dda2"
      },
      "source": [
        "summ_words = summarize(text, word_count = 50)\n",
        "print(\"Word count summary\")\n",
        "print(summ_words)"
      ],
      "execution_count": null,
      "outputs": [
        {
          "output_type": "stream",
          "name": "stdout",
          "text": [
            "Word count summary\n",
            "Rice Pudding - Poem by Alan Alexander Milne \n",
            "And she won't eat her dinner - rice pudding again -\n",
            "I've promised her dolls and a daisy-chain,\n",
            "I've promised her sweets and a ride in the train,\n",
            "And it's lovely rice pudding for dinner again!\n",
            "What is the matter with Mary Jane?\n"
          ]
        }
      ]
    },
    {
      "cell_type": "markdown",
      "metadata": {
        "id": "6boKrIrJuEPk"
      },
      "source": [
        "#### Задание:\n",
        "\n",
        "Суммаризируйте тексты с помощью библиотеки Gensim, оцените полученные результаты по метрика ROUGE и METEOR, сравните с результатами библиотеки NetworkX и с нашей реализацией."
      ]
    },
    {
      "cell_type": "code",
      "metadata": {
        "id": "UAtttzgzu0rU"
      },
      "source": [],
      "execution_count": null,
      "outputs": []
    },
    {
      "cell_type": "markdown",
      "metadata": {
        "id": "7VcvVX9YJon0"
      },
      "source": [
        "## BERT Extractive Summarization"
      ]
    },
    {
      "cell_type": "markdown",
      "metadata": {
        "id": "uCOikZ1yJyDo"
      },
      "source": [
        "### Источник:\n",
        "https://deeplearninganalytics.org/text-summarization/\n",
        "\n",
        "https://github.com/nlpyang/BertSum\n"
      ]
    },
    {
      "cell_type": "markdown",
      "metadata": {
        "id": "aPWErqGiSpGZ"
      },
      "source": [
        "Идея: использовать BERT эмбеддинги предложений исходного текста в задаче бинарной классификации для отбора самых значимых предложений, которые войдут в summary.\n",
        "\n",
        "Для получения эмбеддингов нескольких предложений текста перед каждым предложением текста вставляется свой символ начала предложения **[CLS]**, после каждого предложения - символ **[SEP]**. В качестве эмебддингов сегмента предложения (которые используются для того, чтобы различать первое и второе предложения в парах предложений при обучении  BERT) для последовательности предложений чередуются единичные и нулевые вектора.\n",
        "\n",
        "_[sent1, sent2, sent3, sent4, sent5] -> [EA, EB, EA, EB, EA]._\n",
        "\n",
        "Вектора символов [CLS] на последнем слое BERT используются в качестве векторов предложений текста. Вектора предложений подаются на вход классификатору (в статье 3 варианта классификации: \n",
        "1. linear layer + sigmoid\n",
        "2. Transformer + sigmoid\n",
        "3. LSTM + sigmoid"
      ]
    },
    {
      "cell_type": "markdown",
      "metadata": {
        "id": "3cKe5XN8wFLG"
      },
      "source": [
        "![bertsum.png](data:image/png;base64,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)"
      ]
    },
    {
      "cell_type": "code",
      "metadata": {
        "colab": {
          "base_uri": "https://localhost:8080/",
          "height": 525
        },
        "id": "qgVjUukfgYAr",
        "outputId": "8ec100e1-011b-4bec-eb69-886549d3c39a"
      },
      "source": [
        "!pip install --force-reinstall torch==1.1.0"
      ],
      "execution_count": null,
      "outputs": [
        {
          "output_type": "stream",
          "name": "stdout",
          "text": [
            "Collecting torch==1.1.0\n",
            "  Downloading torch-1.1.0-cp37-cp37m-manylinux1_x86_64.whl (676.9 MB)\n",
            "\u001b[K     |████████████████████████████████| 676.9 MB 1.4 kB/s \n",
            "\u001b[?25hCollecting numpy\n",
            "  Downloading numpy-1.21.4-cp37-cp37m-manylinux_2_12_x86_64.manylinux2010_x86_64.whl (15.7 MB)\n",
            "\u001b[K     |████████████████████████████████| 15.7 MB 145 kB/s \n",
            "\u001b[?25hInstalling collected packages: numpy, torch\n",
            "  Attempting uninstall: numpy\n",
            "    Found existing installation: numpy 1.19.5\n",
            "    Uninstalling numpy-1.19.5:\n",
            "      Successfully uninstalled numpy-1.19.5\n",
            "  Attempting uninstall: torch\n",
            "    Found existing installation: torch 1.10.0+cu111\n",
            "    Uninstalling torch-1.10.0+cu111:\n",
            "      Successfully uninstalled torch-1.10.0+cu111\n",
            "\u001b[31mERROR: pip's dependency resolver does not currently take into account all the packages that are installed. This behaviour is the source of the following dependency conflicts.\n",
            "yellowbrick 1.3.post1 requires numpy<1.20,>=1.16.0, but you have numpy 1.21.4 which is incompatible.\n",
            "torchvision 0.11.1+cu111 requires torch==1.10.0, but you have torch 1.1.0 which is incompatible.\n",
            "torchtext 0.11.0 requires torch==1.10.0, but you have torch 1.1.0 which is incompatible.\n",
            "google-colab 1.0.0 requires requests~=2.23.0, but you have requests 2.26.0 which is incompatible.\n",
            "flair 0.9 requires torch!=1.8,>=1.5.0, but you have torch 1.1.0 which is incompatible.\n",
            "datascience 0.10.6 requires folium==0.2.1, but you have folium 0.8.3 which is incompatible.\n",
            "albumentations 0.1.12 requires imgaug<0.2.7,>=0.2.5, but you have imgaug 0.2.9 which is incompatible.\u001b[0m\n",
            "Successfully installed numpy-1.21.4 torch-1.1.0\n"
          ]
        },
        {
          "output_type": "display_data",
          "data": {
            "application/vnd.colab-display-data+json": {
              "pip_warning": {
                "packages": [
                  "numpy"
                ]
              }
            }
          },
          "metadata": {}
        }
      ]
    },
    {
      "cell_type": "code",
      "metadata": {
        "colab": {
          "base_uri": "https://localhost:8080/"
        },
        "id": "I3rNua2xJsxN",
        "outputId": "5a47ac94-3d92-411e-ed12-24ae7a7e72d4"
      },
      "source": [
        "!pip install pytorch-pretrained-bert"
      ],
      "execution_count": null,
      "outputs": [
        {
          "output_type": "stream",
          "name": "stdout",
          "text": [
            "Collecting pytorch-pretrained-bert\n",
            "  Downloading pytorch_pretrained_bert-0.6.2-py3-none-any.whl (123 kB)\n",
            "\u001b[?25l\r\u001b[K     |██▋                             | 10 kB 31.9 MB/s eta 0:00:01\r\u001b[K     |█████▎                          | 20 kB 33.6 MB/s eta 0:00:01\r\u001b[K     |████████                        | 30 kB 19.9 MB/s eta 0:00:01\r\u001b[K     |██████████▋                     | 40 kB 17.0 MB/s eta 0:00:01\r\u001b[K     |█████████████▎                  | 51 kB 10.6 MB/s eta 0:00:01\r\u001b[K     |███████████████▉                | 61 kB 10.7 MB/s eta 0:00:01\r\u001b[K     |██████████████████▌             | 71 kB 10.2 MB/s eta 0:00:01\r\u001b[K     |█████████████████████▏          | 81 kB 11.2 MB/s eta 0:00:01\r\u001b[K     |███████████████████████▉        | 92 kB 9.2 MB/s eta 0:00:01\r\u001b[K     |██████████████████████████▌     | 102 kB 9.9 MB/s eta 0:00:01\r\u001b[K     |█████████████████████████████▏  | 112 kB 9.9 MB/s eta 0:00:01\r\u001b[K     |███████████████████████████████▊| 122 kB 9.9 MB/s eta 0:00:01\r\u001b[K     |████████████████████████████████| 123 kB 9.9 MB/s \n",
            "\u001b[?25hRequirement already satisfied: requests in /usr/local/lib/python3.7/dist-packages (from pytorch-pretrained-bert) (2.26.0)\n",
            "Requirement already satisfied: regex in /usr/local/lib/python3.7/dist-packages (from pytorch-pretrained-bert) (2021.11.10)\n",
            "Requirement already satisfied: tqdm in /usr/local/lib/python3.7/dist-packages (from pytorch-pretrained-bert) (4.62.3)\n",
            "Collecting boto3\n",
            "  Downloading boto3-1.20.8-py3-none-any.whl (131 kB)\n",
            "\u001b[K     |████████████████████████████████| 131 kB 64.4 MB/s \n",
            "\u001b[?25hRequirement already satisfied: numpy in /usr/local/lib/python3.7/dist-packages (from pytorch-pretrained-bert) (1.21.4)\n",
            "Requirement already satisfied: torch>=0.4.1 in /usr/local/lib/python3.7/dist-packages (from pytorch-pretrained-bert) (1.1.0)\n",
            "Collecting jmespath<1.0.0,>=0.7.1\n",
            "  Downloading jmespath-0.10.0-py2.py3-none-any.whl (24 kB)\n",
            "Collecting s3transfer<0.6.0,>=0.5.0\n",
            "  Downloading s3transfer-0.5.0-py3-none-any.whl (79 kB)\n",
            "\u001b[K     |████████████████████████████████| 79 kB 10.1 MB/s \n",
            "\u001b[?25hCollecting botocore<1.24.0,>=1.23.8\n",
            "  Downloading botocore-1.23.8-py3-none-any.whl (8.2 MB)\n",
            "\u001b[K     |████████████████████████████████| 8.2 MB 55.3 MB/s \n",
            "\u001b[?25hCollecting urllib3<1.27,>=1.25.4\n",
            "  Downloading urllib3-1.26.7-py2.py3-none-any.whl (138 kB)\n",
            "\u001b[K     |████████████████████████████████| 138 kB 67.7 MB/s \n",
            "\u001b[?25hRequirement already satisfied: python-dateutil<3.0.0,>=2.1 in /usr/local/lib/python3.7/dist-packages (from botocore<1.24.0,>=1.23.8->boto3->pytorch-pretrained-bert) (2.8.2)\n",
            "Requirement already satisfied: six>=1.5 in /usr/local/lib/python3.7/dist-packages (from python-dateutil<3.0.0,>=2.1->botocore<1.24.0,>=1.23.8->boto3->pytorch-pretrained-bert) (1.15.0)\n",
            "Requirement already satisfied: charset-normalizer~=2.0.0 in /usr/local/lib/python3.7/dist-packages (from requests->pytorch-pretrained-bert) (2.0.7)\n",
            "Requirement already satisfied: certifi>=2017.4.17 in /usr/local/lib/python3.7/dist-packages (from requests->pytorch-pretrained-bert) (2021.10.8)\n",
            "Requirement already satisfied: idna<4,>=2.5 in /usr/local/lib/python3.7/dist-packages (from requests->pytorch-pretrained-bert) (2.10)\n",
            "Installing collected packages: urllib3, jmespath, botocore, s3transfer, boto3, pytorch-pretrained-bert\n",
            "  Attempting uninstall: urllib3\n",
            "    Found existing installation: urllib3 1.24.3\n",
            "    Uninstalling urllib3-1.24.3:\n",
            "      Successfully uninstalled urllib3-1.24.3\n",
            "\u001b[31mERROR: pip's dependency resolver does not currently take into account all the packages that are installed. This behaviour is the source of the following dependency conflicts.\n",
            "google-colab 1.0.0 requires requests~=2.23.0, but you have requests 2.26.0 which is incompatible.\n",
            "flair 0.9 requires torch!=1.8,>=1.5.0, but you have torch 1.1.0 which is incompatible.\n",
            "datascience 0.10.6 requires folium==0.2.1, but you have folium 0.8.3 which is incompatible.\u001b[0m\n",
            "Successfully installed boto3-1.20.8 botocore-1.23.8 jmespath-0.10.0 pytorch-pretrained-bert-0.6.2 s3transfer-0.5.0 urllib3-1.26.7\n"
          ]
        }
      ]
    },
    {
      "cell_type": "code",
      "metadata": {
        "colab": {
          "base_uri": "https://localhost:8080/"
        },
        "id": "px7VPlV8YOxq",
        "outputId": "c91adc8c-d0a5-4616-94fa-95c8e51c4666"
      },
      "source": [
        "!pip install tensorboardX"
      ],
      "execution_count": null,
      "outputs": [
        {
          "output_type": "stream",
          "name": "stdout",
          "text": [
            "Collecting tensorboardX\n",
            "  Downloading tensorboardX-2.4-py2.py3-none-any.whl (124 kB)\n",
            "\u001b[?25l\r\u001b[K     |██▋                             | 10 kB 24.8 MB/s eta 0:00:01\r\u001b[K     |█████▎                          | 20 kB 26.6 MB/s eta 0:00:01\r\u001b[K     |████████                        | 30 kB 22.5 MB/s eta 0:00:01\r\u001b[K     |██████████▌                     | 40 kB 17.8 MB/s eta 0:00:01\r\u001b[K     |█████████████▏                  | 51 kB 10.2 MB/s eta 0:00:01\r\u001b[K     |███████████████▉                | 61 kB 10.9 MB/s eta 0:00:01\r\u001b[K     |██████████████████▍             | 71 kB 8.4 MB/s eta 0:00:01\r\u001b[K     |█████████████████████           | 81 kB 9.2 MB/s eta 0:00:01\r\u001b[K     |███████████████████████▊        | 92 kB 10.0 MB/s eta 0:00:01\r\u001b[K     |██████████████████████████▎     | 102 kB 9.3 MB/s eta 0:00:01\r\u001b[K     |█████████████████████████████   | 112 kB 9.3 MB/s eta 0:00:01\r\u001b[K     |███████████████████████████████▋| 122 kB 9.3 MB/s eta 0:00:01\r\u001b[K     |████████████████████████████████| 124 kB 9.3 MB/s \n",
            "\u001b[?25hRequirement already satisfied: numpy in /usr/local/lib/python3.7/dist-packages (from tensorboardX) (1.21.4)\n",
            "Requirement already satisfied: protobuf>=3.8.0 in /usr/local/lib/python3.7/dist-packages (from tensorboardX) (3.17.3)\n",
            "Requirement already satisfied: six>=1.9 in /usr/local/lib/python3.7/dist-packages (from protobuf>=3.8.0->tensorboardX) (1.15.0)\n",
            "Installing collected packages: tensorboardX\n",
            "Successfully installed tensorboardX-2.4\n"
          ]
        }
      ]
    },
    {
      "cell_type": "code",
      "metadata": {
        "colab": {
          "base_uri": "https://localhost:8080/"
        },
        "id": "qfCY-rAGYy5E",
        "outputId": "424b3c3c-ef2e-4dc1-94f2-7a9a096135a8"
      },
      "source": [
        "!pip install pyrouge\n"
      ],
      "execution_count": null,
      "outputs": [
        {
          "output_type": "stream",
          "name": "stdout",
          "text": [
            "Collecting pyrouge\n",
            "  Downloading pyrouge-0.1.3.tar.gz (60 kB)\n",
            "\u001b[?25l\r\u001b[K     |█████▍                          | 10 kB 33.5 MB/s eta 0:00:01\r\u001b[K     |██████████▉                     | 20 kB 24.0 MB/s eta 0:00:01\r\u001b[K     |████████████████▎               | 30 kB 18.4 MB/s eta 0:00:01\r\u001b[K     |█████████████████████▋          | 40 kB 16.3 MB/s eta 0:00:01\r\u001b[K     |███████████████████████████     | 51 kB 7.1 MB/s eta 0:00:01\r\u001b[K     |████████████████████████████████| 60 kB 4.6 MB/s \n",
            "\u001b[?25hBuilding wheels for collected packages: pyrouge\n",
            "  Building wheel for pyrouge (setup.py) ... \u001b[?25l\u001b[?25hdone\n",
            "  Created wheel for pyrouge: filename=pyrouge-0.1.3-py3-none-any.whl size=191620 sha256=053b7f260173a43f74a30860f126a1bfad19a154b995bba0ae2ec3916a61942a\n",
            "  Stored in directory: /root/.cache/pip/wheels/68/35/6a/ffb9a1f51b2b00fee42e7f67f5a5d8e10c67d048cda09ccd57\n",
            "Successfully built pyrouge\n",
            "Installing collected packages: pyrouge\n",
            "Successfully installed pyrouge-0.1.3\n"
          ]
        }
      ]
    },
    {
      "cell_type": "code",
      "metadata": {
        "colab": {
          "base_uri": "https://localhost:8080/"
        },
        "id": "iX0FyN5nY9le",
        "outputId": "ff9dfc40-11d8-4219-b47f-c5f5271bc296"
      },
      "source": [
        "!pip install multiprocess"
      ],
      "execution_count": null,
      "outputs": [
        {
          "output_type": "stream",
          "name": "stdout",
          "text": [
            "Requirement already satisfied: multiprocess in /usr/local/lib/python3.7/dist-packages (0.70.12.2)\n",
            "Requirement already satisfied: dill>=0.3.4 in /usr/local/lib/python3.7/dist-packages (from multiprocess) (0.3.4)\n"
          ]
        }
      ]
    },
    {
      "cell_type": "markdown",
      "metadata": {
        "id": "D5M17ucVaPkf"
      },
      "source": [
        "### Данные"
      ]
    },
    {
      "cell_type": "markdown",
      "metadata": {
        "id": "bpH5yBI4ckF_"
      },
      "source": [
        "Датасет CNN and Daily Mail \n",
        "\n",
        "Загрузим предобработанные данные."
      ]
    },
    {
      "cell_type": "code",
      "metadata": {
        "colab": {
          "base_uri": "https://localhost:8080/"
        },
        "id": "9uXL_7cVkV-f",
        "outputId": "71d87080-9a25-4212-ab83-13ddddd7cd24"
      },
      "source": [
        "# !wget --no-check-certificate --load-cookies /tmp/cookies.txt \"http://docs.google.com/uc?export=download&confirm=$(wget --quiet --save-cookies /tmp/cookies.txt --keep-session-cookies --no-check-certificate 'http://docs.google.com/uc?export=download&id=1WE9ZHAW64zKfU41KmUXsLda7zDfT9EqN' -O- | sed -rn 's/.*confirm=([0-9A-Za-z_]+).*/\\1\\n/p')&id=1WE9ZHAW64zKfU41KmUXsLda7zDfT9EqN\" -O bertsum_data.zip && rm -rf /tmp/cookies.txt\n",
        "!wget --no-check-certificate --load-cookies /tmp/cookies.txt \"http://docs.google.com/uc?export=download&confirm=$(wget --quiet --save-cookies /tmp/cookies.txt --keep-session-cookies --no-check-certificate 'http://docs.google.com/uc?export=download&id=1x0d61LP9UAN389YN00z0Pv-7jQgirVg6' -O- | sed -rn 's/.*confirm=([0-9A-Za-z_]+).*/\\1\\n/p')&id=1x0d61LP9UAN389YN00z0Pv-7jQgirVg6\" -O bertsum_data.zip && rm -rf /tmp/cookies.txt"
      ],
      "execution_count": null,
      "outputs": [
        {
          "output_type": "stream",
          "name": "stdout",
          "text": [
            "--2021-11-17 23:08:25--  http://docs.google.com/uc?export=download&confirm=WypU&id=1x0d61LP9UAN389YN00z0Pv-7jQgirVg6\n",
            "Resolving docs.google.com (docs.google.com)... 74.125.142.100, 74.125.142.138, 74.125.142.113, ...\n",
            "Connecting to docs.google.com (docs.google.com)|74.125.142.100|:80... connected.\n",
            "HTTP request sent, awaiting response... 302 Moved Temporarily\n",
            "Location: https://docs.google.com/uc?export=download&confirm=WypU&id=1x0d61LP9UAN389YN00z0Pv-7jQgirVg6 [following]\n",
            "--2021-11-17 23:08:25--  https://docs.google.com/uc?export=download&confirm=WypU&id=1x0d61LP9UAN389YN00z0Pv-7jQgirVg6\n",
            "Connecting to docs.google.com (docs.google.com)|74.125.142.100|:443... connected.\n",
            "HTTP request sent, awaiting response... 302 Moved Temporarily\n",
            "Location: https://doc-0s-5k-docs.googleusercontent.com/docs/securesc/f6hrff8c6vbav41o0ctrhlqkuq4rr79c/egjh288orkd21o150pupd7dos6glppj7/1637190450000/02403291851892694101/11349664265140947098Z/1x0d61LP9UAN389YN00z0Pv-7jQgirVg6?e=download [following]\n",
            "--2021-11-17 23:08:25--  https://doc-0s-5k-docs.googleusercontent.com/docs/securesc/f6hrff8c6vbav41o0ctrhlqkuq4rr79c/egjh288orkd21o150pupd7dos6glppj7/1637190450000/02403291851892694101/11349664265140947098Z/1x0d61LP9UAN389YN00z0Pv-7jQgirVg6?e=download\n",
            "Resolving doc-0s-5k-docs.googleusercontent.com (doc-0s-5k-docs.googleusercontent.com)... 142.250.107.132, 2607:f8b0:400e:c0d::84\n",
            "Connecting to doc-0s-5k-docs.googleusercontent.com (doc-0s-5k-docs.googleusercontent.com)|142.250.107.132|:443... connected.\n",
            "HTTP request sent, awaiting response... 302 Found\n",
            "Location: https://docs.google.com/nonceSigner?nonce=o6q96e5rcq75s&continue=https://doc-0s-5k-docs.googleusercontent.com/docs/securesc/f6hrff8c6vbav41o0ctrhlqkuq4rr79c/egjh288orkd21o150pupd7dos6glppj7/1637190450000/02403291851892694101/11349664265140947098Z/1x0d61LP9UAN389YN00z0Pv-7jQgirVg6?e%3Ddownload&hash=f7bclavtqaa9b9cmscs08jo8rbjrgjlc [following]\n",
            "--2021-11-17 23:08:25--  https://docs.google.com/nonceSigner?nonce=o6q96e5rcq75s&continue=https://doc-0s-5k-docs.googleusercontent.com/docs/securesc/f6hrff8c6vbav41o0ctrhlqkuq4rr79c/egjh288orkd21o150pupd7dos6glppj7/1637190450000/02403291851892694101/11349664265140947098Z/1x0d61LP9UAN389YN00z0Pv-7jQgirVg6?e%3Ddownload&hash=f7bclavtqaa9b9cmscs08jo8rbjrgjlc\n",
            "Connecting to docs.google.com (docs.google.com)|74.125.142.100|:443... connected.\n",
            "HTTP request sent, awaiting response... 302 Found\n",
            "Location: https://doc-0s-5k-docs.googleusercontent.com/docs/securesc/f6hrff8c6vbav41o0ctrhlqkuq4rr79c/egjh288orkd21o150pupd7dos6glppj7/1637190450000/02403291851892694101/11349664265140947098Z/1x0d61LP9UAN389YN00z0Pv-7jQgirVg6?e=download&nonce=o6q96e5rcq75s&user=11349664265140947098Z&hash=bt4g03h7fvhrjbpov9vtsev10socso3s [following]\n",
            "--2021-11-17 23:08:25--  https://doc-0s-5k-docs.googleusercontent.com/docs/securesc/f6hrff8c6vbav41o0ctrhlqkuq4rr79c/egjh288orkd21o150pupd7dos6glppj7/1637190450000/02403291851892694101/11349664265140947098Z/1x0d61LP9UAN389YN00z0Pv-7jQgirVg6?e=download&nonce=o6q96e5rcq75s&user=11349664265140947098Z&hash=bt4g03h7fvhrjbpov9vtsev10socso3s\n",
            "Connecting to doc-0s-5k-docs.googleusercontent.com (doc-0s-5k-docs.googleusercontent.com)|142.250.107.132|:443... connected.\n",
            "HTTP request sent, awaiting response... 200 OK\n",
            "Length: 869392410 (829M) [application/zip]\n",
            "Saving to: ‘bertsum_data.zip’\n",
            "\n",
            "bertsum_data.zip    100%[===================>] 829.12M  67.4MB/s    in 11s     \n",
            "\n",
            "2021-11-17 23:08:36 (78.1 MB/s) - ‘bertsum_data.zip’ saved [869392410/869392410]\n",
            "\n"
          ]
        }
      ]
    },
    {
      "cell_type": "code",
      "metadata": {
        "colab": {
          "base_uri": "https://localhost:8080/"
        },
        "id": "lK31E4MAdCEH",
        "outputId": "04fdc358-b00b-4812-8bb9-d7ece9083661"
      },
      "source": [
        "!git clone https://github.com/nlpyang/BertSum"
      ],
      "execution_count": null,
      "outputs": [
        {
          "output_type": "stream",
          "name": "stdout",
          "text": [
            "Cloning into 'BertSum'...\n",
            "remote: Enumerating objects: 301, done.\u001b[K\n",
            "remote: Total 301 (delta 0), reused 0 (delta 0), pack-reused 301\u001b[K\n",
            "Receiving objects: 100% (301/301), 15.03 MiB | 20.55 MiB/s, done.\n",
            "Resolving deltas: 100% (174/174), done.\n"
          ]
        }
      ]
    },
    {
      "cell_type": "code",
      "metadata": {
        "colab": {
          "base_uri": "https://localhost:8080/"
        },
        "id": "Yo0WKWbWiPJ5",
        "outputId": "20d3b3d1-d781-4a8d-b6a8-0e21362e34ee"
      },
      "source": [
        "!unzip ./bertsum_data.zip -d ./BertSum/bert_data"
      ],
      "execution_count": null,
      "outputs": [
        {
          "output_type": "stream",
          "name": "stdout",
          "text": [
            "Archive:  ./bertsum_data.zip\n",
            "  inflating: ./BertSum/bert_data/cnndm.test.0.bert.pt  \n",
            "  inflating: ./BertSum/bert_data/cnndm.test.1.bert.pt  \n",
            "  inflating: ./BertSum/bert_data/cnndm.test.2.bert.pt  \n",
            "  inflating: ./BertSum/bert_data/cnndm.test.3.bert.pt  \n",
            "  inflating: ./BertSum/bert_data/cnndm.test.4.bert.pt  \n",
            "  inflating: ./BertSum/bert_data/cnndm.test.5.bert.pt  \n",
            "  inflating: ./BertSum/bert_data/cnndm.train.0.bert.pt  \n",
            "  inflating: ./BertSum/bert_data/cnndm.train.100.bert.pt  \n",
            "  inflating: ./BertSum/bert_data/cnndm.train.101.bert.pt  \n",
            "  inflating: ./BertSum/bert_data/cnndm.train.102.bert.pt  \n",
            "  inflating: ./BertSum/bert_data/cnndm.train.103.bert.pt  \n",
            "  inflating: ./BertSum/bert_data/cnndm.train.104.bert.pt  \n",
            "  inflating: ./BertSum/bert_data/cnndm.train.105.bert.pt  \n",
            "  inflating: ./BertSum/bert_data/cnndm.train.106.bert.pt  \n",
            "  inflating: ./BertSum/bert_data/cnndm.train.107.bert.pt  \n",
            "  inflating: ./BertSum/bert_data/cnndm.train.108.bert.pt  \n",
            "  inflating: ./BertSum/bert_data/cnndm.train.109.bert.pt  \n",
            "  inflating: ./BertSum/bert_data/cnndm.train.10.bert.pt  \n",
            "  inflating: ./BertSum/bert_data/cnndm.train.110.bert.pt  \n",
            "  inflating: ./BertSum/bert_data/cnndm.train.111.bert.pt  \n",
            "  inflating: ./BertSum/bert_data/cnndm.train.112.bert.pt  \n",
            "  inflating: ./BertSum/bert_data/cnndm.train.113.bert.pt  \n",
            "  inflating: ./BertSum/bert_data/cnndm.train.114.bert.pt  \n",
            "  inflating: ./BertSum/bert_data/cnndm.train.115.bert.pt  \n",
            "  inflating: ./BertSum/bert_data/cnndm.train.116.bert.pt  \n",
            "  inflating: ./BertSum/bert_data/cnndm.train.117.bert.pt  \n",
            "  inflating: ./BertSum/bert_data/cnndm.train.118.bert.pt  \n",
            "  inflating: ./BertSum/bert_data/cnndm.train.119.bert.pt  \n",
            "  inflating: ./BertSum/bert_data/cnndm.train.11.bert.pt  \n",
            "  inflating: ./BertSum/bert_data/cnndm.train.120.bert.pt  \n",
            "  inflating: ./BertSum/bert_data/cnndm.train.121.bert.pt  \n",
            "  inflating: ./BertSum/bert_data/cnndm.train.122.bert.pt  \n",
            "  inflating: ./BertSum/bert_data/cnndm.train.123.bert.pt  \n",
            "  inflating: ./BertSum/bert_data/cnndm.train.124.bert.pt  \n",
            "  inflating: ./BertSum/bert_data/cnndm.train.125.bert.pt  \n",
            "  inflating: ./BertSum/bert_data/cnndm.train.126.bert.pt  \n",
            "  inflating: ./BertSum/bert_data/cnndm.train.127.bert.pt  \n",
            "  inflating: ./BertSum/bert_data/cnndm.train.128.bert.pt  \n",
            "  inflating: ./BertSum/bert_data/cnndm.train.129.bert.pt  \n",
            "  inflating: ./BertSum/bert_data/cnndm.train.12.bert.pt  \n",
            "  inflating: ./BertSum/bert_data/cnndm.train.130.bert.pt  \n",
            "  inflating: ./BertSum/bert_data/cnndm.train.131.bert.pt  \n",
            "  inflating: ./BertSum/bert_data/cnndm.train.132.bert.pt  \n",
            "  inflating: ./BertSum/bert_data/cnndm.train.133.bert.pt  \n",
            "  inflating: ./BertSum/bert_data/cnndm.train.134.bert.pt  \n",
            "  inflating: ./BertSum/bert_data/cnndm.train.135.bert.pt  \n",
            "  inflating: ./BertSum/bert_data/cnndm.train.136.bert.pt  \n",
            "  inflating: ./BertSum/bert_data/cnndm.train.137.bert.pt  \n",
            "  inflating: ./BertSum/bert_data/cnndm.train.138.bert.pt  \n",
            "  inflating: ./BertSum/bert_data/cnndm.train.139.bert.pt  \n",
            "  inflating: ./BertSum/bert_data/cnndm.train.13.bert.pt  \n",
            "  inflating: ./BertSum/bert_data/cnndm.train.140.bert.pt  \n",
            "  inflating: ./BertSum/bert_data/cnndm.train.141.bert.pt  \n",
            "  inflating: ./BertSum/bert_data/cnndm.train.142.bert.pt  \n",
            "  inflating: ./BertSum/bert_data/cnndm.train.143.bert.pt  \n",
            "  inflating: ./BertSum/bert_data/cnndm.train.14.bert.pt  \n",
            "  inflating: ./BertSum/bert_data/cnndm.train.15.bert.pt  \n",
            "  inflating: ./BertSum/bert_data/cnndm.train.16.bert.pt  \n",
            "  inflating: ./BertSum/bert_data/cnndm.train.17.bert.pt  \n",
            "  inflating: ./BertSum/bert_data/cnndm.train.18.bert.pt  \n",
            "  inflating: ./BertSum/bert_data/cnndm.train.19.bert.pt  \n",
            "  inflating: ./BertSum/bert_data/cnndm.train.1.bert.pt  \n",
            "  inflating: ./BertSum/bert_data/cnndm.train.20.bert.pt  \n",
            "  inflating: ./BertSum/bert_data/cnndm.train.21.bert.pt  \n",
            "  inflating: ./BertSum/bert_data/cnndm.train.22.bert.pt  \n",
            "  inflating: ./BertSum/bert_data/cnndm.train.23.bert.pt  \n",
            "  inflating: ./BertSum/bert_data/cnndm.train.24.bert.pt  \n",
            "  inflating: ./BertSum/bert_data/cnndm.train.25.bert.pt  \n",
            "  inflating: ./BertSum/bert_data/cnndm.train.26.bert.pt  \n",
            "  inflating: ./BertSum/bert_data/cnndm.train.27.bert.pt  \n",
            "  inflating: ./BertSum/bert_data/cnndm.train.28.bert.pt  \n",
            "  inflating: ./BertSum/bert_data/cnndm.train.29.bert.pt  \n",
            "  inflating: ./BertSum/bert_data/cnndm.train.2.bert.pt  \n",
            "  inflating: ./BertSum/bert_data/cnndm.train.30.bert.pt  \n",
            "  inflating: ./BertSum/bert_data/cnndm.train.31.bert.pt  \n",
            "  inflating: ./BertSum/bert_data/cnndm.train.32.bert.pt  \n",
            "  inflating: ./BertSum/bert_data/cnndm.train.33.bert.pt  \n",
            "  inflating: ./BertSum/bert_data/cnndm.train.34.bert.pt  \n",
            "  inflating: ./BertSum/bert_data/cnndm.train.35.bert.pt  \n",
            "  inflating: ./BertSum/bert_data/cnndm.train.36.bert.pt  \n",
            "  inflating: ./BertSum/bert_data/cnndm.train.37.bert.pt  \n",
            "  inflating: ./BertSum/bert_data/cnndm.train.38.bert.pt  \n",
            "  inflating: ./BertSum/bert_data/cnndm.train.39.bert.pt  \n",
            "  inflating: ./BertSum/bert_data/cnndm.train.3.bert.pt  \n",
            "  inflating: ./BertSum/bert_data/cnndm.train.40.bert.pt  \n",
            "  inflating: ./BertSum/bert_data/cnndm.train.41.bert.pt  \n",
            "  inflating: ./BertSum/bert_data/cnndm.train.42.bert.pt  \n",
            "  inflating: ./BertSum/bert_data/cnndm.train.43.bert.pt  \n",
            "  inflating: ./BertSum/bert_data/cnndm.train.44.bert.pt  \n",
            "  inflating: ./BertSum/bert_data/cnndm.train.45.bert.pt  \n",
            "  inflating: ./BertSum/bert_data/cnndm.train.46.bert.pt  \n",
            "  inflating: ./BertSum/bert_data/cnndm.train.47.bert.pt  \n",
            "  inflating: ./BertSum/bert_data/cnndm.train.48.bert.pt  \n",
            "  inflating: ./BertSum/bert_data/cnndm.train.49.bert.pt  \n",
            "  inflating: ./BertSum/bert_data/cnndm.train.4.bert.pt  \n",
            "  inflating: ./BertSum/bert_data/cnndm.train.50.bert.pt  \n",
            "  inflating: ./BertSum/bert_data/cnndm.train.51.bert.pt  \n",
            "  inflating: ./BertSum/bert_data/cnndm.train.52.bert.pt  \n",
            "  inflating: ./BertSum/bert_data/cnndm.train.53.bert.pt  \n",
            "  inflating: ./BertSum/bert_data/cnndm.train.54.bert.pt  \n",
            "  inflating: ./BertSum/bert_data/cnndm.train.55.bert.pt  \n",
            "  inflating: ./BertSum/bert_data/cnndm.train.56.bert.pt  \n",
            "  inflating: ./BertSum/bert_data/cnndm.train.57.bert.pt  \n",
            "  inflating: ./BertSum/bert_data/cnndm.train.58.bert.pt  \n",
            "  inflating: ./BertSum/bert_data/cnndm.train.59.bert.pt  \n",
            "  inflating: ./BertSum/bert_data/cnndm.train.5.bert.pt  \n",
            "  inflating: ./BertSum/bert_data/cnndm.train.60.bert.pt  \n",
            "  inflating: ./BertSum/bert_data/cnndm.train.61.bert.pt  \n",
            "  inflating: ./BertSum/bert_data/cnndm.train.62.bert.pt  \n",
            "  inflating: ./BertSum/bert_data/cnndm.train.63.bert.pt  \n",
            "  inflating: ./BertSum/bert_data/cnndm.train.64.bert.pt  \n",
            "  inflating: ./BertSum/bert_data/cnndm.train.65.bert.pt  \n",
            "  inflating: ./BertSum/bert_data/cnndm.train.66.bert.pt  \n",
            "  inflating: ./BertSum/bert_data/cnndm.train.67.bert.pt  \n",
            "  inflating: ./BertSum/bert_data/cnndm.train.68.bert.pt  \n",
            "  inflating: ./BertSum/bert_data/cnndm.train.69.bert.pt  \n",
            "  inflating: ./BertSum/bert_data/cnndm.train.6.bert.pt  \n",
            "  inflating: ./BertSum/bert_data/cnndm.train.70.bert.pt  \n",
            "  inflating: ./BertSum/bert_data/cnndm.train.71.bert.pt  \n",
            "  inflating: ./BertSum/bert_data/cnndm.train.72.bert.pt  \n",
            "  inflating: ./BertSum/bert_data/cnndm.train.73.bert.pt  \n",
            "  inflating: ./BertSum/bert_data/cnndm.train.74.bert.pt  \n",
            "  inflating: ./BertSum/bert_data/cnndm.train.75.bert.pt  \n",
            "  inflating: ./BertSum/bert_data/cnndm.train.76.bert.pt  \n",
            "  inflating: ./BertSum/bert_data/cnndm.train.77.bert.pt  \n",
            "  inflating: ./BertSum/bert_data/cnndm.train.78.bert.pt  \n",
            "  inflating: ./BertSum/bert_data/cnndm.train.79.bert.pt  \n",
            "  inflating: ./BertSum/bert_data/cnndm.train.7.bert.pt  \n",
            "  inflating: ./BertSum/bert_data/cnndm.train.80.bert.pt  \n",
            "  inflating: ./BertSum/bert_data/cnndm.train.81.bert.pt  \n",
            "  inflating: ./BertSum/bert_data/cnndm.train.82.bert.pt  \n",
            "  inflating: ./BertSum/bert_data/cnndm.train.83.bert.pt  \n",
            "  inflating: ./BertSum/bert_data/cnndm.train.84.bert.pt  \n",
            "  inflating: ./BertSum/bert_data/cnndm.train.85.bert.pt  \n",
            "  inflating: ./BertSum/bert_data/cnndm.train.86.bert.pt  \n",
            "  inflating: ./BertSum/bert_data/cnndm.train.87.bert.pt  \n",
            "  inflating: ./BertSum/bert_data/cnndm.train.88.bert.pt  \n",
            "  inflating: ./BertSum/bert_data/cnndm.train.89.bert.pt  \n",
            "  inflating: ./BertSum/bert_data/cnndm.train.8.bert.pt  \n",
            "  inflating: ./BertSum/bert_data/cnndm.train.90.bert.pt  \n",
            "  inflating: ./BertSum/bert_data/cnndm.train.91.bert.pt  \n",
            "  inflating: ./BertSum/bert_data/cnndm.train.92.bert.pt  \n",
            "  inflating: ./BertSum/bert_data/cnndm.train.93.bert.pt  \n",
            "  inflating: ./BertSum/bert_data/cnndm.train.94.bert.pt  \n",
            "  inflating: ./BertSum/bert_data/cnndm.train.95.bert.pt  \n",
            "  inflating: ./BertSum/bert_data/cnndm.train.96.bert.pt  \n",
            "  inflating: ./BertSum/bert_data/cnndm.train.97.bert.pt  \n",
            "  inflating: ./BertSum/bert_data/cnndm.train.98.bert.pt  \n",
            "  inflating: ./BertSum/bert_data/cnndm.train.99.bert.pt  \n",
            "  inflating: ./BertSum/bert_data/cnndm.train.9.bert.pt  \n",
            "  inflating: ./BertSum/bert_data/cnndm.valid.0.bert.pt  \n",
            "  inflating: ./BertSum/bert_data/cnndm.valid.1.bert.pt  \n",
            "  inflating: ./BertSum/bert_data/cnndm.valid.2.bert.pt  \n",
            "  inflating: ./BertSum/bert_data/cnndm.valid.3.bert.pt  \n",
            "  inflating: ./BertSum/bert_data/cnndm.valid.4.bert.pt  \n",
            "  inflating: ./BertSum/bert_data/cnndm.valid.5.bert.pt  \n",
            "  inflating: ./BertSum/bert_data/cnndm.valid.6.bert.pt  \n"
          ]
        }
      ]
    },
    {
      "cell_type": "code",
      "metadata": {
        "id": "TLDitZ3mnv_J"
      },
      "source": [
        "import torch\n",
        "cnn_test_samp = torch.load(\"./BertSum/bert_data/cnndm.test.0.bert.pt\")"
      ],
      "execution_count": null,
      "outputs": []
    },
    {
      "cell_type": "code",
      "metadata": {
        "id": "jR9kyPftqoWv"
      },
      "source": [
        "cnn_test_samp0 = cnn_test_samp[0]"
      ],
      "execution_count": null,
      "outputs": []
    },
    {
      "cell_type": "code",
      "metadata": {
        "colab": {
          "base_uri": "https://localhost:8080/"
        },
        "id": "Lx4X9QDEq_uX",
        "outputId": "a438e37a-5f5f-431d-95f0-355f6eb82a8f"
      },
      "source": [
        "cnn_test_samp0.keys()"
      ],
      "execution_count": null,
      "outputs": [
        {
          "output_type": "execute_result",
          "data": {
            "text/plain": [
              "dict_keys(['src', 'labels', 'segs', 'clss', 'src_txt', 'tgt_txt'])"
            ]
          },
          "metadata": {},
          "execution_count": 50
        }
      ]
    },
    {
      "cell_type": "code",
      "metadata": {
        "colab": {
          "base_uri": "https://localhost:8080/"
        },
        "id": "RydoDsS6oQ6g",
        "outputId": "b6b350e9-3402-4260-8160-14a81883c44c"
      },
      "source": [
        "print(cnn_test_samp0['clss']) # индексы CLS токенов для предложений входного текста \n",
        "print(cnn_test_samp0['labels']) # таргет метки для предложений (1 - входит в summary, 0 - не входит)\n",
        "print(cnn_test_samp0['segs']) # id сегментов предложений \n",
        "print(cnn_test_samp0['src']) # id слов"
      ],
      "execution_count": null,
      "outputs": [
        {
          "output_type": "stream",
          "name": "stdout",
          "text": [
            "[0, 25, 57, 78, 112, 136, 174, 197, 223, 245, 285, 301, 337, 358, 382, 416, 452]\n",
            "[0, 1, 1, 0, 0, 0, 1, 0, 0, 0, 0, 0, 0, 0, 0, 0, 0]\n",
            "[0, 0, 0, 0, 0, 0, 0, 0, 0, 0, 0, 0, 0, 0, 0, 0, 0, 0, 0, 0, 0, 0, 0, 0, 0, 1, 1, 1, 1, 1, 1, 1, 1, 1, 1, 1, 1, 1, 1, 1, 1, 1, 1, 1, 1, 1, 1, 1, 1, 1, 1, 1, 1, 1, 1, 1, 1, 0, 0, 0, 0, 0, 0, 0, 0, 0, 0, 0, 0, 0, 0, 0, 0, 0, 0, 0, 0, 0, 1, 1, 1, 1, 1, 1, 1, 1, 1, 1, 1, 1, 1, 1, 1, 1, 1, 1, 1, 1, 1, 1, 1, 1, 1, 1, 1, 1, 1, 1, 1, 1, 1, 1, 0, 0, 0, 0, 0, 0, 0, 0, 0, 0, 0, 0, 0, 0, 0, 0, 0, 0, 0, 0, 0, 0, 0, 0, 1, 1, 1, 1, 1, 1, 1, 1, 1, 1, 1, 1, 1, 1, 1, 1, 1, 1, 1, 1, 1, 1, 1, 1, 1, 1, 1, 1, 1, 1, 1, 1, 1, 1, 1, 1, 1, 1, 0, 0, 0, 0, 0, 0, 0, 0, 0, 0, 0, 0, 0, 0, 0, 0, 0, 0, 0, 0, 0, 0, 0, 1, 1, 1, 1, 1, 1, 1, 1, 1, 1, 1, 1, 1, 1, 1, 1, 1, 1, 1, 1, 1, 1, 1, 1, 1, 1, 0, 0, 0, 0, 0, 0, 0, 0, 0, 0, 0, 0, 0, 0, 0, 0, 0, 0, 0, 0, 0, 0, 1, 1, 1, 1, 1, 1, 1, 1, 1, 1, 1, 1, 1, 1, 1, 1, 1, 1, 1, 1, 1, 1, 1, 1, 1, 1, 1, 1, 1, 1, 1, 1, 1, 1, 1, 1, 1, 1, 1, 1, 0, 0, 0, 0, 0, 0, 0, 0, 0, 0, 0, 0, 0, 0, 0, 0, 1, 1, 1, 1, 1, 1, 1, 1, 1, 1, 1, 1, 1, 1, 1, 1, 1, 1, 1, 1, 1, 1, 1, 1, 1, 1, 1, 1, 1, 1, 1, 1, 1, 1, 1, 1, 0, 0, 0, 0, 0, 0, 0, 0, 0, 0, 0, 0, 0, 0, 0, 0, 0, 0, 0, 0, 0, 1, 1, 1, 1, 1, 1, 1, 1, 1, 1, 1, 1, 1, 1, 1, 1, 1, 1, 1, 1, 1, 1, 1, 1, 0, 0, 0, 0, 0, 0, 0, 0, 0, 0, 0, 0, 0, 0, 0, 0, 0, 0, 0, 0, 0, 0, 0, 0, 0, 0, 0, 0, 0, 0, 0, 0, 0, 0, 1, 1, 1, 1, 1, 1, 1, 1, 1, 1, 1, 1, 1, 1, 1, 1, 1, 1, 1, 1, 1, 1, 1, 1, 1, 1, 1, 1, 1, 1, 1, 1, 1, 1, 1, 1, 0, 0, 0, 0, 0, 0, 0, 0, 0, 0, 0, 0, 0, 0, 0, 0, 0, 0, 0, 0, 0, 0, 0, 0, 0, 0, 0]\n",
            "[101, 1037, 2118, 1997, 5947, 3076, 2038, 2351, 3053, 2093, 2706, 2044, 1037, 2991, 1999, 4199, 1999, 1037, 6878, 13742, 2886, 1999, 4199, 1012, 102, 101, 4080, 9587, 29076, 1010, 2322, 1010, 2013, 8904, 3449, 9644, 1010, 4307, 1010, 2018, 2069, 2074, 3369, 2005, 1037, 13609, 2565, 1999, 3304, 2043, 1996, 5043, 3047, 1999, 2254, 1012, 102, 101, 2002, 2001, 10583, 2067, 2000, 3190, 3081, 2250, 10771, 2006, 2233, 2322, 1010, 2021, 2002, 2351, 2006, 4465, 1012, 102, 101, 4080, 9587, 29076, 1010, 2322, 1010, 2013, 8904, 3449, 9644, 1010, 4307, 1010, 1037, 2118, 1997, 5947, 3076, 2038, 2351, 3053, 2093, 2706, 2044, 1037, 2991, 1999, 4199, 1999, 1037, 6878, 13742, 102, 101, 2002, 2001, 2579, 2000, 1037, 2966, 4322, 1999, 1996, 3190, 2181, 1010, 2485, 2000, 2010, 2155, 2188, 1999, 8904, 3449, 9644, 1012, 102, 101, 2002, 2351, 2006, 4465, 2012, 7855, 3986, 2902, 1011, 2966, 19684, 1005, 1055, 2436, 14056, 3581, 18454, 6199, 2319, 2758, 1037, 3426, 1997, 2331, 24185, 1050, 1005, 1056, 2022, 2207, 2127, 6928, 2012, 1996, 5700, 1012, 102, 101, 3988, 2610, 4311, 5393, 1996, 2991, 2001, 2019, 4926, 2021, 4614, 2024, 11538, 1996, 6061, 2008, 9587, 29076, 2001, 20114, 1012, 102, 101, 2006, 4465, 1010, 2010, 5542, 9460, 2626, 3784, 1024, 1036, 2023, 2851, 2026, 5542, 4080, 1005, 1055, 3969, 2001, 4196, 2039, 2000, 6014, 1012, 102, 101, 3988, 2610, 4311, 5393, 1996, 2991, 2001, 2019, 4926, 2021, 4614, 2024, 11538, 1996, 6061, 2008, 9587, 29076, 2001, 20114, 102, 101, 1036, 2012, 1996, 2927, 1997, 2254, 2002, 2253, 2000, 4199, 2000, 2817, 7548, 1998, 2006, 1996, 2126, 2188, 2013, 1037, 2283, 2002, 2001, 23197, 4457, 1998, 6908, 2125, 1037, 2871, 6199, 2958, 1998, 2718, 1996, 5509, 2917, 1012, 102, 101, 1036, 2002, 2001, 1999, 1037, 16571, 1998, 1999, 4187, 4650, 2005, 2706, 1012, 1005, 102, 101, 13723, 20073, 1010, 2040, 2056, 2016, 2003, 1037, 2485, 2155, 2767, 1010, 2409, 2026, 9282, 2166, 1010, 2008, 9587, 29076, 2018, 2069, 2042, 1999, 1996, 2406, 2005, 2416, 2847, 2043, 1996, 5043, 3047, 1012, 102, 101, 2016, 2056, 2002, 2001, 2001, 2894, 2012, 1996, 2051, 1997, 1996, 6884, 6101, 1998, 3167, 5167, 2020, 7376, 1012, 102, 101, 2016, 2794, 2008, 2002, 2001, 1999, 1037, 2512, 1011, 2966, 2135, 10572, 16571, 1010, 2383, 4265, 3809, 8985, 1998, 4722, 9524, 1012, 102, 101, 9587, 29076, 2001, 1037, 2353, 1011, 2095, 5446, 2350, 2013, 8904, 3449, 9644, 1010, 5665, 1012, 1010, 2040, 2001, 8019, 1999, 1037, 13609, 1011, 2146, 2565, 2012, 2198, 9298, 4140, 2118, 1012, 102, 101, 9587, 29076, 6272, 2000, 1996, 2082, 1005, 1055, 3127, 1997, 1996, 13201, 16371, 13577, 1010, 4311, 1996, 3190, 10969, 2040, 6866, 1037, 3696, 2648, 1037, 2311, 3752, 1036, 11839, 2005, 9587, 29076, 1012, 1005, 102, 101, 1996, 13577, 1005, 1055, 5947, 3127, 2623, 4465, 5027, 3081, 10474, 2008, 1037, 3986, 2326, 2097, 2022, 2218, 2006, 3721, 2000, 3342, 9587, 29076, 1012, 102]\n"
          ]
        }
      ]
    },
    {
      "cell_type": "code",
      "metadata": {
        "colab": {
          "base_uri": "https://localhost:8080/"
        },
        "id": "Xs7zKGfYrM0i",
        "outputId": "8f8faf9c-311b-4e4a-a0a7-5252b82d9632"
      },
      "source": [
        "cnn_test_samp0['src_txt'] # входной текст\n"
      ],
      "execution_count": null,
      "outputs": [
        {
          "output_type": "execute_result",
          "data": {
            "text/plain": [
              "['a university of iowa student has died nearly three months after a fall in rome in a suspected robbery attack in rome .',\n",
              " 'andrew mogni , 20 , from glen ellyn , illinois , had only just arrived for a semester program in italy when the incident happened in january .',\n",
              " 'he was flown back to chicago via air ambulance on march 20 , but he died on sunday .',\n",
              " 'andrew mogni , 20 , from glen ellyn , illinois , a university of iowa student has died nearly three months after a fall in rome in a suspected robbery',\n",
              " 'he was taken to a medical facility in the chicago area , close to his family home in glen ellyn .',\n",
              " \"he died on sunday at northwestern memorial hospital - medical examiner 's office spokesman frank shuftan says a cause of death wo n't be released until monday at the earliest .\",\n",
              " 'initial police reports indicated the fall was an accident but authorities are investigating the possibility that mogni was robbed .',\n",
              " \"on sunday , his cousin abby wrote online : ` this morning my cousin andrew 's soul was lifted up to heaven .\",\n",
              " 'initial police reports indicated the fall was an accident but authorities are investigating the possibility that mogni was robbed',\n",
              " '` at the beginning of january he went to rome to study aboard and on the way home from a party he was brutally attacked and thrown off a 40ft bridge and hit the concrete below .',\n",
              " \"` he was in a coma and in critical condition for months . '\",\n",
              " 'paula barnett , who said she is a close family friend , told my suburban life , that mogni had only been in the country for six hours when the incident happened .',\n",
              " 'she said he was was alone at the time of the alleged assault and personal items were stolen .',\n",
              " 'she added that he was in a non-medically induced coma , having suffered serious infection and internal bleeding .',\n",
              " 'mogni was a third-year finance major from glen ellyn , ill. , who was participating in a semester-long program at john cabot university .',\n",
              " \"mogni belonged to the school 's chapter of the sigma nu fraternity , reports the chicago tribune who posted a sign outside a building reading ` pray for mogni . '\",\n",
              " \"the fraternity 's iowa chapter announced sunday afternoon via twitter that a memorial service will be held on campus to remember mogni .\"]"
            ]
          },
          "metadata": {},
          "execution_count": 52
        }
      ]
    },
    {
      "cell_type": "code",
      "metadata": {
        "colab": {
          "base_uri": "https://localhost:8080/",
          "height": 69
        },
        "id": "-DSbhBlXrRWH",
        "outputId": "73d23c5b-f612-487b-ff5d-98a378103ae3"
      },
      "source": [
        "cnn_test_samp0['tgt_txt'] # target summary"
      ],
      "execution_count": null,
      "outputs": [
        {
          "output_type": "execute_result",
          "data": {
            "application/vnd.google.colaboratory.intrinsic+json": {
              "type": "string"
            },
            "text/plain": [
              "'andrew mogni , 20 , from glen ellyn , illinois , had only just arrived for a semester program when the incident happened in january<q>he was flown back to chicago via air on march 20 but he died on sunday<q>initial police reports indicated the fall was an accident but authorities are investigating the possibility that mogni was robbed<q>his cousin claims he was attacked and thrown 40ft from a bridge'"
            ]
          },
          "metadata": {},
          "execution_count": 53
        }
      ]
    },
    {
      "cell_type": "code",
      "metadata": {
        "colab": {
          "base_uri": "https://localhost:8080/"
        },
        "id": "PW5EKEL8d9GG",
        "outputId": "48e1d83c-4394-41b5-9b48-cbebca65b109"
      },
      "source": [
        "!python ./BertSum/src/train.py -mode train -encoder classifier -dropout 0.1 -bert_data_path ./BertSum/bert_data/cnndm -model_path ../models/bert_classifier -lr 2e-3 -visible_gpus 0  -gpu_ranks 0 -world_size 1 -report_every 50 -save_checkpoint_steps 100 -batch_size 3000 -decay_method noam -train_steps 100 -accum_count 2 -log_file ./BertSum/logs/bert_classifier -use_interval true -warmup_steps 10000"
      ],
      "execution_count": null,
      "outputs": [
        {
          "output_type": "stream",
          "name": "stdout",
          "text": [
            "[2021-11-17 23:23:41,798 INFO] Device ID 0\n",
            "[2021-11-17 23:23:41,799 INFO] Device cuda\n",
            "[2021-11-17 23:23:42,108 INFO] loading archive file https://s3.amazonaws.com/models.huggingface.co/bert/bert-base-uncased.tar.gz from cache at ../temp/9c41111e2de84547a463fd39217199738d1e3deb72d4fec4399e6e241983c6f0.ae3cef932725ca7a30cdcb93fc6e09150a55e2a130ec7af63975a16c153ae2ba\n",
            "[2021-11-17 23:23:42,109 INFO] extracting archive file ../temp/9c41111e2de84547a463fd39217199738d1e3deb72d4fec4399e6e241983c6f0.ae3cef932725ca7a30cdcb93fc6e09150a55e2a130ec7af63975a16c153ae2ba to temp dir /tmp/tmpxzn1oup0\n",
            "[2021-11-17 23:23:46,374 INFO] Model config {\n",
            "  \"attention_probs_dropout_prob\": 0.1,\n",
            "  \"hidden_act\": \"gelu\",\n",
            "  \"hidden_dropout_prob\": 0.1,\n",
            "  \"hidden_size\": 768,\n",
            "  \"initializer_range\": 0.02,\n",
            "  \"intermediate_size\": 3072,\n",
            "  \"max_position_embeddings\": 512,\n",
            "  \"num_attention_heads\": 12,\n",
            "  \"num_hidden_layers\": 12,\n",
            "  \"type_vocab_size\": 2,\n",
            "  \"vocab_size\": 30522\n",
            "}\n",
            "\n",
            "[2021-11-17 23:23:51,421 INFO] Summarizer(\n",
            "  (bert): Bert(\n",
            "    (model): BertModel(\n",
            "      (embeddings): BertEmbeddings(\n",
            "        (word_embeddings): Embedding(30522, 768, padding_idx=0)\n",
            "        (position_embeddings): Embedding(512, 768)\n",
            "        (token_type_embeddings): Embedding(2, 768)\n",
            "        (LayerNorm): BertLayerNorm()\n",
            "        (dropout): Dropout(p=0.1)\n",
            "      )\n",
            "      (encoder): BertEncoder(\n",
            "        (layer): ModuleList(\n",
            "          (0): BertLayer(\n",
            "            (attention): BertAttention(\n",
            "              (self): BertSelfAttention(\n",
            "                (query): Linear(in_features=768, out_features=768, bias=True)\n",
            "                (key): Linear(in_features=768, out_features=768, bias=True)\n",
            "                (value): Linear(in_features=768, out_features=768, bias=True)\n",
            "                (dropout): Dropout(p=0.1)\n",
            "              )\n",
            "              (output): BertSelfOutput(\n",
            "                (dense): Linear(in_features=768, out_features=768, bias=True)\n",
            "                (LayerNorm): BertLayerNorm()\n",
            "                (dropout): Dropout(p=0.1)\n",
            "              )\n",
            "            )\n",
            "            (intermediate): BertIntermediate(\n",
            "              (dense): Linear(in_features=768, out_features=3072, bias=True)\n",
            "            )\n",
            "            (output): BertOutput(\n",
            "              (dense): Linear(in_features=3072, out_features=768, bias=True)\n",
            "              (LayerNorm): BertLayerNorm()\n",
            "              (dropout): Dropout(p=0.1)\n",
            "            )\n",
            "          )\n",
            "          (1): BertLayer(\n",
            "            (attention): BertAttention(\n",
            "              (self): BertSelfAttention(\n",
            "                (query): Linear(in_features=768, out_features=768, bias=True)\n",
            "                (key): Linear(in_features=768, out_features=768, bias=True)\n",
            "                (value): Linear(in_features=768, out_features=768, bias=True)\n",
            "                (dropout): Dropout(p=0.1)\n",
            "              )\n",
            "              (output): BertSelfOutput(\n",
            "                (dense): Linear(in_features=768, out_features=768, bias=True)\n",
            "                (LayerNorm): BertLayerNorm()\n",
            "                (dropout): Dropout(p=0.1)\n",
            "              )\n",
            "            )\n",
            "            (intermediate): BertIntermediate(\n",
            "              (dense): Linear(in_features=768, out_features=3072, bias=True)\n",
            "            )\n",
            "            (output): BertOutput(\n",
            "              (dense): Linear(in_features=3072, out_features=768, bias=True)\n",
            "              (LayerNorm): BertLayerNorm()\n",
            "              (dropout): Dropout(p=0.1)\n",
            "            )\n",
            "          )\n",
            "          (2): BertLayer(\n",
            "            (attention): BertAttention(\n",
            "              (self): BertSelfAttention(\n",
            "                (query): Linear(in_features=768, out_features=768, bias=True)\n",
            "                (key): Linear(in_features=768, out_features=768, bias=True)\n",
            "                (value): Linear(in_features=768, out_features=768, bias=True)\n",
            "                (dropout): Dropout(p=0.1)\n",
            "              )\n",
            "              (output): BertSelfOutput(\n",
            "                (dense): Linear(in_features=768, out_features=768, bias=True)\n",
            "                (LayerNorm): BertLayerNorm()\n",
            "                (dropout): Dropout(p=0.1)\n",
            "              )\n",
            "            )\n",
            "            (intermediate): BertIntermediate(\n",
            "              (dense): Linear(in_features=768, out_features=3072, bias=True)\n",
            "            )\n",
            "            (output): BertOutput(\n",
            "              (dense): Linear(in_features=3072, out_features=768, bias=True)\n",
            "              (LayerNorm): BertLayerNorm()\n",
            "              (dropout): Dropout(p=0.1)\n",
            "            )\n",
            "          )\n",
            "          (3): BertLayer(\n",
            "            (attention): BertAttention(\n",
            "              (self): BertSelfAttention(\n",
            "                (query): Linear(in_features=768, out_features=768, bias=True)\n",
            "                (key): Linear(in_features=768, out_features=768, bias=True)\n",
            "                (value): Linear(in_features=768, out_features=768, bias=True)\n",
            "                (dropout): Dropout(p=0.1)\n",
            "              )\n",
            "              (output): BertSelfOutput(\n",
            "                (dense): Linear(in_features=768, out_features=768, bias=True)\n",
            "                (LayerNorm): BertLayerNorm()\n",
            "                (dropout): Dropout(p=0.1)\n",
            "              )\n",
            "            )\n",
            "            (intermediate): BertIntermediate(\n",
            "              (dense): Linear(in_features=768, out_features=3072, bias=True)\n",
            "            )\n",
            "            (output): BertOutput(\n",
            "              (dense): Linear(in_features=3072, out_features=768, bias=True)\n",
            "              (LayerNorm): BertLayerNorm()\n",
            "              (dropout): Dropout(p=0.1)\n",
            "            )\n",
            "          )\n",
            "          (4): BertLayer(\n",
            "            (attention): BertAttention(\n",
            "              (self): BertSelfAttention(\n",
            "                (query): Linear(in_features=768, out_features=768, bias=True)\n",
            "                (key): Linear(in_features=768, out_features=768, bias=True)\n",
            "                (value): Linear(in_features=768, out_features=768, bias=True)\n",
            "                (dropout): Dropout(p=0.1)\n",
            "              )\n",
            "              (output): BertSelfOutput(\n",
            "                (dense): Linear(in_features=768, out_features=768, bias=True)\n",
            "                (LayerNorm): BertLayerNorm()\n",
            "                (dropout): Dropout(p=0.1)\n",
            "              )\n",
            "            )\n",
            "            (intermediate): BertIntermediate(\n",
            "              (dense): Linear(in_features=768, out_features=3072, bias=True)\n",
            "            )\n",
            "            (output): BertOutput(\n",
            "              (dense): Linear(in_features=3072, out_features=768, bias=True)\n",
            "              (LayerNorm): BertLayerNorm()\n",
            "              (dropout): Dropout(p=0.1)\n",
            "            )\n",
            "          )\n",
            "          (5): BertLayer(\n",
            "            (attention): BertAttention(\n",
            "              (self): BertSelfAttention(\n",
            "                (query): Linear(in_features=768, out_features=768, bias=True)\n",
            "                (key): Linear(in_features=768, out_features=768, bias=True)\n",
            "                (value): Linear(in_features=768, out_features=768, bias=True)\n",
            "                (dropout): Dropout(p=0.1)\n",
            "              )\n",
            "              (output): BertSelfOutput(\n",
            "                (dense): Linear(in_features=768, out_features=768, bias=True)\n",
            "                (LayerNorm): BertLayerNorm()\n",
            "                (dropout): Dropout(p=0.1)\n",
            "              )\n",
            "            )\n",
            "            (intermediate): BertIntermediate(\n",
            "              (dense): Linear(in_features=768, out_features=3072, bias=True)\n",
            "            )\n",
            "            (output): BertOutput(\n",
            "              (dense): Linear(in_features=3072, out_features=768, bias=True)\n",
            "              (LayerNorm): BertLayerNorm()\n",
            "              (dropout): Dropout(p=0.1)\n",
            "            )\n",
            "          )\n",
            "          (6): BertLayer(\n",
            "            (attention): BertAttention(\n",
            "              (self): BertSelfAttention(\n",
            "                (query): Linear(in_features=768, out_features=768, bias=True)\n",
            "                (key): Linear(in_features=768, out_features=768, bias=True)\n",
            "                (value): Linear(in_features=768, out_features=768, bias=True)\n",
            "                (dropout): Dropout(p=0.1)\n",
            "              )\n",
            "              (output): BertSelfOutput(\n",
            "                (dense): Linear(in_features=768, out_features=768, bias=True)\n",
            "                (LayerNorm): BertLayerNorm()\n",
            "                (dropout): Dropout(p=0.1)\n",
            "              )\n",
            "            )\n",
            "            (intermediate): BertIntermediate(\n",
            "              (dense): Linear(in_features=768, out_features=3072, bias=True)\n",
            "            )\n",
            "            (output): BertOutput(\n",
            "              (dense): Linear(in_features=3072, out_features=768, bias=True)\n",
            "              (LayerNorm): BertLayerNorm()\n",
            "              (dropout): Dropout(p=0.1)\n",
            "            )\n",
            "          )\n",
            "          (7): BertLayer(\n",
            "            (attention): BertAttention(\n",
            "              (self): BertSelfAttention(\n",
            "                (query): Linear(in_features=768, out_features=768, bias=True)\n",
            "                (key): Linear(in_features=768, out_features=768, bias=True)\n",
            "                (value): Linear(in_features=768, out_features=768, bias=True)\n",
            "                (dropout): Dropout(p=0.1)\n",
            "              )\n",
            "              (output): BertSelfOutput(\n",
            "                (dense): Linear(in_features=768, out_features=768, bias=True)\n",
            "                (LayerNorm): BertLayerNorm()\n",
            "                (dropout): Dropout(p=0.1)\n",
            "              )\n",
            "            )\n",
            "            (intermediate): BertIntermediate(\n",
            "              (dense): Linear(in_features=768, out_features=3072, bias=True)\n",
            "            )\n",
            "            (output): BertOutput(\n",
            "              (dense): Linear(in_features=3072, out_features=768, bias=True)\n",
            "              (LayerNorm): BertLayerNorm()\n",
            "              (dropout): Dropout(p=0.1)\n",
            "            )\n",
            "          )\n",
            "          (8): BertLayer(\n",
            "            (attention): BertAttention(\n",
            "              (self): BertSelfAttention(\n",
            "                (query): Linear(in_features=768, out_features=768, bias=True)\n",
            "                (key): Linear(in_features=768, out_features=768, bias=True)\n",
            "                (value): Linear(in_features=768, out_features=768, bias=True)\n",
            "                (dropout): Dropout(p=0.1)\n",
            "              )\n",
            "              (output): BertSelfOutput(\n",
            "                (dense): Linear(in_features=768, out_features=768, bias=True)\n",
            "                (LayerNorm): BertLayerNorm()\n",
            "                (dropout): Dropout(p=0.1)\n",
            "              )\n",
            "            )\n",
            "            (intermediate): BertIntermediate(\n",
            "              (dense): Linear(in_features=768, out_features=3072, bias=True)\n",
            "            )\n",
            "            (output): BertOutput(\n",
            "              (dense): Linear(in_features=3072, out_features=768, bias=True)\n",
            "              (LayerNorm): BertLayerNorm()\n",
            "              (dropout): Dropout(p=0.1)\n",
            "            )\n",
            "          )\n",
            "          (9): BertLayer(\n",
            "            (attention): BertAttention(\n",
            "              (self): BertSelfAttention(\n",
            "                (query): Linear(in_features=768, out_features=768, bias=True)\n",
            "                (key): Linear(in_features=768, out_features=768, bias=True)\n",
            "                (value): Linear(in_features=768, out_features=768, bias=True)\n",
            "                (dropout): Dropout(p=0.1)\n",
            "              )\n",
            "              (output): BertSelfOutput(\n",
            "                (dense): Linear(in_features=768, out_features=768, bias=True)\n",
            "                (LayerNorm): BertLayerNorm()\n",
            "                (dropout): Dropout(p=0.1)\n",
            "              )\n",
            "            )\n",
            "            (intermediate): BertIntermediate(\n",
            "              (dense): Linear(in_features=768, out_features=3072, bias=True)\n",
            "            )\n",
            "            (output): BertOutput(\n",
            "              (dense): Linear(in_features=3072, out_features=768, bias=True)\n",
            "              (LayerNorm): BertLayerNorm()\n",
            "              (dropout): Dropout(p=0.1)\n",
            "            )\n",
            "          )\n",
            "          (10): BertLayer(\n",
            "            (attention): BertAttention(\n",
            "              (self): BertSelfAttention(\n",
            "                (query): Linear(in_features=768, out_features=768, bias=True)\n",
            "                (key): Linear(in_features=768, out_features=768, bias=True)\n",
            "                (value): Linear(in_features=768, out_features=768, bias=True)\n",
            "                (dropout): Dropout(p=0.1)\n",
            "              )\n",
            "              (output): BertSelfOutput(\n",
            "                (dense): Linear(in_features=768, out_features=768, bias=True)\n",
            "                (LayerNorm): BertLayerNorm()\n",
            "                (dropout): Dropout(p=0.1)\n",
            "              )\n",
            "            )\n",
            "            (intermediate): BertIntermediate(\n",
            "              (dense): Linear(in_features=768, out_features=3072, bias=True)\n",
            "            )\n",
            "            (output): BertOutput(\n",
            "              (dense): Linear(in_features=3072, out_features=768, bias=True)\n",
            "              (LayerNorm): BertLayerNorm()\n",
            "              (dropout): Dropout(p=0.1)\n",
            "            )\n",
            "          )\n",
            "          (11): BertLayer(\n",
            "            (attention): BertAttention(\n",
            "              (self): BertSelfAttention(\n",
            "                (query): Linear(in_features=768, out_features=768, bias=True)\n",
            "                (key): Linear(in_features=768, out_features=768, bias=True)\n",
            "                (value): Linear(in_features=768, out_features=768, bias=True)\n",
            "                (dropout): Dropout(p=0.1)\n",
            "              )\n",
            "              (output): BertSelfOutput(\n",
            "                (dense): Linear(in_features=768, out_features=768, bias=True)\n",
            "                (LayerNorm): BertLayerNorm()\n",
            "                (dropout): Dropout(p=0.1)\n",
            "              )\n",
            "            )\n",
            "            (intermediate): BertIntermediate(\n",
            "              (dense): Linear(in_features=768, out_features=3072, bias=True)\n",
            "            )\n",
            "            (output): BertOutput(\n",
            "              (dense): Linear(in_features=3072, out_features=768, bias=True)\n",
            "              (LayerNorm): BertLayerNorm()\n",
            "              (dropout): Dropout(p=0.1)\n",
            "            )\n",
            "          )\n",
            "        )\n",
            "      )\n",
            "      (pooler): BertPooler(\n",
            "        (dense): Linear(in_features=768, out_features=768, bias=True)\n",
            "        (activation): Tanh()\n",
            "      )\n",
            "    )\n",
            "  )\n",
            "  (encoder): Classifier(\n",
            "    (linear1): Linear(in_features=768, out_features=1, bias=True)\n",
            "    (sigmoid): Sigmoid()\n",
            "  )\n",
            ")\n",
            "gpu_rank 0\n",
            "[2021-11-17 23:23:51,490 INFO] * number of parameters: 109483009\n",
            "[2021-11-17 23:23:51,490 INFO] Start training...\n",
            "[2021-11-17 23:23:51,585 INFO] Loading train dataset from ./BertSum/bert_data/cnndm.train.123.bert.pt, number of examples: 2001\n",
            "[2021-11-17 23:24:25,141 INFO] Step 50/  100; xent: 7.34; lr: 0.0000001;  30 docs/s;     34 sec\n",
            "[2021-11-17 23:24:25,143 INFO] Saving checkpoint ../models/bert_classifier/model_step_50.pt\n",
            "[2021-11-17 23:25:13,144 INFO] Step 100/  100; xent: 6.33; lr: 0.0000002;  21 docs/s;     82 sec\n",
            "[2021-11-17 23:25:13,146 INFO] Saving checkpoint ../models/bert_classifier/model_step_100.pt\n",
            "[2021-11-17 23:25:27,595 INFO] Loading train dataset from ./BertSum/bert_data/cnndm.train.59.bert.pt, number of examples: 2000\n"
          ]
        }
      ]
    },
    {
      "cell_type": "markdown",
      "metadata": {
        "id": "rKi6v37Xtoxc"
      },
      "source": [
        "Тестирование на валидационных и тестовых данных"
      ]
    },
    {
      "cell_type": "code",
      "metadata": {
        "colab": {
          "base_uri": "https://localhost:8080/"
        },
        "id": "TRHkfCKHe0d7",
        "outputId": "62fd2fd3-b995-41ed-dbbd-1b6d58c2c324"
      },
      "source": [
        "!python ./BertSum/src/train.py -mode validate -bert_data_path ./BertSum/bert_data/cnndm -model_path ../models/bert_classifier  -visible_gpus 0  -gpu_ranks 0 -batch_size 30000  -log_file ./BertSum/logs/bert_classifier_valid  -result_path ./BertSum/results/cnndm -test_all -block_trigram true -bert_config_path ./BertSum/bert_config_uncased_base.json"
      ],
      "execution_count": null,
      "outputs": [
        {
          "output_type": "stream",
          "name": "stdout",
          "text": [
            "[2021-11-17 23:27:44,858 INFO] Loading checkpoint from ../models/bert_classifier/model_step_50.pt\n",
            "Namespace(accum_count=1, batch_size=30000, bert_config_path='./BertSum/bert_config_uncased_base.json', bert_data_path='./BertSum/bert_data/cnndm', beta1=0.9, beta2=0.999, block_trigram=True, dataset='', decay_method='', dropout=0.1, encoder='classifier', ff_size=512, gpu_ranks=[0], heads=4, hidden_size=128, inter_layers=2, log_file='./BertSum/logs/bert_classifier_valid', lr=1, max_grad_norm=0, mode='validate', model_path='../models/bert_classifier', optim='adam', param_init=0, param_init_glorot=True, recall_eval=False, report_every=1, report_rouge=True, result_path='./BertSum/results/cnndm', rnn_size=512, save_checkpoint_steps=5, seed=666, temp_dir='../temp', test_all=True, test_from='', train_from='', train_steps=1000, use_interval=True, visible_gpus='0', warmup_steps=8000, world_size=1)\n",
            "[2021-11-17 23:27:49,856 INFO] Loading valid dataset from ./BertSum/bert_data/cnndm.valid.0.bert.pt, number of examples: 2001\n",
            "gpu_rank 0\n",
            "[2021-11-17 23:27:49,860 INFO] * number of parameters: 109483009\n",
            "[2021-11-17 23:28:28,287 INFO] Loading valid dataset from ./BertSum/bert_data/cnndm.valid.1.bert.pt, number of examples: 2001\n",
            "[2021-11-17 23:29:06,712 INFO] Loading valid dataset from ./BertSum/bert_data/cnndm.valid.2.bert.pt, number of examples: 2001\n",
            "[2021-11-17 23:29:44,756 INFO] Loading valid dataset from ./BertSum/bert_data/cnndm.valid.3.bert.pt, number of examples: 2000\n",
            "[2021-11-17 23:30:23,148 INFO] Loading valid dataset from ./BertSum/bert_data/cnndm.valid.4.bert.pt, number of examples: 2001\n",
            "[2021-11-17 23:31:01,285 INFO] Loading valid dataset from ./BertSum/bert_data/cnndm.valid.5.bert.pt, number of examples: 2001\n",
            "[2021-11-17 23:31:39,656 INFO] Loading valid dataset from ./BertSum/bert_data/cnndm.valid.6.bert.pt, number of examples: 1362\n",
            "[2021-11-17 23:32:05,432 INFO] Validation xent: 13.2987 at step 50\n",
            "[2021-11-17 23:32:05,496 INFO] Loading checkpoint from ../models/bert_classifier/model_step_100.pt\n",
            "Namespace(accum_count=1, batch_size=30000, bert_config_path='./BertSum/bert_config_uncased_base.json', bert_data_path='./BertSum/bert_data/cnndm', beta1=0.9, beta2=0.999, block_trigram=True, dataset='', decay_method='', dropout=0.1, encoder='classifier', ff_size=512, gpu_ranks=[0], heads=4, hidden_size=128, inter_layers=2, log_file='./BertSum/logs/bert_classifier_valid', lr=1, max_grad_norm=0, mode='validate', model_path='../models/bert_classifier', optim='adam', param_init=0, param_init_glorot=True, recall_eval=False, report_every=1, report_rouge=True, result_path='./BertSum/results/cnndm', rnn_size=512, save_checkpoint_steps=5, seed=666, temp_dir='../temp', test_all=True, test_from='', train_from='', train_steps=1000, use_interval=True, visible_gpus='0', warmup_steps=8000, world_size=1)\n",
            "[2021-11-17 23:32:08,318 INFO] Loading valid dataset from ./BertSum/bert_data/cnndm.valid.0.bert.pt, number of examples: 2001\n",
            "gpu_rank 0\n",
            "[2021-11-17 23:32:08,321 INFO] * number of parameters: 109483009\n",
            "[2021-11-17 23:32:46,664 INFO] Loading valid dataset from ./BertSum/bert_data/cnndm.valid.1.bert.pt, number of examples: 2001\n",
            "[2021-11-17 23:33:25,022 INFO] Loading valid dataset from ./BertSum/bert_data/cnndm.valid.2.bert.pt, number of examples: 2001\n",
            "[2021-11-17 23:34:02,975 INFO] Loading valid dataset from ./BertSum/bert_data/cnndm.valid.3.bert.pt, number of examples: 2000\n",
            "[2021-11-17 23:34:41,292 INFO] Loading valid dataset from ./BertSum/bert_data/cnndm.valid.4.bert.pt, number of examples: 2001\n",
            "[2021-11-17 23:35:19,355 INFO] Loading valid dataset from ./BertSum/bert_data/cnndm.valid.5.bert.pt, number of examples: 2001\n",
            "[2021-11-17 23:35:57,656 INFO] Loading valid dataset from ./BertSum/bert_data/cnndm.valid.6.bert.pt, number of examples: 1362\n",
            "[2021-11-17 23:36:23,430 INFO] Validation xent: 10.689 at step 100\n",
            "[2021-11-17 23:36:23,458 INFO] PPL [(10.688956067691773, '../models/bert_classifier/model_step_100.pt'), (13.29868020823714, '../models/bert_classifier/model_step_50.pt')]\n",
            "[2021-11-17 23:36:23,459 INFO] Loading checkpoint from ../models/bert_classifier/model_step_100.pt\n",
            "Namespace(accum_count=1, batch_size=30000, bert_config_path='./BertSum/bert_config_uncased_base.json', bert_data_path='./BertSum/bert_data/cnndm', beta1=0.9, beta2=0.999, block_trigram=True, dataset='', decay_method='', dropout=0.1, encoder='classifier', ff_size=512, gpu_ranks=[0], heads=4, hidden_size=128, inter_layers=2, log_file='./BertSum/logs/bert_classifier_valid', lr=1, max_grad_norm=0, mode='validate', model_path='../models/bert_classifier', optim='adam', param_init=0, param_init_glorot=True, recall_eval=False, report_every=1, report_rouge=True, result_path='./BertSum/results/cnndm', rnn_size=512, save_checkpoint_steps=5, seed=666, temp_dir='../temp', test_all=True, test_from='', train_from='', train_steps=1000, use_interval=True, visible_gpus='0', warmup_steps=8000, world_size=1)\n",
            "[2021-11-17 23:36:26,362 INFO] Loading test dataset from ./BertSum/bert_data/cnndm.test.0.bert.pt, number of examples: 2001\n",
            "gpu_rank 0\n",
            "[2021-11-17 23:36:26,365 INFO] * number of parameters: 109483009\n",
            "[2021-11-17 23:37:04,409 INFO] Loading test dataset from ./BertSum/bert_data/cnndm.test.1.bert.pt, number of examples: 2001\n",
            "[2021-11-17 23:37:42,975 INFO] Loading test dataset from ./BertSum/bert_data/cnndm.test.2.bert.pt, number of examples: 2001\n",
            "[2021-11-17 23:38:21,205 INFO] Loading test dataset from ./BertSum/bert_data/cnndm.test.3.bert.pt, number of examples: 2001\n",
            "[2021-11-17 23:38:59,643 INFO] Loading test dataset from ./BertSum/bert_data/cnndm.test.4.bert.pt, number of examples: 2000\n",
            "[2021-11-17 23:39:37,842 INFO] Loading test dataset from ./BertSum/bert_data/cnndm.test.5.bert.pt, number of examples: 1485\n",
            "11489\n",
            "11489\n",
            "Traceback (most recent call last):\n",
            "  File \"./BertSum/src/train.py\", line 342, in <module>\n",
            "    wait_and_validate(args, device_id)\n",
            "  File \"./BertSum/src/train.py\", line 138, in wait_and_validate\n",
            "    test(args,  device_id, cp, step)\n",
            "  File \"./BertSum/src/train.py\", line 216, in test\n",
            "    trainer.test(test_iter,step)\n",
            "  File \"/content/BertSum/src/models/trainer.py\", line 297, in test\n",
            "    rouges = test_rouge(self.args.temp_dir, can_path, gold_path)\n",
            "  File \"/content/BertSum/src/others/utils.py\", line 79, in test_rouge\n",
            "    r = pyrouge.Rouge155(temp_dir=temp_dir)\n",
            "  File \"/content/BertSum/src/others/pyrouge.py\", line 123, in __init__\n",
            "    self.__set_rouge_dir(rouge_dir)\n",
            "  File \"/content/BertSum/src/others/pyrouge.py\", line 439, in __set_rouge_dir\n",
            "    self._home_dir = self.__get_rouge_home_dir_from_settings()\n",
            "  File \"/content/BertSum/src/others/pyrouge.py\", line 453, in __get_rouge_home_dir_from_settings\n",
            "    with open(self._settings_file) as f:\n",
            "FileNotFoundError: [Errno 2] No such file or directory: '/root/.pyrouge/settings.ini'\n"
          ]
        }
      ]
    },
    {
      "cell_type": "markdown",
      "metadata": {
        "id": "5bMwT9eHtoxc"
      },
      "source": [
        "Примеры summary"
      ]
    },
    {
      "cell_type": "code",
      "metadata": {
        "id": "5mVQNPzaHBDZ"
      },
      "source": [
        "# extracted summary\n",
        "N = 20\n",
        "with open(\"./BertSum/results/cnndm_step100.candidate\") as f:\n",
        "    dec = [next(f) for x in range(N)]"
      ],
      "execution_count": null,
      "outputs": []
    },
    {
      "cell_type": "code",
      "metadata": {
        "id": "ONnGsk_6YC8T"
      },
      "source": [
        "# target summary\n",
        "N = 20\n",
        "with open(\"/content/BertSum/results/cnndm_step100.gold\") as f:\n",
        "    ref = [next(f) for x in range(N)]"
      ],
      "execution_count": null,
      "outputs": []
    },
    {
      "cell_type": "code",
      "metadata": {
        "colab": {
          "base_uri": "https://localhost:8080/"
        },
        "id": "sTUMy-7lTROZ",
        "outputId": "ba31c906-eeaa-408b-d97d-d6e051c0228f"
      },
      "source": [
        "ref[0].split('<q>')"
      ],
      "execution_count": null,
      "outputs": [
        {
          "output_type": "execute_result",
          "data": {
            "text/plain": [
              "['the 79th masters tournament gets underway at augusta national on thursday',\n",
              " 'rory mcilroy and tiger woods will be the star attractions in the field bidding for the green jacket at 2015 masters',\n",
              " 'mcilroy , justin rose , ian poulter , graeme mcdowell and more gave sportsmail the verdict on each hole at augusta',\n",
              " 'click on the brilliant interactive graphic below for details on each hole of the masters 2015 course',\n",
              " 'click here for all the latest news from the masters 2015\\n']"
            ]
          },
          "metadata": {},
          "execution_count": 68
        }
      ]
    },
    {
      "cell_type": "code",
      "metadata": {
        "colab": {
          "base_uri": "https://localhost:8080/"
        },
        "id": "vs-rkv00TNma",
        "outputId": "a5c95313-9bf2-4567-9bfc-e13b082c69c1"
      },
      "source": [
        "dec[0].split('<q>')"
      ],
      "execution_count": null,
      "outputs": [
        {
          "output_type": "execute_result",
          "data": {
            "text/plain": [
              "['to help get you in the mood for the first major of the year , rory mcilroy , ian poulter , graeme mcdowell and justin rose , plus past masters champions nick faldo and charl schwartzel , give the lowdown on every hole at the world-famous augusta national golf club .',\n",
              " 'click on the graphic below to get a closer look at what the biggest names in the game will face when they tee off on thursday .',\n",
              " 'the masters 2015 is almost here .\\n']"
            ]
          },
          "metadata": {},
          "execution_count": 69
        }
      ]
    },
    {
      "cell_type": "code",
      "metadata": {
        "colab": {
          "base_uri": "https://localhost:8080/"
        },
        "id": "QblpOaQIYdII",
        "outputId": "60baaf0a-a804-45c5-cc6d-68dbe071834a"
      },
      "source": [
        "ref[1].split('<q>')"
      ],
      "execution_count": null,
      "outputs": [
        {
          "output_type": "execute_result",
          "data": {
            "text/plain": [
              "[\"jeff powell looks ahead to saturday 's fight at the mgm grand\",\n",
              " 'floyd mayweather takes on manny pacquiao in $ 300m showdown',\n",
              " 'both fighters arrived in las vegas on tuesday with public appearances',\n",
              " 'read : mayweather makes official arrival ahead of manny pacquiao fight',\n",
              " 'al haymon : the man behind mayweather who is revolutionising boxing',\n",
              " \"mayweather vs pacquiao takes centre stage ... but who 's on the undercard ?\\n\"]"
            ]
          },
          "metadata": {},
          "execution_count": 70
        }
      ]
    },
    {
      "cell_type": "code",
      "metadata": {
        "colab": {
          "base_uri": "https://localhost:8080/"
        },
        "id": "-FpWNGk_U4E8",
        "outputId": "b9bda823-e121-480b-90b0-e0c1c7f6890e"
      },
      "source": [
        "dec[1].split('<q>')"
      ],
      "execution_count": null,
      "outputs": [
        {
          "output_type": "execute_result",
          "data": {
            "text/plain": [
              "[\"powell reflects on the pair 's arrivals on the las vegas strip and looks forward to the rest of the week .\",\n",
              " \"sportsmail 's boxing correspondent jeff powell looks ahead to saturday 's mega-fight at the mgm grand after witnessing floyd mayweather and manny pacquiao 's grand arrivals in las vegas .\",\n",
              " 'both boxers made public appearances on tuesday as their $ 300million showdown draws ever closer , and our man powell was there .\\n']"
            ]
          },
          "metadata": {},
          "execution_count": 71
        }
      ]
    },
    {
      "cell_type": "code",
      "metadata": {
        "colab": {
          "base_uri": "https://localhost:8080/"
        },
        "id": "9ZCaWmqEYgLN",
        "outputId": "e426b68e-0b36-42c3-edf3-f35a2c40edec"
      },
      "source": [
        "ref[2].split('<q>')"
      ],
      "execution_count": null,
      "outputs": [
        {
          "output_type": "execute_result",
          "data": {
            "text/plain": [
              "['gary locke has been interim manager since start of february',\n",
              " 'locke has won two and drawn four of his seven games in charge',\n",
              " 'the 37-year-old took over when allan johnston quit\\n']"
            ]
          },
          "metadata": {},
          "execution_count": 72
        }
      ]
    },
    {
      "cell_type": "code",
      "metadata": {
        "colab": {
          "base_uri": "https://localhost:8080/"
        },
        "id": "jMiC_NqjYpQS",
        "outputId": "05011048-3260-4903-dfc2-30e53bc15f47"
      },
      "source": [
        "dec[2].split('<q>')"
      ],
      "execution_count": null,
      "outputs": [
        {
          "output_type": "execute_result",
          "data": {
            "text/plain": [
              "['gary locke has been given the job at kilmarnock on a permanent basis after a successful interim spell',\n",
              " 'locke shakes hands with chairman jim mann after signing a three-year deal at the club',\n",
              " 'the former hearts boss joined the club as assistant boss to allan johnston last summer but took control of the team when his ex-tynecastle team-mate quit at the start of february .\\n']"
            ]
          },
          "metadata": {},
          "execution_count": 73
        }
      ]
    },
    {
      "cell_type": "markdown",
      "metadata": {
        "id": "FNvokgJL8Y9B"
      },
      "source": [
        "### Bert Extractive Summarizer (на основе готовой библиотеки)"
      ]
    },
    {
      "cell_type": "markdown",
      "metadata": {
        "id": "neXGfOiT8r8A"
      },
      "source": [
        "Источник: https://github.com/dmmiller612/bert-extractive-summarizer\n",
        "\n",
        "Демо: https://smrzr.io/"
      ]
    },
    {
      "cell_type": "code",
      "metadata": {
        "colab": {
          "base_uri": "https://localhost:8080/"
        },
        "id": "h9H7cnvA8saQ",
        "outputId": "b0351ac3-6f1b-4659-e557-388e3a9377c4"
      },
      "source": [
        "!pip install bert-extractive-summarizer"
      ],
      "execution_count": null,
      "outputs": [
        {
          "output_type": "stream",
          "name": "stdout",
          "text": [
            "Collecting bert-extractive-summarizer\n",
            "  Downloading bert_extractive_summarizer-0.8.1-py3-none-any.whl (19 kB)\n",
            "Requirement already satisfied: transformers in /usr/local/lib/python3.7/dist-packages (from bert-extractive-summarizer) (4.12.5)\n",
            "Requirement already satisfied: scikit-learn in /usr/local/lib/python3.7/dist-packages (from bert-extractive-summarizer) (1.0.1)\n",
            "Requirement already satisfied: spacy in /usr/local/lib/python3.7/dist-packages (from bert-extractive-summarizer) (2.2.4)\n",
            "Requirement already satisfied: scipy>=1.1.0 in /usr/local/lib/python3.7/dist-packages (from scikit-learn->bert-extractive-summarizer) (1.4.1)\n",
            "Requirement already satisfied: joblib>=0.11 in /usr/local/lib/python3.7/dist-packages (from scikit-learn->bert-extractive-summarizer) (1.1.0)\n",
            "Requirement already satisfied: threadpoolctl>=2.0.0 in /usr/local/lib/python3.7/dist-packages (from scikit-learn->bert-extractive-summarizer) (3.0.0)\n",
            "Requirement already satisfied: numpy>=1.14.6 in /usr/local/lib/python3.7/dist-packages (from scikit-learn->bert-extractive-summarizer) (1.19.5)\n",
            "Requirement already satisfied: thinc==7.4.0 in /usr/local/lib/python3.7/dist-packages (from spacy->bert-extractive-summarizer) (7.4.0)\n",
            "Requirement already satisfied: preshed<3.1.0,>=3.0.2 in /usr/local/lib/python3.7/dist-packages (from spacy->bert-extractive-summarizer) (3.0.6)\n",
            "Requirement already satisfied: blis<0.5.0,>=0.4.0 in /usr/local/lib/python3.7/dist-packages (from spacy->bert-extractive-summarizer) (0.4.1)\n",
            "Requirement already satisfied: murmurhash<1.1.0,>=0.28.0 in /usr/local/lib/python3.7/dist-packages (from spacy->bert-extractive-summarizer) (1.0.6)\n",
            "Requirement already satisfied: tqdm<5.0.0,>=4.38.0 in /usr/local/lib/python3.7/dist-packages (from spacy->bert-extractive-summarizer) (4.62.3)\n",
            "Requirement already satisfied: requests<3.0.0,>=2.13.0 in /usr/local/lib/python3.7/dist-packages (from spacy->bert-extractive-summarizer) (2.23.0)\n",
            "Requirement already satisfied: wasabi<1.1.0,>=0.4.0 in /usr/local/lib/python3.7/dist-packages (from spacy->bert-extractive-summarizer) (0.8.2)\n",
            "Requirement already satisfied: catalogue<1.1.0,>=0.0.7 in /usr/local/lib/python3.7/dist-packages (from spacy->bert-extractive-summarizer) (1.0.0)\n",
            "Requirement already satisfied: plac<1.2.0,>=0.9.6 in /usr/local/lib/python3.7/dist-packages (from spacy->bert-extractive-summarizer) (1.1.3)\n",
            "Requirement already satisfied: setuptools in /usr/local/lib/python3.7/dist-packages (from spacy->bert-extractive-summarizer) (57.4.0)\n",
            "Requirement already satisfied: srsly<1.1.0,>=1.0.2 in /usr/local/lib/python3.7/dist-packages (from spacy->bert-extractive-summarizer) (1.0.5)\n",
            "Requirement already satisfied: cymem<2.1.0,>=2.0.2 in /usr/local/lib/python3.7/dist-packages (from spacy->bert-extractive-summarizer) (2.0.6)\n",
            "Requirement already satisfied: importlib-metadata>=0.20 in /usr/local/lib/python3.7/dist-packages (from catalogue<1.1.0,>=0.0.7->spacy->bert-extractive-summarizer) (4.8.2)\n",
            "Requirement already satisfied: typing-extensions>=3.6.4 in /usr/local/lib/python3.7/dist-packages (from importlib-metadata>=0.20->catalogue<1.1.0,>=0.0.7->spacy->bert-extractive-summarizer) (3.10.0.2)\n",
            "Requirement already satisfied: zipp>=0.5 in /usr/local/lib/python3.7/dist-packages (from importlib-metadata>=0.20->catalogue<1.1.0,>=0.0.7->spacy->bert-extractive-summarizer) (3.6.0)\n",
            "Requirement already satisfied: chardet<4,>=3.0.2 in /usr/local/lib/python3.7/dist-packages (from requests<3.0.0,>=2.13.0->spacy->bert-extractive-summarizer) (3.0.4)\n",
            "Requirement already satisfied: certifi>=2017.4.17 in /usr/local/lib/python3.7/dist-packages (from requests<3.0.0,>=2.13.0->spacy->bert-extractive-summarizer) (2021.10.8)\n",
            "Requirement already satisfied: urllib3!=1.25.0,!=1.25.1,<1.26,>=1.21.1 in /usr/local/lib/python3.7/dist-packages (from requests<3.0.0,>=2.13.0->spacy->bert-extractive-summarizer) (1.24.3)\n",
            "Requirement already satisfied: idna<3,>=2.5 in /usr/local/lib/python3.7/dist-packages (from requests<3.0.0,>=2.13.0->spacy->bert-extractive-summarizer) (2.10)\n",
            "Requirement already satisfied: packaging>=20.0 in /usr/local/lib/python3.7/dist-packages (from transformers->bert-extractive-summarizer) (21.2)\n",
            "Requirement already satisfied: tokenizers<0.11,>=0.10.1 in /usr/local/lib/python3.7/dist-packages (from transformers->bert-extractive-summarizer) (0.10.3)\n",
            "Requirement already satisfied: filelock in /usr/local/lib/python3.7/dist-packages (from transformers->bert-extractive-summarizer) (3.3.2)\n",
            "Requirement already satisfied: huggingface-hub<1.0,>=0.1.0 in /usr/local/lib/python3.7/dist-packages (from transformers->bert-extractive-summarizer) (0.1.2)\n",
            "Requirement already satisfied: regex!=2019.12.17 in /usr/local/lib/python3.7/dist-packages (from transformers->bert-extractive-summarizer) (2021.11.10)\n",
            "Requirement already satisfied: sacremoses in /usr/local/lib/python3.7/dist-packages (from transformers->bert-extractive-summarizer) (0.0.46)\n",
            "Requirement already satisfied: pyyaml>=5.1 in /usr/local/lib/python3.7/dist-packages (from transformers->bert-extractive-summarizer) (6.0)\n",
            "Requirement already satisfied: pyparsing<3,>=2.0.2 in /usr/local/lib/python3.7/dist-packages (from packaging>=20.0->transformers->bert-extractive-summarizer) (2.4.7)\n",
            "Requirement already satisfied: six in /usr/local/lib/python3.7/dist-packages (from sacremoses->transformers->bert-extractive-summarizer) (1.15.0)\n",
            "Requirement already satisfied: click in /usr/local/lib/python3.7/dist-packages (from sacremoses->transformers->bert-extractive-summarizer) (7.1.2)\n",
            "Installing collected packages: bert-extractive-summarizer\n",
            "Successfully installed bert-extractive-summarizer-0.8.1\n"
          ]
        }
      ]
    },
    {
      "cell_type": "code",
      "metadata": {
        "colab": {
          "base_uri": "https://localhost:8080/",
          "height": 1000
        },
        "id": "BQqmcpea81d_",
        "outputId": "ca9097ab-05a5-4a02-d2c3-37c43b5a3129"
      },
      "source": [
        "!pip install spacy\n",
        "!pip install transformers # > 4.0.0\n",
        "!pip install neuralcoref\n",
        "\n",
        "!python -m spacy download en_core_web_md"
      ],
      "execution_count": null,
      "outputs": [
        {
          "output_type": "stream",
          "name": "stdout",
          "text": [
            "Requirement already satisfied: spacy in /usr/local/lib/python3.7/dist-packages (2.2.4)\n",
            "Requirement already satisfied: murmurhash<1.1.0,>=0.28.0 in /usr/local/lib/python3.7/dist-packages (from spacy) (1.0.6)\n",
            "Requirement already satisfied: thinc==7.4.0 in /usr/local/lib/python3.7/dist-packages (from spacy) (7.4.0)\n",
            "Requirement already satisfied: srsly<1.1.0,>=1.0.2 in /usr/local/lib/python3.7/dist-packages (from spacy) (1.0.5)\n",
            "Requirement already satisfied: blis<0.5.0,>=0.4.0 in /usr/local/lib/python3.7/dist-packages (from spacy) (0.4.1)\n",
            "Requirement already satisfied: catalogue<1.1.0,>=0.0.7 in /usr/local/lib/python3.7/dist-packages (from spacy) (1.0.0)\n",
            "Requirement already satisfied: plac<1.2.0,>=0.9.6 in /usr/local/lib/python3.7/dist-packages (from spacy) (1.1.3)\n",
            "Requirement already satisfied: setuptools in /usr/local/lib/python3.7/dist-packages (from spacy) (57.4.0)\n",
            "Requirement already satisfied: numpy>=1.15.0 in /usr/local/lib/python3.7/dist-packages (from spacy) (1.19.5)\n",
            "Requirement already satisfied: tqdm<5.0.0,>=4.38.0 in /usr/local/lib/python3.7/dist-packages (from spacy) (4.62.3)\n",
            "Requirement already satisfied: preshed<3.1.0,>=3.0.2 in /usr/local/lib/python3.7/dist-packages (from spacy) (3.0.6)\n",
            "Requirement already satisfied: requests<3.0.0,>=2.13.0 in /usr/local/lib/python3.7/dist-packages (from spacy) (2.23.0)\n",
            "Requirement already satisfied: wasabi<1.1.0,>=0.4.0 in /usr/local/lib/python3.7/dist-packages (from spacy) (0.8.2)\n",
            "Requirement already satisfied: cymem<2.1.0,>=2.0.2 in /usr/local/lib/python3.7/dist-packages (from spacy) (2.0.6)\n",
            "Requirement already satisfied: importlib-metadata>=0.20 in /usr/local/lib/python3.7/dist-packages (from catalogue<1.1.0,>=0.0.7->spacy) (4.8.2)\n",
            "Requirement already satisfied: typing-extensions>=3.6.4 in /usr/local/lib/python3.7/dist-packages (from importlib-metadata>=0.20->catalogue<1.1.0,>=0.0.7->spacy) (3.10.0.2)\n",
            "Requirement already satisfied: zipp>=0.5 in /usr/local/lib/python3.7/dist-packages (from importlib-metadata>=0.20->catalogue<1.1.0,>=0.0.7->spacy) (3.6.0)\n",
            "Requirement already satisfied: urllib3!=1.25.0,!=1.25.1,<1.26,>=1.21.1 in /usr/local/lib/python3.7/dist-packages (from requests<3.0.0,>=2.13.0->spacy) (1.24.3)\n",
            "Requirement already satisfied: idna<3,>=2.5 in /usr/local/lib/python3.7/dist-packages (from requests<3.0.0,>=2.13.0->spacy) (2.10)\n",
            "Requirement already satisfied: chardet<4,>=3.0.2 in /usr/local/lib/python3.7/dist-packages (from requests<3.0.0,>=2.13.0->spacy) (3.0.4)\n",
            "Requirement already satisfied: certifi>=2017.4.17 in /usr/local/lib/python3.7/dist-packages (from requests<3.0.0,>=2.13.0->spacy) (2021.10.8)\n",
            "Requirement already satisfied: transformers in /usr/local/lib/python3.7/dist-packages (4.12.5)\n",
            "Requirement already satisfied: pyyaml>=5.1 in /usr/local/lib/python3.7/dist-packages (from transformers) (6.0)\n",
            "Requirement already satisfied: sacremoses in /usr/local/lib/python3.7/dist-packages (from transformers) (0.0.46)\n",
            "Requirement already satisfied: importlib-metadata in /usr/local/lib/python3.7/dist-packages (from transformers) (4.8.2)\n",
            "Requirement already satisfied: regex!=2019.12.17 in /usr/local/lib/python3.7/dist-packages (from transformers) (2021.11.10)\n",
            "Requirement already satisfied: requests in /usr/local/lib/python3.7/dist-packages (from transformers) (2.23.0)\n",
            "Requirement already satisfied: huggingface-hub<1.0,>=0.1.0 in /usr/local/lib/python3.7/dist-packages (from transformers) (0.1.2)\n",
            "Requirement already satisfied: packaging>=20.0 in /usr/local/lib/python3.7/dist-packages (from transformers) (21.2)\n",
            "Requirement already satisfied: filelock in /usr/local/lib/python3.7/dist-packages (from transformers) (3.3.2)\n",
            "Requirement already satisfied: tokenizers<0.11,>=0.10.1 in /usr/local/lib/python3.7/dist-packages (from transformers) (0.10.3)\n",
            "Requirement already satisfied: numpy>=1.17 in /usr/local/lib/python3.7/dist-packages (from transformers) (1.19.5)\n",
            "Requirement already satisfied: tqdm>=4.27 in /usr/local/lib/python3.7/dist-packages (from transformers) (4.62.3)\n",
            "Requirement already satisfied: typing-extensions>=3.7.4.3 in /usr/local/lib/python3.7/dist-packages (from huggingface-hub<1.0,>=0.1.0->transformers) (3.10.0.2)\n",
            "Requirement already satisfied: pyparsing<3,>=2.0.2 in /usr/local/lib/python3.7/dist-packages (from packaging>=20.0->transformers) (2.4.7)\n",
            "Requirement already satisfied: zipp>=0.5 in /usr/local/lib/python3.7/dist-packages (from importlib-metadata->transformers) (3.6.0)\n",
            "Requirement already satisfied: idna<3,>=2.5 in /usr/local/lib/python3.7/dist-packages (from requests->transformers) (2.10)\n",
            "Requirement already satisfied: chardet<4,>=3.0.2 in /usr/local/lib/python3.7/dist-packages (from requests->transformers) (3.0.4)\n",
            "Requirement already satisfied: certifi>=2017.4.17 in /usr/local/lib/python3.7/dist-packages (from requests->transformers) (2021.10.8)\n",
            "Requirement already satisfied: urllib3!=1.25.0,!=1.25.1,<1.26,>=1.21.1 in /usr/local/lib/python3.7/dist-packages (from requests->transformers) (1.24.3)\n",
            "Requirement already satisfied: six in /usr/local/lib/python3.7/dist-packages (from sacremoses->transformers) (1.15.0)\n",
            "Requirement already satisfied: click in /usr/local/lib/python3.7/dist-packages (from sacremoses->transformers) (7.1.2)\n",
            "Requirement already satisfied: joblib in /usr/local/lib/python3.7/dist-packages (from sacremoses->transformers) (1.1.0)\n",
            "Collecting neuralcoref\n",
            "  Downloading neuralcoref-4.0-cp37-cp37m-manylinux1_x86_64.whl (286 kB)\n",
            "\u001b[K     |████████████████████████████████| 286 kB 7.5 MB/s \n",
            "\u001b[?25hRequirement already satisfied: spacy>=2.1.0 in /usr/local/lib/python3.7/dist-packages (from neuralcoref) (2.2.4)\n",
            "Requirement already satisfied: numpy>=1.15.0 in /usr/local/lib/python3.7/dist-packages (from neuralcoref) (1.19.5)\n",
            "Requirement already satisfied: requests<3.0.0,>=2.13.0 in /usr/local/lib/python3.7/dist-packages (from neuralcoref) (2.23.0)\n",
            "Collecting boto3\n",
            "  Downloading boto3-1.20.8-py3-none-any.whl (131 kB)\n",
            "\u001b[K     |████████████████████████████████| 131 kB 45.0 MB/s \n",
            "\u001b[?25hRequirement already satisfied: certifi>=2017.4.17 in /usr/local/lib/python3.7/dist-packages (from requests<3.0.0,>=2.13.0->neuralcoref) (2021.10.8)\n",
            "Requirement already satisfied: chardet<4,>=3.0.2 in /usr/local/lib/python3.7/dist-packages (from requests<3.0.0,>=2.13.0->neuralcoref) (3.0.4)\n",
            "Requirement already satisfied: idna<3,>=2.5 in /usr/local/lib/python3.7/dist-packages (from requests<3.0.0,>=2.13.0->neuralcoref) (2.10)\n",
            "Requirement already satisfied: urllib3!=1.25.0,!=1.25.1,<1.26,>=1.21.1 in /usr/local/lib/python3.7/dist-packages (from requests<3.0.0,>=2.13.0->neuralcoref) (1.24.3)\n",
            "Requirement already satisfied: murmurhash<1.1.0,>=0.28.0 in /usr/local/lib/python3.7/dist-packages (from spacy>=2.1.0->neuralcoref) (1.0.6)\n",
            "Requirement already satisfied: srsly<1.1.0,>=1.0.2 in /usr/local/lib/python3.7/dist-packages (from spacy>=2.1.0->neuralcoref) (1.0.5)\n",
            "Requirement already satisfied: cymem<2.1.0,>=2.0.2 in /usr/local/lib/python3.7/dist-packages (from spacy>=2.1.0->neuralcoref) (2.0.6)\n",
            "Requirement already satisfied: thinc==7.4.0 in /usr/local/lib/python3.7/dist-packages (from spacy>=2.1.0->neuralcoref) (7.4.0)\n",
            "Requirement already satisfied: tqdm<5.0.0,>=4.38.0 in /usr/local/lib/python3.7/dist-packages (from spacy>=2.1.0->neuralcoref) (4.62.3)\n",
            "Requirement already satisfied: plac<1.2.0,>=0.9.6 in /usr/local/lib/python3.7/dist-packages (from spacy>=2.1.0->neuralcoref) (1.1.3)\n",
            "Requirement already satisfied: blis<0.5.0,>=0.4.0 in /usr/local/lib/python3.7/dist-packages (from spacy>=2.1.0->neuralcoref) (0.4.1)\n",
            "Requirement already satisfied: preshed<3.1.0,>=3.0.2 in /usr/local/lib/python3.7/dist-packages (from spacy>=2.1.0->neuralcoref) (3.0.6)\n",
            "Requirement already satisfied: catalogue<1.1.0,>=0.0.7 in /usr/local/lib/python3.7/dist-packages (from spacy>=2.1.0->neuralcoref) (1.0.0)\n",
            "Requirement already satisfied: wasabi<1.1.0,>=0.4.0 in /usr/local/lib/python3.7/dist-packages (from spacy>=2.1.0->neuralcoref) (0.8.2)\n",
            "Requirement already satisfied: setuptools in /usr/local/lib/python3.7/dist-packages (from spacy>=2.1.0->neuralcoref) (57.4.0)\n",
            "Requirement already satisfied: importlib-metadata>=0.20 in /usr/local/lib/python3.7/dist-packages (from catalogue<1.1.0,>=0.0.7->spacy>=2.1.0->neuralcoref) (4.8.2)\n",
            "Requirement already satisfied: zipp>=0.5 in /usr/local/lib/python3.7/dist-packages (from importlib-metadata>=0.20->catalogue<1.1.0,>=0.0.7->spacy>=2.1.0->neuralcoref) (3.6.0)\n",
            "Requirement already satisfied: typing-extensions>=3.6.4 in /usr/local/lib/python3.7/dist-packages (from importlib-metadata>=0.20->catalogue<1.1.0,>=0.0.7->spacy>=2.1.0->neuralcoref) (3.10.0.2)\n",
            "Collecting s3transfer<0.6.0,>=0.5.0\n",
            "  Downloading s3transfer-0.5.0-py3-none-any.whl (79 kB)\n",
            "\u001b[K     |████████████████████████████████| 79 kB 7.5 MB/s \n",
            "\u001b[?25hCollecting botocore<1.24.0,>=1.23.8\n",
            "  Downloading botocore-1.23.8-py3-none-any.whl (8.2 MB)\n",
            "\u001b[K     |████████████████████████████████| 8.2 MB 32.4 MB/s \n",
            "\u001b[?25hCollecting jmespath<1.0.0,>=0.7.1\n",
            "  Downloading jmespath-0.10.0-py2.py3-none-any.whl (24 kB)\n",
            "Collecting urllib3!=1.25.0,!=1.25.1,<1.26,>=1.21.1\n",
            "  Downloading urllib3-1.25.11-py2.py3-none-any.whl (127 kB)\n",
            "\u001b[K     |████████████████████████████████| 127 kB 52.0 MB/s \n",
            "\u001b[?25hRequirement already satisfied: python-dateutil<3.0.0,>=2.1 in /usr/local/lib/python3.7/dist-packages (from botocore<1.24.0,>=1.23.8->boto3->neuralcoref) (2.8.2)\n",
            "Requirement already satisfied: six>=1.5 in /usr/local/lib/python3.7/dist-packages (from python-dateutil<3.0.0,>=2.1->botocore<1.24.0,>=1.23.8->boto3->neuralcoref) (1.15.0)\n",
            "Installing collected packages: urllib3, jmespath, botocore, s3transfer, boto3, neuralcoref\n",
            "  Attempting uninstall: urllib3\n",
            "    Found existing installation: urllib3 1.24.3\n",
            "    Uninstalling urllib3-1.24.3:\n",
            "      Successfully uninstalled urllib3-1.24.3\n",
            "\u001b[31mERROR: pip's dependency resolver does not currently take into account all the packages that are installed. This behaviour is the source of the following dependency conflicts.\n",
            "datascience 0.10.6 requires folium==0.2.1, but you have folium 0.8.3 which is incompatible.\u001b[0m\n",
            "Successfully installed boto3-1.20.8 botocore-1.23.8 jmespath-0.10.0 neuralcoref-4.0 s3transfer-0.5.0 urllib3-1.25.11\n"
          ]
        },
        {
          "output_type": "display_data",
          "data": {
            "application/vnd.colab-display-data+json": {
              "pip_warning": {
                "packages": [
                  "urllib3"
                ]
              }
            }
          },
          "metadata": {}
        },
        {
          "output_type": "stream",
          "name": "stdout",
          "text": [
            "Collecting en_core_web_md==2.2.5\n",
            "  Downloading https://github.com/explosion/spacy-models/releases/download/en_core_web_md-2.2.5/en_core_web_md-2.2.5.tar.gz (96.4 MB)\n",
            "\u001b[K     |████████████████████████████████| 96.4 MB 2.5 MB/s \n",
            "\u001b[?25hRequirement already satisfied: spacy>=2.2.2 in /usr/local/lib/python3.7/dist-packages (from en_core_web_md==2.2.5) (2.2.4)\n",
            "Requirement already satisfied: blis<0.5.0,>=0.4.0 in /usr/local/lib/python3.7/dist-packages (from spacy>=2.2.2->en_core_web_md==2.2.5) (0.4.1)\n",
            "Requirement already satisfied: plac<1.2.0,>=0.9.6 in /usr/local/lib/python3.7/dist-packages (from spacy>=2.2.2->en_core_web_md==2.2.5) (1.1.3)\n",
            "Requirement already satisfied: srsly<1.1.0,>=1.0.2 in /usr/local/lib/python3.7/dist-packages (from spacy>=2.2.2->en_core_web_md==2.2.5) (1.0.5)\n",
            "Requirement already satisfied: tqdm<5.0.0,>=4.38.0 in /usr/local/lib/python3.7/dist-packages (from spacy>=2.2.2->en_core_web_md==2.2.5) (4.62.3)\n",
            "Requirement already satisfied: wasabi<1.1.0,>=0.4.0 in /usr/local/lib/python3.7/dist-packages (from spacy>=2.2.2->en_core_web_md==2.2.5) (0.8.2)\n",
            "Requirement already satisfied: preshed<3.1.0,>=3.0.2 in /usr/local/lib/python3.7/dist-packages (from spacy>=2.2.2->en_core_web_md==2.2.5) (3.0.6)\n",
            "Requirement already satisfied: thinc==7.4.0 in /usr/local/lib/python3.7/dist-packages (from spacy>=2.2.2->en_core_web_md==2.2.5) (7.4.0)\n",
            "Requirement already satisfied: numpy>=1.15.0 in /usr/local/lib/python3.7/dist-packages (from spacy>=2.2.2->en_core_web_md==2.2.5) (1.19.5)\n",
            "Requirement already satisfied: requests<3.0.0,>=2.13.0 in /usr/local/lib/python3.7/dist-packages (from spacy>=2.2.2->en_core_web_md==2.2.5) (2.23.0)\n",
            "Requirement already satisfied: cymem<2.1.0,>=2.0.2 in /usr/local/lib/python3.7/dist-packages (from spacy>=2.2.2->en_core_web_md==2.2.5) (2.0.6)\n",
            "Requirement already satisfied: murmurhash<1.1.0,>=0.28.0 in /usr/local/lib/python3.7/dist-packages (from spacy>=2.2.2->en_core_web_md==2.2.5) (1.0.6)\n",
            "Requirement already satisfied: setuptools in /usr/local/lib/python3.7/dist-packages (from spacy>=2.2.2->en_core_web_md==2.2.5) (57.4.0)\n",
            "Requirement already satisfied: catalogue<1.1.0,>=0.0.7 in /usr/local/lib/python3.7/dist-packages (from spacy>=2.2.2->en_core_web_md==2.2.5) (1.0.0)\n",
            "Requirement already satisfied: importlib-metadata>=0.20 in /usr/local/lib/python3.7/dist-packages (from catalogue<1.1.0,>=0.0.7->spacy>=2.2.2->en_core_web_md==2.2.5) (4.8.2)\n",
            "Requirement already satisfied: zipp>=0.5 in /usr/local/lib/python3.7/dist-packages (from importlib-metadata>=0.20->catalogue<1.1.0,>=0.0.7->spacy>=2.2.2->en_core_web_md==2.2.5) (3.6.0)\n",
            "Requirement already satisfied: typing-extensions>=3.6.4 in /usr/local/lib/python3.7/dist-packages (from importlib-metadata>=0.20->catalogue<1.1.0,>=0.0.7->spacy>=2.2.2->en_core_web_md==2.2.5) (3.10.0.2)\n",
            "Requirement already satisfied: certifi>=2017.4.17 in /usr/local/lib/python3.7/dist-packages (from requests<3.0.0,>=2.13.0->spacy>=2.2.2->en_core_web_md==2.2.5) (2021.10.8)\n",
            "Requirement already satisfied: urllib3!=1.25.0,!=1.25.1,<1.26,>=1.21.1 in /usr/local/lib/python3.7/dist-packages (from requests<3.0.0,>=2.13.0->spacy>=2.2.2->en_core_web_md==2.2.5) (1.25.11)\n",
            "Requirement already satisfied: idna<3,>=2.5 in /usr/local/lib/python3.7/dist-packages (from requests<3.0.0,>=2.13.0->spacy>=2.2.2->en_core_web_md==2.2.5) (2.10)\n",
            "Requirement already satisfied: chardet<4,>=3.0.2 in /usr/local/lib/python3.7/dist-packages (from requests<3.0.0,>=2.13.0->spacy>=2.2.2->en_core_web_md==2.2.5) (3.0.4)\n",
            "Building wheels for collected packages: en-core-web-md\n",
            "  Building wheel for en-core-web-md (setup.py) ... \u001b[?25l\u001b[?25hdone\n",
            "  Created wheel for en-core-web-md: filename=en_core_web_md-2.2.5-py3-none-any.whl size=98051302 sha256=4bf949fddda50edd7940258c45f4bfc4306be31a07e036e81dbb12d39f5deb27\n",
            "  Stored in directory: /tmp/pip-ephem-wheel-cache-bzordc3v/wheels/69/c5/b8/4f1c029d89238734311b3269762ab2ee325a42da2ce8edb997\n",
            "Successfully built en-core-web-md\n",
            "Installing collected packages: en-core-web-md\n",
            "Successfully installed en-core-web-md-2.2.5\n",
            "\u001b[38;5;2m✔ Download and installation successful\u001b[0m\n",
            "You can now load the model via spacy.load('en_core_web_md')\n"
          ]
        }
      ]
    },
    {
      "cell_type": "markdown",
      "metadata": {
        "id": "TJOmbrw98-a_"
      },
      "source": [
        "Пример использования библиотеки:"
      ]
    },
    {
      "cell_type": "code",
      "metadata": {
        "id": "u5i9DPY8-VSN"
      },
      "source": [
        "text = '''Rice Pudding - Poem by Alan Alexander Milne \n",
        "What is the matter with Mary Jane?\n",
        "She's crying with all her might and main,\n",
        "And she won't eat her dinner - rice pudding again -\n",
        "What is the matter with Mary Jane?\n",
        "What is the matter with Mary Jane?\n",
        "I've promised her dolls and a daisy-chain,\n",
        "And a book about animals - all in vain -\n",
        "What is the matter with Mary Jane?\n",
        "What is the matter with Mary Jane?\n",
        "She's perfectly well, and she hasn't a pain;\n",
        "But, look at her, now she's beginning again! -\n",
        "What is the matter with Mary Jane?\n",
        "What is the matter with Mary Jane?\n",
        "I've promised her sweets and a ride in the train,\n",
        "And I've begged her to stop for a bit and explain -\n",
        "What is the matter with Mary Jane?\n",
        "What is the matter with Mary Jane?\n",
        "She's perfectly well and she hasn't a pain,\n",
        "And it's lovely rice pudding for dinner again!\n",
        "What is the matter with Mary Jane?'''"
      ],
      "execution_count": null,
      "outputs": []
    },
    {
      "cell_type": "code",
      "metadata": {
        "colab": {
          "base_uri": "https://localhost:8080/",
          "height": 122
        },
        "id": "Cl3TBjkx9BtY",
        "outputId": "04cd7e6c-7ea5-4ea8-9a8a-80ff02688138"
      },
      "source": [
        "from summarizer import Summarizer\n",
        "\n",
        "model = Summarizer()\n",
        "print(model(text))"
      ],
      "execution_count": null,
      "outputs": [
        {
          "output_type": "stream",
          "name": "stderr",
          "text": [
            "Some weights of the model checkpoint at bert-large-uncased were not used when initializing BertModel: ['cls.predictions.transform.LayerNorm.weight', 'cls.seq_relationship.weight', 'cls.predictions.transform.LayerNorm.bias', 'cls.predictions.bias', 'cls.predictions.transform.dense.weight', 'cls.predictions.transform.dense.bias', 'cls.predictions.decoder.weight', 'cls.seq_relationship.bias']\n",
            "- This IS expected if you are initializing BertModel from the checkpoint of a model trained on another task or with another architecture (e.g. initializing a BertForSequenceClassification model from a BertForPreTraining model).\n",
            "- This IS NOT expected if you are initializing BertModel from the checkpoint of a model that you expect to be exactly identical (initializing a BertForSequenceClassification model from a BertForSequenceClassification model).\n"
          ]
        },
        {
          "output_type": "execute_result",
          "data": {
            "application/vnd.google.colaboratory.intrinsic+json": {
              "type": "string"
            },
            "text/plain": [
              "\"Rice Pudding - Poem by Alan Alexander Milne \\nWhat is the matter with Mary Jane? I've promised her sweets and a ride in the train,\\nAnd I've begged her to stop for a bit and explain -\\nWhat is the matter with Mary Jane?\""
            ]
          },
          "metadata": {},
          "execution_count": 55
        }
      ]
    },
    {
      "cell_type": "markdown",
      "metadata": {
        "id": "CABg7Sfd9X8M"
      },
      "source": [
        "Можно задать в параметрах, какой процент исходного текста мы хотим оставить или сколько предложений хотим увидеть в итоговом саммари."
      ]
    },
    {
      "cell_type": "code",
      "metadata": {
        "colab": {
          "base_uri": "https://localhost:8080/"
        },
        "id": "yjodkNOc9W3v",
        "outputId": "11eb91b9-a800-454e-8f42-b93d7196e510"
      },
      "source": [
        "from summarizer import Summarizer\n",
        "\n",
        "model = Summarizer()\n",
        "result = model(text, ratio=0.2)  # Specified with \n",
        "print(f\"Summary with ratio:\\n{result}\")"
      ],
      "execution_count": null,
      "outputs": [
        {
          "output_type": "stream",
          "name": "stderr",
          "text": [
            "Some weights of the model checkpoint at bert-large-uncased were not used when initializing BertModel: ['cls.predictions.transform.LayerNorm.weight', 'cls.seq_relationship.weight', 'cls.predictions.transform.LayerNorm.bias', 'cls.predictions.bias', 'cls.predictions.transform.dense.weight', 'cls.predictions.transform.dense.bias', 'cls.predictions.decoder.weight', 'cls.seq_relationship.bias']\n",
            "- This IS expected if you are initializing BertModel from the checkpoint of a model trained on another task or with another architecture (e.g. initializing a BertForSequenceClassification model from a BertForPreTraining model).\n",
            "- This IS NOT expected if you are initializing BertModel from the checkpoint of a model that you expect to be exactly identical (initializing a BertForSequenceClassification model from a BertForSequenceClassification model).\n"
          ]
        },
        {
          "output_type": "stream",
          "name": "stdout",
          "text": [
            "Summary with ratio:\n",
            "Rice Pudding - Poem by Alan Alexander Milne \n",
            "What is the matter with Mary Jane? I've promised her sweets and a ride in the train,\n",
            "And I've begged her to stop for a bit and explain -\n",
            "What is the matter with Mary Jane?\n"
          ]
        }
      ]
    },
    {
      "cell_type": "code",
      "metadata": {
        "colab": {
          "base_uri": "https://localhost:8080/"
        },
        "id": "oE_JqQwD-udy",
        "outputId": "befa86da-fb95-4c5f-9c4c-75d19cc4ff7c"
      },
      "source": [
        "result = model(text, num_sentences=3)  # Will return 3 sentences \n",
        "print(f\"Summary with sentence number:\\n{result}\")"
      ],
      "execution_count": null,
      "outputs": [
        {
          "output_type": "stream",
          "name": "stdout",
          "text": [
            "Summary with sentence number:\n",
            "Rice Pudding - Poem by Alan Alexander Milne \n",
            "What is the matter with Mary Jane? She's perfectly well, and she hasn't a pain;\n",
            "But, look at her, now she's beginning again! - I've promised her sweets and a ride in the train,\n",
            "And I've begged her to stop for a bit and explain -\n",
            "What is the matter with Mary Jane?\n"
          ]
        }
      ]
    }
  ]
}