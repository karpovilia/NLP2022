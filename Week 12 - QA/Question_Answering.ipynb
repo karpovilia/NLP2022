{
  "nbformat": 4,
  "nbformat_minor": 0,
  "metadata": {
    "accelerator": "GPU",
    "colab": {
      "provenance": [],
      "collapsed_sections": [
        "aIIDHd9FyFmp",
        "KAQeh_nlyFmr",
        "1ZU1QkCTyFmu",
        "oxGrE9A0kSB6",
        "H143mUv97Glj",
        "UQADlhyy_ZHX"
      ]
    },
    "kernelspec": {
      "display_name": "Python 3",
      "language": "python",
      "name": "python3"
    },
    "language_info": {
      "codemirror_mode": {
        "name": "ipython",
        "version": 3
      },
      "file_extension": ".py",
      "mimetype": "text/x-python",
      "name": "python",
      "nbconvert_exporter": "python",
      "pygments_lexer": "ipython3",
      "version": "3.6.4"
    },
    "widgets": {
      "application/vnd.jupyter.widget-state+json": {
        "ff8d46c194eb4173999966afe6bd6836": {
          "model_module": "@jupyter-widgets/controls",
          "model_name": "HBoxModel",
          "model_module_version": "1.5.0",
          "state": {
            "_view_name": "HBoxView",
            "_dom_classes": [],
            "_model_name": "HBoxModel",
            "_view_module": "@jupyter-widgets/controls",
            "_model_module_version": "1.5.0",
            "_view_count": null,
            "_view_module_version": "1.5.0",
            "box_style": "",
            "layout": "IPY_MODEL_6791ba2d12ca4772a299c179911858cb",
            "_model_module": "@jupyter-widgets/controls",
            "children": [
              "IPY_MODEL_e40a9bfca9f54a83929a59428be65fec",
              "IPY_MODEL_ff0accb6def641bbbe36c747ade191be",
              "IPY_MODEL_ee7eaca52b0c496384addb0a242ac723"
            ]
          }
        },
        "6791ba2d12ca4772a299c179911858cb": {
          "model_module": "@jupyter-widgets/base",
          "model_name": "LayoutModel",
          "model_module_version": "1.2.0",
          "state": {
            "_view_name": "LayoutView",
            "grid_template_rows": null,
            "right": null,
            "justify_content": null,
            "_view_module": "@jupyter-widgets/base",
            "overflow": null,
            "_model_module_version": "1.2.0",
            "_view_count": null,
            "flex_flow": null,
            "width": null,
            "min_width": null,
            "border": null,
            "align_items": null,
            "bottom": null,
            "_model_module": "@jupyter-widgets/base",
            "top": null,
            "grid_column": null,
            "overflow_y": null,
            "overflow_x": null,
            "grid_auto_flow": null,
            "grid_area": null,
            "grid_template_columns": null,
            "flex": null,
            "_model_name": "LayoutModel",
            "justify_items": null,
            "grid_row": null,
            "max_height": null,
            "align_content": null,
            "visibility": null,
            "align_self": null,
            "height": null,
            "min_height": null,
            "padding": null,
            "grid_auto_rows": null,
            "grid_gap": null,
            "max_width": null,
            "order": null,
            "_view_module_version": "1.2.0",
            "grid_template_areas": null,
            "object_position": null,
            "object_fit": null,
            "grid_auto_columns": null,
            "margin": null,
            "display": null,
            "left": null
          }
        },
        "e40a9bfca9f54a83929a59428be65fec": {
          "model_module": "@jupyter-widgets/controls",
          "model_name": "HTMLModel",
          "model_module_version": "1.5.0",
          "state": {
            "_view_name": "HTMLView",
            "style": "IPY_MODEL_ba333669e884475ea8ffa370eecf682f",
            "_dom_classes": [],
            "description": "",
            "_model_name": "HTMLModel",
            "placeholder": "​",
            "_view_module": "@jupyter-widgets/controls",
            "_model_module_version": "1.5.0",
            "value": "Downloading: 100%",
            "_view_count": null,
            "_view_module_version": "1.5.0",
            "description_tooltip": null,
            "_model_module": "@jupyter-widgets/controls",
            "layout": "IPY_MODEL_640007f6f2904e4daccda5b8707ad8ae"
          }
        },
        "ff0accb6def641bbbe36c747ade191be": {
          "model_module": "@jupyter-widgets/controls",
          "model_name": "FloatProgressModel",
          "model_module_version": "1.5.0",
          "state": {
            "_view_name": "ProgressView",
            "style": "IPY_MODEL_5a3747575e9d4d8988652e35a70a41fb",
            "_dom_classes": [],
            "description": "",
            "_model_name": "FloatProgressModel",
            "bar_style": "success",
            "max": 231508,
            "_view_module": "@jupyter-widgets/controls",
            "_model_module_version": "1.5.0",
            "value": 231508,
            "_view_count": null,
            "_view_module_version": "1.5.0",
            "orientation": "horizontal",
            "min": 0,
            "description_tooltip": null,
            "_model_module": "@jupyter-widgets/controls",
            "layout": "IPY_MODEL_668506461ba04dd4a1e41737bf1b34c3"
          }
        },
        "ee7eaca52b0c496384addb0a242ac723": {
          "model_module": "@jupyter-widgets/controls",
          "model_name": "HTMLModel",
          "model_module_version": "1.5.0",
          "state": {
            "_view_name": "HTMLView",
            "style": "IPY_MODEL_0d52aaf1e7bc45049703fcc8ba863db3",
            "_dom_classes": [],
            "description": "",
            "_model_name": "HTMLModel",
            "placeholder": "​",
            "_view_module": "@jupyter-widgets/controls",
            "_model_module_version": "1.5.0",
            "value": " 226k/226k [00:00&lt;00:00, 5.57kB/s]",
            "_view_count": null,
            "_view_module_version": "1.5.0",
            "description_tooltip": null,
            "_model_module": "@jupyter-widgets/controls",
            "layout": "IPY_MODEL_aad6332ef65a4828b04d9627fa483783"
          }
        },
        "ba333669e884475ea8ffa370eecf682f": {
          "model_module": "@jupyter-widgets/controls",
          "model_name": "DescriptionStyleModel",
          "model_module_version": "1.5.0",
          "state": {
            "_view_name": "StyleView",
            "_model_name": "DescriptionStyleModel",
            "description_width": "",
            "_view_module": "@jupyter-widgets/base",
            "_model_module_version": "1.5.0",
            "_view_count": null,
            "_view_module_version": "1.2.0",
            "_model_module": "@jupyter-widgets/controls"
          }
        },
        "640007f6f2904e4daccda5b8707ad8ae": {
          "model_module": "@jupyter-widgets/base",
          "model_name": "LayoutModel",
          "model_module_version": "1.2.0",
          "state": {
            "_view_name": "LayoutView",
            "grid_template_rows": null,
            "right": null,
            "justify_content": null,
            "_view_module": "@jupyter-widgets/base",
            "overflow": null,
            "_model_module_version": "1.2.0",
            "_view_count": null,
            "flex_flow": null,
            "width": null,
            "min_width": null,
            "border": null,
            "align_items": null,
            "bottom": null,
            "_model_module": "@jupyter-widgets/base",
            "top": null,
            "grid_column": null,
            "overflow_y": null,
            "overflow_x": null,
            "grid_auto_flow": null,
            "grid_area": null,
            "grid_template_columns": null,
            "flex": null,
            "_model_name": "LayoutModel",
            "justify_items": null,
            "grid_row": null,
            "max_height": null,
            "align_content": null,
            "visibility": null,
            "align_self": null,
            "height": null,
            "min_height": null,
            "padding": null,
            "grid_auto_rows": null,
            "grid_gap": null,
            "max_width": null,
            "order": null,
            "_view_module_version": "1.2.0",
            "grid_template_areas": null,
            "object_position": null,
            "object_fit": null,
            "grid_auto_columns": null,
            "margin": null,
            "display": null,
            "left": null
          }
        },
        "5a3747575e9d4d8988652e35a70a41fb": {
          "model_module": "@jupyter-widgets/controls",
          "model_name": "ProgressStyleModel",
          "model_module_version": "1.5.0",
          "state": {
            "_view_name": "StyleView",
            "_model_name": "ProgressStyleModel",
            "description_width": "",
            "_view_module": "@jupyter-widgets/base",
            "_model_module_version": "1.5.0",
            "_view_count": null,
            "_view_module_version": "1.2.0",
            "bar_color": null,
            "_model_module": "@jupyter-widgets/controls"
          }
        },
        "668506461ba04dd4a1e41737bf1b34c3": {
          "model_module": "@jupyter-widgets/base",
          "model_name": "LayoutModel",
          "model_module_version": "1.2.0",
          "state": {
            "_view_name": "LayoutView",
            "grid_template_rows": null,
            "right": null,
            "justify_content": null,
            "_view_module": "@jupyter-widgets/base",
            "overflow": null,
            "_model_module_version": "1.2.0",
            "_view_count": null,
            "flex_flow": null,
            "width": null,
            "min_width": null,
            "border": null,
            "align_items": null,
            "bottom": null,
            "_model_module": "@jupyter-widgets/base",
            "top": null,
            "grid_column": null,
            "overflow_y": null,
            "overflow_x": null,
            "grid_auto_flow": null,
            "grid_area": null,
            "grid_template_columns": null,
            "flex": null,
            "_model_name": "LayoutModel",
            "justify_items": null,
            "grid_row": null,
            "max_height": null,
            "align_content": null,
            "visibility": null,
            "align_self": null,
            "height": null,
            "min_height": null,
            "padding": null,
            "grid_auto_rows": null,
            "grid_gap": null,
            "max_width": null,
            "order": null,
            "_view_module_version": "1.2.0",
            "grid_template_areas": null,
            "object_position": null,
            "object_fit": null,
            "grid_auto_columns": null,
            "margin": null,
            "display": null,
            "left": null
          }
        },
        "0d52aaf1e7bc45049703fcc8ba863db3": {
          "model_module": "@jupyter-widgets/controls",
          "model_name": "DescriptionStyleModel",
          "model_module_version": "1.5.0",
          "state": {
            "_view_name": "StyleView",
            "_model_name": "DescriptionStyleModel",
            "description_width": "",
            "_view_module": "@jupyter-widgets/base",
            "_model_module_version": "1.5.0",
            "_view_count": null,
            "_view_module_version": "1.2.0",
            "_model_module": "@jupyter-widgets/controls"
          }
        },
        "aad6332ef65a4828b04d9627fa483783": {
          "model_module": "@jupyter-widgets/base",
          "model_name": "LayoutModel",
          "model_module_version": "1.2.0",
          "state": {
            "_view_name": "LayoutView",
            "grid_template_rows": null,
            "right": null,
            "justify_content": null,
            "_view_module": "@jupyter-widgets/base",
            "overflow": null,
            "_model_module_version": "1.2.0",
            "_view_count": null,
            "flex_flow": null,
            "width": null,
            "min_width": null,
            "border": null,
            "align_items": null,
            "bottom": null,
            "_model_module": "@jupyter-widgets/base",
            "top": null,
            "grid_column": null,
            "overflow_y": null,
            "overflow_x": null,
            "grid_auto_flow": null,
            "grid_area": null,
            "grid_template_columns": null,
            "flex": null,
            "_model_name": "LayoutModel",
            "justify_items": null,
            "grid_row": null,
            "max_height": null,
            "align_content": null,
            "visibility": null,
            "align_self": null,
            "height": null,
            "min_height": null,
            "padding": null,
            "grid_auto_rows": null,
            "grid_gap": null,
            "max_width": null,
            "order": null,
            "_view_module_version": "1.2.0",
            "grid_template_areas": null,
            "object_position": null,
            "object_fit": null,
            "grid_auto_columns": null,
            "margin": null,
            "display": null,
            "left": null
          }
        },
        "e510593352c44e0184bd2d838a653043": {
          "model_module": "@jupyter-widgets/controls",
          "model_name": "HBoxModel",
          "model_module_version": "1.5.0",
          "state": {
            "_view_name": "HBoxView",
            "_dom_classes": [],
            "_model_name": "HBoxModel",
            "_view_module": "@jupyter-widgets/controls",
            "_model_module_version": "1.5.0",
            "_view_count": null,
            "_view_module_version": "1.5.0",
            "box_style": "",
            "layout": "IPY_MODEL_cfde277b86a8466da7c83dc88c99fa4c",
            "_model_module": "@jupyter-widgets/controls",
            "children": [
              "IPY_MODEL_fbf464a81c7b4ff188c9e51dde3a50cf",
              "IPY_MODEL_5a24e884783a46e996a8181445f6cd54",
              "IPY_MODEL_330946de9bda4bd8a79ddeccdbef8370"
            ]
          }
        },
        "cfde277b86a8466da7c83dc88c99fa4c": {
          "model_module": "@jupyter-widgets/base",
          "model_name": "LayoutModel",
          "model_module_version": "1.2.0",
          "state": {
            "_view_name": "LayoutView",
            "grid_template_rows": null,
            "right": null,
            "justify_content": null,
            "_view_module": "@jupyter-widgets/base",
            "overflow": null,
            "_model_module_version": "1.2.0",
            "_view_count": null,
            "flex_flow": null,
            "width": null,
            "min_width": null,
            "border": null,
            "align_items": null,
            "bottom": null,
            "_model_module": "@jupyter-widgets/base",
            "top": null,
            "grid_column": null,
            "overflow_y": null,
            "overflow_x": null,
            "grid_auto_flow": null,
            "grid_area": null,
            "grid_template_columns": null,
            "flex": null,
            "_model_name": "LayoutModel",
            "justify_items": null,
            "grid_row": null,
            "max_height": null,
            "align_content": null,
            "visibility": null,
            "align_self": null,
            "height": null,
            "min_height": null,
            "padding": null,
            "grid_auto_rows": null,
            "grid_gap": null,
            "max_width": null,
            "order": null,
            "_view_module_version": "1.2.0",
            "grid_template_areas": null,
            "object_position": null,
            "object_fit": null,
            "grid_auto_columns": null,
            "margin": null,
            "display": null,
            "left": null
          }
        },
        "fbf464a81c7b4ff188c9e51dde3a50cf": {
          "model_module": "@jupyter-widgets/controls",
          "model_name": "HTMLModel",
          "model_module_version": "1.5.0",
          "state": {
            "_view_name": "HTMLView",
            "style": "IPY_MODEL_1f6a9a71d5204040857c1aebad87f39a",
            "_dom_classes": [],
            "description": "",
            "_model_name": "HTMLModel",
            "placeholder": "​",
            "_view_module": "@jupyter-widgets/controls",
            "_model_module_version": "1.5.0",
            "value": "Downloading: 100%",
            "_view_count": null,
            "_view_module_version": "1.5.0",
            "description_tooltip": null,
            "_model_module": "@jupyter-widgets/controls",
            "layout": "IPY_MODEL_e5d6c6dddbce4039b651f872d1aed0d5"
          }
        },
        "5a24e884783a46e996a8181445f6cd54": {
          "model_module": "@jupyter-widgets/controls",
          "model_name": "FloatProgressModel",
          "model_module_version": "1.5.0",
          "state": {
            "_view_name": "ProgressView",
            "style": "IPY_MODEL_923e3212761d4251b610175969a309bf",
            "_dom_classes": [],
            "description": "",
            "_model_name": "FloatProgressModel",
            "bar_style": "success",
            "max": 29,
            "_view_module": "@jupyter-widgets/controls",
            "_model_module_version": "1.5.0",
            "value": 29,
            "_view_count": null,
            "_view_module_version": "1.5.0",
            "orientation": "horizontal",
            "min": 0,
            "description_tooltip": null,
            "_model_module": "@jupyter-widgets/controls",
            "layout": "IPY_MODEL_178f8f783f7b4b5582c4ed6d833f692c"
          }
        },
        "330946de9bda4bd8a79ddeccdbef8370": {
          "model_module": "@jupyter-widgets/controls",
          "model_name": "HTMLModel",
          "model_module_version": "1.5.0",
          "state": {
            "_view_name": "HTMLView",
            "style": "IPY_MODEL_6aaa0a1131444f17a7d700c96d87fbbf",
            "_dom_classes": [],
            "description": "",
            "_model_name": "HTMLModel",
            "placeholder": "​",
            "_view_module": "@jupyter-widgets/controls",
            "_model_module_version": "1.5.0",
            "value": " 29.0/29.0 [00:00&lt;00:00, 643B/s]",
            "_view_count": null,
            "_view_module_version": "1.5.0",
            "description_tooltip": null,
            "_model_module": "@jupyter-widgets/controls",
            "layout": "IPY_MODEL_21a1c1bdd98141cea3b75be4e0c26161"
          }
        },
        "1f6a9a71d5204040857c1aebad87f39a": {
          "model_module": "@jupyter-widgets/controls",
          "model_name": "DescriptionStyleModel",
          "model_module_version": "1.5.0",
          "state": {
            "_view_name": "StyleView",
            "_model_name": "DescriptionStyleModel",
            "description_width": "",
            "_view_module": "@jupyter-widgets/base",
            "_model_module_version": "1.5.0",
            "_view_count": null,
            "_view_module_version": "1.2.0",
            "_model_module": "@jupyter-widgets/controls"
          }
        },
        "e5d6c6dddbce4039b651f872d1aed0d5": {
          "model_module": "@jupyter-widgets/base",
          "model_name": "LayoutModel",
          "model_module_version": "1.2.0",
          "state": {
            "_view_name": "LayoutView",
            "grid_template_rows": null,
            "right": null,
            "justify_content": null,
            "_view_module": "@jupyter-widgets/base",
            "overflow": null,
            "_model_module_version": "1.2.0",
            "_view_count": null,
            "flex_flow": null,
            "width": null,
            "min_width": null,
            "border": null,
            "align_items": null,
            "bottom": null,
            "_model_module": "@jupyter-widgets/base",
            "top": null,
            "grid_column": null,
            "overflow_y": null,
            "overflow_x": null,
            "grid_auto_flow": null,
            "grid_area": null,
            "grid_template_columns": null,
            "flex": null,
            "_model_name": "LayoutModel",
            "justify_items": null,
            "grid_row": null,
            "max_height": null,
            "align_content": null,
            "visibility": null,
            "align_self": null,
            "height": null,
            "min_height": null,
            "padding": null,
            "grid_auto_rows": null,
            "grid_gap": null,
            "max_width": null,
            "order": null,
            "_view_module_version": "1.2.0",
            "grid_template_areas": null,
            "object_position": null,
            "object_fit": null,
            "grid_auto_columns": null,
            "margin": null,
            "display": null,
            "left": null
          }
        },
        "923e3212761d4251b610175969a309bf": {
          "model_module": "@jupyter-widgets/controls",
          "model_name": "ProgressStyleModel",
          "model_module_version": "1.5.0",
          "state": {
            "_view_name": "StyleView",
            "_model_name": "ProgressStyleModel",
            "description_width": "",
            "_view_module": "@jupyter-widgets/base",
            "_model_module_version": "1.5.0",
            "_view_count": null,
            "_view_module_version": "1.2.0",
            "bar_color": null,
            "_model_module": "@jupyter-widgets/controls"
          }
        },
        "178f8f783f7b4b5582c4ed6d833f692c": {
          "model_module": "@jupyter-widgets/base",
          "model_name": "LayoutModel",
          "model_module_version": "1.2.0",
          "state": {
            "_view_name": "LayoutView",
            "grid_template_rows": null,
            "right": null,
            "justify_content": null,
            "_view_module": "@jupyter-widgets/base",
            "overflow": null,
            "_model_module_version": "1.2.0",
            "_view_count": null,
            "flex_flow": null,
            "width": null,
            "min_width": null,
            "border": null,
            "align_items": null,
            "bottom": null,
            "_model_module": "@jupyter-widgets/base",
            "top": null,
            "grid_column": null,
            "overflow_y": null,
            "overflow_x": null,
            "grid_auto_flow": null,
            "grid_area": null,
            "grid_template_columns": null,
            "flex": null,
            "_model_name": "LayoutModel",
            "justify_items": null,
            "grid_row": null,
            "max_height": null,
            "align_content": null,
            "visibility": null,
            "align_self": null,
            "height": null,
            "min_height": null,
            "padding": null,
            "grid_auto_rows": null,
            "grid_gap": null,
            "max_width": null,
            "order": null,
            "_view_module_version": "1.2.0",
            "grid_template_areas": null,
            "object_position": null,
            "object_fit": null,
            "grid_auto_columns": null,
            "margin": null,
            "display": null,
            "left": null
          }
        },
        "6aaa0a1131444f17a7d700c96d87fbbf": {
          "model_module": "@jupyter-widgets/controls",
          "model_name": "DescriptionStyleModel",
          "model_module_version": "1.5.0",
          "state": {
            "_view_name": "StyleView",
            "_model_name": "DescriptionStyleModel",
            "description_width": "",
            "_view_module": "@jupyter-widgets/base",
            "_model_module_version": "1.5.0",
            "_view_count": null,
            "_view_module_version": "1.2.0",
            "_model_module": "@jupyter-widgets/controls"
          }
        },
        "21a1c1bdd98141cea3b75be4e0c26161": {
          "model_module": "@jupyter-widgets/base",
          "model_name": "LayoutModel",
          "model_module_version": "1.2.0",
          "state": {
            "_view_name": "LayoutView",
            "grid_template_rows": null,
            "right": null,
            "justify_content": null,
            "_view_module": "@jupyter-widgets/base",
            "overflow": null,
            "_model_module_version": "1.2.0",
            "_view_count": null,
            "flex_flow": null,
            "width": null,
            "min_width": null,
            "border": null,
            "align_items": null,
            "bottom": null,
            "_model_module": "@jupyter-widgets/base",
            "top": null,
            "grid_column": null,
            "overflow_y": null,
            "overflow_x": null,
            "grid_auto_flow": null,
            "grid_area": null,
            "grid_template_columns": null,
            "flex": null,
            "_model_name": "LayoutModel",
            "justify_items": null,
            "grid_row": null,
            "max_height": null,
            "align_content": null,
            "visibility": null,
            "align_self": null,
            "height": null,
            "min_height": null,
            "padding": null,
            "grid_auto_rows": null,
            "grid_gap": null,
            "max_width": null,
            "order": null,
            "_view_module_version": "1.2.0",
            "grid_template_areas": null,
            "object_position": null,
            "object_fit": null,
            "grid_auto_columns": null,
            "margin": null,
            "display": null,
            "left": null
          }
        },
        "01571d8370914ac9b840461e37ddf39b": {
          "model_module": "@jupyter-widgets/controls",
          "model_name": "HBoxModel",
          "model_module_version": "1.5.0",
          "state": {
            "_view_name": "HBoxView",
            "_dom_classes": [],
            "_model_name": "HBoxModel",
            "_view_module": "@jupyter-widgets/controls",
            "_model_module_version": "1.5.0",
            "_view_count": null,
            "_view_module_version": "1.5.0",
            "box_style": "",
            "layout": "IPY_MODEL_18850902a8ec4fd78bc530ee72799252",
            "_model_module": "@jupyter-widgets/controls",
            "children": [
              "IPY_MODEL_1521ac50cd384e8991413eb49031be43",
              "IPY_MODEL_4d73c738e0d54cf98a6a281ca7934e7f",
              "IPY_MODEL_373d76fe27da47d4b574596c8911d7a8"
            ]
          }
        },
        "18850902a8ec4fd78bc530ee72799252": {
          "model_module": "@jupyter-widgets/base",
          "model_name": "LayoutModel",
          "model_module_version": "1.2.0",
          "state": {
            "_view_name": "LayoutView",
            "grid_template_rows": null,
            "right": null,
            "justify_content": null,
            "_view_module": "@jupyter-widgets/base",
            "overflow": null,
            "_model_module_version": "1.2.0",
            "_view_count": null,
            "flex_flow": null,
            "width": null,
            "min_width": null,
            "border": null,
            "align_items": null,
            "bottom": null,
            "_model_module": "@jupyter-widgets/base",
            "top": null,
            "grid_column": null,
            "overflow_y": null,
            "overflow_x": null,
            "grid_auto_flow": null,
            "grid_area": null,
            "grid_template_columns": null,
            "flex": null,
            "_model_name": "LayoutModel",
            "justify_items": null,
            "grid_row": null,
            "max_height": null,
            "align_content": null,
            "visibility": null,
            "align_self": null,
            "height": null,
            "min_height": null,
            "padding": null,
            "grid_auto_rows": null,
            "grid_gap": null,
            "max_width": null,
            "order": null,
            "_view_module_version": "1.2.0",
            "grid_template_areas": null,
            "object_position": null,
            "object_fit": null,
            "grid_auto_columns": null,
            "margin": null,
            "display": null,
            "left": null
          }
        },
        "1521ac50cd384e8991413eb49031be43": {
          "model_module": "@jupyter-widgets/controls",
          "model_name": "HTMLModel",
          "model_module_version": "1.5.0",
          "state": {
            "_view_name": "HTMLView",
            "style": "IPY_MODEL_37f86713df614759ab5925b171be1b79",
            "_dom_classes": [],
            "description": "",
            "_model_name": "HTMLModel",
            "placeholder": "​",
            "_view_module": "@jupyter-widgets/controls",
            "_model_module_version": "1.5.0",
            "value": "Downloading: 100%",
            "_view_count": null,
            "_view_module_version": "1.5.0",
            "description_tooltip": null,
            "_model_module": "@jupyter-widgets/controls",
            "layout": "IPY_MODEL_7fb34ad48c2d4bd2a3b7da80bd5b4f1e"
          }
        },
        "4d73c738e0d54cf98a6a281ca7934e7f": {
          "model_module": "@jupyter-widgets/controls",
          "model_name": "FloatProgressModel",
          "model_module_version": "1.5.0",
          "state": {
            "_view_name": "ProgressView",
            "style": "IPY_MODEL_6411b974ed7a4e8180f1bc2cbe49c2cf",
            "_dom_classes": [],
            "description": "",
            "_model_name": "FloatProgressModel",
            "bar_style": "success",
            "max": 466062,
            "_view_module": "@jupyter-widgets/controls",
            "_model_module_version": "1.5.0",
            "value": 466062,
            "_view_count": null,
            "_view_module_version": "1.5.0",
            "orientation": "horizontal",
            "min": 0,
            "description_tooltip": null,
            "_model_module": "@jupyter-widgets/controls",
            "layout": "IPY_MODEL_94a2bf7004224eadbd1fb73efe1131aa"
          }
        },
        "373d76fe27da47d4b574596c8911d7a8": {
          "model_module": "@jupyter-widgets/controls",
          "model_name": "HTMLModel",
          "model_module_version": "1.5.0",
          "state": {
            "_view_name": "HTMLView",
            "style": "IPY_MODEL_09eb0427be114ace8542d6876852361a",
            "_dom_classes": [],
            "description": "",
            "_model_name": "HTMLModel",
            "placeholder": "​",
            "_view_module": "@jupyter-widgets/controls",
            "_model_module_version": "1.5.0",
            "value": " 455k/455k [00:00&lt;00:00, 1.23MB/s]",
            "_view_count": null,
            "_view_module_version": "1.5.0",
            "description_tooltip": null,
            "_model_module": "@jupyter-widgets/controls",
            "layout": "IPY_MODEL_e71ab79880fd4341a77f0dc8b6904d20"
          }
        },
        "37f86713df614759ab5925b171be1b79": {
          "model_module": "@jupyter-widgets/controls",
          "model_name": "DescriptionStyleModel",
          "model_module_version": "1.5.0",
          "state": {
            "_view_name": "StyleView",
            "_model_name": "DescriptionStyleModel",
            "description_width": "",
            "_view_module": "@jupyter-widgets/base",
            "_model_module_version": "1.5.0",
            "_view_count": null,
            "_view_module_version": "1.2.0",
            "_model_module": "@jupyter-widgets/controls"
          }
        },
        "7fb34ad48c2d4bd2a3b7da80bd5b4f1e": {
          "model_module": "@jupyter-widgets/base",
          "model_name": "LayoutModel",
          "model_module_version": "1.2.0",
          "state": {
            "_view_name": "LayoutView",
            "grid_template_rows": null,
            "right": null,
            "justify_content": null,
            "_view_module": "@jupyter-widgets/base",
            "overflow": null,
            "_model_module_version": "1.2.0",
            "_view_count": null,
            "flex_flow": null,
            "width": null,
            "min_width": null,
            "border": null,
            "align_items": null,
            "bottom": null,
            "_model_module": "@jupyter-widgets/base",
            "top": null,
            "grid_column": null,
            "overflow_y": null,
            "overflow_x": null,
            "grid_auto_flow": null,
            "grid_area": null,
            "grid_template_columns": null,
            "flex": null,
            "_model_name": "LayoutModel",
            "justify_items": null,
            "grid_row": null,
            "max_height": null,
            "align_content": null,
            "visibility": null,
            "align_self": null,
            "height": null,
            "min_height": null,
            "padding": null,
            "grid_auto_rows": null,
            "grid_gap": null,
            "max_width": null,
            "order": null,
            "_view_module_version": "1.2.0",
            "grid_template_areas": null,
            "object_position": null,
            "object_fit": null,
            "grid_auto_columns": null,
            "margin": null,
            "display": null,
            "left": null
          }
        },
        "6411b974ed7a4e8180f1bc2cbe49c2cf": {
          "model_module": "@jupyter-widgets/controls",
          "model_name": "ProgressStyleModel",
          "model_module_version": "1.5.0",
          "state": {
            "_view_name": "StyleView",
            "_model_name": "ProgressStyleModel",
            "description_width": "",
            "_view_module": "@jupyter-widgets/base",
            "_model_module_version": "1.5.0",
            "_view_count": null,
            "_view_module_version": "1.2.0",
            "bar_color": null,
            "_model_module": "@jupyter-widgets/controls"
          }
        },
        "94a2bf7004224eadbd1fb73efe1131aa": {
          "model_module": "@jupyter-widgets/base",
          "model_name": "LayoutModel",
          "model_module_version": "1.2.0",
          "state": {
            "_view_name": "LayoutView",
            "grid_template_rows": null,
            "right": null,
            "justify_content": null,
            "_view_module": "@jupyter-widgets/base",
            "overflow": null,
            "_model_module_version": "1.2.0",
            "_view_count": null,
            "flex_flow": null,
            "width": null,
            "min_width": null,
            "border": null,
            "align_items": null,
            "bottom": null,
            "_model_module": "@jupyter-widgets/base",
            "top": null,
            "grid_column": null,
            "overflow_y": null,
            "overflow_x": null,
            "grid_auto_flow": null,
            "grid_area": null,
            "grid_template_columns": null,
            "flex": null,
            "_model_name": "LayoutModel",
            "justify_items": null,
            "grid_row": null,
            "max_height": null,
            "align_content": null,
            "visibility": null,
            "align_self": null,
            "height": null,
            "min_height": null,
            "padding": null,
            "grid_auto_rows": null,
            "grid_gap": null,
            "max_width": null,
            "order": null,
            "_view_module_version": "1.2.0",
            "grid_template_areas": null,
            "object_position": null,
            "object_fit": null,
            "grid_auto_columns": null,
            "margin": null,
            "display": null,
            "left": null
          }
        },
        "09eb0427be114ace8542d6876852361a": {
          "model_module": "@jupyter-widgets/controls",
          "model_name": "DescriptionStyleModel",
          "model_module_version": "1.5.0",
          "state": {
            "_view_name": "StyleView",
            "_model_name": "DescriptionStyleModel",
            "description_width": "",
            "_view_module": "@jupyter-widgets/base",
            "_model_module_version": "1.5.0",
            "_view_count": null,
            "_view_module_version": "1.2.0",
            "_model_module": "@jupyter-widgets/controls"
          }
        },
        "e71ab79880fd4341a77f0dc8b6904d20": {
          "model_module": "@jupyter-widgets/base",
          "model_name": "LayoutModel",
          "model_module_version": "1.2.0",
          "state": {
            "_view_name": "LayoutView",
            "grid_template_rows": null,
            "right": null,
            "justify_content": null,
            "_view_module": "@jupyter-widgets/base",
            "overflow": null,
            "_model_module_version": "1.2.0",
            "_view_count": null,
            "flex_flow": null,
            "width": null,
            "min_width": null,
            "border": null,
            "align_items": null,
            "bottom": null,
            "_model_module": "@jupyter-widgets/base",
            "top": null,
            "grid_column": null,
            "overflow_y": null,
            "overflow_x": null,
            "grid_auto_flow": null,
            "grid_area": null,
            "grid_template_columns": null,
            "flex": null,
            "_model_name": "LayoutModel",
            "justify_items": null,
            "grid_row": null,
            "max_height": null,
            "align_content": null,
            "visibility": null,
            "align_self": null,
            "height": null,
            "min_height": null,
            "padding": null,
            "grid_auto_rows": null,
            "grid_gap": null,
            "max_width": null,
            "order": null,
            "_view_module_version": "1.2.0",
            "grid_template_areas": null,
            "object_position": null,
            "object_fit": null,
            "grid_auto_columns": null,
            "margin": null,
            "display": null,
            "left": null
          }
        },
        "eaa5103ac51740e1a37d13f4ab25824f": {
          "model_module": "@jupyter-widgets/controls",
          "model_name": "HBoxModel",
          "model_module_version": "1.5.0",
          "state": {
            "_view_name": "HBoxView",
            "_dom_classes": [],
            "_model_name": "HBoxModel",
            "_view_module": "@jupyter-widgets/controls",
            "_model_module_version": "1.5.0",
            "_view_count": null,
            "_view_module_version": "1.5.0",
            "box_style": "",
            "layout": "IPY_MODEL_8c99e97d385f48f3932fdf4c381c917b",
            "_model_module": "@jupyter-widgets/controls",
            "children": [
              "IPY_MODEL_2137565a60984c1785024e20c7f609c1",
              "IPY_MODEL_8bab2cf8dbb041e8811f76609bd953df",
              "IPY_MODEL_a2079ee733d94cc5abdbaf87b6db4660"
            ]
          }
        },
        "8c99e97d385f48f3932fdf4c381c917b": {
          "model_module": "@jupyter-widgets/base",
          "model_name": "LayoutModel",
          "model_module_version": "1.2.0",
          "state": {
            "_view_name": "LayoutView",
            "grid_template_rows": null,
            "right": null,
            "justify_content": null,
            "_view_module": "@jupyter-widgets/base",
            "overflow": null,
            "_model_module_version": "1.2.0",
            "_view_count": null,
            "flex_flow": null,
            "width": null,
            "min_width": null,
            "border": null,
            "align_items": null,
            "bottom": null,
            "_model_module": "@jupyter-widgets/base",
            "top": null,
            "grid_column": null,
            "overflow_y": null,
            "overflow_x": null,
            "grid_auto_flow": null,
            "grid_area": null,
            "grid_template_columns": null,
            "flex": null,
            "_model_name": "LayoutModel",
            "justify_items": null,
            "grid_row": null,
            "max_height": null,
            "align_content": null,
            "visibility": null,
            "align_self": null,
            "height": null,
            "min_height": null,
            "padding": null,
            "grid_auto_rows": null,
            "grid_gap": null,
            "max_width": null,
            "order": null,
            "_view_module_version": "1.2.0",
            "grid_template_areas": null,
            "object_position": null,
            "object_fit": null,
            "grid_auto_columns": null,
            "margin": null,
            "display": null,
            "left": null
          }
        },
        "2137565a60984c1785024e20c7f609c1": {
          "model_module": "@jupyter-widgets/controls",
          "model_name": "HTMLModel",
          "model_module_version": "1.5.0",
          "state": {
            "_view_name": "HTMLView",
            "style": "IPY_MODEL_b6edfb81f04a4f5794d73d2c3ac3511a",
            "_dom_classes": [],
            "description": "",
            "_model_name": "HTMLModel",
            "placeholder": "​",
            "_view_module": "@jupyter-widgets/controls",
            "_model_module_version": "1.5.0",
            "value": "Downloading: 100%",
            "_view_count": null,
            "_view_module_version": "1.5.0",
            "description_tooltip": null,
            "_model_module": "@jupyter-widgets/controls",
            "layout": "IPY_MODEL_120fabc440f44b6c9493c528dcfbb884"
          }
        },
        "8bab2cf8dbb041e8811f76609bd953df": {
          "model_module": "@jupyter-widgets/controls",
          "model_name": "FloatProgressModel",
          "model_module_version": "1.5.0",
          "state": {
            "_view_name": "ProgressView",
            "style": "IPY_MODEL_02deb1fa4036476aab2f277949526b7c",
            "_dom_classes": [],
            "description": "",
            "_model_name": "FloatProgressModel",
            "bar_style": "success",
            "max": 665,
            "_view_module": "@jupyter-widgets/controls",
            "_model_module_version": "1.5.0",
            "value": 665,
            "_view_count": null,
            "_view_module_version": "1.5.0",
            "orientation": "horizontal",
            "min": 0,
            "description_tooltip": null,
            "_model_module": "@jupyter-widgets/controls",
            "layout": "IPY_MODEL_643328ac3dfa4df0a3249b0ce8df622a"
          }
        },
        "a2079ee733d94cc5abdbaf87b6db4660": {
          "model_module": "@jupyter-widgets/controls",
          "model_name": "HTMLModel",
          "model_module_version": "1.5.0",
          "state": {
            "_view_name": "HTMLView",
            "style": "IPY_MODEL_74b4f446d3664c95b504143424f09d30",
            "_dom_classes": [],
            "description": "",
            "_model_name": "HTMLModel",
            "placeholder": "​",
            "_view_module": "@jupyter-widgets/controls",
            "_model_module_version": "1.5.0",
            "value": " 665/665 [00:00&lt;00:00, 10.8kB/s]",
            "_view_count": null,
            "_view_module_version": "1.5.0",
            "description_tooltip": null,
            "_model_module": "@jupyter-widgets/controls",
            "layout": "IPY_MODEL_4919ff123418485f8b6c8651742d44b7"
          }
        },
        "b6edfb81f04a4f5794d73d2c3ac3511a": {
          "model_module": "@jupyter-widgets/controls",
          "model_name": "DescriptionStyleModel",
          "model_module_version": "1.5.0",
          "state": {
            "_view_name": "StyleView",
            "_model_name": "DescriptionStyleModel",
            "description_width": "",
            "_view_module": "@jupyter-widgets/base",
            "_model_module_version": "1.5.0",
            "_view_count": null,
            "_view_module_version": "1.2.0",
            "_model_module": "@jupyter-widgets/controls"
          }
        },
        "120fabc440f44b6c9493c528dcfbb884": {
          "model_module": "@jupyter-widgets/base",
          "model_name": "LayoutModel",
          "model_module_version": "1.2.0",
          "state": {
            "_view_name": "LayoutView",
            "grid_template_rows": null,
            "right": null,
            "justify_content": null,
            "_view_module": "@jupyter-widgets/base",
            "overflow": null,
            "_model_module_version": "1.2.0",
            "_view_count": null,
            "flex_flow": null,
            "width": null,
            "min_width": null,
            "border": null,
            "align_items": null,
            "bottom": null,
            "_model_module": "@jupyter-widgets/base",
            "top": null,
            "grid_column": null,
            "overflow_y": null,
            "overflow_x": null,
            "grid_auto_flow": null,
            "grid_area": null,
            "grid_template_columns": null,
            "flex": null,
            "_model_name": "LayoutModel",
            "justify_items": null,
            "grid_row": null,
            "max_height": null,
            "align_content": null,
            "visibility": null,
            "align_self": null,
            "height": null,
            "min_height": null,
            "padding": null,
            "grid_auto_rows": null,
            "grid_gap": null,
            "max_width": null,
            "order": null,
            "_view_module_version": "1.2.0",
            "grid_template_areas": null,
            "object_position": null,
            "object_fit": null,
            "grid_auto_columns": null,
            "margin": null,
            "display": null,
            "left": null
          }
        },
        "02deb1fa4036476aab2f277949526b7c": {
          "model_module": "@jupyter-widgets/controls",
          "model_name": "ProgressStyleModel",
          "model_module_version": "1.5.0",
          "state": {
            "_view_name": "StyleView",
            "_model_name": "ProgressStyleModel",
            "description_width": "",
            "_view_module": "@jupyter-widgets/base",
            "_model_module_version": "1.5.0",
            "_view_count": null,
            "_view_module_version": "1.2.0",
            "bar_color": null,
            "_model_module": "@jupyter-widgets/controls"
          }
        },
        "643328ac3dfa4df0a3249b0ce8df622a": {
          "model_module": "@jupyter-widgets/base",
          "model_name": "LayoutModel",
          "model_module_version": "1.2.0",
          "state": {
            "_view_name": "LayoutView",
            "grid_template_rows": null,
            "right": null,
            "justify_content": null,
            "_view_module": "@jupyter-widgets/base",
            "overflow": null,
            "_model_module_version": "1.2.0",
            "_view_count": null,
            "flex_flow": null,
            "width": null,
            "min_width": null,
            "border": null,
            "align_items": null,
            "bottom": null,
            "_model_module": "@jupyter-widgets/base",
            "top": null,
            "grid_column": null,
            "overflow_y": null,
            "overflow_x": null,
            "grid_auto_flow": null,
            "grid_area": null,
            "grid_template_columns": null,
            "flex": null,
            "_model_name": "LayoutModel",
            "justify_items": null,
            "grid_row": null,
            "max_height": null,
            "align_content": null,
            "visibility": null,
            "align_self": null,
            "height": null,
            "min_height": null,
            "padding": null,
            "grid_auto_rows": null,
            "grid_gap": null,
            "max_width": null,
            "order": null,
            "_view_module_version": "1.2.0",
            "grid_template_areas": null,
            "object_position": null,
            "object_fit": null,
            "grid_auto_columns": null,
            "margin": null,
            "display": null,
            "left": null
          }
        },
        "74b4f446d3664c95b504143424f09d30": {
          "model_module": "@jupyter-widgets/controls",
          "model_name": "DescriptionStyleModel",
          "model_module_version": "1.5.0",
          "state": {
            "_view_name": "StyleView",
            "_model_name": "DescriptionStyleModel",
            "description_width": "",
            "_view_module": "@jupyter-widgets/base",
            "_model_module_version": "1.5.0",
            "_view_count": null,
            "_view_module_version": "1.2.0",
            "_model_module": "@jupyter-widgets/controls"
          }
        },
        "4919ff123418485f8b6c8651742d44b7": {
          "model_module": "@jupyter-widgets/base",
          "model_name": "LayoutModel",
          "model_module_version": "1.2.0",
          "state": {
            "_view_name": "LayoutView",
            "grid_template_rows": null,
            "right": null,
            "justify_content": null,
            "_view_module": "@jupyter-widgets/base",
            "overflow": null,
            "_model_module_version": "1.2.0",
            "_view_count": null,
            "flex_flow": null,
            "width": null,
            "min_width": null,
            "border": null,
            "align_items": null,
            "bottom": null,
            "_model_module": "@jupyter-widgets/base",
            "top": null,
            "grid_column": null,
            "overflow_y": null,
            "overflow_x": null,
            "grid_auto_flow": null,
            "grid_area": null,
            "grid_template_columns": null,
            "flex": null,
            "_model_name": "LayoutModel",
            "justify_items": null,
            "grid_row": null,
            "max_height": null,
            "align_content": null,
            "visibility": null,
            "align_self": null,
            "height": null,
            "min_height": null,
            "padding": null,
            "grid_auto_rows": null,
            "grid_gap": null,
            "max_width": null,
            "order": null,
            "_view_module_version": "1.2.0",
            "grid_template_areas": null,
            "object_position": null,
            "object_fit": null,
            "grid_auto_columns": null,
            "margin": null,
            "display": null,
            "left": null
          }
        },
        "23945390209842899fd4f070a547e833": {
          "model_module": "@jupyter-widgets/controls",
          "model_name": "HBoxModel",
          "model_module_version": "1.5.0",
          "state": {
            "_view_name": "HBoxView",
            "_dom_classes": [],
            "_model_name": "HBoxModel",
            "_view_module": "@jupyter-widgets/controls",
            "_model_module_version": "1.5.0",
            "_view_count": null,
            "_view_module_version": "1.5.0",
            "box_style": "",
            "layout": "IPY_MODEL_1aebe0abe5524baea9faf18fe6f5f0ef",
            "_model_module": "@jupyter-widgets/controls",
            "children": [
              "IPY_MODEL_89b0fdf855814066986810fcb2a59e0c",
              "IPY_MODEL_4006e8ed99454160b54ce59ac5306472",
              "IPY_MODEL_ad259c4a4a1c41ceadc41b6b50dee37c"
            ]
          }
        },
        "1aebe0abe5524baea9faf18fe6f5f0ef": {
          "model_module": "@jupyter-widgets/base",
          "model_name": "LayoutModel",
          "model_module_version": "1.2.0",
          "state": {
            "_view_name": "LayoutView",
            "grid_template_rows": null,
            "right": null,
            "justify_content": null,
            "_view_module": "@jupyter-widgets/base",
            "overflow": null,
            "_model_module_version": "1.2.0",
            "_view_count": null,
            "flex_flow": null,
            "width": null,
            "min_width": null,
            "border": null,
            "align_items": null,
            "bottom": null,
            "_model_module": "@jupyter-widgets/base",
            "top": null,
            "grid_column": null,
            "overflow_y": null,
            "overflow_x": null,
            "grid_auto_flow": null,
            "grid_area": null,
            "grid_template_columns": null,
            "flex": null,
            "_model_name": "LayoutModel",
            "justify_items": null,
            "grid_row": null,
            "max_height": null,
            "align_content": null,
            "visibility": null,
            "align_self": null,
            "height": null,
            "min_height": null,
            "padding": null,
            "grid_auto_rows": null,
            "grid_gap": null,
            "max_width": null,
            "order": null,
            "_view_module_version": "1.2.0",
            "grid_template_areas": null,
            "object_position": null,
            "object_fit": null,
            "grid_auto_columns": null,
            "margin": null,
            "display": null,
            "left": null
          }
        },
        "89b0fdf855814066986810fcb2a59e0c": {
          "model_module": "@jupyter-widgets/controls",
          "model_name": "HTMLModel",
          "model_module_version": "1.5.0",
          "state": {
            "_view_name": "HTMLView",
            "style": "IPY_MODEL_f47f70fc1e84402f98415e5855c0314e",
            "_dom_classes": [],
            "description": "",
            "_model_name": "HTMLModel",
            "placeholder": "​",
            "_view_module": "@jupyter-widgets/controls",
            "_model_module_version": "1.5.0",
            "value": "100%",
            "_view_count": null,
            "_view_module_version": "1.5.0",
            "description_tooltip": null,
            "_model_module": "@jupyter-widgets/controls",
            "layout": "IPY_MODEL_95d2e87e0fd347b88f9a987372c4d1f7"
          }
        },
        "4006e8ed99454160b54ce59ac5306472": {
          "model_module": "@jupyter-widgets/controls",
          "model_name": "FloatProgressModel",
          "model_module_version": "1.5.0",
          "state": {
            "_view_name": "ProgressView",
            "style": "IPY_MODEL_0620a730860a4c4c8ed0809e49369e06",
            "_dom_classes": [],
            "description": "",
            "_model_name": "FloatProgressModel",
            "bar_style": "success",
            "max": 81,
            "_view_module": "@jupyter-widgets/controls",
            "_model_module_version": "1.5.0",
            "value": 81,
            "_view_count": null,
            "_view_module_version": "1.5.0",
            "orientation": "horizontal",
            "min": 0,
            "description_tooltip": null,
            "_model_module": "@jupyter-widgets/controls",
            "layout": "IPY_MODEL_67d7b476a00040f5a1092598dc9dd8e2"
          }
        },
        "ad259c4a4a1c41ceadc41b6b50dee37c": {
          "model_module": "@jupyter-widgets/controls",
          "model_name": "HTMLModel",
          "model_module_version": "1.5.0",
          "state": {
            "_view_name": "HTMLView",
            "style": "IPY_MODEL_16697ef4a2ef441190ac0bf58d341416",
            "_dom_classes": [],
            "description": "",
            "_model_name": "HTMLModel",
            "placeholder": "​",
            "_view_module": "@jupyter-widgets/controls",
            "_model_module_version": "1.5.0",
            "value": " 81/81 [00:09&lt;00:00,  5.48it/s]",
            "_view_count": null,
            "_view_module_version": "1.5.0",
            "description_tooltip": null,
            "_model_module": "@jupyter-widgets/controls",
            "layout": "IPY_MODEL_78c94c78ce5e490ca3b35a53861e1e85"
          }
        },
        "f47f70fc1e84402f98415e5855c0314e": {
          "model_module": "@jupyter-widgets/controls",
          "model_name": "DescriptionStyleModel",
          "model_module_version": "1.5.0",
          "state": {
            "_view_name": "StyleView",
            "_model_name": "DescriptionStyleModel",
            "description_width": "",
            "_view_module": "@jupyter-widgets/base",
            "_model_module_version": "1.5.0",
            "_view_count": null,
            "_view_module_version": "1.2.0",
            "_model_module": "@jupyter-widgets/controls"
          }
        },
        "95d2e87e0fd347b88f9a987372c4d1f7": {
          "model_module": "@jupyter-widgets/base",
          "model_name": "LayoutModel",
          "model_module_version": "1.2.0",
          "state": {
            "_view_name": "LayoutView",
            "grid_template_rows": null,
            "right": null,
            "justify_content": null,
            "_view_module": "@jupyter-widgets/base",
            "overflow": null,
            "_model_module_version": "1.2.0",
            "_view_count": null,
            "flex_flow": null,
            "width": null,
            "min_width": null,
            "border": null,
            "align_items": null,
            "bottom": null,
            "_model_module": "@jupyter-widgets/base",
            "top": null,
            "grid_column": null,
            "overflow_y": null,
            "overflow_x": null,
            "grid_auto_flow": null,
            "grid_area": null,
            "grid_template_columns": null,
            "flex": null,
            "_model_name": "LayoutModel",
            "justify_items": null,
            "grid_row": null,
            "max_height": null,
            "align_content": null,
            "visibility": null,
            "align_self": null,
            "height": null,
            "min_height": null,
            "padding": null,
            "grid_auto_rows": null,
            "grid_gap": null,
            "max_width": null,
            "order": null,
            "_view_module_version": "1.2.0",
            "grid_template_areas": null,
            "object_position": null,
            "object_fit": null,
            "grid_auto_columns": null,
            "margin": null,
            "display": null,
            "left": null
          }
        },
        "0620a730860a4c4c8ed0809e49369e06": {
          "model_module": "@jupyter-widgets/controls",
          "model_name": "ProgressStyleModel",
          "model_module_version": "1.5.0",
          "state": {
            "_view_name": "StyleView",
            "_model_name": "ProgressStyleModel",
            "description_width": "",
            "_view_module": "@jupyter-widgets/base",
            "_model_module_version": "1.5.0",
            "_view_count": null,
            "_view_module_version": "1.2.0",
            "bar_color": null,
            "_model_module": "@jupyter-widgets/controls"
          }
        },
        "67d7b476a00040f5a1092598dc9dd8e2": {
          "model_module": "@jupyter-widgets/base",
          "model_name": "LayoutModel",
          "model_module_version": "1.2.0",
          "state": {
            "_view_name": "LayoutView",
            "grid_template_rows": null,
            "right": null,
            "justify_content": null,
            "_view_module": "@jupyter-widgets/base",
            "overflow": null,
            "_model_module_version": "1.2.0",
            "_view_count": null,
            "flex_flow": null,
            "width": null,
            "min_width": null,
            "border": null,
            "align_items": null,
            "bottom": null,
            "_model_module": "@jupyter-widgets/base",
            "top": null,
            "grid_column": null,
            "overflow_y": null,
            "overflow_x": null,
            "grid_auto_flow": null,
            "grid_area": null,
            "grid_template_columns": null,
            "flex": null,
            "_model_name": "LayoutModel",
            "justify_items": null,
            "grid_row": null,
            "max_height": null,
            "align_content": null,
            "visibility": null,
            "align_self": null,
            "height": null,
            "min_height": null,
            "padding": null,
            "grid_auto_rows": null,
            "grid_gap": null,
            "max_width": null,
            "order": null,
            "_view_module_version": "1.2.0",
            "grid_template_areas": null,
            "object_position": null,
            "object_fit": null,
            "grid_auto_columns": null,
            "margin": null,
            "display": null,
            "left": null
          }
        },
        "16697ef4a2ef441190ac0bf58d341416": {
          "model_module": "@jupyter-widgets/controls",
          "model_name": "DescriptionStyleModel",
          "model_module_version": "1.5.0",
          "state": {
            "_view_name": "StyleView",
            "_model_name": "DescriptionStyleModel",
            "description_width": "",
            "_view_module": "@jupyter-widgets/base",
            "_model_module_version": "1.5.0",
            "_view_count": null,
            "_view_module_version": "1.2.0",
            "_model_module": "@jupyter-widgets/controls"
          }
        },
        "78c94c78ce5e490ca3b35a53861e1e85": {
          "model_module": "@jupyter-widgets/base",
          "model_name": "LayoutModel",
          "model_module_version": "1.2.0",
          "state": {
            "_view_name": "LayoutView",
            "grid_template_rows": null,
            "right": null,
            "justify_content": null,
            "_view_module": "@jupyter-widgets/base",
            "overflow": null,
            "_model_module_version": "1.2.0",
            "_view_count": null,
            "flex_flow": null,
            "width": null,
            "min_width": null,
            "border": null,
            "align_items": null,
            "bottom": null,
            "_model_module": "@jupyter-widgets/base",
            "top": null,
            "grid_column": null,
            "overflow_y": null,
            "overflow_x": null,
            "grid_auto_flow": null,
            "grid_area": null,
            "grid_template_columns": null,
            "flex": null,
            "_model_name": "LayoutModel",
            "justify_items": null,
            "grid_row": null,
            "max_height": null,
            "align_content": null,
            "visibility": null,
            "align_self": null,
            "height": null,
            "min_height": null,
            "padding": null,
            "grid_auto_rows": null,
            "grid_gap": null,
            "max_width": null,
            "order": null,
            "_view_module_version": "1.2.0",
            "grid_template_areas": null,
            "object_position": null,
            "object_fit": null,
            "grid_auto_columns": null,
            "margin": null,
            "display": null,
            "left": null
          }
        },
        "66ed7cdfc0cc4ffc89676303c7f63c96": {
          "model_module": "@jupyter-widgets/controls",
          "model_name": "HBoxModel",
          "model_module_version": "1.5.0",
          "state": {
            "_view_name": "HBoxView",
            "_dom_classes": [],
            "_model_name": "HBoxModel",
            "_view_module": "@jupyter-widgets/controls",
            "_model_module_version": "1.5.0",
            "_view_count": null,
            "_view_module_version": "1.5.0",
            "box_style": "",
            "layout": "IPY_MODEL_27a6272dd1bb47f7a004a10ce2dbf811",
            "_model_module": "@jupyter-widgets/controls",
            "children": [
              "IPY_MODEL_9266fe0546d444838c6b66b887d131d5",
              "IPY_MODEL_5ae12373ffc14dc79d2fc162c63e5d95",
              "IPY_MODEL_2df320f3cafa41e1b0d2381dc80dfe62"
            ]
          }
        },
        "27a6272dd1bb47f7a004a10ce2dbf811": {
          "model_module": "@jupyter-widgets/base",
          "model_name": "LayoutModel",
          "model_module_version": "1.2.0",
          "state": {
            "_view_name": "LayoutView",
            "grid_template_rows": null,
            "right": null,
            "justify_content": null,
            "_view_module": "@jupyter-widgets/base",
            "overflow": null,
            "_model_module_version": "1.2.0",
            "_view_count": null,
            "flex_flow": null,
            "width": null,
            "min_width": null,
            "border": null,
            "align_items": null,
            "bottom": null,
            "_model_module": "@jupyter-widgets/base",
            "top": null,
            "grid_column": null,
            "overflow_y": null,
            "overflow_x": null,
            "grid_auto_flow": null,
            "grid_area": null,
            "grid_template_columns": null,
            "flex": null,
            "_model_name": "LayoutModel",
            "justify_items": null,
            "grid_row": null,
            "max_height": null,
            "align_content": null,
            "visibility": null,
            "align_self": null,
            "height": null,
            "min_height": null,
            "padding": null,
            "grid_auto_rows": null,
            "grid_gap": null,
            "max_width": null,
            "order": null,
            "_view_module_version": "1.2.0",
            "grid_template_areas": null,
            "object_position": null,
            "object_fit": null,
            "grid_auto_columns": null,
            "margin": null,
            "display": null,
            "left": null
          }
        },
        "9266fe0546d444838c6b66b887d131d5": {
          "model_module": "@jupyter-widgets/controls",
          "model_name": "HTMLModel",
          "model_module_version": "1.5.0",
          "state": {
            "_view_name": "HTMLView",
            "style": "IPY_MODEL_990d6448b223482d88ca6a1a55cd7387",
            "_dom_classes": [],
            "description": "",
            "_model_name": "HTMLModel",
            "placeholder": "​",
            "_view_module": "@jupyter-widgets/controls",
            "_model_module_version": "1.5.0",
            "value": "100%",
            "_view_count": null,
            "_view_module_version": "1.5.0",
            "description_tooltip": null,
            "_model_module": "@jupyter-widgets/controls",
            "layout": "IPY_MODEL_94ef044d93754069b727e8db27e638d5"
          }
        },
        "5ae12373ffc14dc79d2fc162c63e5d95": {
          "model_module": "@jupyter-widgets/controls",
          "model_name": "FloatProgressModel",
          "model_module_version": "1.5.0",
          "state": {
            "_view_name": "ProgressView",
            "style": "IPY_MODEL_066ba71e386a437493f54a8559263d97",
            "_dom_classes": [],
            "description": "",
            "_model_name": "FloatProgressModel",
            "bar_style": "success",
            "max": 81,
            "_view_module": "@jupyter-widgets/controls",
            "_model_module_version": "1.5.0",
            "value": 81,
            "_view_count": null,
            "_view_module_version": "1.5.0",
            "orientation": "horizontal",
            "min": 0,
            "description_tooltip": null,
            "_model_module": "@jupyter-widgets/controls",
            "layout": "IPY_MODEL_96eecf3efe884329a9b6e87ed4c02e19"
          }
        },
        "2df320f3cafa41e1b0d2381dc80dfe62": {
          "model_module": "@jupyter-widgets/controls",
          "model_name": "HTMLModel",
          "model_module_version": "1.5.0",
          "state": {
            "_view_name": "HTMLView",
            "style": "IPY_MODEL_9ad16f37404342b2ad5f6741aff4ac72",
            "_dom_classes": [],
            "description": "",
            "_model_name": "HTMLModel",
            "placeholder": "​",
            "_view_module": "@jupyter-widgets/controls",
            "_model_module_version": "1.5.0",
            "value": " 81/81 [00:16&lt;00:00,  6.19it/s]",
            "_view_count": null,
            "_view_module_version": "1.5.0",
            "description_tooltip": null,
            "_model_module": "@jupyter-widgets/controls",
            "layout": "IPY_MODEL_2017709baadd43019910ba9ea89f61df"
          }
        },
        "990d6448b223482d88ca6a1a55cd7387": {
          "model_module": "@jupyter-widgets/controls",
          "model_name": "DescriptionStyleModel",
          "model_module_version": "1.5.0",
          "state": {
            "_view_name": "StyleView",
            "_model_name": "DescriptionStyleModel",
            "description_width": "",
            "_view_module": "@jupyter-widgets/base",
            "_model_module_version": "1.5.0",
            "_view_count": null,
            "_view_module_version": "1.2.0",
            "_model_module": "@jupyter-widgets/controls"
          }
        },
        "94ef044d93754069b727e8db27e638d5": {
          "model_module": "@jupyter-widgets/base",
          "model_name": "LayoutModel",
          "model_module_version": "1.2.0",
          "state": {
            "_view_name": "LayoutView",
            "grid_template_rows": null,
            "right": null,
            "justify_content": null,
            "_view_module": "@jupyter-widgets/base",
            "overflow": null,
            "_model_module_version": "1.2.0",
            "_view_count": null,
            "flex_flow": null,
            "width": null,
            "min_width": null,
            "border": null,
            "align_items": null,
            "bottom": null,
            "_model_module": "@jupyter-widgets/base",
            "top": null,
            "grid_column": null,
            "overflow_y": null,
            "overflow_x": null,
            "grid_auto_flow": null,
            "grid_area": null,
            "grid_template_columns": null,
            "flex": null,
            "_model_name": "LayoutModel",
            "justify_items": null,
            "grid_row": null,
            "max_height": null,
            "align_content": null,
            "visibility": null,
            "align_self": null,
            "height": null,
            "min_height": null,
            "padding": null,
            "grid_auto_rows": null,
            "grid_gap": null,
            "max_width": null,
            "order": null,
            "_view_module_version": "1.2.0",
            "grid_template_areas": null,
            "object_position": null,
            "object_fit": null,
            "grid_auto_columns": null,
            "margin": null,
            "display": null,
            "left": null
          }
        },
        "066ba71e386a437493f54a8559263d97": {
          "model_module": "@jupyter-widgets/controls",
          "model_name": "ProgressStyleModel",
          "model_module_version": "1.5.0",
          "state": {
            "_view_name": "StyleView",
            "_model_name": "ProgressStyleModel",
            "description_width": "",
            "_view_module": "@jupyter-widgets/base",
            "_model_module_version": "1.5.0",
            "_view_count": null,
            "_view_module_version": "1.2.0",
            "bar_color": null,
            "_model_module": "@jupyter-widgets/controls"
          }
        },
        "96eecf3efe884329a9b6e87ed4c02e19": {
          "model_module": "@jupyter-widgets/base",
          "model_name": "LayoutModel",
          "model_module_version": "1.2.0",
          "state": {
            "_view_name": "LayoutView",
            "grid_template_rows": null,
            "right": null,
            "justify_content": null,
            "_view_module": "@jupyter-widgets/base",
            "overflow": null,
            "_model_module_version": "1.2.0",
            "_view_count": null,
            "flex_flow": null,
            "width": null,
            "min_width": null,
            "border": null,
            "align_items": null,
            "bottom": null,
            "_model_module": "@jupyter-widgets/base",
            "top": null,
            "grid_column": null,
            "overflow_y": null,
            "overflow_x": null,
            "grid_auto_flow": null,
            "grid_area": null,
            "grid_template_columns": null,
            "flex": null,
            "_model_name": "LayoutModel",
            "justify_items": null,
            "grid_row": null,
            "max_height": null,
            "align_content": null,
            "visibility": null,
            "align_self": null,
            "height": null,
            "min_height": null,
            "padding": null,
            "grid_auto_rows": null,
            "grid_gap": null,
            "max_width": null,
            "order": null,
            "_view_module_version": "1.2.0",
            "grid_template_areas": null,
            "object_position": null,
            "object_fit": null,
            "grid_auto_columns": null,
            "margin": null,
            "display": null,
            "left": null
          }
        },
        "9ad16f37404342b2ad5f6741aff4ac72": {
          "model_module": "@jupyter-widgets/controls",
          "model_name": "DescriptionStyleModel",
          "model_module_version": "1.5.0",
          "state": {
            "_view_name": "StyleView",
            "_model_name": "DescriptionStyleModel",
            "description_width": "",
            "_view_module": "@jupyter-widgets/base",
            "_model_module_version": "1.5.0",
            "_view_count": null,
            "_view_module_version": "1.2.0",
            "_model_module": "@jupyter-widgets/controls"
          }
        },
        "2017709baadd43019910ba9ea89f61df": {
          "model_module": "@jupyter-widgets/base",
          "model_name": "LayoutModel",
          "model_module_version": "1.2.0",
          "state": {
            "_view_name": "LayoutView",
            "grid_template_rows": null,
            "right": null,
            "justify_content": null,
            "_view_module": "@jupyter-widgets/base",
            "overflow": null,
            "_model_module_version": "1.2.0",
            "_view_count": null,
            "flex_flow": null,
            "width": null,
            "min_width": null,
            "border": null,
            "align_items": null,
            "bottom": null,
            "_model_module": "@jupyter-widgets/base",
            "top": null,
            "grid_column": null,
            "overflow_y": null,
            "overflow_x": null,
            "grid_auto_flow": null,
            "grid_area": null,
            "grid_template_columns": null,
            "flex": null,
            "_model_name": "LayoutModel",
            "justify_items": null,
            "grid_row": null,
            "max_height": null,
            "align_content": null,
            "visibility": null,
            "align_self": null,
            "height": null,
            "min_height": null,
            "padding": null,
            "grid_auto_rows": null,
            "grid_gap": null,
            "max_width": null,
            "order": null,
            "_view_module_version": "1.2.0",
            "grid_template_areas": null,
            "object_position": null,
            "object_fit": null,
            "grid_auto_columns": null,
            "margin": null,
            "display": null,
            "left": null
          }
        },
        "87ed7ac951f5430fad62223d18f521e5": {
          "model_module": "@jupyter-widgets/controls",
          "model_name": "HBoxModel",
          "model_module_version": "1.5.0",
          "state": {
            "_view_name": "HBoxView",
            "_dom_classes": [],
            "_model_name": "HBoxModel",
            "_view_module": "@jupyter-widgets/controls",
            "_model_module_version": "1.5.0",
            "_view_count": null,
            "_view_module_version": "1.5.0",
            "box_style": "",
            "layout": "IPY_MODEL_0bea4e0142554775a5f06d7d6960ac8e",
            "_model_module": "@jupyter-widgets/controls",
            "children": [
              "IPY_MODEL_57e0af32696d45a080a7b5bc3bfe3ce5",
              "IPY_MODEL_f09168d5040c48adb6d7cb7bdbdef349",
              "IPY_MODEL_40a6faa49a01427996857f78e136e3fa"
            ]
          }
        },
        "0bea4e0142554775a5f06d7d6960ac8e": {
          "model_module": "@jupyter-widgets/base",
          "model_name": "LayoutModel",
          "model_module_version": "1.2.0",
          "state": {
            "_view_name": "LayoutView",
            "grid_template_rows": null,
            "right": null,
            "justify_content": null,
            "_view_module": "@jupyter-widgets/base",
            "overflow": null,
            "_model_module_version": "1.2.0",
            "_view_count": null,
            "flex_flow": null,
            "width": null,
            "min_width": null,
            "border": null,
            "align_items": null,
            "bottom": null,
            "_model_module": "@jupyter-widgets/base",
            "top": null,
            "grid_column": null,
            "overflow_y": null,
            "overflow_x": null,
            "grid_auto_flow": null,
            "grid_area": null,
            "grid_template_columns": null,
            "flex": null,
            "_model_name": "LayoutModel",
            "justify_items": null,
            "grid_row": null,
            "max_height": null,
            "align_content": null,
            "visibility": null,
            "align_self": null,
            "height": null,
            "min_height": null,
            "padding": null,
            "grid_auto_rows": null,
            "grid_gap": null,
            "max_width": null,
            "order": null,
            "_view_module_version": "1.2.0",
            "grid_template_areas": null,
            "object_position": null,
            "object_fit": null,
            "grid_auto_columns": null,
            "margin": null,
            "display": null,
            "left": null
          }
        },
        "57e0af32696d45a080a7b5bc3bfe3ce5": {
          "model_module": "@jupyter-widgets/controls",
          "model_name": "HTMLModel",
          "model_module_version": "1.5.0",
          "state": {
            "_view_name": "HTMLView",
            "style": "IPY_MODEL_b2adc66d015b4bac9896444aca9880f0",
            "_dom_classes": [],
            "description": "",
            "_model_name": "HTMLModel",
            "placeholder": "​",
            "_view_module": "@jupyter-widgets/controls",
            "_model_module_version": "1.5.0",
            "value": "100%",
            "_view_count": null,
            "_view_module_version": "1.5.0",
            "description_tooltip": null,
            "_model_module": "@jupyter-widgets/controls",
            "layout": "IPY_MODEL_afe98f2404a4419882c4da1da13e91fb"
          }
        },
        "f09168d5040c48adb6d7cb7bdbdef349": {
          "model_module": "@jupyter-widgets/controls",
          "model_name": "FloatProgressModel",
          "model_module_version": "1.5.0",
          "state": {
            "_view_name": "ProgressView",
            "style": "IPY_MODEL_fbcc58602ef2454b8f6964d4beeb98ba",
            "_dom_classes": [],
            "description": "",
            "_model_name": "FloatProgressModel",
            "bar_style": "success",
            "max": 81,
            "_view_module": "@jupyter-widgets/controls",
            "_model_module_version": "1.5.0",
            "value": 81,
            "_view_count": null,
            "_view_module_version": "1.5.0",
            "orientation": "horizontal",
            "min": 0,
            "description_tooltip": null,
            "_model_module": "@jupyter-widgets/controls",
            "layout": "IPY_MODEL_353636676ff94cf697e315a180f7f8c7"
          }
        },
        "40a6faa49a01427996857f78e136e3fa": {
          "model_module": "@jupyter-widgets/controls",
          "model_name": "HTMLModel",
          "model_module_version": "1.5.0",
          "state": {
            "_view_name": "HTMLView",
            "style": "IPY_MODEL_9c4217e2fd614f0095ec67f061ef7347",
            "_dom_classes": [],
            "description": "",
            "_model_name": "HTMLModel",
            "placeholder": "​",
            "_view_module": "@jupyter-widgets/controls",
            "_model_module_version": "1.5.0",
            "value": " 81/81 [00:14&lt;00:00,  6.87it/s]",
            "_view_count": null,
            "_view_module_version": "1.5.0",
            "description_tooltip": null,
            "_model_module": "@jupyter-widgets/controls",
            "layout": "IPY_MODEL_2df37d8157d14de78f028827ecd6ab26"
          }
        },
        "b2adc66d015b4bac9896444aca9880f0": {
          "model_module": "@jupyter-widgets/controls",
          "model_name": "DescriptionStyleModel",
          "model_module_version": "1.5.0",
          "state": {
            "_view_name": "StyleView",
            "_model_name": "DescriptionStyleModel",
            "description_width": "",
            "_view_module": "@jupyter-widgets/base",
            "_model_module_version": "1.5.0",
            "_view_count": null,
            "_view_module_version": "1.2.0",
            "_model_module": "@jupyter-widgets/controls"
          }
        },
        "afe98f2404a4419882c4da1da13e91fb": {
          "model_module": "@jupyter-widgets/base",
          "model_name": "LayoutModel",
          "model_module_version": "1.2.0",
          "state": {
            "_view_name": "LayoutView",
            "grid_template_rows": null,
            "right": null,
            "justify_content": null,
            "_view_module": "@jupyter-widgets/base",
            "overflow": null,
            "_model_module_version": "1.2.0",
            "_view_count": null,
            "flex_flow": null,
            "width": null,
            "min_width": null,
            "border": null,
            "align_items": null,
            "bottom": null,
            "_model_module": "@jupyter-widgets/base",
            "top": null,
            "grid_column": null,
            "overflow_y": null,
            "overflow_x": null,
            "grid_auto_flow": null,
            "grid_area": null,
            "grid_template_columns": null,
            "flex": null,
            "_model_name": "LayoutModel",
            "justify_items": null,
            "grid_row": null,
            "max_height": null,
            "align_content": null,
            "visibility": null,
            "align_self": null,
            "height": null,
            "min_height": null,
            "padding": null,
            "grid_auto_rows": null,
            "grid_gap": null,
            "max_width": null,
            "order": null,
            "_view_module_version": "1.2.0",
            "grid_template_areas": null,
            "object_position": null,
            "object_fit": null,
            "grid_auto_columns": null,
            "margin": null,
            "display": null,
            "left": null
          }
        },
        "fbcc58602ef2454b8f6964d4beeb98ba": {
          "model_module": "@jupyter-widgets/controls",
          "model_name": "ProgressStyleModel",
          "model_module_version": "1.5.0",
          "state": {
            "_view_name": "StyleView",
            "_model_name": "ProgressStyleModel",
            "description_width": "",
            "_view_module": "@jupyter-widgets/base",
            "_model_module_version": "1.5.0",
            "_view_count": null,
            "_view_module_version": "1.2.0",
            "bar_color": null,
            "_model_module": "@jupyter-widgets/controls"
          }
        },
        "353636676ff94cf697e315a180f7f8c7": {
          "model_module": "@jupyter-widgets/base",
          "model_name": "LayoutModel",
          "model_module_version": "1.2.0",
          "state": {
            "_view_name": "LayoutView",
            "grid_template_rows": null,
            "right": null,
            "justify_content": null,
            "_view_module": "@jupyter-widgets/base",
            "overflow": null,
            "_model_module_version": "1.2.0",
            "_view_count": null,
            "flex_flow": null,
            "width": null,
            "min_width": null,
            "border": null,
            "align_items": null,
            "bottom": null,
            "_model_module": "@jupyter-widgets/base",
            "top": null,
            "grid_column": null,
            "overflow_y": null,
            "overflow_x": null,
            "grid_auto_flow": null,
            "grid_area": null,
            "grid_template_columns": null,
            "flex": null,
            "_model_name": "LayoutModel",
            "justify_items": null,
            "grid_row": null,
            "max_height": null,
            "align_content": null,
            "visibility": null,
            "align_self": null,
            "height": null,
            "min_height": null,
            "padding": null,
            "grid_auto_rows": null,
            "grid_gap": null,
            "max_width": null,
            "order": null,
            "_view_module_version": "1.2.0",
            "grid_template_areas": null,
            "object_position": null,
            "object_fit": null,
            "grid_auto_columns": null,
            "margin": null,
            "display": null,
            "left": null
          }
        },
        "9c4217e2fd614f0095ec67f061ef7347": {
          "model_module": "@jupyter-widgets/controls",
          "model_name": "DescriptionStyleModel",
          "model_module_version": "1.5.0",
          "state": {
            "_view_name": "StyleView",
            "_model_name": "DescriptionStyleModel",
            "description_width": "",
            "_view_module": "@jupyter-widgets/base",
            "_model_module_version": "1.5.0",
            "_view_count": null,
            "_view_module_version": "1.2.0",
            "_model_module": "@jupyter-widgets/controls"
          }
        },
        "2df37d8157d14de78f028827ecd6ab26": {
          "model_module": "@jupyter-widgets/base",
          "model_name": "LayoutModel",
          "model_module_version": "1.2.0",
          "state": {
            "_view_name": "LayoutView",
            "grid_template_rows": null,
            "right": null,
            "justify_content": null,
            "_view_module": "@jupyter-widgets/base",
            "overflow": null,
            "_model_module_version": "1.2.0",
            "_view_count": null,
            "flex_flow": null,
            "width": null,
            "min_width": null,
            "border": null,
            "align_items": null,
            "bottom": null,
            "_model_module": "@jupyter-widgets/base",
            "top": null,
            "grid_column": null,
            "overflow_y": null,
            "overflow_x": null,
            "grid_auto_flow": null,
            "grid_area": null,
            "grid_template_columns": null,
            "flex": null,
            "_model_name": "LayoutModel",
            "justify_items": null,
            "grid_row": null,
            "max_height": null,
            "align_content": null,
            "visibility": null,
            "align_self": null,
            "height": null,
            "min_height": null,
            "padding": null,
            "grid_auto_rows": null,
            "grid_gap": null,
            "max_width": null,
            "order": null,
            "_view_module_version": "1.2.0",
            "grid_template_areas": null,
            "object_position": null,
            "object_fit": null,
            "grid_auto_columns": null,
            "margin": null,
            "display": null,
            "left": null
          }
        },
        "6afe4f76fe2c4ac0828ffe3acc38a654": {
          "model_module": "@jupyter-widgets/controls",
          "model_name": "HBoxModel",
          "model_module_version": "1.5.0",
          "state": {
            "_view_name": "HBoxView",
            "_dom_classes": [],
            "_model_name": "HBoxModel",
            "_view_module": "@jupyter-widgets/controls",
            "_model_module_version": "1.5.0",
            "_view_count": null,
            "_view_module_version": "1.5.0",
            "box_style": "",
            "layout": "IPY_MODEL_bc07ee000f334fd7a2358c27ebfe5caa",
            "_model_module": "@jupyter-widgets/controls",
            "children": [
              "IPY_MODEL_004f4342044e4616b745a5034fc90854",
              "IPY_MODEL_5708ea313fb24ab18f1766d785b06dd1",
              "IPY_MODEL_486dad660a3146719f66353cba1e3137"
            ]
          }
        },
        "bc07ee000f334fd7a2358c27ebfe5caa": {
          "model_module": "@jupyter-widgets/base",
          "model_name": "LayoutModel",
          "model_module_version": "1.2.0",
          "state": {
            "_view_name": "LayoutView",
            "grid_template_rows": null,
            "right": null,
            "justify_content": null,
            "_view_module": "@jupyter-widgets/base",
            "overflow": null,
            "_model_module_version": "1.2.0",
            "_view_count": null,
            "flex_flow": null,
            "width": null,
            "min_width": null,
            "border": null,
            "align_items": null,
            "bottom": null,
            "_model_module": "@jupyter-widgets/base",
            "top": null,
            "grid_column": null,
            "overflow_y": null,
            "overflow_x": null,
            "grid_auto_flow": null,
            "grid_area": null,
            "grid_template_columns": null,
            "flex": null,
            "_model_name": "LayoutModel",
            "justify_items": null,
            "grid_row": null,
            "max_height": null,
            "align_content": null,
            "visibility": null,
            "align_self": null,
            "height": null,
            "min_height": null,
            "padding": null,
            "grid_auto_rows": null,
            "grid_gap": null,
            "max_width": null,
            "order": null,
            "_view_module_version": "1.2.0",
            "grid_template_areas": null,
            "object_position": null,
            "object_fit": null,
            "grid_auto_columns": null,
            "margin": null,
            "display": null,
            "left": null
          }
        },
        "004f4342044e4616b745a5034fc90854": {
          "model_module": "@jupyter-widgets/controls",
          "model_name": "HTMLModel",
          "model_module_version": "1.5.0",
          "state": {
            "_view_name": "HTMLView",
            "style": "IPY_MODEL_1a7f3a4c0df942229ddd6933e86bb22b",
            "_dom_classes": [],
            "description": "",
            "_model_name": "HTMLModel",
            "placeholder": "​",
            "_view_module": "@jupyter-widgets/controls",
            "_model_module_version": "1.5.0",
            "value": "100%",
            "_view_count": null,
            "_view_module_version": "1.5.0",
            "description_tooltip": null,
            "_model_module": "@jupyter-widgets/controls",
            "layout": "IPY_MODEL_5f001458d5604722b07727dea5f1c03f"
          }
        },
        "5708ea313fb24ab18f1766d785b06dd1": {
          "model_module": "@jupyter-widgets/controls",
          "model_name": "FloatProgressModel",
          "model_module_version": "1.5.0",
          "state": {
            "_view_name": "ProgressView",
            "style": "IPY_MODEL_e287b9a7478943f4a8732efb9462cc34",
            "_dom_classes": [],
            "description": "",
            "_model_name": "FloatProgressModel",
            "bar_style": "success",
            "max": 20701,
            "_view_module": "@jupyter-widgets/controls",
            "_model_module_version": "1.5.0",
            "value": 20701,
            "_view_count": null,
            "_view_module_version": "1.5.0",
            "orientation": "horizontal",
            "min": 0,
            "description_tooltip": null,
            "_model_module": "@jupyter-widgets/controls",
            "layout": "IPY_MODEL_9589a74e1ef544acb23b57582eae9c80"
          }
        },
        "486dad660a3146719f66353cba1e3137": {
          "model_module": "@jupyter-widgets/controls",
          "model_name": "HTMLModel",
          "model_module_version": "1.5.0",
          "state": {
            "_view_name": "HTMLView",
            "style": "IPY_MODEL_9d21c61a85be4fd299e5bcd9b37f7d59",
            "_dom_classes": [],
            "description": "",
            "_model_name": "HTMLModel",
            "placeholder": "​",
            "_view_module": "@jupyter-widgets/controls",
            "_model_module_version": "1.5.0",
            "value": " 20701/20701 [00:01&lt;00:00, 29655.37it/s]",
            "_view_count": null,
            "_view_module_version": "1.5.0",
            "description_tooltip": null,
            "_model_module": "@jupyter-widgets/controls",
            "layout": "IPY_MODEL_18f886824d7a44fa90bb2c442ba6e2d2"
          }
        },
        "1a7f3a4c0df942229ddd6933e86bb22b": {
          "model_module": "@jupyter-widgets/controls",
          "model_name": "DescriptionStyleModel",
          "model_module_version": "1.5.0",
          "state": {
            "_view_name": "StyleView",
            "_model_name": "DescriptionStyleModel",
            "description_width": "",
            "_view_module": "@jupyter-widgets/base",
            "_model_module_version": "1.5.0",
            "_view_count": null,
            "_view_module_version": "1.2.0",
            "_model_module": "@jupyter-widgets/controls"
          }
        },
        "5f001458d5604722b07727dea5f1c03f": {
          "model_module": "@jupyter-widgets/base",
          "model_name": "LayoutModel",
          "model_module_version": "1.2.0",
          "state": {
            "_view_name": "LayoutView",
            "grid_template_rows": null,
            "right": null,
            "justify_content": null,
            "_view_module": "@jupyter-widgets/base",
            "overflow": null,
            "_model_module_version": "1.2.0",
            "_view_count": null,
            "flex_flow": null,
            "width": null,
            "min_width": null,
            "border": null,
            "align_items": null,
            "bottom": null,
            "_model_module": "@jupyter-widgets/base",
            "top": null,
            "grid_column": null,
            "overflow_y": null,
            "overflow_x": null,
            "grid_auto_flow": null,
            "grid_area": null,
            "grid_template_columns": null,
            "flex": null,
            "_model_name": "LayoutModel",
            "justify_items": null,
            "grid_row": null,
            "max_height": null,
            "align_content": null,
            "visibility": null,
            "align_self": null,
            "height": null,
            "min_height": null,
            "padding": null,
            "grid_auto_rows": null,
            "grid_gap": null,
            "max_width": null,
            "order": null,
            "_view_module_version": "1.2.0",
            "grid_template_areas": null,
            "object_position": null,
            "object_fit": null,
            "grid_auto_columns": null,
            "margin": null,
            "display": null,
            "left": null
          }
        },
        "e287b9a7478943f4a8732efb9462cc34": {
          "model_module": "@jupyter-widgets/controls",
          "model_name": "ProgressStyleModel",
          "model_module_version": "1.5.0",
          "state": {
            "_view_name": "StyleView",
            "_model_name": "ProgressStyleModel",
            "description_width": "",
            "_view_module": "@jupyter-widgets/base",
            "_model_module_version": "1.5.0",
            "_view_count": null,
            "_view_module_version": "1.2.0",
            "bar_color": null,
            "_model_module": "@jupyter-widgets/controls"
          }
        },
        "9589a74e1ef544acb23b57582eae9c80": {
          "model_module": "@jupyter-widgets/base",
          "model_name": "LayoutModel",
          "model_module_version": "1.2.0",
          "state": {
            "_view_name": "LayoutView",
            "grid_template_rows": null,
            "right": null,
            "justify_content": null,
            "_view_module": "@jupyter-widgets/base",
            "overflow": null,
            "_model_module_version": "1.2.0",
            "_view_count": null,
            "flex_flow": null,
            "width": null,
            "min_width": null,
            "border": null,
            "align_items": null,
            "bottom": null,
            "_model_module": "@jupyter-widgets/base",
            "top": null,
            "grid_column": null,
            "overflow_y": null,
            "overflow_x": null,
            "grid_auto_flow": null,
            "grid_area": null,
            "grid_template_columns": null,
            "flex": null,
            "_model_name": "LayoutModel",
            "justify_items": null,
            "grid_row": null,
            "max_height": null,
            "align_content": null,
            "visibility": null,
            "align_self": null,
            "height": null,
            "min_height": null,
            "padding": null,
            "grid_auto_rows": null,
            "grid_gap": null,
            "max_width": null,
            "order": null,
            "_view_module_version": "1.2.0",
            "grid_template_areas": null,
            "object_position": null,
            "object_fit": null,
            "grid_auto_columns": null,
            "margin": null,
            "display": null,
            "left": null
          }
        },
        "9d21c61a85be4fd299e5bcd9b37f7d59": {
          "model_module": "@jupyter-widgets/controls",
          "model_name": "DescriptionStyleModel",
          "model_module_version": "1.5.0",
          "state": {
            "_view_name": "StyleView",
            "_model_name": "DescriptionStyleModel",
            "description_width": "",
            "_view_module": "@jupyter-widgets/base",
            "_model_module_version": "1.5.0",
            "_view_count": null,
            "_view_module_version": "1.2.0",
            "_model_module": "@jupyter-widgets/controls"
          }
        },
        "18f886824d7a44fa90bb2c442ba6e2d2": {
          "model_module": "@jupyter-widgets/base",
          "model_name": "LayoutModel",
          "model_module_version": "1.2.0",
          "state": {
            "_view_name": "LayoutView",
            "grid_template_rows": null,
            "right": null,
            "justify_content": null,
            "_view_module": "@jupyter-widgets/base",
            "overflow": null,
            "_model_module_version": "1.2.0",
            "_view_count": null,
            "flex_flow": null,
            "width": null,
            "min_width": null,
            "border": null,
            "align_items": null,
            "bottom": null,
            "_model_module": "@jupyter-widgets/base",
            "top": null,
            "grid_column": null,
            "overflow_y": null,
            "overflow_x": null,
            "grid_auto_flow": null,
            "grid_area": null,
            "grid_template_columns": null,
            "flex": null,
            "_model_name": "LayoutModel",
            "justify_items": null,
            "grid_row": null,
            "max_height": null,
            "align_content": null,
            "visibility": null,
            "align_self": null,
            "height": null,
            "min_height": null,
            "padding": null,
            "grid_auto_rows": null,
            "grid_gap": null,
            "max_width": null,
            "order": null,
            "_view_module_version": "1.2.0",
            "grid_template_areas": null,
            "object_position": null,
            "object_fit": null,
            "grid_auto_columns": null,
            "margin": null,
            "display": null,
            "left": null
          }
        },
        "c7eaa754d0b54cfa8fee142e12c7e1a7": {
          "model_module": "@jupyter-widgets/controls",
          "model_name": "HBoxModel",
          "model_module_version": "1.5.0",
          "state": {
            "_view_name": "HBoxView",
            "_dom_classes": [],
            "_model_name": "HBoxModel",
            "_view_module": "@jupyter-widgets/controls",
            "_model_module_version": "1.5.0",
            "_view_count": null,
            "_view_module_version": "1.5.0",
            "box_style": "",
            "layout": "IPY_MODEL_a629e31c3aa84fe89ea8b0cc61ccb841",
            "_model_module": "@jupyter-widgets/controls",
            "children": [
              "IPY_MODEL_ab8b351c43e84b17ab84b6e37b04cc5a",
              "IPY_MODEL_9a5999775e7b4c4a8ffe4dbdaff729e4",
              "IPY_MODEL_5756ef599dac493ba63d047a4185a22f"
            ]
          }
        },
        "a629e31c3aa84fe89ea8b0cc61ccb841": {
          "model_module": "@jupyter-widgets/base",
          "model_name": "LayoutModel",
          "model_module_version": "1.2.0",
          "state": {
            "_view_name": "LayoutView",
            "grid_template_rows": null,
            "right": null,
            "justify_content": null,
            "_view_module": "@jupyter-widgets/base",
            "overflow": null,
            "_model_module_version": "1.2.0",
            "_view_count": null,
            "flex_flow": null,
            "width": null,
            "min_width": null,
            "border": null,
            "align_items": null,
            "bottom": null,
            "_model_module": "@jupyter-widgets/base",
            "top": null,
            "grid_column": null,
            "overflow_y": null,
            "overflow_x": null,
            "grid_auto_flow": null,
            "grid_area": null,
            "grid_template_columns": null,
            "flex": null,
            "_model_name": "LayoutModel",
            "justify_items": null,
            "grid_row": null,
            "max_height": null,
            "align_content": null,
            "visibility": null,
            "align_self": null,
            "height": null,
            "min_height": null,
            "padding": null,
            "grid_auto_rows": null,
            "grid_gap": null,
            "max_width": null,
            "order": null,
            "_view_module_version": "1.2.0",
            "grid_template_areas": null,
            "object_position": null,
            "object_fit": null,
            "grid_auto_columns": null,
            "margin": null,
            "display": null,
            "left": null
          }
        },
        "ab8b351c43e84b17ab84b6e37b04cc5a": {
          "model_module": "@jupyter-widgets/controls",
          "model_name": "HTMLModel",
          "model_module_version": "1.5.0",
          "state": {
            "_view_name": "HTMLView",
            "style": "IPY_MODEL_b43c485e0ddb49e7b16af4d18c00c856",
            "_dom_classes": [],
            "description": "",
            "_model_name": "HTMLModel",
            "placeholder": "​",
            "_view_module": "@jupyter-widgets/controls",
            "_model_module_version": "1.5.0",
            "value": "100%",
            "_view_count": null,
            "_view_module_version": "1.5.0",
            "description_tooltip": null,
            "_model_module": "@jupyter-widgets/controls",
            "layout": "IPY_MODEL_8386f278b3da4e50ae7c7a967f686362"
          }
        },
        "9a5999775e7b4c4a8ffe4dbdaff729e4": {
          "model_module": "@jupyter-widgets/controls",
          "model_name": "FloatProgressModel",
          "model_module_version": "1.5.0",
          "state": {
            "_view_name": "ProgressView",
            "style": "IPY_MODEL_b2e88f8c155a4cb1b371414d557e23fe",
            "_dom_classes": [],
            "description": "",
            "_model_name": "FloatProgressModel",
            "bar_style": "success",
            "max": 20701,
            "_view_module": "@jupyter-widgets/controls",
            "_model_module_version": "1.5.0",
            "value": 20701,
            "_view_count": null,
            "_view_module_version": "1.5.0",
            "orientation": "horizontal",
            "min": 0,
            "description_tooltip": null,
            "_model_module": "@jupyter-widgets/controls",
            "layout": "IPY_MODEL_d9ed46c7f881493a94b7c5133d060c5b"
          }
        },
        "5756ef599dac493ba63d047a4185a22f": {
          "model_module": "@jupyter-widgets/controls",
          "model_name": "HTMLModel",
          "model_module_version": "1.5.0",
          "state": {
            "_view_name": "HTMLView",
            "style": "IPY_MODEL_01fd58a7639a4d52af1889fef00f219d",
            "_dom_classes": [],
            "description": "",
            "_model_name": "HTMLModel",
            "placeholder": "​",
            "_view_module": "@jupyter-widgets/controls",
            "_model_module_version": "1.5.0",
            "value": " 20701/20701 [00:00&lt;00:00, 47020.62it/s]",
            "_view_count": null,
            "_view_module_version": "1.5.0",
            "description_tooltip": null,
            "_model_module": "@jupyter-widgets/controls",
            "layout": "IPY_MODEL_656c6c26dc1140eeb8c82de0d24bb000"
          }
        },
        "b43c485e0ddb49e7b16af4d18c00c856": {
          "model_module": "@jupyter-widgets/controls",
          "model_name": "DescriptionStyleModel",
          "model_module_version": "1.5.0",
          "state": {
            "_view_name": "StyleView",
            "_model_name": "DescriptionStyleModel",
            "description_width": "",
            "_view_module": "@jupyter-widgets/base",
            "_model_module_version": "1.5.0",
            "_view_count": null,
            "_view_module_version": "1.2.0",
            "_model_module": "@jupyter-widgets/controls"
          }
        },
        "8386f278b3da4e50ae7c7a967f686362": {
          "model_module": "@jupyter-widgets/base",
          "model_name": "LayoutModel",
          "model_module_version": "1.2.0",
          "state": {
            "_view_name": "LayoutView",
            "grid_template_rows": null,
            "right": null,
            "justify_content": null,
            "_view_module": "@jupyter-widgets/base",
            "overflow": null,
            "_model_module_version": "1.2.0",
            "_view_count": null,
            "flex_flow": null,
            "width": null,
            "min_width": null,
            "border": null,
            "align_items": null,
            "bottom": null,
            "_model_module": "@jupyter-widgets/base",
            "top": null,
            "grid_column": null,
            "overflow_y": null,
            "overflow_x": null,
            "grid_auto_flow": null,
            "grid_area": null,
            "grid_template_columns": null,
            "flex": null,
            "_model_name": "LayoutModel",
            "justify_items": null,
            "grid_row": null,
            "max_height": null,
            "align_content": null,
            "visibility": null,
            "align_self": null,
            "height": null,
            "min_height": null,
            "padding": null,
            "grid_auto_rows": null,
            "grid_gap": null,
            "max_width": null,
            "order": null,
            "_view_module_version": "1.2.0",
            "grid_template_areas": null,
            "object_position": null,
            "object_fit": null,
            "grid_auto_columns": null,
            "margin": null,
            "display": null,
            "left": null
          }
        },
        "b2e88f8c155a4cb1b371414d557e23fe": {
          "model_module": "@jupyter-widgets/controls",
          "model_name": "ProgressStyleModel",
          "model_module_version": "1.5.0",
          "state": {
            "_view_name": "StyleView",
            "_model_name": "ProgressStyleModel",
            "description_width": "",
            "_view_module": "@jupyter-widgets/base",
            "_model_module_version": "1.5.0",
            "_view_count": null,
            "_view_module_version": "1.2.0",
            "bar_color": null,
            "_model_module": "@jupyter-widgets/controls"
          }
        },
        "d9ed46c7f881493a94b7c5133d060c5b": {
          "model_module": "@jupyter-widgets/base",
          "model_name": "LayoutModel",
          "model_module_version": "1.2.0",
          "state": {
            "_view_name": "LayoutView",
            "grid_template_rows": null,
            "right": null,
            "justify_content": null,
            "_view_module": "@jupyter-widgets/base",
            "overflow": null,
            "_model_module_version": "1.2.0",
            "_view_count": null,
            "flex_flow": null,
            "width": null,
            "min_width": null,
            "border": null,
            "align_items": null,
            "bottom": null,
            "_model_module": "@jupyter-widgets/base",
            "top": null,
            "grid_column": null,
            "overflow_y": null,
            "overflow_x": null,
            "grid_auto_flow": null,
            "grid_area": null,
            "grid_template_columns": null,
            "flex": null,
            "_model_name": "LayoutModel",
            "justify_items": null,
            "grid_row": null,
            "max_height": null,
            "align_content": null,
            "visibility": null,
            "align_self": null,
            "height": null,
            "min_height": null,
            "padding": null,
            "grid_auto_rows": null,
            "grid_gap": null,
            "max_width": null,
            "order": null,
            "_view_module_version": "1.2.0",
            "grid_template_areas": null,
            "object_position": null,
            "object_fit": null,
            "grid_auto_columns": null,
            "margin": null,
            "display": null,
            "left": null
          }
        },
        "01fd58a7639a4d52af1889fef00f219d": {
          "model_module": "@jupyter-widgets/controls",
          "model_name": "DescriptionStyleModel",
          "model_module_version": "1.5.0",
          "state": {
            "_view_name": "StyleView",
            "_model_name": "DescriptionStyleModel",
            "description_width": "",
            "_view_module": "@jupyter-widgets/base",
            "_model_module_version": "1.5.0",
            "_view_count": null,
            "_view_module_version": "1.2.0",
            "_model_module": "@jupyter-widgets/controls"
          }
        },
        "656c6c26dc1140eeb8c82de0d24bb000": {
          "model_module": "@jupyter-widgets/base",
          "model_name": "LayoutModel",
          "model_module_version": "1.2.0",
          "state": {
            "_view_name": "LayoutView",
            "grid_template_rows": null,
            "right": null,
            "justify_content": null,
            "_view_module": "@jupyter-widgets/base",
            "overflow": null,
            "_model_module_version": "1.2.0",
            "_view_count": null,
            "flex_flow": null,
            "width": null,
            "min_width": null,
            "border": null,
            "align_items": null,
            "bottom": null,
            "_model_module": "@jupyter-widgets/base",
            "top": null,
            "grid_column": null,
            "overflow_y": null,
            "overflow_x": null,
            "grid_auto_flow": null,
            "grid_area": null,
            "grid_template_columns": null,
            "flex": null,
            "_model_name": "LayoutModel",
            "justify_items": null,
            "grid_row": null,
            "max_height": null,
            "align_content": null,
            "visibility": null,
            "align_self": null,
            "height": null,
            "min_height": null,
            "padding": null,
            "grid_auto_rows": null,
            "grid_gap": null,
            "max_width": null,
            "order": null,
            "_view_module_version": "1.2.0",
            "grid_template_areas": null,
            "object_position": null,
            "object_fit": null,
            "grid_auto_columns": null,
            "margin": null,
            "display": null,
            "left": null
          }
        },
        "4c7b01f4742546efba296ca535a0302f": {
          "model_module": "@jupyter-widgets/controls",
          "model_name": "HBoxModel",
          "model_module_version": "1.5.0",
          "state": {
            "_view_name": "HBoxView",
            "_dom_classes": [],
            "_model_name": "HBoxModel",
            "_view_module": "@jupyter-widgets/controls",
            "_model_module_version": "1.5.0",
            "_view_count": null,
            "_view_module_version": "1.5.0",
            "box_style": "",
            "layout": "IPY_MODEL_6a7e2f77eb29429ebcb0290d504938a4",
            "_model_module": "@jupyter-widgets/controls",
            "children": [
              "IPY_MODEL_2f3c729e703f40aeac01bf5907e09ec4",
              "IPY_MODEL_f263d1cd12ff4ec58e5ff523b1022859",
              "IPY_MODEL_1bde872c401949e08c018511711b791b"
            ]
          }
        },
        "6a7e2f77eb29429ebcb0290d504938a4": {
          "model_module": "@jupyter-widgets/base",
          "model_name": "LayoutModel",
          "model_module_version": "1.2.0",
          "state": {
            "_view_name": "LayoutView",
            "grid_template_rows": null,
            "right": null,
            "justify_content": null,
            "_view_module": "@jupyter-widgets/base",
            "overflow": null,
            "_model_module_version": "1.2.0",
            "_view_count": null,
            "flex_flow": null,
            "width": null,
            "min_width": null,
            "border": null,
            "align_items": null,
            "bottom": null,
            "_model_module": "@jupyter-widgets/base",
            "top": null,
            "grid_column": null,
            "overflow_y": null,
            "overflow_x": null,
            "grid_auto_flow": null,
            "grid_area": null,
            "grid_template_columns": null,
            "flex": null,
            "_model_name": "LayoutModel",
            "justify_items": null,
            "grid_row": null,
            "max_height": null,
            "align_content": null,
            "visibility": null,
            "align_self": null,
            "height": null,
            "min_height": null,
            "padding": null,
            "grid_auto_rows": null,
            "grid_gap": null,
            "max_width": null,
            "order": null,
            "_view_module_version": "1.2.0",
            "grid_template_areas": null,
            "object_position": null,
            "object_fit": null,
            "grid_auto_columns": null,
            "margin": null,
            "display": null,
            "left": null
          }
        },
        "2f3c729e703f40aeac01bf5907e09ec4": {
          "model_module": "@jupyter-widgets/controls",
          "model_name": "HTMLModel",
          "model_module_version": "1.5.0",
          "state": {
            "_view_name": "HTMLView",
            "style": "IPY_MODEL_1978eddf48c64db48dcab44bfad453d0",
            "_dom_classes": [],
            "description": "",
            "_model_name": "HTMLModel",
            "placeholder": "​",
            "_view_module": "@jupyter-widgets/controls",
            "_model_module_version": "1.5.0",
            "value": "Downloading: 100%",
            "_view_count": null,
            "_view_module_version": "1.5.0",
            "description_tooltip": null,
            "_model_module": "@jupyter-widgets/controls",
            "layout": "IPY_MODEL_fcb8e97d45c54d75b8eab1c71ba76793"
          }
        },
        "f263d1cd12ff4ec58e5ff523b1022859": {
          "model_module": "@jupyter-widgets/controls",
          "model_name": "FloatProgressModel",
          "model_module_version": "1.5.0",
          "state": {
            "_view_name": "ProgressView",
            "style": "IPY_MODEL_013a82d18aac43f7b9a8abdbdcf8a093",
            "_dom_classes": [],
            "description": "",
            "_model_name": "FloatProgressModel",
            "bar_style": "success",
            "max": 54466044,
            "_view_module": "@jupyter-widgets/controls",
            "_model_module_version": "1.5.0",
            "value": 54466044,
            "_view_count": null,
            "_view_module_version": "1.5.0",
            "orientation": "horizontal",
            "min": 0,
            "description_tooltip": null,
            "_model_module": "@jupyter-widgets/controls",
            "layout": "IPY_MODEL_29e9c3019a324c07b85a16ffaa7efe2f"
          }
        },
        "1bde872c401949e08c018511711b791b": {
          "model_module": "@jupyter-widgets/controls",
          "model_name": "HTMLModel",
          "model_module_version": "1.5.0",
          "state": {
            "_view_name": "HTMLView",
            "style": "IPY_MODEL_6a02d35a004a48c6b2225faffcacaa55",
            "_dom_classes": [],
            "description": "",
            "_model_name": "HTMLModel",
            "placeholder": "​",
            "_view_module": "@jupyter-widgets/controls",
            "_model_module_version": "1.5.0",
            "value": " 51.9M/51.9M [00:01&lt;00:00, 39.0MB/s]",
            "_view_count": null,
            "_view_module_version": "1.5.0",
            "description_tooltip": null,
            "_model_module": "@jupyter-widgets/controls",
            "layout": "IPY_MODEL_e3bfd48edcf845f7980d374fbe9b2dea"
          }
        },
        "1978eddf48c64db48dcab44bfad453d0": {
          "model_module": "@jupyter-widgets/controls",
          "model_name": "DescriptionStyleModel",
          "model_module_version": "1.5.0",
          "state": {
            "_view_name": "StyleView",
            "_model_name": "DescriptionStyleModel",
            "description_width": "",
            "_view_module": "@jupyter-widgets/base",
            "_model_module_version": "1.5.0",
            "_view_count": null,
            "_view_module_version": "1.2.0",
            "_model_module": "@jupyter-widgets/controls"
          }
        },
        "fcb8e97d45c54d75b8eab1c71ba76793": {
          "model_module": "@jupyter-widgets/base",
          "model_name": "LayoutModel",
          "model_module_version": "1.2.0",
          "state": {
            "_view_name": "LayoutView",
            "grid_template_rows": null,
            "right": null,
            "justify_content": null,
            "_view_module": "@jupyter-widgets/base",
            "overflow": null,
            "_model_module_version": "1.2.0",
            "_view_count": null,
            "flex_flow": null,
            "width": null,
            "min_width": null,
            "border": null,
            "align_items": null,
            "bottom": null,
            "_model_module": "@jupyter-widgets/base",
            "top": null,
            "grid_column": null,
            "overflow_y": null,
            "overflow_x": null,
            "grid_auto_flow": null,
            "grid_area": null,
            "grid_template_columns": null,
            "flex": null,
            "_model_name": "LayoutModel",
            "justify_items": null,
            "grid_row": null,
            "max_height": null,
            "align_content": null,
            "visibility": null,
            "align_self": null,
            "height": null,
            "min_height": null,
            "padding": null,
            "grid_auto_rows": null,
            "grid_gap": null,
            "max_width": null,
            "order": null,
            "_view_module_version": "1.2.0",
            "grid_template_areas": null,
            "object_position": null,
            "object_fit": null,
            "grid_auto_columns": null,
            "margin": null,
            "display": null,
            "left": null
          }
        },
        "013a82d18aac43f7b9a8abdbdcf8a093": {
          "model_module": "@jupyter-widgets/controls",
          "model_name": "ProgressStyleModel",
          "model_module_version": "1.5.0",
          "state": {
            "_view_name": "StyleView",
            "_model_name": "ProgressStyleModel",
            "description_width": "",
            "_view_module": "@jupyter-widgets/base",
            "_model_module_version": "1.5.0",
            "_view_count": null,
            "_view_module_version": "1.2.0",
            "bar_color": null,
            "_model_module": "@jupyter-widgets/controls"
          }
        },
        "29e9c3019a324c07b85a16ffaa7efe2f": {
          "model_module": "@jupyter-widgets/base",
          "model_name": "LayoutModel",
          "model_module_version": "1.2.0",
          "state": {
            "_view_name": "LayoutView",
            "grid_template_rows": null,
            "right": null,
            "justify_content": null,
            "_view_module": "@jupyter-widgets/base",
            "overflow": null,
            "_model_module_version": "1.2.0",
            "_view_count": null,
            "flex_flow": null,
            "width": null,
            "min_width": null,
            "border": null,
            "align_items": null,
            "bottom": null,
            "_model_module": "@jupyter-widgets/base",
            "top": null,
            "grid_column": null,
            "overflow_y": null,
            "overflow_x": null,
            "grid_auto_flow": null,
            "grid_area": null,
            "grid_template_columns": null,
            "flex": null,
            "_model_name": "LayoutModel",
            "justify_items": null,
            "grid_row": null,
            "max_height": null,
            "align_content": null,
            "visibility": null,
            "align_self": null,
            "height": null,
            "min_height": null,
            "padding": null,
            "grid_auto_rows": null,
            "grid_gap": null,
            "max_width": null,
            "order": null,
            "_view_module_version": "1.2.0",
            "grid_template_areas": null,
            "object_position": null,
            "object_fit": null,
            "grid_auto_columns": null,
            "margin": null,
            "display": null,
            "left": null
          }
        },
        "6a02d35a004a48c6b2225faffcacaa55": {
          "model_module": "@jupyter-widgets/controls",
          "model_name": "DescriptionStyleModel",
          "model_module_version": "1.5.0",
          "state": {
            "_view_name": "StyleView",
            "_model_name": "DescriptionStyleModel",
            "description_width": "",
            "_view_module": "@jupyter-widgets/base",
            "_model_module_version": "1.5.0",
            "_view_count": null,
            "_view_module_version": "1.2.0",
            "_model_module": "@jupyter-widgets/controls"
          }
        },
        "e3bfd48edcf845f7980d374fbe9b2dea": {
          "model_module": "@jupyter-widgets/base",
          "model_name": "LayoutModel",
          "model_module_version": "1.2.0",
          "state": {
            "_view_name": "LayoutView",
            "grid_template_rows": null,
            "right": null,
            "justify_content": null,
            "_view_module": "@jupyter-widgets/base",
            "overflow": null,
            "_model_module_version": "1.2.0",
            "_view_count": null,
            "flex_flow": null,
            "width": null,
            "min_width": null,
            "border": null,
            "align_items": null,
            "bottom": null,
            "_model_module": "@jupyter-widgets/base",
            "top": null,
            "grid_column": null,
            "overflow_y": null,
            "overflow_x": null,
            "grid_auto_flow": null,
            "grid_area": null,
            "grid_template_columns": null,
            "flex": null,
            "_model_name": "LayoutModel",
            "justify_items": null,
            "grid_row": null,
            "max_height": null,
            "align_content": null,
            "visibility": null,
            "align_self": null,
            "height": null,
            "min_height": null,
            "padding": null,
            "grid_auto_rows": null,
            "grid_gap": null,
            "max_width": null,
            "order": null,
            "_view_module_version": "1.2.0",
            "grid_template_areas": null,
            "object_position": null,
            "object_fit": null,
            "grid_auto_columns": null,
            "margin": null,
            "display": null,
            "left": null
          }
        },
        "4256df8db29e4b37896ab20d0f3a9340": {
          "model_module": "@jupyter-widgets/controls",
          "model_name": "HBoxModel",
          "model_module_version": "1.5.0",
          "state": {
            "_dom_classes": [],
            "_model_module": "@jupyter-widgets/controls",
            "_model_module_version": "1.5.0",
            "_model_name": "HBoxModel",
            "_view_count": null,
            "_view_module": "@jupyter-widgets/controls",
            "_view_module_version": "1.5.0",
            "_view_name": "HBoxView",
            "box_style": "",
            "children": [
              "IPY_MODEL_cc6df7d545f84d01848b2bebc4dab7f0",
              "IPY_MODEL_ba6b70a2f7384793bccf0089a962dfd1",
              "IPY_MODEL_322291fd434e4941a81a325b5ff8b9bc"
            ],
            "layout": "IPY_MODEL_fed45633626c4bf59c47e5f8639338a9"
          }
        },
        "cc6df7d545f84d01848b2bebc4dab7f0": {
          "model_module": "@jupyter-widgets/controls",
          "model_name": "HTMLModel",
          "model_module_version": "1.5.0",
          "state": {
            "_dom_classes": [],
            "_model_module": "@jupyter-widgets/controls",
            "_model_module_version": "1.5.0",
            "_model_name": "HTMLModel",
            "_view_count": null,
            "_view_module": "@jupyter-widgets/controls",
            "_view_module_version": "1.5.0",
            "_view_name": "HTMLView",
            "description": "",
            "description_tooltip": null,
            "layout": "IPY_MODEL_29b5e475904843d581b32bb29a01d0e9",
            "placeholder": "​",
            "style": "IPY_MODEL_2a02b6fad6ef4e9bacbdbad1b04f89d1",
            "value": "Downloading: 100%"
          }
        },
        "ba6b70a2f7384793bccf0089a962dfd1": {
          "model_module": "@jupyter-widgets/controls",
          "model_name": "FloatProgressModel",
          "model_module_version": "1.5.0",
          "state": {
            "_dom_classes": [],
            "_model_module": "@jupyter-widgets/controls",
            "_model_module_version": "1.5.0",
            "_model_name": "FloatProgressModel",
            "_view_count": null,
            "_view_module": "@jupyter-widgets/controls",
            "_view_module_version": "1.5.0",
            "_view_name": "ProgressView",
            "bar_style": "success",
            "description": "",
            "description_tooltip": null,
            "layout": "IPY_MODEL_d9a824ff43f64f4da0ed1635b0a8b22a",
            "max": 267967963,
            "min": 0,
            "orientation": "horizontal",
            "style": "IPY_MODEL_9389854a1096426cba553875508df0a9",
            "value": 267967963
          }
        },
        "322291fd434e4941a81a325b5ff8b9bc": {
          "model_module": "@jupyter-widgets/controls",
          "model_name": "HTMLModel",
          "model_module_version": "1.5.0",
          "state": {
            "_dom_classes": [],
            "_model_module": "@jupyter-widgets/controls",
            "_model_module_version": "1.5.0",
            "_model_name": "HTMLModel",
            "_view_count": null,
            "_view_module": "@jupyter-widgets/controls",
            "_view_module_version": "1.5.0",
            "_view_name": "HTMLView",
            "description": "",
            "description_tooltip": null,
            "layout": "IPY_MODEL_f6946e9800674b079e8038b079d40be1",
            "placeholder": "​",
            "style": "IPY_MODEL_ed935da15fd94c4891054ef096d2b79a",
            "value": " 256M/256M [00:05&lt;00:00, 53.1MB/s]"
          }
        },
        "fed45633626c4bf59c47e5f8639338a9": {
          "model_module": "@jupyter-widgets/base",
          "model_name": "LayoutModel",
          "model_module_version": "1.2.0",
          "state": {
            "_model_module": "@jupyter-widgets/base",
            "_model_module_version": "1.2.0",
            "_model_name": "LayoutModel",
            "_view_count": null,
            "_view_module": "@jupyter-widgets/base",
            "_view_module_version": "1.2.0",
            "_view_name": "LayoutView",
            "align_content": null,
            "align_items": null,
            "align_self": null,
            "border": null,
            "bottom": null,
            "display": null,
            "flex": null,
            "flex_flow": null,
            "grid_area": null,
            "grid_auto_columns": null,
            "grid_auto_flow": null,
            "grid_auto_rows": null,
            "grid_column": null,
            "grid_gap": null,
            "grid_row": null,
            "grid_template_areas": null,
            "grid_template_columns": null,
            "grid_template_rows": null,
            "height": null,
            "justify_content": null,
            "justify_items": null,
            "left": null,
            "margin": null,
            "max_height": null,
            "max_width": null,
            "min_height": null,
            "min_width": null,
            "object_fit": null,
            "object_position": null,
            "order": null,
            "overflow": null,
            "overflow_x": null,
            "overflow_y": null,
            "padding": null,
            "right": null,
            "top": null,
            "visibility": null,
            "width": null
          }
        },
        "29b5e475904843d581b32bb29a01d0e9": {
          "model_module": "@jupyter-widgets/base",
          "model_name": "LayoutModel",
          "model_module_version": "1.2.0",
          "state": {
            "_model_module": "@jupyter-widgets/base",
            "_model_module_version": "1.2.0",
            "_model_name": "LayoutModel",
            "_view_count": null,
            "_view_module": "@jupyter-widgets/base",
            "_view_module_version": "1.2.0",
            "_view_name": "LayoutView",
            "align_content": null,
            "align_items": null,
            "align_self": null,
            "border": null,
            "bottom": null,
            "display": null,
            "flex": null,
            "flex_flow": null,
            "grid_area": null,
            "grid_auto_columns": null,
            "grid_auto_flow": null,
            "grid_auto_rows": null,
            "grid_column": null,
            "grid_gap": null,
            "grid_row": null,
            "grid_template_areas": null,
            "grid_template_columns": null,
            "grid_template_rows": null,
            "height": null,
            "justify_content": null,
            "justify_items": null,
            "left": null,
            "margin": null,
            "max_height": null,
            "max_width": null,
            "min_height": null,
            "min_width": null,
            "object_fit": null,
            "object_position": null,
            "order": null,
            "overflow": null,
            "overflow_x": null,
            "overflow_y": null,
            "padding": null,
            "right": null,
            "top": null,
            "visibility": null,
            "width": null
          }
        },
        "2a02b6fad6ef4e9bacbdbad1b04f89d1": {
          "model_module": "@jupyter-widgets/controls",
          "model_name": "DescriptionStyleModel",
          "model_module_version": "1.5.0",
          "state": {
            "_model_module": "@jupyter-widgets/controls",
            "_model_module_version": "1.5.0",
            "_model_name": "DescriptionStyleModel",
            "_view_count": null,
            "_view_module": "@jupyter-widgets/base",
            "_view_module_version": "1.2.0",
            "_view_name": "StyleView",
            "description_width": ""
          }
        },
        "d9a824ff43f64f4da0ed1635b0a8b22a": {
          "model_module": "@jupyter-widgets/base",
          "model_name": "LayoutModel",
          "model_module_version": "1.2.0",
          "state": {
            "_model_module": "@jupyter-widgets/base",
            "_model_module_version": "1.2.0",
            "_model_name": "LayoutModel",
            "_view_count": null,
            "_view_module": "@jupyter-widgets/base",
            "_view_module_version": "1.2.0",
            "_view_name": "LayoutView",
            "align_content": null,
            "align_items": null,
            "align_self": null,
            "border": null,
            "bottom": null,
            "display": null,
            "flex": null,
            "flex_flow": null,
            "grid_area": null,
            "grid_auto_columns": null,
            "grid_auto_flow": null,
            "grid_auto_rows": null,
            "grid_column": null,
            "grid_gap": null,
            "grid_row": null,
            "grid_template_areas": null,
            "grid_template_columns": null,
            "grid_template_rows": null,
            "height": null,
            "justify_content": null,
            "justify_items": null,
            "left": null,
            "margin": null,
            "max_height": null,
            "max_width": null,
            "min_height": null,
            "min_width": null,
            "object_fit": null,
            "object_position": null,
            "order": null,
            "overflow": null,
            "overflow_x": null,
            "overflow_y": null,
            "padding": null,
            "right": null,
            "top": null,
            "visibility": null,
            "width": null
          }
        },
        "9389854a1096426cba553875508df0a9": {
          "model_module": "@jupyter-widgets/controls",
          "model_name": "ProgressStyleModel",
          "model_module_version": "1.5.0",
          "state": {
            "_model_module": "@jupyter-widgets/controls",
            "_model_module_version": "1.5.0",
            "_model_name": "ProgressStyleModel",
            "_view_count": null,
            "_view_module": "@jupyter-widgets/base",
            "_view_module_version": "1.2.0",
            "_view_name": "StyleView",
            "bar_color": null,
            "description_width": ""
          }
        },
        "f6946e9800674b079e8038b079d40be1": {
          "model_module": "@jupyter-widgets/base",
          "model_name": "LayoutModel",
          "model_module_version": "1.2.0",
          "state": {
            "_model_module": "@jupyter-widgets/base",
            "_model_module_version": "1.2.0",
            "_model_name": "LayoutModel",
            "_view_count": null,
            "_view_module": "@jupyter-widgets/base",
            "_view_module_version": "1.2.0",
            "_view_name": "LayoutView",
            "align_content": null,
            "align_items": null,
            "align_self": null,
            "border": null,
            "bottom": null,
            "display": null,
            "flex": null,
            "flex_flow": null,
            "grid_area": null,
            "grid_auto_columns": null,
            "grid_auto_flow": null,
            "grid_auto_rows": null,
            "grid_column": null,
            "grid_gap": null,
            "grid_row": null,
            "grid_template_areas": null,
            "grid_template_columns": null,
            "grid_template_rows": null,
            "height": null,
            "justify_content": null,
            "justify_items": null,
            "left": null,
            "margin": null,
            "max_height": null,
            "max_width": null,
            "min_height": null,
            "min_width": null,
            "object_fit": null,
            "object_position": null,
            "order": null,
            "overflow": null,
            "overflow_x": null,
            "overflow_y": null,
            "padding": null,
            "right": null,
            "top": null,
            "visibility": null,
            "width": null
          }
        },
        "ed935da15fd94c4891054ef096d2b79a": {
          "model_module": "@jupyter-widgets/controls",
          "model_name": "DescriptionStyleModel",
          "model_module_version": "1.5.0",
          "state": {
            "_model_module": "@jupyter-widgets/controls",
            "_model_module_version": "1.5.0",
            "_model_name": "DescriptionStyleModel",
            "_view_count": null,
            "_view_module": "@jupyter-widgets/base",
            "_view_module_version": "1.2.0",
            "_view_name": "StyleView",
            "description_width": ""
          }
        },
        "57da68a91688439f9bd8a689be9032e3": {
          "model_module": "@jupyter-widgets/controls",
          "model_name": "HBoxModel",
          "model_module_version": "1.5.0",
          "state": {
            "_view_name": "HBoxView",
            "_dom_classes": [],
            "_model_name": "HBoxModel",
            "_view_module": "@jupyter-widgets/controls",
            "_model_module_version": "1.5.0",
            "_view_count": null,
            "_view_module_version": "1.5.0",
            "box_style": "",
            "layout": "IPY_MODEL_177db148658b423c992afe38c6055827",
            "_model_module": "@jupyter-widgets/controls",
            "children": [
              "IPY_MODEL_afcb6b9ceb584ff2847d74cbae78b747",
              "IPY_MODEL_d9edf7f9a04d4a8490826f013f789d61"
            ]
          }
        },
        "177db148658b423c992afe38c6055827": {
          "model_module": "@jupyter-widgets/base",
          "model_name": "LayoutModel",
          "model_module_version": "1.2.0",
          "state": {
            "_view_name": "LayoutView",
            "grid_template_rows": null,
            "right": null,
            "justify_content": null,
            "_view_module": "@jupyter-widgets/base",
            "overflow": null,
            "_model_module_version": "1.2.0",
            "_view_count": null,
            "flex_flow": null,
            "width": null,
            "min_width": null,
            "border": null,
            "align_items": null,
            "bottom": null,
            "_model_module": "@jupyter-widgets/base",
            "top": null,
            "grid_column": null,
            "overflow_y": null,
            "overflow_x": null,
            "grid_auto_flow": null,
            "grid_area": null,
            "grid_template_columns": null,
            "flex": null,
            "_model_name": "LayoutModel",
            "justify_items": null,
            "grid_row": null,
            "max_height": null,
            "align_content": null,
            "visibility": null,
            "align_self": null,
            "height": null,
            "min_height": null,
            "padding": null,
            "grid_auto_rows": null,
            "grid_gap": null,
            "max_width": null,
            "order": null,
            "_view_module_version": "1.2.0",
            "grid_template_areas": null,
            "object_position": null,
            "object_fit": null,
            "grid_auto_columns": null,
            "margin": null,
            "display": null,
            "left": null
          }
        },
        "afcb6b9ceb584ff2847d74cbae78b747": {
          "model_module": "@jupyter-widgets/controls",
          "model_name": "IntProgressModel",
          "model_module_version": "1.5.0",
          "state": {
            "_view_name": "ProgressView",
            "style": "IPY_MODEL_1f3cfa1662f74cdc9ec0f7bb80e2c655",
            "_dom_classes": [],
            "description": "Downloading",
            "_model_name": "IntProgressModel",
            "bar_style": "success",
            "max": 231508,
            "_view_module": "@jupyter-widgets/controls",
            "_model_module_version": "1.5.0",
            "value": 231508,
            "_view_count": null,
            "_view_module_version": "1.5.0",
            "orientation": "horizontal",
            "min": 0,
            "description_tooltip": null,
            "_model_module": "@jupyter-widgets/controls",
            "layout": "IPY_MODEL_0aff4be900b540b18ce210b8f8b8a094"
          }
        },
        "d9edf7f9a04d4a8490826f013f789d61": {
          "model_module": "@jupyter-widgets/controls",
          "model_name": "HTMLModel",
          "model_module_version": "1.5.0",
          "state": {
            "_view_name": "HTMLView",
            "style": "IPY_MODEL_fd57d3779a284b01b23ad403f0db8f8e",
            "_dom_classes": [],
            "description": "",
            "_model_name": "HTMLModel",
            "placeholder": "​",
            "_view_module": "@jupyter-widgets/controls",
            "_model_module_version": "1.5.0",
            "value": "100% 232k/232k [00:00&lt;00:00, 1.93MB/s]",
            "_view_count": null,
            "_view_module_version": "1.5.0",
            "description_tooltip": null,
            "_model_module": "@jupyter-widgets/controls",
            "layout": "IPY_MODEL_1511934e8e774968863b6d598ae6a82c"
          }
        },
        "1f3cfa1662f74cdc9ec0f7bb80e2c655": {
          "model_module": "@jupyter-widgets/controls",
          "model_name": "ProgressStyleModel",
          "model_module_version": "1.5.0",
          "state": {
            "_view_name": "StyleView",
            "_model_name": "ProgressStyleModel",
            "description_width": "initial",
            "_view_module": "@jupyter-widgets/base",
            "_model_module_version": "1.5.0",
            "_view_count": null,
            "_view_module_version": "1.2.0",
            "bar_color": null,
            "_model_module": "@jupyter-widgets/controls"
          }
        },
        "0aff4be900b540b18ce210b8f8b8a094": {
          "model_module": "@jupyter-widgets/base",
          "model_name": "LayoutModel",
          "model_module_version": "1.2.0",
          "state": {
            "_view_name": "LayoutView",
            "grid_template_rows": null,
            "right": null,
            "justify_content": null,
            "_view_module": "@jupyter-widgets/base",
            "overflow": null,
            "_model_module_version": "1.2.0",
            "_view_count": null,
            "flex_flow": null,
            "width": null,
            "min_width": null,
            "border": null,
            "align_items": null,
            "bottom": null,
            "_model_module": "@jupyter-widgets/base",
            "top": null,
            "grid_column": null,
            "overflow_y": null,
            "overflow_x": null,
            "grid_auto_flow": null,
            "grid_area": null,
            "grid_template_columns": null,
            "flex": null,
            "_model_name": "LayoutModel",
            "justify_items": null,
            "grid_row": null,
            "max_height": null,
            "align_content": null,
            "visibility": null,
            "align_self": null,
            "height": null,
            "min_height": null,
            "padding": null,
            "grid_auto_rows": null,
            "grid_gap": null,
            "max_width": null,
            "order": null,
            "_view_module_version": "1.2.0",
            "grid_template_areas": null,
            "object_position": null,
            "object_fit": null,
            "grid_auto_columns": null,
            "margin": null,
            "display": null,
            "left": null
          }
        },
        "fd57d3779a284b01b23ad403f0db8f8e": {
          "model_module": "@jupyter-widgets/controls",
          "model_name": "DescriptionStyleModel",
          "model_module_version": "1.5.0",
          "state": {
            "_view_name": "StyleView",
            "_model_name": "DescriptionStyleModel",
            "description_width": "",
            "_view_module": "@jupyter-widgets/base",
            "_model_module_version": "1.5.0",
            "_view_count": null,
            "_view_module_version": "1.2.0",
            "_model_module": "@jupyter-widgets/controls"
          }
        },
        "1511934e8e774968863b6d598ae6a82c": {
          "model_module": "@jupyter-widgets/base",
          "model_name": "LayoutModel",
          "model_module_version": "1.2.0",
          "state": {
            "_view_name": "LayoutView",
            "grid_template_rows": null,
            "right": null,
            "justify_content": null,
            "_view_module": "@jupyter-widgets/base",
            "overflow": null,
            "_model_module_version": "1.2.0",
            "_view_count": null,
            "flex_flow": null,
            "width": null,
            "min_width": null,
            "border": null,
            "align_items": null,
            "bottom": null,
            "_model_module": "@jupyter-widgets/base",
            "top": null,
            "grid_column": null,
            "overflow_y": null,
            "overflow_x": null,
            "grid_auto_flow": null,
            "grid_area": null,
            "grid_template_columns": null,
            "flex": null,
            "_model_name": "LayoutModel",
            "justify_items": null,
            "grid_row": null,
            "max_height": null,
            "align_content": null,
            "visibility": null,
            "align_self": null,
            "height": null,
            "min_height": null,
            "padding": null,
            "grid_auto_rows": null,
            "grid_gap": null,
            "max_width": null,
            "order": null,
            "_view_module_version": "1.2.0",
            "grid_template_areas": null,
            "object_position": null,
            "object_fit": null,
            "grid_auto_columns": null,
            "margin": null,
            "display": null,
            "left": null
          }
        },
        "183c57076596459c9dd926f1d9271d39": {
          "model_module": "@jupyter-widgets/controls",
          "model_name": "HBoxModel",
          "model_module_version": "1.5.0",
          "state": {
            "_view_name": "HBoxView",
            "_dom_classes": [],
            "_model_name": "HBoxModel",
            "_view_module": "@jupyter-widgets/controls",
            "_model_module_version": "1.5.0",
            "_view_count": null,
            "_view_module_version": "1.5.0",
            "box_style": "",
            "layout": "IPY_MODEL_b6ef98f5c7874367a1f677563421db15",
            "_model_module": "@jupyter-widgets/controls",
            "children": [
              "IPY_MODEL_19f077c84e3943a8b401211f6eb1c7b9",
              "IPY_MODEL_47171d4f08d54d2794c79b80ba90fed6"
            ]
          }
        },
        "b6ef98f5c7874367a1f677563421db15": {
          "model_module": "@jupyter-widgets/base",
          "model_name": "LayoutModel",
          "model_module_version": "1.2.0",
          "state": {
            "_view_name": "LayoutView",
            "grid_template_rows": null,
            "right": null,
            "justify_content": null,
            "_view_module": "@jupyter-widgets/base",
            "overflow": null,
            "_model_module_version": "1.2.0",
            "_view_count": null,
            "flex_flow": null,
            "width": null,
            "min_width": null,
            "border": null,
            "align_items": null,
            "bottom": null,
            "_model_module": "@jupyter-widgets/base",
            "top": null,
            "grid_column": null,
            "overflow_y": null,
            "overflow_x": null,
            "grid_auto_flow": null,
            "grid_area": null,
            "grid_template_columns": null,
            "flex": null,
            "_model_name": "LayoutModel",
            "justify_items": null,
            "grid_row": null,
            "max_height": null,
            "align_content": null,
            "visibility": null,
            "align_self": null,
            "height": null,
            "min_height": null,
            "padding": null,
            "grid_auto_rows": null,
            "grid_gap": null,
            "max_width": null,
            "order": null,
            "_view_module_version": "1.2.0",
            "grid_template_areas": null,
            "object_position": null,
            "object_fit": null,
            "grid_auto_columns": null,
            "margin": null,
            "display": null,
            "left": null
          }
        },
        "19f077c84e3943a8b401211f6eb1c7b9": {
          "model_module": "@jupyter-widgets/controls",
          "model_name": "IntProgressModel",
          "model_module_version": "1.5.0",
          "state": {
            "_view_name": "ProgressView",
            "style": "IPY_MODEL_a4f41459740c4acdbb8eebb77aa77aed",
            "_dom_classes": [],
            "description": "Downloading",
            "_model_name": "IntProgressModel",
            "bar_style": "success",
            "max": 466062,
            "_view_module": "@jupyter-widgets/controls",
            "_model_module_version": "1.5.0",
            "value": 466062,
            "_view_count": null,
            "_view_module_version": "1.5.0",
            "orientation": "horizontal",
            "min": 0,
            "description_tooltip": null,
            "_model_module": "@jupyter-widgets/controls",
            "layout": "IPY_MODEL_c5e0b00c9a3f4331b913bfbcd1eb56f1"
          }
        },
        "47171d4f08d54d2794c79b80ba90fed6": {
          "model_module": "@jupyter-widgets/controls",
          "model_name": "HTMLModel",
          "model_module_version": "1.5.0",
          "state": {
            "_view_name": "HTMLView",
            "style": "IPY_MODEL_9bde820bbdcf47828b71314dac908680",
            "_dom_classes": [],
            "description": "",
            "_model_name": "HTMLModel",
            "placeholder": "​",
            "_view_module": "@jupyter-widgets/controls",
            "_model_module_version": "1.5.0",
            "value": "100% 466k/466k [00:00&lt;00:00, 3.05MB/s]",
            "_view_count": null,
            "_view_module_version": "1.5.0",
            "description_tooltip": null,
            "_model_module": "@jupyter-widgets/controls",
            "layout": "IPY_MODEL_dfc0b63bbb6d472c8fcf9c0214746e22"
          }
        },
        "a4f41459740c4acdbb8eebb77aa77aed": {
          "model_module": "@jupyter-widgets/controls",
          "model_name": "ProgressStyleModel",
          "model_module_version": "1.5.0",
          "state": {
            "_view_name": "StyleView",
            "_model_name": "ProgressStyleModel",
            "description_width": "initial",
            "_view_module": "@jupyter-widgets/base",
            "_model_module_version": "1.5.0",
            "_view_count": null,
            "_view_module_version": "1.2.0",
            "bar_color": null,
            "_model_module": "@jupyter-widgets/controls"
          }
        },
        "c5e0b00c9a3f4331b913bfbcd1eb56f1": {
          "model_module": "@jupyter-widgets/base",
          "model_name": "LayoutModel",
          "model_module_version": "1.2.0",
          "state": {
            "_view_name": "LayoutView",
            "grid_template_rows": null,
            "right": null,
            "justify_content": null,
            "_view_module": "@jupyter-widgets/base",
            "overflow": null,
            "_model_module_version": "1.2.0",
            "_view_count": null,
            "flex_flow": null,
            "width": null,
            "min_width": null,
            "border": null,
            "align_items": null,
            "bottom": null,
            "_model_module": "@jupyter-widgets/base",
            "top": null,
            "grid_column": null,
            "overflow_y": null,
            "overflow_x": null,
            "grid_auto_flow": null,
            "grid_area": null,
            "grid_template_columns": null,
            "flex": null,
            "_model_name": "LayoutModel",
            "justify_items": null,
            "grid_row": null,
            "max_height": null,
            "align_content": null,
            "visibility": null,
            "align_self": null,
            "height": null,
            "min_height": null,
            "padding": null,
            "grid_auto_rows": null,
            "grid_gap": null,
            "max_width": null,
            "order": null,
            "_view_module_version": "1.2.0",
            "grid_template_areas": null,
            "object_position": null,
            "object_fit": null,
            "grid_auto_columns": null,
            "margin": null,
            "display": null,
            "left": null
          }
        },
        "9bde820bbdcf47828b71314dac908680": {
          "model_module": "@jupyter-widgets/controls",
          "model_name": "DescriptionStyleModel",
          "model_module_version": "1.5.0",
          "state": {
            "_view_name": "StyleView",
            "_model_name": "DescriptionStyleModel",
            "description_width": "",
            "_view_module": "@jupyter-widgets/base",
            "_model_module_version": "1.5.0",
            "_view_count": null,
            "_view_module_version": "1.2.0",
            "_model_module": "@jupyter-widgets/controls"
          }
        },
        "dfc0b63bbb6d472c8fcf9c0214746e22": {
          "model_module": "@jupyter-widgets/base",
          "model_name": "LayoutModel",
          "model_module_version": "1.2.0",
          "state": {
            "_view_name": "LayoutView",
            "grid_template_rows": null,
            "right": null,
            "justify_content": null,
            "_view_module": "@jupyter-widgets/base",
            "overflow": null,
            "_model_module_version": "1.2.0",
            "_view_count": null,
            "flex_flow": null,
            "width": null,
            "min_width": null,
            "border": null,
            "align_items": null,
            "bottom": null,
            "_model_module": "@jupyter-widgets/base",
            "top": null,
            "grid_column": null,
            "overflow_y": null,
            "overflow_x": null,
            "grid_auto_flow": null,
            "grid_area": null,
            "grid_template_columns": null,
            "flex": null,
            "_model_name": "LayoutModel",
            "justify_items": null,
            "grid_row": null,
            "max_height": null,
            "align_content": null,
            "visibility": null,
            "align_self": null,
            "height": null,
            "min_height": null,
            "padding": null,
            "grid_auto_rows": null,
            "grid_gap": null,
            "max_width": null,
            "order": null,
            "_view_module_version": "1.2.0",
            "grid_template_areas": null,
            "object_position": null,
            "object_fit": null,
            "grid_auto_columns": null,
            "margin": null,
            "display": null,
            "left": null
          }
        },
        "c663c4dcb19b477ea456e05251fb9705": {
          "model_module": "@jupyter-widgets/controls",
          "model_name": "HBoxModel",
          "model_module_version": "1.5.0",
          "state": {
            "_view_name": "HBoxView",
            "_dom_classes": [],
            "_model_name": "HBoxModel",
            "_view_module": "@jupyter-widgets/controls",
            "_model_module_version": "1.5.0",
            "_view_count": null,
            "_view_module_version": "1.5.0",
            "box_style": "",
            "layout": "IPY_MODEL_075de14e47844feda56d498bb6ff0991",
            "_model_module": "@jupyter-widgets/controls",
            "children": [
              "IPY_MODEL_246728faf3bf44fb97ca380eb8ea753a",
              "IPY_MODEL_2172368e09134b77a1b41feec3b68e6d"
            ]
          }
        },
        "075de14e47844feda56d498bb6ff0991": {
          "model_module": "@jupyter-widgets/base",
          "model_name": "LayoutModel",
          "model_module_version": "1.2.0",
          "state": {
            "_view_name": "LayoutView",
            "grid_template_rows": null,
            "right": null,
            "justify_content": null,
            "_view_module": "@jupyter-widgets/base",
            "overflow": null,
            "_model_module_version": "1.2.0",
            "_view_count": null,
            "flex_flow": null,
            "width": null,
            "min_width": null,
            "border": null,
            "align_items": null,
            "bottom": null,
            "_model_module": "@jupyter-widgets/base",
            "top": null,
            "grid_column": null,
            "overflow_y": null,
            "overflow_x": null,
            "grid_auto_flow": null,
            "grid_area": null,
            "grid_template_columns": null,
            "flex": null,
            "_model_name": "LayoutModel",
            "justify_items": null,
            "grid_row": null,
            "max_height": null,
            "align_content": null,
            "visibility": null,
            "align_self": null,
            "height": null,
            "min_height": null,
            "padding": null,
            "grid_auto_rows": null,
            "grid_gap": null,
            "max_width": null,
            "order": null,
            "_view_module_version": "1.2.0",
            "grid_template_areas": null,
            "object_position": null,
            "object_fit": null,
            "grid_auto_columns": null,
            "margin": null,
            "display": null,
            "left": null
          }
        },
        "246728faf3bf44fb97ca380eb8ea753a": {
          "model_module": "@jupyter-widgets/controls",
          "model_name": "IntProgressModel",
          "model_module_version": "1.5.0",
          "state": {
            "_view_name": "ProgressView",
            "style": "IPY_MODEL_e5f9bb61e0e949cf8e018f7e8f40b714",
            "_dom_classes": [],
            "description": "Downloading",
            "_model_name": "IntProgressModel",
            "bar_style": "success",
            "max": 28,
            "_view_module": "@jupyter-widgets/controls",
            "_model_module_version": "1.5.0",
            "value": 28,
            "_view_count": null,
            "_view_module_version": "1.5.0",
            "orientation": "horizontal",
            "min": 0,
            "description_tooltip": null,
            "_model_module": "@jupyter-widgets/controls",
            "layout": "IPY_MODEL_cc361aee59344bbc80ae185c2d91cda6"
          }
        },
        "2172368e09134b77a1b41feec3b68e6d": {
          "model_module": "@jupyter-widgets/controls",
          "model_name": "HTMLModel",
          "model_module_version": "1.5.0",
          "state": {
            "_view_name": "HTMLView",
            "style": "IPY_MODEL_09b1054a61d9437eaf9141e23444f801",
            "_dom_classes": [],
            "description": "",
            "_model_name": "HTMLModel",
            "placeholder": "​",
            "_view_module": "@jupyter-widgets/controls",
            "_model_module_version": "1.5.0",
            "value": "100% 28.0/28.0 [00:00&lt;00:00, 943B/s]",
            "_view_count": null,
            "_view_module_version": "1.5.0",
            "description_tooltip": null,
            "_model_module": "@jupyter-widgets/controls",
            "layout": "IPY_MODEL_3427f6dcb7ec458fa17de0cb5b037831"
          }
        },
        "e5f9bb61e0e949cf8e018f7e8f40b714": {
          "model_module": "@jupyter-widgets/controls",
          "model_name": "ProgressStyleModel",
          "model_module_version": "1.5.0",
          "state": {
            "_view_name": "StyleView",
            "_model_name": "ProgressStyleModel",
            "description_width": "initial",
            "_view_module": "@jupyter-widgets/base",
            "_model_module_version": "1.5.0",
            "_view_count": null,
            "_view_module_version": "1.2.0",
            "bar_color": null,
            "_model_module": "@jupyter-widgets/controls"
          }
        },
        "cc361aee59344bbc80ae185c2d91cda6": {
          "model_module": "@jupyter-widgets/base",
          "model_name": "LayoutModel",
          "model_module_version": "1.2.0",
          "state": {
            "_view_name": "LayoutView",
            "grid_template_rows": null,
            "right": null,
            "justify_content": null,
            "_view_module": "@jupyter-widgets/base",
            "overflow": null,
            "_model_module_version": "1.2.0",
            "_view_count": null,
            "flex_flow": null,
            "width": null,
            "min_width": null,
            "border": null,
            "align_items": null,
            "bottom": null,
            "_model_module": "@jupyter-widgets/base",
            "top": null,
            "grid_column": null,
            "overflow_y": null,
            "overflow_x": null,
            "grid_auto_flow": null,
            "grid_area": null,
            "grid_template_columns": null,
            "flex": null,
            "_model_name": "LayoutModel",
            "justify_items": null,
            "grid_row": null,
            "max_height": null,
            "align_content": null,
            "visibility": null,
            "align_self": null,
            "height": null,
            "min_height": null,
            "padding": null,
            "grid_auto_rows": null,
            "grid_gap": null,
            "max_width": null,
            "order": null,
            "_view_module_version": "1.2.0",
            "grid_template_areas": null,
            "object_position": null,
            "object_fit": null,
            "grid_auto_columns": null,
            "margin": null,
            "display": null,
            "left": null
          }
        },
        "09b1054a61d9437eaf9141e23444f801": {
          "model_module": "@jupyter-widgets/controls",
          "model_name": "DescriptionStyleModel",
          "model_module_version": "1.5.0",
          "state": {
            "_view_name": "StyleView",
            "_model_name": "DescriptionStyleModel",
            "description_width": "",
            "_view_module": "@jupyter-widgets/base",
            "_model_module_version": "1.5.0",
            "_view_count": null,
            "_view_module_version": "1.2.0",
            "_model_module": "@jupyter-widgets/controls"
          }
        },
        "3427f6dcb7ec458fa17de0cb5b037831": {
          "model_module": "@jupyter-widgets/base",
          "model_name": "LayoutModel",
          "model_module_version": "1.2.0",
          "state": {
            "_view_name": "LayoutView",
            "grid_template_rows": null,
            "right": null,
            "justify_content": null,
            "_view_module": "@jupyter-widgets/base",
            "overflow": null,
            "_model_module_version": "1.2.0",
            "_view_count": null,
            "flex_flow": null,
            "width": null,
            "min_width": null,
            "border": null,
            "align_items": null,
            "bottom": null,
            "_model_module": "@jupyter-widgets/base",
            "top": null,
            "grid_column": null,
            "overflow_y": null,
            "overflow_x": null,
            "grid_auto_flow": null,
            "grid_area": null,
            "grid_template_columns": null,
            "flex": null,
            "_model_name": "LayoutModel",
            "justify_items": null,
            "grid_row": null,
            "max_height": null,
            "align_content": null,
            "visibility": null,
            "align_self": null,
            "height": null,
            "min_height": null,
            "padding": null,
            "grid_auto_rows": null,
            "grid_gap": null,
            "max_width": null,
            "order": null,
            "_view_module_version": "1.2.0",
            "grid_template_areas": null,
            "object_position": null,
            "object_fit": null,
            "grid_auto_columns": null,
            "margin": null,
            "display": null,
            "left": null
          }
        },
        "0a238b9f9c6240b986ee8d859d77b065": {
          "model_module": "@jupyter-widgets/controls",
          "model_name": "HBoxModel",
          "model_module_version": "1.5.0",
          "state": {
            "_view_name": "HBoxView",
            "_dom_classes": [],
            "_model_name": "HBoxModel",
            "_view_module": "@jupyter-widgets/controls",
            "_model_module_version": "1.5.0",
            "_view_count": null,
            "_view_module_version": "1.5.0",
            "box_style": "",
            "layout": "IPY_MODEL_4f1bca58be8b478fbb322057c81c0e46",
            "_model_module": "@jupyter-widgets/controls",
            "children": [
              "IPY_MODEL_03ac6ebafd6d430986d1357250a83b58",
              "IPY_MODEL_e58ef81d02554e32aa5623ca2b80041b"
            ]
          }
        },
        "4f1bca58be8b478fbb322057c81c0e46": {
          "model_module": "@jupyter-widgets/base",
          "model_name": "LayoutModel",
          "model_module_version": "1.2.0",
          "state": {
            "_view_name": "LayoutView",
            "grid_template_rows": null,
            "right": null,
            "justify_content": null,
            "_view_module": "@jupyter-widgets/base",
            "overflow": null,
            "_model_module_version": "1.2.0",
            "_view_count": null,
            "flex_flow": null,
            "width": null,
            "min_width": null,
            "border": null,
            "align_items": null,
            "bottom": null,
            "_model_module": "@jupyter-widgets/base",
            "top": null,
            "grid_column": null,
            "overflow_y": null,
            "overflow_x": null,
            "grid_auto_flow": null,
            "grid_area": null,
            "grid_template_columns": null,
            "flex": null,
            "_model_name": "LayoutModel",
            "justify_items": null,
            "grid_row": null,
            "max_height": null,
            "align_content": null,
            "visibility": null,
            "align_self": null,
            "height": null,
            "min_height": null,
            "padding": null,
            "grid_auto_rows": null,
            "grid_gap": null,
            "max_width": null,
            "order": null,
            "_view_module_version": "1.2.0",
            "grid_template_areas": null,
            "object_position": null,
            "object_fit": null,
            "grid_auto_columns": null,
            "margin": null,
            "display": null,
            "left": null
          }
        },
        "03ac6ebafd6d430986d1357250a83b58": {
          "model_module": "@jupyter-widgets/controls",
          "model_name": "IntProgressModel",
          "model_module_version": "1.5.0",
          "state": {
            "_view_name": "ProgressView",
            "style": "IPY_MODEL_f27becb57b394b449bd3f0f3bbedafa5",
            "_dom_classes": [],
            "description": "Downloading",
            "_model_name": "IntProgressModel",
            "bar_style": "success",
            "max": 484,
            "_view_module": "@jupyter-widgets/controls",
            "_model_module_version": "1.5.0",
            "value": 484,
            "_view_count": null,
            "_view_module_version": "1.5.0",
            "orientation": "horizontal",
            "min": 0,
            "description_tooltip": null,
            "_model_module": "@jupyter-widgets/controls",
            "layout": "IPY_MODEL_cab90b3f4300478195a806ae543b3199"
          }
        },
        "e58ef81d02554e32aa5623ca2b80041b": {
          "model_module": "@jupyter-widgets/controls",
          "model_name": "HTMLModel",
          "model_module_version": "1.5.0",
          "state": {
            "_view_name": "HTMLView",
            "style": "IPY_MODEL_5ce61a03e00c4f49a9bb3c8487e0c82d",
            "_dom_classes": [],
            "description": "",
            "_model_name": "HTMLModel",
            "placeholder": "​",
            "_view_module": "@jupyter-widgets/controls",
            "_model_module_version": "1.5.0",
            "value": "100% 484/484 [00:00&lt;00:00, 12.4kB/s]",
            "_view_count": null,
            "_view_module_version": "1.5.0",
            "description_tooltip": null,
            "_model_module": "@jupyter-widgets/controls",
            "layout": "IPY_MODEL_902b9e6a94e74b65a54e43ea02b0f4d7"
          }
        },
        "f27becb57b394b449bd3f0f3bbedafa5": {
          "model_module": "@jupyter-widgets/controls",
          "model_name": "ProgressStyleModel",
          "model_module_version": "1.5.0",
          "state": {
            "_view_name": "StyleView",
            "_model_name": "ProgressStyleModel",
            "description_width": "initial",
            "_view_module": "@jupyter-widgets/base",
            "_model_module_version": "1.5.0",
            "_view_count": null,
            "_view_module_version": "1.2.0",
            "bar_color": null,
            "_model_module": "@jupyter-widgets/controls"
          }
        },
        "cab90b3f4300478195a806ae543b3199": {
          "model_module": "@jupyter-widgets/base",
          "model_name": "LayoutModel",
          "model_module_version": "1.2.0",
          "state": {
            "_view_name": "LayoutView",
            "grid_template_rows": null,
            "right": null,
            "justify_content": null,
            "_view_module": "@jupyter-widgets/base",
            "overflow": null,
            "_model_module_version": "1.2.0",
            "_view_count": null,
            "flex_flow": null,
            "width": null,
            "min_width": null,
            "border": null,
            "align_items": null,
            "bottom": null,
            "_model_module": "@jupyter-widgets/base",
            "top": null,
            "grid_column": null,
            "overflow_y": null,
            "overflow_x": null,
            "grid_auto_flow": null,
            "grid_area": null,
            "grid_template_columns": null,
            "flex": null,
            "_model_name": "LayoutModel",
            "justify_items": null,
            "grid_row": null,
            "max_height": null,
            "align_content": null,
            "visibility": null,
            "align_self": null,
            "height": null,
            "min_height": null,
            "padding": null,
            "grid_auto_rows": null,
            "grid_gap": null,
            "max_width": null,
            "order": null,
            "_view_module_version": "1.2.0",
            "grid_template_areas": null,
            "object_position": null,
            "object_fit": null,
            "grid_auto_columns": null,
            "margin": null,
            "display": null,
            "left": null
          }
        },
        "5ce61a03e00c4f49a9bb3c8487e0c82d": {
          "model_module": "@jupyter-widgets/controls",
          "model_name": "DescriptionStyleModel",
          "model_module_version": "1.5.0",
          "state": {
            "_view_name": "StyleView",
            "_model_name": "DescriptionStyleModel",
            "description_width": "",
            "_view_module": "@jupyter-widgets/base",
            "_model_module_version": "1.5.0",
            "_view_count": null,
            "_view_module_version": "1.2.0",
            "_model_module": "@jupyter-widgets/controls"
          }
        },
        "902b9e6a94e74b65a54e43ea02b0f4d7": {
          "model_module": "@jupyter-widgets/base",
          "model_name": "LayoutModel",
          "model_module_version": "1.2.0",
          "state": {
            "_view_name": "LayoutView",
            "grid_template_rows": null,
            "right": null,
            "justify_content": null,
            "_view_module": "@jupyter-widgets/base",
            "overflow": null,
            "_model_module_version": "1.2.0",
            "_view_count": null,
            "flex_flow": null,
            "width": null,
            "min_width": null,
            "border": null,
            "align_items": null,
            "bottom": null,
            "_model_module": "@jupyter-widgets/base",
            "top": null,
            "grid_column": null,
            "overflow_y": null,
            "overflow_x": null,
            "grid_auto_flow": null,
            "grid_area": null,
            "grid_template_columns": null,
            "flex": null,
            "_model_name": "LayoutModel",
            "justify_items": null,
            "grid_row": null,
            "max_height": null,
            "align_content": null,
            "visibility": null,
            "align_self": null,
            "height": null,
            "min_height": null,
            "padding": null,
            "grid_auto_rows": null,
            "grid_gap": null,
            "max_width": null,
            "order": null,
            "_view_module_version": "1.2.0",
            "grid_template_areas": null,
            "object_position": null,
            "object_fit": null,
            "grid_auto_columns": null,
            "margin": null,
            "display": null,
            "left": null
          }
        },
        "7be9599615014da99e8458bdd3cde544": {
          "model_module": "@jupyter-widgets/controls",
          "model_name": "HBoxModel",
          "model_module_version": "1.5.0",
          "state": {
            "_view_name": "HBoxView",
            "_dom_classes": [],
            "_model_name": "HBoxModel",
            "_view_module": "@jupyter-widgets/controls",
            "_model_module_version": "1.5.0",
            "_view_count": null,
            "_view_module_version": "1.5.0",
            "box_style": "",
            "layout": "IPY_MODEL_4fe2c7de4079410baae2fb1ed1d9836a",
            "_model_module": "@jupyter-widgets/controls",
            "children": [
              "IPY_MODEL_3eb122ee4d5f47849ec192f28ed4b497",
              "IPY_MODEL_d9a7d6ce8e8b43308b3d077f58ac5ee1"
            ]
          }
        },
        "4fe2c7de4079410baae2fb1ed1d9836a": {
          "model_module": "@jupyter-widgets/base",
          "model_name": "LayoutModel",
          "model_module_version": "1.2.0",
          "state": {
            "_view_name": "LayoutView",
            "grid_template_rows": null,
            "right": null,
            "justify_content": null,
            "_view_module": "@jupyter-widgets/base",
            "overflow": null,
            "_model_module_version": "1.2.0",
            "_view_count": null,
            "flex_flow": null,
            "width": null,
            "min_width": null,
            "border": null,
            "align_items": null,
            "bottom": null,
            "_model_module": "@jupyter-widgets/base",
            "top": null,
            "grid_column": null,
            "overflow_y": null,
            "overflow_x": null,
            "grid_auto_flow": null,
            "grid_area": null,
            "grid_template_columns": null,
            "flex": null,
            "_model_name": "LayoutModel",
            "justify_items": null,
            "grid_row": null,
            "max_height": null,
            "align_content": null,
            "visibility": null,
            "align_self": null,
            "height": null,
            "min_height": null,
            "padding": null,
            "grid_auto_rows": null,
            "grid_gap": null,
            "max_width": null,
            "order": null,
            "_view_module_version": "1.2.0",
            "grid_template_areas": null,
            "object_position": null,
            "object_fit": null,
            "grid_auto_columns": null,
            "margin": null,
            "display": null,
            "left": null
          }
        },
        "3eb122ee4d5f47849ec192f28ed4b497": {
          "model_module": "@jupyter-widgets/controls",
          "model_name": "IntProgressModel",
          "model_module_version": "1.5.0",
          "state": {
            "_view_name": "ProgressView",
            "style": "IPY_MODEL_2440c2b9aa2541ec91c6a78a4e3a6989",
            "_dom_classes": [],
            "description": "Downloading",
            "_model_name": "IntProgressModel",
            "bar_style": "success",
            "max": 437998572,
            "_view_module": "@jupyter-widgets/controls",
            "_model_module_version": "1.5.0",
            "value": 437998572,
            "_view_count": null,
            "_view_module_version": "1.5.0",
            "orientation": "horizontal",
            "min": 0,
            "description_tooltip": null,
            "_model_module": "@jupyter-widgets/controls",
            "layout": "IPY_MODEL_abd0c8b888e04931900e06db51e05071"
          }
        },
        "d9a7d6ce8e8b43308b3d077f58ac5ee1": {
          "model_module": "@jupyter-widgets/controls",
          "model_name": "HTMLModel",
          "model_module_version": "1.5.0",
          "state": {
            "_view_name": "HTMLView",
            "style": "IPY_MODEL_f07ac5aac5a84c4abcdbd27178798750",
            "_dom_classes": [],
            "description": "",
            "_model_name": "HTMLModel",
            "placeholder": "​",
            "_view_module": "@jupyter-widgets/controls",
            "_model_module_version": "1.5.0",
            "value": "100% 438M/438M [00:09&lt;00:00, 45.0MB/s]",
            "_view_count": null,
            "_view_module_version": "1.5.0",
            "description_tooltip": null,
            "_model_module": "@jupyter-widgets/controls",
            "layout": "IPY_MODEL_450d72c409fa4d5792dde67b66a96c68"
          }
        },
        "2440c2b9aa2541ec91c6a78a4e3a6989": {
          "model_module": "@jupyter-widgets/controls",
          "model_name": "ProgressStyleModel",
          "model_module_version": "1.5.0",
          "state": {
            "_view_name": "StyleView",
            "_model_name": "ProgressStyleModel",
            "description_width": "initial",
            "_view_module": "@jupyter-widgets/base",
            "_model_module_version": "1.5.0",
            "_view_count": null,
            "_view_module_version": "1.2.0",
            "bar_color": null,
            "_model_module": "@jupyter-widgets/controls"
          }
        },
        "abd0c8b888e04931900e06db51e05071": {
          "model_module": "@jupyter-widgets/base",
          "model_name": "LayoutModel",
          "model_module_version": "1.2.0",
          "state": {
            "_view_name": "LayoutView",
            "grid_template_rows": null,
            "right": null,
            "justify_content": null,
            "_view_module": "@jupyter-widgets/base",
            "overflow": null,
            "_model_module_version": "1.2.0",
            "_view_count": null,
            "flex_flow": null,
            "width": null,
            "min_width": null,
            "border": null,
            "align_items": null,
            "bottom": null,
            "_model_module": "@jupyter-widgets/base",
            "top": null,
            "grid_column": null,
            "overflow_y": null,
            "overflow_x": null,
            "grid_auto_flow": null,
            "grid_area": null,
            "grid_template_columns": null,
            "flex": null,
            "_model_name": "LayoutModel",
            "justify_items": null,
            "grid_row": null,
            "max_height": null,
            "align_content": null,
            "visibility": null,
            "align_self": null,
            "height": null,
            "min_height": null,
            "padding": null,
            "grid_auto_rows": null,
            "grid_gap": null,
            "max_width": null,
            "order": null,
            "_view_module_version": "1.2.0",
            "grid_template_areas": null,
            "object_position": null,
            "object_fit": null,
            "grid_auto_columns": null,
            "margin": null,
            "display": null,
            "left": null
          }
        },
        "f07ac5aac5a84c4abcdbd27178798750": {
          "model_module": "@jupyter-widgets/controls",
          "model_name": "DescriptionStyleModel",
          "model_module_version": "1.5.0",
          "state": {
            "_view_name": "StyleView",
            "_model_name": "DescriptionStyleModel",
            "description_width": "",
            "_view_module": "@jupyter-widgets/base",
            "_model_module_version": "1.5.0",
            "_view_count": null,
            "_view_module_version": "1.2.0",
            "_model_module": "@jupyter-widgets/controls"
          }
        },
        "450d72c409fa4d5792dde67b66a96c68": {
          "model_module": "@jupyter-widgets/base",
          "model_name": "LayoutModel",
          "model_module_version": "1.2.0",
          "state": {
            "_view_name": "LayoutView",
            "grid_template_rows": null,
            "right": null,
            "justify_content": null,
            "_view_module": "@jupyter-widgets/base",
            "overflow": null,
            "_model_module_version": "1.2.0",
            "_view_count": null,
            "flex_flow": null,
            "width": null,
            "min_width": null,
            "border": null,
            "align_items": null,
            "bottom": null,
            "_model_module": "@jupyter-widgets/base",
            "top": null,
            "grid_column": null,
            "overflow_y": null,
            "overflow_x": null,
            "grid_auto_flow": null,
            "grid_area": null,
            "grid_template_columns": null,
            "flex": null,
            "_model_name": "LayoutModel",
            "justify_items": null,
            "grid_row": null,
            "max_height": null,
            "align_content": null,
            "visibility": null,
            "align_self": null,
            "height": null,
            "min_height": null,
            "padding": null,
            "grid_auto_rows": null,
            "grid_gap": null,
            "max_width": null,
            "order": null,
            "_view_module_version": "1.2.0",
            "grid_template_areas": null,
            "object_position": null,
            "object_fit": null,
            "grid_auto_columns": null,
            "margin": null,
            "display": null,
            "left": null
          }
        }
      }
    }
  },
  "cells": [
    {
      "cell_type": "markdown",
      "metadata": {
        "id": "7Hu1NTgk0vuS"
      },
      "source": [
        "#Question Answering"
      ]
    },
    {
      "cell_type": "markdown",
      "metadata": {
        "id": "C_Kz2MUPRpFS"
      },
      "source": [
        "###QA with Electra"
      ]
    },
    {
      "cell_type": "markdown",
      "metadata": {
        "id": "cObpf6sEaLpm"
      },
      "source": [
        "Источники:\n",
        "1. Репозиторий https://github.com/xhlulu/covid-qa\n",
        "2. Оригинальный Notebook https://www.kaggle.com/xhlulu/stackexchange-finetune-electra-small\n",
        "3. Более подробно про модель ELECTRA https://ai.googleblog.com/2020/03/more-efficient-nlp-model-pre-training.html\n",
        "\n",
        "We will fine-tune the Electra model with the simplest Q&A mechanism available for transformer models: concatenate the question with the answer, and let the model learn to predict if it is a correct match (label of 1) or incorrect match (label of 0). Ideally, when trained correctly, we want our model to behave this way:"
      ]
    },
    {
      "cell_type": "markdown",
      "metadata": {
        "id": "tsRL4lipZLfb"
      },
      "source": [
        "![QA_Covid.png](data:image/png;base64,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)"
      ]
    },
    {
      "cell_type": "markdown",
      "metadata": {
        "id": "SVExvIXLVnX5"
      },
      "source": [
        "Train model.\n",
        "\n",
        "NOTE: Switch to TPU!"
      ]
    },
    {
      "cell_type": "code",
      "metadata": {
        "colab": {
          "base_uri": "https://localhost:8080/"
        },
        "id": "rCTPkoZYVrdi",
        "outputId": "bc464aef-6cdc-4052-9d93-623468fba5bc"
      },
      "source": [
        "# Update to transformers 2.8.0\n",
        "!pip install -q transformers --upgrade\n",
        "!pip show transformers\n"
      ],
      "execution_count": null,
      "outputs": [
        {
          "output_type": "stream",
          "name": "stdout",
          "text": [
            "\u001b[K     |████████████████████████████████| 2.9 MB 5.4 MB/s \n",
            "\u001b[K     |████████████████████████████████| 3.3 MB 59.9 MB/s \n",
            "\u001b[K     |████████████████████████████████| 895 kB 63.7 MB/s \n",
            "\u001b[K     |████████████████████████████████| 56 kB 5.8 MB/s \n",
            "\u001b[K     |████████████████████████████████| 596 kB 65.3 MB/s \n",
            "\u001b[?25hName: transformers\n",
            "Version: 4.11.3\n",
            "Summary: State-of-the-art Natural Language Processing for TensorFlow 2.0 and PyTorch\n",
            "Home-page: https://github.com/huggingface/transformers\n",
            "Author: Thomas Wolf, Lysandre Debut, Victor Sanh, Julien Chaumond, Sam Shleifer, Patrick von Platen, Sylvain Gugger, Suraj Patil, Stas Bekman, Google AI Language Team Authors, Open AI team Authors, Facebook AI Authors, Carnegie Mellon University Authors\n",
            "Author-email: thomas@huggingface.co\n",
            "License: Apache\n",
            "Location: /usr/local/lib/python3.7/dist-packages\n",
            "Requires: requests, sacremoses, tokenizers, filelock, packaging, regex, tqdm, numpy, importlib-metadata, pyyaml, huggingface-hub\n",
            "Required-by: \n"
          ]
        }
      ]
    },
    {
      "cell_type": "code",
      "metadata": {
        "id": "2mtiQbsuVtYV"
      },
      "source": [
        "import pickle\n",
        "import os\n",
        "\n",
        "import numpy as np\n",
        "import pandas as pd\n",
        "import tensorflow as tf\n",
        "import tensorflow.keras.layers as L\n",
        "from tensorflow.keras.optimizers import Adam\n",
        "from tensorflow.keras.models import Model\n",
        "from tensorflow.keras.callbacks import ModelCheckpoint\n",
        "from sklearn.model_selection import train_test_split\n",
        "from sklearn.metrics import classification_report, average_precision_score, roc_auc_score\n",
        "import matplotlib.pyplot as plt\n",
        "import transformers\n",
        "from transformers import AutoTokenizer, TFAutoModel, TFElectraModel, ElectraTokenizer\n",
        "from tqdm.notebook import tqdm\n",
        "from tokenizers import BertWordPieceTokenizer"
      ],
      "execution_count": null,
      "outputs": []
    },
    {
      "cell_type": "code",
      "metadata": {
        "id": "ifZa1tCQVwQK"
      },
      "source": [
        "tqdm.pandas()"
      ],
      "execution_count": null,
      "outputs": []
    },
    {
      "cell_type": "markdown",
      "metadata": {
        "id": "a6_6L9SYYaWe"
      },
      "source": [
        "Функция для перевода текстов в последовательность идентификаторов заданного токенизатора. Тексты обрабатываются батчами (размер которых указан в параметре chunk_size) в параллельных потоках, что ускоряет перевод токенов в идентификаторы.  "
      ]
    },
    {
      "cell_type": "code",
      "metadata": {
        "id": "A30isA9OVyJh"
      },
      "source": [
        "def fast_encode(texts, tokenizer, chunk_size=256, maxlen=512, enable_padding=False):\n",
        "    \"\"\"\n",
        "    https://www.kaggle.com/xhlulu/jigsaw-tpu-distilbert-with-huggingface-and-keras\n",
        "    \n",
        "    ---\n",
        "    \n",
        "    Inputs:\n",
        "        tokenizer: the `fast_tokenizer` that we imported from the tokenizers library\n",
        "    \"\"\"\n",
        "    tokenizer.enable_truncation(max_length=maxlen)\n",
        "    if enable_padding:\n",
        "        tokenizer.enable_padding(max_length=maxlen)\n",
        "    \n",
        "    all_ids = []\n",
        "    \n",
        "    for i in tqdm(range(0, len(texts), chunk_size)):\n",
        "        text_chunk = texts[i:i+chunk_size].tolist()\n",
        "        encs = tokenizer.encode_batch(text_chunk)\n",
        "        all_ids.extend([enc.ids for enc in encs])\n",
        "    \n",
        "    return np.array(all_ids)"
      ],
      "execution_count": null,
      "outputs": []
    },
    {
      "cell_type": "markdown",
      "metadata": {
        "id": "dDgXOGPAYick"
      },
      "source": [
        "Функция формирует строку вида: \"[CLS] вопрос [SEP] ответ [SEP]\" в формате идентификаторов токенов и добавляет паддинг в конце строки."
      ]
    },
    {
      "cell_type": "code",
      "metadata": {
        "id": "VvBoNrRJV2d6"
      },
      "source": [
        "def combine_qa_ids(q_ids, a_ids, tokenizer, maxlen=512):\n",
        "    \"\"\"\n",
        "    Given two arrays of IDs (questions and answers) created by\n",
        "    `fast_encode`, we combine and pad them.\n",
        "    Inputs:\n",
        "        tokenizer: The original tokenizer (not the fast_tokenizer)\n",
        "    \"\"\"\n",
        "    combined_ids = []\n",
        "\n",
        "    for i in tqdm(range(q_ids.shape[0])):\n",
        "        ids = []\n",
        "        # ids.append(tokenizer.cls_token_id)\n",
        "        ids.extend(q_ids[i])\n",
        "        # ids.append(tokenizer.sep_token_id)\n",
        "        ids.extend(a_ids[i][1:]) # remove [CLS] token\n",
        "        # ids.append(tokenizer.sep_token_id)\n",
        "        ids.extend([tokenizer.pad_token_id] * (maxlen - len(ids)))\n",
        "\n",
        "        combined_ids.append(ids)\n",
        "    \n",
        "    return np.array(combined_ids)"
      ],
      "execution_count": null,
      "outputs": []
    },
    {
      "cell_type": "markdown",
      "metadata": {
        "id": "KAltYmDG8Pad"
      },
      "source": [
        "Функция, создающая модель, состоящую из слоев Трансформера и полносвязного слоя для решения задачи. В качестве параметра transformer можно передать любую модель из библиотеки transformers от Hugging Face."
      ]
    },
    {
      "cell_type": "code",
      "metadata": {
        "id": "McFAurdCWJFP"
      },
      "source": [
        "def build_model(transformer, max_len=None):\n",
        "    \"\"\"\n",
        "    https://www.kaggle.com/xhlulu/jigsaw-tpu-distilbert-with-huggingface-and-keras\n",
        "    \"\"\"\n",
        "    input_ids = L.Input(shape=(max_len, ), dtype=tf.int32)\n",
        "    \n",
        "    x = transformer(input_ids)[0]\n",
        "    x = x[:, 0, :]\n",
        "    x = L.Dense(1, activation='sigmoid', name='sigmoid')(x)\n",
        "    \n",
        "    # BUILD AND COMPILE MODEL\n",
        "    model = Model(inputs=input_ids, outputs=x)\n",
        "    model.compile(\n",
        "        loss='binary_crossentropy', \n",
        "        metrics=['accuracy'], \n",
        "        optimizer=Adam(lr=1e-5)\n",
        "    )\n",
        "    \n",
        "    return model"
      ],
      "execution_count": null,
      "outputs": []
    },
    {
      "cell_type": "markdown",
      "metadata": {
        "id": "Kf9EgYp8WUQ-"
      },
      "source": [
        "TPU Configs"
      ]
    },
    {
      "cell_type": "code",
      "metadata": {
        "colab": {
          "base_uri": "https://localhost:8080/"
        },
        "id": "JtkpeTF9WWBU",
        "outputId": "c8fa1b11-b021-41c9-c20d-45c2ffd7dd9a"
      },
      "source": [
        "try:\n",
        "    # TPU detection. No parameters necessary if TPU_NAME environment variable is\n",
        "    # set: this is always the case on Kaggle.\n",
        "    tpu = tf.distribute.cluster_resolver.TPUClusterResolver()\n",
        "    print('Running on TPU ', tpu.master())\n",
        "except ValueError:\n",
        "    tpu = None\n",
        "\n",
        "if tpu:\n",
        "    tf.config.experimental_connect_to_cluster(tpu)\n",
        "    tf.tpu.experimental.initialize_tpu_system(tpu)\n",
        "    strategy = tf.distribute.experimental.TPUStrategy(tpu)\n",
        "else:\n",
        "    # Default distribution strategy in Tensorflow. Works on CPU and single GPU.\n",
        "    strategy = tf.distribute.get_strategy()\n",
        "\n",
        "print(\"REPLICAS: \", strategy.num_replicas_in_sync)"
      ],
      "execution_count": null,
      "outputs": [
        {
          "output_type": "stream",
          "name": "stderr",
          "text": [
            "INFO:absl:Entering into master device scope: /job:worker/replica:0/task:0/device:CPU:0\n"
          ]
        },
        {
          "output_type": "stream",
          "name": "stdout",
          "text": [
            "Running on TPU  grpc://10.64.179.114:8470\n",
            "INFO:tensorflow:Clearing out eager caches\n"
          ]
        },
        {
          "output_type": "stream",
          "name": "stderr",
          "text": [
            "INFO:tensorflow:Clearing out eager caches\n"
          ]
        },
        {
          "output_type": "stream",
          "name": "stdout",
          "text": [
            "INFO:tensorflow:Initializing the TPU system: grpc://10.64.179.114:8470\n"
          ]
        },
        {
          "output_type": "stream",
          "name": "stderr",
          "text": [
            "INFO:tensorflow:Initializing the TPU system: grpc://10.64.179.114:8470\n"
          ]
        },
        {
          "output_type": "stream",
          "name": "stdout",
          "text": [
            "INFO:tensorflow:Finished initializing TPU system.\n"
          ]
        },
        {
          "output_type": "stream",
          "name": "stderr",
          "text": [
            "INFO:tensorflow:Finished initializing TPU system.\n",
            "WARNING:absl:`tf.distribute.experimental.TPUStrategy` is deprecated, please use  the non experimental symbol `tf.distribute.TPUStrategy` instead.\n"
          ]
        },
        {
          "output_type": "stream",
          "name": "stdout",
          "text": [
            "INFO:tensorflow:Found TPU system:\n"
          ]
        },
        {
          "output_type": "stream",
          "name": "stderr",
          "text": [
            "INFO:tensorflow:Found TPU system:\n"
          ]
        },
        {
          "output_type": "stream",
          "name": "stdout",
          "text": [
            "INFO:tensorflow:*** Num TPU Cores: 8\n"
          ]
        },
        {
          "output_type": "stream",
          "name": "stderr",
          "text": [
            "INFO:tensorflow:*** Num TPU Cores: 8\n"
          ]
        },
        {
          "output_type": "stream",
          "name": "stdout",
          "text": [
            "INFO:tensorflow:*** Num TPU Workers: 1\n"
          ]
        },
        {
          "output_type": "stream",
          "name": "stderr",
          "text": [
            "INFO:tensorflow:*** Num TPU Workers: 1\n"
          ]
        },
        {
          "output_type": "stream",
          "name": "stdout",
          "text": [
            "INFO:tensorflow:*** Num TPU Cores Per Worker: 8\n"
          ]
        },
        {
          "output_type": "stream",
          "name": "stderr",
          "text": [
            "INFO:tensorflow:*** Num TPU Cores Per Worker: 8\n"
          ]
        },
        {
          "output_type": "stream",
          "name": "stdout",
          "text": [
            "INFO:tensorflow:*** Available Device: _DeviceAttributes(/job:localhost/replica:0/task:0/device:CPU:0, CPU, 0, 0)\n"
          ]
        },
        {
          "output_type": "stream",
          "name": "stderr",
          "text": [
            "INFO:tensorflow:*** Available Device: _DeviceAttributes(/job:localhost/replica:0/task:0/device:CPU:0, CPU, 0, 0)\n"
          ]
        },
        {
          "output_type": "stream",
          "name": "stdout",
          "text": [
            "INFO:tensorflow:*** Available Device: _DeviceAttributes(/job:worker/replica:0/task:0/device:CPU:0, CPU, 0, 0)\n"
          ]
        },
        {
          "output_type": "stream",
          "name": "stderr",
          "text": [
            "INFO:tensorflow:*** Available Device: _DeviceAttributes(/job:worker/replica:0/task:0/device:CPU:0, CPU, 0, 0)\n"
          ]
        },
        {
          "output_type": "stream",
          "name": "stdout",
          "text": [
            "INFO:tensorflow:*** Available Device: _DeviceAttributes(/job:worker/replica:0/task:0/device:TPU:0, TPU, 0, 0)\n"
          ]
        },
        {
          "output_type": "stream",
          "name": "stderr",
          "text": [
            "INFO:tensorflow:*** Available Device: _DeviceAttributes(/job:worker/replica:0/task:0/device:TPU:0, TPU, 0, 0)\n"
          ]
        },
        {
          "output_type": "stream",
          "name": "stdout",
          "text": [
            "INFO:tensorflow:*** Available Device: _DeviceAttributes(/job:worker/replica:0/task:0/device:TPU:1, TPU, 0, 0)\n"
          ]
        },
        {
          "output_type": "stream",
          "name": "stderr",
          "text": [
            "INFO:tensorflow:*** Available Device: _DeviceAttributes(/job:worker/replica:0/task:0/device:TPU:1, TPU, 0, 0)\n"
          ]
        },
        {
          "output_type": "stream",
          "name": "stdout",
          "text": [
            "INFO:tensorflow:*** Available Device: _DeviceAttributes(/job:worker/replica:0/task:0/device:TPU:2, TPU, 0, 0)\n"
          ]
        },
        {
          "output_type": "stream",
          "name": "stderr",
          "text": [
            "INFO:tensorflow:*** Available Device: _DeviceAttributes(/job:worker/replica:0/task:0/device:TPU:2, TPU, 0, 0)\n"
          ]
        },
        {
          "output_type": "stream",
          "name": "stdout",
          "text": [
            "INFO:tensorflow:*** Available Device: _DeviceAttributes(/job:worker/replica:0/task:0/device:TPU:3, TPU, 0, 0)\n"
          ]
        },
        {
          "output_type": "stream",
          "name": "stderr",
          "text": [
            "INFO:tensorflow:*** Available Device: _DeviceAttributes(/job:worker/replica:0/task:0/device:TPU:3, TPU, 0, 0)\n"
          ]
        },
        {
          "output_type": "stream",
          "name": "stdout",
          "text": [
            "INFO:tensorflow:*** Available Device: _DeviceAttributes(/job:worker/replica:0/task:0/device:TPU:4, TPU, 0, 0)\n"
          ]
        },
        {
          "output_type": "stream",
          "name": "stderr",
          "text": [
            "INFO:tensorflow:*** Available Device: _DeviceAttributes(/job:worker/replica:0/task:0/device:TPU:4, TPU, 0, 0)\n"
          ]
        },
        {
          "output_type": "stream",
          "name": "stdout",
          "text": [
            "INFO:tensorflow:*** Available Device: _DeviceAttributes(/job:worker/replica:0/task:0/device:TPU:5, TPU, 0, 0)\n"
          ]
        },
        {
          "output_type": "stream",
          "name": "stderr",
          "text": [
            "INFO:tensorflow:*** Available Device: _DeviceAttributes(/job:worker/replica:0/task:0/device:TPU:5, TPU, 0, 0)\n"
          ]
        },
        {
          "output_type": "stream",
          "name": "stdout",
          "text": [
            "INFO:tensorflow:*** Available Device: _DeviceAttributes(/job:worker/replica:0/task:0/device:TPU:6, TPU, 0, 0)\n"
          ]
        },
        {
          "output_type": "stream",
          "name": "stderr",
          "text": [
            "INFO:tensorflow:*** Available Device: _DeviceAttributes(/job:worker/replica:0/task:0/device:TPU:6, TPU, 0, 0)\n"
          ]
        },
        {
          "output_type": "stream",
          "name": "stdout",
          "text": [
            "INFO:tensorflow:*** Available Device: _DeviceAttributes(/job:worker/replica:0/task:0/device:TPU:7, TPU, 0, 0)\n"
          ]
        },
        {
          "output_type": "stream",
          "name": "stderr",
          "text": [
            "INFO:tensorflow:*** Available Device: _DeviceAttributes(/job:worker/replica:0/task:0/device:TPU:7, TPU, 0, 0)\n"
          ]
        },
        {
          "output_type": "stream",
          "name": "stdout",
          "text": [
            "INFO:tensorflow:*** Available Device: _DeviceAttributes(/job:worker/replica:0/task:0/device:TPU_SYSTEM:0, TPU_SYSTEM, 0, 0)\n"
          ]
        },
        {
          "output_type": "stream",
          "name": "stderr",
          "text": [
            "INFO:tensorflow:*** Available Device: _DeviceAttributes(/job:worker/replica:0/task:0/device:TPU_SYSTEM:0, TPU_SYSTEM, 0, 0)\n"
          ]
        },
        {
          "output_type": "stream",
          "name": "stdout",
          "text": [
            "INFO:tensorflow:*** Available Device: _DeviceAttributes(/job:worker/replica:0/task:0/device:XLA_CPU:0, XLA_CPU, 0, 0)\n"
          ]
        },
        {
          "output_type": "stream",
          "name": "stderr",
          "text": [
            "INFO:tensorflow:*** Available Device: _DeviceAttributes(/job:worker/replica:0/task:0/device:XLA_CPU:0, XLA_CPU, 0, 0)\n"
          ]
        },
        {
          "output_type": "stream",
          "name": "stdout",
          "text": [
            "REPLICAS:  8\n"
          ]
        }
      ]
    },
    {
      "cell_type": "code",
      "metadata": {
        "id": "RSzTRDlCWb6O"
      },
      "source": [
        "AUTO = tf.data.experimental.AUTOTUNE\n",
        "\n",
        "# Configuration\n",
        "EPOCHS = 3\n",
        "BATCH_SIZE = 16 * strategy.num_replicas_in_sync\n",
        "MAX_LEN = 512\n",
        "MODEL = 'google/electra-small-discriminator'"
      ],
      "execution_count": null,
      "outputs": []
    },
    {
      "cell_type": "markdown",
      "metadata": {
        "id": "3PxMtXXKWe7r"
      },
      "source": [
        "Load data"
      ]
    },
    {
      "cell_type": "markdown",
      "metadata": {
        "id": "WluTjsNbiXit"
      },
      "source": [
        "Data is available here https://www.kaggle.com/xhlulu/stackexchange-qa-pairs"
      ]
    },
    {
      "cell_type": "markdown",
      "metadata": {
        "id": "gLPR4kuanr9x"
      },
      "source": [
        "For simplicity, we consider only biomedical part."
      ]
    },
    {
      "cell_type": "code",
      "metadata": {
        "colab": {
          "base_uri": "https://localhost:8080/"
        },
        "id": "q60f-o_ncP4Q",
        "outputId": "f51ee765-c17d-423a-9ddd-35c7516f2ca1"
      },
      "source": [
        "! mkdir pre_covid\n",
        "! wget https://www.dropbox.com/s/1y9yst4po7y0ezw/biomedical.csv?dl=0 -O pre_covid/biomedical.csv"
      ],
      "execution_count": null,
      "outputs": [
        {
          "output_type": "stream",
          "name": "stdout",
          "text": [
            "--2021-10-28 11:46:41--  https://www.dropbox.com/s/1y9yst4po7y0ezw/biomedical.csv?dl=0\n",
            "Resolving www.dropbox.com (www.dropbox.com)... 162.125.3.18, 2620:100:6018:18::a27d:312\n",
            "Connecting to www.dropbox.com (www.dropbox.com)|162.125.3.18|:443... connected.\n",
            "HTTP request sent, awaiting response... 301 Moved Permanently\n",
            "Location: /s/raw/1y9yst4po7y0ezw/biomedical.csv [following]\n",
            "--2021-10-28 11:46:41--  https://www.dropbox.com/s/raw/1y9yst4po7y0ezw/biomedical.csv\n",
            "Reusing existing connection to www.dropbox.com:443.\n",
            "HTTP request sent, awaiting response... 302 Found\n",
            "Location: https://uc639e8b16232fa8974543383d2d.dl.dropboxusercontent.com/cd/0/inline/BY7-upfzvRldK88eJI7rOKP-DVhILxSA9PZWrA3j6CEHiQiIH4ETPhf9CqVwWQ-xXGYp3hGAiGp3rIIabTxR2DfT10oxvhzSjaE-83G5t3ixDDBEN8ke7kOLnIsS5vTCZXVq71cqkD7TYCP_dKEfMfVs/file# [following]\n",
            "--2021-10-28 11:46:42--  https://uc639e8b16232fa8974543383d2d.dl.dropboxusercontent.com/cd/0/inline/BY7-upfzvRldK88eJI7rOKP-DVhILxSA9PZWrA3j6CEHiQiIH4ETPhf9CqVwWQ-xXGYp3hGAiGp3rIIabTxR2DfT10oxvhzSjaE-83G5t3ixDDBEN8ke7kOLnIsS5vTCZXVq71cqkD7TYCP_dKEfMfVs/file\n",
            "Resolving uc639e8b16232fa8974543383d2d.dl.dropboxusercontent.com (uc639e8b16232fa8974543383d2d.dl.dropboxusercontent.com)... 162.125.3.15, 2620:100:6018:15::a27d:30f\n",
            "Connecting to uc639e8b16232fa8974543383d2d.dl.dropboxusercontent.com (uc639e8b16232fa8974543383d2d.dl.dropboxusercontent.com)|162.125.3.15|:443... connected.\n",
            "HTTP request sent, awaiting response... 200 OK\n",
            "Length: 68129435 (65M) [text/plain]\n",
            "Saving to: ‘pre_covid/biomedical.csv’\n",
            "\n",
            "pre_covid/biomedica 100%[===================>]  64.97M  88.0MB/s    in 0.7s    \n",
            "\n",
            "2021-10-28 11:46:43 (88.0 MB/s) - ‘pre_covid/biomedical.csv’ saved [68129435/68129435]\n",
            "\n"
          ]
        }
      ]
    },
    {
      "cell_type": "code",
      "metadata": {
        "colab": {
          "base_uri": "https://localhost:8080/",
          "height": 374
        },
        "id": "Iq7IWEYzWh0D",
        "outputId": "1a641749-cbf5-470a-c0a6-d97cdaa5b876"
      },
      "source": [
        "df = pd.concat([\n",
        "    pd.read_csv(f'pre_covid/{group}.csv')\n",
        "    #for group in ['expert', 'biomedical', 'general']\n",
        "    for group in ['biomedical']\n",
        "]).reset_index(drop=True)\n",
        "\n",
        "df.head()"
      ],
      "execution_count": null,
      "outputs": [
        {
          "output_type": "execute_result",
          "data": {
            "text/html": [
              "<div>\n",
              "<style scoped>\n",
              "    .dataframe tbody tr th:only-of-type {\n",
              "        vertical-align: middle;\n",
              "    }\n",
              "\n",
              "    .dataframe tbody tr th {\n",
              "        vertical-align: top;\n",
              "    }\n",
              "\n",
              "    .dataframe thead th {\n",
              "        text-align: right;\n",
              "    }\n",
              "</style>\n",
              "<table border=\"1\" class=\"dataframe\">\n",
              "  <thead>\n",
              "    <tr style=\"text-align: right;\">\n",
              "      <th></th>\n",
              "      <th>Unnamed: 0</th>\n",
              "      <th>question_id</th>\n",
              "      <th>title</th>\n",
              "      <th>question</th>\n",
              "      <th>answer_id</th>\n",
              "      <th>answer</th>\n",
              "      <th>answer_type</th>\n",
              "      <th>wrong_answer</th>\n",
              "      <th>wrong_answer_type</th>\n",
              "      <th>site</th>\n",
              "      <th>group</th>\n",
              "    </tr>\n",
              "  </thead>\n",
              "  <tbody>\n",
              "    <tr>\n",
              "      <th>0</th>\n",
              "      <td>0</td>\n",
              "      <td>13408</td>\n",
              "      <td>Why are interspecies hybrids so often larger t...</td>\n",
              "      <td>Recently doing a little reading on interspecie...</td>\n",
              "      <td>13409</td>\n",
              "      <td>While they do not necessarily constitute the m...</td>\n",
              "      <td>Accepted</td>\n",
              "      <td>My initial guess (knowing almost no informatio...</td>\n",
              "      <td>Random</td>\n",
              "      <td>biology</td>\n",
              "      <td>biomedical</td>\n",
              "    </tr>\n",
              "    <tr>\n",
              "      <th>1</th>\n",
              "      <td>1</td>\n",
              "      <td>13412</td>\n",
              "      <td>Body's decomposition</td>\n",
              "      <td>Does a human body decompose in a completely st...</td>\n",
              "      <td>13424</td>\n",
              "      <td>\\n  Does a human body decompose in a completel...</td>\n",
              "      <td>Accepted</td>\n",
              "      <td>In the pictures shown above only the soft part...</td>\n",
              "      <td>Random</td>\n",
              "      <td>biology</td>\n",
              "      <td>biomedical</td>\n",
              "    </tr>\n",
              "    <tr>\n",
              "      <th>2</th>\n",
              "      <td>2</td>\n",
              "      <td>13414</td>\n",
              "      <td>A weird-looking fish with a shield</td>\n",
              "      <td>I found this photo in a local news page. The p...</td>\n",
              "      <td>13443</td>\n",
              "      <td>The front part of the fish looks like part of ...</td>\n",
              "      <td>Accepted</td>\n",
              "      <td>The delay in immune attack is common for many ...</td>\n",
              "      <td>Random</td>\n",
              "      <td>biology</td>\n",
              "      <td>biomedical</td>\n",
              "    </tr>\n",
              "    <tr>\n",
              "      <th>3</th>\n",
              "      <td>3</td>\n",
              "      <td>13421</td>\n",
              "      <td>Why does caffeine consumption cause one to uri...</td>\n",
              "      <td>What is the physiological mechanism behind the...</td>\n",
              "      <td>13431</td>\n",
              "      <td>Caffeine inhibits the secretion of the antidiu...</td>\n",
              "      <td>Accepted</td>\n",
              "      <td>Short answer\\nThe dopamine hypothesis includes...</td>\n",
              "      <td>Random</td>\n",
              "      <td>biology</td>\n",
              "      <td>biomedical</td>\n",
              "    </tr>\n",
              "    <tr>\n",
              "      <th>4</th>\n",
              "      <td>4</td>\n",
              "      <td>13425</td>\n",
              "      <td>Telomere shortening during replication</td>\n",
              "      <td>It is widely know that each cell cycle during ...</td>\n",
              "      <td>13434</td>\n",
              "      <td>In replication, both the chromosomal halves (w...</td>\n",
              "      <td>Accepted</td>\n",
              "      <td>To expand on my comments:\\n\\nJust like you men...</td>\n",
              "      <td>Random</td>\n",
              "      <td>biology</td>\n",
              "      <td>biomedical</td>\n",
              "    </tr>\n",
              "  </tbody>\n",
              "</table>\n",
              "</div>"
            ],
            "text/plain": [
              "   Unnamed: 0  question_id  ...     site       group\n",
              "0           0        13408  ...  biology  biomedical\n",
              "1           1        13412  ...  biology  biomedical\n",
              "2           2        13414  ...  biology  biomedical\n",
              "3           3        13421  ...  biology  biomedical\n",
              "4           4        13425  ...  biology  biomedical\n",
              "\n",
              "[5 rows x 11 columns]"
            ]
          },
          "metadata": {},
          "execution_count": 10
        }
      ]
    },
    {
      "cell_type": "code",
      "metadata": {
        "id": "pJo7eynxWkzi"
      },
      "source": [
        "questions = df.title + \"[SEP]\" + df.question"
      ],
      "execution_count": null,
      "outputs": []
    },
    {
      "cell_type": "markdown",
      "metadata": {
        "id": "R4JAcpGbWn6e"
      },
      "source": [
        "Bert tokenizer"
      ]
    },
    {
      "cell_type": "code",
      "metadata": {
        "colab": {
          "base_uri": "https://localhost:8080/",
          "height": 454,
          "referenced_widgets": [
            "ff8d46c194eb4173999966afe6bd6836",
            "6791ba2d12ca4772a299c179911858cb",
            "e40a9bfca9f54a83929a59428be65fec",
            "ff0accb6def641bbbe36c747ade191be",
            "ee7eaca52b0c496384addb0a242ac723",
            "ba333669e884475ea8ffa370eecf682f",
            "640007f6f2904e4daccda5b8707ad8ae",
            "5a3747575e9d4d8988652e35a70a41fb",
            "668506461ba04dd4a1e41737bf1b34c3",
            "0d52aaf1e7bc45049703fcc8ba863db3",
            "aad6332ef65a4828b04d9627fa483783",
            "e510593352c44e0184bd2d838a653043",
            "cfde277b86a8466da7c83dc88c99fa4c",
            "fbf464a81c7b4ff188c9e51dde3a50cf",
            "5a24e884783a46e996a8181445f6cd54",
            "330946de9bda4bd8a79ddeccdbef8370",
            "1f6a9a71d5204040857c1aebad87f39a",
            "e5d6c6dddbce4039b651f872d1aed0d5",
            "923e3212761d4251b610175969a309bf",
            "178f8f783f7b4b5582c4ed6d833f692c",
            "6aaa0a1131444f17a7d700c96d87fbbf",
            "21a1c1bdd98141cea3b75be4e0c26161",
            "01571d8370914ac9b840461e37ddf39b",
            "18850902a8ec4fd78bc530ee72799252",
            "1521ac50cd384e8991413eb49031be43",
            "4d73c738e0d54cf98a6a281ca7934e7f",
            "373d76fe27da47d4b574596c8911d7a8",
            "37f86713df614759ab5925b171be1b79",
            "7fb34ad48c2d4bd2a3b7da80bd5b4f1e",
            "6411b974ed7a4e8180f1bc2cbe49c2cf",
            "94a2bf7004224eadbd1fb73efe1131aa",
            "09eb0427be114ace8542d6876852361a",
            "e71ab79880fd4341a77f0dc8b6904d20",
            "eaa5103ac51740e1a37d13f4ab25824f",
            "8c99e97d385f48f3932fdf4c381c917b",
            "2137565a60984c1785024e20c7f609c1",
            "8bab2cf8dbb041e8811f76609bd953df",
            "a2079ee733d94cc5abdbaf87b6db4660",
            "b6edfb81f04a4f5794d73d2c3ac3511a",
            "120fabc440f44b6c9493c528dcfbb884",
            "02deb1fa4036476aab2f277949526b7c",
            "643328ac3dfa4df0a3249b0ce8df622a",
            "74b4f446d3664c95b504143424f09d30",
            "4919ff123418485f8b6c8651742d44b7"
          ]
        },
        "id": "hMY4yDdgWqVr",
        "outputId": "9e40cb1d-27e8-4c64-fa73-609c18ec6bc8"
      },
      "source": [
        "# First load the real tokenizer\n",
        "tokenizer = ElectraTokenizer.from_pretrained(MODEL)\n",
        "# Save the loaded tokenizer locally\n",
        "tokenizer.save_pretrained('.')\n",
        "# Reload it with the huggingface tokenizers library\n",
        "fast_tokenizer = BertWordPieceTokenizer('vocab.txt', lowercase=True)\n",
        "fast_tokenizer"
      ],
      "execution_count": null,
      "outputs": [
        {
          "output_type": "stream",
          "name": "stderr",
          "text": [
            "DEBUG:filelock:Attempting to acquire lock 139720624961552 on /root/.cache/huggingface/transformers/ece45ade3e01224cf31fed8e183b306d17b84e8abd415363474cfe72274f7814.d789d64ebfe299b0e416afc4a169632f903f693095b4629a7ea271d5a0cf2c99.lock\n",
            "DEBUG:filelock:Lock 139720624961552 acquired on /root/.cache/huggingface/transformers/ece45ade3e01224cf31fed8e183b306d17b84e8abd415363474cfe72274f7814.d789d64ebfe299b0e416afc4a169632f903f693095b4629a7ea271d5a0cf2c99.lock\n"
          ]
        },
        {
          "output_type": "display_data",
          "data": {
            "application/vnd.jupyter.widget-view+json": {
              "model_id": "ff8d46c194eb4173999966afe6bd6836",
              "version_minor": 0,
              "version_major": 2
            },
            "text/plain": [
              "Downloading:   0%|          | 0.00/226k [00:00<?, ?B/s]"
            ]
          },
          "metadata": {}
        },
        {
          "output_type": "stream",
          "name": "stderr",
          "text": [
            "DEBUG:filelock:Attempting to release lock 139720624961552 on /root/.cache/huggingface/transformers/ece45ade3e01224cf31fed8e183b306d17b84e8abd415363474cfe72274f7814.d789d64ebfe299b0e416afc4a169632f903f693095b4629a7ea271d5a0cf2c99.lock\n",
            "DEBUG:filelock:Lock 139720624961552 released on /root/.cache/huggingface/transformers/ece45ade3e01224cf31fed8e183b306d17b84e8abd415363474cfe72274f7814.d789d64ebfe299b0e416afc4a169632f903f693095b4629a7ea271d5a0cf2c99.lock\n",
            "DEBUG:filelock:Attempting to acquire lock 139719787109264 on /root/.cache/huggingface/transformers/8b3aea9f7242b3d19268df5b1bfed8f66e08671a72ac0809ada08e5ef1adc592.19eda9a6da5fb0e52a45200c95876729561dde16a69b9116953af6edca1d1e92.lock\n",
            "DEBUG:filelock:Lock 139719787109264 acquired on /root/.cache/huggingface/transformers/8b3aea9f7242b3d19268df5b1bfed8f66e08671a72ac0809ada08e5ef1adc592.19eda9a6da5fb0e52a45200c95876729561dde16a69b9116953af6edca1d1e92.lock\n"
          ]
        },
        {
          "output_type": "display_data",
          "data": {
            "application/vnd.jupyter.widget-view+json": {
              "model_id": "e510593352c44e0184bd2d838a653043",
              "version_minor": 0,
              "version_major": 2
            },
            "text/plain": [
              "Downloading:   0%|          | 0.00/29.0 [00:00<?, ?B/s]"
            ]
          },
          "metadata": {}
        },
        {
          "output_type": "stream",
          "name": "stderr",
          "text": [
            "DEBUG:filelock:Attempting to release lock 139719787109264 on /root/.cache/huggingface/transformers/8b3aea9f7242b3d19268df5b1bfed8f66e08671a72ac0809ada08e5ef1adc592.19eda9a6da5fb0e52a45200c95876729561dde16a69b9116953af6edca1d1e92.lock\n",
            "DEBUG:filelock:Lock 139719787109264 released on /root/.cache/huggingface/transformers/8b3aea9f7242b3d19268df5b1bfed8f66e08671a72ac0809ada08e5ef1adc592.19eda9a6da5fb0e52a45200c95876729561dde16a69b9116953af6edca1d1e92.lock\n",
            "DEBUG:filelock:Attempting to acquire lock 139720601678864 on /root/.cache/huggingface/transformers/92992b36de47dee64b1d5a31c05d8d51e3075b918a218f5ba4f6e306c4b81b8c.7f2721073f19841be16f41b0a70b600ca6b880c8f3df6f3535cbc704371bdfa4.lock\n",
            "DEBUG:filelock:Lock 139720601678864 acquired on /root/.cache/huggingface/transformers/92992b36de47dee64b1d5a31c05d8d51e3075b918a218f5ba4f6e306c4b81b8c.7f2721073f19841be16f41b0a70b600ca6b880c8f3df6f3535cbc704371bdfa4.lock\n"
          ]
        },
        {
          "output_type": "display_data",
          "data": {
            "application/vnd.jupyter.widget-view+json": {
              "model_id": "01571d8370914ac9b840461e37ddf39b",
              "version_minor": 0,
              "version_major": 2
            },
            "text/plain": [
              "Downloading:   0%|          | 0.00/455k [00:00<?, ?B/s]"
            ]
          },
          "metadata": {}
        },
        {
          "output_type": "stream",
          "name": "stderr",
          "text": [
            "DEBUG:filelock:Attempting to release lock 139720601678864 on /root/.cache/huggingface/transformers/92992b36de47dee64b1d5a31c05d8d51e3075b918a218f5ba4f6e306c4b81b8c.7f2721073f19841be16f41b0a70b600ca6b880c8f3df6f3535cbc704371bdfa4.lock\n",
            "DEBUG:filelock:Lock 139720601678864 released on /root/.cache/huggingface/transformers/92992b36de47dee64b1d5a31c05d8d51e3075b918a218f5ba4f6e306c4b81b8c.7f2721073f19841be16f41b0a70b600ca6b880c8f3df6f3535cbc704371bdfa4.lock\n",
            "DEBUG:filelock:Attempting to acquire lock 139720601680336 on /root/.cache/huggingface/transformers/ca13c16218c6780ec76753d3afa19fcb7cc759e3f63ee87e441562d374762b3d.3dd1921e571dfa18c0bdaa17b9b38f111097812281989b1cb22263738e66ef73.lock\n",
            "DEBUG:filelock:Lock 139720601680336 acquired on /root/.cache/huggingface/transformers/ca13c16218c6780ec76753d3afa19fcb7cc759e3f63ee87e441562d374762b3d.3dd1921e571dfa18c0bdaa17b9b38f111097812281989b1cb22263738e66ef73.lock\n"
          ]
        },
        {
          "output_type": "display_data",
          "data": {
            "application/vnd.jupyter.widget-view+json": {
              "model_id": "eaa5103ac51740e1a37d13f4ab25824f",
              "version_minor": 0,
              "version_major": 2
            },
            "text/plain": [
              "Downloading:   0%|          | 0.00/665 [00:00<?, ?B/s]"
            ]
          },
          "metadata": {}
        },
        {
          "output_type": "stream",
          "name": "stderr",
          "text": [
            "DEBUG:filelock:Attempting to release lock 139720601680336 on /root/.cache/huggingface/transformers/ca13c16218c6780ec76753d3afa19fcb7cc759e3f63ee87e441562d374762b3d.3dd1921e571dfa18c0bdaa17b9b38f111097812281989b1cb22263738e66ef73.lock\n",
            "DEBUG:filelock:Lock 139720601680336 released on /root/.cache/huggingface/transformers/ca13c16218c6780ec76753d3afa19fcb7cc759e3f63ee87e441562d374762b3d.3dd1921e571dfa18c0bdaa17b9b38f111097812281989b1cb22263738e66ef73.lock\n"
          ]
        },
        {
          "output_type": "execute_result",
          "data": {
            "text/plain": [
              "Tokenizer(vocabulary_size=30522, model=BertWordPiece, unk_token=[UNK], sep_token=[SEP], cls_token=[CLS], pad_token=[PAD], mask_token=[MASK], clean_text=True, handle_chinese_chars=True, strip_accents=None, lowercase=True, wordpieces_prefix=##)"
            ]
          },
          "metadata": {},
          "execution_count": 12
        }
      ]
    },
    {
      "cell_type": "markdown",
      "metadata": {
        "id": "1yX4JOLSWyk-"
      },
      "source": [
        "Convert text to matrices"
      ]
    },
    {
      "cell_type": "markdown",
      "metadata": {
        "id": "xQqnLILZW1En"
      },
      "source": [
        "Caveat: Since a lot of the questions on stackexchange goes over 256, characters, we end up truncating a large part (if not all) of the answers. Thus, we need to \"pre\" truncate them by separately encode the questions and answers, and use a functions to combine them again."
      ]
    },
    {
      "cell_type": "code",
      "metadata": {
        "colab": {
          "base_uri": "https://localhost:8080/",
          "height": 231,
          "referenced_widgets": [
            "23945390209842899fd4f070a547e833",
            "1aebe0abe5524baea9faf18fe6f5f0ef",
            "89b0fdf855814066986810fcb2a59e0c",
            "4006e8ed99454160b54ce59ac5306472",
            "ad259c4a4a1c41ceadc41b6b50dee37c",
            "f47f70fc1e84402f98415e5855c0314e",
            "95d2e87e0fd347b88f9a987372c4d1f7",
            "0620a730860a4c4c8ed0809e49369e06",
            "67d7b476a00040f5a1092598dc9dd8e2",
            "16697ef4a2ef441190ac0bf58d341416",
            "78c94c78ce5e490ca3b35a53861e1e85",
            "66ed7cdfc0cc4ffc89676303c7f63c96",
            "27a6272dd1bb47f7a004a10ce2dbf811",
            "9266fe0546d444838c6b66b887d131d5",
            "5ae12373ffc14dc79d2fc162c63e5d95",
            "2df320f3cafa41e1b0d2381dc80dfe62",
            "990d6448b223482d88ca6a1a55cd7387",
            "94ef044d93754069b727e8db27e638d5",
            "066ba71e386a437493f54a8559263d97",
            "96eecf3efe884329a9b6e87ed4c02e19",
            "9ad16f37404342b2ad5f6741aff4ac72",
            "2017709baadd43019910ba9ea89f61df",
            "87ed7ac951f5430fad62223d18f521e5",
            "0bea4e0142554775a5f06d7d6960ac8e",
            "57e0af32696d45a080a7b5bc3bfe3ce5",
            "f09168d5040c48adb6d7cb7bdbdef349",
            "40a6faa49a01427996857f78e136e3fa",
            "b2adc66d015b4bac9896444aca9880f0",
            "afe98f2404a4419882c4da1da13e91fb",
            "fbcc58602ef2454b8f6964d4beeb98ba",
            "353636676ff94cf697e315a180f7f8c7",
            "9c4217e2fd614f0095ec67f061ef7347",
            "2df37d8157d14de78f028827ecd6ab26",
            "6afe4f76fe2c4ac0828ffe3acc38a654",
            "bc07ee000f334fd7a2358c27ebfe5caa",
            "004f4342044e4616b745a5034fc90854",
            "5708ea313fb24ab18f1766d785b06dd1",
            "486dad660a3146719f66353cba1e3137",
            "1a7f3a4c0df942229ddd6933e86bb22b",
            "5f001458d5604722b07727dea5f1c03f",
            "e287b9a7478943f4a8732efb9462cc34",
            "9589a74e1ef544acb23b57582eae9c80",
            "9d21c61a85be4fd299e5bcd9b37f7d59",
            "18f886824d7a44fa90bb2c442ba6e2d2",
            "c7eaa754d0b54cfa8fee142e12c7e1a7",
            "a629e31c3aa84fe89ea8b0cc61ccb841",
            "ab8b351c43e84b17ab84b6e37b04cc5a",
            "9a5999775e7b4c4a8ffe4dbdaff729e4",
            "5756ef599dac493ba63d047a4185a22f",
            "b43c485e0ddb49e7b16af4d18c00c856",
            "8386f278b3da4e50ae7c7a967f686362",
            "b2e88f8c155a4cb1b371414d557e23fe",
            "d9ed46c7f881493a94b7c5133d060c5b",
            "01fd58a7639a4d52af1889fef00f219d",
            "656c6c26dc1140eeb8c82de0d24bb000"
          ]
        },
        "id": "Nz5CoRoDXCx_",
        "outputId": "61144a99-ab5c-4c8b-b688-520a3394197c"
      },
      "source": [
        "q_ids = fast_encode(questions.values, fast_tokenizer, maxlen=MAX_LEN//2 - 2)\n",
        "print(q_ids[0])\n",
        "a_ids = fast_encode(df.answer.values, fast_tokenizer, maxlen=MAX_LEN//2 - 2)\n",
        "wa_ids = fast_encode(df.wrong_answer.values, fast_tokenizer, maxlen=MAX_LEN//2 - 2)\n",
        "\n",
        "correct_ids = combine_qa_ids(q_ids, a_ids, tokenizer, maxlen=MAX_LEN)\n",
        "wrong_ids = combine_qa_ids(q_ids, wa_ids, tokenizer, maxlen=MAX_LEN)"
      ],
      "execution_count": null,
      "outputs": [
        {
          "output_type": "display_data",
          "data": {
            "application/vnd.jupyter.widget-view+json": {
              "model_id": "23945390209842899fd4f070a547e833",
              "version_minor": 0,
              "version_major": 2
            },
            "text/plain": [
              "  0%|          | 0/81 [00:00<?, ?it/s]"
            ]
          },
          "metadata": {}
        },
        {
          "output_type": "stream",
          "name": "stdout",
          "text": [
            "[101, 2339, 2024, 6970, 13102, 8586, 3111, 23376, 2061, 2411, 3469, 2084, 2593, 6687, 2427, 102, 3728, 2725, 1037, 2210, 3752, 2006, 6970, 13102, 8586, 3111, 23376, 1045, 4384, 2008, 2009, 3849, 6970, 13102, 8586, 3111, 23376, 2024, 2087, 2411, 2172, 3469, 2084, 2593, 6687, 1012, 5546, 1010, 5622, 15776, 1010, 1040, 6844, 1998, 10891, 8870, 1010, 2021, 2009, 3849, 2066, 2035, 2030, 2012, 2560, 2087, 1012, 2003, 2045, 1037, 3114, 2005, 2023, 7403, 3670, 1999, 23376, 1029, 2065, 1045, 2572, 19721, 1999, 7512, 4892, 2023, 2000, 2022, 1996, 2553, 2292, 2033, 2113, 2008, 2612, 1012, 102]\n"
          ]
        },
        {
          "output_type": "stream",
          "name": "stderr",
          "text": [
            "/usr/local/lib/python3.7/dist-packages/ipykernel_launcher.py:21: VisibleDeprecationWarning: Creating an ndarray from ragged nested sequences (which is a list-or-tuple of lists-or-tuples-or ndarrays with different lengths or shapes) is deprecated. If you meant to do this, you must specify 'dtype=object' when creating the ndarray\n"
          ]
        },
        {
          "output_type": "display_data",
          "data": {
            "application/vnd.jupyter.widget-view+json": {
              "model_id": "66ed7cdfc0cc4ffc89676303c7f63c96",
              "version_minor": 0,
              "version_major": 2
            },
            "text/plain": [
              "  0%|          | 0/81 [00:00<?, ?it/s]"
            ]
          },
          "metadata": {}
        },
        {
          "output_type": "display_data",
          "data": {
            "application/vnd.jupyter.widget-view+json": {
              "model_id": "87ed7ac951f5430fad62223d18f521e5",
              "version_minor": 0,
              "version_major": 2
            },
            "text/plain": [
              "  0%|          | 0/81 [00:00<?, ?it/s]"
            ]
          },
          "metadata": {}
        },
        {
          "output_type": "display_data",
          "data": {
            "application/vnd.jupyter.widget-view+json": {
              "model_id": "6afe4f76fe2c4ac0828ffe3acc38a654",
              "version_minor": 0,
              "version_major": 2
            },
            "text/plain": [
              "  0%|          | 0/20701 [00:00<?, ?it/s]"
            ]
          },
          "metadata": {}
        },
        {
          "output_type": "display_data",
          "data": {
            "application/vnd.jupyter.widget-view+json": {
              "model_id": "c7eaa754d0b54cfa8fee142e12c7e1a7",
              "version_minor": 0,
              "version_major": 2
            },
            "text/plain": [
              "  0%|          | 0/20701 [00:00<?, ?it/s]"
            ]
          },
          "metadata": {}
        }
      ]
    },
    {
      "cell_type": "code",
      "metadata": {
        "colab": {
          "base_uri": "https://localhost:8080/"
        },
        "id": "HJ4a2Sr7qpHC",
        "outputId": "43242851-ecef-4096-d99a-4701045f4aeb"
      },
      "source": [
        "print(correct_ids[0])"
      ],
      "execution_count": null,
      "outputs": [
        {
          "output_type": "stream",
          "name": "stdout",
          "text": [
            "[  101  2339  2024  6970 13102  8586  3111 23376  2061  2411  3469  2084\n",
            "  2593  6687  2427   102  3728  2725  1037  2210  3752  2006  6970 13102\n",
            "  8586  3111 23376  1045  4384  2008  2009  3849  6970 13102  8586  3111\n",
            " 23376  2024  2087  2411  2172  3469  2084  2593  6687  1012  5546  1010\n",
            "  5622 15776  1010  1040  6844  1998 10891  8870  1010  2021  2009  3849\n",
            "  2066  2035  2030  2012  2560  2087  1012  2003  2045  1037  3114  2005\n",
            "  2023  7403  3670  1999 23376  1029  2065  1045  2572 19721  1999  7512\n",
            "  4892  2023  2000  2022  1996  2553  2292  2033  2113  2008  2612  1012\n",
            "   102  2096  2027  2079  2025  9352 12346  1996  3484  1010  2009  2003\n",
            "  2995  2008  2045  2003  1037  2312  2193  1997  6970 13102  8586  3111\n",
            " 23376  3005  2372  2024  3469  1999  2946  2084  1996  6687  2427  1010\n",
            "  1998  2045  4839 17959  2008  4070  2005  2023  9575  1012  2054  2017\n",
            "  2024  7851  2003  2019  2742  1997  3893 21770 27360  2483  1010  2030\n",
            "  8893 24474  1012  2096  1996 11581  2063  2005  4264  2003  2062  3375\n",
            "  1010  2009  4141 18653  2090  3141  2427  1999 11993  2004  1037  4066\n",
            "  1997 21770 10624  9096  3995  2618  5056  1999  2029  1996  5688  1999\n",
            "  7403  6691  2076 13120 25645  2015  2070  6887 16515 23186  5770  1012\n",
            "  1996  6635  7375  1997  2023  9783  2013  2427  2000  2427  1010  2021\n",
            "  2023  4957  2182  2003  1037  3835  1010  9530 18380  7526  2005  2339\n",
            "  5622 15776  2453  2022  2061  2312  1012   102     0     0     0     0\n",
            "     0     0     0     0     0     0     0     0     0     0     0     0\n",
            "     0     0     0     0     0     0     0     0     0     0     0     0\n",
            "     0     0     0     0     0     0     0     0     0     0     0     0\n",
            "     0     0     0     0     0     0     0     0     0     0     0     0\n",
            "     0     0     0     0     0     0     0     0     0     0     0     0\n",
            "     0     0     0     0     0     0     0     0     0     0     0     0\n",
            "     0     0     0     0     0     0     0     0     0     0     0     0\n",
            "     0     0     0     0     0     0     0     0     0     0     0     0\n",
            "     0     0     0     0     0     0     0     0     0     0     0     0\n",
            "     0     0     0     0     0     0     0     0     0     0     0     0\n",
            "     0     0     0     0     0     0     0     0     0     0     0     0\n",
            "     0     0     0     0     0     0     0     0     0     0     0     0\n",
            "     0     0     0     0     0     0     0     0     0     0     0     0\n",
            "     0     0     0     0     0     0     0     0     0     0     0     0\n",
            "     0     0     0     0     0     0     0     0     0     0     0     0\n",
            "     0     0     0     0     0     0     0     0     0     0     0     0\n",
            "     0     0     0     0     0     0     0     0     0     0     0     0\n",
            "     0     0     0     0     0     0     0     0     0     0     0     0\n",
            "     0     0     0     0     0     0     0     0     0     0     0     0\n",
            "     0     0     0     0     0     0     0     0     0     0     0     0\n",
            "     0     0     0     0     0     0     0     0     0     0     0     0\n",
            "     0     0     0     0     0     0     0     0     0     0     0     0\n",
            "     0     0     0     0     0     0     0     0]\n"
          ]
        }
      ]
    },
    {
      "cell_type": "code",
      "metadata": {
        "id": "_PQnsdN-XG-D"
      },
      "source": [
        "input_ids = np.concatenate([correct_ids, wrong_ids])\n",
        "\n",
        "labels = np.concatenate([\n",
        "    np.ones(correct_ids.shape[0]),\n",
        "    np.zeros(wrong_ids.shape[0])\n",
        "]).astype(np.int32)"
      ],
      "execution_count": null,
      "outputs": []
    },
    {
      "cell_type": "markdown",
      "metadata": {
        "id": "rxbGrtl2XJfQ"
      },
      "source": [
        "Train test split"
      ]
    },
    {
      "cell_type": "code",
      "metadata": {
        "id": "cY418Rr8XMKj"
      },
      "source": [
        "train_idx, test_idx = train_test_split(\n",
        "    np.arange(input_ids.shape[0]), \n",
        "    test_size=0.3, \n",
        "    random_state=0\n",
        ")\n",
        "\n",
        "valid_idx, test_idx = train_test_split(\n",
        "    test_idx, \n",
        "    test_size=0.5, \n",
        "    random_state=1\n",
        ")"
      ],
      "execution_count": null,
      "outputs": []
    },
    {
      "cell_type": "code",
      "metadata": {
        "id": "cCCQm2YoXOoI"
      },
      "source": [
        "train_ids = input_ids[train_idx]\n",
        "valid_ids = input_ids[valid_idx]\n",
        "test_ids = input_ids[test_idx]\n",
        "\n",
        "train_labels = labels[train_idx]\n",
        "valid_labels = labels[valid_idx]\n",
        "test_labels = labels[test_idx]"
      ],
      "execution_count": null,
      "outputs": []
    },
    {
      "cell_type": "markdown",
      "metadata": {
        "id": "z6hKznfvXQ2Y"
      },
      "source": [
        "Build datasets objects"
      ]
    },
    {
      "cell_type": "code",
      "metadata": {
        "id": "MF0owUDwXTgq"
      },
      "source": [
        "train_dataset = (\n",
        "    tf.data.Dataset\n",
        "    .from_tensor_slices((train_ids, train_labels))\n",
        "    .repeat()\n",
        "    .shuffle(2048)\n",
        "    .batch(BATCH_SIZE)\n",
        "    .prefetch(AUTO)\n",
        ")\n",
        "\n",
        "valid_dataset = (\n",
        "    tf.data.Dataset\n",
        "    .from_tensor_slices((valid_ids, valid_labels))\n",
        "    .batch(BATCH_SIZE)\n",
        "    .cache()\n",
        "    .prefetch(AUTO)\n",
        ")\n",
        "\n",
        "test_dataset = (\n",
        "    tf.data.Dataset\n",
        "    .from_tensor_slices(test_ids)\n",
        "    .batch(BATCH_SIZE)\n",
        ")"
      ],
      "execution_count": null,
      "outputs": []
    },
    {
      "cell_type": "markdown",
      "metadata": {
        "id": "3WcbqP7NXcZW"
      },
      "source": [
        "Modeling"
      ]
    },
    {
      "cell_type": "code",
      "metadata": {
        "colab": {
          "base_uri": "https://localhost:8080/",
          "height": 562,
          "referenced_widgets": [
            "4c7b01f4742546efba296ca535a0302f",
            "6a7e2f77eb29429ebcb0290d504938a4",
            "2f3c729e703f40aeac01bf5907e09ec4",
            "f263d1cd12ff4ec58e5ff523b1022859",
            "1bde872c401949e08c018511711b791b",
            "1978eddf48c64db48dcab44bfad453d0",
            "fcb8e97d45c54d75b8eab1c71ba76793",
            "013a82d18aac43f7b9a8abdbdcf8a093",
            "29e9c3019a324c07b85a16ffaa7efe2f",
            "6a02d35a004a48c6b2225faffcacaa55",
            "e3bfd48edcf845f7980d374fbe9b2dea"
          ]
        },
        "id": "aiiDTN6FXe-L",
        "outputId": "1360a243-5aeb-44b5-dd6d-a208f6f78661"
      },
      "source": [
        "%%time\n",
        "with strategy.scope():\n",
        "    transformer_layer = TFElectraModel.from_pretrained(MODEL)\n",
        "    model = build_model(transformer_layer, max_len=MAX_LEN)\n",
        "model.summary()"
      ],
      "execution_count": null,
      "outputs": [
        {
          "output_type": "stream",
          "name": "stderr",
          "text": [
            "DEBUG:filelock:Attempting to acquire lock 139719775431696 on /root/.cache/huggingface/transformers/5ebd9867bcaf9f212165e7dc027bd49ccb74e18da95b68b04ab2048cbe968098.e8e924e2e78e44d9a42e833b4b0595464e280c67cd6ccb3bd06dd7e1163a0244.h5.lock\n",
            "DEBUG:filelock:Lock 139719775431696 acquired on /root/.cache/huggingface/transformers/5ebd9867bcaf9f212165e7dc027bd49ccb74e18da95b68b04ab2048cbe968098.e8e924e2e78e44d9a42e833b4b0595464e280c67cd6ccb3bd06dd7e1163a0244.h5.lock\n"
          ]
        },
        {
          "output_type": "display_data",
          "data": {
            "application/vnd.jupyter.widget-view+json": {
              "model_id": "4c7b01f4742546efba296ca535a0302f",
              "version_minor": 0,
              "version_major": 2
            },
            "text/plain": [
              "Downloading:   0%|          | 0.00/51.9M [00:00<?, ?B/s]"
            ]
          },
          "metadata": {}
        },
        {
          "output_type": "stream",
          "name": "stderr",
          "text": [
            "DEBUG:filelock:Attempting to release lock 139719775431696 on /root/.cache/huggingface/transformers/5ebd9867bcaf9f212165e7dc027bd49ccb74e18da95b68b04ab2048cbe968098.e8e924e2e78e44d9a42e833b4b0595464e280c67cd6ccb3bd06dd7e1163a0244.h5.lock\n",
            "DEBUG:filelock:Lock 139719775431696 released on /root/.cache/huggingface/transformers/5ebd9867bcaf9f212165e7dc027bd49ccb74e18da95b68b04ab2048cbe968098.e8e924e2e78e44d9a42e833b4b0595464e280c67cd6ccb3bd06dd7e1163a0244.h5.lock\n",
            "Some layers from the model checkpoint at google/electra-small-discriminator were not used when initializing TFElectraModel: ['discriminator_predictions']\n",
            "- This IS expected if you are initializing TFElectraModel from the checkpoint of a model trained on another task or with another architecture (e.g. initializing a BertForSequenceClassification model from a BertForPreTraining model).\n",
            "- This IS NOT expected if you are initializing TFElectraModel from the checkpoint of a model that you expect to be exactly identical (initializing a BertForSequenceClassification model from a BertForSequenceClassification model).\n",
            "All the layers of TFElectraModel were initialized from the model checkpoint at google/electra-small-discriminator.\n",
            "If your task is similar to the task the model of the checkpoint was trained on, you can already use TFElectraModel for predictions without further training.\n"
          ]
        },
        {
          "output_type": "stream",
          "name": "stdout",
          "text": [
            "Model: \"model\"\n",
            "_________________________________________________________________\n",
            "Layer (type)                 Output Shape              Param #   \n",
            "=================================================================\n",
            "input_1 (InputLayer)         [(None, 512)]             0         \n",
            "_________________________________________________________________\n",
            "tf_electra_model (TFElectraM TFBaseModelOutput(last_hi 13483008  \n",
            "_________________________________________________________________\n",
            "tf.__operators__.getitem (Sl (None, 256)               0         \n",
            "_________________________________________________________________\n",
            "sigmoid (Dense)              (None, 1)                 257       \n",
            "=================================================================\n",
            "Total params: 13,483,265\n",
            "Trainable params: 13,483,265\n",
            "Non-trainable params: 0\n",
            "_________________________________________________________________\n",
            "CPU times: user 13.3 s, sys: 2.27 s, total: 15.6 s\n",
            "Wall time: 18.5 s\n"
          ]
        },
        {
          "output_type": "stream",
          "name": "stderr",
          "text": [
            "/usr/local/lib/python3.7/dist-packages/keras/optimizer_v2/optimizer_v2.py:356: UserWarning: The `lr` argument is deprecated, use `learning_rate` instead.\n",
            "  \"The `lr` argument is deprecated, use `learning_rate` instead.\")\n"
          ]
        }
      ]
    },
    {
      "cell_type": "markdown",
      "metadata": {
        "id": "zZXgzsfkXiE3"
      },
      "source": [
        "Train model"
      ]
    },
    {
      "cell_type": "code",
      "metadata": {
        "colab": {
          "base_uri": "https://localhost:8080/"
        },
        "id": "DoMIciwGXkvJ",
        "outputId": "c5b92dce-e163-4367-9570-59d1245064b0"
      },
      "source": [
        "n_steps = train_labels.shape[0] // BATCH_SIZE\n",
        "\n",
        "train_history = model.fit(\n",
        "    train_dataset,\n",
        "    steps_per_epoch=n_steps,\n",
        "    validation_data=valid_dataset,\n",
        "    epochs=EPOCHS\n",
        ")"
      ],
      "execution_count": null,
      "outputs": [
        {
          "output_type": "stream",
          "name": "stdout",
          "text": [
            "Epoch 1/3\n"
          ]
        },
        {
          "output_type": "stream",
          "name": "stderr",
          "text": [
            "INFO:absl:TPU has inputs with dynamic shapes: [<tf.Tensor 'Const:0' shape=() dtype=int32>, <tf.Tensor 'IteratorGetNext:0' shape=(None, 512) dtype=int64>, <tf.Tensor 'IteratorGetNext:1' shape=(None,) dtype=int32>]\n",
            "INFO:absl:TPU has inputs with dynamic shapes: [<tf.Tensor 'Const:0' shape=() dtype=int32>, <tf.Tensor 'IteratorGetNext:0' shape=(None, 512) dtype=int64>, <tf.Tensor 'IteratorGetNext:1' shape=(None,) dtype=int32>]\n"
          ]
        },
        {
          "output_type": "stream",
          "name": "stdout",
          "text": [
            "226/226 [==============================] - ETA: 0s - loss: 0.6103 - accuracy: 0.6442"
          ]
        },
        {
          "output_type": "stream",
          "name": "stderr",
          "text": [
            "INFO:absl:TPU has inputs with dynamic shapes: [<tf.Tensor 'Const:0' shape=() dtype=int32>, <tf.Tensor 'cond_8/Identity:0' shape=(None, 512) dtype=int64>, <tf.Tensor 'cond_8/Identity_1:0' shape=(None,) dtype=int32>]\n"
          ]
        },
        {
          "output_type": "stream",
          "name": "stdout",
          "text": [
            "226/226 [==============================] - 111s 220ms/step - loss: 0.6103 - accuracy: 0.6442 - val_loss: 0.4441 - val_accuracy: 0.7982\n",
            "Epoch 2/3\n",
            "226/226 [==============================] - 31s 137ms/step - loss: 0.3757 - accuracy: 0.8395 - val_loss: 0.3331 - val_accuracy: 0.8699\n",
            "Epoch 3/3\n",
            "226/226 [==============================] - 31s 136ms/step - loss: 0.3038 - accuracy: 0.8788 - val_loss: 0.3072 - val_accuracy: 0.8818\n"
          ]
        }
      ]
    },
    {
      "cell_type": "code",
      "metadata": {
        "colab": {
          "base_uri": "https://localhost:8080/",
          "height": 297
        },
        "id": "3ONLitjuXnIe",
        "outputId": "efba8ff5-04d6-4ffb-ddd3-2c0605db78b1"
      },
      "source": [
        "hist_df = pd.DataFrame(train_history.history)\n",
        "hist_df.to_csv('train_history.csv')\n",
        "hist_df"
      ],
      "execution_count": null,
      "outputs": [
        {
          "data": {
            "text/html": [
              "<div>\n",
              "<style scoped>\n",
              "    .dataframe tbody tr th:only-of-type {\n",
              "        vertical-align: middle;\n",
              "    }\n",
              "\n",
              "    .dataframe tbody tr th {\n",
              "        vertical-align: top;\n",
              "    }\n",
              "\n",
              "    .dataframe thead th {\n",
              "        text-align: right;\n",
              "    }\n",
              "</style>\n",
              "<table border=\"1\" class=\"dataframe\">\n",
              "  <thead>\n",
              "    <tr style=\"text-align: right;\">\n",
              "      <th></th>\n",
              "      <th>loss</th>\n",
              "      <th>accuracy</th>\n",
              "      <th>val_loss</th>\n",
              "      <th>val_accuracy</th>\n",
              "    </tr>\n",
              "  </thead>\n",
              "  <tbody>\n",
              "    <tr>\n",
              "      <th>0</th>\n",
              "      <td>0.658937</td>\n",
              "      <td>0.598901</td>\n",
              "      <td>0.521758</td>\n",
              "      <td>0.751530</td>\n",
              "    </tr>\n",
              "    <tr>\n",
              "      <th>1</th>\n",
              "      <td>0.415082</td>\n",
              "      <td>0.815749</td>\n",
              "      <td>0.363402</td>\n",
              "      <td>0.847826</td>\n",
              "    </tr>\n",
              "    <tr>\n",
              "      <th>2</th>\n",
              "      <td>0.318064</td>\n",
              "      <td>0.872477</td>\n",
              "      <td>0.299428</td>\n",
              "      <td>0.885990</td>\n",
              "    </tr>\n",
              "    <tr>\n",
              "      <th>3</th>\n",
              "      <td>0.274490</td>\n",
              "      <td>0.893944</td>\n",
              "      <td>0.278525</td>\n",
              "      <td>0.899839</td>\n",
              "    </tr>\n",
              "    <tr>\n",
              "      <th>4</th>\n",
              "      <td>0.245364</td>\n",
              "      <td>0.908739</td>\n",
              "      <td>0.266268</td>\n",
              "      <td>0.905475</td>\n",
              "    </tr>\n",
              "    <tr>\n",
              "      <th>5</th>\n",
              "      <td>0.227651</td>\n",
              "      <td>0.916690</td>\n",
              "      <td>0.255115</td>\n",
              "      <td>0.908857</td>\n",
              "    </tr>\n",
              "    <tr>\n",
              "      <th>6</th>\n",
              "      <td>0.215068</td>\n",
              "      <td>0.921253</td>\n",
              "      <td>0.257032</td>\n",
              "      <td>0.908374</td>\n",
              "    </tr>\n",
              "    <tr>\n",
              "      <th>7</th>\n",
              "      <td>0.202407</td>\n",
              "      <td>0.926576</td>\n",
              "      <td>0.269754</td>\n",
              "      <td>0.909501</td>\n",
              "    </tr>\n",
              "  </tbody>\n",
              "</table>\n",
              "</div>"
            ],
            "text/plain": [
              "       loss  accuracy  val_loss  val_accuracy\n",
              "0  0.658937  0.598901  0.521758      0.751530\n",
              "1  0.415082  0.815749  0.363402      0.847826\n",
              "2  0.318064  0.872477  0.299428      0.885990\n",
              "3  0.274490  0.893944  0.278525      0.899839\n",
              "4  0.245364  0.908739  0.266268      0.905475\n",
              "5  0.227651  0.916690  0.255115      0.908857\n",
              "6  0.215068  0.921253  0.257032      0.908374\n",
              "7  0.202407  0.926576  0.269754      0.909501"
            ]
          },
          "execution_count": 21,
          "metadata": {},
          "output_type": "execute_result"
        }
      ]
    },
    {
      "cell_type": "markdown",
      "metadata": {
        "id": "TF6HHfRgXrmu"
      },
      "source": [
        "Eval"
      ]
    },
    {
      "cell_type": "code",
      "metadata": {
        "colab": {
          "base_uri": "https://localhost:8080/"
        },
        "id": "DA6VPCaOXu7S",
        "outputId": "2feef063-3e0c-44d4-fbb8-778d8ed5b7f7"
      },
      "source": [
        "y_score = model.predict(test_dataset, verbose=1).squeeze()\n",
        "y_pred = y_score.round().astype(int)\n",
        "print(\"AP:\", average_precision_score(test_labels, y_score))\n",
        "print(\"ROC AUC:\", roc_auc_score(test_labels, y_score))\n",
        "print(classification_report(test_labels, y_pred))"
      ],
      "execution_count": null,
      "outputs": [
        {
          "output_type": "stream",
          "name": "stderr",
          "text": [
            "INFO:absl:TPU has inputs with dynamic shapes: [<tf.Tensor 'Const:0' shape=() dtype=int32>, <tf.Tensor 'cond_8/Identity:0' shape=(None, 512) dtype=int64>]\n"
          ]
        },
        {
          "output_type": "stream",
          "name": "stdout",
          "text": [
            "49/49 [==============================] - 21s 352ms/step\n",
            "AP: 0.9248921009861325\n",
            "ROC AUC: 0.9468101564824982\n",
            "              precision    recall  f1-score   support\n",
            "\n",
            "           0       0.95      0.82      0.88      3121\n",
            "           1       0.84      0.96      0.90      3090\n",
            "\n",
            "    accuracy                           0.89      6211\n",
            "   macro avg       0.90      0.89      0.89      6211\n",
            "weighted avg       0.90      0.89      0.89      6211\n",
            "\n"
          ]
        }
      ]
    },
    {
      "cell_type": "markdown",
      "metadata": {
        "id": "oxGrE9A0kSB6"
      },
      "source": [
        "###JointBERT for Joint Intent Classification and Slot Filling"
      ]
    },
    {
      "cell_type": "markdown",
      "metadata": {
        "id": "KhqAH9NRBAqz"
      },
      "source": [
        "NOTE: Switch to GPU!"
      ]
    },
    {
      "cell_type": "markdown",
      "metadata": {
        "id": "NCfV6gQK9x5U"
      },
      "source": [
        "Intent classification focuses on predicting the intent\n",
        "of the query, while slot filling extracts semantic\n",
        "concepts."
      ]
    },
    {
      "cell_type": "markdown",
      "metadata": {
        "id": "19nxIu7bu_KP"
      },
      "source": [
        "Репозиторий с исходным кодом: https://github.com/monologg/JointBERT"
      ]
    },
    {
      "cell_type": "markdown",
      "metadata": {
        "id": "I2WuBtpNx-6x"
      },
      "source": [
        "Загружаем код и данные из репозитория, устанавливаем необходимые библиотеки."
      ]
    },
    {
      "cell_type": "markdown",
      "metadata": {
        "id": "tpUysUExE6yO"
      },
      "source": [
        "![jointbert_small.png](data:image/png;base64,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)"
      ]
    },
    {
      "cell_type": "code",
      "metadata": {
        "colab": {
          "base_uri": "https://localhost:8080/",
          "height": 1000
        },
        "id": "Di2ieLcElinF",
        "outputId": "54922720-d1a9-42ab-ea3a-db0af8747788"
      },
      "source": [
        "! wget https://github.com/monologg/JointBERT/archive/master.zip\n",
        "! unzip master.zip\n",
        "! pip install -r JointBERT-master/requirements.txt"
      ],
      "execution_count": null,
      "outputs": [
        {
          "output_type": "stream",
          "name": "stdout",
          "text": [
            "--2021-10-28 11:27:31--  https://github.com/monologg/JointBERT/archive/master.zip\n",
            "Resolving github.com (github.com)... 192.30.255.113\n",
            "Connecting to github.com (github.com)|192.30.255.113|:443... connected.\n",
            "HTTP request sent, awaiting response... 302 Found\n",
            "Location: https://codeload.github.com/monologg/JointBERT/zip/master [following]\n",
            "--2021-10-28 11:27:31--  https://codeload.github.com/monologg/JointBERT/zip/master\n",
            "Resolving codeload.github.com (codeload.github.com)... 192.30.255.120\n",
            "Connecting to codeload.github.com (codeload.github.com)|192.30.255.120|:443... connected.\n",
            "HTTP request sent, awaiting response... 200 OK\n",
            "Length: unspecified [application/zip]\n",
            "Saving to: ‘master.zip’\n",
            "\n",
            "master.zip              [ <=>                ] 436.58K  --.-KB/s    in 0.09s   \n",
            "\n",
            "2021-10-28 11:27:31 (4.80 MB/s) - ‘master.zip’ saved [447055]\n",
            "\n",
            "Archive:  master.zip\n",
            "00324f60dda4a491b2913bc3065ae93966caea3f\n",
            "   creating: JointBERT-master/\n",
            "  inflating: JointBERT-master/.gitignore  \n",
            "  inflating: JointBERT-master/LICENSE  \n",
            "  inflating: JointBERT-master/README.md  \n",
            "   creating: JointBERT-master/data/\n",
            "   creating: JointBERT-master/data/atis/\n",
            "   creating: JointBERT-master/data/atis/dev/\n",
            "  inflating: JointBERT-master/data/atis/dev/label  \n",
            "  inflating: JointBERT-master/data/atis/dev/seq.in  \n",
            "  inflating: JointBERT-master/data/atis/dev/seq.out  \n",
            "  inflating: JointBERT-master/data/atis/intent_label.txt  \n",
            "  inflating: JointBERT-master/data/atis/slot_label.txt  \n",
            "   creating: JointBERT-master/data/atis/test/\n",
            "  inflating: JointBERT-master/data/atis/test/label  \n",
            "  inflating: JointBERT-master/data/atis/test/seq.in  \n",
            "  inflating: JointBERT-master/data/atis/test/seq.out  \n",
            "   creating: JointBERT-master/data/atis/train/\n",
            "  inflating: JointBERT-master/data/atis/train/label  \n",
            "  inflating: JointBERT-master/data/atis/train/seq.in  \n",
            "  inflating: JointBERT-master/data/atis/train/seq.out  \n",
            "   creating: JointBERT-master/data/snips/\n",
            "   creating: JointBERT-master/data/snips/dev/\n",
            "  inflating: JointBERT-master/data/snips/dev/label  \n",
            "  inflating: JointBERT-master/data/snips/dev/seq.in  \n",
            "  inflating: JointBERT-master/data/snips/dev/seq.out  \n",
            "  inflating: JointBERT-master/data/snips/intent_label.txt  \n",
            "  inflating: JointBERT-master/data/snips/slot_label.txt  \n",
            "   creating: JointBERT-master/data/snips/test/\n",
            "  inflating: JointBERT-master/data/snips/test/label  \n",
            "  inflating: JointBERT-master/data/snips/test/seq.in  \n",
            "  inflating: JointBERT-master/data/snips/test/seq.out  \n",
            "   creating: JointBERT-master/data/snips/train/\n",
            "  inflating: JointBERT-master/data/snips/train/label  \n",
            "  inflating: JointBERT-master/data/snips/train/seq.in  \n",
            "  inflating: JointBERT-master/data/snips/train/seq.out  \n",
            "  inflating: JointBERT-master/data/vocab_process.py  \n",
            "  inflating: JointBERT-master/data_loader.py  \n",
            "  inflating: JointBERT-master/main.py  \n",
            "   creating: JointBERT-master/model/\n",
            "  inflating: JointBERT-master/model/__init__.py  \n",
            "  inflating: JointBERT-master/model/modeling_jointalbert.py  \n",
            "  inflating: JointBERT-master/model/modeling_jointbert.py  \n",
            "  inflating: JointBERT-master/model/modeling_jointdistilbert.py  \n",
            "  inflating: JointBERT-master/model/module.py  \n",
            "  inflating: JointBERT-master/predict.py  \n",
            "  inflating: JointBERT-master/requirements.txt  \n",
            "  inflating: JointBERT-master/sample_pred_in.txt  \n",
            "  inflating: JointBERT-master/trainer.py  \n",
            "  inflating: JointBERT-master/utils.py  \n",
            "Collecting torch==1.6.0\n",
            "  Downloading torch-1.6.0-cp37-cp37m-manylinux1_x86_64.whl (748.8 MB)\n",
            "\u001b[K     |████████████████████████████████| 748.8 MB 18 kB/s \n",
            "\u001b[?25hCollecting transformers==3.0.2\n",
            "  Downloading transformers-3.0.2-py3-none-any.whl (769 kB)\n",
            "\u001b[K     |████████████████████████████████| 769 kB 51.5 MB/s \n",
            "\u001b[?25hCollecting seqeval==0.0.12\n",
            "  Downloading seqeval-0.0.12.tar.gz (21 kB)\n",
            "Collecting pytorch-crf==0.7.2\n",
            "  Downloading pytorch_crf-0.7.2-py3-none-any.whl (9.5 kB)\n",
            "Requirement already satisfied: numpy in /usr/local/lib/python3.7/dist-packages (from torch==1.6.0->-r JointBERT-master/requirements.txt (line 1)) (1.19.5)\n",
            "Requirement already satisfied: future in /usr/local/lib/python3.7/dist-packages (from torch==1.6.0->-r JointBERT-master/requirements.txt (line 1)) (0.16.0)\n",
            "Requirement already satisfied: regex!=2019.12.17 in /usr/local/lib/python3.7/dist-packages (from transformers==3.0.2->-r JointBERT-master/requirements.txt (line 2)) (2019.12.20)\n",
            "Requirement already satisfied: requests in /usr/local/lib/python3.7/dist-packages (from transformers==3.0.2->-r JointBERT-master/requirements.txt (line 2)) (2.23.0)\n",
            "Requirement already satisfied: sacremoses in /usr/local/lib/python3.7/dist-packages (from transformers==3.0.2->-r JointBERT-master/requirements.txt (line 2)) (0.0.46)\n",
            "Requirement already satisfied: packaging in /usr/local/lib/python3.7/dist-packages (from transformers==3.0.2->-r JointBERT-master/requirements.txt (line 2)) (21.0)\n",
            "Requirement already satisfied: filelock in /usr/local/lib/python3.7/dist-packages (from transformers==3.0.2->-r JointBERT-master/requirements.txt (line 2)) (3.3.0)\n",
            "Collecting sentencepiece!=0.1.92\n",
            "  Downloading sentencepiece-0.1.96-cp37-cp37m-manylinux_2_17_x86_64.manylinux2014_x86_64.whl (1.2 MB)\n",
            "\u001b[K     |████████████████████████████████| 1.2 MB 30.0 MB/s \n",
            "\u001b[?25hRequirement already satisfied: tqdm>=4.27 in /usr/local/lib/python3.7/dist-packages (from transformers==3.0.2->-r JointBERT-master/requirements.txt (line 2)) (4.62.3)\n",
            "Collecting tokenizers==0.8.1.rc1\n",
            "  Downloading tokenizers-0.8.1rc1-cp37-cp37m-manylinux1_x86_64.whl (3.0 MB)\n",
            "\u001b[K     |████████████████████████████████| 3.0 MB 14.6 MB/s \n",
            "\u001b[?25hRequirement already satisfied: Keras>=2.2.4 in /usr/local/lib/python3.7/dist-packages (from seqeval==0.0.12->-r JointBERT-master/requirements.txt (line 3)) (2.6.0)\n",
            "Requirement already satisfied: pyparsing>=2.0.2 in /usr/local/lib/python3.7/dist-packages (from packaging->transformers==3.0.2->-r JointBERT-master/requirements.txt (line 2)) (2.4.7)\n",
            "Requirement already satisfied: urllib3!=1.25.0,!=1.25.1,<1.26,>=1.21.1 in /usr/local/lib/python3.7/dist-packages (from requests->transformers==3.0.2->-r JointBERT-master/requirements.txt (line 2)) (1.24.3)\n",
            "Requirement already satisfied: idna<3,>=2.5 in /usr/local/lib/python3.7/dist-packages (from requests->transformers==3.0.2->-r JointBERT-master/requirements.txt (line 2)) (2.10)\n",
            "Requirement already satisfied: certifi>=2017.4.17 in /usr/local/lib/python3.7/dist-packages (from requests->transformers==3.0.2->-r JointBERT-master/requirements.txt (line 2)) (2021.5.30)\n",
            "Requirement already satisfied: chardet<4,>=3.0.2 in /usr/local/lib/python3.7/dist-packages (from requests->transformers==3.0.2->-r JointBERT-master/requirements.txt (line 2)) (3.0.4)\n",
            "Requirement already satisfied: joblib in /usr/local/lib/python3.7/dist-packages (from sacremoses->transformers==3.0.2->-r JointBERT-master/requirements.txt (line 2)) (1.0.1)\n",
            "Requirement already satisfied: six in /usr/local/lib/python3.7/dist-packages (from sacremoses->transformers==3.0.2->-r JointBERT-master/requirements.txt (line 2)) (1.15.0)\n",
            "Requirement already satisfied: click in /usr/local/lib/python3.7/dist-packages (from sacremoses->transformers==3.0.2->-r JointBERT-master/requirements.txt (line 2)) (7.1.2)\n",
            "Building wheels for collected packages: seqeval\n",
            "  Building wheel for seqeval (setup.py) ... \u001b[?25l\u001b[?25hdone\n",
            "  Created wheel for seqeval: filename=seqeval-0.0.12-py3-none-any.whl size=7434 sha256=08107299c1e8962271db47f78eb8c56645477b276ea8a6cb446a68720537c4d6\n",
            "  Stored in directory: /root/.cache/pip/wheels/dc/cc/62/a3b81f92d35a80e39eb9b2a9d8b31abac54c02b21b2d466edc\n",
            "Successfully built seqeval\n",
            "Installing collected packages: tokenizers, sentencepiece, transformers, torch, seqeval, pytorch-crf\n",
            "  Attempting uninstall: tokenizers\n",
            "    Found existing installation: tokenizers 0.10.3\n",
            "    Uninstalling tokenizers-0.10.3:\n",
            "      Successfully uninstalled tokenizers-0.10.3\n",
            "  Attempting uninstall: transformers\n",
            "    Found existing installation: transformers 4.11.3\n",
            "    Uninstalling transformers-4.11.3:\n",
            "      Successfully uninstalled transformers-4.11.3\n",
            "  Attempting uninstall: torch\n",
            "    Found existing installation: torch 1.9.0+cu111\n",
            "    Uninstalling torch-1.9.0+cu111:\n",
            "      Successfully uninstalled torch-1.9.0+cu111\n",
            "\u001b[31mERROR: pip's dependency resolver does not currently take into account all the packages that are installed. This behaviour is the source of the following dependency conflicts.\n",
            "torchvision 0.10.0+cu111 requires torch==1.9.0, but you have torch 1.6.0 which is incompatible.\n",
            "torchtext 0.10.0 requires torch==1.9.0, but you have torch 1.6.0 which is incompatible.\u001b[0m\n",
            "Successfully installed pytorch-crf-0.7.2 sentencepiece-0.1.96 seqeval-0.0.12 tokenizers-0.8.1rc1 torch-1.6.0 transformers-3.0.2\n"
          ]
        },
        {
          "output_type": "display_data",
          "data": {
            "application/vnd.colab-display-data+json": {
              "pip_warning": {
                "packages": [
                  "tokenizers",
                  "torch",
                  "transformers"
                ]
              }
            }
          },
          "metadata": {}
        }
      ]
    },
    {
      "cell_type": "markdown",
      "metadata": {
        "id": "9F_r-L2lyeAz"
      },
      "source": [
        "Тексты запрсов."
      ]
    },
    {
      "cell_type": "code",
      "metadata": {
        "colab": {
          "base_uri": "https://localhost:8080/"
        },
        "id": "SXxnSuFmvbGl",
        "outputId": "7e920598-ee3a-4325-89ac-6a056b5015ac"
      },
      "source": [
        "! head -10 JointBERT-master/data/snips/train/seq.in"
      ],
      "execution_count": null,
      "outputs": [
        {
          "output_type": "stream",
          "name": "stdout",
          "text": [
            "listen to westbam alumb allergic on google music\n",
            "add step to me to the 50 clásicos playlist \n",
            "i give this current textbook a rating value of 1 and a best rating of 6\n",
            "play the song little robin redbreast\n",
            "please add iris dement to my playlist this is selena\n",
            "add slimm cutta calhoun to my this is prince playlist  \n",
            "i want to listen to seventies music \n",
            "play a popular chant by brian epstein\n",
            "find fish story \n",
            "book a spot for 3 in mt\n"
          ]
        }
      ]
    },
    {
      "cell_type": "markdown",
      "metadata": {
        "id": "ypk-Q1zr0PYO"
      },
      "source": [
        "Examples of the slots."
      ]
    },
    {
      "cell_type": "code",
      "metadata": {
        "colab": {
          "base_uri": "https://localhost:8080/"
        },
        "id": "Jrix7jIQwc1l",
        "outputId": "c69d4fbf-41fc-44e9-c550-65954e2223a7"
      },
      "source": [
        "! head -10 JointBERT-master/data/snips/train/seq.out"
      ],
      "execution_count": null,
      "outputs": [
        {
          "output_type": "stream",
          "name": "stdout",
          "text": [
            "O O B-artist O B-album O B-service I-service \n",
            "O B-entity_name I-entity_name I-entity_name O O B-playlist I-playlist O \n",
            "O O O B-object_select B-object_type O O O O B-rating_value O O O O O B-best_rating \n",
            "O O B-music_item B-track I-track I-track \n",
            "O O B-artist I-artist O B-playlist_owner O B-playlist I-playlist I-playlist \n",
            "O B-artist I-artist I-artist O B-playlist_owner B-playlist I-playlist I-playlist O \n",
            "O O O O O B-year O \n",
            "O O B-sort B-music_item O B-artist I-artist \n",
            "O B-movie_name I-movie_name \n",
            "O O O O B-party_size_number O B-state \n"
          ]
        }
      ]
    },
    {
      "cell_type": "markdown",
      "metadata": {
        "id": "6gcnJyYP2l15"
      },
      "source": [
        "Examples of the intents."
      ]
    },
    {
      "cell_type": "code",
      "metadata": {
        "colab": {
          "base_uri": "https://localhost:8080/"
        },
        "id": "Kr_MxM5ixlfn",
        "outputId": "cfd17ad3-42aa-478c-8977-90afda82bdfd"
      },
      "source": [
        "! head -10 JointBERT-master/data/snips/train/label"
      ],
      "execution_count": null,
      "outputs": [
        {
          "output_type": "stream",
          "name": "stdout",
          "text": [
            "PlayMusic\n",
            "AddToPlaylist\n",
            "RateBook\n",
            "PlayMusic\n",
            "AddToPlaylist\n",
            "AddToPlaylist\n",
            "PlayMusic\n",
            "PlayMusic\n",
            "SearchScreeningEvent\n",
            "BookRestaurant\n"
          ]
        }
      ]
    },
    {
      "cell_type": "markdown",
      "metadata": {
        "id": "fstXiDEhFj6F"
      },
      "source": [
        "We reduce dataset to faster training process."
      ]
    },
    {
      "cell_type": "code",
      "metadata": {
        "id": "trcS9PjqFiun"
      },
      "source": [
        "def cut_dataset(input_dir, output_dir, labels, num_examples=1000):\n",
        "\n",
        "  seq_in = open(os.path.join(input_dir, \"seq.in\")).readlines()\n",
        "  seq_out = open(os.path.join(input_dir,\"seq.out\")).readlines()\n",
        "  labels = open(os.path.join(input_dir,\"label\")).readlines()\n",
        "\n",
        "  df = pd.DataFrame({\"seq_in\": seq_in, \"seq_out\": seq_out, \"labels\": labels})\n",
        "  df = df.loc[(df['labels'] == \"AddToPlaylist\\n\") | (df['labels'] == \"BookRestaurant\\n\")]\n",
        "  print(df.shape)\n",
        "  df = df[:num_examples]\n",
        "  print(df.shape)\n",
        "  open(os.path.join(output_dir, \"seq.in\"), \"w\").writelines(df.seq_in.values[:num_examples])\n",
        "  open(os.path.join(output_dir, \"seq.out\"), \"w\").writelines(df.seq_out.values[:num_examples])\n",
        "  open(os.path.join(output_dir,\"label\"), \"w\").writelines(df.labels.values[:num_examples])"
      ],
      "execution_count": null,
      "outputs": []
    },
    {
      "cell_type": "code",
      "metadata": {
        "id": "WlzjV_wul5nU"
      },
      "source": [
        "! mkdir JointBERT-master/data_small/\n",
        "! mkdir JointBERT-master/data_small/snips\n",
        "! mkdir JointBERT-master/data_small/snips/train\n",
        "! mkdir JointBERT-master/data_small/snips/dev\n",
        "! mkdir JointBERT-master/data_small/snips/test\n",
        "! cp JointBERT-master/data/snips/intent_label.txt JointBERT-master/data_small/snips/intent_label.txt \n",
        "! cp JointBERT-master/data/snips/slot_label.txt JointBERT-master/data_small/snips/slot_label.txt "
      ],
      "execution_count": null,
      "outputs": []
    },
    {
      "cell_type": "code",
      "metadata": {
        "colab": {
          "base_uri": "https://localhost:8080/"
        },
        "id": "XIhPoM_km5z4",
        "outputId": "de249a21-88c9-469b-cf02-9ee846f698fd"
      },
      "source": [
        "cut_dataset(\"JointBERT-master/data/snips/train/\", \"JointBERT-master/data_small/snips/train/\", labels=[\"AddToPlaylist\", \"BookRestaurant\"])\n",
        "cut_dataset(\"JointBERT-master/data/snips/dev/\", \"JointBERT-master/data_small/snips/dev/\", labels=[\"AddToPlaylist\", \"BookRestaurant\"])\n",
        "cut_dataset(\"JointBERT-master/data/snips/test/\", \"JointBERT-master/data_small/snips/test/\", labels=[\"AddToPlaylist\", \"BookRestaurant\"])"
      ],
      "execution_count": null,
      "outputs": [
        {
          "output_type": "stream",
          "name": "stdout",
          "text": [
            "(3699, 3)\n",
            "(1000, 3)\n",
            "(200, 3)\n",
            "(200, 3)\n",
            "(216, 3)\n",
            "(216, 3)\n"
          ]
        }
      ]
    },
    {
      "cell_type": "markdown",
      "metadata": {
        "id": "Y1dMqIr9cRon"
      },
      "source": [
        "The source code of model https://github.com/monologg/JointBERT/blob/master/model/modeling_jointdistilbert.py"
      ]
    },
    {
      "cell_type": "markdown",
      "metadata": {
        "id": "61OvuEde-OkU"
      },
      "source": [
        "Train model. You can also put crf on top, however, this will significantly increase the training time."
      ]
    },
    {
      "cell_type": "code",
      "metadata": {
        "colab": {
          "base_uri": "https://localhost:8080/"
        },
        "id": "U9okwAb8mnd5",
        "outputId": "5d4803f6-5397-49e1-ec66-aa0143487700"
      },
      "source": [
        "! python3 JointBERT-master/main.py --task snips \\\n",
        "                  --model_type distilbert \\\n",
        "                  --model_dir snips_model \\\n",
        "                  --data_dir JointBERT-master/data_small/ \\\n",
        "                  --num_train_epoch 3 \\\n",
        "                  --save_steps 20 \\\n",
        "                  --logging_steps 20\\\n",
        "                  --do_train --do_eval \n",
        "                  #--use_crf"
      ],
      "execution_count": null,
      "outputs": [
        {
          "output_type": "stream",
          "name": "stdout",
          "text": [
            "10/28/2021 11:40:05 - INFO - transformers.tokenization_utils_base -   loading file https://s3.amazonaws.com/models.huggingface.co/bert/bert-base-uncased-vocab.txt from cache at /root/.cache/torch/transformers/26bc1ad6c0ac742e9b52263248f6d0f00068293b33709fae12320c0e35ccfbbb.542ce4285a40d23a559526243235df47c5f75c197f04f37d1a0c124c32c9a084\n",
            "10/28/2021 11:40:05 - INFO - data_loader -   Loading features from cached file JointBERT-master/data_small/cached_train_snips_distilbert-base-uncased_50\n",
            "10/28/2021 11:40:05 - INFO - data_loader -   Loading features from cached file JointBERT-master/data_small/cached_dev_snips_distilbert-base-uncased_50\n",
            "10/28/2021 11:40:05 - INFO - data_loader -   Loading features from cached file JointBERT-master/data_small/cached_test_snips_distilbert-base-uncased_50\n",
            "10/28/2021 11:40:05 - INFO - transformers.configuration_utils -   loading configuration file https://s3.amazonaws.com/models.huggingface.co/bert/distilbert-base-uncased-config.json from cache at /root/.cache/torch/transformers/a41e817d5c0743e29e86ff85edc8c257e61bc8d88e4271bb1b243b6e7614c633.8949e27aafafa845a18d98a0e3a88bc2d248bbc32a1b75947366664658f23b1c\n",
            "10/28/2021 11:40:05 - INFO - transformers.configuration_utils -   Model config DistilBertConfig {\n",
            "  \"activation\": \"gelu\",\n",
            "  \"architectures\": [\n",
            "    \"DistilBertForMaskedLM\"\n",
            "  ],\n",
            "  \"attention_dropout\": 0.1,\n",
            "  \"dim\": 768,\n",
            "  \"dropout\": 0.1,\n",
            "  \"finetuning_task\": \"snips\",\n",
            "  \"hidden_dim\": 3072,\n",
            "  \"initializer_range\": 0.02,\n",
            "  \"max_position_embeddings\": 512,\n",
            "  \"model_type\": \"distilbert\",\n",
            "  \"n_heads\": 12,\n",
            "  \"n_layers\": 6,\n",
            "  \"pad_token_id\": 0,\n",
            "  \"qa_dropout\": 0.1,\n",
            "  \"seq_classif_dropout\": 0.2,\n",
            "  \"sinusoidal_pos_embds\": false,\n",
            "  \"tie_weights_\": true,\n",
            "  \"vocab_size\": 30522\n",
            "}\n",
            "\n",
            "10/28/2021 11:40:05 - INFO - transformers.modeling_utils -   loading weights file https://cdn.huggingface.co/distilbert-base-uncased-pytorch_model.bin from cache at /root/.cache/torch/transformers/ae9df7a8d658c4f3e1917a471a8a21cf678fa1d4cb91e7702dfe0598dbdcf354.c2015533705b9dff680ae707e205a35e2860e8d148b45d35085419d74fe57ac5\n",
            "10/28/2021 11:40:06 - WARNING - transformers.modeling_utils -   Some weights of the model checkpoint at distilbert-base-uncased were not used when initializing JointDistilBERT: ['vocab_transform.weight', 'vocab_transform.bias', 'vocab_layer_norm.weight', 'vocab_layer_norm.bias', 'vocab_projector.weight', 'vocab_projector.bias']\n",
            "- This IS expected if you are initializing JointDistilBERT from the checkpoint of a model trained on another task or with another architecture (e.g. initializing a BertForSequenceClassification model from a BertForPretraining model).\n",
            "- This IS NOT expected if you are initializing JointDistilBERT from the checkpoint of a model that you expect to be exactly identical (initializing a BertForSequenceClassification model from a BertForSequenceClassification model).\n",
            "10/28/2021 11:40:06 - WARNING - transformers.modeling_utils -   Some weights of JointDistilBERT were not initialized from the model checkpoint at distilbert-base-uncased and are newly initialized: ['intent_classifier.linear.weight', 'intent_classifier.linear.bias', 'slot_classifier.linear.weight', 'slot_classifier.linear.bias']\n",
            "You should probably TRAIN this model on a down-stream task to be able to use it for predictions and inference.\n",
            "10/28/2021 11:40:08 - INFO - trainer -   ***** Running training *****\n",
            "10/28/2021 11:40:08 - INFO - trainer -     Num examples = 1000\n",
            "10/28/2021 11:40:08 - INFO - trainer -     Num Epochs = 3\n",
            "10/28/2021 11:40:08 - INFO - trainer -     Total train batch size = 32\n",
            "10/28/2021 11:40:08 - INFO - trainer -     Gradient Accumulation steps = 1\n",
            "10/28/2021 11:40:08 - INFO - trainer -     Total optimization steps = 96\n",
            "10/28/2021 11:40:08 - INFO - trainer -     Logging steps = 20\n",
            "10/28/2021 11:40:08 - INFO - trainer -     Save steps = 20\n",
            "Epoch:   0% 0/3 [00:00<?, ?it/s]\n",
            "Iteration:   0% 0/32 [00:00<?, ?it/s]\u001b[A\n",
            "Iteration:   3% 1/32 [00:00<00:03,  9.65it/s]\u001b[A\n",
            "Iteration:   9% 3/32 [00:00<00:02, 10.45it/s]\u001b[A\n",
            "Iteration:  16% 5/32 [00:00<00:02, 10.75it/s]\u001b[A\n",
            "Iteration:  22% 7/32 [00:00<00:02, 10.92it/s]\u001b[A\n",
            "Iteration:  28% 9/32 [00:00<00:02, 11.02it/s]\u001b[A\n",
            "Iteration:  34% 11/32 [00:01<00:01, 10.98it/s]\u001b[A\n",
            "Iteration:  41% 13/32 [00:01<00:01, 11.11it/s]\u001b[A\n",
            "Iteration:  47% 15/32 [00:01<00:01, 11.12it/s]\u001b[A\n",
            "Iteration:  53% 17/32 [00:01<00:01, 10.67it/s]\u001b[A\n",
            "Iteration:  59% 19/32 [00:01<00:01, 10.79it/s]\u001b[A10/28/2021 11:40:10 - INFO - trainer -   ***** Running evaluation on dev dataset *****\n",
            "10/28/2021 11:40:10 - INFO - trainer -     Num examples = 200\n",
            "10/28/2021 11:40:10 - INFO - trainer -     Batch size = 64\n",
            "\n",
            "\n",
            "Evaluating:   0% 0/4 [00:00<?, ?it/s]\u001b[A\u001b[A\n",
            "\n",
            "Evaluating: 100% 4/4 [00:00<00:00, 24.41it/s]\n",
            "10/28/2021 11:40:10 - INFO - trainer -   ***** Eval results *****\n",
            "10/28/2021 11:40:10 - INFO - trainer -     intent_acc = 1.0\n",
            "10/28/2021 11:40:10 - INFO - trainer -     loss = 2.087016761302948\n",
            "10/28/2021 11:40:10 - INFO - trainer -     sementic_frame_acc = 0.0\n",
            "10/28/2021 11:40:10 - INFO - trainer -     slot_f1 = 0\n",
            "10/28/2021 11:40:10 - INFO - trainer -     slot_precision = 0\n",
            "10/28/2021 11:40:10 - INFO - trainer -     slot_recall = 0.0\n",
            "10/28/2021 11:40:10 - INFO - transformers.configuration_utils -   Configuration saved in snips_model/config.json\n",
            "10/28/2021 11:40:11 - INFO - transformers.modeling_utils -   Model weights saved in snips_model/pytorch_model.bin\n",
            "10/28/2021 11:40:11 - INFO - trainer -   Saving model checkpoint to snips_model\n",
            "\n",
            "Iteration:  66% 21/32 [00:02<00:02,  4.19it/s]\u001b[A\n",
            "Iteration:  72% 23/32 [00:03<00:01,  5.18it/s]\u001b[A\n",
            "Iteration:  78% 25/32 [00:03<00:01,  6.18it/s]\u001b[A\n",
            "Iteration:  84% 27/32 [00:03<00:00,  7.15it/s]\u001b[A\n",
            "Iteration:  91% 29/32 [00:03<00:00,  8.01it/s]\u001b[A\n",
            "Iteration: 100% 32/32 [00:03<00:00,  8.37it/s]\n",
            "Epoch:  33% 1/3 [00:03<00:07,  3.83s/it]\n",
            "Iteration:   0% 0/32 [00:00<?, ?it/s]\u001b[A\n",
            "Iteration:   6% 2/32 [00:00<00:02, 11.05it/s]\u001b[A\n",
            "Iteration:  12% 4/32 [00:00<00:02, 11.09it/s]\u001b[A\n",
            "Iteration:  19% 6/32 [00:00<00:02, 11.15it/s]\u001b[A10/28/2021 11:40:13 - INFO - trainer -   ***** Running evaluation on dev dataset *****\n",
            "10/28/2021 11:40:13 - INFO - trainer -     Num examples = 200\n",
            "10/28/2021 11:40:13 - INFO - trainer -     Batch size = 64\n",
            "\n",
            "\n",
            "Evaluating:   0% 0/4 [00:00<?, ?it/s]\u001b[A\u001b[A\n",
            "\n",
            "Evaluating: 100% 4/4 [00:00<00:00, 24.54it/s]\n",
            "10/28/2021 11:40:13 - INFO - trainer -   ***** Eval results *****\n",
            "10/28/2021 11:40:13 - INFO - trainer -     intent_acc = 1.0\n",
            "10/28/2021 11:40:13 - INFO - trainer -     loss = 1.2413741946220398\n",
            "10/28/2021 11:40:13 - INFO - trainer -     sementic_frame_acc = 0.05\n",
            "10/28/2021 11:40:13 - INFO - trainer -     slot_f1 = 0.4854215918045705\n",
            "10/28/2021 11:40:13 - INFO - trainer -     slot_precision = 0.4562962962962963\n",
            "10/28/2021 11:40:13 - INFO - trainer -     slot_recall = 0.5185185185185185\n",
            "10/28/2021 11:40:13 - INFO - transformers.configuration_utils -   Configuration saved in snips_model/config.json\n",
            "10/28/2021 11:40:14 - INFO - transformers.modeling_utils -   Model weights saved in snips_model/pytorch_model.bin\n",
            "10/28/2021 11:40:14 - INFO - trainer -   Saving model checkpoint to snips_model\n",
            "\n",
            "Iteration:  25% 8/32 [00:01<00:07,  3.41it/s]\u001b[A\n",
            "Iteration:  31% 10/32 [00:01<00:04,  4.55it/s]\u001b[A\n",
            "Iteration:  34% 11/32 [00:02<00:04,  5.11it/s]\u001b[A\n",
            "Iteration:  41% 13/32 [00:02<00:02,  6.40it/s]\u001b[A\n",
            "Iteration:  47% 15/32 [00:02<00:02,  7.52it/s]\u001b[A\n",
            "Iteration:  53% 17/32 [00:02<00:01,  8.43it/s]\u001b[A\n",
            "Iteration:  59% 19/32 [00:02<00:01,  9.13it/s]\u001b[A\n",
            "Iteration:  66% 21/32 [00:02<00:01,  9.68it/s]\u001b[A\n",
            "Iteration:  72% 23/32 [00:03<00:00, 10.11it/s]\u001b[A\n",
            "Iteration:  78% 25/32 [00:03<00:00, 10.41it/s]\u001b[A\n",
            "Iteration:  84% 27/32 [00:03<00:00, 10.65it/s]\u001b[A10/28/2021 11:40:16 - INFO - trainer -   ***** Running evaluation on dev dataset *****\n",
            "10/28/2021 11:40:16 - INFO - trainer -     Num examples = 200\n",
            "10/28/2021 11:40:16 - INFO - trainer -     Batch size = 64\n",
            "\n",
            "\n",
            "Evaluating:   0% 0/4 [00:00<?, ?it/s]\u001b[A\u001b[A\n",
            "\n",
            "Evaluating: 100% 4/4 [00:00<00:00, 24.48it/s]\n",
            "10/28/2021 11:40:16 - INFO - trainer -   ***** Eval results *****\n",
            "10/28/2021 11:40:16 - INFO - trainer -     intent_acc = 1.0\n",
            "10/28/2021 11:40:16 - INFO - trainer -     loss = 0.8358503133058548\n",
            "10/28/2021 11:40:16 - INFO - trainer -     sementic_frame_acc = 0.255\n",
            "10/28/2021 11:40:16 - INFO - trainer -     slot_f1 = 0.6687402799377916\n",
            "10/28/2021 11:40:16 - INFO - trainer -     slot_precision = 0.6213872832369942\n",
            "10/28/2021 11:40:16 - INFO - trainer -     slot_recall = 0.7239057239057239\n",
            "10/28/2021 11:40:16 - INFO - transformers.configuration_utils -   Configuration saved in snips_model/config.json\n",
            "10/28/2021 11:40:17 - INFO - transformers.modeling_utils -   Model weights saved in snips_model/pytorch_model.bin\n",
            "10/28/2021 11:40:17 - INFO - trainer -   Saving model checkpoint to snips_model\n",
            "\n",
            "Iteration:  91% 29/32 [00:04<00:00,  4.08it/s]\u001b[A\n",
            "Iteration: 100% 32/32 [00:04<00:00,  6.57it/s]\n",
            "Epoch:  67% 2/3 [00:08<00:04,  4.44s/it]\n",
            "Iteration:   0% 0/32 [00:00<?, ?it/s]\u001b[A\n",
            "Iteration:   6% 2/32 [00:00<00:02, 11.24it/s]\u001b[A\n",
            "Iteration:  12% 4/32 [00:00<00:02, 10.93it/s]\u001b[A\n",
            "Iteration:  19% 6/32 [00:00<00:02, 11.05it/s]\u001b[A\n",
            "Iteration:  25% 8/32 [00:00<00:02, 11.17it/s]\u001b[A\n",
            "Iteration:  31% 10/32 [00:00<00:01, 11.17it/s]\u001b[A\n",
            "Iteration:  38% 12/32 [00:01<00:01, 11.08it/s]\u001b[A\n",
            "Iteration:  44% 14/32 [00:01<00:01, 11.01it/s]\u001b[A10/28/2021 11:40:19 - INFO - trainer -   ***** Running evaluation on dev dataset *****\n",
            "10/28/2021 11:40:19 - INFO - trainer -     Num examples = 200\n",
            "10/28/2021 11:40:19 - INFO - trainer -     Batch size = 64\n",
            "\n",
            "\n",
            "Evaluating:   0% 0/4 [00:00<?, ?it/s]\u001b[A\u001b[A\n",
            "\n",
            "Evaluating: 100% 4/4 [00:00<00:00, 24.42it/s]\n",
            "10/28/2021 11:40:19 - INFO - trainer -   ***** Eval results *****\n",
            "10/28/2021 11:40:19 - INFO - trainer -     intent_acc = 1.0\n",
            "10/28/2021 11:40:19 - INFO - trainer -     loss = 0.6809173375368118\n",
            "10/28/2021 11:40:19 - INFO - trainer -     sementic_frame_acc = 0.395\n",
            "10/28/2021 11:40:19 - INFO - trainer -     slot_f1 = 0.7059748427672955\n",
            "10/28/2021 11:40:19 - INFO - trainer -     slot_precision = 0.6622418879056047\n",
            "10/28/2021 11:40:19 - INFO - trainer -     slot_recall = 0.7558922558922558\n",
            "10/28/2021 11:40:19 - INFO - transformers.configuration_utils -   Configuration saved in snips_model/config.json\n",
            "10/28/2021 11:40:20 - INFO - transformers.modeling_utils -   Model weights saved in snips_model/pytorch_model.bin\n",
            "10/28/2021 11:40:20 - INFO - trainer -   Saving model checkpoint to snips_model\n",
            "\n",
            "Iteration:  50% 16/32 [00:02<00:04,  3.94it/s]\u001b[A\n",
            "Iteration:  56% 18/32 [00:02<00:02,  4.94it/s]\u001b[A\n",
            "Iteration:  62% 20/32 [00:02<00:02,  5.97it/s]\u001b[A\n",
            "Iteration:  69% 22/32 [00:03<00:01,  6.94it/s]\u001b[A\n",
            "Iteration:  75% 24/32 [00:03<00:01,  7.85it/s]\u001b[A\n",
            "Iteration:  81% 26/32 [00:03<00:00,  8.63it/s]\u001b[A\n",
            "Iteration:  88% 28/32 [00:03<00:00,  9.27it/s]\u001b[A\n",
            "Iteration:  94% 30/32 [00:03<00:00,  9.78it/s]\u001b[A\n",
            "Iteration: 100% 32/32 [00:03<00:00,  8.29it/s]\n",
            "Epoch: 100% 3/3 [00:12<00:00,  4.18s/it]\n",
            "10/28/2021 11:40:21 - INFO - transformers.configuration_utils -   loading configuration file snips_model/config.json\n",
            "10/28/2021 11:40:21 - INFO - transformers.configuration_utils -   Model config DistilBertConfig {\n",
            "  \"activation\": \"gelu\",\n",
            "  \"architectures\": [\n",
            "    \"JointDistilBERT\"\n",
            "  ],\n",
            "  \"attention_dropout\": 0.1,\n",
            "  \"dim\": 768,\n",
            "  \"dropout\": 0.1,\n",
            "  \"finetuning_task\": \"snips\",\n",
            "  \"hidden_dim\": 3072,\n",
            "  \"initializer_range\": 0.02,\n",
            "  \"max_position_embeddings\": 512,\n",
            "  \"model_type\": \"distilbert\",\n",
            "  \"n_heads\": 12,\n",
            "  \"n_layers\": 6,\n",
            "  \"pad_token_id\": 0,\n",
            "  \"qa_dropout\": 0.1,\n",
            "  \"seq_classif_dropout\": 0.2,\n",
            "  \"sinusoidal_pos_embds\": false,\n",
            "  \"tie_weights_\": true,\n",
            "  \"vocab_size\": 30522\n",
            "}\n",
            "\n",
            "10/28/2021 11:40:21 - INFO - transformers.modeling_utils -   loading weights file snips_model/pytorch_model.bin\n",
            "10/28/2021 11:40:22 - INFO - transformers.modeling_utils -   All model checkpoint weights were used when initializing JointDistilBERT.\n",
            "\n",
            "10/28/2021 11:40:22 - INFO - transformers.modeling_utils -   All the weights of JointDistilBERT were initialized from the model checkpoint at snips_model.\n",
            "If your task is similar to the task the model of the ckeckpoint was trained on, you can already use JointDistilBERT for predictions without further training.\n",
            "10/28/2021 11:40:22 - INFO - trainer -   ***** Model Loaded *****\n",
            "10/28/2021 11:40:22 - INFO - trainer -   ***** Running evaluation on test dataset *****\n",
            "10/28/2021 11:40:22 - INFO - trainer -     Num examples = 216\n",
            "10/28/2021 11:40:22 - INFO - trainer -     Batch size = 64\n",
            "Evaluating: 100% 4/4 [00:00<00:00, 22.66it/s]\n",
            "10/28/2021 11:40:22 - INFO - trainer -   ***** Eval results *****\n",
            "10/28/2021 11:40:22 - INFO - trainer -     intent_acc = 1.0\n",
            "10/28/2021 11:40:22 - INFO - trainer -     loss = 0.6878104656934738\n",
            "10/28/2021 11:40:22 - INFO - trainer -     sementic_frame_acc = 0.32407407407407407\n",
            "10/28/2021 11:40:22 - INFO - trainer -     slot_f1 = 0.6857562408223201\n",
            "10/28/2021 11:40:22 - INFO - trainer -     slot_precision = 0.6624113475177305\n",
            "10/28/2021 11:40:22 - INFO - trainer -     slot_recall = 0.710806697108067\n"
          ]
        }
      ]
    },
    {
      "cell_type": "markdown",
      "metadata": {
        "id": "2t5URcZz3pqe"
      },
      "source": [
        "Predicting intents and slots on test set."
      ]
    },
    {
      "cell_type": "code",
      "metadata": {
        "colab": {
          "base_uri": "https://localhost:8080/"
        },
        "id": "xnGIW6qkzkzY",
        "outputId": "b44e576c-fc6b-4d73-cc32-78688b002964"
      },
      "source": [
        "! python3 JointBERT-master/predict.py \\\n",
        "  --input_file JointBERT-master/data_small/snips/test/seq.in \\\n",
        "  --output_file JointBERT-master/data_small/snips/pred \\\n",
        "  --model_dir snips_model"
      ],
      "execution_count": null,
      "outputs": [
        {
          "output_type": "stream",
          "name": "stdout",
          "text": [
            "10/28/2021 11:40:30 - INFO - transformers.configuration_utils -   loading configuration file snips_model/config.json\n",
            "10/28/2021 11:40:30 - INFO - transformers.configuration_utils -   Model config DistilBertConfig {\n",
            "  \"activation\": \"gelu\",\n",
            "  \"architectures\": [\n",
            "    \"JointDistilBERT\"\n",
            "  ],\n",
            "  \"attention_dropout\": 0.1,\n",
            "  \"dim\": 768,\n",
            "  \"dropout\": 0.1,\n",
            "  \"finetuning_task\": \"snips\",\n",
            "  \"hidden_dim\": 3072,\n",
            "  \"initializer_range\": 0.02,\n",
            "  \"max_position_embeddings\": 512,\n",
            "  \"model_type\": \"distilbert\",\n",
            "  \"n_heads\": 12,\n",
            "  \"n_layers\": 6,\n",
            "  \"pad_token_id\": 0,\n",
            "  \"qa_dropout\": 0.1,\n",
            "  \"seq_classif_dropout\": 0.2,\n",
            "  \"sinusoidal_pos_embds\": false,\n",
            "  \"tie_weights_\": true,\n",
            "  \"vocab_size\": 30522\n",
            "}\n",
            "\n",
            "10/28/2021 11:40:30 - INFO - transformers.modeling_utils -   loading weights file snips_model/pytorch_model.bin\n",
            "10/28/2021 11:40:31 - INFO - transformers.modeling_utils -   All model checkpoint weights were used when initializing JointDistilBERT.\n",
            "\n",
            "10/28/2021 11:40:31 - INFO - transformers.modeling_utils -   All the weights of JointDistilBERT were initialized from the model checkpoint at snips_model.\n",
            "If your task is similar to the task the model of the ckeckpoint was trained on, you can already use JointDistilBERT for predictions without further training.\n",
            "10/28/2021 11:40:33 - INFO - __main__ -   ***** Model Loaded *****\n",
            "10/28/2021 11:40:33 - INFO - __main__ -   Namespace(adam_epsilon=1e-08, data_dir='JointBERT-master/data_small/', do_eval=True, do_train=True, dropout_rate=0.1, eval_batch_size=64, gradient_accumulation_steps=1, ignore_index=0, intent_label_file='intent_label.txt', learning_rate=5e-05, logging_steps=20, max_grad_norm=1.0, max_seq_len=50, max_steps=-1, model_dir='snips_model', model_name_or_path='distilbert-base-uncased', model_type='distilbert', no_cuda=False, num_train_epochs=3.0, save_steps=20, seed=1234, slot_label_file='slot_label.txt', slot_loss_coef=1.0, slot_pad_label='PAD', task='snips', train_batch_size=32, use_crf=False, warmup_steps=0, weight_decay=0.0)\n",
            "10/28/2021 11:40:33 - INFO - transformers.tokenization_utils_base -   loading file https://s3.amazonaws.com/models.huggingface.co/bert/bert-base-uncased-vocab.txt from cache at /root/.cache/torch/transformers/26bc1ad6c0ac742e9b52263248f6d0f00068293b33709fae12320c0e35ccfbbb.542ce4285a40d23a559526243235df47c5f75c197f04f37d1a0c124c32c9a084\n",
            "Predicting: 100% 7/7 [00:00<00:00, 35.46it/s]\n",
            "10/28/2021 11:40:34 - INFO - __main__ -   Prediction Done!\n"
          ]
        }
      ]
    },
    {
      "cell_type": "code",
      "metadata": {
        "colab": {
          "base_uri": "https://localhost:8080/"
        },
        "id": "uYHpBUAJ3M81",
        "outputId": "7c205b58-c939-470a-b939-ea644e63ee0f"
      },
      "source": [
        "! head -10 JointBERT-master/data_small/snips/pred"
      ],
      "execution_count": null,
      "outputs": [
        {
          "output_type": "stream",
          "name": "stdout",
          "text": [
            "<AddToPlaylist> -> add [sabrina:B-artist] [salerno:I-artist] to the [grime:B-playlist] [instrumentals:I-playlist] playlist\n",
            "<BookRestaurant> -> i want to bring [four:B-party_size_number] people to a place that s close to [downtown:B-state] that serves [churrascaria:B-city] cuisine\n",
            "<AddToPlaylist> -> put [lindsey:B-artist] [cardinale:I-artist] into [my:B-playlist_owner] [hillary:B-playlist] [clinton:I-playlist] [s:I-playlist] [women:I-playlist] [s:I-playlist] [history:I-playlist] [month:I-playlist] playlist\n",
            "<BookRestaurant> -> can you get me reservations for a [highly:B-restaurant_type] [rated:B-restaurant_type] [restaurant:B-restaurant_type] in [seychelles:B-country]\n",
            "<BookRestaurant> -> on [june:I-timeRange] [27:I-timeRange] [2026:I-timeRange] i d like to go to a [delaware:B-state] [gastropub:B-restaurant_type]\n",
            "<BookRestaurant> -> make a reservation at a [bakery:B-restaurant_type] that has [acquacotta:I-restaurant_name] in [central:B-country] [african:B-country] [republic:B-country] for [five:B-party_size_number]\n",
            "<BookRestaurant> -> make me a reservation in [south:B-state] [carolina:B-state]\n",
            "<BookRestaurant> -> [restaurant:B-restaurant_type] in [bulgaria:B-country] this [week:I-timeRange] party for [9:B-party_size_number] [numbers:I-timeRange]\n",
            "<AddToPlaylist> -> add the [song:B-music_item] [don:I-entity_name] [t:I-entity_name] [drink:I-entity_name] [the:I-entity_name] [water:I-entity_name] to [my:B-playlist_owner] playlist\n",
            "<AddToPlaylist> -> add this [tune:B-music_item] by [rod:B-artist] [argent:I-artist] to [propuesta:B-playlist] [alternativa:I-playlist] playlist\n"
          ]
        }
      ]
    },
    {
      "cell_type": "markdown",
      "metadata": {
        "id": "H143mUv97Glj"
      },
      "source": [
        "### Question Answering with SQuAD 2.0 and Transformers"
      ]
    },
    {
      "cell_type": "markdown",
      "metadata": {
        "id": "r9jslj0P-4qF"
      },
      "source": [
        "Question Answering on SQuAD dataset is a task to find an answer on question in a given context (e.g, paragraph from Wikipedia), where the answer to each question is a segment of the context. \n",
        "\n",
        "Source code https://huggingface.co/transformers/custom_datasets.html#question-answering-with-squad-2-0."
      ]
    },
    {
      "cell_type": "markdown",
      "metadata": {
        "id": "XOcSvtLX7O5y"
      },
      "source": [
        "We will start by downloading the data:"
      ]
    },
    {
      "cell_type": "code",
      "metadata": {
        "colab": {
          "base_uri": "https://localhost:8080/"
        },
        "id": "XOYvXvCB7QCo",
        "outputId": "5e2dfe58-cbc9-4cb5-d0b7-7b04082a181e"
      },
      "source": [
        "!mkdir squad\n",
        "!wget https://rajpurkar.github.io/SQuAD-explorer/dataset/train-v2.0.json -O squad/train-v2.0.json\n",
        "!wget https://rajpurkar.github.io/SQuAD-explorer/dataset/dev-v2.0.json -O squad/dev-v2.0.json"
      ],
      "execution_count": null,
      "outputs": [
        {
          "output_type": "stream",
          "name": "stdout",
          "text": [
            "--2021-10-28 12:02:50--  https://rajpurkar.github.io/SQuAD-explorer/dataset/train-v2.0.json\n",
            "Resolving rajpurkar.github.io (rajpurkar.github.io)... 185.199.108.153, 185.199.109.153, 185.199.110.153, ...\n",
            "Connecting to rajpurkar.github.io (rajpurkar.github.io)|185.199.108.153|:443... connected.\n",
            "HTTP request sent, awaiting response... 200 OK\n",
            "Length: 42123633 (40M) [application/json]\n",
            "Saving to: ‘squad/train-v2.0.json’\n",
            "\n",
            "squad/train-v2.0.js 100%[===================>]  40.17M   236MB/s    in 0.2s    \n",
            "\n",
            "2021-10-28 12:02:52 (236 MB/s) - ‘squad/train-v2.0.json’ saved [42123633/42123633]\n",
            "\n",
            "--2021-10-28 12:02:52--  https://rajpurkar.github.io/SQuAD-explorer/dataset/dev-v2.0.json\n",
            "Resolving rajpurkar.github.io (rajpurkar.github.io)... 185.199.108.153, 185.199.109.153, 185.199.110.153, ...\n",
            "Connecting to rajpurkar.github.io (rajpurkar.github.io)|185.199.108.153|:443... connected.\n",
            "HTTP request sent, awaiting response... 200 OK\n",
            "Length: 4370528 (4.2M) [application/json]\n",
            "Saving to: ‘squad/dev-v2.0.json’\n",
            "\n",
            "squad/dev-v2.0.json 100%[===================>]   4.17M  --.-KB/s    in 0.05s   \n",
            "\n",
            "2021-10-28 12:02:53 (90.7 MB/s) - ‘squad/dev-v2.0.json’ saved [4370528/4370528]\n",
            "\n"
          ]
        }
      ]
    },
    {
      "cell_type": "markdown",
      "metadata": {
        "id": "_o46fpQg7SE8"
      },
      "source": [
        "Each split is in a structured json file with a number of questions and answers for each passage (or context). We’ll take this apart into parallel lists of contexts, questions, and answers (note that the contexts here are repeated since there are multiple questions per context):"
      ]
    },
    {
      "cell_type": "code",
      "metadata": {
        "id": "qMf64pL67WHe"
      },
      "source": [
        "import json\n",
        "from pathlib import Path\n",
        "\n",
        "def read_squad(path):\n",
        "    path = Path(path)\n",
        "    with open(path, 'rb') as f:\n",
        "        squad_dict = json.load(f)\n",
        "\n",
        "    contexts = []\n",
        "    questions = []\n",
        "    answers = []\n",
        "    for group in squad_dict['data']:\n",
        "        for passage in group['paragraphs']:\n",
        "            context = passage['context']\n",
        "            for qa in passage['qas']:\n",
        "                question = qa['question']\n",
        "                for answer in qa['answers']:\n",
        "                    contexts.append(context)\n",
        "                    questions.append(question)\n",
        "                    answers.append(answer)\n",
        "\n",
        "    return contexts, questions, answers\n",
        "\n",
        "train_contexts, train_questions, train_answers = read_squad('squad/train-v2.0.json')\n",
        "val_contexts, val_questions, val_answers = read_squad('squad/dev-v2.0.json')"
      ],
      "execution_count": null,
      "outputs": []
    },
    {
      "cell_type": "markdown",
      "metadata": {
        "id": "jNC5aKKh7Zz2"
      },
      "source": [
        "The contexts and questions are just strings. The answers are dicts containing the subsequence of the passage with the correct answer as well as an integer indicating the character at which the answer begins. In order to train a model on this data we need (1) the tokenized context/question pairs, and (2) integers indicating at which token positions the answer begins and ends."
      ]
    },
    {
      "cell_type": "code",
      "metadata": {
        "colab": {
          "base_uri": "https://localhost:8080/"
        },
        "id": "LVl4B6omJPb8",
        "outputId": "4f2510a0-b94d-4c80-e328-eb4fe67def7e"
      },
      "source": [
        "print(train_contexts[0])\n",
        "print(train_questions[0])\n",
        "print(train_answers[0])"
      ],
      "execution_count": null,
      "outputs": [
        {
          "output_type": "stream",
          "name": "stdout",
          "text": [
            "Beyoncé Giselle Knowles-Carter (/biːˈjɒnseɪ/ bee-YON-say) (born September 4, 1981) is an American singer, songwriter, record producer and actress. Born and raised in Houston, Texas, she performed in various singing and dancing competitions as a child, and rose to fame in the late 1990s as lead singer of R&B girl-group Destiny's Child. Managed by her father, Mathew Knowles, the group became one of the world's best-selling girl groups of all time. Their hiatus saw the release of Beyoncé's debut album, Dangerously in Love (2003), which established her as a solo artist worldwide, earned five Grammy Awards and featured the Billboard Hot 100 number-one singles \"Crazy in Love\" and \"Baby Boy\".\n",
            "When did Beyonce start becoming popular?\n",
            "{'text': 'in the late 1990s', 'answer_start': 269}\n"
          ]
        }
      ]
    },
    {
      "cell_type": "markdown",
      "metadata": {
        "id": "pc9A5lZG_FiY"
      },
      "source": [
        "Reducing dataset to faster training."
      ]
    },
    {
      "cell_type": "code",
      "metadata": {
        "id": "wq3IjvsY-Rdo"
      },
      "source": [
        "TRAIN_EXAMPLES_NUM = 500\n",
        "VAL_EXAMPLES_NUM = 20\n",
        "\n",
        "train_contexts = train_contexts[:TRAIN_EXAMPLES_NUM]\n",
        "train_questions = train_questions[:TRAIN_EXAMPLES_NUM]\n",
        "train_answers = train_answers[:TRAIN_EXAMPLES_NUM]\n",
        "\n",
        "val_contexts = val_contexts[:VAL_EXAMPLES_NUM]\n",
        "val_questions = val_questions[:VAL_EXAMPLES_NUM]\n",
        "val_answers = val_answers[:VAL_EXAMPLES_NUM]"
      ],
      "execution_count": null,
      "outputs": []
    },
    {
      "cell_type": "markdown",
      "metadata": {
        "id": "jb_lEtU_7ad1"
      },
      "source": [
        "First, let’s get the character position at which the answer ends in the passage (we are given the starting position). Sometimes SQuAD answers are off by one or two characters, so we will also adjust for that."
      ]
    },
    {
      "cell_type": "code",
      "metadata": {
        "id": "ZYml9KJ37feN"
      },
      "source": [
        "def add_end_idx(answers, contexts):\n",
        "  for answer, context in zip(answers, contexts):\n",
        "    gold_text = answer['text']\n",
        "    start_idx = answer['answer_start']\n",
        "    end_idx = start_idx + len(gold_text)\n",
        "\n",
        "    # sometimes squad answers are off by a character or two – fix this\n",
        "    if context[start_idx:end_idx] == gold_text:\n",
        "        answer['answer_end'] = end_idx\n",
        "    elif context[start_idx-1:end_idx-1] == gold_text:\n",
        "        answer['answer_start'] = start_idx - 1\n",
        "        answer['answer_end'] = end_idx - 1     # When the gold label is off by one character\n",
        "    elif context[start_idx-2:end_idx-2] == gold_text:\n",
        "        answer['answer_start'] = start_idx - 2\n",
        "        answer['answer_end'] = end_idx - 2     # When the gold label is off by two characters\n",
        "\n",
        "add_end_idx(train_answers, train_contexts)\n",
        "add_end_idx(val_answers, val_contexts)"
      ],
      "execution_count": null,
      "outputs": []
    },
    {
      "cell_type": "code",
      "metadata": {
        "colab": {
          "base_uri": "https://localhost:8080/"
        },
        "id": "bN4XIcrKOUuL",
        "outputId": "2a81c577-9cd0-4124-907f-d6666f8de5be"
      },
      "source": [
        "train_answers[0]"
      ],
      "execution_count": null,
      "outputs": [
        {
          "output_type": "execute_result",
          "data": {
            "text/plain": [
              "{'answer_end': 286, 'answer_start': 269, 'text': 'in the late 1990s'}"
            ]
          },
          "metadata": {},
          "execution_count": 7
        }
      ]
    },
    {
      "cell_type": "markdown",
      "metadata": {
        "id": "ROKCaMsM7paC"
      },
      "source": [
        "Now train_answers and val_answers include the character end positions and the corrected start positions. Next, let’s tokenize our context/question pairs. 🤗 Tokenizers can accept parallel lists of sequences and encode them together as sequence pairs."
      ]
    },
    {
      "cell_type": "code",
      "metadata": {
        "id": "OZXbVcBe7rx-"
      },
      "source": [
        "from transformers import DistilBertTokenizerFast\n",
        "\n",
        "tokenizer = DistilBertTokenizerFast.from_pretrained('distilbert-base-uncased')\n",
        "\n",
        "train_encodings = tokenizer(train_contexts, train_questions, truncation=True, padding=True)\n",
        "val_encodings = tokenizer(val_contexts, val_questions, truncation=True, padding=True)"
      ],
      "execution_count": null,
      "outputs": []
    },
    {
      "cell_type": "markdown",
      "metadata": {
        "id": "AlHe9YMR7vhS"
      },
      "source": [
        "Next we need to convert our character start/end positions to token start/end positions. When using 🤗 Fast Tokenizers, we can use the built in char_to_token() method."
      ]
    },
    {
      "cell_type": "code",
      "metadata": {
        "id": "RkWiZ5fy7_8a"
      },
      "source": [
        "def add_token_positions(encodings, answers):\n",
        "  start_positions = []\n",
        "  end_positions = []\n",
        "  for i in range(len(answers)):\n",
        "      start_positions.append(encodings.char_to_token(i, answers[i]['answer_start']))\n",
        "      end_positions.append(encodings.char_to_token(i, answers[i]['answer_end'] - 1))\n",
        "      # if None, the answer passage has been truncated\n",
        "      if start_positions[-1] is None:\n",
        "          start_positions[-1] = tokenizer.model_max_length\n",
        "      if end_positions[-1] is None:\n",
        "          end_positions[-1] = tokenizer.model_max_length\n",
        "  encodings.update({'start_positions': start_positions, 'end_positions': end_positions})\n",
        "\n",
        "add_token_positions(train_encodings, train_answers)\n",
        "add_token_positions(val_encodings, val_answers)"
      ],
      "execution_count": null,
      "outputs": []
    },
    {
      "cell_type": "markdown",
      "metadata": {
        "id": "ONGRJZyT8ILM"
      },
      "source": [
        "Our data is ready. Let’s just put it in a PyTorch/TensorFlow dataset so that we can easily use it for training. In PyTorch, we define a custom Dataset class. In TensorFlow, we pass a tuple of (inputs_dict, labels_dict) to the from_tensor_slices method."
      ]
    },
    {
      "cell_type": "code",
      "metadata": {
        "id": "yY6tNjH28JGz"
      },
      "source": [
        "import torch\n",
        "\n",
        "class SquadDataset(torch.utils.data.Dataset):\n",
        "    def __init__(self, encodings):\n",
        "        self.encodings = encodings\n",
        "\n",
        "    def __getitem__(self, idx):\n",
        "        return {key: torch.tensor(val[idx]) for key, val in self.encodings.items()}\n",
        "\n",
        "    def __len__(self):\n",
        "        return len(self.encodings.input_ids)\n",
        "\n",
        "train_dataset = SquadDataset(train_encodings)\n",
        "val_dataset = SquadDataset(val_encodings)"
      ],
      "execution_count": null,
      "outputs": []
    },
    {
      "cell_type": "markdown",
      "metadata": {
        "id": "H7aQ9NhO8OHZ"
      },
      "source": [
        "Now we can use a DistilBert model with a QA head for training:"
      ]
    },
    {
      "cell_type": "code",
      "metadata": {
        "colab": {
          "base_uri": "https://localhost:8080/",
          "height": 154,
          "referenced_widgets": [
            "4256df8db29e4b37896ab20d0f3a9340",
            "cc6df7d545f84d01848b2bebc4dab7f0",
            "ba6b70a2f7384793bccf0089a962dfd1",
            "322291fd434e4941a81a325b5ff8b9bc",
            "fed45633626c4bf59c47e5f8639338a9",
            "29b5e475904843d581b32bb29a01d0e9",
            "2a02b6fad6ef4e9bacbdbad1b04f89d1",
            "d9a824ff43f64f4da0ed1635b0a8b22a",
            "9389854a1096426cba553875508df0a9",
            "f6946e9800674b079e8038b079d40be1",
            "ed935da15fd94c4891054ef096d2b79a"
          ]
        },
        "id": "ffSXprQj8YW7",
        "outputId": "00d1f547-f8e4-4af2-a868-3074fc2f0561"
      },
      "source": [
        "from transformers import DistilBertForQuestionAnswering\n",
        "model = DistilBertForQuestionAnswering.from_pretrained(\"distilbert-base-uncased\")"
      ],
      "execution_count": null,
      "outputs": [
        {
          "data": {
            "application/vnd.jupyter.widget-view+json": {
              "model_id": "4256df8db29e4b37896ab20d0f3a9340",
              "version_major": 2,
              "version_minor": 0
            },
            "text/plain": [
              "Downloading:   0%|          | 0.00/256M [00:00<?, ?B/s]"
            ]
          },
          "metadata": {},
          "output_type": "display_data"
        },
        {
          "name": "stderr",
          "output_type": "stream",
          "text": [
            "Some weights of the model checkpoint at distilbert-base-uncased were not used when initializing DistilBertForQuestionAnswering: ['vocab_transform.bias', 'vocab_transform.weight', 'vocab_layer_norm.weight', 'vocab_projector.bias', 'vocab_projector.weight', 'vocab_layer_norm.bias']\n",
            "- This IS expected if you are initializing DistilBertForQuestionAnswering from the checkpoint of a model trained on another task or with another architecture (e.g. initializing a BertForSequenceClassification model from a BertForPreTraining model).\n",
            "- This IS NOT expected if you are initializing DistilBertForQuestionAnswering from the checkpoint of a model that you expect to be exactly identical (initializing a BertForSequenceClassification model from a BertForSequenceClassification model).\n",
            "Some weights of DistilBertForQuestionAnswering were not initialized from the model checkpoint at distilbert-base-uncased and are newly initialized: ['qa_outputs.bias', 'qa_outputs.weight']\n",
            "You should probably TRAIN this model on a down-stream task to be able to use it for predictions and inference.\n"
          ]
        }
      ]
    },
    {
      "cell_type": "markdown",
      "metadata": {
        "id": "J4ObmR-S8bB0"
      },
      "source": [
        "The data and model are both ready to go. You can train the model with Trainer/TFTrainer exactly as in the sequence classification example above. If using native PyTorch, replace labels with start_positions and end_positions in the training example. If using Keras’s fit, we need to make a minor modification to handle this example since it involves multiple model outputs."
      ]
    },
    {
      "cell_type": "code",
      "metadata": {
        "colab": {
          "background_save": true,
          "base_uri": "https://localhost:8080/"
        },
        "id": "SfeZav3c8f0-",
        "outputId": "50a6070a-6c89-4aaa-b292-64243ae754cf"
      },
      "source": [
        "from torch.utils.data import DataLoader\n",
        "from transformers import AdamW\n",
        "\n",
        "NUM_EPOCHS = 3\n",
        "\n",
        "device = torch.device('cuda') if torch.cuda.is_available() else torch.device('cpu')\n",
        "\n",
        "model.to(device)\n",
        "model.train()\n",
        "\n",
        "train_loader = DataLoader(train_dataset, batch_size=16, shuffle=True)\n",
        "\n",
        "optim = AdamW(model.parameters(), lr=5e-5)\n",
        "\n",
        "for epoch in range(NUM_EPOCHS):\n",
        "    print(\"Epoch %s of %s\" %(epoch + 1, NUM_EPOCHS))\n",
        "    i = 0\n",
        "    for batch in train_loader:\n",
        "        optim.zero_grad()\n",
        "        input_ids = batch['input_ids'].to(device)\n",
        "        attention_mask = batch['attention_mask'].to(device)\n",
        "        start_positions = batch['start_positions'].to(device)\n",
        "        end_positions = batch['end_positions'].to(device)\n",
        "        outputs = model(input_ids, attention_mask=attention_mask, start_positions=start_positions, end_positions=end_positions)\n",
        "        loss = outputs[0]\n",
        "        loss.backward()\n",
        "        optim.step()\n",
        "        i += 1\n",
        "\n",
        "model.eval()"
      ],
      "execution_count": null,
      "outputs": [
        {
          "name": "stdout",
          "output_type": "stream",
          "text": [
            "Epoch 1 of 3\n",
            "Epoch 2 of 3\n",
            "Epoch 3 of 3\n"
          ]
        },
        {
          "data": {
            "text/plain": [
              "DistilBertForQuestionAnswering(\n",
              "  (distilbert): DistilBertModel(\n",
              "    (embeddings): Embeddings(\n",
              "      (word_embeddings): Embedding(30522, 768, padding_idx=0)\n",
              "      (position_embeddings): Embedding(512, 768)\n",
              "      (LayerNorm): LayerNorm((768,), eps=1e-12, elementwise_affine=True)\n",
              "      (dropout): Dropout(p=0.1, inplace=False)\n",
              "    )\n",
              "    (transformer): Transformer(\n",
              "      (layer): ModuleList(\n",
              "        (0): TransformerBlock(\n",
              "          (attention): MultiHeadSelfAttention(\n",
              "            (dropout): Dropout(p=0.1, inplace=False)\n",
              "            (q_lin): Linear(in_features=768, out_features=768, bias=True)\n",
              "            (k_lin): Linear(in_features=768, out_features=768, bias=True)\n",
              "            (v_lin): Linear(in_features=768, out_features=768, bias=True)\n",
              "            (out_lin): Linear(in_features=768, out_features=768, bias=True)\n",
              "          )\n",
              "          (sa_layer_norm): LayerNorm((768,), eps=1e-12, elementwise_affine=True)\n",
              "          (ffn): FFN(\n",
              "            (dropout): Dropout(p=0.1, inplace=False)\n",
              "            (lin1): Linear(in_features=768, out_features=3072, bias=True)\n",
              "            (lin2): Linear(in_features=3072, out_features=768, bias=True)\n",
              "          )\n",
              "          (output_layer_norm): LayerNorm((768,), eps=1e-12, elementwise_affine=True)\n",
              "        )\n",
              "        (1): TransformerBlock(\n",
              "          (attention): MultiHeadSelfAttention(\n",
              "            (dropout): Dropout(p=0.1, inplace=False)\n",
              "            (q_lin): Linear(in_features=768, out_features=768, bias=True)\n",
              "            (k_lin): Linear(in_features=768, out_features=768, bias=True)\n",
              "            (v_lin): Linear(in_features=768, out_features=768, bias=True)\n",
              "            (out_lin): Linear(in_features=768, out_features=768, bias=True)\n",
              "          )\n",
              "          (sa_layer_norm): LayerNorm((768,), eps=1e-12, elementwise_affine=True)\n",
              "          (ffn): FFN(\n",
              "            (dropout): Dropout(p=0.1, inplace=False)\n",
              "            (lin1): Linear(in_features=768, out_features=3072, bias=True)\n",
              "            (lin2): Linear(in_features=3072, out_features=768, bias=True)\n",
              "          )\n",
              "          (output_layer_norm): LayerNorm((768,), eps=1e-12, elementwise_affine=True)\n",
              "        )\n",
              "        (2): TransformerBlock(\n",
              "          (attention): MultiHeadSelfAttention(\n",
              "            (dropout): Dropout(p=0.1, inplace=False)\n",
              "            (q_lin): Linear(in_features=768, out_features=768, bias=True)\n",
              "            (k_lin): Linear(in_features=768, out_features=768, bias=True)\n",
              "            (v_lin): Linear(in_features=768, out_features=768, bias=True)\n",
              "            (out_lin): Linear(in_features=768, out_features=768, bias=True)\n",
              "          )\n",
              "          (sa_layer_norm): LayerNorm((768,), eps=1e-12, elementwise_affine=True)\n",
              "          (ffn): FFN(\n",
              "            (dropout): Dropout(p=0.1, inplace=False)\n",
              "            (lin1): Linear(in_features=768, out_features=3072, bias=True)\n",
              "            (lin2): Linear(in_features=3072, out_features=768, bias=True)\n",
              "          )\n",
              "          (output_layer_norm): LayerNorm((768,), eps=1e-12, elementwise_affine=True)\n",
              "        )\n",
              "        (3): TransformerBlock(\n",
              "          (attention): MultiHeadSelfAttention(\n",
              "            (dropout): Dropout(p=0.1, inplace=False)\n",
              "            (q_lin): Linear(in_features=768, out_features=768, bias=True)\n",
              "            (k_lin): Linear(in_features=768, out_features=768, bias=True)\n",
              "            (v_lin): Linear(in_features=768, out_features=768, bias=True)\n",
              "            (out_lin): Linear(in_features=768, out_features=768, bias=True)\n",
              "          )\n",
              "          (sa_layer_norm): LayerNorm((768,), eps=1e-12, elementwise_affine=True)\n",
              "          (ffn): FFN(\n",
              "            (dropout): Dropout(p=0.1, inplace=False)\n",
              "            (lin1): Linear(in_features=768, out_features=3072, bias=True)\n",
              "            (lin2): Linear(in_features=3072, out_features=768, bias=True)\n",
              "          )\n",
              "          (output_layer_norm): LayerNorm((768,), eps=1e-12, elementwise_affine=True)\n",
              "        )\n",
              "        (4): TransformerBlock(\n",
              "          (attention): MultiHeadSelfAttention(\n",
              "            (dropout): Dropout(p=0.1, inplace=False)\n",
              "            (q_lin): Linear(in_features=768, out_features=768, bias=True)\n",
              "            (k_lin): Linear(in_features=768, out_features=768, bias=True)\n",
              "            (v_lin): Linear(in_features=768, out_features=768, bias=True)\n",
              "            (out_lin): Linear(in_features=768, out_features=768, bias=True)\n",
              "          )\n",
              "          (sa_layer_norm): LayerNorm((768,), eps=1e-12, elementwise_affine=True)\n",
              "          (ffn): FFN(\n",
              "            (dropout): Dropout(p=0.1, inplace=False)\n",
              "            (lin1): Linear(in_features=768, out_features=3072, bias=True)\n",
              "            (lin2): Linear(in_features=3072, out_features=768, bias=True)\n",
              "          )\n",
              "          (output_layer_norm): LayerNorm((768,), eps=1e-12, elementwise_affine=True)\n",
              "        )\n",
              "        (5): TransformerBlock(\n",
              "          (attention): MultiHeadSelfAttention(\n",
              "            (dropout): Dropout(p=0.1, inplace=False)\n",
              "            (q_lin): Linear(in_features=768, out_features=768, bias=True)\n",
              "            (k_lin): Linear(in_features=768, out_features=768, bias=True)\n",
              "            (v_lin): Linear(in_features=768, out_features=768, bias=True)\n",
              "            (out_lin): Linear(in_features=768, out_features=768, bias=True)\n",
              "          )\n",
              "          (sa_layer_norm): LayerNorm((768,), eps=1e-12, elementwise_affine=True)\n",
              "          (ffn): FFN(\n",
              "            (dropout): Dropout(p=0.1, inplace=False)\n",
              "            (lin1): Linear(in_features=768, out_features=3072, bias=True)\n",
              "            (lin2): Linear(in_features=3072, out_features=768, bias=True)\n",
              "          )\n",
              "          (output_layer_norm): LayerNorm((768,), eps=1e-12, elementwise_affine=True)\n",
              "        )\n",
              "      )\n",
              "    )\n",
              "  )\n",
              "  (qa_outputs): Linear(in_features=768, out_features=2, bias=True)\n",
              "  (dropout): Dropout(p=0.1, inplace=False)\n",
              ")"
            ]
          },
          "execution_count": null,
          "metadata": {},
          "output_type": "execute_result"
        }
      ]
    },
    {
      "cell_type": "markdown",
      "metadata": {
        "id": "KtpzxjAL8y48"
      },
      "source": [
        "Fine-tuning with Trainer https://huggingface.co/transformers/custom_datasets.html#ft-trainer."
      ]
    },
    {
      "cell_type": "markdown",
      "metadata": {
        "id": "tFY00U9vBirN"
      },
      "source": [
        "###DPR"
      ]
    },
    {
      "cell_type": "markdown",
      "metadata": {
        "id": "1CP1YW5Pu_3W"
      },
      "source": [
        "Рассмотрим примеры применения предобученной модели [DPR](https://huggingface.co/transformers/model_doc/dpr.html) (Dense Passage Retrieval). DPR использует два независимых кодировщика на основе BERT для получения представлений абзацев и вопросов, а затем вычисляет меру близости между полученными векторами. В huggingface представлена модель, предобученная на корпусе NQ (Natural Questions). "
      ]
    },
    {
      "cell_type": "markdown",
      "metadata": {
        "id": "FNC5KRDWyxN7"
      },
      "source": [
        "![image.png](data:image/png;base64,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)"
      ]
    },
    {
      "cell_type": "markdown",
      "metadata": {
        "id": "G6_Njkbcy6en"
      },
      "source": [
        "Инициализируем модель и токенизатор, закодируем вопрос и абзац, в котором будем искать ответ."
      ]
    },
    {
      "cell_type": "code",
      "metadata": {
        "colab": {
          "base_uri": "https://localhost:8080/",
          "height": 851
        },
        "id": "NCHYN_YGVZmL",
        "outputId": "cc398b05-258b-4a51-aa69-020d68ce3298"
      },
      "source": [
        "!pip install transformers"
      ],
      "execution_count": null,
      "outputs": [
        {
          "output_type": "stream",
          "name": "stdout",
          "text": [
            "Requirement already satisfied: transformers in /usr/local/lib/python3.7/dist-packages (4.6.0)\n",
            "Requirement already satisfied: filelock in /usr/local/lib/python3.7/dist-packages (from transformers) (3.0.12)\n",
            "Requirement already satisfied: importlib-metadata in /usr/local/lib/python3.7/dist-packages (from transformers) (4.8.1)\n",
            "Collecting numpy>=1.17\n",
            "  Downloading numpy-1.21.3-cp37-cp37m-manylinux_2_12_x86_64.manylinux2010_x86_64.whl (15.7 MB)\n",
            "\u001b[K     |████████████████████████████████| 15.7 MB 5.3 MB/s \n",
            "\u001b[?25hRequirement already satisfied: packaging in /usr/local/lib/python3.7/dist-packages (from transformers) (21.0)\n",
            "Requirement already satisfied: sacremoses in /usr/local/lib/python3.7/dist-packages (from transformers) (0.0.35)\n",
            "Requirement already satisfied: tqdm>=4.27 in /usr/local/lib/python3.7/dist-packages (from transformers) (4.32.2)\n",
            "Requirement already satisfied: regex!=2019.12.17 in /usr/local/lib/python3.7/dist-packages (from transformers) (2019.12.20)\n",
            "Requirement already satisfied: requests in /usr/local/lib/python3.7/dist-packages (from transformers) (2.22.0)\n",
            "Requirement already satisfied: huggingface-hub==0.0.8 in /usr/local/lib/python3.7/dist-packages (from transformers) (0.0.8)\n",
            "Requirement already satisfied: tokenizers<0.11,>=0.10.1 in /usr/local/lib/python3.7/dist-packages (from transformers) (0.10.3)\n",
            "Requirement already satisfied: zipp>=0.5 in /usr/local/lib/python3.7/dist-packages (from importlib-metadata->transformers) (3.6.0)\n",
            "Requirement already satisfied: typing-extensions>=3.6.4 in /usr/local/lib/python3.7/dist-packages (from importlib-metadata->transformers) (3.7.4.3)\n",
            "Requirement already satisfied: pyparsing>=2.0.2 in /usr/local/lib/python3.7/dist-packages (from packaging->transformers) (2.4.7)\n",
            "Requirement already satisfied: urllib3!=1.25.0,!=1.25.1,<1.26,>=1.21.1 in /usr/local/lib/python3.7/dist-packages (from requests->transformers) (1.24.3)\n",
            "Requirement already satisfied: certifi>=2017.4.17 in /usr/local/lib/python3.7/dist-packages (from requests->transformers) (2021.5.30)\n",
            "Requirement already satisfied: idna<2.9,>=2.5 in /usr/local/lib/python3.7/dist-packages (from requests->transformers) (2.8)\n",
            "Requirement already satisfied: chardet<3.1.0,>=3.0.2 in /usr/local/lib/python3.7/dist-packages (from requests->transformers) (3.0.4)\n",
            "Requirement already satisfied: joblib in /usr/local/lib/python3.7/dist-packages (from sacremoses->transformers) (1.0.1)\n",
            "Requirement already satisfied: click in /usr/local/lib/python3.7/dist-packages (from sacremoses->transformers) (7.1.2)\n",
            "Requirement already satisfied: six in /usr/local/lib/python3.7/dist-packages (from sacremoses->transformers) (1.15.0)\n",
            "Installing collected packages: numpy\n",
            "  Attempting uninstall: numpy\n",
            "    Found existing installation: numpy 1.16.4\n",
            "    Uninstalling numpy-1.16.4:\n",
            "      Successfully uninstalled numpy-1.16.4\n",
            "\u001b[31mERROR: pip's dependency resolver does not currently take into account all the packages that are installed. This behaviour is the source of the following dependency conflicts.\n",
            "xarray 0.18.2 requires pandas>=1.0, but you have pandas 0.24.2 which is incompatible.\n",
            "torchtext 0.10.0 requires torch==1.9.0, but you have torch 1.6.0 which is incompatible.\n",
            "tensorflow-probability 0.14.1 requires gast>=0.3.2, but you have gast 0.2.2 which is incompatible.\n",
            "spacy 2.2.4 requires tqdm<5.0.0,>=4.38.0, but you have tqdm 4.32.2 which is incompatible.\n",
            "plotnine 0.6.0 requires pandas>=0.25.0, but you have pandas 0.24.2 which is incompatible.\n",
            "mizani 0.6.0 requires pandas>=0.25.0, but you have pandas 0.24.2 which is incompatible.\n",
            "kapre 0.3.5 requires tensorflow>=2.0.0, but you have tensorflow 1.14.0 which is incompatible.\n",
            "google-colab 1.0.0 requires pandas~=1.1.0; python_version >= \"3.0\", but you have pandas 0.24.2 which is incompatible.\n",
            "google-colab 1.0.0 requires requests~=2.23.0, but you have requests 2.22.0 which is incompatible.\n",
            "fbprophet 0.7.1 requires pandas>=1.0.4, but you have pandas 0.24.2 which is incompatible.\n",
            "fbprophet 0.7.1 requires tqdm>=4.36.1, but you have tqdm 4.32.2 which is incompatible.\n",
            "deeppavlov 0.5.0 requires numpy==1.16.4, but you have numpy 1.21.3 which is incompatible.\n",
            "datascience 0.10.6 requires folium==0.2.1, but you have folium 0.8.3 which is incompatible.\n",
            "albumentations 0.1.12 requires imgaug<0.2.7,>=0.2.5, but you have imgaug 0.2.9 which is incompatible.\u001b[0m\n",
            "Successfully installed numpy-1.21.3\n"
          ]
        },
        {
          "output_type": "display_data",
          "data": {
            "application/vnd.colab-display-data+json": {
              "pip_warning": {
                "packages": [
                  "numpy"
                ]
              }
            }
          },
          "metadata": {}
        }
      ]
    },
    {
      "cell_type": "code",
      "metadata": {
        "colab": {
          "base_uri": "https://localhost:8080/",
          "height": 316,
          "referenced_widgets": [
            "57da68a91688439f9bd8a689be9032e3",
            "177db148658b423c992afe38c6055827",
            "afcb6b9ceb584ff2847d74cbae78b747",
            "d9edf7f9a04d4a8490826f013f789d61",
            "1f3cfa1662f74cdc9ec0f7bb80e2c655",
            "0aff4be900b540b18ce210b8f8b8a094",
            "fd57d3779a284b01b23ad403f0db8f8e",
            "1511934e8e774968863b6d598ae6a82c",
            "183c57076596459c9dd926f1d9271d39",
            "b6ef98f5c7874367a1f677563421db15",
            "19f077c84e3943a8b401211f6eb1c7b9",
            "47171d4f08d54d2794c79b80ba90fed6",
            "a4f41459740c4acdbb8eebb77aa77aed",
            "c5e0b00c9a3f4331b913bfbcd1eb56f1",
            "9bde820bbdcf47828b71314dac908680",
            "dfc0b63bbb6d472c8fcf9c0214746e22",
            "c663c4dcb19b477ea456e05251fb9705",
            "075de14e47844feda56d498bb6ff0991",
            "246728faf3bf44fb97ca380eb8ea753a",
            "2172368e09134b77a1b41feec3b68e6d",
            "e5f9bb61e0e949cf8e018f7e8f40b714",
            "cc361aee59344bbc80ae185c2d91cda6",
            "09b1054a61d9437eaf9141e23444f801",
            "3427f6dcb7ec458fa17de0cb5b037831",
            "0a238b9f9c6240b986ee8d859d77b065",
            "4f1bca58be8b478fbb322057c81c0e46",
            "03ac6ebafd6d430986d1357250a83b58",
            "e58ef81d02554e32aa5623ca2b80041b",
            "f27becb57b394b449bd3f0f3bbedafa5",
            "cab90b3f4300478195a806ae543b3199",
            "5ce61a03e00c4f49a9bb3c8487e0c82d",
            "902b9e6a94e74b65a54e43ea02b0f4d7",
            "7be9599615014da99e8458bdd3cde544",
            "4fe2c7de4079410baae2fb1ed1d9836a",
            "3eb122ee4d5f47849ec192f28ed4b497",
            "d9a7d6ce8e8b43308b3d077f58ac5ee1",
            "2440c2b9aa2541ec91c6a78a4e3a6989",
            "abd0c8b888e04931900e06db51e05071",
            "f07ac5aac5a84c4abcdbd27178798750",
            "450d72c409fa4d5792dde67b66a96c68"
          ]
        },
        "id": "RNDNCB3VRpZo",
        "outputId": "92628db4-2623-4108-d5a1-985ff068bc46"
      },
      "source": [
        "from transformers import DPRReader, DPRReaderTokenizer\n",
        "tokenizer = DPRReaderTokenizer.from_pretrained('facebook/dpr-reader-single-nq-base')\n",
        "model = DPRReader.from_pretrained('facebook/dpr-reader-single-nq-base')\n",
        "encoded_inputs = tokenizer(\n",
        "        questions=[\"What is love ?\"],\n",
        "        titles=[\"Haddaway\"],\n",
        "        texts=[\"'What Is Love' is a song recorded by the artist Haddaway\"],\n",
        "        return_tensors='pt'\n",
        "    )"
      ],
      "execution_count": null,
      "outputs": [
        {
          "output_type": "stream",
          "name": "stderr",
          "text": [
            "/usr/local/lib/python3.7/dist-packages/cryptography/hazmat/backends/openssl/x509.py:18: CryptographyDeprecationWarning: This version of cryptography contains a temporary pyOpenSSL fallback path. Upgrade pyOpenSSL now.\n",
            "  utils.DeprecatedIn35,\n"
          ]
        },
        {
          "output_type": "display_data",
          "data": {
            "application/vnd.jupyter.widget-view+json": {
              "model_id": "57da68a91688439f9bd8a689be9032e3",
              "version_minor": 0,
              "version_major": 2
            },
            "text/plain": [
              "HBox(children=(IntProgress(value=0, description='Downloading', max=231508, style=ProgressStyle(description_wid…"
            ]
          },
          "metadata": {}
        },
        {
          "output_type": "stream",
          "name": "stdout",
          "text": [
            "\n"
          ]
        },
        {
          "output_type": "display_data",
          "data": {
            "application/vnd.jupyter.widget-view+json": {
              "model_id": "183c57076596459c9dd926f1d9271d39",
              "version_minor": 0,
              "version_major": 2
            },
            "text/plain": [
              "HBox(children=(IntProgress(value=0, description='Downloading', max=466062, style=ProgressStyle(description_wid…"
            ]
          },
          "metadata": {}
        },
        {
          "output_type": "stream",
          "name": "stdout",
          "text": [
            "\n"
          ]
        },
        {
          "output_type": "display_data",
          "data": {
            "application/vnd.jupyter.widget-view+json": {
              "model_id": "c663c4dcb19b477ea456e05251fb9705",
              "version_minor": 0,
              "version_major": 2
            },
            "text/plain": [
              "HBox(children=(IntProgress(value=0, description='Downloading', max=28, style=ProgressStyle(description_width='…"
            ]
          },
          "metadata": {}
        },
        {
          "output_type": "stream",
          "name": "stdout",
          "text": [
            "\n"
          ]
        },
        {
          "output_type": "display_data",
          "data": {
            "application/vnd.jupyter.widget-view+json": {
              "model_id": "0a238b9f9c6240b986ee8d859d77b065",
              "version_minor": 0,
              "version_major": 2
            },
            "text/plain": [
              "HBox(children=(IntProgress(value=0, description='Downloading', max=484, style=ProgressStyle(description_width=…"
            ]
          },
          "metadata": {}
        },
        {
          "output_type": "stream",
          "name": "stdout",
          "text": [
            "\n"
          ]
        },
        {
          "output_type": "display_data",
          "data": {
            "application/vnd.jupyter.widget-view+json": {
              "model_id": "7be9599615014da99e8458bdd3cde544",
              "version_minor": 0,
              "version_major": 2
            },
            "text/plain": [
              "HBox(children=(IntProgress(value=0, description='Downloading', max=437998572, style=ProgressStyle(description_…"
            ]
          },
          "metadata": {}
        },
        {
          "output_type": "stream",
          "name": "stdout",
          "text": [
            "\n"
          ]
        }
      ]
    },
    {
      "cell_type": "markdown",
      "metadata": {
        "id": "oWqlaGhlzMMg"
      },
      "source": [
        "Подадим на вход модели полученные представления, на выходе модели для каждого токена получим оценки того, что данный токен является началом ответа или концом ответа, а также степени релевантности заданного вопроса к ответу."
      ]
    },
    {
      "cell_type": "code",
      "metadata": {
        "colab": {
          "base_uri": "https://localhost:8080/"
        },
        "id": "GseyRrGBzLBf",
        "outputId": "72c53aeb-5b26-4ad0-b6ae-3f0b53586e6d"
      },
      "source": [
        "outputs = model(**encoded_inputs)\n",
        "\n",
        "start_logits = outputs.start_logits\n",
        "end_logits = outputs.end_logits\n",
        "relevance_logits = outputs.relevance_logits\n",
        "print(relevance_logits)"
      ],
      "execution_count": null,
      "outputs": [
        {
          "name": "stdout",
          "output_type": "stream",
          "text": [
            "tensor([-1.2456], grad_fn=<ViewBackward>)\n"
          ]
        }
      ]
    },
    {
      "cell_type": "markdown",
      "metadata": {
        "id": "eZ3Nb_Qmz7UM"
      },
      "source": [
        "Получим индексы токенов с наиболее вероятными значениями начала и конца вопроса:"
      ]
    },
    {
      "cell_type": "code",
      "metadata": {
        "id": "i7ToB8DJSueh"
      },
      "source": [
        "answer_start = torch.argmax(start_logits)  # Get the most likely beginning of answer with the argmax of the score\n",
        "answer_end = torch.argmax(end_logits) + 1  # Get the most likely end of answer with the argmax of the score"
      ],
      "execution_count": null,
      "outputs": []
    },
    {
      "cell_type": "markdown",
      "metadata": {
        "id": "Rb8Q8OzU0b4G"
      },
      "source": [
        "Сформируем итоговый ответ в виде стороки:"
      ]
    },
    {
      "cell_type": "code",
      "metadata": {
        "colab": {
          "base_uri": "https://localhost:8080/"
        },
        "id": "q1GztBWtpkTZ",
        "outputId": "a8a1d127-d2d1-4913-c0a7-f26a7188af2b"
      },
      "source": [
        "answer = tokenizer.convert_tokens_to_string(tokenizer.convert_ids_to_tokens(encoded_inputs['input_ids'][0][answer_start:answer_end]))\n",
        "\n",
        "# print(f\"Question: {question}\")\n",
        "print(f\"Answer: {answer}\\n\")"
      ],
      "execution_count": null,
      "outputs": [
        {
          "name": "stdout",
          "output_type": "stream",
          "text": [
            "Answer: a song\n",
            "\n"
          ]
        }
      ]
    },
    {
      "cell_type": "markdown",
      "metadata": {
        "id": "58FHnGW20g92"
      },
      "source": [
        "Рассмотрим пример с несколькими вопросами для одного абзаца, для этого в модель нужно передать список вопросов, пассажей и заголовков:"
      ]
    },
    {
      "cell_type": "code",
      "metadata": {
        "colab": {
          "base_uri": "https://localhost:8080/"
        },
        "id": "LLQddZUxBhMg",
        "outputId": "470c3ca1-654d-4ab4-827b-83aeb23a0236"
      },
      "source": [
        "text = r\"\"\"\n",
        "🤗 Transformers (formerly known as pytorch-transformers and pytorch-pretrained-bert) provides general-purpose\n",
        "architectures (BERT, GPT-2, RoBERTa, XLM, DistilBert, XLNet…) for Natural Language Understanding (NLU) and Natural\n",
        "Language Generation (NLG) with over 32+ pretrained models in 100+ languages and deep interoperability between\n",
        "TensorFlow 2.0 and PyTorch.\n",
        "\"\"\"\n",
        "\n",
        "questions = [\n",
        "    \"How many pretrained models are available in Transformers?\",\n",
        "    \"What does Transformers provide?\",\n",
        "    \"Transformers provides interoperability between which frameworks?\",\n",
        "]\n",
        "\n",
        "title = \"Transformers\"\n",
        "\n",
        "encoded_inputs = tokenizer(\n",
        "        questions=questions,\n",
        "        titles=[title] * 3,\n",
        "        texts=[text] * 3,\n",
        "        return_tensors='pt',\n",
        "        truncation=True,\n",
        "        padding=True\n",
        "    )\n",
        "outputs = model(**encoded_inputs)\n",
        "answer_start_scores = outputs[\"start_logits\"]\n",
        "answer_end_scores = outputs[\"end_logits\"]\n",
        "\n",
        "answer_starts = torch.argmax(answer_start_scores, dim=1)  # Get the most likely beginning of answer with the argmax of the score\n",
        "answer_ends = torch.argmax(answer_end_scores, dim=1) + 1  # Get the most likely end of answer with the argmax of the score\n",
        "\n",
        "answers = [tokenizer.convert_tokens_to_string(tokenizer.convert_ids_to_tokens(encoded_inputs['input_ids'][0][answer_start:answer_end])) \\\n",
        "          for answer_start, answer_end in zip(answer_starts, answer_ends)]\n",
        "\n",
        "for question, answer in zip(questions, answers):\n",
        "    print(f\"Question: {question}\")\n",
        "    print(f\"Answer: {answer}\\n\")"
      ],
      "execution_count": null,
      "outputs": [
        {
          "name": "stdout",
          "output_type": "stream",
          "text": [
            "Question: How many pretrained models are available in Transformers?\n",
            "Answer: over 32 +\n",
            "\n",
            "Question: What does Transformers provide?\n",
            "Answer: ##trained - bert )\n",
            "\n",
            "Question: Transformers provides interoperability between which frameworks?\n",
            "Answer: provides general - purpose architecture\n",
            "\n"
          ]
        }
      ]
    },
    {
      "cell_type": "markdown",
      "metadata": {
        "id": "UQADlhyy_ZHX"
      },
      "source": [
        "### Deeppavlov and SberQUAD"
      ]
    },
    {
      "cell_type": "markdown",
      "metadata": {
        "id": "2NAseRrFBEIJ"
      },
      "source": [
        "Источник: https://medium.com/deeppavlov/developing-qa-systems-for-any-language-with-deeppavlov-a9033d5231a8"
      ]
    },
    {
      "cell_type": "code",
      "metadata": {
        "colab": {
          "base_uri": "https://localhost:8080/"
        },
        "id": "JuDadVgsJmhs",
        "outputId": "0a60468b-a8a4-4155-d376-5393057367e8"
      },
      "source": [
        "!pip install deeppavlov"
      ],
      "execution_count": null,
      "outputs": [
        {
          "output_type": "stream",
          "name": "stdout",
          "text": [
            "Requirement already satisfied: deeppavlov in /usr/local/lib/python3.7/dist-packages (0.5.0)\n",
            "Requirement already satisfied: flask==1.1.1 in /usr/local/lib/python3.7/dist-packages (from deeppavlov) (1.1.1)\n",
            "Requirement already satisfied: flasgger==0.9.2 in /usr/local/lib/python3.7/dist-packages (from deeppavlov) (0.9.2)\n",
            "Requirement already satisfied: pymorphy2==0.8 in /usr/local/lib/python3.7/dist-packages (from deeppavlov) (0.8)\n",
            "Requirement already satisfied: pytelegrambotapi==3.6.6 in /usr/local/lib/python3.7/dist-packages (from deeppavlov) (3.6.6)\n",
            "Requirement already satisfied: requests==2.22.0 in /usr/local/lib/python3.7/dist-packages (from deeppavlov) (2.22.0)\n",
            "Requirement already satisfied: pyopenssl==19.0.0 in /usr/local/lib/python3.7/dist-packages (from deeppavlov) (19.0.0)\n",
            "Requirement already satisfied: rusenttokenize==0.0.5 in /usr/local/lib/python3.7/dist-packages (from deeppavlov) (0.0.5)\n",
            "Requirement already satisfied: fuzzywuzzy==0.17.0 in /usr/local/lib/python3.7/dist-packages (from deeppavlov) (0.17.0)\n",
            "Requirement already satisfied: overrides==1.9 in /usr/local/lib/python3.7/dist-packages (from deeppavlov) (1.9)\n",
            "Requirement already satisfied: scikit-learn==0.21.2 in /usr/local/lib/python3.7/dist-packages (from deeppavlov) (0.21.2)\n",
            "Requirement already satisfied: nltk==3.2.5 in /usr/local/lib/python3.7/dist-packages (from deeppavlov) (3.2.5)\n",
            "Requirement already satisfied: Cython==0.29.12 in /usr/local/lib/python3.7/dist-packages (from deeppavlov) (0.29.12)\n",
            "Requirement already satisfied: pymorphy2-dicts-ru in /usr/local/lib/python3.7/dist-packages (from deeppavlov) (2.4.417127.4579844)\n",
            "Requirement already satisfied: tqdm==4.32.2 in /usr/local/lib/python3.7/dist-packages (from deeppavlov) (4.32.2)\n",
            "Requirement already satisfied: flask-cors==3.0.8 in /usr/local/lib/python3.7/dist-packages (from deeppavlov) (3.0.8)\n",
            "Requirement already satisfied: h5py==2.9.0 in /usr/local/lib/python3.7/dist-packages (from deeppavlov) (2.9.0)\n",
            "Requirement already satisfied: keras==2.2.4 in /usr/local/lib/python3.7/dist-packages (from deeppavlov) (2.2.4)\n",
            "Requirement already satisfied: scipy==1.3.0 in /usr/local/lib/python3.7/dist-packages (from deeppavlov) (1.3.0)\n",
            "Requirement already satisfied: pandas==0.24.2 in /usr/local/lib/python3.7/dist-packages (from deeppavlov) (0.24.2)\n",
            "Requirement already satisfied: numpy==1.16.4 in /usr/local/lib/python3.7/dist-packages (from deeppavlov) (1.16.4)\n",
            "Requirement already satisfied: jsonschema>=2.5.1 in /usr/local/lib/python3.7/dist-packages (from flasgger==0.9.2->deeppavlov) (2.6.0)\n",
            "Requirement already satisfied: mistune in /usr/local/lib/python3.7/dist-packages (from flasgger==0.9.2->deeppavlov) (0.8.4)\n",
            "Requirement already satisfied: PyYAML>=3.0 in /usr/local/lib/python3.7/dist-packages (from flasgger==0.9.2->deeppavlov) (6.0)\n",
            "Requirement already satisfied: six>=1.10.0 in /usr/local/lib/python3.7/dist-packages (from flasgger==0.9.2->deeppavlov) (1.15.0)\n",
            "Requirement already satisfied: Jinja2>=2.10.1 in /usr/local/lib/python3.7/dist-packages (from flask==1.1.1->deeppavlov) (2.11.3)\n",
            "Requirement already satisfied: Werkzeug>=0.15 in /usr/local/lib/python3.7/dist-packages (from flask==1.1.1->deeppavlov) (1.0.1)\n",
            "Requirement already satisfied: click>=5.1 in /usr/local/lib/python3.7/dist-packages (from flask==1.1.1->deeppavlov) (7.1.2)\n",
            "Requirement already satisfied: itsdangerous>=0.24 in /usr/local/lib/python3.7/dist-packages (from flask==1.1.1->deeppavlov) (1.1.0)\n",
            "Requirement already satisfied: keras-preprocessing>=1.0.5 in /usr/local/lib/python3.7/dist-packages (from keras==2.2.4->deeppavlov) (1.1.2)\n",
            "Requirement already satisfied: keras-applications>=1.0.6 in /usr/local/lib/python3.7/dist-packages (from keras==2.2.4->deeppavlov) (1.0.8)\n",
            "Requirement already satisfied: python-dateutil>=2.5.0 in /usr/local/lib/python3.7/dist-packages (from pandas==0.24.2->deeppavlov) (2.8.2)\n",
            "Requirement already satisfied: pytz>=2011k in /usr/local/lib/python3.7/dist-packages (from pandas==0.24.2->deeppavlov) (2019.1)\n",
            "Requirement already satisfied: docopt>=0.6 in /usr/local/lib/python3.7/dist-packages (from pymorphy2==0.8->deeppavlov) (0.6.2)\n",
            "Requirement already satisfied: pymorphy2-dicts<3.0,>=2.4 in /usr/local/lib/python3.7/dist-packages (from pymorphy2==0.8->deeppavlov) (2.4.393442.3710985)\n",
            "Requirement already satisfied: dawg-python>=0.7 in /usr/local/lib/python3.7/dist-packages (from pymorphy2==0.8->deeppavlov) (0.7.2)\n",
            "Requirement already satisfied: cryptography>=2.3 in /usr/local/lib/python3.7/dist-packages (from pyopenssl==19.0.0->deeppavlov) (35.0.0)\n",
            "Requirement already satisfied: chardet<3.1.0,>=3.0.2 in /usr/local/lib/python3.7/dist-packages (from requests==2.22.0->deeppavlov) (3.0.4)\n",
            "Requirement already satisfied: certifi>=2017.4.17 in /usr/local/lib/python3.7/dist-packages (from requests==2.22.0->deeppavlov) (2021.5.30)\n",
            "Requirement already satisfied: urllib3!=1.25.0,!=1.25.1,<1.26,>=1.21.1 in /usr/local/lib/python3.7/dist-packages (from requests==2.22.0->deeppavlov) (1.24.3)\n",
            "Requirement already satisfied: idna<2.9,>=2.5 in /usr/local/lib/python3.7/dist-packages (from requests==2.22.0->deeppavlov) (2.8)\n",
            "Requirement already satisfied: joblib>=0.11 in /usr/local/lib/python3.7/dist-packages (from scikit-learn==0.21.2->deeppavlov) (1.0.1)\n",
            "Requirement already satisfied: cffi>=1.12 in /usr/local/lib/python3.7/dist-packages (from cryptography>=2.3->pyopenssl==19.0.0->deeppavlov) (1.14.6)\n",
            "Requirement already satisfied: pycparser in /usr/local/lib/python3.7/dist-packages (from cffi>=1.12->cryptography>=2.3->pyopenssl==19.0.0->deeppavlov) (2.20)\n",
            "Requirement already satisfied: MarkupSafe>=0.23 in /usr/local/lib/python3.7/dist-packages (from Jinja2>=2.10.1->flask==1.1.1->deeppavlov) (2.0.1)\n"
          ]
        }
      ]
    },
    {
      "cell_type": "code",
      "metadata": {
        "colab": {
          "base_uri": "https://localhost:8080/"
        },
        "id": "aB8___uKPmFH",
        "outputId": "d5a75600-b96d-4cd4-e85d-6bac1d13c9c3"
      },
      "source": [
        "!python -m deeppavlov install squad_ru_rubert_infer"
      ],
      "execution_count": null,
      "outputs": [
        {
          "output_type": "stream",
          "name": "stdout",
          "text": [
            "2021-10-28 14:33:01.784 INFO in 'deeppavlov.core.common.file'['file'] at line 30: Interpreting 'squad_ru_rubert_infer' as '/usr/local/lib/python3.7/dist-packages/deeppavlov/configs/squad/squad_ru_rubert_infer.json'\n",
            "Requirement already satisfied: tensorflow==1.14.0 in /usr/local/lib/python3.7/dist-packages (1.14.0)\n",
            "Requirement already satisfied: tensorboard<1.15.0,>=1.14.0 in /usr/local/lib/python3.7/dist-packages (from tensorflow==1.14.0) (1.14.0)\n",
            "Requirement already satisfied: keras-preprocessing>=1.0.5 in /usr/local/lib/python3.7/dist-packages (from tensorflow==1.14.0) (1.1.2)\n",
            "Requirement already satisfied: tensorflow-estimator<1.15.0rc0,>=1.14.0rc0 in /usr/local/lib/python3.7/dist-packages (from tensorflow==1.14.0) (1.14.0)\n",
            "Requirement already satisfied: termcolor>=1.1.0 in /usr/local/lib/python3.7/dist-packages (from tensorflow==1.14.0) (1.1.0)\n",
            "Requirement already satisfied: grpcio>=1.8.6 in /usr/local/lib/python3.7/dist-packages (from tensorflow==1.14.0) (1.41.0)\n",
            "Requirement already satisfied: google-pasta>=0.1.6 in /usr/local/lib/python3.7/dist-packages (from tensorflow==1.14.0) (0.2.0)\n",
            "Requirement already satisfied: gast>=0.2.0 in /usr/local/lib/python3.7/dist-packages (from tensorflow==1.14.0) (0.2.2)\n",
            "Requirement already satisfied: numpy<2.0,>=1.14.5 in /usr/local/lib/python3.7/dist-packages (from tensorflow==1.14.0) (1.16.4)\n",
            "Requirement already satisfied: wrapt>=1.11.1 in /usr/local/lib/python3.7/dist-packages (from tensorflow==1.14.0) (1.12.1)\n",
            "Requirement already satisfied: six>=1.10.0 in /usr/local/lib/python3.7/dist-packages (from tensorflow==1.14.0) (1.15.0)\n",
            "Requirement already satisfied: wheel>=0.26 in /usr/local/lib/python3.7/dist-packages (from tensorflow==1.14.0) (0.37.0)\n",
            "Requirement already satisfied: astor>=0.6.0 in /usr/local/lib/python3.7/dist-packages (from tensorflow==1.14.0) (0.8.1)\n",
            "Requirement already satisfied: keras-applications>=1.0.6 in /usr/local/lib/python3.7/dist-packages (from tensorflow==1.14.0) (1.0.8)\n",
            "Requirement already satisfied: protobuf>=3.6.1 in /usr/local/lib/python3.7/dist-packages (from tensorflow==1.14.0) (3.17.3)\n",
            "Requirement already satisfied: absl-py>=0.7.0 in /usr/local/lib/python3.7/dist-packages (from tensorflow==1.14.0) (0.12.0)\n",
            "Requirement already satisfied: h5py in /usr/local/lib/python3.7/dist-packages (from keras-applications>=1.0.6->tensorflow==1.14.0) (2.9.0)\n",
            "Requirement already satisfied: werkzeug>=0.11.15 in /usr/local/lib/python3.7/dist-packages (from tensorboard<1.15.0,>=1.14.0->tensorflow==1.14.0) (1.0.1)\n",
            "Requirement already satisfied: setuptools>=41.0.0 in /usr/local/lib/python3.7/dist-packages (from tensorboard<1.15.0,>=1.14.0->tensorflow==1.14.0) (57.4.0)\n",
            "Requirement already satisfied: markdown>=2.6.8 in /usr/local/lib/python3.7/dist-packages (from tensorboard<1.15.0,>=1.14.0->tensorflow==1.14.0) (3.3.4)\n",
            "Requirement already satisfied: importlib-metadata in /usr/local/lib/python3.7/dist-packages (from markdown>=2.6.8->tensorboard<1.15.0,>=1.14.0->tensorflow==1.14.0) (4.8.1)\n",
            "Requirement already satisfied: typing-extensions>=3.6.4 in /usr/local/lib/python3.7/dist-packages (from importlib-metadata->markdown>=2.6.8->tensorboard<1.15.0,>=1.14.0->tensorflow==1.14.0) (3.7.4.3)\n",
            "Requirement already satisfied: zipp>=0.5 in /usr/local/lib/python3.7/dist-packages (from importlib-metadata->markdown>=2.6.8->tensorboard<1.15.0,>=1.14.0->tensorflow==1.14.0) (3.6.0)\n",
            "Collecting git+https://github.com/deepmipt/bert.git@feat/multi_gpu\n",
            "  Cloning https://github.com/deepmipt/bert.git (to revision feat/multi_gpu) to /tmp/pip-req-build-ahtq31a7\n",
            "  Running command git clone -q https://github.com/deepmipt/bert.git /tmp/pip-req-build-ahtq31a7\n"
          ]
        }
      ]
    },
    {
      "cell_type": "code",
      "metadata": {
        "colab": {
          "base_uri": "https://localhost:8080/"
        },
        "id": "iT-fs2QlB4kW",
        "outputId": "3d1fb961-aaa7-4111-c756-8103c181796c"
      },
      "source": [
        "from deeppavlov import build_model, configs\n",
        "\n",
        "model_qa = build_model(configs.squad.squad_ru_rubert_infer, download=True)\n",
        "model_qa([\"Атмосфе́рные оса́дки (также — гидрометео́ры) — атмосферные явления, \\\n",
        "связанные с присутствием в атмосфере воды в жидком или твёрдом состоянии, \\\n",
        "выпадающей из облаков или осаждающейся из воздуха на земную поверхность и какие-либо предметы.\"],\n",
        "         [\"Куда осаждается вода?\"])"
      ],
      "execution_count": null,
      "outputs": [
        {
          "output_type": "stream",
          "name": "stderr",
          "text": [
            "/usr/local/lib/python3.7/dist-packages/cryptography/hazmat/backends/openssl/x509.py:18: CryptographyDeprecationWarning: This version of cryptography contains a temporary pyOpenSSL fallback path. Upgrade pyOpenSSL now.\n",
            "  utils.DeprecatedIn35,\n",
            "2021-10-28 14:33:12.805 INFO in 'deeppavlov.download'['download'] at line 116: Skipped http://files.deeppavlov.ai/deeppavlov_data/squad_model_ru_rubert.tar.gz download because of matching hashes\n",
            "2021-10-28 14:33:14.956 INFO in 'deeppavlov.download'['download'] at line 116: Skipped http://files.deeppavlov.ai/deeppavlov_data/bert/rubert_cased_L-12_H-768_A-12_v1.tar.gz download because of matching hashes\n",
            "[nltk_data] Downloading package punkt to /root/nltk_data...\n",
            "[nltk_data]   Package punkt is already up-to-date!\n",
            "[nltk_data] Downloading package stopwords to /root/nltk_data...\n",
            "[nltk_data]   Package stopwords is already up-to-date!\n",
            "[nltk_data] Downloading package perluniprops to /root/nltk_data...\n",
            "[nltk_data]   Package perluniprops is already up-to-date!\n",
            "[nltk_data] Downloading package nonbreaking_prefixes to\n",
            "[nltk_data]     /root/nltk_data...\n",
            "[nltk_data]   Package nonbreaking_prefixes is already up-to-date!\n"
          ]
        },
        {
          "output_type": "stream",
          "name": "stdout",
          "text": [
            "WARNING:tensorflow:From /usr/local/lib/python3.7/dist-packages/deeppavlov/core/models/tf_model.py:38: The name tf.Session is deprecated. Please use tf.compat.v1.Session instead.\n",
            "\n",
            "WARNING:tensorflow:From /usr/local/lib/python3.7/dist-packages/deeppavlov/core/models/tf_model.py:223: The name tf.placeholder is deprecated. Please use tf.compat.v1.placeholder instead.\n",
            "\n",
            "WARNING:tensorflow:From /usr/local/lib/python3.7/dist-packages/deeppavlov/core/models/tf_model.py:223: The name tf.train.Optimizer is deprecated. Please use tf.compat.v1.train.Optimizer instead.\n",
            "\n",
            "WARNING:tensorflow:From /usr/local/lib/python3.7/dist-packages/bert_dp/tokenization.py:125: The name tf.gfile.GFile is deprecated. Please use tf.io.gfile.GFile instead.\n",
            "\n",
            "WARNING:tensorflow:From /usr/local/lib/python3.7/dist-packages/deeppavlov/core/models/tf_model.py:194: The name tf.train.AdamOptimizer is deprecated. Please use tf.compat.v1.train.AdamOptimizer instead.\n",
            "\n",
            "WARNING:tensorflow:From /usr/local/lib/python3.7/dist-packages/deeppavlov/models/bert/bert_squad.py:81: The name tf.ConfigProto is deprecated. Please use tf.compat.v1.ConfigProto instead.\n",
            "\n",
            "WARNING:tensorflow:From /usr/local/lib/python3.7/dist-packages/deeppavlov/models/bert/bert_squad.py:178: The name tf.placeholder_with_default is deprecated. Please use tf.compat.v1.placeholder_with_default instead.\n",
            "\n",
            "WARNING:tensorflow:From /usr/local/lib/python3.7/dist-packages/bert_dp/modeling.py:178: The name tf.variable_scope is deprecated. Please use tf.compat.v1.variable_scope instead.\n",
            "\n"
          ]
        },
        {
          "output_type": "stream",
          "name": "stderr",
          "text": [
            "Using TensorFlow backend.\n"
          ]
        },
        {
          "output_type": "stream",
          "name": "stdout",
          "text": [
            "WARNING:tensorflow:\n",
            "The TensorFlow contrib module will not be included in TensorFlow 2.0.\n",
            "For more information, please see:\n",
            "  * https://github.com/tensorflow/community/blob/master/rfcs/20180907-contrib-sunset.md\n",
            "  * https://github.com/tensorflow/addons\n",
            "  * https://github.com/tensorflow/io (for I/O related ops)\n",
            "If you depend on functionality not listed there, please file an issue.\n",
            "\n",
            "WARNING:tensorflow:From /usr/local/lib/python3.7/dist-packages/bert_dp/modeling.py:366: calling dropout (from tensorflow.python.ops.nn_ops) with keep_prob is deprecated and will be removed in a future version.\n",
            "Instructions for updating:\n",
            "Please use `rate` instead of `keep_prob`. Rate should be set to `rate = 1 - keep_prob`.\n",
            "WARNING:tensorflow:From /usr/local/lib/python3.7/dist-packages/bert_dp/modeling.py:680: dense (from tensorflow.python.layers.core) is deprecated and will be removed in a future version.\n",
            "Instructions for updating:\n",
            "Use keras.layers.dense instead.\n",
            "WARNING:tensorflow:From /usr/local/lib/python3.7/dist-packages/deeppavlov/models/bert/bert_squad.py:166: softmax_cross_entropy_with_logits (from tensorflow.python.ops.nn_ops) is deprecated and will be removed in a future version.\n",
            "Instructions for updating:\n",
            "\n",
            "Future major versions of TensorFlow will allow gradients to flow\n",
            "into the labels input on backprop by default.\n",
            "\n",
            "See `tf.nn.softmax_cross_entropy_with_logits_v2`.\n",
            "\n",
            "WARNING:tensorflow:From /usr/local/lib/python3.7/dist-packages/deeppavlov/core/models/tf_model.py:235: The name tf.train.AdadeltaOptimizer is deprecated. Please use tf.compat.v1.train.AdadeltaOptimizer instead.\n",
            "\n",
            "WARNING:tensorflow:From /usr/local/lib/python3.7/dist-packages/deeppavlov/models/bert/bert_squad.py:94: checkpoint_exists (from tensorflow.python.training.checkpoint_management) is deprecated and will be removed in a future version.\n",
            "Instructions for updating:\n",
            "Use standard file APIs to check for files with this prefix.\n"
          ]
        },
        {
          "output_type": "stream",
          "name": "stderr",
          "text": [
            "2021-10-28 14:33:39.522 INFO in 'deeppavlov.core.models.tf_model'['tf_model'] at line 52: [loading model from /root/.deeppavlov/models/squad_ru_bert/model_rubert]\n"
          ]
        },
        {
          "output_type": "stream",
          "name": "stdout",
          "text": [
            "WARNING:tensorflow:From /usr/local/lib/python3.7/dist-packages/deeppavlov/core/models/tf_model.py:55: The name tf.train.Saver is deprecated. Please use tf.compat.v1.train.Saver instead.\n",
            "\n",
            "INFO:tensorflow:Restoring parameters from /root/.deeppavlov/models/squad_ru_bert/model_rubert\n"
          ]
        },
        {
          "output_type": "execute_result",
          "data": {
            "text/plain": [
              "[['на земную поверхность'], [192], [253907.921875]]"
            ]
          },
          "metadata": {},
          "execution_count": 6
        }
      ]
    },
    {
      "cell_type": "code",
      "metadata": {
        "colab": {
          "base_uri": "https://localhost:8080/"
        },
        "id": "NYCNFVM1GKfl",
        "outputId": "f0ad1eb1-0736-4dd3-aa50-038c780f2b8f"
      },
      "source": [
        "model_qa([\"Атмосфе́рные оса́дки (также — гидрометео́ры) — атмосферные явления, \\\n",
        "связанные с присутствием в атмосфере воды в жидком или твёрдом состоянии, \\\n",
        "выпадающей из облаков или осаждающейся из воздуха на земную поверхность и какие-либо предметы.\"],\n",
        "         [\"В каком состоянии присутствует вода в атмосфере?\"])"
      ],
      "execution_count": null,
      "outputs": [
        {
          "data": {
            "text/plain": [
              "[['в жидком или твёрдом состоянии'], [110], [2175501.25]]"
            ]
          },
          "execution_count": 3,
          "metadata": {},
          "output_type": "execute_result"
        }
      ]
    }
  ]
}