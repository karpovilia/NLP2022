{
  "cells": [
    {
      "cell_type": "code",
      "execution_count": null,
      "metadata": {
        "colab": {
          "base_uri": "https://localhost:8080/",
          "height": 520
        },
        "id": "OS0mJc_bEKKZ",
        "outputId": "b4a35a8d-a805-4145-f4b2-23a4daff30cf"
      },
      "outputs": [
        {
          "name": "stdout",
          "output_type": "stream",
          "text": [
            "Looking in indexes: https://pypi.org/simple, https://us-python.pkg.dev/colab-wheels/public/simple/\n",
            "Collecting torchdata\n",
            "  Downloading torchdata-0.4.1-cp37-cp37m-manylinux_2_17_x86_64.manylinux2014_x86_64.whl (4.4 MB)\n",
            "\u001b[K     |████████████████████████████████| 4.4 MB 3.5 MB/s \n",
            "\u001b[?25hCollecting urllib3>=1.25\n",
            "  Downloading urllib3-1.26.12-py2.py3-none-any.whl (140 kB)\n",
            "\u001b[K     |████████████████████████████████| 140 kB 61.2 MB/s \n",
            "\u001b[?25hRequirement already satisfied: torch==1.12.1 in /usr/local/lib/python3.7/dist-packages (from torchdata) (1.12.1+cu113)\n",
            "Collecting portalocker>=2.0.0\n",
            "  Downloading portalocker-2.5.1-py2.py3-none-any.whl (15 kB)\n",
            "Requirement already satisfied: requests in /usr/local/lib/python3.7/dist-packages (from torchdata) (2.23.0)\n",
            "Requirement already satisfied: typing-extensions in /usr/local/lib/python3.7/dist-packages (from torch==1.12.1->torchdata) (4.1.1)\n",
            "Requirement already satisfied: chardet<4,>=3.0.2 in /usr/local/lib/python3.7/dist-packages (from requests->torchdata) (3.0.4)\n",
            "Requirement already satisfied: certifi>=2017.4.17 in /usr/local/lib/python3.7/dist-packages (from requests->torchdata) (2022.6.15)\n",
            "Collecting urllib3>=1.25\n",
            "  Downloading urllib3-1.25.11-py2.py3-none-any.whl (127 kB)\n",
            "\u001b[K     |████████████████████████████████| 127 kB 56.9 MB/s \n",
            "\u001b[?25hRequirement already satisfied: idna<3,>=2.5 in /usr/local/lib/python3.7/dist-packages (from requests->torchdata) (2.10)\n",
            "Installing collected packages: urllib3, portalocker, torchdata\n",
            "  Attempting uninstall: urllib3\n",
            "    Found existing installation: urllib3 1.24.3\n",
            "    Uninstalling urllib3-1.24.3:\n",
            "      Successfully uninstalled urllib3-1.24.3\n",
            "Successfully installed portalocker-2.5.1 torchdata-0.4.1 urllib3-1.25.11\n"
          ]
        },
        {
          "data": {
            "application/vnd.colab-display-data+json": {
              "pip_warning": {
                "packages": [
                  "urllib3"
                ]
              }
            }
          },
          "metadata": {},
          "output_type": "display_data"
        }
      ],
      "source": [
        "!pip install torchdata"
      ]
    },
    {
      "cell_type": "markdown",
      "metadata": {
        "id": "UB6PPGWc2Orq"
      },
      "source": [
        "https://arxiv.org/abs/1301.3781"
      ]
    },
    {
      "cell_type": "code",
      "execution_count": null,
      "metadata": {
        "id": "o8LZ93_q-vK9"
      },
      "outputs": [],
      "source": [
        "import torch\n",
        "import torch.nn as nn \n",
        "from functools import partial\n",
        "from torch.utils.data import DataLoader\n",
        "from torchtext.data import to_map_style_dataset\n",
        "from torchtext.data.utils import get_tokenizer\n",
        "from torchtext.vocab import build_vocab_from_iterator\n",
        "import numpy as np"
      ]
    },
    {
      "cell_type": "code",
      "execution_count": null,
      "metadata": {
        "id": "tbu3z3SN-ywQ"
      },
      "outputs": [],
      "source": [
        "EMBED_DIMENSION = 300 \n",
        "EMBED_MAX_NORM = 1 \n",
        "\n",
        "class CBOW_Model(nn.Module):\n",
        "    def __init__(self, vocab_size: int):\n",
        "        super(CBOW_Model, self).__init__()\n",
        "        self.embeddings = nn.Embedding(\n",
        "            num_embeddings=vocab_size,\n",
        "            embedding_dim=EMBED_DIMENSION,\n",
        "            max_norm=EMBED_MAX_NORM,\n",
        "        )\n",
        "        self.linear = nn.Linear(\n",
        "            in_features=EMBED_DIMENSION,\n",
        "            out_features=vocab_size,\n",
        "        )\n",
        "\n",
        "    def forward(self, inputs_):\n",
        "        x = self.embeddings(inputs_)\n",
        "        x = self.linear(x)\n",
        "        return x\n",
        "\n",
        "\n",
        "class SkipGram_Model(nn.Module):\n",
        "    def __init__(self, vocab_size: int):\n",
        "        super(SkipGram_Model, self).__init__()\n",
        "        self.embeddings = nn.Embedding(\n",
        "            num_embeddings=vocab_size,\n",
        "            embedding_dim=EMBED_DIMENSION,\n",
        "            max_norm=EMBED_MAX_NORM,\n",
        "        )\n",
        "        self.linear = nn.Linear(\n",
        "            in_features=EMBED_DIMENSION,\n",
        "            out_features=vocab_size,\n",
        "        )\n",
        "\n",
        "    def forward(self, inputs_):\n",
        "        x = self.embeddings(inputs_)\n",
        "        x = self.linear(x)\n",
        "        return x"
      ]
    },
    {
      "cell_type": "code",
      "execution_count": null,
      "metadata": {
        "id": "DlAwIVM9GNMn"
      },
      "outputs": [],
      "source": [
        "tokenizer = get_tokenizer(\"basic_english\", language=\"en\")\n",
        "text_pipeline = lambda x: vocab(tokenizer(x))"
      ]
    },
    {
      "cell_type": "code",
      "execution_count": null,
      "metadata": {
        "id": "DKXXXb7LFtRm"
      },
      "outputs": [],
      "source": [
        "from torchtext.datasets import WikiText2, WikiText103\n",
        "\n",
        "train_data_iter = WikiText2(root=\"data/\", split=\"train\")\n",
        "valid_data_iter = WikiText2(root=\"data/\", split=\"valid\")"
      ]
    },
    {
      "cell_type": "code",
      "execution_count": null,
      "metadata": {
        "id": "UJIQlKFf_9LQ"
      },
      "outputs": [],
      "source": [
        "from torchtext.vocab import build_vocab_from_iterator\n",
        "\n",
        "vocab = build_vocab_from_iterator(map(tokenizer, train_data_iter), specials=[\"<unk>\"], min_freq=50)\n",
        "vocab.set_default_index(vocab[\"<unk>\"])"
      ]
    },
    {
      "cell_type": "code",
      "execution_count": null,
      "metadata": {
        "id": "JQfgRs8eD6q0"
      },
      "outputs": [],
      "source": [
        "CBOW_N_WORDS = 4 \n",
        "MAX_SEQUENCE_LENGTH = 256  \n",
        "\n",
        "def collate_cbow(batch, text_pipeline):\n",
        "     batch_input, batch_output = [], []\n",
        "     for text in batch:\n",
        "         text_tokens_ids = text_pipeline(text)\n",
        "         if len(text_tokens_ids) < CBOW_N_WORDS * 2 + 1:\n",
        "             continue\n",
        "         if MAX_SEQUENCE_LENGTH:\n",
        "             text_tokens_ids = text_tokens_ids[:MAX_SEQUENCE_LENGTH]\n",
        "         for idx in range(len(text_tokens_ids) - CBOW_N_WORDS * 2):\n",
        "             token_id_sequence = text_tokens_ids[idx : (idx + CBOW_N_WORDS * 2 + 1)]\n",
        "             output = token_id_sequence.pop(CBOW_N_WORDS)\n",
        "             input_ = token_id_sequence\n",
        "             batch_input.append(input_)\n",
        "             batch_output.append(output)\n",
        "     \n",
        "     batch_input = torch.tensor(batch_input, dtype=torch.long)\n",
        "     batch_output = torch.tensor(batch_output, dtype=torch.long)\n",
        "     return batch_input, batch_output"
      ]
    },
    {
      "cell_type": "code",
      "execution_count": null,
      "metadata": {
        "id": "NR0eh-JHBUw2"
      },
      "outputs": [],
      "source": [
        "from torch.utils.data import DataLoader \n",
        "from functools import partial  \n",
        "\n",
        "dataloader = DataLoader(\n",
        "         train_data_iter,\n",
        "         batch_size=96,\n",
        "         shuffle=True,         \n",
        "         collate_fn=partial(collate_cbow, text_pipeline=text_pipeline))\n",
        "\n",
        "\n",
        "val_dataloader = DataLoader(\n",
        "         valid_data_iter,\n",
        "         batch_size=96,\n",
        "         shuffle=True,         \n",
        "         collate_fn=partial(collate_cbow, text_pipeline=text_pipeline))"
      ]
    },
    {
      "cell_type": "code",
      "execution_count": null,
      "metadata": {
        "id": "MfI1-amYHHMt"
      },
      "outputs": [],
      "source": [
        "vocab_size = len(vocab.get_stoi())\n",
        "\n",
        "model = CBOW_Model(vocab_size)\n",
        "loss_fn = nn.CrossEntropyLoss()\n",
        "optimizer = torch.optim.AdamW(model.parameters(), lr=3e-5)"
      ]
    },
    {
      "cell_type": "code",
      "execution_count": null,
      "metadata": {
        "id": "JUL_oPliKah_"
      },
      "outputs": [],
      "source": [
        "DEVICE = 'cpu'"
      ]
    },
    {
      "cell_type": "code",
      "execution_count": null,
      "metadata": {
        "colab": {
          "base_uri": "https://localhost:8080/"
        },
        "id": "zqPnvmOdExjc",
        "outputId": "744fe7aa-0e0a-4ff3-9961-dad756a236e9"
      },
      "outputs": [
        {
          "name": "stdout",
          "output_type": "stream",
          "text": [
            "train_loss = 8.125571704146886\n",
            "val_loss = 8.089580249786376\n",
            "train_loss = 8.064355793565806\n",
            "val_loss = 8.02445571422577\n"
          ]
        }
      ],
      "source": [
        "for epoch in range(2):\n",
        "  model.train()\n",
        "  running_loss = []\n",
        "\n",
        "  for i, batch_data in enumerate(dataloader, 1):\n",
        "      inputs = batch_data[0]\n",
        "      labels = batch_data[1]\n",
        "\n",
        "      optimizer.zero_grad()\n",
        "      outputs = model(inputs)\n",
        "      loss = loss_fn(outputs, labels)\n",
        "      loss.backward()\n",
        "      optimizer.step()\n",
        "\n",
        "      running_loss.append(loss.item())\n",
        "\n",
        "      if i > 100:\n",
        "        break\n",
        "\n",
        "  epoch_loss = np.mean(running_loss)\n",
        "  print(f\"train_loss = {epoch_loss}\")\n",
        "\n",
        "  model.eval()\n",
        "  running_loss = []\n",
        "\n",
        "  with torch.no_grad():\n",
        "    for i, batch_data in enumerate(val_dataloader, 1):\n",
        "      inputs = batch_data[0]\n",
        "      labels = batch_data[1]\n",
        "\n",
        "      outputs = model(inputs)  \n",
        "      loss = loss_fn(outputs, labels)\n",
        "      running_loss.append(loss.item())\n",
        "      if i > 100:\n",
        "        break\n",
        "\n",
        "  epoch_loss = np.mean(running_loss)\n",
        "  print(f\"val_loss = {epoch_loss}\")"
      ]
    },
    {
      "cell_type": "code",
      "execution_count": null,
      "metadata": {
        "id": "ZaDrdf7fJw_U"
      },
      "outputs": [],
      "source": []
    }
  ],
  "metadata": {
    "colab": {
      "provenance": []
    },
    "kernelspec": {
      "display_name": "Python 3",
      "name": "python3"
    },
    "language_info": {
      "name": "python"
    }
  },
  "nbformat": 4,
  "nbformat_minor": 0
}
